{
 "cells": [
  {
   "cell_type": "code",
   "execution_count": 1,
   "id": "0db5f15f-75f7-4c00-9f58-f2b4fbab1bd6",
   "metadata": {},
   "outputs": [],
   "source": [
    "import os\n",
    "import json\n",
    "from ultralytics import YOLO\n",
    "os.environ[\"PYTORCH_CUDA_ALLOC_CONF\"]=\"expandable_segments:True\""
   ]
  },
  {
   "cell_type": "markdown",
   "id": "015cdb35-60a5-4816-ad49-bc6873640bf4",
   "metadata": {},
   "source": [
    "# Initial Training"
   ]
  },
  {
   "cell_type": "code",
   "execution_count": null,
   "id": "f1375977-4c07-4daa-8f35-d05fa0dea3e9",
   "metadata": {},
   "outputs": [],
   "source": [
    "# Train the model\n",
    "os.chdir(\"/data/mtmoore/school/CSiML_AI395T/final_project/dataset/yolov8_dataset/\")\n",
    "project=\"/data/mtmoore/school/CSiML_AI395T/final_project/models/yolo11/iterative\"\n",
    "batchsizes={ 2880: 1, 1440: 4, 720: 16, 640: 32 }\n",
    "model_name=\"11s\"\n",
    "\n",
    "for model_name in [ \"11n\", \"11s\", \"11s\" ]:\n",
    "    for imgsize in [720, 1440, 2880]:\n",
    "        for i in list(range(1, 25)) + list(range(25, 50, 5)) + list(range(60, 101, 10)):\n",
    "            \n",
    "            name = f\"{model_name}_{imgsize}imgsz_IP8M-H-SW-{i}epochs\"\n",
    "            if i > 200:\n",
    "                name = f\"{model_name}_{imgsize}imgsz_IP8M-H-SW-continuous\"\n",
    "                i=2000\n",
    "                print(\"Resuming the continuous model\")\n",
    "                \n",
    "            resume_flag = False\n",
    "            if os.path.exists(os.path.join(f\"{project}/{name}/weights/last.pt\")):\n",
    "                model = YOLO(f\"{project}/{name}/weights/last.pt\") \n",
    "                resume_flag = True\n",
    "                print(f\"Resuming {project}/{name} model\")\n",
    "            else:\n",
    "                \n",
    "                model = YOLO(f\"yolo{model_name}.pt\")  # load a pretrained model (recommended for training)\n",
    "            \n",
    "            results = model.train(resume=resume_flag, data=\"/data/mtmoore/school/CSiML_AI395T/final_project/dataset/yolov8_dataset/data.yaml\", \\\n",
    "                                  project=project, name=name, epochs=i, imgsz=imgsize, batch=batchsizes[imgsize], plots=True, val=True)\n",
    "        #name = f\"11m_{imgsize}imgsz_IP8M-H-SW-{i}epochs-val\"\n",
    "        #results_val = model.val(project=project, name=name, save_json=True, plots=True, imgsz=imgsize, batch=1)\n"
   ]
  },
  {
   "cell_type": "markdown",
   "id": "af4c76b3-5807-4027-a25f-020610fed969",
   "metadata": {},
   "source": [
    "# Resume Training"
   ]
  },
  {
   "cell_type": "code",
   "execution_count": null,
   "id": "62ad94fb-c106-47cd-afbb-8af701a19172",
   "metadata": {},
   "outputs": [],
   "source": [
    "# Train the model\n",
    "os.chdir(\"/data/mtmoore/school/CSiML_AI395T/final_project/dataset/yolov8_dataset/\")\n",
    "project=\"/data/mtmoore/school/CSiML_AI395T/final_project/models/yolo11/iterative\"\n",
    "imgsize=2880\n",
    "epoch=\"continuous\"\n",
    "model_base=\"11m\"\n",
    "camera=\"IP8M-H-SW\"\n",
    "name=f\"{model_base}_{imgsize}imgsz_{camera}-{epoch}\"\n",
    "model = YOLO(f\"{project}/{name}/weights/last.pt\") \n",
    "# Resume training\n",
    "results = model.train(resume=True, \n",
    "                      data=\"/data/mtmoore/school/CSiML_AI395T/final_project/dataset/yolov8_dataset/data.yaml\", \\\n",
    "                      project=project, \\\n",
    "                      name=name, \\\n",
    "                      epochs=2000, \\\n",
    "                      imgsz=imgsize, \n",
    "                      batch=1, \n",
    "                      plots=True, \n",
    "                      val=True)"
   ]
  },
  {
   "cell_type": "markdown",
   "id": "44577bb8-e583-47c2-b1b0-693a42380dea",
   "metadata": {},
   "source": [
    "# Separate Validation"
   ]
  },
  {
   "cell_type": "code",
   "execution_count": 4,
   "id": "343b582c-b4f8-4818-a728-8cdc3c0b5695",
   "metadata": {},
   "outputs": [
    {
     "name": "stdout",
     "output_type": "stream",
     "text": [
      "already completed /data/mtmoore/school/CSiML_AI395T/final_project/models/yolo11/iterative/11s_720imgsz_IP8M-H-SW-1epochs-val\n",
      "already completed /data/mtmoore/school/CSiML_AI395T/final_project/models/yolo11/iterative/11s_720imgsz_IP8M-H-SW-2epochs-val\n",
      "already completed /data/mtmoore/school/CSiML_AI395T/final_project/models/yolo11/iterative/11s_720imgsz_IP8M-H-SW-3epochs-val\n",
      "already completed /data/mtmoore/school/CSiML_AI395T/final_project/models/yolo11/iterative/11s_720imgsz_IP8M-H-SW-4epochs-val\n",
      "already completed /data/mtmoore/school/CSiML_AI395T/final_project/models/yolo11/iterative/11s_720imgsz_IP8M-H-SW-5epochs-val\n",
      "already completed /data/mtmoore/school/CSiML_AI395T/final_project/models/yolo11/iterative/11s_720imgsz_IP8M-H-SW-6epochs-val\n",
      "already completed /data/mtmoore/school/CSiML_AI395T/final_project/models/yolo11/iterative/11s_720imgsz_IP8M-H-SW-7epochs-val\n",
      "already completed /data/mtmoore/school/CSiML_AI395T/final_project/models/yolo11/iterative/11s_720imgsz_IP8M-H-SW-8epochs-val\n",
      "already completed /data/mtmoore/school/CSiML_AI395T/final_project/models/yolo11/iterative/11s_720imgsz_IP8M-H-SW-9epochs-val\n",
      "already completed /data/mtmoore/school/CSiML_AI395T/final_project/models/yolo11/iterative/11s_720imgsz_IP8M-H-SW-10epochs-val\n",
      "already completed /data/mtmoore/school/CSiML_AI395T/final_project/models/yolo11/iterative/11s_720imgsz_IP8M-H-SW-11epochs-val\n",
      "already completed /data/mtmoore/school/CSiML_AI395T/final_project/models/yolo11/iterative/11s_720imgsz_IP8M-H-SW-12epochs-val\n",
      "already completed /data/mtmoore/school/CSiML_AI395T/final_project/models/yolo11/iterative/11s_720imgsz_IP8M-H-SW-13epochs-val\n",
      "already completed /data/mtmoore/school/CSiML_AI395T/final_project/models/yolo11/iterative/11s_720imgsz_IP8M-H-SW-14epochs-val\n",
      "already completed /data/mtmoore/school/CSiML_AI395T/final_project/models/yolo11/iterative/11s_720imgsz_IP8M-H-SW-15epochs-val\n",
      "already completed /data/mtmoore/school/CSiML_AI395T/final_project/models/yolo11/iterative/11s_720imgsz_IP8M-H-SW-16epochs-val\n",
      "already completed /data/mtmoore/school/CSiML_AI395T/final_project/models/yolo11/iterative/11s_720imgsz_IP8M-H-SW-17epochs-val\n",
      "already completed /data/mtmoore/school/CSiML_AI395T/final_project/models/yolo11/iterative/11s_720imgsz_IP8M-H-SW-18epochs-val\n",
      "already completed /data/mtmoore/school/CSiML_AI395T/final_project/models/yolo11/iterative/11s_720imgsz_IP8M-H-SW-19epochs-val\n",
      "already completed /data/mtmoore/school/CSiML_AI395T/final_project/models/yolo11/iterative/11s_720imgsz_IP8M-H-SW-20epochs-val\n",
      "already completed /data/mtmoore/school/CSiML_AI395T/final_project/models/yolo11/iterative/11s_720imgsz_IP8M-H-SW-21epochs-val\n",
      "already completed /data/mtmoore/school/CSiML_AI395T/final_project/models/yolo11/iterative/11s_720imgsz_IP8M-H-SW-22epochs-val\n",
      "already completed /data/mtmoore/school/CSiML_AI395T/final_project/models/yolo11/iterative/11s_720imgsz_IP8M-H-SW-23epochs-val\n",
      "already completed /data/mtmoore/school/CSiML_AI395T/final_project/models/yolo11/iterative/11s_720imgsz_IP8M-H-SW-24epochs-val\n",
      "already completed /data/mtmoore/school/CSiML_AI395T/final_project/models/yolo11/iterative/11s_720imgsz_IP8M-H-SW-25epochs-val\n",
      "already completed /data/mtmoore/school/CSiML_AI395T/final_project/models/yolo11/iterative/11s_720imgsz_IP8M-H-SW-30epochs-val\n",
      "already completed /data/mtmoore/school/CSiML_AI395T/final_project/models/yolo11/iterative/11s_720imgsz_IP8M-H-SW-35epochs-val\n",
      "already completed /data/mtmoore/school/CSiML_AI395T/final_project/models/yolo11/iterative/11s_720imgsz_IP8M-H-SW-40epochs-val\n",
      "already completed /data/mtmoore/school/CSiML_AI395T/final_project/models/yolo11/iterative/11s_720imgsz_IP8M-H-SW-45epochs-val\n",
      "already completed /data/mtmoore/school/CSiML_AI395T/final_project/models/yolo11/iterative/11s_720imgsz_IP8M-H-SW-60epochs-val\n",
      "already completed /data/mtmoore/school/CSiML_AI395T/final_project/models/yolo11/iterative/11s_720imgsz_IP8M-H-SW-70epochs-val\n",
      "already completed /data/mtmoore/school/CSiML_AI395T/final_project/models/yolo11/iterative/11s_720imgsz_IP8M-H-SW-80epochs-val\n",
      "already completed /data/mtmoore/school/CSiML_AI395T/final_project/models/yolo11/iterative/11s_720imgsz_IP8M-H-SW-90epochs-val\n",
      "already completed /data/mtmoore/school/CSiML_AI395T/final_project/models/yolo11/iterative/11s_720imgsz_IP8M-H-SW-100epochs-val\n",
      "already completed /data/mtmoore/school/CSiML_AI395T/final_project/models/yolo11/iterative/11s_1440imgsz_IP8M-H-SW-1epochs-val\n",
      "already completed /data/mtmoore/school/CSiML_AI395T/final_project/models/yolo11/iterative/11s_1440imgsz_IP8M-H-SW-2epochs-val\n",
      "already completed /data/mtmoore/school/CSiML_AI395T/final_project/models/yolo11/iterative/11s_1440imgsz_IP8M-H-SW-3epochs-val\n",
      "already completed /data/mtmoore/school/CSiML_AI395T/final_project/models/yolo11/iterative/11s_1440imgsz_IP8M-H-SW-4epochs-val\n",
      "already completed /data/mtmoore/school/CSiML_AI395T/final_project/models/yolo11/iterative/11s_1440imgsz_IP8M-H-SW-5epochs-val\n",
      "already completed /data/mtmoore/school/CSiML_AI395T/final_project/models/yolo11/iterative/11s_1440imgsz_IP8M-H-SW-6epochs-val\n",
      "already completed /data/mtmoore/school/CSiML_AI395T/final_project/models/yolo11/iterative/11s_1440imgsz_IP8M-H-SW-7epochs-val\n",
      "already completed /data/mtmoore/school/CSiML_AI395T/final_project/models/yolo11/iterative/11s_1440imgsz_IP8M-H-SW-8epochs-val\n",
      "already completed /data/mtmoore/school/CSiML_AI395T/final_project/models/yolo11/iterative/11s_1440imgsz_IP8M-H-SW-9epochs-val\n",
      "already completed /data/mtmoore/school/CSiML_AI395T/final_project/models/yolo11/iterative/11s_1440imgsz_IP8M-H-SW-10epochs-val\n",
      "already completed /data/mtmoore/school/CSiML_AI395T/final_project/models/yolo11/iterative/11s_1440imgsz_IP8M-H-SW-11epochs-val\n",
      "already completed /data/mtmoore/school/CSiML_AI395T/final_project/models/yolo11/iterative/11s_1440imgsz_IP8M-H-SW-12epochs-val\n",
      "already completed /data/mtmoore/school/CSiML_AI395T/final_project/models/yolo11/iterative/11s_1440imgsz_IP8M-H-SW-13epochs-val\n",
      "already completed /data/mtmoore/school/CSiML_AI395T/final_project/models/yolo11/iterative/11s_1440imgsz_IP8M-H-SW-14epochs-val\n",
      "already completed /data/mtmoore/school/CSiML_AI395T/final_project/models/yolo11/iterative/11s_1440imgsz_IP8M-H-SW-15epochs-val\n",
      "already completed /data/mtmoore/school/CSiML_AI395T/final_project/models/yolo11/iterative/11s_1440imgsz_IP8M-H-SW-16epochs-val\n",
      "already completed /data/mtmoore/school/CSiML_AI395T/final_project/models/yolo11/iterative/11s_1440imgsz_IP8M-H-SW-17epochs-val\n",
      "already completed /data/mtmoore/school/CSiML_AI395T/final_project/models/yolo11/iterative/11s_1440imgsz_IP8M-H-SW-18epochs-val\n",
      "already completed /data/mtmoore/school/CSiML_AI395T/final_project/models/yolo11/iterative/11s_1440imgsz_IP8M-H-SW-19epochs-val\n",
      "already completed /data/mtmoore/school/CSiML_AI395T/final_project/models/yolo11/iterative/11s_1440imgsz_IP8M-H-SW-20epochs-val\n",
      "already completed /data/mtmoore/school/CSiML_AI395T/final_project/models/yolo11/iterative/11s_1440imgsz_IP8M-H-SW-21epochs-val\n",
      "already completed /data/mtmoore/school/CSiML_AI395T/final_project/models/yolo11/iterative/11s_1440imgsz_IP8M-H-SW-22epochs-val\n",
      "already completed /data/mtmoore/school/CSiML_AI395T/final_project/models/yolo11/iterative/11s_1440imgsz_IP8M-H-SW-23epochs-val\n",
      "already completed /data/mtmoore/school/CSiML_AI395T/final_project/models/yolo11/iterative/11s_1440imgsz_IP8M-H-SW-24epochs-val\n",
      "already completed /data/mtmoore/school/CSiML_AI395T/final_project/models/yolo11/iterative/11s_1440imgsz_IP8M-H-SW-25epochs-val\n",
      "already completed /data/mtmoore/school/CSiML_AI395T/final_project/models/yolo11/iterative/11s_1440imgsz_IP8M-H-SW-30epochs-val\n",
      "already completed /data/mtmoore/school/CSiML_AI395T/final_project/models/yolo11/iterative/11s_1440imgsz_IP8M-H-SW-35epochs-val\n",
      "already completed /data/mtmoore/school/CSiML_AI395T/final_project/models/yolo11/iterative/11s_1440imgsz_IP8M-H-SW-40epochs-val\n",
      "already completed /data/mtmoore/school/CSiML_AI395T/final_project/models/yolo11/iterative/11s_1440imgsz_IP8M-H-SW-45epochs-val\n",
      "already completed /data/mtmoore/school/CSiML_AI395T/final_project/models/yolo11/iterative/11s_1440imgsz_IP8M-H-SW-60epochs-val\n",
      "already completed /data/mtmoore/school/CSiML_AI395T/final_project/models/yolo11/iterative/11s_1440imgsz_IP8M-H-SW-70epochs-val\n",
      "already completed /data/mtmoore/school/CSiML_AI395T/final_project/models/yolo11/iterative/11s_1440imgsz_IP8M-H-SW-80epochs-val\n",
      "already completed /data/mtmoore/school/CSiML_AI395T/final_project/models/yolo11/iterative/11s_1440imgsz_IP8M-H-SW-90epochs-val\n",
      "already completed /data/mtmoore/school/CSiML_AI395T/final_project/models/yolo11/iterative/11s_1440imgsz_IP8M-H-SW-100epochs-val\n",
      "already completed /data/mtmoore/school/CSiML_AI395T/final_project/models/yolo11/iterative/11s_2880imgsz_IP8M-H-SW-1epochs-val\n",
      "already completed /data/mtmoore/school/CSiML_AI395T/final_project/models/yolo11/iterative/11s_2880imgsz_IP8M-H-SW-2epochs-val\n",
      "already completed /data/mtmoore/school/CSiML_AI395T/final_project/models/yolo11/iterative/11s_2880imgsz_IP8M-H-SW-3epochs-val\n",
      "already completed /data/mtmoore/school/CSiML_AI395T/final_project/models/yolo11/iterative/11s_2880imgsz_IP8M-H-SW-4epochs-val\n",
      "already completed /data/mtmoore/school/CSiML_AI395T/final_project/models/yolo11/iterative/11s_2880imgsz_IP8M-H-SW-5epochs-val\n",
      "already completed /data/mtmoore/school/CSiML_AI395T/final_project/models/yolo11/iterative/11s_2880imgsz_IP8M-H-SW-6epochs-val\n",
      "already completed /data/mtmoore/school/CSiML_AI395T/final_project/models/yolo11/iterative/11s_2880imgsz_IP8M-H-SW-7epochs-val\n",
      "already completed /data/mtmoore/school/CSiML_AI395T/final_project/models/yolo11/iterative/11s_2880imgsz_IP8M-H-SW-8epochs-val\n",
      "already completed /data/mtmoore/school/CSiML_AI395T/final_project/models/yolo11/iterative/11s_2880imgsz_IP8M-H-SW-9epochs-val\n",
      "already completed /data/mtmoore/school/CSiML_AI395T/final_project/models/yolo11/iterative/11s_2880imgsz_IP8M-H-SW-10epochs-val\n",
      "already completed /data/mtmoore/school/CSiML_AI395T/final_project/models/yolo11/iterative/11s_2880imgsz_IP8M-H-SW-11epochs-val\n",
      "already completed /data/mtmoore/school/CSiML_AI395T/final_project/models/yolo11/iterative/11s_2880imgsz_IP8M-H-SW-12epochs-val\n",
      "already completed /data/mtmoore/school/CSiML_AI395T/final_project/models/yolo11/iterative/11s_2880imgsz_IP8M-H-SW-13epochs-val\n",
      "already completed /data/mtmoore/school/CSiML_AI395T/final_project/models/yolo11/iterative/11s_2880imgsz_IP8M-H-SW-14epochs-val\n",
      "already completed /data/mtmoore/school/CSiML_AI395T/final_project/models/yolo11/iterative/11s_2880imgsz_IP8M-H-SW-15epochs-val\n",
      "already completed /data/mtmoore/school/CSiML_AI395T/final_project/models/yolo11/iterative/11s_2880imgsz_IP8M-H-SW-16epochs-val\n",
      "already completed /data/mtmoore/school/CSiML_AI395T/final_project/models/yolo11/iterative/11s_2880imgsz_IP8M-H-SW-17epochs-val\n",
      "already completed /data/mtmoore/school/CSiML_AI395T/final_project/models/yolo11/iterative/11s_2880imgsz_IP8M-H-SW-18epochs-val\n",
      "already completed /data/mtmoore/school/CSiML_AI395T/final_project/models/yolo11/iterative/11s_2880imgsz_IP8M-H-SW-19epochs-val\n",
      "already completed /data/mtmoore/school/CSiML_AI395T/final_project/models/yolo11/iterative/11s_2880imgsz_IP8M-H-SW-20epochs-val\n",
      "already completed /data/mtmoore/school/CSiML_AI395T/final_project/models/yolo11/iterative/11s_2880imgsz_IP8M-H-SW-21epochs-val\n",
      "already completed /data/mtmoore/school/CSiML_AI395T/final_project/models/yolo11/iterative/11s_2880imgsz_IP8M-H-SW-22epochs-val\n",
      "already completed /data/mtmoore/school/CSiML_AI395T/final_project/models/yolo11/iterative/11s_2880imgsz_IP8M-H-SW-23epochs-val\n",
      "already completed /data/mtmoore/school/CSiML_AI395T/final_project/models/yolo11/iterative/11s_2880imgsz_IP8M-H-SW-24epochs-val\n",
      "already completed /data/mtmoore/school/CSiML_AI395T/final_project/models/yolo11/iterative/11s_2880imgsz_IP8M-H-SW-25epochs-val\n",
      "already completed /data/mtmoore/school/CSiML_AI395T/final_project/models/yolo11/iterative/11s_2880imgsz_IP8M-H-SW-30epochs-val\n",
      "already completed /data/mtmoore/school/CSiML_AI395T/final_project/models/yolo11/iterative/11s_2880imgsz_IP8M-H-SW-35epochs-val\n",
      "already completed /data/mtmoore/school/CSiML_AI395T/final_project/models/yolo11/iterative/11s_2880imgsz_IP8M-H-SW-40epochs-val\n",
      "already completed /data/mtmoore/school/CSiML_AI395T/final_project/models/yolo11/iterative/11s_2880imgsz_IP8M-H-SW-45epochs-val\n",
      "already completed /data/mtmoore/school/CSiML_AI395T/final_project/models/yolo11/iterative/11s_2880imgsz_IP8M-H-SW-60epochs-val\n",
      "already completed /data/mtmoore/school/CSiML_AI395T/final_project/models/yolo11/iterative/11s_2880imgsz_IP8M-H-SW-70epochs-val\n",
      "already completed /data/mtmoore/school/CSiML_AI395T/final_project/models/yolo11/iterative/11s_2880imgsz_IP8M-H-SW-80epochs-val\n",
      "already completed /data/mtmoore/school/CSiML_AI395T/final_project/models/yolo11/iterative/11s_2880imgsz_IP8M-H-SW-90epochs-val\n",
      "already completed /data/mtmoore/school/CSiML_AI395T/final_project/models/yolo11/iterative/11s_2880imgsz_IP8M-H-SW-100epochs-val\n",
      "already completed /data/mtmoore/school/CSiML_AI395T/final_project/models/yolo11/iterative/11m_720imgsz_IP8M-H-SW-1epochs-val\n",
      "already completed /data/mtmoore/school/CSiML_AI395T/final_project/models/yolo11/iterative/11m_720imgsz_IP8M-H-SW-2epochs-val\n",
      "already completed /data/mtmoore/school/CSiML_AI395T/final_project/models/yolo11/iterative/11m_720imgsz_IP8M-H-SW-3epochs-val\n",
      "already completed /data/mtmoore/school/CSiML_AI395T/final_project/models/yolo11/iterative/11m_720imgsz_IP8M-H-SW-4epochs-val\n",
      "already completed /data/mtmoore/school/CSiML_AI395T/final_project/models/yolo11/iterative/11m_720imgsz_IP8M-H-SW-5epochs-val\n",
      "already completed /data/mtmoore/school/CSiML_AI395T/final_project/models/yolo11/iterative/11m_720imgsz_IP8M-H-SW-6epochs-val\n",
      "already completed /data/mtmoore/school/CSiML_AI395T/final_project/models/yolo11/iterative/11m_720imgsz_IP8M-H-SW-7epochs-val\n",
      "already completed /data/mtmoore/school/CSiML_AI395T/final_project/models/yolo11/iterative/11m_720imgsz_IP8M-H-SW-8epochs-val\n",
      "already completed /data/mtmoore/school/CSiML_AI395T/final_project/models/yolo11/iterative/11m_720imgsz_IP8M-H-SW-9epochs-val\n",
      "already completed /data/mtmoore/school/CSiML_AI395T/final_project/models/yolo11/iterative/11m_720imgsz_IP8M-H-SW-10epochs-val\n",
      "already completed /data/mtmoore/school/CSiML_AI395T/final_project/models/yolo11/iterative/11m_720imgsz_IP8M-H-SW-11epochs-val\n",
      "already completed /data/mtmoore/school/CSiML_AI395T/final_project/models/yolo11/iterative/11m_720imgsz_IP8M-H-SW-12epochs-val\n",
      "already completed /data/mtmoore/school/CSiML_AI395T/final_project/models/yolo11/iterative/11m_720imgsz_IP8M-H-SW-13epochs-val\n",
      "already completed /data/mtmoore/school/CSiML_AI395T/final_project/models/yolo11/iterative/11m_720imgsz_IP8M-H-SW-14epochs-val\n",
      "already completed /data/mtmoore/school/CSiML_AI395T/final_project/models/yolo11/iterative/11m_720imgsz_IP8M-H-SW-15epochs-val\n",
      "already completed /data/mtmoore/school/CSiML_AI395T/final_project/models/yolo11/iterative/11m_720imgsz_IP8M-H-SW-16epochs-val\n",
      "already completed /data/mtmoore/school/CSiML_AI395T/final_project/models/yolo11/iterative/11m_720imgsz_IP8M-H-SW-17epochs-val\n",
      "already completed /data/mtmoore/school/CSiML_AI395T/final_project/models/yolo11/iterative/11m_720imgsz_IP8M-H-SW-18epochs-val\n",
      "already completed /data/mtmoore/school/CSiML_AI395T/final_project/models/yolo11/iterative/11m_720imgsz_IP8M-H-SW-19epochs-val\n",
      "already completed /data/mtmoore/school/CSiML_AI395T/final_project/models/yolo11/iterative/11m_720imgsz_IP8M-H-SW-20epochs-val\n",
      "already completed /data/mtmoore/school/CSiML_AI395T/final_project/models/yolo11/iterative/11m_720imgsz_IP8M-H-SW-21epochs-val\n",
      "already completed /data/mtmoore/school/CSiML_AI395T/final_project/models/yolo11/iterative/11m_720imgsz_IP8M-H-SW-22epochs-val\n",
      "already completed /data/mtmoore/school/CSiML_AI395T/final_project/models/yolo11/iterative/11m_720imgsz_IP8M-H-SW-23epochs-val\n",
      "already completed /data/mtmoore/school/CSiML_AI395T/final_project/models/yolo11/iterative/11m_720imgsz_IP8M-H-SW-24epochs-val\n",
      "already completed /data/mtmoore/school/CSiML_AI395T/final_project/models/yolo11/iterative/11m_720imgsz_IP8M-H-SW-25epochs-val\n",
      "already completed /data/mtmoore/school/CSiML_AI395T/final_project/models/yolo11/iterative/11m_720imgsz_IP8M-H-SW-30epochs-val\n",
      "already completed /data/mtmoore/school/CSiML_AI395T/final_project/models/yolo11/iterative/11m_720imgsz_IP8M-H-SW-35epochs-val\n",
      "already completed /data/mtmoore/school/CSiML_AI395T/final_project/models/yolo11/iterative/11m_720imgsz_IP8M-H-SW-40epochs-val\n",
      "already completed /data/mtmoore/school/CSiML_AI395T/final_project/models/yolo11/iterative/11m_720imgsz_IP8M-H-SW-45epochs-val\n",
      "already completed /data/mtmoore/school/CSiML_AI395T/final_project/models/yolo11/iterative/11m_720imgsz_IP8M-H-SW-60epochs-val\n",
      "already completed /data/mtmoore/school/CSiML_AI395T/final_project/models/yolo11/iterative/11m_720imgsz_IP8M-H-SW-70epochs-val\n",
      "already completed /data/mtmoore/school/CSiML_AI395T/final_project/models/yolo11/iterative/11m_720imgsz_IP8M-H-SW-80epochs-val\n",
      "already completed /data/mtmoore/school/CSiML_AI395T/final_project/models/yolo11/iterative/11m_720imgsz_IP8M-H-SW-90epochs-val\n",
      "already completed /data/mtmoore/school/CSiML_AI395T/final_project/models/yolo11/iterative/11m_720imgsz_IP8M-H-SW-100epochs-val\n",
      "already completed /data/mtmoore/school/CSiML_AI395T/final_project/models/yolo11/iterative/11m_1440imgsz_IP8M-H-SW-1epochs-val\n",
      "already completed /data/mtmoore/school/CSiML_AI395T/final_project/models/yolo11/iterative/11m_1440imgsz_IP8M-H-SW-2epochs-val\n",
      "Ultralytics 8.3.29 🚀 Python-3.12.7 torch-2.2.2+cu121 CUDA:0 (NVIDIA GeForce RTX 4070 SUPER, 11904MiB)\n",
      "YOLO11m summary (fused): 303 layers, 20,030,803 parameters, 0 gradients, 67.6 GFLOPs\n"
     ]
    },
    {
     "name": "stderr",
     "output_type": "stream",
     "text": [
      "\u001b[34m\u001b[1mval: \u001b[0mScanning val/labels.cache... 98 images, 0 backgrounds, 0 corrupt: 100%|██████████| 98/98 [00:00<?, ?it/s]\u001b[0m\n",
      "                 Class     Images  Instances      Box(P          R      mAP50  mAP50-95): 100%|██████████| 98/98 [00:05<00:00, 19.40it/s]\n"
     ]
    },
    {
     "name": "stdout",
     "output_type": "stream",
     "text": [
      "                   all         98        205      0.642      0.439      0.451      0.186\n",
      "Speed: 6.7ms preprocess, 29.8ms inference, 0.0ms loss, 3.3ms postprocess per image\n",
      "Saving /data/mtmoore/school/CSiML_AI395T/final_project/models/yolo11/iterative/11m_1440imgsz_IP8M-H-SW-3epochs-val2/predictions.json...\n",
      "Results saved to \u001b[1m/data/mtmoore/school/CSiML_AI395T/final_project/models/yolo11/iterative/11m_1440imgsz_IP8M-H-SW-3epochs-val2\u001b[0m\n",
      "Ultralytics 8.3.29 🚀 Python-3.12.7 torch-2.2.2+cu121 CUDA:0 (NVIDIA GeForce RTX 4070 SUPER, 11904MiB)\n",
      "YOLO11m summary (fused): 303 layers, 20,030,803 parameters, 0 gradients, 67.6 GFLOPs\n"
     ]
    },
    {
     "name": "stderr",
     "output_type": "stream",
     "text": [
      "\u001b[34m\u001b[1mval: \u001b[0mScanning val/labels.cache... 98 images, 0 backgrounds, 0 corrupt: 100%|██████████| 98/98 [00:00<?, ?it/s]\u001b[0m\n",
      "                 Class     Images  Instances      Box(P          R      mAP50  mAP50-95): 100%|██████████| 98/98 [00:04<00:00, 22.13it/s]\n"
     ]
    },
    {
     "name": "stdout",
     "output_type": "stream",
     "text": [
      "                   all         98        205      0.663      0.441       0.49      0.182\n",
      "Speed: 5.0ms preprocess, 26.7ms inference, 0.0ms loss, 2.3ms postprocess per image\n",
      "Saving /data/mtmoore/school/CSiML_AI395T/final_project/models/yolo11/iterative/11m_1440imgsz_IP8M-H-SW-4epochs-val/predictions.json...\n",
      "Results saved to \u001b[1m/data/mtmoore/school/CSiML_AI395T/final_project/models/yolo11/iterative/11m_1440imgsz_IP8M-H-SW-4epochs-val\u001b[0m\n",
      "Ultralytics 8.3.29 🚀 Python-3.12.7 torch-2.2.2+cu121 CUDA:0 (NVIDIA GeForce RTX 4070 SUPER, 11904MiB)\n",
      "YOLO11m summary (fused): 303 layers, 20,030,803 parameters, 0 gradients, 67.6 GFLOPs\n"
     ]
    },
    {
     "name": "stderr",
     "output_type": "stream",
     "text": [
      "\u001b[34m\u001b[1mval: \u001b[0mScanning val/labels.cache... 98 images, 0 backgrounds, 0 corrupt: 100%|██████████| 98/98 [00:00<?, ?it/s]\u001b[0m\n",
      "                 Class     Images  Instances      Box(P          R      mAP50  mAP50-95): 100%|██████████| 98/98 [00:04<00:00, 21.80it/s]\n"
     ]
    },
    {
     "name": "stdout",
     "output_type": "stream",
     "text": [
      "                   all         98        205       0.74      0.499      0.529      0.207\n",
      "Speed: 4.8ms preprocess, 27.9ms inference, 0.0ms loss, 1.8ms postprocess per image\n",
      "Saving /data/mtmoore/school/CSiML_AI395T/final_project/models/yolo11/iterative/11m_1440imgsz_IP8M-H-SW-5epochs-val/predictions.json...\n",
      "Results saved to \u001b[1m/data/mtmoore/school/CSiML_AI395T/final_project/models/yolo11/iterative/11m_1440imgsz_IP8M-H-SW-5epochs-val\u001b[0m\n",
      "Ultralytics 8.3.29 🚀 Python-3.12.7 torch-2.2.2+cu121 CUDA:0 (NVIDIA GeForce RTX 4070 SUPER, 11904MiB)\n",
      "YOLO11m summary (fused): 303 layers, 20,030,803 parameters, 0 gradients, 67.6 GFLOPs\n"
     ]
    },
    {
     "name": "stderr",
     "output_type": "stream",
     "text": [
      "\u001b[34m\u001b[1mval: \u001b[0mScanning val/labels.cache... 98 images, 0 backgrounds, 0 corrupt: 100%|██████████| 98/98 [00:00<?, ?it/s]\u001b[0m\n",
      "                 Class     Images  Instances      Box(P          R      mAP50  mAP50-95): 100%|██████████| 98/98 [00:04<00:00, 21.04it/s]\n"
     ]
    },
    {
     "name": "stdout",
     "output_type": "stream",
     "text": [
      "                   all         98        205      0.728       0.56      0.578       0.21\n",
      "Speed: 5.6ms preprocess, 27.7ms inference, 0.0ms loss, 2.2ms postprocess per image\n",
      "Saving /data/mtmoore/school/CSiML_AI395T/final_project/models/yolo11/iterative/11m_1440imgsz_IP8M-H-SW-6epochs-val/predictions.json...\n",
      "Results saved to \u001b[1m/data/mtmoore/school/CSiML_AI395T/final_project/models/yolo11/iterative/11m_1440imgsz_IP8M-H-SW-6epochs-val\u001b[0m\n",
      "Ultralytics 8.3.29 🚀 Python-3.12.7 torch-2.2.2+cu121 CUDA:0 (NVIDIA GeForce RTX 4070 SUPER, 11904MiB)\n",
      "YOLO11m summary (fused): 303 layers, 20,030,803 parameters, 0 gradients, 67.6 GFLOPs\n"
     ]
    },
    {
     "name": "stderr",
     "output_type": "stream",
     "text": [
      "\u001b[34m\u001b[1mval: \u001b[0mScanning val/labels.cache... 98 images, 0 backgrounds, 0 corrupt: 100%|██████████| 98/98 [00:00<?, ?it/s]\u001b[0m\n",
      "                 Class     Images  Instances      Box(P          R      mAP50  mAP50-95): 100%|██████████| 98/98 [00:05<00:00, 17.71it/s]\n"
     ]
    },
    {
     "name": "stdout",
     "output_type": "stream",
     "text": [
      "                   all         98        205      0.702      0.541      0.557      0.223\n",
      "Speed: 10.1ms preprocess, 32.4ms inference, 0.0ms loss, 2.0ms postprocess per image\n",
      "Saving /data/mtmoore/school/CSiML_AI395T/final_project/models/yolo11/iterative/11m_1440imgsz_IP8M-H-SW-7epochs-val/predictions.json...\n",
      "Results saved to \u001b[1m/data/mtmoore/school/CSiML_AI395T/final_project/models/yolo11/iterative/11m_1440imgsz_IP8M-H-SW-7epochs-val\u001b[0m\n",
      "Ultralytics 8.3.29 🚀 Python-3.12.7 torch-2.2.2+cu121 CUDA:0 (NVIDIA GeForce RTX 4070 SUPER, 11904MiB)\n",
      "YOLO11m summary (fused): 303 layers, 20,030,803 parameters, 0 gradients, 67.6 GFLOPs\n"
     ]
    },
    {
     "name": "stderr",
     "output_type": "stream",
     "text": [
      "\u001b[34m\u001b[1mval: \u001b[0mScanning val/labels.cache... 98 images, 0 backgrounds, 0 corrupt: 100%|██████████| 98/98 [00:00<?, ?it/s]\u001b[0m\n",
      "                 Class     Images  Instances      Box(P          R      mAP50  mAP50-95): 100%|██████████| 98/98 [00:05<00:00, 16.64it/s]\n"
     ]
    },
    {
     "name": "stdout",
     "output_type": "stream",
     "text": [
      "                   all         98        205      0.808      0.595      0.596      0.231\n",
      "Speed: 11.6ms preprocess, 33.8ms inference, 0.0ms loss, 2.0ms postprocess per image\n",
      "Saving /data/mtmoore/school/CSiML_AI395T/final_project/models/yolo11/iterative/11m_1440imgsz_IP8M-H-SW-8epochs-val/predictions.json...\n",
      "Results saved to \u001b[1m/data/mtmoore/school/CSiML_AI395T/final_project/models/yolo11/iterative/11m_1440imgsz_IP8M-H-SW-8epochs-val\u001b[0m\n",
      "Ultralytics 8.3.29 🚀 Python-3.12.7 torch-2.2.2+cu121 CUDA:0 (NVIDIA GeForce RTX 4070 SUPER, 11904MiB)\n",
      "YOLO11m summary (fused): 303 layers, 20,030,803 parameters, 0 gradients, 67.6 GFLOPs\n"
     ]
    },
    {
     "name": "stderr",
     "output_type": "stream",
     "text": [
      "\u001b[34m\u001b[1mval: \u001b[0mScanning val/labels.cache... 98 images, 0 backgrounds, 0 corrupt: 100%|██████████| 98/98 [00:00<?, ?it/s]\u001b[0m\n",
      "                 Class     Images  Instances      Box(P          R      mAP50  mAP50-95): 100%|██████████| 98/98 [01:25<00:00,  1.15it/s]\n"
     ]
    },
    {
     "name": "stdout",
     "output_type": "stream",
     "text": [
      "                   all         98        205      0.612      0.478      0.513      0.181\n",
      "Speed: 5.6ms preprocess, 849.5ms inference, 0.0ms loss, 2.1ms postprocess per image\n",
      "Saving /data/mtmoore/school/CSiML_AI395T/final_project/models/yolo11/iterative/11m_1440imgsz_IP8M-H-SW-9epochs-val/predictions.json...\n",
      "Results saved to \u001b[1m/data/mtmoore/school/CSiML_AI395T/final_project/models/yolo11/iterative/11m_1440imgsz_IP8M-H-SW-9epochs-val\u001b[0m\n",
      "Ultralytics 8.3.29 🚀 Python-3.12.7 torch-2.2.2+cu121 CUDA:0 (NVIDIA GeForce RTX 4070 SUPER, 11904MiB)\n",
      "YOLO11m summary (fused): 303 layers, 20,030,803 parameters, 0 gradients, 67.6 GFLOPs\n"
     ]
    },
    {
     "name": "stderr",
     "output_type": "stream",
     "text": [
      "\u001b[34m\u001b[1mval: \u001b[0mScanning val/labels.cache... 98 images, 0 backgrounds, 0 corrupt: 100%|██████████| 98/98 [00:00<?, ?it/s]\u001b[0m\n",
      "                 Class     Images  Instances      Box(P          R      mAP50  mAP50-95): 100%|██████████| 98/98 [00:04<00:00, 22.26it/s]\n"
     ]
    },
    {
     "name": "stdout",
     "output_type": "stream",
     "text": [
      "                   all         98        205      0.825      0.529      0.561      0.237\n",
      "Speed: 4.5ms preprocess, 27.3ms inference, 0.0ms loss, 1.7ms postprocess per image\n",
      "Saving /data/mtmoore/school/CSiML_AI395T/final_project/models/yolo11/iterative/11m_1440imgsz_IP8M-H-SW-10epochs-val/predictions.json...\n",
      "Results saved to \u001b[1m/data/mtmoore/school/CSiML_AI395T/final_project/models/yolo11/iterative/11m_1440imgsz_IP8M-H-SW-10epochs-val\u001b[0m\n",
      "Ultralytics 8.3.29 🚀 Python-3.12.7 torch-2.2.2+cu121 CUDA:0 (NVIDIA GeForce RTX 4070 SUPER, 11904MiB)\n",
      "YOLO11m summary (fused): 303 layers, 20,030,803 parameters, 0 gradients, 67.6 GFLOPs\n"
     ]
    },
    {
     "name": "stderr",
     "output_type": "stream",
     "text": [
      "\u001b[34m\u001b[1mval: \u001b[0mScanning val/labels.cache... 98 images, 0 backgrounds, 0 corrupt: 100%|██████████| 98/98 [00:00<?, ?it/s]\u001b[0m\n",
      "                 Class     Images  Instances      Box(P          R      mAP50  mAP50-95): 100%|██████████| 98/98 [00:04<00:00, 23.52it/s]\n"
     ]
    },
    {
     "name": "stdout",
     "output_type": "stream",
     "text": [
      "                   all         98        205      0.799      0.523       0.56      0.221\n",
      "Speed: 3.8ms preprocess, 25.6ms inference, 0.0ms loss, 2.5ms postprocess per image\n",
      "Saving /data/mtmoore/school/CSiML_AI395T/final_project/models/yolo11/iterative/11m_1440imgsz_IP8M-H-SW-11epochs-val/predictions.json...\n",
      "Results saved to \u001b[1m/data/mtmoore/school/CSiML_AI395T/final_project/models/yolo11/iterative/11m_1440imgsz_IP8M-H-SW-11epochs-val\u001b[0m\n",
      "Ultralytics 8.3.29 🚀 Python-3.12.7 torch-2.2.2+cu121 CUDA:0 (NVIDIA GeForce RTX 4070 SUPER, 11904MiB)\n",
      "YOLO11m summary (fused): 303 layers, 20,030,803 parameters, 0 gradients, 67.6 GFLOPs\n"
     ]
    },
    {
     "name": "stderr",
     "output_type": "stream",
     "text": [
      "\u001b[34m\u001b[1mval: \u001b[0mScanning val/labels.cache... 98 images, 0 backgrounds, 0 corrupt: 100%|██████████| 98/98 [00:00<?, ?it/s]\u001b[0m\n",
      "                 Class     Images  Instances      Box(P          R      mAP50  mAP50-95): 100%|██████████| 98/98 [00:04<00:00, 22.67it/s]\n"
     ]
    },
    {
     "name": "stdout",
     "output_type": "stream",
     "text": [
      "                   all         98        205       0.87      0.556      0.601      0.265\n",
      "Speed: 4.3ms preprocess, 26.4ms inference, 0.0ms loss, 2.3ms postprocess per image\n",
      "Saving /data/mtmoore/school/CSiML_AI395T/final_project/models/yolo11/iterative/11m_1440imgsz_IP8M-H-SW-12epochs-val/predictions.json...\n",
      "Results saved to \u001b[1m/data/mtmoore/school/CSiML_AI395T/final_project/models/yolo11/iterative/11m_1440imgsz_IP8M-H-SW-12epochs-val\u001b[0m\n",
      "Ultralytics 8.3.29 🚀 Python-3.12.7 torch-2.2.2+cu121 CUDA:0 (NVIDIA GeForce RTX 4070 SUPER, 11904MiB)\n",
      "YOLO11m summary (fused): 303 layers, 20,030,803 parameters, 0 gradients, 67.6 GFLOPs\n"
     ]
    },
    {
     "name": "stderr",
     "output_type": "stream",
     "text": [
      "\u001b[34m\u001b[1mval: \u001b[0mScanning val/labels.cache... 98 images, 0 backgrounds, 0 corrupt: 100%|██████████| 98/98 [00:00<?, ?it/s]\u001b[0m\n",
      "                 Class     Images  Instances      Box(P          R      mAP50  mAP50-95): 100%|██████████| 98/98 [00:04<00:00, 21.24it/s]\n"
     ]
    },
    {
     "name": "stdout",
     "output_type": "stream",
     "text": [
      "                   all         98        205      0.844      0.551      0.597      0.238\n",
      "Speed: 5.7ms preprocess, 27.8ms inference, 0.0ms loss, 2.4ms postprocess per image\n",
      "Saving /data/mtmoore/school/CSiML_AI395T/final_project/models/yolo11/iterative/11m_1440imgsz_IP8M-H-SW-13epochs-val/predictions.json...\n",
      "Results saved to \u001b[1m/data/mtmoore/school/CSiML_AI395T/final_project/models/yolo11/iterative/11m_1440imgsz_IP8M-H-SW-13epochs-val\u001b[0m\n",
      "Ultralytics 8.3.29 🚀 Python-3.12.7 torch-2.2.2+cu121 CUDA:0 (NVIDIA GeForce RTX 4070 SUPER, 11904MiB)\n",
      "YOLO11m summary (fused): 303 layers, 20,030,803 parameters, 0 gradients, 67.6 GFLOPs\n"
     ]
    },
    {
     "name": "stderr",
     "output_type": "stream",
     "text": [
      "\u001b[34m\u001b[1mval: \u001b[0mScanning val/labels.cache... 98 images, 0 backgrounds, 0 corrupt: 100%|██████████| 98/98 [00:00<?, ?it/s]\u001b[0m\n",
      "                 Class     Images  Instances      Box(P          R      mAP50  mAP50-95): 100%|██████████| 98/98 [02:05<00:00,  1.28s/it]\n"
     ]
    },
    {
     "name": "stdout",
     "output_type": "stream",
     "text": [
      "                   all         98        205      0.814       0.58      0.621      0.252\n",
      "Speed: 7.0ms preprocess, 29.6ms inference, 0.0ms loss, 2.2ms postprocess per image\n",
      "Saving /data/mtmoore/school/CSiML_AI395T/final_project/models/yolo11/iterative/11m_1440imgsz_IP8M-H-SW-14epochs-val/predictions.json...\n",
      "Results saved to \u001b[1m/data/mtmoore/school/CSiML_AI395T/final_project/models/yolo11/iterative/11m_1440imgsz_IP8M-H-SW-14epochs-val\u001b[0m\n",
      "Ultralytics 8.3.29 🚀 Python-3.12.7 torch-2.2.2+cu121 CUDA:0 (NVIDIA GeForce RTX 4070 SUPER, 11904MiB)\n",
      "YOLO11m summary (fused): 303 layers, 20,030,803 parameters, 0 gradients, 67.6 GFLOPs\n"
     ]
    },
    {
     "name": "stderr",
     "output_type": "stream",
     "text": [
      "\u001b[34m\u001b[1mval: \u001b[0mScanning val/labels.cache... 98 images, 0 backgrounds, 0 corrupt: 100%|██████████| 98/98 [00:00<?, ?it/s]\u001b[0m\n",
      "                 Class     Images  Instances      Box(P          R      mAP50  mAP50-95): 100%|██████████| 98/98 [00:04<00:00, 21.72it/s]\n"
     ]
    },
    {
     "name": "stdout",
     "output_type": "stream",
     "text": [
      "                   all         98        205      0.879      0.585       0.63      0.242\n",
      "Speed: 5.2ms preprocess, 28.1ms inference, 0.0ms loss, 1.9ms postprocess per image\n",
      "Saving /data/mtmoore/school/CSiML_AI395T/final_project/models/yolo11/iterative/11m_1440imgsz_IP8M-H-SW-15epochs-val/predictions.json...\n",
      "Results saved to \u001b[1m/data/mtmoore/school/CSiML_AI395T/final_project/models/yolo11/iterative/11m_1440imgsz_IP8M-H-SW-15epochs-val\u001b[0m\n",
      "Ultralytics 8.3.29 🚀 Python-3.12.7 torch-2.2.2+cu121 CUDA:0 (NVIDIA GeForce RTX 4070 SUPER, 11904MiB)\n",
      "YOLO11m summary (fused): 303 layers, 20,030,803 parameters, 0 gradients, 67.6 GFLOPs\n"
     ]
    },
    {
     "name": "stderr",
     "output_type": "stream",
     "text": [
      "\u001b[34m\u001b[1mval: \u001b[0mScanning val/labels.cache... 98 images, 0 backgrounds, 0 corrupt: 100%|██████████| 98/98 [00:00<?, ?it/s]\u001b[0m\n",
      "                 Class     Images  Instances      Box(P          R      mAP50  mAP50-95): 100%|██████████| 98/98 [00:04<00:00, 21.89it/s]\n"
     ]
    },
    {
     "name": "stdout",
     "output_type": "stream",
     "text": [
      "                   all         98        205      0.763      0.605       0.64      0.265\n",
      "Speed: 5.7ms preprocess, 27.4ms inference, 0.0ms loss, 1.9ms postprocess per image\n",
      "Saving /data/mtmoore/school/CSiML_AI395T/final_project/models/yolo11/iterative/11m_1440imgsz_IP8M-H-SW-16epochs-val/predictions.json...\n",
      "Results saved to \u001b[1m/data/mtmoore/school/CSiML_AI395T/final_project/models/yolo11/iterative/11m_1440imgsz_IP8M-H-SW-16epochs-val\u001b[0m\n",
      "Ultralytics 8.3.29 🚀 Python-3.12.7 torch-2.2.2+cu121 CUDA:0 (NVIDIA GeForce RTX 4070 SUPER, 11904MiB)\n",
      "YOLO11m summary (fused): 303 layers, 20,030,803 parameters, 0 gradients, 67.6 GFLOPs\n"
     ]
    },
    {
     "name": "stderr",
     "output_type": "stream",
     "text": [
      "\u001b[34m\u001b[1mval: \u001b[0mScanning val/labels.cache... 98 images, 0 backgrounds, 0 corrupt: 100%|██████████| 98/98 [00:00<?, ?it/s]\u001b[0m\n",
      "                 Class     Images  Instances      Box(P          R      mAP50  mAP50-95): 100%|██████████| 98/98 [00:04<00:00, 21.71it/s]\n"
     ]
    },
    {
     "name": "stdout",
     "output_type": "stream",
     "text": [
      "                   all         98        205      0.921      0.571      0.638      0.287\n",
      "Speed: 5.0ms preprocess, 26.7ms inference, 0.0ms loss, 1.9ms postprocess per image\n",
      "Saving /data/mtmoore/school/CSiML_AI395T/final_project/models/yolo11/iterative/11m_1440imgsz_IP8M-H-SW-17epochs-val/predictions.json...\n",
      "Results saved to \u001b[1m/data/mtmoore/school/CSiML_AI395T/final_project/models/yolo11/iterative/11m_1440imgsz_IP8M-H-SW-17epochs-val\u001b[0m\n",
      "Ultralytics 8.3.29 🚀 Python-3.12.7 torch-2.2.2+cu121 CUDA:0 (NVIDIA GeForce RTX 4070 SUPER, 11904MiB)\n",
      "YOLO11m summary (fused): 303 layers, 20,030,803 parameters, 0 gradients, 67.6 GFLOPs\n"
     ]
    },
    {
     "name": "stderr",
     "output_type": "stream",
     "text": [
      "\u001b[34m\u001b[1mval: \u001b[0mScanning val/labels.cache... 98 images, 0 backgrounds, 0 corrupt: 100%|██████████| 98/98 [00:00<?, ?it/s]\u001b[0m\n",
      "                 Class     Images  Instances      Box(P          R      mAP50  mAP50-95): 100%|██████████| 98/98 [00:04<00:00, 22.55it/s]\n"
     ]
    },
    {
     "name": "stdout",
     "output_type": "stream",
     "text": [
      "                   all         98        205      0.907      0.619      0.676      0.296\n",
      "Speed: 4.9ms preprocess, 26.9ms inference, 0.0ms loss, 2.2ms postprocess per image\n",
      "Saving /data/mtmoore/school/CSiML_AI395T/final_project/models/yolo11/iterative/11m_1440imgsz_IP8M-H-SW-18epochs-val/predictions.json...\n",
      "Results saved to \u001b[1m/data/mtmoore/school/CSiML_AI395T/final_project/models/yolo11/iterative/11m_1440imgsz_IP8M-H-SW-18epochs-val\u001b[0m\n",
      "Ultralytics 8.3.29 🚀 Python-3.12.7 torch-2.2.2+cu121 CUDA:0 (NVIDIA GeForce RTX 4070 SUPER, 11904MiB)\n",
      "YOLO11m summary (fused): 303 layers, 20,030,803 parameters, 0 gradients, 67.6 GFLOPs\n"
     ]
    },
    {
     "name": "stderr",
     "output_type": "stream",
     "text": [
      "\u001b[34m\u001b[1mval: \u001b[0mScanning val/labels.cache... 98 images, 0 backgrounds, 0 corrupt: 100%|██████████| 98/98 [00:00<?, ?it/s]\u001b[0m\n",
      "                 Class     Images  Instances      Box(P          R      mAP50  mAP50-95): 100%|██████████| 98/98 [00:04<00:00, 20.60it/s]\n"
     ]
    },
    {
     "name": "stdout",
     "output_type": "stream",
     "text": [
      "                   all         98        205      0.851      0.615      0.674      0.292\n",
      "Speed: 5.5ms preprocess, 28.7ms inference, 0.0ms loss, 2.5ms postprocess per image\n",
      "Saving /data/mtmoore/school/CSiML_AI395T/final_project/models/yolo11/iterative/11m_1440imgsz_IP8M-H-SW-19epochs-val/predictions.json...\n",
      "Results saved to \u001b[1m/data/mtmoore/school/CSiML_AI395T/final_project/models/yolo11/iterative/11m_1440imgsz_IP8M-H-SW-19epochs-val\u001b[0m\n",
      "Ultralytics 8.3.29 🚀 Python-3.12.7 torch-2.2.2+cu121 CUDA:0 (NVIDIA GeForce RTX 4070 SUPER, 11904MiB)\n",
      "YOLO11m summary (fused): 303 layers, 20,030,803 parameters, 0 gradients, 67.6 GFLOPs\n"
     ]
    },
    {
     "name": "stderr",
     "output_type": "stream",
     "text": [
      "\u001b[34m\u001b[1mval: \u001b[0mScanning val/labels.cache... 98 images, 0 backgrounds, 0 corrupt: 100%|██████████| 98/98 [00:00<?, ?it/s]\u001b[0m\n",
      "                 Class     Images  Instances      Box(P          R      mAP50  mAP50-95): 100%|██████████| 98/98 [00:04<00:00, 21.21it/s]\n"
     ]
    },
    {
     "name": "stdout",
     "output_type": "stream",
     "text": [
      "                   all         98        205      0.869       0.58      0.664      0.257\n",
      "Speed: 5.2ms preprocess, 28.6ms inference, 0.0ms loss, 1.8ms postprocess per image\n",
      "Saving /data/mtmoore/school/CSiML_AI395T/final_project/models/yolo11/iterative/11m_1440imgsz_IP8M-H-SW-20epochs-val/predictions.json...\n",
      "Results saved to \u001b[1m/data/mtmoore/school/CSiML_AI395T/final_project/models/yolo11/iterative/11m_1440imgsz_IP8M-H-SW-20epochs-val\u001b[0m\n",
      "Ultralytics 8.3.29 🚀 Python-3.12.7 torch-2.2.2+cu121 CUDA:0 (NVIDIA GeForce RTX 4070 SUPER, 11904MiB)\n",
      "YOLO11m summary (fused): 303 layers, 20,030,803 parameters, 0 gradients, 67.6 GFLOPs\n"
     ]
    },
    {
     "name": "stderr",
     "output_type": "stream",
     "text": [
      "\u001b[34m\u001b[1mval: \u001b[0mScanning val/labels.cache... 98 images, 0 backgrounds, 0 corrupt: 100%|██████████| 98/98 [00:00<?, ?it/s]\u001b[0m\n",
      "                 Class     Images  Instances      Box(P          R      mAP50  mAP50-95): 100%|██████████| 98/98 [00:04<00:00, 22.91it/s]\n"
     ]
    },
    {
     "name": "stdout",
     "output_type": "stream",
     "text": [
      "                   all         98        205      0.923      0.588      0.672      0.314\n",
      "Speed: 4.4ms preprocess, 26.1ms inference, 0.0ms loss, 2.8ms postprocess per image\n",
      "Saving /data/mtmoore/school/CSiML_AI395T/final_project/models/yolo11/iterative/11m_1440imgsz_IP8M-H-SW-21epochs-val/predictions.json...\n",
      "Results saved to \u001b[1m/data/mtmoore/school/CSiML_AI395T/final_project/models/yolo11/iterative/11m_1440imgsz_IP8M-H-SW-21epochs-val\u001b[0m\n",
      "Ultralytics 8.3.29 🚀 Python-3.12.7 torch-2.2.2+cu121 CUDA:0 (NVIDIA GeForce RTX 4070 SUPER, 11904MiB)\n",
      "YOLO11m summary (fused): 303 layers, 20,030,803 parameters, 0 gradients, 67.6 GFLOPs\n"
     ]
    },
    {
     "name": "stderr",
     "output_type": "stream",
     "text": [
      "\u001b[34m\u001b[1mval: \u001b[0mScanning val/labels.cache... 98 images, 0 backgrounds, 0 corrupt: 100%|██████████| 98/98 [00:00<?, ?it/s]\u001b[0m\n",
      "                 Class     Images  Instances      Box(P          R      mAP50  mAP50-95): 100%|██████████| 98/98 [00:04<00:00, 21.70it/s]\n"
     ]
    },
    {
     "name": "stdout",
     "output_type": "stream",
     "text": [
      "                   all         98        205      0.907       0.62      0.677      0.292\n",
      "Speed: 5.0ms preprocess, 27.8ms inference, 0.0ms loss, 2.3ms postprocess per image\n",
      "Saving /data/mtmoore/school/CSiML_AI395T/final_project/models/yolo11/iterative/11m_1440imgsz_IP8M-H-SW-22epochs-val/predictions.json...\n",
      "Results saved to \u001b[1m/data/mtmoore/school/CSiML_AI395T/final_project/models/yolo11/iterative/11m_1440imgsz_IP8M-H-SW-22epochs-val\u001b[0m\n",
      "Ultralytics 8.3.29 🚀 Python-3.12.7 torch-2.2.2+cu121 CUDA:0 (NVIDIA GeForce RTX 4070 SUPER, 11904MiB)\n",
      "YOLO11m summary (fused): 303 layers, 20,030,803 parameters, 0 gradients, 67.6 GFLOPs\n"
     ]
    },
    {
     "name": "stderr",
     "output_type": "stream",
     "text": [
      "\u001b[34m\u001b[1mval: \u001b[0mScanning val/labels.cache... 98 images, 0 backgrounds, 0 corrupt: 100%|██████████| 98/98 [00:00<?, ?it/s]\u001b[0m\n",
      "                 Class     Images  Instances      Box(P          R      mAP50  mAP50-95): 100%|██████████| 98/98 [00:04<00:00, 20.50it/s]\n"
     ]
    },
    {
     "name": "stdout",
     "output_type": "stream",
     "text": [
      "                   all         98        205      0.847      0.622      0.692      0.309\n",
      "Speed: 6.7ms preprocess, 29.4ms inference, 0.0ms loss, 1.8ms postprocess per image\n",
      "Saving /data/mtmoore/school/CSiML_AI395T/final_project/models/yolo11/iterative/11m_1440imgsz_IP8M-H-SW-23epochs-val/predictions.json...\n",
      "Results saved to \u001b[1m/data/mtmoore/school/CSiML_AI395T/final_project/models/yolo11/iterative/11m_1440imgsz_IP8M-H-SW-23epochs-val\u001b[0m\n",
      "Ultralytics 8.3.29 🚀 Python-3.12.7 torch-2.2.2+cu121 CUDA:0 (NVIDIA GeForce RTX 4070 SUPER, 11904MiB)\n",
      "YOLO11m summary (fused): 303 layers, 20,030,803 parameters, 0 gradients, 67.6 GFLOPs\n"
     ]
    },
    {
     "name": "stderr",
     "output_type": "stream",
     "text": [
      "\u001b[34m\u001b[1mval: \u001b[0mScanning val/labels.cache... 98 images, 0 backgrounds, 0 corrupt: 100%|██████████| 98/98 [00:00<?, ?it/s]\u001b[0m\n",
      "                 Class     Images  Instances      Box(P          R      mAP50  mAP50-95): 100%|██████████| 98/98 [00:04<00:00, 21.25it/s]\n"
     ]
    },
    {
     "name": "stdout",
     "output_type": "stream",
     "text": [
      "                   all         98        205      0.818      0.629      0.683      0.316\n",
      "Speed: 4.4ms preprocess, 28.0ms inference, 0.0ms loss, 1.9ms postprocess per image\n",
      "Saving /data/mtmoore/school/CSiML_AI395T/final_project/models/yolo11/iterative/11m_1440imgsz_IP8M-H-SW-24epochs-val/predictions.json...\n",
      "Results saved to \u001b[1m/data/mtmoore/school/CSiML_AI395T/final_project/models/yolo11/iterative/11m_1440imgsz_IP8M-H-SW-24epochs-val\u001b[0m\n",
      "Ultralytics 8.3.29 🚀 Python-3.12.7 torch-2.2.2+cu121 CUDA:0 (NVIDIA GeForce RTX 4070 SUPER, 11904MiB)\n",
      "YOLO11m summary (fused): 303 layers, 20,030,803 parameters, 0 gradients, 67.6 GFLOPs\n"
     ]
    },
    {
     "name": "stderr",
     "output_type": "stream",
     "text": [
      "\u001b[34m\u001b[1mval: \u001b[0mScanning val/labels.cache... 98 images, 0 backgrounds, 0 corrupt: 100%|██████████| 98/98 [00:00<?, ?it/s]\u001b[0m\n",
      "                 Class     Images  Instances      Box(P          R      mAP50  mAP50-95): 100%|██████████| 98/98 [00:05<00:00, 18.64it/s]\n"
     ]
    },
    {
     "name": "stdout",
     "output_type": "stream",
     "text": [
      "                   all         98        205      0.871      0.644      0.695      0.318\n",
      "Speed: 8.0ms preprocess, 32.1ms inference, 0.0ms loss, 1.9ms postprocess per image\n",
      "Saving /data/mtmoore/school/CSiML_AI395T/final_project/models/yolo11/iterative/11m_1440imgsz_IP8M-H-SW-25epochs-val/predictions.json...\n",
      "Results saved to \u001b[1m/data/mtmoore/school/CSiML_AI395T/final_project/models/yolo11/iterative/11m_1440imgsz_IP8M-H-SW-25epochs-val\u001b[0m\n",
      "Ultralytics 8.3.29 🚀 Python-3.12.7 torch-2.2.2+cu121 CUDA:0 (NVIDIA GeForce RTX 4070 SUPER, 11904MiB)\n",
      "YOLO11m summary (fused): 303 layers, 20,030,803 parameters, 0 gradients, 67.6 GFLOPs\n"
     ]
    },
    {
     "name": "stderr",
     "output_type": "stream",
     "text": [
      "\u001b[34m\u001b[1mval: \u001b[0mScanning val/labels.cache... 98 images, 0 backgrounds, 0 corrupt: 100%|██████████| 98/98 [00:00<?, ?it/s]\u001b[0m\n",
      "                 Class     Images  Instances      Box(P          R      mAP50  mAP50-95): 100%|██████████| 98/98 [01:25<00:00,  1.15it/s]\n"
     ]
    },
    {
     "name": "stdout",
     "output_type": "stream",
     "text": [
      "                   all         98        205      0.912      0.668      0.741      0.346\n",
      "Speed: 7.5ms preprocess, 30.8ms inference, 0.0ms loss, 2.0ms postprocess per image\n",
      "Saving /data/mtmoore/school/CSiML_AI395T/final_project/models/yolo11/iterative/11m_1440imgsz_IP8M-H-SW-30epochs-val/predictions.json...\n",
      "Results saved to \u001b[1m/data/mtmoore/school/CSiML_AI395T/final_project/models/yolo11/iterative/11m_1440imgsz_IP8M-H-SW-30epochs-val\u001b[0m\n",
      "Ultralytics 8.3.29 🚀 Python-3.12.7 torch-2.2.2+cu121 CUDA:0 (NVIDIA GeForce RTX 4070 SUPER, 11904MiB)\n",
      "YOLO11m summary (fused): 303 layers, 20,030,803 parameters, 0 gradients, 67.6 GFLOPs\n"
     ]
    },
    {
     "name": "stderr",
     "output_type": "stream",
     "text": [
      "\u001b[34m\u001b[1mval: \u001b[0mScanning val/labels.cache... 98 images, 0 backgrounds, 0 corrupt: 100%|██████████| 98/98 [00:00<?, ?it/s]\u001b[0m\n",
      "                 Class     Images  Instances      Box(P          R      mAP50  mAP50-95): 100%|██████████| 98/98 [00:04<00:00, 22.63it/s]\n"
     ]
    },
    {
     "name": "stdout",
     "output_type": "stream",
     "text": [
      "                   all         98        205      0.896      0.673      0.728      0.341\n",
      "Speed: 4.8ms preprocess, 26.9ms inference, 0.0ms loss, 2.2ms postprocess per image\n",
      "Saving /data/mtmoore/school/CSiML_AI395T/final_project/models/yolo11/iterative/11m_1440imgsz_IP8M-H-SW-35epochs-val/predictions.json...\n",
      "Results saved to \u001b[1m/data/mtmoore/school/CSiML_AI395T/final_project/models/yolo11/iterative/11m_1440imgsz_IP8M-H-SW-35epochs-val\u001b[0m\n",
      "Ultralytics 8.3.29 🚀 Python-3.12.7 torch-2.2.2+cu121 CUDA:0 (NVIDIA GeForce RTX 4070 SUPER, 11904MiB)\n",
      "YOLO11m summary (fused): 303 layers, 20,030,803 parameters, 0 gradients, 67.6 GFLOPs\n"
     ]
    },
    {
     "name": "stderr",
     "output_type": "stream",
     "text": [
      "\u001b[34m\u001b[1mval: \u001b[0mScanning val/labels.cache... 98 images, 0 backgrounds, 0 corrupt: 100%|██████████| 98/98 [00:00<?, ?it/s]\u001b[0m\n",
      "                 Class     Images  Instances      Box(P          R      mAP50  mAP50-95): 100%|██████████| 98/98 [00:04<00:00, 22.36it/s]\n"
     ]
    },
    {
     "name": "stdout",
     "output_type": "stream",
     "text": [
      "                   all         98        205      0.917      0.644      0.728      0.373\n",
      "Speed: 4.8ms preprocess, 27.3ms inference, 0.0ms loss, 2.0ms postprocess per image\n",
      "Saving /data/mtmoore/school/CSiML_AI395T/final_project/models/yolo11/iterative/11m_1440imgsz_IP8M-H-SW-40epochs-val/predictions.json...\n",
      "Results saved to \u001b[1m/data/mtmoore/school/CSiML_AI395T/final_project/models/yolo11/iterative/11m_1440imgsz_IP8M-H-SW-40epochs-val\u001b[0m\n",
      "Ultralytics 8.3.29 🚀 Python-3.12.7 torch-2.2.2+cu121 CUDA:0 (NVIDIA GeForce RTX 4070 SUPER, 11904MiB)\n",
      "YOLO11m summary (fused): 303 layers, 20,030,803 parameters, 0 gradients, 67.6 GFLOPs\n"
     ]
    },
    {
     "name": "stderr",
     "output_type": "stream",
     "text": [
      "\u001b[34m\u001b[1mval: \u001b[0mScanning val/labels.cache... 98 images, 0 backgrounds, 0 corrupt: 100%|██████████| 98/98 [00:00<?, ?it/s]\u001b[0m\n",
      "                 Class     Images  Instances      Box(P          R      mAP50  mAP50-95): 100%|██████████| 98/98 [00:05<00:00, 19.49it/s]\n"
     ]
    },
    {
     "name": "stdout",
     "output_type": "stream",
     "text": [
      "                   all         98        205      0.876      0.723      0.769      0.397\n",
      "Speed: 8.9ms preprocess, 29.5ms inference, 0.0ms loss, 2.4ms postprocess per image\n",
      "Saving /data/mtmoore/school/CSiML_AI395T/final_project/models/yolo11/iterative/11m_1440imgsz_IP8M-H-SW-45epochs-val/predictions.json...\n",
      "Results saved to \u001b[1m/data/mtmoore/school/CSiML_AI395T/final_project/models/yolo11/iterative/11m_1440imgsz_IP8M-H-SW-45epochs-val\u001b[0m\n",
      "Ultralytics 8.3.29 🚀 Python-3.12.7 torch-2.2.2+cu121 CUDA:0 (NVIDIA GeForce RTX 4070 SUPER, 11904MiB)\n",
      "YOLO11m summary (fused): 303 layers, 20,030,803 parameters, 0 gradients, 67.6 GFLOPs\n"
     ]
    },
    {
     "name": "stderr",
     "output_type": "stream",
     "text": [
      "\u001b[34m\u001b[1mval: \u001b[0mScanning val/labels.cache... 98 images, 0 backgrounds, 0 corrupt: 100%|██████████| 98/98 [00:00<?, ?it/s]\u001b[0m\n",
      "                 Class     Images  Instances      Box(P          R      mAP50  mAP50-95): 100%|██████████| 98/98 [00:05<00:00, 18.77it/s]\n"
     ]
    },
    {
     "name": "stdout",
     "output_type": "stream",
     "text": [
      "                   all         98        205      0.869      0.746      0.777      0.422\n",
      "Speed: 8.2ms preprocess, 31.0ms inference, 0.0ms loss, 1.8ms postprocess per image\n",
      "Saving /data/mtmoore/school/CSiML_AI395T/final_project/models/yolo11/iterative/11m_1440imgsz_IP8M-H-SW-60epochs-val/predictions.json...\n",
      "Results saved to \u001b[1m/data/mtmoore/school/CSiML_AI395T/final_project/models/yolo11/iterative/11m_1440imgsz_IP8M-H-SW-60epochs-val\u001b[0m\n",
      "Ultralytics 8.3.29 🚀 Python-3.12.7 torch-2.2.2+cu121 CUDA:0 (NVIDIA GeForce RTX 4070 SUPER, 11904MiB)\n",
      "YOLO11m summary (fused): 303 layers, 20,030,803 parameters, 0 gradients, 67.6 GFLOPs\n"
     ]
    },
    {
     "name": "stderr",
     "output_type": "stream",
     "text": [
      "\u001b[34m\u001b[1mval: \u001b[0mScanning val/labels.cache... 98 images, 0 backgrounds, 0 corrupt: 100%|██████████| 98/98 [00:00<?, ?it/s]\u001b[0m\n",
      "                 Class     Images  Instances      Box(P          R      mAP50  mAP50-95): 100%|██████████| 98/98 [00:04<00:00, 19.94it/s]\n"
     ]
    },
    {
     "name": "stdout",
     "output_type": "stream",
     "text": [
      "                   all         98        205      0.884      0.761      0.799      0.411\n",
      "Speed: 8.0ms preprocess, 29.7ms inference, 0.0ms loss, 1.8ms postprocess per image\n",
      "Saving /data/mtmoore/school/CSiML_AI395T/final_project/models/yolo11/iterative/11m_1440imgsz_IP8M-H-SW-70epochs-val/predictions.json...\n",
      "Results saved to \u001b[1m/data/mtmoore/school/CSiML_AI395T/final_project/models/yolo11/iterative/11m_1440imgsz_IP8M-H-SW-70epochs-val\u001b[0m\n",
      "Ultralytics 8.3.29 🚀 Python-3.12.7 torch-2.2.2+cu121 CUDA:0 (NVIDIA GeForce RTX 4070 SUPER, 11904MiB)\n",
      "YOLO11m summary (fused): 303 layers, 20,030,803 parameters, 0 gradients, 67.6 GFLOPs\n"
     ]
    },
    {
     "name": "stderr",
     "output_type": "stream",
     "text": [
      "\u001b[34m\u001b[1mval: \u001b[0mScanning val/labels.cache... 98 images, 0 backgrounds, 0 corrupt: 100%|██████████| 98/98 [00:00<?, ?it/s]\u001b[0m\n",
      "                 Class     Images  Instances      Box(P          R      mAP50  mAP50-95): 100%|██████████| 98/98 [00:04<00:00, 22.13it/s]\n"
     ]
    },
    {
     "name": "stdout",
     "output_type": "stream",
     "text": [
      "                   all         98        205      0.866      0.757      0.794      0.434\n",
      "Speed: 4.7ms preprocess, 27.4ms inference, 0.0ms loss, 2.4ms postprocess per image\n",
      "Saving /data/mtmoore/school/CSiML_AI395T/final_project/models/yolo11/iterative/11m_1440imgsz_IP8M-H-SW-80epochs-val/predictions.json...\n",
      "Results saved to \u001b[1m/data/mtmoore/school/CSiML_AI395T/final_project/models/yolo11/iterative/11m_1440imgsz_IP8M-H-SW-80epochs-val\u001b[0m\n",
      "Ultralytics 8.3.29 🚀 Python-3.12.7 torch-2.2.2+cu121 CUDA:0 (NVIDIA GeForce RTX 4070 SUPER, 11904MiB)\n",
      "YOLO11m summary (fused): 303 layers, 20,030,803 parameters, 0 gradients, 67.6 GFLOPs\n"
     ]
    },
    {
     "name": "stderr",
     "output_type": "stream",
     "text": [
      "\u001b[34m\u001b[1mval: \u001b[0mScanning val/labels.cache... 98 images, 0 backgrounds, 0 corrupt: 100%|██████████| 98/98 [00:00<?, ?it/s]\u001b[0m\n",
      "                 Class     Images  Instances      Box(P          R      mAP50  mAP50-95): 100%|██████████| 98/98 [00:04<00:00, 22.14it/s]\n"
     ]
    },
    {
     "name": "stdout",
     "output_type": "stream",
     "text": [
      "                   all         98        205       0.94      0.746      0.805      0.456\n",
      "Speed: 4.8ms preprocess, 27.9ms inference, 0.0ms loss, 1.9ms postprocess per image\n",
      "Saving /data/mtmoore/school/CSiML_AI395T/final_project/models/yolo11/iterative/11m_1440imgsz_IP8M-H-SW-90epochs-val/predictions.json...\n",
      "Results saved to \u001b[1m/data/mtmoore/school/CSiML_AI395T/final_project/models/yolo11/iterative/11m_1440imgsz_IP8M-H-SW-90epochs-val\u001b[0m\n",
      "Ultralytics 8.3.29 🚀 Python-3.12.7 torch-2.2.2+cu121 CUDA:0 (NVIDIA GeForce RTX 4070 SUPER, 11904MiB)\n",
      "YOLO11m summary (fused): 303 layers, 20,030,803 parameters, 0 gradients, 67.6 GFLOPs\n"
     ]
    },
    {
     "name": "stderr",
     "output_type": "stream",
     "text": [
      "\u001b[34m\u001b[1mval: \u001b[0mScanning val/labels.cache... 98 images, 0 backgrounds, 0 corrupt: 100%|██████████| 98/98 [00:00<?, ?it/s]\u001b[0m\n",
      "                 Class     Images  Instances      Box(P          R      mAP50  mAP50-95): 100%|██████████| 98/98 [00:04<00:00, 21.30it/s]\n"
     ]
    },
    {
     "name": "stdout",
     "output_type": "stream",
     "text": [
      "                   all         98        205      0.874      0.795      0.833      0.469\n",
      "Speed: 6.2ms preprocess, 27.6ms inference, 0.0ms loss, 2.1ms postprocess per image\n",
      "Saving /data/mtmoore/school/CSiML_AI395T/final_project/models/yolo11/iterative/11m_1440imgsz_IP8M-H-SW-100epochs-val/predictions.json...\n",
      "Results saved to \u001b[1m/data/mtmoore/school/CSiML_AI395T/final_project/models/yolo11/iterative/11m_1440imgsz_IP8M-H-SW-100epochs-val\u001b[0m\n",
      "Ultralytics 8.3.29 🚀 Python-3.12.7 torch-2.2.2+cu121 CUDA:0 (NVIDIA GeForce RTX 4070 SUPER, 11904MiB)\n",
      "YOLO11m summary (fused): 303 layers, 20,030,803 parameters, 0 gradients, 67.6 GFLOPs\n"
     ]
    },
    {
     "name": "stderr",
     "output_type": "stream",
     "text": [
      "\u001b[34m\u001b[1mval: \u001b[0mScanning val/labels.cache... 98 images, 0 backgrounds, 0 corrupt: 100%|██████████| 98/98 [00:00<?, ?it/s]\u001b[0m\n",
      "                 Class     Images  Instances      Box(P          R      mAP50  mAP50-95): 100%|██████████| 98/98 [00:19<00:00,  4.95it/s]\n"
     ]
    },
    {
     "name": "stdout",
     "output_type": "stream",
     "text": [
      "                   all         98        205       0.61      0.395      0.369       0.13\n",
      "Speed: 91.9ms preprocess, 70.0ms inference, 0.0ms loss, 2.7ms postprocess per image\n",
      "Saving /data/mtmoore/school/CSiML_AI395T/final_project/models/yolo11/iterative/11m_2880imgsz_IP8M-H-SW-1epochs-val/predictions.json...\n",
      "Results saved to \u001b[1m/data/mtmoore/school/CSiML_AI395T/final_project/models/yolo11/iterative/11m_2880imgsz_IP8M-H-SW-1epochs-val\u001b[0m\n",
      "Ultralytics 8.3.29 🚀 Python-3.12.7 torch-2.2.2+cu121 CUDA:0 (NVIDIA GeForce RTX 4070 SUPER, 11904MiB)\n",
      "YOLO11m summary (fused): 303 layers, 20,030,803 parameters, 0 gradients, 67.6 GFLOPs\n"
     ]
    },
    {
     "name": "stderr",
     "output_type": "stream",
     "text": [
      "\u001b[34m\u001b[1mval: \u001b[0mScanning val/labels.cache... 98 images, 0 backgrounds, 0 corrupt: 100%|██████████| 98/98 [00:00<?, ?it/s]\u001b[0m\n",
      "                 Class     Images  Instances      Box(P          R      mAP50  mAP50-95): 100%|██████████| 98/98 [00:19<00:00,  5.00it/s]\n"
     ]
    },
    {
     "name": "stdout",
     "output_type": "stream",
     "text": [
      "                   all         98        205      0.821      0.538      0.615       0.27\n",
      "Speed: 91.5ms preprocess, 66.3ms inference, 0.0ms loss, 4.0ms postprocess per image\n",
      "Saving /data/mtmoore/school/CSiML_AI395T/final_project/models/yolo11/iterative/11m_2880imgsz_IP8M-H-SW-2epochs-val/predictions.json...\n",
      "Results saved to \u001b[1m/data/mtmoore/school/CSiML_AI395T/final_project/models/yolo11/iterative/11m_2880imgsz_IP8M-H-SW-2epochs-val\u001b[0m\n",
      "Ultralytics 8.3.29 🚀 Python-3.12.7 torch-2.2.2+cu121 CUDA:0 (NVIDIA GeForce RTX 4070 SUPER, 11904MiB)\n",
      "YOLO11m summary (fused): 303 layers, 20,030,803 parameters, 0 gradients, 67.6 GFLOPs\n"
     ]
    },
    {
     "name": "stderr",
     "output_type": "stream",
     "text": [
      "\u001b[34m\u001b[1mval: \u001b[0mScanning val/labels.cache... 98 images, 0 backgrounds, 0 corrupt: 100%|██████████| 98/98 [00:00<?, ?it/s]\u001b[0m\n",
      "                 Class     Images  Instances      Box(P          R      mAP50  mAP50-95): 100%|██████████| 98/98 [01:00<00:00,  1.63it/s]\n"
     ]
    },
    {
     "name": "stdout",
     "output_type": "stream",
     "text": [
      "                   all         98        205      0.877      0.644      0.744      0.344\n",
      "Speed: 106.2ms preprocess, 66.7ms inference, 0.0ms loss, 2.2ms postprocess per image\n",
      "Saving /data/mtmoore/school/CSiML_AI395T/final_project/models/yolo11/iterative/11m_2880imgsz_IP8M-H-SW-3epochs-val/predictions.json...\n",
      "Results saved to \u001b[1m/data/mtmoore/school/CSiML_AI395T/final_project/models/yolo11/iterative/11m_2880imgsz_IP8M-H-SW-3epochs-val\u001b[0m\n",
      "Ultralytics 8.3.29 🚀 Python-3.12.7 torch-2.2.2+cu121 CUDA:0 (NVIDIA GeForce RTX 4070 SUPER, 11904MiB)\n",
      "YOLO11m summary (fused): 303 layers, 20,030,803 parameters, 0 gradients, 67.6 GFLOPs\n"
     ]
    },
    {
     "name": "stderr",
     "output_type": "stream",
     "text": [
      "\u001b[34m\u001b[1mval: \u001b[0mScanning val/labels.cache... 98 images, 0 backgrounds, 0 corrupt: 100%|██████████| 98/98 [00:00<?, ?it/s]\u001b[0m\n",
      "                 Class     Images  Instances      Box(P          R      mAP50  mAP50-95): 100%|██████████| 98/98 [00:18<00:00,  5.16it/s]\n"
     ]
    },
    {
     "name": "stdout",
     "output_type": "stream",
     "text": [
      "                   all         98        205      0.898      0.641      0.766      0.348\n",
      "Speed: 109.0ms preprocess, 65.6ms inference, 0.0ms loss, 2.2ms postprocess per image\n",
      "Saving /data/mtmoore/school/CSiML_AI395T/final_project/models/yolo11/iterative/11m_2880imgsz_IP8M-H-SW-4epochs-val/predictions.json...\n",
      "Results saved to \u001b[1m/data/mtmoore/school/CSiML_AI395T/final_project/models/yolo11/iterative/11m_2880imgsz_IP8M-H-SW-4epochs-val\u001b[0m\n",
      "Ultralytics 8.3.29 🚀 Python-3.12.7 torch-2.2.2+cu121 CUDA:0 (NVIDIA GeForce RTX 4070 SUPER, 11904MiB)\n",
      "YOLO11m summary (fused): 303 layers, 20,030,803 parameters, 0 gradients, 67.6 GFLOPs\n"
     ]
    },
    {
     "name": "stderr",
     "output_type": "stream",
     "text": [
      "\u001b[34m\u001b[1mval: \u001b[0mScanning val/labels.cache... 98 images, 0 backgrounds, 0 corrupt: 100%|██████████| 98/98 [00:00<?, ?it/s]\u001b[0m\n",
      "                 Class     Images  Instances      Box(P          R      mAP50  mAP50-95): 100%|██████████| 98/98 [00:19<00:00,  5.15it/s]\n"
     ]
    },
    {
     "name": "stdout",
     "output_type": "stream",
     "text": [
      "                   all         98        205      0.903      0.683      0.761      0.388\n",
      "Speed: 104.1ms preprocess, 65.7ms inference, 0.0ms loss, 2.5ms postprocess per image\n",
      "Saving /data/mtmoore/school/CSiML_AI395T/final_project/models/yolo11/iterative/11m_2880imgsz_IP8M-H-SW-5epochs-val/predictions.json...\n",
      "Results saved to \u001b[1m/data/mtmoore/school/CSiML_AI395T/final_project/models/yolo11/iterative/11m_2880imgsz_IP8M-H-SW-5epochs-val\u001b[0m\n",
      "Ultralytics 8.3.29 🚀 Python-3.12.7 torch-2.2.2+cu121 CUDA:0 (NVIDIA GeForce RTX 4070 SUPER, 11904MiB)\n",
      "YOLO11m summary (fused): 303 layers, 20,030,803 parameters, 0 gradients, 67.6 GFLOPs\n"
     ]
    },
    {
     "name": "stderr",
     "output_type": "stream",
     "text": [
      "\u001b[34m\u001b[1mval: \u001b[0mScanning val/labels.cache... 98 images, 0 backgrounds, 0 corrupt: 100%|██████████| 98/98 [00:00<?, ?it/s]\u001b[0m\n",
      "                 Class     Images  Instances      Box(P          R      mAP50  mAP50-95): 100%|██████████| 98/98 [02:20<00:00,  1.43s/it] \n"
     ]
    },
    {
     "name": "stdout",
     "output_type": "stream",
     "text": [
      "                   all         98        205      0.972      0.649       0.77      0.423\n",
      "Speed: 112.1ms preprocess, 1298.3ms inference, 0.0ms loss, 2.2ms postprocess per image\n",
      "Saving /data/mtmoore/school/CSiML_AI395T/final_project/models/yolo11/iterative/11m_2880imgsz_IP8M-H-SW-6epochs-val/predictions.json...\n",
      "Results saved to \u001b[1m/data/mtmoore/school/CSiML_AI395T/final_project/models/yolo11/iterative/11m_2880imgsz_IP8M-H-SW-6epochs-val\u001b[0m\n",
      "Ultralytics 8.3.29 🚀 Python-3.12.7 torch-2.2.2+cu121 CUDA:0 (NVIDIA GeForce RTX 4070 SUPER, 11904MiB)\n",
      "YOLO11m summary (fused): 303 layers, 20,030,803 parameters, 0 gradients, 67.6 GFLOPs\n"
     ]
    },
    {
     "name": "stderr",
     "output_type": "stream",
     "text": [
      "\u001b[34m\u001b[1mval: \u001b[0mScanning val/labels.cache... 98 images, 0 backgrounds, 0 corrupt: 100%|██████████| 98/98 [00:00<?, ?it/s]\u001b[0m\n",
      "                 Class     Images  Instances      Box(P          R      mAP50  mAP50-95): 100%|██████████| 98/98 [00:19<00:00,  5.14it/s]\n"
     ]
    },
    {
     "name": "stdout",
     "output_type": "stream",
     "text": [
      "                   all         98        205      0.918      0.746      0.814      0.465\n",
      "Speed: 106.6ms preprocess, 65.5ms inference, 0.0ms loss, 2.1ms postprocess per image\n",
      "Saving /data/mtmoore/school/CSiML_AI395T/final_project/models/yolo11/iterative/11m_2880imgsz_IP8M-H-SW-7epochs-val/predictions.json...\n",
      "Results saved to \u001b[1m/data/mtmoore/school/CSiML_AI395T/final_project/models/yolo11/iterative/11m_2880imgsz_IP8M-H-SW-7epochs-val\u001b[0m\n",
      "Ultralytics 8.3.29 🚀 Python-3.12.7 torch-2.2.2+cu121 CUDA:0 (NVIDIA GeForce RTX 4070 SUPER, 11904MiB)\n",
      "YOLO11m summary (fused): 303 layers, 20,030,803 parameters, 0 gradients, 67.6 GFLOPs\n"
     ]
    },
    {
     "name": "stderr",
     "output_type": "stream",
     "text": [
      "\u001b[34m\u001b[1mval: \u001b[0mScanning val/labels.cache... 98 images, 0 backgrounds, 0 corrupt: 100%|██████████| 98/98 [00:00<?, ?it/s]\u001b[0m\n",
      "                 Class     Images  Instances      Box(P          R      mAP50  mAP50-95): 100%|██████████| 98/98 [00:19<00:00,  5.13it/s]\n"
     ]
    },
    {
     "name": "stdout",
     "output_type": "stream",
     "text": [
      "                   all         98        205      0.965      0.717      0.814      0.459\n",
      "Speed: 110.1ms preprocess, 65.4ms inference, 0.0ms loss, 1.9ms postprocess per image\n",
      "Saving /data/mtmoore/school/CSiML_AI395T/final_project/models/yolo11/iterative/11m_2880imgsz_IP8M-H-SW-8epochs-val/predictions.json...\n",
      "Results saved to \u001b[1m/data/mtmoore/school/CSiML_AI395T/final_project/models/yolo11/iterative/11m_2880imgsz_IP8M-H-SW-8epochs-val\u001b[0m\n",
      "Ultralytics 8.3.29 🚀 Python-3.12.7 torch-2.2.2+cu121 CUDA:0 (NVIDIA GeForce RTX 4070 SUPER, 11904MiB)\n",
      "YOLO11m summary (fused): 303 layers, 20,030,803 parameters, 0 gradients, 67.6 GFLOPs\n"
     ]
    },
    {
     "name": "stderr",
     "output_type": "stream",
     "text": [
      "\u001b[34m\u001b[1mval: \u001b[0mScanning val/labels.cache... 98 images, 0 backgrounds, 0 corrupt: 100%|██████████| 98/98 [00:00<?, ?it/s]\u001b[0m\n",
      "                 Class     Images  Instances      Box(P          R      mAP50  mAP50-95): 100%|██████████| 98/98 [00:18<00:00,  5.16it/s]\n"
     ]
    },
    {
     "name": "stdout",
     "output_type": "stream",
     "text": [
      "                   all         98        205      0.892      0.785      0.856      0.475\n",
      "Speed: 105.5ms preprocess, 66.2ms inference, 0.0ms loss, 2.2ms postprocess per image\n",
      "Saving /data/mtmoore/school/CSiML_AI395T/final_project/models/yolo11/iterative/11m_2880imgsz_IP8M-H-SW-9epochs-val/predictions.json...\n",
      "Results saved to \u001b[1m/data/mtmoore/school/CSiML_AI395T/final_project/models/yolo11/iterative/11m_2880imgsz_IP8M-H-SW-9epochs-val\u001b[0m\n",
      "Ultralytics 8.3.29 🚀 Python-3.12.7 torch-2.2.2+cu121 CUDA:0 (NVIDIA GeForce RTX 4070 SUPER, 11904MiB)\n",
      "YOLO11m summary (fused): 303 layers, 20,030,803 parameters, 0 gradients, 67.6 GFLOPs\n"
     ]
    },
    {
     "name": "stderr",
     "output_type": "stream",
     "text": [
      "\u001b[34m\u001b[1mval: \u001b[0mScanning val/labels.cache... 98 images, 0 backgrounds, 0 corrupt: 100%|██████████| 98/98 [00:00<?, ?it/s]\u001b[0m\n",
      "                 Class     Images  Instances      Box(P          R      mAP50  mAP50-95): 100%|██████████| 98/98 [00:18<00:00,  5.22it/s]\n"
     ]
    },
    {
     "name": "stdout",
     "output_type": "stream",
     "text": [
      "                   all         98        205      0.934      0.761      0.838      0.467\n",
      "Speed: 105.3ms preprocess, 65.2ms inference, 0.0ms loss, 2.3ms postprocess per image\n",
      "Saving /data/mtmoore/school/CSiML_AI395T/final_project/models/yolo11/iterative/11m_2880imgsz_IP8M-H-SW-10epochs-val/predictions.json...\n",
      "Results saved to \u001b[1m/data/mtmoore/school/CSiML_AI395T/final_project/models/yolo11/iterative/11m_2880imgsz_IP8M-H-SW-10epochs-val\u001b[0m\n",
      "Ultralytics 8.3.29 🚀 Python-3.12.7 torch-2.2.2+cu121 CUDA:0 (NVIDIA GeForce RTX 4070 SUPER, 11904MiB)\n",
      "YOLO11m summary (fused): 303 layers, 20,030,803 parameters, 0 gradients, 67.6 GFLOPs\n"
     ]
    },
    {
     "name": "stderr",
     "output_type": "stream",
     "text": [
      "\u001b[34m\u001b[1mval: \u001b[0mScanning val/labels.cache... 98 images, 0 backgrounds, 0 corrupt: 100%|██████████| 98/98 [00:00<?, ?it/s]\u001b[0m\n",
      "                 Class     Images  Instances      Box(P          R      mAP50  mAP50-95): 100%|██████████| 98/98 [00:18<00:00,  5.17it/s]\n"
     ]
    },
    {
     "name": "stdout",
     "output_type": "stream",
     "text": [
      "                   all         98        205      0.919      0.774      0.876      0.483\n",
      "Speed: 106.5ms preprocess, 65.6ms inference, 0.0ms loss, 2.2ms postprocess per image\n",
      "Saving /data/mtmoore/school/CSiML_AI395T/final_project/models/yolo11/iterative/11m_2880imgsz_IP8M-H-SW-11epochs-val/predictions.json...\n",
      "Results saved to \u001b[1m/data/mtmoore/school/CSiML_AI395T/final_project/models/yolo11/iterative/11m_2880imgsz_IP8M-H-SW-11epochs-val\u001b[0m\n",
      "Ultralytics 8.3.29 🚀 Python-3.12.7 torch-2.2.2+cu121 CUDA:0 (NVIDIA GeForce RTX 4070 SUPER, 11904MiB)\n",
      "YOLO11m summary (fused): 303 layers, 20,030,803 parameters, 0 gradients, 67.6 GFLOPs\n"
     ]
    },
    {
     "name": "stderr",
     "output_type": "stream",
     "text": [
      "\u001b[34m\u001b[1mval: \u001b[0mScanning val/labels.cache... 98 images, 0 backgrounds, 0 corrupt: 100%|██████████| 98/98 [00:00<?, ?it/s]\u001b[0m\n",
      "                 Class     Images  Instances      Box(P          R      mAP50  mAP50-95): 100%|██████████| 98/98 [00:18<00:00,  5.18it/s]\n"
     ]
    },
    {
     "name": "stdout",
     "output_type": "stream",
     "text": [
      "                   all         98        205      0.934      0.755      0.851      0.487\n",
      "Speed: 101.8ms preprocess, 65.2ms inference, 0.0ms loss, 2.2ms postprocess per image\n",
      "Saving /data/mtmoore/school/CSiML_AI395T/final_project/models/yolo11/iterative/11m_2880imgsz_IP8M-H-SW-12epochs-val/predictions.json...\n",
      "Results saved to \u001b[1m/data/mtmoore/school/CSiML_AI395T/final_project/models/yolo11/iterative/11m_2880imgsz_IP8M-H-SW-12epochs-val\u001b[0m\n",
      "Ultralytics 8.3.29 🚀 Python-3.12.7 torch-2.2.2+cu121 CUDA:0 (NVIDIA GeForce RTX 4070 SUPER, 11904MiB)\n",
      "YOLO11m summary (fused): 303 layers, 20,030,803 parameters, 0 gradients, 67.6 GFLOPs\n"
     ]
    },
    {
     "name": "stderr",
     "output_type": "stream",
     "text": [
      "\u001b[34m\u001b[1mval: \u001b[0mScanning val/labels.cache... 98 images, 0 backgrounds, 0 corrupt: 100%|██████████| 98/98 [00:00<?, ?it/s]\u001b[0m\n",
      "                 Class     Images  Instances      Box(P          R      mAP50  mAP50-95): 100%|██████████| 98/98 [00:18<00:00,  5.23it/s]\n"
     ]
    },
    {
     "name": "stdout",
     "output_type": "stream",
     "text": [
      "                   all         98        205      0.921       0.79      0.875      0.508\n",
      "Speed: 102.7ms preprocess, 65.2ms inference, 0.0ms loss, 2.2ms postprocess per image\n",
      "Saving /data/mtmoore/school/CSiML_AI395T/final_project/models/yolo11/iterative/11m_2880imgsz_IP8M-H-SW-13epochs-val/predictions.json...\n",
      "Results saved to \u001b[1m/data/mtmoore/school/CSiML_AI395T/final_project/models/yolo11/iterative/11m_2880imgsz_IP8M-H-SW-13epochs-val\u001b[0m\n",
      "Ultralytics 8.3.29 🚀 Python-3.12.7 torch-2.2.2+cu121 CUDA:0 (NVIDIA GeForce RTX 4070 SUPER, 11904MiB)\n",
      "YOLO11m summary (fused): 303 layers, 20,030,803 parameters, 0 gradients, 67.6 GFLOPs\n"
     ]
    },
    {
     "name": "stderr",
     "output_type": "stream",
     "text": [
      "\u001b[34m\u001b[1mval: \u001b[0mScanning val/labels.cache... 98 images, 0 backgrounds, 0 corrupt: 100%|██████████| 98/98 [00:00<?, ?it/s]\u001b[0m\n",
      "                 Class     Images  Instances      Box(P          R      mAP50  mAP50-95): 100%|██████████| 98/98 [00:19<00:00,  5.15it/s]\n"
     ]
    },
    {
     "name": "stdout",
     "output_type": "stream",
     "text": [
      "                   all         98        205      0.941      0.777      0.892       0.53\n",
      "Speed: 109.3ms preprocess, 65.2ms inference, 0.0ms loss, 2.3ms postprocess per image\n",
      "Saving /data/mtmoore/school/CSiML_AI395T/final_project/models/yolo11/iterative/11m_2880imgsz_IP8M-H-SW-14epochs-val/predictions.json...\n",
      "Results saved to \u001b[1m/data/mtmoore/school/CSiML_AI395T/final_project/models/yolo11/iterative/11m_2880imgsz_IP8M-H-SW-14epochs-val\u001b[0m\n",
      "Ultralytics 8.3.29 🚀 Python-3.12.7 torch-2.2.2+cu121 CUDA:0 (NVIDIA GeForce RTX 4070 SUPER, 11904MiB)\n",
      "YOLO11m summary (fused): 303 layers, 20,030,803 parameters, 0 gradients, 67.6 GFLOPs\n"
     ]
    },
    {
     "name": "stderr",
     "output_type": "stream",
     "text": [
      "\u001b[34m\u001b[1mval: \u001b[0mScanning val/labels.cache... 98 images, 0 backgrounds, 0 corrupt: 100%|██████████| 98/98 [00:00<?, ?it/s]\u001b[0m\n",
      "                 Class     Images  Instances      Box(P          R      mAP50  mAP50-95): 100%|██████████| 98/98 [00:19<00:00,  5.11it/s]\n"
     ]
    },
    {
     "name": "stdout",
     "output_type": "stream",
     "text": [
      "                   all         98        205      0.931      0.776      0.871      0.528\n",
      "Speed: 107.2ms preprocess, 65.4ms inference, 0.0ms loss, 2.1ms postprocess per image\n",
      "Saving /data/mtmoore/school/CSiML_AI395T/final_project/models/yolo11/iterative/11m_2880imgsz_IP8M-H-SW-15epochs-val/predictions.json...\n",
      "Results saved to \u001b[1m/data/mtmoore/school/CSiML_AI395T/final_project/models/yolo11/iterative/11m_2880imgsz_IP8M-H-SW-15epochs-val\u001b[0m\n",
      "Ultralytics 8.3.29 🚀 Python-3.12.7 torch-2.2.2+cu121 CUDA:0 (NVIDIA GeForce RTX 4070 SUPER, 11904MiB)\n",
      "YOLO11m summary (fused): 303 layers, 20,030,803 parameters, 0 gradients, 67.6 GFLOPs\n"
     ]
    },
    {
     "name": "stderr",
     "output_type": "stream",
     "text": [
      "\u001b[34m\u001b[1mval: \u001b[0mScanning val/labels.cache... 98 images, 0 backgrounds, 0 corrupt: 100%|██████████| 98/98 [00:00<?, ?it/s]\u001b[0m\n",
      "                 Class     Images  Instances      Box(P          R      mAP50  mAP50-95): 100%|██████████| 98/98 [00:18<00:00,  5.17it/s]\n"
     ]
    },
    {
     "name": "stdout",
     "output_type": "stream",
     "text": [
      "                   all         98        205      0.913      0.839      0.904      0.545\n",
      "Speed: 109.2ms preprocess, 65.4ms inference, 0.0ms loss, 2.1ms postprocess per image\n",
      "Saving /data/mtmoore/school/CSiML_AI395T/final_project/models/yolo11/iterative/11m_2880imgsz_IP8M-H-SW-16epochs-val/predictions.json...\n",
      "Results saved to \u001b[1m/data/mtmoore/school/CSiML_AI395T/final_project/models/yolo11/iterative/11m_2880imgsz_IP8M-H-SW-16epochs-val\u001b[0m\n",
      "Ultralytics 8.3.29 🚀 Python-3.12.7 torch-2.2.2+cu121 CUDA:0 (NVIDIA GeForce RTX 4070 SUPER, 11904MiB)\n",
      "YOLO11m summary (fused): 303 layers, 20,030,803 parameters, 0 gradients, 67.6 GFLOPs\n"
     ]
    },
    {
     "name": "stderr",
     "output_type": "stream",
     "text": [
      "\u001b[34m\u001b[1mval: \u001b[0mScanning val/labels.cache... 98 images, 0 backgrounds, 0 corrupt: 100%|██████████| 98/98 [00:00<?, ?it/s]\u001b[0m\n",
      "                 Class     Images  Instances      Box(P          R      mAP50  mAP50-95): 100%|██████████| 98/98 [00:19<00:00,  5.15it/s]\n"
     ]
    },
    {
     "name": "stdout",
     "output_type": "stream",
     "text": [
      "                   all         98        205      0.915      0.843      0.908      0.557\n",
      "Speed: 109.6ms preprocess, 65.3ms inference, 0.0ms loss, 2.0ms postprocess per image\n",
      "Saving /data/mtmoore/school/CSiML_AI395T/final_project/models/yolo11/iterative/11m_2880imgsz_IP8M-H-SW-17epochs-val/predictions.json...\n",
      "Results saved to \u001b[1m/data/mtmoore/school/CSiML_AI395T/final_project/models/yolo11/iterative/11m_2880imgsz_IP8M-H-SW-17epochs-val\u001b[0m\n",
      "Ultralytics 8.3.29 🚀 Python-3.12.7 torch-2.2.2+cu121 CUDA:0 (NVIDIA GeForce RTX 4070 SUPER, 11904MiB)\n",
      "YOLO11m summary (fused): 303 layers, 20,030,803 parameters, 0 gradients, 67.6 GFLOPs\n"
     ]
    },
    {
     "name": "stderr",
     "output_type": "stream",
     "text": [
      "\u001b[34m\u001b[1mval: \u001b[0mScanning val/labels.cache... 98 images, 0 backgrounds, 0 corrupt: 100%|██████████| 98/98 [00:00<?, ?it/s]\u001b[0m\n",
      "                 Class     Images  Instances      Box(P          R      mAP50  mAP50-95): 100%|██████████| 98/98 [00:19<00:00,  5.15it/s]\n"
     ]
    },
    {
     "name": "stdout",
     "output_type": "stream",
     "text": [
      "                   all         98        205      0.944      0.828      0.924      0.553\n",
      "Speed: 106.0ms preprocess, 65.3ms inference, 0.0ms loss, 2.1ms postprocess per image\n",
      "Saving /data/mtmoore/school/CSiML_AI395T/final_project/models/yolo11/iterative/11m_2880imgsz_IP8M-H-SW-18epochs-val/predictions.json...\n",
      "Results saved to \u001b[1m/data/mtmoore/school/CSiML_AI395T/final_project/models/yolo11/iterative/11m_2880imgsz_IP8M-H-SW-18epochs-val\u001b[0m\n",
      "Ultralytics 8.3.29 🚀 Python-3.12.7 torch-2.2.2+cu121 CUDA:0 (NVIDIA GeForce RTX 4070 SUPER, 11904MiB)\n",
      "YOLO11m summary (fused): 303 layers, 20,030,803 parameters, 0 gradients, 67.6 GFLOPs\n"
     ]
    },
    {
     "name": "stderr",
     "output_type": "stream",
     "text": [
      "\u001b[34m\u001b[1mval: \u001b[0mScanning val/labels.cache... 98 images, 0 backgrounds, 0 corrupt: 100%|██████████| 98/98 [00:00<?, ?it/s]\u001b[0m\n",
      "                 Class     Images  Instances      Box(P          R      mAP50  mAP50-95): 100%|██████████| 98/98 [00:19<00:00,  5.13it/s]\n"
     ]
    },
    {
     "name": "stdout",
     "output_type": "stream",
     "text": [
      "                   all         98        205      0.958      0.784      0.888      0.563\n",
      "Speed: 110.5ms preprocess, 65.4ms inference, 0.0ms loss, 2.0ms postprocess per image\n",
      "Saving /data/mtmoore/school/CSiML_AI395T/final_project/models/yolo11/iterative/11m_2880imgsz_IP8M-H-SW-19epochs-val/predictions.json...\n",
      "Results saved to \u001b[1m/data/mtmoore/school/CSiML_AI395T/final_project/models/yolo11/iterative/11m_2880imgsz_IP8M-H-SW-19epochs-val\u001b[0m\n",
      "Ultralytics 8.3.29 🚀 Python-3.12.7 torch-2.2.2+cu121 CUDA:0 (NVIDIA GeForce RTX 4070 SUPER, 11904MiB)\n",
      "YOLO11m summary (fused): 303 layers, 20,030,803 parameters, 0 gradients, 67.6 GFLOPs\n"
     ]
    },
    {
     "name": "stderr",
     "output_type": "stream",
     "text": [
      "\u001b[34m\u001b[1mval: \u001b[0mScanning val/labels.cache... 98 images, 0 backgrounds, 0 corrupt: 100%|██████████| 98/98 [00:00<?, ?it/s]\u001b[0m\n",
      "                 Class     Images  Instances      Box(P          R      mAP50  mAP50-95): 100%|██████████| 98/98 [00:19<00:00,  5.10it/s]\n"
     ]
    },
    {
     "name": "stdout",
     "output_type": "stream",
     "text": [
      "                   all         98        205      0.909      0.868      0.917      0.567\n",
      "Speed: 110.3ms preprocess, 66.1ms inference, 0.0ms loss, 2.2ms postprocess per image\n",
      "Saving /data/mtmoore/school/CSiML_AI395T/final_project/models/yolo11/iterative/11m_2880imgsz_IP8M-H-SW-20epochs-val/predictions.json...\n",
      "Results saved to \u001b[1m/data/mtmoore/school/CSiML_AI395T/final_project/models/yolo11/iterative/11m_2880imgsz_IP8M-H-SW-20epochs-val\u001b[0m\n",
      "Ultralytics 8.3.29 🚀 Python-3.12.7 torch-2.2.2+cu121 CUDA:0 (NVIDIA GeForce RTX 4070 SUPER, 11904MiB)\n",
      "YOLO11m summary (fused): 303 layers, 20,030,803 parameters, 0 gradients, 67.6 GFLOPs\n"
     ]
    },
    {
     "name": "stderr",
     "output_type": "stream",
     "text": [
      "\u001b[34m\u001b[1mval: \u001b[0mScanning val/labels.cache... 98 images, 0 backgrounds, 0 corrupt: 100%|██████████| 98/98 [00:00<?, ?it/s]\u001b[0m\n",
      "                 Class     Images  Instances      Box(P          R      mAP50  mAP50-95): 100%|██████████| 98/98 [00:18<00:00,  5.17it/s]\n"
     ]
    },
    {
     "name": "stdout",
     "output_type": "stream",
     "text": [
      "                   all         98        205      0.962        0.8      0.889      0.562\n",
      "Speed: 105.5ms preprocess, 65.3ms inference, 0.0ms loss, 2.2ms postprocess per image\n",
      "Saving /data/mtmoore/school/CSiML_AI395T/final_project/models/yolo11/iterative/11m_2880imgsz_IP8M-H-SW-21epochs-val/predictions.json...\n",
      "Results saved to \u001b[1m/data/mtmoore/school/CSiML_AI395T/final_project/models/yolo11/iterative/11m_2880imgsz_IP8M-H-SW-21epochs-val\u001b[0m\n",
      "Ultralytics 8.3.29 🚀 Python-3.12.7 torch-2.2.2+cu121 CUDA:0 (NVIDIA GeForce RTX 4070 SUPER, 11904MiB)\n",
      "YOLO11m summary (fused): 303 layers, 20,030,803 parameters, 0 gradients, 67.6 GFLOPs\n"
     ]
    },
    {
     "name": "stderr",
     "output_type": "stream",
     "text": [
      "\u001b[34m\u001b[1mval: \u001b[0mScanning val/labels.cache... 98 images, 0 backgrounds, 0 corrupt: 100%|██████████| 98/98 [00:00<?, ?it/s]\u001b[0m\n",
      "                 Class     Images  Instances      Box(P          R      mAP50  mAP50-95): 100%|██████████| 98/98 [00:18<00:00,  5.18it/s]\n"
     ]
    },
    {
     "name": "stdout",
     "output_type": "stream",
     "text": [
      "                   all         98        205      0.935      0.837      0.925      0.575\n",
      "Speed: 108.5ms preprocess, 65.3ms inference, 0.0ms loss, 2.2ms postprocess per image\n",
      "Saving /data/mtmoore/school/CSiML_AI395T/final_project/models/yolo11/iterative/11m_2880imgsz_IP8M-H-SW-22epochs-val/predictions.json...\n",
      "Results saved to \u001b[1m/data/mtmoore/school/CSiML_AI395T/final_project/models/yolo11/iterative/11m_2880imgsz_IP8M-H-SW-22epochs-val\u001b[0m\n",
      "Ultralytics 8.3.29 🚀 Python-3.12.7 torch-2.2.2+cu121 CUDA:0 (NVIDIA GeForce RTX 4070 SUPER, 11904MiB)\n",
      "YOLO11m summary (fused): 303 layers, 20,030,803 parameters, 0 gradients, 67.6 GFLOPs\n"
     ]
    },
    {
     "name": "stderr",
     "output_type": "stream",
     "text": [
      "\u001b[34m\u001b[1mval: \u001b[0mScanning val/labels.cache... 98 images, 0 backgrounds, 0 corrupt: 100%|██████████| 98/98 [00:00<?, ?it/s]\u001b[0m\n",
      "                 Class     Images  Instances      Box(P          R      mAP50  mAP50-95): 100%|██████████| 98/98 [00:19<00:00,  5.07it/s]\n"
     ]
    },
    {
     "name": "stdout",
     "output_type": "stream",
     "text": [
      "                   all         98        205      0.935      0.843      0.915      0.573\n",
      "Speed: 109.3ms preprocess, 66.7ms inference, 0.0ms loss, 2.2ms postprocess per image\n",
      "Saving /data/mtmoore/school/CSiML_AI395T/final_project/models/yolo11/iterative/11m_2880imgsz_IP8M-H-SW-23epochs-val/predictions.json...\n",
      "Results saved to \u001b[1m/data/mtmoore/school/CSiML_AI395T/final_project/models/yolo11/iterative/11m_2880imgsz_IP8M-H-SW-23epochs-val\u001b[0m\n",
      "Ultralytics 8.3.29 🚀 Python-3.12.7 torch-2.2.2+cu121 CUDA:0 (NVIDIA GeForce RTX 4070 SUPER, 11904MiB)\n",
      "YOLO11m summary (fused): 303 layers, 20,030,803 parameters, 0 gradients, 67.6 GFLOPs\n"
     ]
    },
    {
     "name": "stderr",
     "output_type": "stream",
     "text": [
      "\u001b[34m\u001b[1mval: \u001b[0mScanning val/labels.cache... 98 images, 0 backgrounds, 0 corrupt: 100%|██████████| 98/98 [00:00<?, ?it/s]\u001b[0m\n",
      "                 Class     Images  Instances      Box(P          R      mAP50  mAP50-95): 100%|██████████| 98/98 [00:18<00:00,  5.19it/s]\n"
     ]
    },
    {
     "name": "stdout",
     "output_type": "stream",
     "text": [
      "                   all         98        205      0.949      0.839      0.928      0.599\n",
      "Speed: 105.0ms preprocess, 65.4ms inference, 0.0ms loss, 2.1ms postprocess per image\n",
      "Saving /data/mtmoore/school/CSiML_AI395T/final_project/models/yolo11/iterative/11m_2880imgsz_IP8M-H-SW-24epochs-val/predictions.json...\n",
      "Results saved to \u001b[1m/data/mtmoore/school/CSiML_AI395T/final_project/models/yolo11/iterative/11m_2880imgsz_IP8M-H-SW-24epochs-val\u001b[0m\n",
      "Ultralytics 8.3.29 🚀 Python-3.12.7 torch-2.2.2+cu121 CUDA:0 (NVIDIA GeForce RTX 4070 SUPER, 11904MiB)\n",
      "YOLO11m summary (fused): 303 layers, 20,030,803 parameters, 0 gradients, 67.6 GFLOPs\n"
     ]
    },
    {
     "name": "stderr",
     "output_type": "stream",
     "text": [
      "\u001b[34m\u001b[1mval: \u001b[0mScanning val/labels.cache... 98 images, 0 backgrounds, 0 corrupt: 100%|██████████| 98/98 [00:00<?, ?it/s]\u001b[0m\n",
      "                 Class     Images  Instances      Box(P          R      mAP50  mAP50-95): 100%|██████████| 98/98 [00:18<00:00,  5.16it/s]\n"
     ]
    },
    {
     "name": "stdout",
     "output_type": "stream",
     "text": [
      "                   all         98        205      0.929      0.844      0.918       0.59\n",
      "Speed: 108.3ms preprocess, 65.5ms inference, 0.0ms loss, 2.0ms postprocess per image\n",
      "Saving /data/mtmoore/school/CSiML_AI395T/final_project/models/yolo11/iterative/11m_2880imgsz_IP8M-H-SW-25epochs-val/predictions.json...\n",
      "Results saved to \u001b[1m/data/mtmoore/school/CSiML_AI395T/final_project/models/yolo11/iterative/11m_2880imgsz_IP8M-H-SW-25epochs-val\u001b[0m\n",
      "Ultralytics 8.3.29 🚀 Python-3.12.7 torch-2.2.2+cu121 CUDA:0 (NVIDIA GeForce RTX 4070 SUPER, 11904MiB)\n",
      "YOLO11m summary (fused): 303 layers, 20,030,803 parameters, 0 gradients, 67.6 GFLOPs\n"
     ]
    },
    {
     "name": "stderr",
     "output_type": "stream",
     "text": [
      "\u001b[34m\u001b[1mval: \u001b[0mScanning val/labels.cache... 98 images, 0 backgrounds, 0 corrupt: 100%|██████████| 98/98 [00:00<?, ?it/s]\u001b[0m\n",
      "                 Class     Images  Instances      Box(P          R      mAP50  mAP50-95): 100%|██████████| 98/98 [00:19<00:00,  5.11it/s]\n"
     ]
    },
    {
     "name": "stdout",
     "output_type": "stream",
     "text": [
      "                   all         98        205      0.878      0.774      0.858      0.492\n",
      "Speed: 112.7ms preprocess, 65.9ms inference, 0.0ms loss, 2.0ms postprocess per image\n",
      "Saving /data/mtmoore/school/CSiML_AI395T/final_project/models/yolo11/iterative/11m_2880imgsz_IP8M-H-SW-30epochs-val/predictions.json...\n",
      "Results saved to \u001b[1m/data/mtmoore/school/CSiML_AI395T/final_project/models/yolo11/iterative/11m_2880imgsz_IP8M-H-SW-30epochs-val\u001b[0m\n",
      "Ultralytics 8.3.29 🚀 Python-3.12.7 torch-2.2.2+cu121 CUDA:0 (NVIDIA GeForce RTX 4070 SUPER, 11904MiB)\n",
      "YOLO11m summary (fused): 303 layers, 20,030,803 parameters, 0 gradients, 67.6 GFLOPs\n"
     ]
    },
    {
     "name": "stderr",
     "output_type": "stream",
     "text": [
      "\u001b[34m\u001b[1mval: \u001b[0mScanning val/labels.cache... 98 images, 0 backgrounds, 0 corrupt: 100%|██████████| 98/98 [00:00<?, ?it/s]\u001b[0m\n",
      "                 Class     Images  Instances      Box(P          R      mAP50  mAP50-95): 100%|██████████| 98/98 [00:19<00:00,  5.12it/s]\n"
     ]
    },
    {
     "name": "stdout",
     "output_type": "stream",
     "text": [
      "                   all         98        205      0.915      0.805      0.891      0.541\n",
      "Speed: 106.5ms preprocess, 65.7ms inference, 0.0ms loss, 2.2ms postprocess per image\n",
      "Saving /data/mtmoore/school/CSiML_AI395T/final_project/models/yolo11/iterative/11m_2880imgsz_IP8M-H-SW-35epochs-val/predictions.json...\n",
      "Results saved to \u001b[1m/data/mtmoore/school/CSiML_AI395T/final_project/models/yolo11/iterative/11m_2880imgsz_IP8M-H-SW-35epochs-val\u001b[0m\n",
      "Ultralytics 8.3.29 🚀 Python-3.12.7 torch-2.2.2+cu121 CUDA:0 (NVIDIA GeForce RTX 4070 SUPER, 11904MiB)\n",
      "YOLO11m summary (fused): 303 layers, 20,030,803 parameters, 0 gradients, 67.6 GFLOPs\n"
     ]
    },
    {
     "name": "stderr",
     "output_type": "stream",
     "text": [
      "\u001b[34m\u001b[1mval: \u001b[0mScanning val/labels.cache... 98 images, 0 backgrounds, 0 corrupt: 100%|██████████| 98/98 [00:00<?, ?it/s]\u001b[0m\n",
      "                 Class     Images  Instances      Box(P          R      mAP50  mAP50-95): 100%|██████████| 98/98 [00:19<00:00,  5.08it/s]\n"
     ]
    },
    {
     "name": "stdout",
     "output_type": "stream",
     "text": [
      "                   all         98        205      0.939      0.849      0.908      0.556\n",
      "Speed: 111.3ms preprocess, 65.9ms inference, 0.0ms loss, 2.1ms postprocess per image\n",
      "Saving /data/mtmoore/school/CSiML_AI395T/final_project/models/yolo11/iterative/11m_2880imgsz_IP8M-H-SW-40epochs-val/predictions.json...\n",
      "Results saved to \u001b[1m/data/mtmoore/school/CSiML_AI395T/final_project/models/yolo11/iterative/11m_2880imgsz_IP8M-H-SW-40epochs-val\u001b[0m\n",
      "Ultralytics 8.3.29 🚀 Python-3.12.7 torch-2.2.2+cu121 CUDA:0 (NVIDIA GeForce RTX 4070 SUPER, 11904MiB)\n",
      "YOLO11m summary (fused): 303 layers, 20,030,803 parameters, 0 gradients, 67.6 GFLOPs\n"
     ]
    },
    {
     "name": "stderr",
     "output_type": "stream",
     "text": [
      "\u001b[34m\u001b[1mval: \u001b[0mScanning val/labels.cache... 98 images, 0 backgrounds, 0 corrupt: 100%|██████████| 98/98 [00:00<?, ?it/s]\u001b[0m\n",
      "                 Class     Images  Instances      Box(P          R      mAP50  mAP50-95): 100%|██████████| 98/98 [00:19<00:00,  5.12it/s]\n"
     ]
    },
    {
     "name": "stdout",
     "output_type": "stream",
     "text": [
      "                   all         98        205       0.96      0.834      0.915      0.577\n",
      "Speed: 109.7ms preprocess, 65.7ms inference, 0.0ms loss, 2.1ms postprocess per image\n",
      "Saving /data/mtmoore/school/CSiML_AI395T/final_project/models/yolo11/iterative/11m_2880imgsz_IP8M-H-SW-45epochs-val/predictions.json...\n",
      "Results saved to \u001b[1m/data/mtmoore/school/CSiML_AI395T/final_project/models/yolo11/iterative/11m_2880imgsz_IP8M-H-SW-45epochs-val\u001b[0m\n",
      "Ultralytics 8.3.29 🚀 Python-3.12.7 torch-2.2.2+cu121 CUDA:0 (NVIDIA GeForce RTX 4070 SUPER, 11904MiB)\n",
      "YOLO11m summary (fused): 303 layers, 20,030,803 parameters, 0 gradients, 67.6 GFLOPs\n"
     ]
    },
    {
     "name": "stderr",
     "output_type": "stream",
     "text": [
      "\u001b[34m\u001b[1mval: \u001b[0mScanning val/labels.cache... 98 images, 0 backgrounds, 0 corrupt: 100%|██████████| 98/98 [00:00<?, ?it/s]\u001b[0m\n",
      "                 Class     Images  Instances      Box(P          R      mAP50  mAP50-95): 100%|██████████| 98/98 [00:18<00:00,  5.17it/s]\n"
     ]
    },
    {
     "name": "stdout",
     "output_type": "stream",
     "text": [
      "                   all         98        205      0.903      0.844      0.893      0.548\n",
      "Speed: 106.3ms preprocess, 65.2ms inference, 0.0ms loss, 2.2ms postprocess per image\n",
      "Saving /data/mtmoore/school/CSiML_AI395T/final_project/models/yolo11/iterative/11m_2880imgsz_IP8M-H-SW-60epochs-val/predictions.json...\n",
      "Results saved to \u001b[1m/data/mtmoore/school/CSiML_AI395T/final_project/models/yolo11/iterative/11m_2880imgsz_IP8M-H-SW-60epochs-val\u001b[0m\n",
      "Ultralytics 8.3.29 🚀 Python-3.12.7 torch-2.2.2+cu121 CUDA:0 (NVIDIA GeForce RTX 4070 SUPER, 11904MiB)\n",
      "YOLO11m summary (fused): 303 layers, 20,030,803 parameters, 0 gradients, 67.6 GFLOPs\n"
     ]
    },
    {
     "name": "stderr",
     "output_type": "stream",
     "text": [
      "\u001b[34m\u001b[1mval: \u001b[0mScanning val/labels.cache... 98 images, 0 backgrounds, 0 corrupt: 100%|██████████| 98/98 [00:00<?, ?it/s]\u001b[0m\n",
      "                 Class     Images  Instances      Box(P          R      mAP50  mAP50-95): 100%|██████████| 98/98 [00:19<00:00,  5.11it/s]\n"
     ]
    },
    {
     "name": "stdout",
     "output_type": "stream",
     "text": [
      "                   all         98        205      0.911      0.854      0.912      0.604\n",
      "Speed: 110.1ms preprocess, 65.7ms inference, 0.0ms loss, 2.3ms postprocess per image\n",
      "Saving /data/mtmoore/school/CSiML_AI395T/final_project/models/yolo11/iterative/11m_2880imgsz_IP8M-H-SW-70epochs-val/predictions.json...\n",
      "Results saved to \u001b[1m/data/mtmoore/school/CSiML_AI395T/final_project/models/yolo11/iterative/11m_2880imgsz_IP8M-H-SW-70epochs-val\u001b[0m\n",
      "Ultralytics 8.3.29 🚀 Python-3.12.7 torch-2.2.2+cu121 CUDA:0 (NVIDIA GeForce RTX 4070 SUPER, 11904MiB)\n",
      "YOLO11m summary (fused): 303 layers, 20,030,803 parameters, 0 gradients, 67.6 GFLOPs\n"
     ]
    },
    {
     "name": "stderr",
     "output_type": "stream",
     "text": [
      "\u001b[34m\u001b[1mval: \u001b[0mScanning val/labels.cache... 98 images, 0 backgrounds, 0 corrupt: 100%|██████████| 98/98 [00:00<?, ?it/s]\u001b[0m\n",
      "                 Class     Images  Instances      Box(P          R      mAP50  mAP50-95): 100%|██████████| 98/98 [00:18<00:00,  5.17it/s]\n"
     ]
    },
    {
     "name": "stdout",
     "output_type": "stream",
     "text": [
      "                   all         98        205      0.924      0.883      0.925      0.615\n",
      "Speed: 109.5ms preprocess, 65.2ms inference, 0.0ms loss, 2.0ms postprocess per image\n",
      "Saving /data/mtmoore/school/CSiML_AI395T/final_project/models/yolo11/iterative/11m_2880imgsz_IP8M-H-SW-80epochs-val/predictions.json...\n",
      "Results saved to \u001b[1m/data/mtmoore/school/CSiML_AI395T/final_project/models/yolo11/iterative/11m_2880imgsz_IP8M-H-SW-80epochs-val\u001b[0m\n",
      "Ultralytics 8.3.29 🚀 Python-3.12.7 torch-2.2.2+cu121 CUDA:0 (NVIDIA GeForce RTX 4070 SUPER, 11904MiB)\n",
      "YOLO11m summary (fused): 303 layers, 20,030,803 parameters, 0 gradients, 67.6 GFLOPs\n"
     ]
    },
    {
     "name": "stderr",
     "output_type": "stream",
     "text": [
      "\u001b[34m\u001b[1mval: \u001b[0mScanning val/labels.cache... 98 images, 0 backgrounds, 0 corrupt: 100%|██████████| 98/98 [00:00<?, ?it/s]\u001b[0m\n",
      "                 Class     Images  Instances      Box(P          R      mAP50  mAP50-95): 100%|██████████| 98/98 [00:19<00:00,  5.13it/s]\n"
     ]
    },
    {
     "name": "stdout",
     "output_type": "stream",
     "text": [
      "                   all         98        205      0.923      0.863      0.909      0.588\n",
      "Speed: 108.8ms preprocess, 65.5ms inference, 0.0ms loss, 2.0ms postprocess per image\n",
      "Saving /data/mtmoore/school/CSiML_AI395T/final_project/models/yolo11/iterative/11m_2880imgsz_IP8M-H-SW-90epochs-val/predictions.json...\n",
      "Results saved to \u001b[1m/data/mtmoore/school/CSiML_AI395T/final_project/models/yolo11/iterative/11m_2880imgsz_IP8M-H-SW-90epochs-val\u001b[0m\n",
      "Ultralytics 8.3.29 🚀 Python-3.12.7 torch-2.2.2+cu121 CUDA:0 (NVIDIA GeForce RTX 4070 SUPER, 11904MiB)\n",
      "YOLO11m summary (fused): 303 layers, 20,030,803 parameters, 0 gradients, 67.6 GFLOPs\n"
     ]
    },
    {
     "name": "stderr",
     "output_type": "stream",
     "text": [
      "\u001b[34m\u001b[1mval: \u001b[0mScanning val/labels.cache... 98 images, 0 backgrounds, 0 corrupt: 100%|██████████| 98/98 [00:00<?, ?it/s]\u001b[0m\n",
      "                 Class     Images  Instances      Box(P          R      mAP50  mAP50-95): 100%|██████████| 98/98 [00:19<00:00,  5.16it/s]\n"
     ]
    },
    {
     "name": "stdout",
     "output_type": "stream",
     "text": [
      "                   all         98        205      0.923      0.823      0.897      0.595\n",
      "Speed: 109.4ms preprocess, 65.3ms inference, 0.0ms loss, 2.0ms postprocess per image\n",
      "Saving /data/mtmoore/school/CSiML_AI395T/final_project/models/yolo11/iterative/11m_2880imgsz_IP8M-H-SW-100epochs-val/predictions.json...\n",
      "Results saved to \u001b[1m/data/mtmoore/school/CSiML_AI395T/final_project/models/yolo11/iterative/11m_2880imgsz_IP8M-H-SW-100epochs-val\u001b[0m\n"
     ]
    }
   ],
   "source": [
    "os.chdir(\"/data/mtmoore/school/CSiML_AI395T/final_project/dataset/yolov8_dataset/\")\n",
    "project=\"/data/mtmoore/school/CSiML_AI395T/final_project/models/yolo11/iterative\"\n",
    "\n",
    "for model_name in [\"11s\", \"11m\"]:\n",
    "    for imgsize in [720, 1440, 2880]:\n",
    "        for i in list(range(1, 25)) + list(range(25, 50, 5)) + list(range(60, 101, 10)):\n",
    "            name = f\"{model_name}_{imgsize}imgsz_IP8M-H-SW-{i}epochs\"\n",
    "            if not os.path.exists( os.path.join(project, name) ):\n",
    "                print(f\"no model dir {name}\")\n",
    "                continue\n",
    "\n",
    "            model = YOLO(f\"{project}/{name}/weights/best.pt\") \n",
    "\n",
    "            name = f\"{model_name}_{imgsize}imgsz_IP8M-H-SW-{i}epochs-val\"\n",
    "            if os.path.exists( os.path.join(project, name, \"metrics.json\") ):\n",
    "                print(f\"already completed {os.path.join(project, name)}\")\n",
    "                continue\n",
    "\n",
    "            metrics = model.val(data=\"/data/mtmoore/school/CSiML_AI395T/final_project/dataset/yolov8_dataset/data.yaml\", \\\n",
    "                                project=project, name=name, save_json=True, plots=True, imgsz=imgsize, batch=1)\n",
    "            store_metrics = metrics.results_dict.copy()\n",
    "            store_metrics['category_mAP50-95'] = metrics.box.maps.tolist()\n",
    "            with open(os.path.join(project, name, \"metrics.json\"), \"w\") as o:\n",
    "                o.write(json.dumps(store_metrics))"
   ]
  },
  {
   "cell_type": "code",
   "execution_count": null,
   "id": "1e8ea979-69e5-4020-8ccf-ca7c06c95cb5",
   "metadata": {},
   "outputs": [],
   "source": []
  }
 ],
 "metadata": {
  "kernelspec": {
   "display_name": "csiml-final-ultralytics",
   "language": "python",
   "name": "csiml-final-ultralytics"
  },
  "language_info": {
   "codemirror_mode": {
    "name": "ipython",
    "version": 3
   },
   "file_extension": ".py",
   "mimetype": "text/x-python",
   "name": "python",
   "nbconvert_exporter": "python",
   "pygments_lexer": "ipython3",
   "version": "3.12.7"
  }
 },
 "nbformat": 4,
 "nbformat_minor": 5
}
