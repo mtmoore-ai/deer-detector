{
 "cells": [
  {
   "cell_type": "code",
   "execution_count": 1,
   "id": "0db5f15f-75f7-4c00-9f58-f2b4fbab1bd6",
   "metadata": {},
   "outputs": [],
   "source": [
    "import os\n",
    "import json\n",
    "from ultralytics import YOLO\n",
    "os.environ[\"PYTORCH_CUDA_ALLOC_CONF\"]=\"expandable_segments:True\""
   ]
  },
  {
   "cell_type": "markdown",
   "id": "015cdb35-60a5-4816-ad49-bc6873640bf4",
   "metadata": {},
   "source": [
    "# Initial Training"
   ]
  },
  {
   "cell_type": "code",
   "execution_count": null,
   "id": "f1375977-4c07-4daa-8f35-d05fa0dea3e9",
   "metadata": {},
   "outputs": [
    {
     "name": "stdout",
     "output_type": "stream",
     "text": [
      "New https://pypi.org/project/ultralytics/8.3.31 available 😃 Update with 'pip install -U ultralytics'\n",
      "Ultralytics 8.3.29 🚀 Python-3.12.7 torch-2.2.2+cu121 CUDA:0 (NVIDIA GeForce RTX 4070 SUPER, 11904MiB)\n",
      "\u001b[34m\u001b[1mengine/trainer: \u001b[0mtask=detect, mode=train, model=yolo11n.pt, data=/data/mtmoore/school/CSiML_AI395T/final_project/dataset/yolov8_dataset/data.yaml, epochs=1, time=None, patience=100, batch=16, imgsz=720, save=True, save_period=-1, cache=False, device=None, workers=8, project=/data/mtmoore/school/CSiML_AI395T/final_project/models/yolo11/iterative, name=11n_720imgsz_IP8M-H-SW-1epochs, exist_ok=False, pretrained=True, optimizer=auto, verbose=True, seed=0, deterministic=True, single_cls=False, rect=False, cos_lr=False, close_mosaic=10, resume=False, amp=True, fraction=1.0, profile=False, freeze=None, multi_scale=False, overlap_mask=True, mask_ratio=4, dropout=0.0, val=True, split=val, save_json=False, save_hybrid=False, conf=None, iou=0.7, max_det=300, half=False, dnn=False, plots=True, source=None, vid_stride=1, stream_buffer=False, visualize=False, augment=False, agnostic_nms=False, classes=None, retina_masks=False, embed=None, show=False, save_frames=False, save_txt=False, save_conf=False, save_crop=False, show_labels=True, show_conf=True, show_boxes=True, line_width=None, format=torchscript, keras=False, optimize=False, int8=False, dynamic=False, simplify=True, opset=None, workspace=4, nms=False, lr0=0.01, lrf=0.01, momentum=0.937, weight_decay=0.0005, warmup_epochs=3.0, warmup_momentum=0.8, warmup_bias_lr=0.1, box=7.5, cls=0.5, dfl=1.5, pose=12.0, kobj=1.0, label_smoothing=0.0, nbs=64, hsv_h=0.015, hsv_s=0.7, hsv_v=0.4, degrees=0.0, translate=0.1, scale=0.5, shear=0.0, perspective=0.0, flipud=0.0, fliplr=0.5, bgr=0.0, mosaic=1.0, mixup=0.0, copy_paste=0.0, copy_paste_mode=flip, auto_augment=randaugment, erasing=0.4, crop_fraction=1.0, cfg=None, tracker=botsort.yaml, save_dir=/data/mtmoore/school/CSiML_AI395T/final_project/models/yolo11/iterative/11n_720imgsz_IP8M-H-SW-1epochs\n",
      "Overriding model.yaml nc=80 with nc=1\n",
      "\n",
      "                   from  n    params  module                                       arguments                     \n",
      "  0                  -1  1       464  ultralytics.nn.modules.conv.Conv             [3, 16, 3, 2]                 \n",
      "  1                  -1  1      4672  ultralytics.nn.modules.conv.Conv             [16, 32, 3, 2]                \n",
      "  2                  -1  1      6640  ultralytics.nn.modules.block.C3k2            [32, 64, 1, False, 0.25]      \n",
      "  3                  -1  1     36992  ultralytics.nn.modules.conv.Conv             [64, 64, 3, 2]                \n",
      "  4                  -1  1     26080  ultralytics.nn.modules.block.C3k2            [64, 128, 1, False, 0.25]     \n",
      "  5                  -1  1    147712  ultralytics.nn.modules.conv.Conv             [128, 128, 3, 2]              \n",
      "  6                  -1  1     87040  ultralytics.nn.modules.block.C3k2            [128, 128, 1, True]           \n",
      "  7                  -1  1    295424  ultralytics.nn.modules.conv.Conv             [128, 256, 3, 2]              \n",
      "  8                  -1  1    346112  ultralytics.nn.modules.block.C3k2            [256, 256, 1, True]           \n",
      "  9                  -1  1    164608  ultralytics.nn.modules.block.SPPF            [256, 256, 5]                 \n",
      " 10                  -1  1    249728  ultralytics.nn.modules.block.C2PSA           [256, 256, 1]                 \n",
      " 11                  -1  1         0  torch.nn.modules.upsampling.Upsample         [None, 2, 'nearest']          \n",
      " 12             [-1, 6]  1         0  ultralytics.nn.modules.conv.Concat           [1]                           \n",
      " 13                  -1  1    111296  ultralytics.nn.modules.block.C3k2            [384, 128, 1, False]          \n",
      " 14                  -1  1         0  torch.nn.modules.upsampling.Upsample         [None, 2, 'nearest']          \n",
      " 15             [-1, 4]  1         0  ultralytics.nn.modules.conv.Concat           [1]                           \n",
      " 16                  -1  1     32096  ultralytics.nn.modules.block.C3k2            [256, 64, 1, False]           \n",
      " 17                  -1  1     36992  ultralytics.nn.modules.conv.Conv             [64, 64, 3, 2]                \n",
      " 18            [-1, 13]  1         0  ultralytics.nn.modules.conv.Concat           [1]                           \n",
      " 19                  -1  1     86720  ultralytics.nn.modules.block.C3k2            [192, 128, 1, False]          \n",
      " 20                  -1  1    147712  ultralytics.nn.modules.conv.Conv             [128, 128, 3, 2]              \n",
      " 21            [-1, 10]  1         0  ultralytics.nn.modules.conv.Concat           [1]                           \n",
      " 22                  -1  1    378880  ultralytics.nn.modules.block.C3k2            [384, 256, 1, True]           \n",
      " 23        [16, 19, 22]  1    430867  ultralytics.nn.modules.head.Detect           [1, [64, 128, 256]]           \n",
      "YOLO11n summary: 319 layers, 2,590,035 parameters, 2,590,019 gradients, 6.4 GFLOPs\n",
      "\n",
      "Transferred 448/499 items from pretrained weights\n",
      "Freezing layer 'model.23.dfl.conv.weight'\n",
      "\u001b[34m\u001b[1mAMP: \u001b[0mrunning Automatic Mixed Precision (AMP) checks...\n",
      "\u001b[34m\u001b[1mAMP: \u001b[0mchecks passed ✅\n",
      "WARNING ⚠️ imgsz=[720] must be multiple of max stride 32, updating to [736]\n"
     ]
    },
    {
     "name": "stderr",
     "output_type": "stream",
     "text": [
      "\u001b[34m\u001b[1mtrain: \u001b[0mScanning train/labels.cache... 388 images, 0 backgrounds, 0 corrupt: 100%|██████████| 388/388 [00:00<?, ?it/s]\u001b[0m"
     ]
    },
    {
     "name": "stdout",
     "output_type": "stream",
     "text": [
      "\u001b[34m\u001b[1mtrain: \u001b[0mWARNING ⚠️ train/images/IP8M-H-SW_2024-10-24_deer_00000111.png: 1 duplicate labels removed\n",
      "\u001b[34m\u001b[1mtrain: \u001b[0mWARNING ⚠️ train/images/IP8M-H-SW_2024-10-24_deer_00000112.png: 1 duplicate labels removed\n"
     ]
    },
    {
     "name": "stderr",
     "output_type": "stream",
     "text": [
      "\n",
      "\u001b[34m\u001b[1mval: \u001b[0mScanning val/labels.cache... 98 images, 0 backgrounds, 0 corrupt: 100%|██████████| 98/98 [00:00<?, ?it/s]\u001b[0m\n"
     ]
    },
    {
     "name": "stdout",
     "output_type": "stream",
     "text": [
      "Plotting labels to /data/mtmoore/school/CSiML_AI395T/final_project/models/yolo11/iterative/11n_720imgsz_IP8M-H-SW-1epochs/labels.jpg... \n",
      "\u001b[34m\u001b[1moptimizer:\u001b[0m 'optimizer=auto' found, ignoring 'lr0=0.01' and 'momentum=0.937' and determining best 'optimizer', 'lr0' and 'momentum' automatically... \n",
      "\u001b[34m\u001b[1moptimizer:\u001b[0m AdamW(lr=0.002, momentum=0.9) with parameter groups 81 weight(decay=0.0), 88 weight(decay=0.0005), 87 bias(decay=0.0)\n",
      "Image sizes 736 train, 736 val\n",
      "Using 8 dataloader workers\n",
      "Logging results to \u001b[1m/data/mtmoore/school/CSiML_AI395T/final_project/models/yolo11/iterative/11n_720imgsz_IP8M-H-SW-1epochs\u001b[0m\n",
      "Starting training for 1 epochs...\n",
      "\n",
      "      Epoch    GPU_mem   box_loss   cls_loss   dfl_loss  Instances       Size\n"
     ]
    },
    {
     "name": "stderr",
     "output_type": "stream",
     "text": [
      "        1/1      3.61G       3.21      108.3     0.8292         13        736: 100%|██████████| 25/25 [00:07<00:00,  3.19it/s]\n",
      "                 Class     Images  Instances      Box(P          R      mAP50  mAP50-95): 100%|██████████| 4/4 [00:01<00:00,  2.95it/s]"
     ]
    },
    {
     "name": "stdout",
     "output_type": "stream",
     "text": [
      "                   all         98        205          0          0          0          0\n"
     ]
    },
    {
     "name": "stderr",
     "output_type": "stream",
     "text": [
      "\n"
     ]
    },
    {
     "name": "stdout",
     "output_type": "stream",
     "text": [
      "\n",
      "1 epochs completed in 0.003 hours.\n",
      "Optimizer stripped from /data/mtmoore/school/CSiML_AI395T/final_project/models/yolo11/iterative/11n_720imgsz_IP8M-H-SW-1epochs/weights/last.pt, 5.5MB\n",
      "Optimizer stripped from /data/mtmoore/school/CSiML_AI395T/final_project/models/yolo11/iterative/11n_720imgsz_IP8M-H-SW-1epochs/weights/best.pt, 5.5MB\n",
      "\n",
      "Validating /data/mtmoore/school/CSiML_AI395T/final_project/models/yolo11/iterative/11n_720imgsz_IP8M-H-SW-1epochs/weights/best.pt...\n",
      "Ultralytics 8.3.29 🚀 Python-3.12.7 torch-2.2.2+cu121 CUDA:0 (NVIDIA GeForce RTX 4070 SUPER, 11904MiB)\n",
      "YOLO11n summary (fused): 238 layers, 2,582,347 parameters, 0 gradients, 6.3 GFLOPs\n"
     ]
    },
    {
     "name": "stderr",
     "output_type": "stream",
     "text": [
      "                 Class     Images  Instances      Box(P          R      mAP50  mAP50-95): 100%|██████████| 4/4 [00:00<00:00,  5.60it/s]"
     ]
    },
    {
     "name": "stdout",
     "output_type": "stream",
     "text": [
      "                   all         98        205          0          0          0          0\n"
     ]
    },
    {
     "name": "stderr",
     "output_type": "stream",
     "text": [
      "\n"
     ]
    },
    {
     "name": "stdout",
     "output_type": "stream",
     "text": [
      "Speed: 0.1ms preprocess, 1.7ms inference, 0.0ms loss, 1.5ms postprocess per image\n",
      "Results saved to \u001b[1m/data/mtmoore/school/CSiML_AI395T/final_project/models/yolo11/iterative/11n_720imgsz_IP8M-H-SW-1epochs\u001b[0m\n",
      "New https://pypi.org/project/ultralytics/8.3.31 available 😃 Update with 'pip install -U ultralytics'\n",
      "Ultralytics 8.3.29 🚀 Python-3.12.7 torch-2.2.2+cu121 CUDA:0 (NVIDIA GeForce RTX 4070 SUPER, 11904MiB)\n",
      "\u001b[34m\u001b[1mengine/trainer: \u001b[0mtask=detect, mode=train, model=yolo11n.pt, data=/data/mtmoore/school/CSiML_AI395T/final_project/dataset/yolov8_dataset/data.yaml, epochs=2, time=None, patience=100, batch=16, imgsz=720, save=True, save_period=-1, cache=False, device=None, workers=8, project=/data/mtmoore/school/CSiML_AI395T/final_project/models/yolo11/iterative, name=11n_720imgsz_IP8M-H-SW-2epochs, exist_ok=False, pretrained=True, optimizer=auto, verbose=True, seed=0, deterministic=True, single_cls=False, rect=False, cos_lr=False, close_mosaic=10, resume=False, amp=True, fraction=1.0, profile=False, freeze=None, multi_scale=False, overlap_mask=True, mask_ratio=4, dropout=0.0, val=True, split=val, save_json=False, save_hybrid=False, conf=None, iou=0.7, max_det=300, half=False, dnn=False, plots=True, source=None, vid_stride=1, stream_buffer=False, visualize=False, augment=False, agnostic_nms=False, classes=None, retina_masks=False, embed=None, show=False, save_frames=False, save_txt=False, save_conf=False, save_crop=False, show_labels=True, show_conf=True, show_boxes=True, line_width=None, format=torchscript, keras=False, optimize=False, int8=False, dynamic=False, simplify=True, opset=None, workspace=4, nms=False, lr0=0.01, lrf=0.01, momentum=0.937, weight_decay=0.0005, warmup_epochs=3.0, warmup_momentum=0.8, warmup_bias_lr=0.1, box=7.5, cls=0.5, dfl=1.5, pose=12.0, kobj=1.0, label_smoothing=0.0, nbs=64, hsv_h=0.015, hsv_s=0.7, hsv_v=0.4, degrees=0.0, translate=0.1, scale=0.5, shear=0.0, perspective=0.0, flipud=0.0, fliplr=0.5, bgr=0.0, mosaic=1.0, mixup=0.0, copy_paste=0.0, copy_paste_mode=flip, auto_augment=randaugment, erasing=0.4, crop_fraction=1.0, cfg=None, tracker=botsort.yaml, save_dir=/data/mtmoore/school/CSiML_AI395T/final_project/models/yolo11/iterative/11n_720imgsz_IP8M-H-SW-2epochs\n",
      "Overriding model.yaml nc=80 with nc=1\n",
      "\n",
      "                   from  n    params  module                                       arguments                     \n",
      "  0                  -1  1       464  ultralytics.nn.modules.conv.Conv             [3, 16, 3, 2]                 \n",
      "  1                  -1  1      4672  ultralytics.nn.modules.conv.Conv             [16, 32, 3, 2]                \n",
      "  2                  -1  1      6640  ultralytics.nn.modules.block.C3k2            [32, 64, 1, False, 0.25]      \n",
      "  3                  -1  1     36992  ultralytics.nn.modules.conv.Conv             [64, 64, 3, 2]                \n",
      "  4                  -1  1     26080  ultralytics.nn.modules.block.C3k2            [64, 128, 1, False, 0.25]     \n",
      "  5                  -1  1    147712  ultralytics.nn.modules.conv.Conv             [128, 128, 3, 2]              \n",
      "  6                  -1  1     87040  ultralytics.nn.modules.block.C3k2            [128, 128, 1, True]           \n",
      "  7                  -1  1    295424  ultralytics.nn.modules.conv.Conv             [128, 256, 3, 2]              \n",
      "  8                  -1  1    346112  ultralytics.nn.modules.block.C3k2            [256, 256, 1, True]           \n",
      "  9                  -1  1    164608  ultralytics.nn.modules.block.SPPF            [256, 256, 5]                 \n",
      " 10                  -1  1    249728  ultralytics.nn.modules.block.C2PSA           [256, 256, 1]                 \n",
      " 11                  -1  1         0  torch.nn.modules.upsampling.Upsample         [None, 2, 'nearest']          \n",
      " 12             [-1, 6]  1         0  ultralytics.nn.modules.conv.Concat           [1]                           \n",
      " 13                  -1  1    111296  ultralytics.nn.modules.block.C3k2            [384, 128, 1, False]          \n",
      " 14                  -1  1         0  torch.nn.modules.upsampling.Upsample         [None, 2, 'nearest']          \n",
      " 15             [-1, 4]  1         0  ultralytics.nn.modules.conv.Concat           [1]                           \n",
      " 16                  -1  1     32096  ultralytics.nn.modules.block.C3k2            [256, 64, 1, False]           \n",
      " 17                  -1  1     36992  ultralytics.nn.modules.conv.Conv             [64, 64, 3, 2]                \n",
      " 18            [-1, 13]  1         0  ultralytics.nn.modules.conv.Concat           [1]                           \n",
      " 19                  -1  1     86720  ultralytics.nn.modules.block.C3k2            [192, 128, 1, False]          \n",
      " 20                  -1  1    147712  ultralytics.nn.modules.conv.Conv             [128, 128, 3, 2]              \n",
      " 21            [-1, 10]  1         0  ultralytics.nn.modules.conv.Concat           [1]                           \n",
      " 22                  -1  1    378880  ultralytics.nn.modules.block.C3k2            [384, 256, 1, True]           \n",
      " 23        [16, 19, 22]  1    430867  ultralytics.nn.modules.head.Detect           [1, [64, 128, 256]]           \n",
      "YOLO11n summary: 319 layers, 2,590,035 parameters, 2,590,019 gradients, 6.4 GFLOPs\n",
      "\n",
      "Transferred 448/499 items from pretrained weights\n",
      "Freezing layer 'model.23.dfl.conv.weight'\n",
      "\u001b[34m\u001b[1mAMP: \u001b[0mrunning Automatic Mixed Precision (AMP) checks...\n",
      "\u001b[34m\u001b[1mAMP: \u001b[0mchecks passed ✅\n",
      "WARNING ⚠️ imgsz=[720] must be multiple of max stride 32, updating to [736]\n"
     ]
    },
    {
     "name": "stderr",
     "output_type": "stream",
     "text": [
      "\u001b[34m\u001b[1mtrain: \u001b[0mScanning train/labels.cache... 388 images, 0 backgrounds, 0 corrupt: 100%|██████████| 388/388 [00:00<?, ?it/s]\u001b[0m"
     ]
    },
    {
     "name": "stdout",
     "output_type": "stream",
     "text": [
      "\u001b[34m\u001b[1mtrain: \u001b[0mWARNING ⚠️ train/images/IP8M-H-SW_2024-10-24_deer_00000111.png: 1 duplicate labels removed\n",
      "\u001b[34m\u001b[1mtrain: \u001b[0mWARNING ⚠️ train/images/IP8M-H-SW_2024-10-24_deer_00000112.png: 1 duplicate labels removed\n"
     ]
    },
    {
     "name": "stderr",
     "output_type": "stream",
     "text": [
      "\n",
      "\u001b[34m\u001b[1mval: \u001b[0mScanning val/labels.cache... 98 images, 0 backgrounds, 0 corrupt: 100%|██████████| 98/98 [00:00<?, ?it/s]\u001b[0m\n"
     ]
    },
    {
     "name": "stdout",
     "output_type": "stream",
     "text": [
      "Plotting labels to /data/mtmoore/school/CSiML_AI395T/final_project/models/yolo11/iterative/11n_720imgsz_IP8M-H-SW-2epochs/labels.jpg... \n",
      "\u001b[34m\u001b[1moptimizer:\u001b[0m 'optimizer=auto' found, ignoring 'lr0=0.01' and 'momentum=0.937' and determining best 'optimizer', 'lr0' and 'momentum' automatically... \n",
      "\u001b[34m\u001b[1moptimizer:\u001b[0m AdamW(lr=0.002, momentum=0.9) with parameter groups 81 weight(decay=0.0), 88 weight(decay=0.0005), 87 bias(decay=0.0)\n",
      "Image sizes 736 train, 736 val\n",
      "Using 8 dataloader workers\n",
      "Logging results to \u001b[1m/data/mtmoore/school/CSiML_AI395T/final_project/models/yolo11/iterative/11n_720imgsz_IP8M-H-SW-2epochs\u001b[0m\n",
      "Starting training for 2 epochs...\n",
      "\n",
      "      Epoch    GPU_mem   box_loss   cls_loss   dfl_loss  Instances       Size\n"
     ]
    },
    {
     "name": "stderr",
     "output_type": "stream",
     "text": [
      "        1/2      3.07G       3.21      108.3     0.8292         13        736: 100%|██████████| 25/25 [00:05<00:00,  4.18it/s]\n",
      "                 Class     Images  Instances      Box(P          R      mAP50  mAP50-95): 100%|██████████| 4/4 [00:00<00:00,  8.02it/s]"
     ]
    },
    {
     "name": "stdout",
     "output_type": "stream",
     "text": [
      "                   all         98        205          0          0          0          0\n"
     ]
    },
    {
     "name": "stderr",
     "output_type": "stream",
     "text": [
      "\n"
     ]
    },
    {
     "name": "stdout",
     "output_type": "stream",
     "text": [
      "\n",
      "      Epoch    GPU_mem   box_loss   cls_loss   dfl_loss  Instances       Size\n"
     ]
    },
    {
     "name": "stderr",
     "output_type": "stream",
     "text": [
      "        2/2      2.96G      4.136      25.08     0.9539          7        736: 100%|██████████| 25/25 [00:09<00:00,  2.63it/s]\n",
      "                 Class     Images  Instances      Box(P          R      mAP50  mAP50-95): 100%|██████████| 4/4 [00:00<00:00,  7.84it/s]\n"
     ]
    },
    {
     "name": "stdout",
     "output_type": "stream",
     "text": [
      "                   all         98        205    3.4e-05    0.00488   1.71e-05   1.71e-06\n",
      "\n",
      "2 epochs completed in 0.005 hours.\n",
      "Optimizer stripped from /data/mtmoore/school/CSiML_AI395T/final_project/models/yolo11/iterative/11n_720imgsz_IP8M-H-SW-2epochs/weights/last.pt, 5.5MB\n",
      "Optimizer stripped from /data/mtmoore/school/CSiML_AI395T/final_project/models/yolo11/iterative/11n_720imgsz_IP8M-H-SW-2epochs/weights/best.pt, 5.5MB\n",
      "\n",
      "Validating /data/mtmoore/school/CSiML_AI395T/final_project/models/yolo11/iterative/11n_720imgsz_IP8M-H-SW-2epochs/weights/best.pt...\n",
      "Ultralytics 8.3.29 🚀 Python-3.12.7 torch-2.2.2+cu121 CUDA:0 (NVIDIA GeForce RTX 4070 SUPER, 11904MiB)\n",
      "YOLO11n summary (fused): 238 layers, 2,582,347 parameters, 0 gradients, 6.3 GFLOPs\n"
     ]
    },
    {
     "name": "stderr",
     "output_type": "stream",
     "text": [
      "                 Class     Images  Instances      Box(P          R      mAP50  mAP50-95): 100%|██████████| 4/4 [00:00<00:00,  5.96it/s]\n"
     ]
    },
    {
     "name": "stdout",
     "output_type": "stream",
     "text": [
      "                   all         98        205    3.4e-05    0.00488   1.71e-05   1.71e-06\n",
      "Speed: 0.1ms preprocess, 1.3ms inference, 0.0ms loss, 1.5ms postprocess per image\n",
      "Results saved to \u001b[1m/data/mtmoore/school/CSiML_AI395T/final_project/models/yolo11/iterative/11n_720imgsz_IP8M-H-SW-2epochs\u001b[0m\n",
      "New https://pypi.org/project/ultralytics/8.3.31 available 😃 Update with 'pip install -U ultralytics'\n",
      "Ultralytics 8.3.29 🚀 Python-3.12.7 torch-2.2.2+cu121 CUDA:0 (NVIDIA GeForce RTX 4070 SUPER, 11904MiB)\n",
      "\u001b[34m\u001b[1mengine/trainer: \u001b[0mtask=detect, mode=train, model=yolo11n.pt, data=/data/mtmoore/school/CSiML_AI395T/final_project/dataset/yolov8_dataset/data.yaml, epochs=3, time=None, patience=100, batch=16, imgsz=720, save=True, save_period=-1, cache=False, device=None, workers=8, project=/data/mtmoore/school/CSiML_AI395T/final_project/models/yolo11/iterative, name=11n_720imgsz_IP8M-H-SW-3epochs, exist_ok=False, pretrained=True, optimizer=auto, verbose=True, seed=0, deterministic=True, single_cls=False, rect=False, cos_lr=False, close_mosaic=10, resume=False, amp=True, fraction=1.0, profile=False, freeze=None, multi_scale=False, overlap_mask=True, mask_ratio=4, dropout=0.0, val=True, split=val, save_json=False, save_hybrid=False, conf=None, iou=0.7, max_det=300, half=False, dnn=False, plots=True, source=None, vid_stride=1, stream_buffer=False, visualize=False, augment=False, agnostic_nms=False, classes=None, retina_masks=False, embed=None, show=False, save_frames=False, save_txt=False, save_conf=False, save_crop=False, show_labels=True, show_conf=True, show_boxes=True, line_width=None, format=torchscript, keras=False, optimize=False, int8=False, dynamic=False, simplify=True, opset=None, workspace=4, nms=False, lr0=0.01, lrf=0.01, momentum=0.937, weight_decay=0.0005, warmup_epochs=3.0, warmup_momentum=0.8, warmup_bias_lr=0.1, box=7.5, cls=0.5, dfl=1.5, pose=12.0, kobj=1.0, label_smoothing=0.0, nbs=64, hsv_h=0.015, hsv_s=0.7, hsv_v=0.4, degrees=0.0, translate=0.1, scale=0.5, shear=0.0, perspective=0.0, flipud=0.0, fliplr=0.5, bgr=0.0, mosaic=1.0, mixup=0.0, copy_paste=0.0, copy_paste_mode=flip, auto_augment=randaugment, erasing=0.4, crop_fraction=1.0, cfg=None, tracker=botsort.yaml, save_dir=/data/mtmoore/school/CSiML_AI395T/final_project/models/yolo11/iterative/11n_720imgsz_IP8M-H-SW-3epochs\n",
      "Overriding model.yaml nc=80 with nc=1\n",
      "\n",
      "                   from  n    params  module                                       arguments                     \n",
      "  0                  -1  1       464  ultralytics.nn.modules.conv.Conv             [3, 16, 3, 2]                 \n",
      "  1                  -1  1      4672  ultralytics.nn.modules.conv.Conv             [16, 32, 3, 2]                \n",
      "  2                  -1  1      6640  ultralytics.nn.modules.block.C3k2            [32, 64, 1, False, 0.25]      \n",
      "  3                  -1  1     36992  ultralytics.nn.modules.conv.Conv             [64, 64, 3, 2]                \n",
      "  4                  -1  1     26080  ultralytics.nn.modules.block.C3k2            [64, 128, 1, False, 0.25]     \n",
      "  5                  -1  1    147712  ultralytics.nn.modules.conv.Conv             [128, 128, 3, 2]              \n",
      "  6                  -1  1     87040  ultralytics.nn.modules.block.C3k2            [128, 128, 1, True]           \n",
      "  7                  -1  1    295424  ultralytics.nn.modules.conv.Conv             [128, 256, 3, 2]              \n",
      "  8                  -1  1    346112  ultralytics.nn.modules.block.C3k2            [256, 256, 1, True]           \n",
      "  9                  -1  1    164608  ultralytics.nn.modules.block.SPPF            [256, 256, 5]                 \n",
      " 10                  -1  1    249728  ultralytics.nn.modules.block.C2PSA           [256, 256, 1]                 \n",
      " 11                  -1  1         0  torch.nn.modules.upsampling.Upsample         [None, 2, 'nearest']          \n",
      " 12             [-1, 6]  1         0  ultralytics.nn.modules.conv.Concat           [1]                           \n",
      " 13                  -1  1    111296  ultralytics.nn.modules.block.C3k2            [384, 128, 1, False]          \n",
      " 14                  -1  1         0  torch.nn.modules.upsampling.Upsample         [None, 2, 'nearest']          \n",
      " 15             [-1, 4]  1         0  ultralytics.nn.modules.conv.Concat           [1]                           \n",
      " 16                  -1  1     32096  ultralytics.nn.modules.block.C3k2            [256, 64, 1, False]           \n",
      " 17                  -1  1     36992  ultralytics.nn.modules.conv.Conv             [64, 64, 3, 2]                \n",
      " 18            [-1, 13]  1         0  ultralytics.nn.modules.conv.Concat           [1]                           \n",
      " 19                  -1  1     86720  ultralytics.nn.modules.block.C3k2            [192, 128, 1, False]          \n",
      " 20                  -1  1    147712  ultralytics.nn.modules.conv.Conv             [128, 128, 3, 2]              \n",
      " 21            [-1, 10]  1         0  ultralytics.nn.modules.conv.Concat           [1]                           \n",
      " 22                  -1  1    378880  ultralytics.nn.modules.block.C3k2            [384, 256, 1, True]           \n",
      " 23        [16, 19, 22]  1    430867  ultralytics.nn.modules.head.Detect           [1, [64, 128, 256]]           \n",
      "YOLO11n summary: 319 layers, 2,590,035 parameters, 2,590,019 gradients, 6.4 GFLOPs\n",
      "\n",
      "Transferred 448/499 items from pretrained weights\n",
      "Freezing layer 'model.23.dfl.conv.weight'\n",
      "\u001b[34m\u001b[1mAMP: \u001b[0mrunning Automatic Mixed Precision (AMP) checks...\n",
      "\u001b[34m\u001b[1mAMP: \u001b[0mchecks passed ✅\n",
      "WARNING ⚠️ imgsz=[720] must be multiple of max stride 32, updating to [736]\n"
     ]
    },
    {
     "name": "stderr",
     "output_type": "stream",
     "text": [
      "\u001b[34m\u001b[1mtrain: \u001b[0mScanning train/labels.cache... 388 images, 0 backgrounds, 0 corrupt: 100%|██████████| 388/388 [00:00<?, ?it/s]\u001b[0m"
     ]
    },
    {
     "name": "stdout",
     "output_type": "stream",
     "text": [
      "\u001b[34m\u001b[1mtrain: \u001b[0mWARNING ⚠️ train/images/IP8M-H-SW_2024-10-24_deer_00000111.png: 1 duplicate labels removed\n",
      "\u001b[34m\u001b[1mtrain: \u001b[0mWARNING ⚠️ train/images/IP8M-H-SW_2024-10-24_deer_00000112.png: 1 duplicate labels removed\n"
     ]
    },
    {
     "name": "stderr",
     "output_type": "stream",
     "text": [
      "\n",
      "\u001b[34m\u001b[1mval: \u001b[0mScanning val/labels.cache... 98 images, 0 backgrounds, 0 corrupt: 100%|██████████| 98/98 [00:00<?, ?it/s]\u001b[0m\n"
     ]
    },
    {
     "name": "stdout",
     "output_type": "stream",
     "text": [
      "Plotting labels to /data/mtmoore/school/CSiML_AI395T/final_project/models/yolo11/iterative/11n_720imgsz_IP8M-H-SW-3epochs/labels.jpg... \n",
      "\u001b[34m\u001b[1moptimizer:\u001b[0m 'optimizer=auto' found, ignoring 'lr0=0.01' and 'momentum=0.937' and determining best 'optimizer', 'lr0' and 'momentum' automatically... \n",
      "\u001b[34m\u001b[1moptimizer:\u001b[0m AdamW(lr=0.002, momentum=0.9) with parameter groups 81 weight(decay=0.0), 88 weight(decay=0.0005), 87 bias(decay=0.0)\n",
      "Image sizes 736 train, 736 val\n",
      "Using 8 dataloader workers\n",
      "Logging results to \u001b[1m/data/mtmoore/school/CSiML_AI395T/final_project/models/yolo11/iterative/11n_720imgsz_IP8M-H-SW-3epochs\u001b[0m\n",
      "Starting training for 3 epochs...\n",
      "\n",
      "      Epoch    GPU_mem   box_loss   cls_loss   dfl_loss  Instances       Size\n"
     ]
    },
    {
     "name": "stderr",
     "output_type": "stream",
     "text": [
      "        1/3      3.07G       3.21      108.3     0.8292         13        736: 100%|██████████| 25/25 [00:05<00:00,  4.21it/s]\n",
      "                 Class     Images  Instances      Box(P          R      mAP50  mAP50-95): 100%|██████████| 4/4 [00:00<00:00,  8.65it/s]"
     ]
    },
    {
     "name": "stdout",
     "output_type": "stream",
     "text": [
      "                   all         98        205          0          0          0          0\n"
     ]
    },
    {
     "name": "stderr",
     "output_type": "stream",
     "text": [
      "\n"
     ]
    },
    {
     "name": "stdout",
     "output_type": "stream",
     "text": [
      "\n",
      "      Epoch    GPU_mem   box_loss   cls_loss   dfl_loss  Instances       Size\n"
     ]
    },
    {
     "name": "stderr",
     "output_type": "stream",
     "text": [
      "        2/3      2.96G      4.096      24.96     0.9545          7        736: 100%|██████████| 25/25 [00:09<00:00,  2.74it/s]\n",
      "                 Class     Images  Instances      Box(P          R      mAP50  mAP50-95): 100%|██████████| 4/4 [00:00<00:00,  7.34it/s]"
     ]
    },
    {
     "name": "stdout",
     "output_type": "stream",
     "text": [
      "                   all         98        205          0          0          0          0\n"
     ]
    },
    {
     "name": "stderr",
     "output_type": "stream",
     "text": [
      "\n"
     ]
    },
    {
     "name": "stdout",
     "output_type": "stream",
     "text": [
      "\n",
      "      Epoch    GPU_mem   box_loss   cls_loss   dfl_loss  Instances       Size\n"
     ]
    },
    {
     "name": "stderr",
     "output_type": "stream",
     "text": [
      "        3/3      2.97G       3.91      21.71     0.9231          9        736: 100%|██████████| 25/25 [00:07<00:00,  3.17it/s]\n",
      "                 Class     Images  Instances      Box(P          R      mAP50  mAP50-95): 100%|██████████| 4/4 [00:00<00:00,  8.52it/s]"
     ]
    },
    {
     "name": "stdout",
     "output_type": "stream",
     "text": [
      "                   all         98        205          0          0          0          0\n"
     ]
    },
    {
     "name": "stderr",
     "output_type": "stream",
     "text": [
      "\n"
     ]
    },
    {
     "name": "stdout",
     "output_type": "stream",
     "text": [
      "\n",
      "3 epochs completed in 0.007 hours.\n",
      "Optimizer stripped from /data/mtmoore/school/CSiML_AI395T/final_project/models/yolo11/iterative/11n_720imgsz_IP8M-H-SW-3epochs/weights/last.pt, 5.5MB\n",
      "Optimizer stripped from /data/mtmoore/school/CSiML_AI395T/final_project/models/yolo11/iterative/11n_720imgsz_IP8M-H-SW-3epochs/weights/best.pt, 5.5MB\n",
      "\n",
      "Validating /data/mtmoore/school/CSiML_AI395T/final_project/models/yolo11/iterative/11n_720imgsz_IP8M-H-SW-3epochs/weights/best.pt...\n",
      "Ultralytics 8.3.29 🚀 Python-3.12.7 torch-2.2.2+cu121 CUDA:0 (NVIDIA GeForce RTX 4070 SUPER, 11904MiB)\n",
      "YOLO11n summary (fused): 238 layers, 2,582,347 parameters, 0 gradients, 6.3 GFLOPs\n"
     ]
    },
    {
     "name": "stderr",
     "output_type": "stream",
     "text": [
      "                 Class     Images  Instances      Box(P          R      mAP50  mAP50-95): 100%|██████████| 4/4 [00:00<00:00,  5.07it/s]"
     ]
    },
    {
     "name": "stdout",
     "output_type": "stream",
     "text": [
      "                   all         98        205          0          0          0          0\n"
     ]
    },
    {
     "name": "stderr",
     "output_type": "stream",
     "text": [
      "\n"
     ]
    },
    {
     "name": "stdout",
     "output_type": "stream",
     "text": [
      "Speed: 0.1ms preprocess, 2.6ms inference, 0.0ms loss, 1.6ms postprocess per image\n",
      "Results saved to \u001b[1m/data/mtmoore/school/CSiML_AI395T/final_project/models/yolo11/iterative/11n_720imgsz_IP8M-H-SW-3epochs\u001b[0m\n",
      "New https://pypi.org/project/ultralytics/8.3.31 available 😃 Update with 'pip install -U ultralytics'\n",
      "Ultralytics 8.3.29 🚀 Python-3.12.7 torch-2.2.2+cu121 CUDA:0 (NVIDIA GeForce RTX 4070 SUPER, 11904MiB)\n",
      "\u001b[34m\u001b[1mengine/trainer: \u001b[0mtask=detect, mode=train, model=yolo11n.pt, data=/data/mtmoore/school/CSiML_AI395T/final_project/dataset/yolov8_dataset/data.yaml, epochs=4, time=None, patience=100, batch=16, imgsz=720, save=True, save_period=-1, cache=False, device=None, workers=8, project=/data/mtmoore/school/CSiML_AI395T/final_project/models/yolo11/iterative, name=11n_720imgsz_IP8M-H-SW-4epochs, exist_ok=False, pretrained=True, optimizer=auto, verbose=True, seed=0, deterministic=True, single_cls=False, rect=False, cos_lr=False, close_mosaic=10, resume=False, amp=True, fraction=1.0, profile=False, freeze=None, multi_scale=False, overlap_mask=True, mask_ratio=4, dropout=0.0, val=True, split=val, save_json=False, save_hybrid=False, conf=None, iou=0.7, max_det=300, half=False, dnn=False, plots=True, source=None, vid_stride=1, stream_buffer=False, visualize=False, augment=False, agnostic_nms=False, classes=None, retina_masks=False, embed=None, show=False, save_frames=False, save_txt=False, save_conf=False, save_crop=False, show_labels=True, show_conf=True, show_boxes=True, line_width=None, format=torchscript, keras=False, optimize=False, int8=False, dynamic=False, simplify=True, opset=None, workspace=4, nms=False, lr0=0.01, lrf=0.01, momentum=0.937, weight_decay=0.0005, warmup_epochs=3.0, warmup_momentum=0.8, warmup_bias_lr=0.1, box=7.5, cls=0.5, dfl=1.5, pose=12.0, kobj=1.0, label_smoothing=0.0, nbs=64, hsv_h=0.015, hsv_s=0.7, hsv_v=0.4, degrees=0.0, translate=0.1, scale=0.5, shear=0.0, perspective=0.0, flipud=0.0, fliplr=0.5, bgr=0.0, mosaic=1.0, mixup=0.0, copy_paste=0.0, copy_paste_mode=flip, auto_augment=randaugment, erasing=0.4, crop_fraction=1.0, cfg=None, tracker=botsort.yaml, save_dir=/data/mtmoore/school/CSiML_AI395T/final_project/models/yolo11/iterative/11n_720imgsz_IP8M-H-SW-4epochs\n",
      "Overriding model.yaml nc=80 with nc=1\n",
      "\n",
      "                   from  n    params  module                                       arguments                     \n",
      "  0                  -1  1       464  ultralytics.nn.modules.conv.Conv             [3, 16, 3, 2]                 \n",
      "  1                  -1  1      4672  ultralytics.nn.modules.conv.Conv             [16, 32, 3, 2]                \n",
      "  2                  -1  1      6640  ultralytics.nn.modules.block.C3k2            [32, 64, 1, False, 0.25]      \n",
      "  3                  -1  1     36992  ultralytics.nn.modules.conv.Conv             [64, 64, 3, 2]                \n",
      "  4                  -1  1     26080  ultralytics.nn.modules.block.C3k2            [64, 128, 1, False, 0.25]     \n",
      "  5                  -1  1    147712  ultralytics.nn.modules.conv.Conv             [128, 128, 3, 2]              \n",
      "  6                  -1  1     87040  ultralytics.nn.modules.block.C3k2            [128, 128, 1, True]           \n",
      "  7                  -1  1    295424  ultralytics.nn.modules.conv.Conv             [128, 256, 3, 2]              \n",
      "  8                  -1  1    346112  ultralytics.nn.modules.block.C3k2            [256, 256, 1, True]           \n",
      "  9                  -1  1    164608  ultralytics.nn.modules.block.SPPF            [256, 256, 5]                 \n",
      " 10                  -1  1    249728  ultralytics.nn.modules.block.C2PSA           [256, 256, 1]                 \n",
      " 11                  -1  1         0  torch.nn.modules.upsampling.Upsample         [None, 2, 'nearest']          \n",
      " 12             [-1, 6]  1         0  ultralytics.nn.modules.conv.Concat           [1]                           \n",
      " 13                  -1  1    111296  ultralytics.nn.modules.block.C3k2            [384, 128, 1, False]          \n",
      " 14                  -1  1         0  torch.nn.modules.upsampling.Upsample         [None, 2, 'nearest']          \n",
      " 15             [-1, 4]  1         0  ultralytics.nn.modules.conv.Concat           [1]                           \n",
      " 16                  -1  1     32096  ultralytics.nn.modules.block.C3k2            [256, 64, 1, False]           \n",
      " 17                  -1  1     36992  ultralytics.nn.modules.conv.Conv             [64, 64, 3, 2]                \n",
      " 18            [-1, 13]  1         0  ultralytics.nn.modules.conv.Concat           [1]                           \n",
      " 19                  -1  1     86720  ultralytics.nn.modules.block.C3k2            [192, 128, 1, False]          \n",
      " 20                  -1  1    147712  ultralytics.nn.modules.conv.Conv             [128, 128, 3, 2]              \n",
      " 21            [-1, 10]  1         0  ultralytics.nn.modules.conv.Concat           [1]                           \n",
      " 22                  -1  1    378880  ultralytics.nn.modules.block.C3k2            [384, 256, 1, True]           \n",
      " 23        [16, 19, 22]  1    430867  ultralytics.nn.modules.head.Detect           [1, [64, 128, 256]]           \n",
      "YOLO11n summary: 319 layers, 2,590,035 parameters, 2,590,019 gradients, 6.4 GFLOPs\n",
      "\n",
      "Transferred 448/499 items from pretrained weights\n",
      "Freezing layer 'model.23.dfl.conv.weight'\n",
      "\u001b[34m\u001b[1mAMP: \u001b[0mrunning Automatic Mixed Precision (AMP) checks...\n",
      "\u001b[34m\u001b[1mAMP: \u001b[0mchecks passed ✅\n",
      "WARNING ⚠️ imgsz=[720] must be multiple of max stride 32, updating to [736]\n"
     ]
    },
    {
     "name": "stderr",
     "output_type": "stream",
     "text": [
      "\u001b[34m\u001b[1mtrain: \u001b[0mScanning train/labels.cache... 388 images, 0 backgrounds, 0 corrupt: 100%|██████████| 388/388 [00:00<?, ?it/s]\u001b[0m"
     ]
    },
    {
     "name": "stdout",
     "output_type": "stream",
     "text": [
      "\u001b[34m\u001b[1mtrain: \u001b[0mWARNING ⚠️ train/images/IP8M-H-SW_2024-10-24_deer_00000111.png: 1 duplicate labels removed\n",
      "\u001b[34m\u001b[1mtrain: \u001b[0mWARNING ⚠️ train/images/IP8M-H-SW_2024-10-24_deer_00000112.png: 1 duplicate labels removed\n"
     ]
    },
    {
     "name": "stderr",
     "output_type": "stream",
     "text": [
      "\n",
      "\u001b[34m\u001b[1mval: \u001b[0mScanning val/labels.cache... 98 images, 0 backgrounds, 0 corrupt: 100%|██████████| 98/98 [00:00<?, ?it/s]\u001b[0m\n"
     ]
    },
    {
     "name": "stdout",
     "output_type": "stream",
     "text": [
      "Plotting labels to /data/mtmoore/school/CSiML_AI395T/final_project/models/yolo11/iterative/11n_720imgsz_IP8M-H-SW-4epochs/labels.jpg... \n",
      "\u001b[34m\u001b[1moptimizer:\u001b[0m 'optimizer=auto' found, ignoring 'lr0=0.01' and 'momentum=0.937' and determining best 'optimizer', 'lr0' and 'momentum' automatically... \n",
      "\u001b[34m\u001b[1moptimizer:\u001b[0m AdamW(lr=0.002, momentum=0.9) with parameter groups 81 weight(decay=0.0), 88 weight(decay=0.0005), 87 bias(decay=0.0)\n",
      "Image sizes 736 train, 736 val\n",
      "Using 8 dataloader workers\n",
      "Logging results to \u001b[1m/data/mtmoore/school/CSiML_AI395T/final_project/models/yolo11/iterative/11n_720imgsz_IP8M-H-SW-4epochs\u001b[0m\n",
      "Starting training for 4 epochs...\n",
      "\n",
      "      Epoch    GPU_mem   box_loss   cls_loss   dfl_loss  Instances       Size\n"
     ]
    },
    {
     "name": "stderr",
     "output_type": "stream",
     "text": [
      "        1/4      3.07G       3.21      108.3     0.8292         13        736: 100%|██████████| 25/25 [00:06<00:00,  4.15it/s]\n",
      "                 Class     Images  Instances      Box(P          R      mAP50  mAP50-95): 100%|██████████| 4/4 [00:00<00:00,  7.63it/s]"
     ]
    },
    {
     "name": "stdout",
     "output_type": "stream",
     "text": [
      "                   all         98        205          0          0          0          0\n"
     ]
    },
    {
     "name": "stderr",
     "output_type": "stream",
     "text": [
      "\n"
     ]
    },
    {
     "name": "stdout",
     "output_type": "stream",
     "text": [
      "\n",
      "      Epoch    GPU_mem   box_loss   cls_loss   dfl_loss  Instances       Size\n"
     ]
    },
    {
     "name": "stderr",
     "output_type": "stream",
     "text": [
      "        2/4      2.96G      4.076      24.44     0.9554          7        736: 100%|██████████| 25/25 [00:09<00:00,  2.70it/s]\n",
      "                 Class     Images  Instances      Box(P          R      mAP50  mAP50-95): 100%|██████████| 4/4 [00:00<00:00,  7.93it/s]"
     ]
    },
    {
     "name": "stdout",
     "output_type": "stream",
     "text": [
      "                   all         98        205          0          0          0          0\n"
     ]
    },
    {
     "name": "stderr",
     "output_type": "stream",
     "text": [
      "\n"
     ]
    },
    {
     "name": "stdout",
     "output_type": "stream",
     "text": [
      "\n",
      "      Epoch    GPU_mem   box_loss   cls_loss   dfl_loss  Instances       Size\n"
     ]
    },
    {
     "name": "stderr",
     "output_type": "stream",
     "text": [
      "        3/4      2.97G       3.98      21.44     0.9427          9        736: 100%|██████████| 25/25 [00:08<00:00,  3.05it/s]\n",
      "                 Class     Images  Instances      Box(P          R      mAP50  mAP50-95): 100%|██████████| 4/4 [00:00<00:00,  7.46it/s]"
     ]
    },
    {
     "name": "stdout",
     "output_type": "stream",
     "text": [
      "                   all         98        205    0.00034     0.0488    0.00019   5.51e-05\n"
     ]
    },
    {
     "name": "stderr",
     "output_type": "stream",
     "text": [
      "\n"
     ]
    },
    {
     "name": "stdout",
     "output_type": "stream",
     "text": [
      "\n",
      "      Epoch    GPU_mem   box_loss   cls_loss   dfl_loss  Instances       Size\n"
     ]
    },
    {
     "name": "stderr",
     "output_type": "stream",
     "text": [
      "        4/4      2.97G       3.87      18.58     0.9227          8        736: 100%|██████████| 25/25 [00:06<00:00,  3.97it/s]\n",
      "                 Class     Images  Instances      Box(P          R      mAP50  mAP50-95): 100%|██████████| 4/4 [00:00<00:00,  7.22it/s]"
     ]
    },
    {
     "name": "stdout",
     "output_type": "stream",
     "text": [
      "                   all         98        205   0.000646     0.0927   0.000543   0.000142\n"
     ]
    },
    {
     "name": "stderr",
     "output_type": "stream",
     "text": [
      "\n"
     ]
    },
    {
     "name": "stdout",
     "output_type": "stream",
     "text": [
      "\n",
      "4 epochs completed in 0.010 hours.\n",
      "Optimizer stripped from /data/mtmoore/school/CSiML_AI395T/final_project/models/yolo11/iterative/11n_720imgsz_IP8M-H-SW-4epochs/weights/last.pt, 5.5MB\n",
      "Optimizer stripped from /data/mtmoore/school/CSiML_AI395T/final_project/models/yolo11/iterative/11n_720imgsz_IP8M-H-SW-4epochs/weights/best.pt, 5.5MB\n",
      "\n",
      "Validating /data/mtmoore/school/CSiML_AI395T/final_project/models/yolo11/iterative/11n_720imgsz_IP8M-H-SW-4epochs/weights/best.pt...\n",
      "Ultralytics 8.3.29 🚀 Python-3.12.7 torch-2.2.2+cu121 CUDA:0 (NVIDIA GeForce RTX 4070 SUPER, 11904MiB)\n",
      "YOLO11n summary (fused): 238 layers, 2,582,347 parameters, 0 gradients, 6.3 GFLOPs\n"
     ]
    },
    {
     "name": "stderr",
     "output_type": "stream",
     "text": [
      "                 Class     Images  Instances      Box(P          R      mAP50  mAP50-95): 100%|██████████| 4/4 [00:00<00:00,  5.63it/s]\n"
     ]
    },
    {
     "name": "stdout",
     "output_type": "stream",
     "text": [
      "                   all         98        205   0.000646     0.0927   0.000543   0.000142\n",
      "Speed: 0.1ms preprocess, 0.8ms inference, 0.0ms loss, 1.5ms postprocess per image\n",
      "Results saved to \u001b[1m/data/mtmoore/school/CSiML_AI395T/final_project/models/yolo11/iterative/11n_720imgsz_IP8M-H-SW-4epochs\u001b[0m\n",
      "New https://pypi.org/project/ultralytics/8.3.31 available 😃 Update with 'pip install -U ultralytics'\n",
      "Ultralytics 8.3.29 🚀 Python-3.12.7 torch-2.2.2+cu121 CUDA:0 (NVIDIA GeForce RTX 4070 SUPER, 11904MiB)\n",
      "\u001b[34m\u001b[1mengine/trainer: \u001b[0mtask=detect, mode=train, model=yolo11n.pt, data=/data/mtmoore/school/CSiML_AI395T/final_project/dataset/yolov8_dataset/data.yaml, epochs=5, time=None, patience=100, batch=16, imgsz=720, save=True, save_period=-1, cache=False, device=None, workers=8, project=/data/mtmoore/school/CSiML_AI395T/final_project/models/yolo11/iterative, name=11n_720imgsz_IP8M-H-SW-5epochs, exist_ok=False, pretrained=True, optimizer=auto, verbose=True, seed=0, deterministic=True, single_cls=False, rect=False, cos_lr=False, close_mosaic=10, resume=False, amp=True, fraction=1.0, profile=False, freeze=None, multi_scale=False, overlap_mask=True, mask_ratio=4, dropout=0.0, val=True, split=val, save_json=False, save_hybrid=False, conf=None, iou=0.7, max_det=300, half=False, dnn=False, plots=True, source=None, vid_stride=1, stream_buffer=False, visualize=False, augment=False, agnostic_nms=False, classes=None, retina_masks=False, embed=None, show=False, save_frames=False, save_txt=False, save_conf=False, save_crop=False, show_labels=True, show_conf=True, show_boxes=True, line_width=None, format=torchscript, keras=False, optimize=False, int8=False, dynamic=False, simplify=True, opset=None, workspace=4, nms=False, lr0=0.01, lrf=0.01, momentum=0.937, weight_decay=0.0005, warmup_epochs=3.0, warmup_momentum=0.8, warmup_bias_lr=0.1, box=7.5, cls=0.5, dfl=1.5, pose=12.0, kobj=1.0, label_smoothing=0.0, nbs=64, hsv_h=0.015, hsv_s=0.7, hsv_v=0.4, degrees=0.0, translate=0.1, scale=0.5, shear=0.0, perspective=0.0, flipud=0.0, fliplr=0.5, bgr=0.0, mosaic=1.0, mixup=0.0, copy_paste=0.0, copy_paste_mode=flip, auto_augment=randaugment, erasing=0.4, crop_fraction=1.0, cfg=None, tracker=botsort.yaml, save_dir=/data/mtmoore/school/CSiML_AI395T/final_project/models/yolo11/iterative/11n_720imgsz_IP8M-H-SW-5epochs\n",
      "Overriding model.yaml nc=80 with nc=1\n",
      "\n",
      "                   from  n    params  module                                       arguments                     \n",
      "  0                  -1  1       464  ultralytics.nn.modules.conv.Conv             [3, 16, 3, 2]                 \n",
      "  1                  -1  1      4672  ultralytics.nn.modules.conv.Conv             [16, 32, 3, 2]                \n",
      "  2                  -1  1      6640  ultralytics.nn.modules.block.C3k2            [32, 64, 1, False, 0.25]      \n",
      "  3                  -1  1     36992  ultralytics.nn.modules.conv.Conv             [64, 64, 3, 2]                \n",
      "  4                  -1  1     26080  ultralytics.nn.modules.block.C3k2            [64, 128, 1, False, 0.25]     \n",
      "  5                  -1  1    147712  ultralytics.nn.modules.conv.Conv             [128, 128, 3, 2]              \n",
      "  6                  -1  1     87040  ultralytics.nn.modules.block.C3k2            [128, 128, 1, True]           \n",
      "  7                  -1  1    295424  ultralytics.nn.modules.conv.Conv             [128, 256, 3, 2]              \n",
      "  8                  -1  1    346112  ultralytics.nn.modules.block.C3k2            [256, 256, 1, True]           \n",
      "  9                  -1  1    164608  ultralytics.nn.modules.block.SPPF            [256, 256, 5]                 \n",
      " 10                  -1  1    249728  ultralytics.nn.modules.block.C2PSA           [256, 256, 1]                 \n",
      " 11                  -1  1         0  torch.nn.modules.upsampling.Upsample         [None, 2, 'nearest']          \n",
      " 12             [-1, 6]  1         0  ultralytics.nn.modules.conv.Concat           [1]                           \n",
      " 13                  -1  1    111296  ultralytics.nn.modules.block.C3k2            [384, 128, 1, False]          \n",
      " 14                  -1  1         0  torch.nn.modules.upsampling.Upsample         [None, 2, 'nearest']          \n",
      " 15             [-1, 4]  1         0  ultralytics.nn.modules.conv.Concat           [1]                           \n",
      " 16                  -1  1     32096  ultralytics.nn.modules.block.C3k2            [256, 64, 1, False]           \n",
      " 17                  -1  1     36992  ultralytics.nn.modules.conv.Conv             [64, 64, 3, 2]                \n",
      " 18            [-1, 13]  1         0  ultralytics.nn.modules.conv.Concat           [1]                           \n",
      " 19                  -1  1     86720  ultralytics.nn.modules.block.C3k2            [192, 128, 1, False]          \n",
      " 20                  -1  1    147712  ultralytics.nn.modules.conv.Conv             [128, 128, 3, 2]              \n",
      " 21            [-1, 10]  1         0  ultralytics.nn.modules.conv.Concat           [1]                           \n",
      " 22                  -1  1    378880  ultralytics.nn.modules.block.C3k2            [384, 256, 1, True]           \n",
      " 23        [16, 19, 22]  1    430867  ultralytics.nn.modules.head.Detect           [1, [64, 128, 256]]           \n",
      "YOLO11n summary: 319 layers, 2,590,035 parameters, 2,590,019 gradients, 6.4 GFLOPs\n",
      "\n",
      "Transferred 448/499 items from pretrained weights\n",
      "Freezing layer 'model.23.dfl.conv.weight'\n",
      "\u001b[34m\u001b[1mAMP: \u001b[0mrunning Automatic Mixed Precision (AMP) checks...\n",
      "\u001b[34m\u001b[1mAMP: \u001b[0mchecks passed ✅\n",
      "WARNING ⚠️ imgsz=[720] must be multiple of max stride 32, updating to [736]\n"
     ]
    },
    {
     "name": "stderr",
     "output_type": "stream",
     "text": [
      "\u001b[34m\u001b[1mtrain: \u001b[0mScanning train/labels.cache... 388 images, 0 backgrounds, 0 corrupt: 100%|██████████| 388/388 [00:00<?, ?it/s]\u001b[0m"
     ]
    },
    {
     "name": "stdout",
     "output_type": "stream",
     "text": [
      "\u001b[34m\u001b[1mtrain: \u001b[0mWARNING ⚠️ train/images/IP8M-H-SW_2024-10-24_deer_00000111.png: 1 duplicate labels removed\n",
      "\u001b[34m\u001b[1mtrain: \u001b[0mWARNING ⚠️ train/images/IP8M-H-SW_2024-10-24_deer_00000112.png: 1 duplicate labels removed\n"
     ]
    },
    {
     "name": "stderr",
     "output_type": "stream",
     "text": [
      "\n",
      "\u001b[34m\u001b[1mval: \u001b[0mScanning val/labels.cache... 98 images, 0 backgrounds, 0 corrupt: 100%|██████████| 98/98 [00:00<?, ?it/s]\u001b[0m\n"
     ]
    },
    {
     "name": "stdout",
     "output_type": "stream",
     "text": [
      "Plotting labels to /data/mtmoore/school/CSiML_AI395T/final_project/models/yolo11/iterative/11n_720imgsz_IP8M-H-SW-5epochs/labels.jpg... \n",
      "\u001b[34m\u001b[1moptimizer:\u001b[0m 'optimizer=auto' found, ignoring 'lr0=0.01' and 'momentum=0.937' and determining best 'optimizer', 'lr0' and 'momentum' automatically... \n",
      "\u001b[34m\u001b[1moptimizer:\u001b[0m AdamW(lr=0.002, momentum=0.9) with parameter groups 81 weight(decay=0.0), 88 weight(decay=0.0005), 87 bias(decay=0.0)\n",
      "Image sizes 736 train, 736 val\n",
      "Using 8 dataloader workers\n",
      "Logging results to \u001b[1m/data/mtmoore/school/CSiML_AI395T/final_project/models/yolo11/iterative/11n_720imgsz_IP8M-H-SW-5epochs\u001b[0m\n",
      "Starting training for 5 epochs...\n",
      "\n",
      "      Epoch    GPU_mem   box_loss   cls_loss   dfl_loss  Instances       Size\n"
     ]
    },
    {
     "name": "stderr",
     "output_type": "stream",
     "text": [
      "        1/5      3.07G       3.21      108.3     0.8292         13        736: 100%|██████████| 25/25 [00:05<00:00,  4.40it/s]\n",
      "                 Class     Images  Instances      Box(P          R      mAP50  mAP50-95): 100%|██████████| 4/4 [00:00<00:00,  8.06it/s]"
     ]
    },
    {
     "name": "stdout",
     "output_type": "stream",
     "text": [
      "                   all         98        205          0          0          0          0\n"
     ]
    },
    {
     "name": "stderr",
     "output_type": "stream",
     "text": [
      "\n"
     ]
    },
    {
     "name": "stdout",
     "output_type": "stream",
     "text": [
      "\n",
      "      Epoch    GPU_mem   box_loss   cls_loss   dfl_loss  Instances       Size\n"
     ]
    },
    {
     "name": "stderr",
     "output_type": "stream",
     "text": [
      "        2/5      2.96G      4.145      24.41      0.952          7        736: 100%|██████████| 25/25 [00:09<00:00,  2.61it/s]\n",
      "                 Class     Images  Instances      Box(P          R      mAP50  mAP50-95): 100%|██████████| 4/4 [00:00<00:00,  7.66it/s]"
     ]
    },
    {
     "name": "stdout",
     "output_type": "stream",
     "text": [
      "                   all         98        205          0          0          0          0\n"
     ]
    },
    {
     "name": "stderr",
     "output_type": "stream",
     "text": [
      "\n"
     ]
    },
    {
     "name": "stdout",
     "output_type": "stream",
     "text": [
      "\n",
      "      Epoch    GPU_mem   box_loss   cls_loss   dfl_loss  Instances       Size\n"
     ]
    },
    {
     "name": "stderr",
     "output_type": "stream",
     "text": [
      "        3/5      2.97G      3.978      20.36     0.9206          9        736: 100%|██████████| 25/25 [00:08<00:00,  3.08it/s]\n",
      "                 Class     Images  Instances      Box(P          R      mAP50  mAP50-95): 100%|██████████| 4/4 [00:00<00:00,  8.43it/s]"
     ]
    },
    {
     "name": "stdout",
     "output_type": "stream",
     "text": [
      "                   all         98        205          0          0          0          0\n"
     ]
    },
    {
     "name": "stderr",
     "output_type": "stream",
     "text": [
      "\n"
     ]
    },
    {
     "name": "stdout",
     "output_type": "stream",
     "text": [
      "\n",
      "      Epoch    GPU_mem   box_loss   cls_loss   dfl_loss  Instances       Size\n"
     ]
    },
    {
     "name": "stderr",
     "output_type": "stream",
     "text": [
      "        4/5      2.97G      3.921      16.72     0.9018          8        736: 100%|██████████| 25/25 [00:07<00:00,  3.52it/s]\n",
      "                 Class     Images  Instances      Box(P          R      mAP50  mAP50-95): 100%|██████████| 4/4 [00:00<00:00,  7.18it/s]"
     ]
    },
    {
     "name": "stdout",
     "output_type": "stream",
     "text": [
      "                   all         98        205   0.000748      0.107     0.0254    0.00898\n"
     ]
    },
    {
     "name": "stderr",
     "output_type": "stream",
     "text": [
      "\n"
     ]
    },
    {
     "name": "stdout",
     "output_type": "stream",
     "text": [
      "\n",
      "      Epoch    GPU_mem   box_loss   cls_loss   dfl_loss  Instances       Size\n"
     ]
    },
    {
     "name": "stderr",
     "output_type": "stream",
     "text": [
      "        5/5      2.97G      3.524       12.5     0.8696         11        736: 100%|██████████| 25/25 [00:06<00:00,  3.57it/s]\n",
      "                 Class     Images  Instances      Box(P          R      mAP50  mAP50-95): 100%|██████████| 4/4 [00:00<00:00,  7.60it/s]"
     ]
    },
    {
     "name": "stdout",
     "output_type": "stream",
     "text": [
      "                   all         98        205      0.726     0.0537     0.0703    0.00974\n"
     ]
    },
    {
     "name": "stderr",
     "output_type": "stream",
     "text": [
      "\n"
     ]
    },
    {
     "name": "stdout",
     "output_type": "stream",
     "text": [
      "\n",
      "5 epochs completed in 0.012 hours.\n",
      "Optimizer stripped from /data/mtmoore/school/CSiML_AI395T/final_project/models/yolo11/iterative/11n_720imgsz_IP8M-H-SW-5epochs/weights/last.pt, 5.5MB\n",
      "Optimizer stripped from /data/mtmoore/school/CSiML_AI395T/final_project/models/yolo11/iterative/11n_720imgsz_IP8M-H-SW-5epochs/weights/best.pt, 5.5MB\n",
      "\n",
      "Validating /data/mtmoore/school/CSiML_AI395T/final_project/models/yolo11/iterative/11n_720imgsz_IP8M-H-SW-5epochs/weights/best.pt...\n",
      "Ultralytics 8.3.29 🚀 Python-3.12.7 torch-2.2.2+cu121 CUDA:0 (NVIDIA GeForce RTX 4070 SUPER, 11904MiB)\n",
      "YOLO11n summary (fused): 238 layers, 2,582,347 parameters, 0 gradients, 6.3 GFLOPs\n"
     ]
    },
    {
     "name": "stderr",
     "output_type": "stream",
     "text": [
      "                 Class     Images  Instances      Box(P          R      mAP50  mAP50-95): 100%|██████████| 4/4 [00:00<00:00,  5.52it/s]\n"
     ]
    },
    {
     "name": "stdout",
     "output_type": "stream",
     "text": [
      "                   all         98        205      0.726     0.0537     0.0704    0.00975\n",
      "Speed: 0.1ms preprocess, 1.3ms inference, 0.1ms loss, 1.7ms postprocess per image\n",
      "Results saved to \u001b[1m/data/mtmoore/school/CSiML_AI395T/final_project/models/yolo11/iterative/11n_720imgsz_IP8M-H-SW-5epochs\u001b[0m\n",
      "New https://pypi.org/project/ultralytics/8.3.31 available 😃 Update with 'pip install -U ultralytics'\n",
      "Ultralytics 8.3.29 🚀 Python-3.12.7 torch-2.2.2+cu121 CUDA:0 (NVIDIA GeForce RTX 4070 SUPER, 11904MiB)\n",
      "\u001b[34m\u001b[1mengine/trainer: \u001b[0mtask=detect, mode=train, model=yolo11n.pt, data=/data/mtmoore/school/CSiML_AI395T/final_project/dataset/yolov8_dataset/data.yaml, epochs=6, time=None, patience=100, batch=16, imgsz=720, save=True, save_period=-1, cache=False, device=None, workers=8, project=/data/mtmoore/school/CSiML_AI395T/final_project/models/yolo11/iterative, name=11n_720imgsz_IP8M-H-SW-6epochs, exist_ok=False, pretrained=True, optimizer=auto, verbose=True, seed=0, deterministic=True, single_cls=False, rect=False, cos_lr=False, close_mosaic=10, resume=False, amp=True, fraction=1.0, profile=False, freeze=None, multi_scale=False, overlap_mask=True, mask_ratio=4, dropout=0.0, val=True, split=val, save_json=False, save_hybrid=False, conf=None, iou=0.7, max_det=300, half=False, dnn=False, plots=True, source=None, vid_stride=1, stream_buffer=False, visualize=False, augment=False, agnostic_nms=False, classes=None, retina_masks=False, embed=None, show=False, save_frames=False, save_txt=False, save_conf=False, save_crop=False, show_labels=True, show_conf=True, show_boxes=True, line_width=None, format=torchscript, keras=False, optimize=False, int8=False, dynamic=False, simplify=True, opset=None, workspace=4, nms=False, lr0=0.01, lrf=0.01, momentum=0.937, weight_decay=0.0005, warmup_epochs=3.0, warmup_momentum=0.8, warmup_bias_lr=0.1, box=7.5, cls=0.5, dfl=1.5, pose=12.0, kobj=1.0, label_smoothing=0.0, nbs=64, hsv_h=0.015, hsv_s=0.7, hsv_v=0.4, degrees=0.0, translate=0.1, scale=0.5, shear=0.0, perspective=0.0, flipud=0.0, fliplr=0.5, bgr=0.0, mosaic=1.0, mixup=0.0, copy_paste=0.0, copy_paste_mode=flip, auto_augment=randaugment, erasing=0.4, crop_fraction=1.0, cfg=None, tracker=botsort.yaml, save_dir=/data/mtmoore/school/CSiML_AI395T/final_project/models/yolo11/iterative/11n_720imgsz_IP8M-H-SW-6epochs\n",
      "Overriding model.yaml nc=80 with nc=1\n",
      "\n",
      "                   from  n    params  module                                       arguments                     \n",
      "  0                  -1  1       464  ultralytics.nn.modules.conv.Conv             [3, 16, 3, 2]                 \n",
      "  1                  -1  1      4672  ultralytics.nn.modules.conv.Conv             [16, 32, 3, 2]                \n",
      "  2                  -1  1      6640  ultralytics.nn.modules.block.C3k2            [32, 64, 1, False, 0.25]      \n",
      "  3                  -1  1     36992  ultralytics.nn.modules.conv.Conv             [64, 64, 3, 2]                \n",
      "  4                  -1  1     26080  ultralytics.nn.modules.block.C3k2            [64, 128, 1, False, 0.25]     \n",
      "  5                  -1  1    147712  ultralytics.nn.modules.conv.Conv             [128, 128, 3, 2]              \n",
      "  6                  -1  1     87040  ultralytics.nn.modules.block.C3k2            [128, 128, 1, True]           \n",
      "  7                  -1  1    295424  ultralytics.nn.modules.conv.Conv             [128, 256, 3, 2]              \n",
      "  8                  -1  1    346112  ultralytics.nn.modules.block.C3k2            [256, 256, 1, True]           \n",
      "  9                  -1  1    164608  ultralytics.nn.modules.block.SPPF            [256, 256, 5]                 \n",
      " 10                  -1  1    249728  ultralytics.nn.modules.block.C2PSA           [256, 256, 1]                 \n",
      " 11                  -1  1         0  torch.nn.modules.upsampling.Upsample         [None, 2, 'nearest']          \n",
      " 12             [-1, 6]  1         0  ultralytics.nn.modules.conv.Concat           [1]                           \n",
      " 13                  -1  1    111296  ultralytics.nn.modules.block.C3k2            [384, 128, 1, False]          \n",
      " 14                  -1  1         0  torch.nn.modules.upsampling.Upsample         [None, 2, 'nearest']          \n",
      " 15             [-1, 4]  1         0  ultralytics.nn.modules.conv.Concat           [1]                           \n",
      " 16                  -1  1     32096  ultralytics.nn.modules.block.C3k2            [256, 64, 1, False]           \n",
      " 17                  -1  1     36992  ultralytics.nn.modules.conv.Conv             [64, 64, 3, 2]                \n",
      " 18            [-1, 13]  1         0  ultralytics.nn.modules.conv.Concat           [1]                           \n",
      " 19                  -1  1     86720  ultralytics.nn.modules.block.C3k2            [192, 128, 1, False]          \n",
      " 20                  -1  1    147712  ultralytics.nn.modules.conv.Conv             [128, 128, 3, 2]              \n",
      " 21            [-1, 10]  1         0  ultralytics.nn.modules.conv.Concat           [1]                           \n",
      " 22                  -1  1    378880  ultralytics.nn.modules.block.C3k2            [384, 256, 1, True]           \n",
      " 23        [16, 19, 22]  1    430867  ultralytics.nn.modules.head.Detect           [1, [64, 128, 256]]           \n",
      "YOLO11n summary: 319 layers, 2,590,035 parameters, 2,590,019 gradients, 6.4 GFLOPs\n",
      "\n",
      "Transferred 448/499 items from pretrained weights\n",
      "Freezing layer 'model.23.dfl.conv.weight'\n",
      "\u001b[34m\u001b[1mAMP: \u001b[0mrunning Automatic Mixed Precision (AMP) checks...\n",
      "\u001b[34m\u001b[1mAMP: \u001b[0mchecks passed ✅\n",
      "WARNING ⚠️ imgsz=[720] must be multiple of max stride 32, updating to [736]\n"
     ]
    },
    {
     "name": "stderr",
     "output_type": "stream",
     "text": [
      "\u001b[34m\u001b[1mtrain: \u001b[0mScanning train/labels.cache... 388 images, 0 backgrounds, 0 corrupt: 100%|██████████| 388/388 [00:00<?, ?it/s]\u001b[0m"
     ]
    },
    {
     "name": "stdout",
     "output_type": "stream",
     "text": [
      "\u001b[34m\u001b[1mtrain: \u001b[0mWARNING ⚠️ train/images/IP8M-H-SW_2024-10-24_deer_00000111.png: 1 duplicate labels removed\n",
      "\u001b[34m\u001b[1mtrain: \u001b[0mWARNING ⚠️ train/images/IP8M-H-SW_2024-10-24_deer_00000112.png: 1 duplicate labels removed\n"
     ]
    },
    {
     "name": "stderr",
     "output_type": "stream",
     "text": [
      "\n",
      "\u001b[34m\u001b[1mval: \u001b[0mScanning val/labels.cache... 98 images, 0 backgrounds, 0 corrupt: 100%|██████████| 98/98 [00:00<?, ?it/s]\u001b[0m\n"
     ]
    },
    {
     "name": "stdout",
     "output_type": "stream",
     "text": [
      "Plotting labels to /data/mtmoore/school/CSiML_AI395T/final_project/models/yolo11/iterative/11n_720imgsz_IP8M-H-SW-6epochs/labels.jpg... \n",
      "\u001b[34m\u001b[1moptimizer:\u001b[0m 'optimizer=auto' found, ignoring 'lr0=0.01' and 'momentum=0.937' and determining best 'optimizer', 'lr0' and 'momentum' automatically... \n",
      "\u001b[34m\u001b[1moptimizer:\u001b[0m AdamW(lr=0.002, momentum=0.9) with parameter groups 81 weight(decay=0.0), 88 weight(decay=0.0005), 87 bias(decay=0.0)\n",
      "Image sizes 736 train, 736 val\n",
      "Using 8 dataloader workers\n",
      "Logging results to \u001b[1m/data/mtmoore/school/CSiML_AI395T/final_project/models/yolo11/iterative/11n_720imgsz_IP8M-H-SW-6epochs\u001b[0m\n",
      "Starting training for 6 epochs...\n",
      "\n",
      "      Epoch    GPU_mem   box_loss   cls_loss   dfl_loss  Instances       Size\n"
     ]
    },
    {
     "name": "stderr",
     "output_type": "stream",
     "text": [
      "        1/6      3.14G       3.21      108.3     0.8292         13        736: 100%|██████████| 25/25 [00:06<00:00,  4.02it/s]\n",
      "                 Class     Images  Instances      Box(P          R      mAP50  mAP50-95): 100%|██████████| 4/4 [00:00<00:00,  7.93it/s]"
     ]
    },
    {
     "name": "stdout",
     "output_type": "stream",
     "text": [
      "                   all         98        205          0          0          0          0\n"
     ]
    },
    {
     "name": "stderr",
     "output_type": "stream",
     "text": [
      "\n"
     ]
    },
    {
     "name": "stdout",
     "output_type": "stream",
     "text": [
      "\n",
      "      Epoch    GPU_mem   box_loss   cls_loss   dfl_loss  Instances       Size\n"
     ]
    },
    {
     "name": "stderr",
     "output_type": "stream",
     "text": [
      "        2/6      2.96G      4.085      24.45      0.938          7        736: 100%|██████████| 25/25 [00:08<00:00,  2.87it/s]\n",
      "                 Class     Images  Instances      Box(P          R      mAP50  mAP50-95): 100%|██████████| 4/4 [00:00<00:00,  7.72it/s]"
     ]
    },
    {
     "name": "stdout",
     "output_type": "stream",
     "text": [
      "                   all         98        205          0          0          0          0\n"
     ]
    },
    {
     "name": "stderr",
     "output_type": "stream",
     "text": [
      "\n"
     ]
    },
    {
     "name": "stdout",
     "output_type": "stream",
     "text": [
      "\n",
      "      Epoch    GPU_mem   box_loss   cls_loss   dfl_loss  Instances       Size\n"
     ]
    },
    {
     "name": "stderr",
     "output_type": "stream",
     "text": [
      "        3/6      2.97G      3.931      20.21     0.9264          9        736: 100%|██████████| 25/25 [00:08<00:00,  3.05it/s]\n",
      "                 Class     Images  Instances      Box(P          R      mAP50  mAP50-95): 100%|██████████| 4/4 [00:00<00:00,  4.90it/s]"
     ]
    },
    {
     "name": "stdout",
     "output_type": "stream",
     "text": [
      "                   all         98        205   0.000612     0.0878   0.000349   0.000111\n"
     ]
    },
    {
     "name": "stderr",
     "output_type": "stream",
     "text": [
      "\n"
     ]
    },
    {
     "name": "stdout",
     "output_type": "stream",
     "text": [
      "\n",
      "      Epoch    GPU_mem   box_loss   cls_loss   dfl_loss  Instances       Size\n"
     ]
    },
    {
     "name": "stderr",
     "output_type": "stream",
     "text": [
      "        4/6      2.97G      3.785      17.14     0.9023          8        736: 100%|██████████| 25/25 [00:05<00:00,  4.32it/s]\n",
      "                 Class     Images  Instances      Box(P          R      mAP50  mAP50-95): 100%|██████████| 4/4 [00:00<00:00,  6.70it/s]"
     ]
    },
    {
     "name": "stdout",
     "output_type": "stream",
     "text": [
      "                   all         98        205   0.000884      0.127     0.0437     0.0108\n"
     ]
    },
    {
     "name": "stderr",
     "output_type": "stream",
     "text": [
      "\n"
     ]
    },
    {
     "name": "stdout",
     "output_type": "stream",
     "text": [
      "\n",
      "      Epoch    GPU_mem   box_loss   cls_loss   dfl_loss  Instances       Size\n"
     ]
    },
    {
     "name": "stderr",
     "output_type": "stream",
     "text": [
      "        5/6      2.97G      3.632       12.6     0.8781         11        736: 100%|██████████| 25/25 [00:07<00:00,  3.40it/s]\n",
      "                 Class     Images  Instances      Box(P          R      mAP50  mAP50-95): 100%|██████████| 4/4 [00:00<00:00,  7.72it/s]\n"
     ]
    },
    {
     "name": "stdout",
     "output_type": "stream",
     "text": [
      "                   all         98        205      0.222    0.00976     0.0161    0.00301\n",
      "\n",
      "      Epoch    GPU_mem   box_loss   cls_loss   dfl_loss  Instances       Size\n"
     ]
    },
    {
     "name": "stderr",
     "output_type": "stream",
     "text": [
      "        6/6      2.97G      3.579      12.41     0.8687         20        736: 100%|██████████| 25/25 [00:07<00:00,  3.52it/s]\n",
      "                 Class     Images  Instances      Box(P          R      mAP50  mAP50-95): 100%|██████████| 4/4 [00:00<00:00,  7.80it/s]"
     ]
    },
    {
     "name": "stdout",
     "output_type": "stream",
     "text": [
      "                   all         98        205      0.866      0.078      0.124     0.0278\n"
     ]
    },
    {
     "name": "stderr",
     "output_type": "stream",
     "text": [
      "\n"
     ]
    },
    {
     "name": "stdout",
     "output_type": "stream",
     "text": [
      "\n",
      "6 epochs completed in 0.014 hours.\n",
      "Optimizer stripped from /data/mtmoore/school/CSiML_AI395T/final_project/models/yolo11/iterative/11n_720imgsz_IP8M-H-SW-6epochs/weights/last.pt, 5.5MB\n",
      "Optimizer stripped from /data/mtmoore/school/CSiML_AI395T/final_project/models/yolo11/iterative/11n_720imgsz_IP8M-H-SW-6epochs/weights/best.pt, 5.5MB\n",
      "\n",
      "Validating /data/mtmoore/school/CSiML_AI395T/final_project/models/yolo11/iterative/11n_720imgsz_IP8M-H-SW-6epochs/weights/best.pt...\n",
      "Ultralytics 8.3.29 🚀 Python-3.12.7 torch-2.2.2+cu121 CUDA:0 (NVIDIA GeForce RTX 4070 SUPER, 11904MiB)\n",
      "YOLO11n summary (fused): 238 layers, 2,582,347 parameters, 0 gradients, 6.3 GFLOPs\n"
     ]
    },
    {
     "name": "stderr",
     "output_type": "stream",
     "text": [
      "                 Class     Images  Instances      Box(P          R      mAP50  mAP50-95): 100%|██████████| 4/4 [00:00<00:00,  5.45it/s]\n"
     ]
    },
    {
     "name": "stdout",
     "output_type": "stream",
     "text": [
      "                   all         98        205      0.813     0.0732       0.12     0.0274\n",
      "Speed: 0.1ms preprocess, 1.5ms inference, 0.0ms loss, 1.5ms postprocess per image\n",
      "Results saved to \u001b[1m/data/mtmoore/school/CSiML_AI395T/final_project/models/yolo11/iterative/11n_720imgsz_IP8M-H-SW-6epochs\u001b[0m\n",
      "New https://pypi.org/project/ultralytics/8.3.31 available 😃 Update with 'pip install -U ultralytics'\n",
      "Ultralytics 8.3.29 🚀 Python-3.12.7 torch-2.2.2+cu121 CUDA:0 (NVIDIA GeForce RTX 4070 SUPER, 11904MiB)\n",
      "\u001b[34m\u001b[1mengine/trainer: \u001b[0mtask=detect, mode=train, model=yolo11n.pt, data=/data/mtmoore/school/CSiML_AI395T/final_project/dataset/yolov8_dataset/data.yaml, epochs=7, time=None, patience=100, batch=16, imgsz=720, save=True, save_period=-1, cache=False, device=None, workers=8, project=/data/mtmoore/school/CSiML_AI395T/final_project/models/yolo11/iterative, name=11n_720imgsz_IP8M-H-SW-7epochs, exist_ok=False, pretrained=True, optimizer=auto, verbose=True, seed=0, deterministic=True, single_cls=False, rect=False, cos_lr=False, close_mosaic=10, resume=False, amp=True, fraction=1.0, profile=False, freeze=None, multi_scale=False, overlap_mask=True, mask_ratio=4, dropout=0.0, val=True, split=val, save_json=False, save_hybrid=False, conf=None, iou=0.7, max_det=300, half=False, dnn=False, plots=True, source=None, vid_stride=1, stream_buffer=False, visualize=False, augment=False, agnostic_nms=False, classes=None, retina_masks=False, embed=None, show=False, save_frames=False, save_txt=False, save_conf=False, save_crop=False, show_labels=True, show_conf=True, show_boxes=True, line_width=None, format=torchscript, keras=False, optimize=False, int8=False, dynamic=False, simplify=True, opset=None, workspace=4, nms=False, lr0=0.01, lrf=0.01, momentum=0.937, weight_decay=0.0005, warmup_epochs=3.0, warmup_momentum=0.8, warmup_bias_lr=0.1, box=7.5, cls=0.5, dfl=1.5, pose=12.0, kobj=1.0, label_smoothing=0.0, nbs=64, hsv_h=0.015, hsv_s=0.7, hsv_v=0.4, degrees=0.0, translate=0.1, scale=0.5, shear=0.0, perspective=0.0, flipud=0.0, fliplr=0.5, bgr=0.0, mosaic=1.0, mixup=0.0, copy_paste=0.0, copy_paste_mode=flip, auto_augment=randaugment, erasing=0.4, crop_fraction=1.0, cfg=None, tracker=botsort.yaml, save_dir=/data/mtmoore/school/CSiML_AI395T/final_project/models/yolo11/iterative/11n_720imgsz_IP8M-H-SW-7epochs\n",
      "Overriding model.yaml nc=80 with nc=1\n",
      "\n",
      "                   from  n    params  module                                       arguments                     \n",
      "  0                  -1  1       464  ultralytics.nn.modules.conv.Conv             [3, 16, 3, 2]                 \n",
      "  1                  -1  1      4672  ultralytics.nn.modules.conv.Conv             [16, 32, 3, 2]                \n",
      "  2                  -1  1      6640  ultralytics.nn.modules.block.C3k2            [32, 64, 1, False, 0.25]      \n",
      "  3                  -1  1     36992  ultralytics.nn.modules.conv.Conv             [64, 64, 3, 2]                \n",
      "  4                  -1  1     26080  ultralytics.nn.modules.block.C3k2            [64, 128, 1, False, 0.25]     \n",
      "  5                  -1  1    147712  ultralytics.nn.modules.conv.Conv             [128, 128, 3, 2]              \n",
      "  6                  -1  1     87040  ultralytics.nn.modules.block.C3k2            [128, 128, 1, True]           \n",
      "  7                  -1  1    295424  ultralytics.nn.modules.conv.Conv             [128, 256, 3, 2]              \n",
      "  8                  -1  1    346112  ultralytics.nn.modules.block.C3k2            [256, 256, 1, True]           \n",
      "  9                  -1  1    164608  ultralytics.nn.modules.block.SPPF            [256, 256, 5]                 \n",
      " 10                  -1  1    249728  ultralytics.nn.modules.block.C2PSA           [256, 256, 1]                 \n",
      " 11                  -1  1         0  torch.nn.modules.upsampling.Upsample         [None, 2, 'nearest']          \n",
      " 12             [-1, 6]  1         0  ultralytics.nn.modules.conv.Concat           [1]                           \n",
      " 13                  -1  1    111296  ultralytics.nn.modules.block.C3k2            [384, 128, 1, False]          \n",
      " 14                  -1  1         0  torch.nn.modules.upsampling.Upsample         [None, 2, 'nearest']          \n",
      " 15             [-1, 4]  1         0  ultralytics.nn.modules.conv.Concat           [1]                           \n",
      " 16                  -1  1     32096  ultralytics.nn.modules.block.C3k2            [256, 64, 1, False]           \n",
      " 17                  -1  1     36992  ultralytics.nn.modules.conv.Conv             [64, 64, 3, 2]                \n",
      " 18            [-1, 13]  1         0  ultralytics.nn.modules.conv.Concat           [1]                           \n",
      " 19                  -1  1     86720  ultralytics.nn.modules.block.C3k2            [192, 128, 1, False]          \n",
      " 20                  -1  1    147712  ultralytics.nn.modules.conv.Conv             [128, 128, 3, 2]              \n",
      " 21            [-1, 10]  1         0  ultralytics.nn.modules.conv.Concat           [1]                           \n",
      " 22                  -1  1    378880  ultralytics.nn.modules.block.C3k2            [384, 256, 1, True]           \n",
      " 23        [16, 19, 22]  1    430867  ultralytics.nn.modules.head.Detect           [1, [64, 128, 256]]           \n",
      "YOLO11n summary: 319 layers, 2,590,035 parameters, 2,590,019 gradients, 6.4 GFLOPs\n",
      "\n",
      "Transferred 448/499 items from pretrained weights\n",
      "Freezing layer 'model.23.dfl.conv.weight'\n",
      "\u001b[34m\u001b[1mAMP: \u001b[0mrunning Automatic Mixed Precision (AMP) checks...\n",
      "\u001b[34m\u001b[1mAMP: \u001b[0mchecks passed ✅\n",
      "WARNING ⚠️ imgsz=[720] must be multiple of max stride 32, updating to [736]\n"
     ]
    },
    {
     "name": "stderr",
     "output_type": "stream",
     "text": [
      "\u001b[34m\u001b[1mtrain: \u001b[0mScanning train/labels.cache... 388 images, 0 backgrounds, 0 corrupt: 100%|██████████| 388/388 [00:00<?, ?it/s]\u001b[0m"
     ]
    },
    {
     "name": "stdout",
     "output_type": "stream",
     "text": [
      "\u001b[34m\u001b[1mtrain: \u001b[0mWARNING ⚠️ train/images/IP8M-H-SW_2024-10-24_deer_00000111.png: 1 duplicate labels removed\n",
      "\u001b[34m\u001b[1mtrain: \u001b[0mWARNING ⚠️ train/images/IP8M-H-SW_2024-10-24_deer_00000112.png: 1 duplicate labels removed\n"
     ]
    },
    {
     "name": "stderr",
     "output_type": "stream",
     "text": [
      "\n",
      "\u001b[34m\u001b[1mval: \u001b[0mScanning val/labels.cache... 98 images, 0 backgrounds, 0 corrupt: 100%|██████████| 98/98 [00:00<?, ?it/s]\u001b[0m\n"
     ]
    },
    {
     "name": "stdout",
     "output_type": "stream",
     "text": [
      "Plotting labels to /data/mtmoore/school/CSiML_AI395T/final_project/models/yolo11/iterative/11n_720imgsz_IP8M-H-SW-7epochs/labels.jpg... \n",
      "\u001b[34m\u001b[1moptimizer:\u001b[0m 'optimizer=auto' found, ignoring 'lr0=0.01' and 'momentum=0.937' and determining best 'optimizer', 'lr0' and 'momentum' automatically... \n",
      "\u001b[34m\u001b[1moptimizer:\u001b[0m AdamW(lr=0.002, momentum=0.9) with parameter groups 81 weight(decay=0.0), 88 weight(decay=0.0005), 87 bias(decay=0.0)\n",
      "Image sizes 736 train, 736 val\n",
      "Using 8 dataloader workers\n",
      "Logging results to \u001b[1m/data/mtmoore/school/CSiML_AI395T/final_project/models/yolo11/iterative/11n_720imgsz_IP8M-H-SW-7epochs\u001b[0m\n",
      "Starting training for 7 epochs...\n",
      "\n",
      "      Epoch    GPU_mem   box_loss   cls_loss   dfl_loss  Instances       Size\n"
     ]
    },
    {
     "name": "stderr",
     "output_type": "stream",
     "text": [
      "        1/7      3.01G       3.21      108.3     0.8292         13        736: 100%|██████████| 25/25 [00:06<00:00,  4.03it/s]\n",
      "                 Class     Images  Instances      Box(P          R      mAP50  mAP50-95): 100%|██████████| 4/4 [00:00<00:00,  8.48it/s]"
     ]
    },
    {
     "name": "stdout",
     "output_type": "stream",
     "text": [
      "                   all         98        205          0          0          0          0\n"
     ]
    },
    {
     "name": "stderr",
     "output_type": "stream",
     "text": [
      "\n"
     ]
    },
    {
     "name": "stdout",
     "output_type": "stream",
     "text": [
      "\n",
      "      Epoch    GPU_mem   box_loss   cls_loss   dfl_loss  Instances       Size\n"
     ]
    },
    {
     "name": "stderr",
     "output_type": "stream",
     "text": [
      "        2/7      2.96G      4.086       25.1     0.9544          7        736: 100%|██████████| 25/25 [00:09<00:00,  2.69it/s]\n",
      "                 Class     Images  Instances      Box(P          R      mAP50  mAP50-95): 100%|██████████| 4/4 [00:00<00:00,  8.39it/s]"
     ]
    },
    {
     "name": "stdout",
     "output_type": "stream",
     "text": [
      "                   all         98        205          0          0          0          0\n"
     ]
    },
    {
     "name": "stderr",
     "output_type": "stream",
     "text": [
      "\n"
     ]
    },
    {
     "name": "stdout",
     "output_type": "stream",
     "text": [
      "\n",
      "      Epoch    GPU_mem   box_loss   cls_loss   dfl_loss  Instances       Size\n"
     ]
    },
    {
     "name": "stderr",
     "output_type": "stream",
     "text": [
      "        3/7      2.97G      4.079      21.79      0.954          9        736: 100%|██████████| 25/25 [00:07<00:00,  3.27it/s]\n",
      "                 Class     Images  Instances      Box(P          R      mAP50  mAP50-95): 100%|██████████| 4/4 [00:00<00:00,  7.69it/s]"
     ]
    },
    {
     "name": "stdout",
     "output_type": "stream",
     "text": [
      "                   all         98        205   0.000374     0.0537   0.000203   5.17e-05\n"
     ]
    },
    {
     "name": "stderr",
     "output_type": "stream",
     "text": [
      "\n"
     ]
    },
    {
     "name": "stdout",
     "output_type": "stream",
     "text": [
      "\n",
      "      Epoch    GPU_mem   box_loss   cls_loss   dfl_loss  Instances       Size\n"
     ]
    },
    {
     "name": "stderr",
     "output_type": "stream",
     "text": [
      "        4/7      2.97G      3.792      17.64     0.9166          8        736: 100%|██████████| 25/25 [00:07<00:00,  3.46it/s]\n",
      "                 Class     Images  Instances      Box(P          R      mAP50  mAP50-95): 100%|██████████| 4/4 [00:00<00:00,  7.54it/s]"
     ]
    },
    {
     "name": "stdout",
     "output_type": "stream",
     "text": [
      "                   all         98        205    0.00126       0.18    0.00202   0.000559\n"
     ]
    },
    {
     "name": "stderr",
     "output_type": "stream",
     "text": [
      "\n"
     ]
    },
    {
     "name": "stdout",
     "output_type": "stream",
     "text": [
      "\n",
      "      Epoch    GPU_mem   box_loss   cls_loss   dfl_loss  Instances       Size\n"
     ]
    },
    {
     "name": "stderr",
     "output_type": "stream",
     "text": [
      "        5/7      2.97G       3.56      13.27      0.904         11        736: 100%|██████████| 25/25 [00:07<00:00,  3.37it/s]\n",
      "                 Class     Images  Instances      Box(P          R      mAP50  mAP50-95): 100%|██████████| 4/4 [00:00<00:00,  7.48it/s]"
     ]
    },
    {
     "name": "stdout",
     "output_type": "stream",
     "text": [
      "                   all         98        205     0.0301      0.132    0.00796    0.00201\n"
     ]
    },
    {
     "name": "stderr",
     "output_type": "stream",
     "text": [
      "\n"
     ]
    },
    {
     "name": "stdout",
     "output_type": "stream",
     "text": [
      "\n",
      "      Epoch    GPU_mem   box_loss   cls_loss   dfl_loss  Instances       Size\n"
     ]
    },
    {
     "name": "stderr",
     "output_type": "stream",
     "text": [
      "        6/7      2.97G      3.471      13.14     0.8974         20        736: 100%|██████████| 25/25 [00:07<00:00,  3.21it/s]\n",
      "                 Class     Images  Instances      Box(P          R      mAP50  mAP50-95): 100%|██████████| 4/4 [00:00<00:00,  7.49it/s]\n"
     ]
    },
    {
     "name": "stdout",
     "output_type": "stream",
     "text": [
      "                   all         98        205     0.0552     0.0537     0.0112    0.00233\n",
      "\n",
      "      Epoch    GPU_mem   box_loss   cls_loss   dfl_loss  Instances       Size\n"
     ]
    },
    {
     "name": "stderr",
     "output_type": "stream",
     "text": [
      "        7/7      2.97G      3.387      12.26     0.8963         15        736: 100%|██████████| 25/25 [00:07<00:00,  3.36it/s]\n",
      "                 Class     Images  Instances      Box(P          R      mAP50  mAP50-95): 100%|██████████| 4/4 [00:00<00:00,  7.31it/s]"
     ]
    },
    {
     "name": "stdout",
     "output_type": "stream",
     "text": [
      "                   all         98        205      0.761     0.0932      0.165     0.0381\n"
     ]
    },
    {
     "name": "stderr",
     "output_type": "stream",
     "text": [
      "\n"
     ]
    },
    {
     "name": "stdout",
     "output_type": "stream",
     "text": [
      "\n",
      "7 epochs completed in 0.017 hours.\n",
      "Optimizer stripped from /data/mtmoore/school/CSiML_AI395T/final_project/models/yolo11/iterative/11n_720imgsz_IP8M-H-SW-7epochs/weights/last.pt, 5.5MB\n",
      "Optimizer stripped from /data/mtmoore/school/CSiML_AI395T/final_project/models/yolo11/iterative/11n_720imgsz_IP8M-H-SW-7epochs/weights/best.pt, 5.5MB\n",
      "\n",
      "Validating /data/mtmoore/school/CSiML_AI395T/final_project/models/yolo11/iterative/11n_720imgsz_IP8M-H-SW-7epochs/weights/best.pt...\n",
      "Ultralytics 8.3.29 🚀 Python-3.12.7 torch-2.2.2+cu121 CUDA:0 (NVIDIA GeForce RTX 4070 SUPER, 11904MiB)\n",
      "YOLO11n summary (fused): 238 layers, 2,582,347 parameters, 0 gradients, 6.3 GFLOPs\n"
     ]
    },
    {
     "name": "stderr",
     "output_type": "stream",
     "text": [
      "                 Class     Images  Instances      Box(P          R      mAP50  mAP50-95): 100%|██████████| 4/4 [00:00<00:00,  6.72it/s]\n"
     ]
    },
    {
     "name": "stdout",
     "output_type": "stream",
     "text": [
      "                   all         98        205      0.761      0.093      0.165     0.0374\n",
      "Speed: 0.1ms preprocess, 0.8ms inference, 0.0ms loss, 1.4ms postprocess per image\n",
      "Results saved to \u001b[1m/data/mtmoore/school/CSiML_AI395T/final_project/models/yolo11/iterative/11n_720imgsz_IP8M-H-SW-7epochs\u001b[0m\n",
      "New https://pypi.org/project/ultralytics/8.3.31 available 😃 Update with 'pip install -U ultralytics'\n",
      "Ultralytics 8.3.29 🚀 Python-3.12.7 torch-2.2.2+cu121 CUDA:0 (NVIDIA GeForce RTX 4070 SUPER, 11904MiB)\n",
      "\u001b[34m\u001b[1mengine/trainer: \u001b[0mtask=detect, mode=train, model=yolo11n.pt, data=/data/mtmoore/school/CSiML_AI395T/final_project/dataset/yolov8_dataset/data.yaml, epochs=8, time=None, patience=100, batch=16, imgsz=720, save=True, save_period=-1, cache=False, device=None, workers=8, project=/data/mtmoore/school/CSiML_AI395T/final_project/models/yolo11/iterative, name=11n_720imgsz_IP8M-H-SW-8epochs, exist_ok=False, pretrained=True, optimizer=auto, verbose=True, seed=0, deterministic=True, single_cls=False, rect=False, cos_lr=False, close_mosaic=10, resume=False, amp=True, fraction=1.0, profile=False, freeze=None, multi_scale=False, overlap_mask=True, mask_ratio=4, dropout=0.0, val=True, split=val, save_json=False, save_hybrid=False, conf=None, iou=0.7, max_det=300, half=False, dnn=False, plots=True, source=None, vid_stride=1, stream_buffer=False, visualize=False, augment=False, agnostic_nms=False, classes=None, retina_masks=False, embed=None, show=False, save_frames=False, save_txt=False, save_conf=False, save_crop=False, show_labels=True, show_conf=True, show_boxes=True, line_width=None, format=torchscript, keras=False, optimize=False, int8=False, dynamic=False, simplify=True, opset=None, workspace=4, nms=False, lr0=0.01, lrf=0.01, momentum=0.937, weight_decay=0.0005, warmup_epochs=3.0, warmup_momentum=0.8, warmup_bias_lr=0.1, box=7.5, cls=0.5, dfl=1.5, pose=12.0, kobj=1.0, label_smoothing=0.0, nbs=64, hsv_h=0.015, hsv_s=0.7, hsv_v=0.4, degrees=0.0, translate=0.1, scale=0.5, shear=0.0, perspective=0.0, flipud=0.0, fliplr=0.5, bgr=0.0, mosaic=1.0, mixup=0.0, copy_paste=0.0, copy_paste_mode=flip, auto_augment=randaugment, erasing=0.4, crop_fraction=1.0, cfg=None, tracker=botsort.yaml, save_dir=/data/mtmoore/school/CSiML_AI395T/final_project/models/yolo11/iterative/11n_720imgsz_IP8M-H-SW-8epochs\n",
      "Overriding model.yaml nc=80 with nc=1\n",
      "\n",
      "                   from  n    params  module                                       arguments                     \n",
      "  0                  -1  1       464  ultralytics.nn.modules.conv.Conv             [3, 16, 3, 2]                 \n",
      "  1                  -1  1      4672  ultralytics.nn.modules.conv.Conv             [16, 32, 3, 2]                \n",
      "  2                  -1  1      6640  ultralytics.nn.modules.block.C3k2            [32, 64, 1, False, 0.25]      \n",
      "  3                  -1  1     36992  ultralytics.nn.modules.conv.Conv             [64, 64, 3, 2]                \n",
      "  4                  -1  1     26080  ultralytics.nn.modules.block.C3k2            [64, 128, 1, False, 0.25]     \n",
      "  5                  -1  1    147712  ultralytics.nn.modules.conv.Conv             [128, 128, 3, 2]              \n",
      "  6                  -1  1     87040  ultralytics.nn.modules.block.C3k2            [128, 128, 1, True]           \n",
      "  7                  -1  1    295424  ultralytics.nn.modules.conv.Conv             [128, 256, 3, 2]              \n",
      "  8                  -1  1    346112  ultralytics.nn.modules.block.C3k2            [256, 256, 1, True]           \n",
      "  9                  -1  1    164608  ultralytics.nn.modules.block.SPPF            [256, 256, 5]                 \n",
      " 10                  -1  1    249728  ultralytics.nn.modules.block.C2PSA           [256, 256, 1]                 \n",
      " 11                  -1  1         0  torch.nn.modules.upsampling.Upsample         [None, 2, 'nearest']          \n",
      " 12             [-1, 6]  1         0  ultralytics.nn.modules.conv.Concat           [1]                           \n",
      " 13                  -1  1    111296  ultralytics.nn.modules.block.C3k2            [384, 128, 1, False]          \n",
      " 14                  -1  1         0  torch.nn.modules.upsampling.Upsample         [None, 2, 'nearest']          \n",
      " 15             [-1, 4]  1         0  ultralytics.nn.modules.conv.Concat           [1]                           \n",
      " 16                  -1  1     32096  ultralytics.nn.modules.block.C3k2            [256, 64, 1, False]           \n",
      " 17                  -1  1     36992  ultralytics.nn.modules.conv.Conv             [64, 64, 3, 2]                \n",
      " 18            [-1, 13]  1         0  ultralytics.nn.modules.conv.Concat           [1]                           \n",
      " 19                  -1  1     86720  ultralytics.nn.modules.block.C3k2            [192, 128, 1, False]          \n",
      " 20                  -1  1    147712  ultralytics.nn.modules.conv.Conv             [128, 128, 3, 2]              \n",
      " 21            [-1, 10]  1         0  ultralytics.nn.modules.conv.Concat           [1]                           \n",
      " 22                  -1  1    378880  ultralytics.nn.modules.block.C3k2            [384, 256, 1, True]           \n",
      " 23        [16, 19, 22]  1    430867  ultralytics.nn.modules.head.Detect           [1, [64, 128, 256]]           \n",
      "YOLO11n summary: 319 layers, 2,590,035 parameters, 2,590,019 gradients, 6.4 GFLOPs\n",
      "\n",
      "Transferred 448/499 items from pretrained weights\n",
      "Freezing layer 'model.23.dfl.conv.weight'\n",
      "\u001b[34m\u001b[1mAMP: \u001b[0mrunning Automatic Mixed Precision (AMP) checks...\n",
      "\u001b[34m\u001b[1mAMP: \u001b[0mchecks passed ✅\n",
      "WARNING ⚠️ imgsz=[720] must be multiple of max stride 32, updating to [736]\n"
     ]
    },
    {
     "name": "stderr",
     "output_type": "stream",
     "text": [
      "\u001b[34m\u001b[1mtrain: \u001b[0mScanning train/labels.cache... 388 images, 0 backgrounds, 0 corrupt: 100%|██████████| 388/388 [00:00<?, ?it/s]\u001b[0m"
     ]
    },
    {
     "name": "stdout",
     "output_type": "stream",
     "text": [
      "\u001b[34m\u001b[1mtrain: \u001b[0mWARNING ⚠️ train/images/IP8M-H-SW_2024-10-24_deer_00000111.png: 1 duplicate labels removed\n",
      "\u001b[34m\u001b[1mtrain: \u001b[0mWARNING ⚠️ train/images/IP8M-H-SW_2024-10-24_deer_00000112.png: 1 duplicate labels removed\n"
     ]
    },
    {
     "name": "stderr",
     "output_type": "stream",
     "text": [
      "\n",
      "\u001b[34m\u001b[1mval: \u001b[0mScanning val/labels.cache... 98 images, 0 backgrounds, 0 corrupt: 100%|██████████| 98/98 [00:00<?, ?it/s]\u001b[0m\n"
     ]
    },
    {
     "name": "stdout",
     "output_type": "stream",
     "text": [
      "Plotting labels to /data/mtmoore/school/CSiML_AI395T/final_project/models/yolo11/iterative/11n_720imgsz_IP8M-H-SW-8epochs/labels.jpg... \n",
      "\u001b[34m\u001b[1moptimizer:\u001b[0m 'optimizer=auto' found, ignoring 'lr0=0.01' and 'momentum=0.937' and determining best 'optimizer', 'lr0' and 'momentum' automatically... \n",
      "\u001b[34m\u001b[1moptimizer:\u001b[0m AdamW(lr=0.002, momentum=0.9) with parameter groups 81 weight(decay=0.0), 88 weight(decay=0.0005), 87 bias(decay=0.0)\n",
      "Image sizes 736 train, 736 val\n",
      "Using 8 dataloader workers\n",
      "Logging results to \u001b[1m/data/mtmoore/school/CSiML_AI395T/final_project/models/yolo11/iterative/11n_720imgsz_IP8M-H-SW-8epochs\u001b[0m\n",
      "Starting training for 8 epochs...\n",
      "\n",
      "      Epoch    GPU_mem   box_loss   cls_loss   dfl_loss  Instances       Size\n"
     ]
    },
    {
     "name": "stderr",
     "output_type": "stream",
     "text": [
      "        1/8      3.07G       3.21      108.3     0.8292         13        736: 100%|██████████| 25/25 [00:05<00:00,  4.40it/s]\n",
      "                 Class     Images  Instances      Box(P          R      mAP50  mAP50-95): 100%|██████████| 4/4 [00:00<00:00,  8.14it/s]"
     ]
    },
    {
     "name": "stdout",
     "output_type": "stream",
     "text": [
      "                   all         98        205          0          0          0          0\n"
     ]
    },
    {
     "name": "stderr",
     "output_type": "stream",
     "text": [
      "\n"
     ]
    },
    {
     "name": "stdout",
     "output_type": "stream",
     "text": [
      "\n",
      "      Epoch    GPU_mem   box_loss   cls_loss   dfl_loss  Instances       Size\n"
     ]
    },
    {
     "name": "stderr",
     "output_type": "stream",
     "text": [
      "        2/8      2.96G      4.109      24.42     0.9548          7        736: 100%|██████████| 25/25 [00:09<00:00,  2.73it/s]\n",
      "                 Class     Images  Instances      Box(P          R      mAP50  mAP50-95): 100%|██████████| 4/4 [00:00<00:00,  7.69it/s]"
     ]
    },
    {
     "name": "stdout",
     "output_type": "stream",
     "text": [
      "                   all         98        205          0          0          0          0\n"
     ]
    },
    {
     "name": "stderr",
     "output_type": "stream",
     "text": [
      "\n"
     ]
    },
    {
     "name": "stdout",
     "output_type": "stream",
     "text": [
      "\n",
      "      Epoch    GPU_mem   box_loss   cls_loss   dfl_loss  Instances       Size\n"
     ]
    },
    {
     "name": "stderr",
     "output_type": "stream",
     "text": [
      "        3/8      2.97G      4.009      21.04     0.9537          9        736: 100%|██████████| 25/25 [00:08<00:00,  3.12it/s]\n",
      "                 Class     Images  Instances      Box(P          R      mAP50  mAP50-95): 100%|██████████| 4/4 [00:00<00:00,  7.83it/s]"
     ]
    },
    {
     "name": "stdout",
     "output_type": "stream",
     "text": [
      "                   all         98        205          0          0          0          0\n"
     ]
    },
    {
     "name": "stderr",
     "output_type": "stream",
     "text": [
      "\n"
     ]
    },
    {
     "name": "stdout",
     "output_type": "stream",
     "text": [
      "\n",
      "      Epoch    GPU_mem   box_loss   cls_loss   dfl_loss  Instances       Size\n"
     ]
    },
    {
     "name": "stderr",
     "output_type": "stream",
     "text": [
      "        4/8      2.97G      4.059      17.22     0.9234          8        736: 100%|██████████| 25/25 [00:07<00:00,  3.50it/s]\n",
      "                 Class     Images  Instances      Box(P          R      mAP50  mAP50-95): 100%|██████████| 4/4 [00:00<00:00,  7.66it/s]\n"
     ]
    },
    {
     "name": "stdout",
     "output_type": "stream",
     "text": [
      "                   all         98        205   0.000782      0.112    0.00052   0.000114\n",
      "\n",
      "      Epoch    GPU_mem   box_loss   cls_loss   dfl_loss  Instances       Size\n"
     ]
    },
    {
     "name": "stderr",
     "output_type": "stream",
     "text": [
      "        5/8      2.97G      3.573      11.54      0.873         11        736: 100%|██████████| 25/25 [00:07<00:00,  3.32it/s]\n",
      "                 Class     Images  Instances      Box(P          R      mAP50  mAP50-95): 100%|██████████| 4/4 [00:00<00:00,  7.63it/s]\n"
     ]
    },
    {
     "name": "stdout",
     "output_type": "stream",
     "text": [
      "                   all         98        205      0.125     0.0454     0.0207    0.00562\n",
      "\n",
      "      Epoch    GPU_mem   box_loss   cls_loss   dfl_loss  Instances       Size\n"
     ]
    },
    {
     "name": "stderr",
     "output_type": "stream",
     "text": [
      "        6/8      2.97G      3.553      11.48     0.8718         20        736: 100%|██████████| 25/25 [00:07<00:00,  3.49it/s]\n",
      "                 Class     Images  Instances      Box(P          R      mAP50  mAP50-95): 100%|██████████| 4/4 [00:00<00:00,  6.28it/s]"
     ]
    },
    {
     "name": "stdout",
     "output_type": "stream",
     "text": [
      "                   all         98        205      0.696     0.0892      0.133     0.0272\n"
     ]
    },
    {
     "name": "stderr",
     "output_type": "stream",
     "text": [
      "\n"
     ]
    },
    {
     "name": "stdout",
     "output_type": "stream",
     "text": [
      "\n",
      "      Epoch    GPU_mem   box_loss   cls_loss   dfl_loss  Instances       Size\n"
     ]
    },
    {
     "name": "stderr",
     "output_type": "stream",
     "text": [
      "        7/8      2.97G      3.575      10.93     0.8792         15        736: 100%|██████████| 25/25 [00:07<00:00,  3.38it/s]\n",
      "                 Class     Images  Instances      Box(P          R      mAP50  mAP50-95): 100%|██████████| 4/4 [00:00<00:00,  7.26it/s]"
     ]
    },
    {
     "name": "stdout",
     "output_type": "stream",
     "text": [
      "                   all         98        205       0.75     0.0879      0.112     0.0364\n"
     ]
    },
    {
     "name": "stderr",
     "output_type": "stream",
     "text": [
      "\n"
     ]
    },
    {
     "name": "stdout",
     "output_type": "stream",
     "text": [
      "\n",
      "      Epoch    GPU_mem   box_loss   cls_loss   dfl_loss  Instances       Size\n"
     ]
    },
    {
     "name": "stderr",
     "output_type": "stream",
     "text": [
      "        8/8      2.97G      3.269      9.935     0.8529          8        736: 100%|██████████| 25/25 [00:06<00:00,  3.66it/s]\n",
      "                 Class     Images  Instances      Box(P          R      mAP50  mAP50-95): 100%|██████████| 4/4 [00:00<00:00,  7.66it/s]"
     ]
    },
    {
     "name": "stdout",
     "output_type": "stream",
     "text": [
      "                   all         98        205      0.714      0.122      0.143     0.0367\n"
     ]
    },
    {
     "name": "stderr",
     "output_type": "stream",
     "text": [
      "\n"
     ]
    },
    {
     "name": "stdout",
     "output_type": "stream",
     "text": [
      "\n",
      "8 epochs completed in 0.019 hours.\n",
      "Optimizer stripped from /data/mtmoore/school/CSiML_AI395T/final_project/models/yolo11/iterative/11n_720imgsz_IP8M-H-SW-8epochs/weights/last.pt, 5.5MB\n",
      "Optimizer stripped from /data/mtmoore/school/CSiML_AI395T/final_project/models/yolo11/iterative/11n_720imgsz_IP8M-H-SW-8epochs/weights/best.pt, 5.5MB\n",
      "\n",
      "Validating /data/mtmoore/school/CSiML_AI395T/final_project/models/yolo11/iterative/11n_720imgsz_IP8M-H-SW-8epochs/weights/best.pt...\n",
      "Ultralytics 8.3.29 🚀 Python-3.12.7 torch-2.2.2+cu121 CUDA:0 (NVIDIA GeForce RTX 4070 SUPER, 11904MiB)\n",
      "YOLO11n summary (fused): 238 layers, 2,582,347 parameters, 0 gradients, 6.3 GFLOPs\n"
     ]
    },
    {
     "name": "stderr",
     "output_type": "stream",
     "text": [
      "                 Class     Images  Instances      Box(P          R      mAP50  mAP50-95): 100%|██████████| 4/4 [00:00<00:00,  5.94it/s]\n"
     ]
    },
    {
     "name": "stdout",
     "output_type": "stream",
     "text": [
      "                   all         98        205      0.714      0.122      0.144     0.0368\n",
      "Speed: 0.1ms preprocess, 1.3ms inference, 0.0ms loss, 1.5ms postprocess per image\n",
      "Results saved to \u001b[1m/data/mtmoore/school/CSiML_AI395T/final_project/models/yolo11/iterative/11n_720imgsz_IP8M-H-SW-8epochs\u001b[0m\n",
      "New https://pypi.org/project/ultralytics/8.3.31 available 😃 Update with 'pip install -U ultralytics'\n",
      "Ultralytics 8.3.29 🚀 Python-3.12.7 torch-2.2.2+cu121 CUDA:0 (NVIDIA GeForce RTX 4070 SUPER, 11904MiB)\n",
      "\u001b[34m\u001b[1mengine/trainer: \u001b[0mtask=detect, mode=train, model=yolo11n.pt, data=/data/mtmoore/school/CSiML_AI395T/final_project/dataset/yolov8_dataset/data.yaml, epochs=9, time=None, patience=100, batch=16, imgsz=720, save=True, save_period=-1, cache=False, device=None, workers=8, project=/data/mtmoore/school/CSiML_AI395T/final_project/models/yolo11/iterative, name=11n_720imgsz_IP8M-H-SW-9epochs, exist_ok=False, pretrained=True, optimizer=auto, verbose=True, seed=0, deterministic=True, single_cls=False, rect=False, cos_lr=False, close_mosaic=10, resume=False, amp=True, fraction=1.0, profile=False, freeze=None, multi_scale=False, overlap_mask=True, mask_ratio=4, dropout=0.0, val=True, split=val, save_json=False, save_hybrid=False, conf=None, iou=0.7, max_det=300, half=False, dnn=False, plots=True, source=None, vid_stride=1, stream_buffer=False, visualize=False, augment=False, agnostic_nms=False, classes=None, retina_masks=False, embed=None, show=False, save_frames=False, save_txt=False, save_conf=False, save_crop=False, show_labels=True, show_conf=True, show_boxes=True, line_width=None, format=torchscript, keras=False, optimize=False, int8=False, dynamic=False, simplify=True, opset=None, workspace=4, nms=False, lr0=0.01, lrf=0.01, momentum=0.937, weight_decay=0.0005, warmup_epochs=3.0, warmup_momentum=0.8, warmup_bias_lr=0.1, box=7.5, cls=0.5, dfl=1.5, pose=12.0, kobj=1.0, label_smoothing=0.0, nbs=64, hsv_h=0.015, hsv_s=0.7, hsv_v=0.4, degrees=0.0, translate=0.1, scale=0.5, shear=0.0, perspective=0.0, flipud=0.0, fliplr=0.5, bgr=0.0, mosaic=1.0, mixup=0.0, copy_paste=0.0, copy_paste_mode=flip, auto_augment=randaugment, erasing=0.4, crop_fraction=1.0, cfg=None, tracker=botsort.yaml, save_dir=/data/mtmoore/school/CSiML_AI395T/final_project/models/yolo11/iterative/11n_720imgsz_IP8M-H-SW-9epochs\n",
      "Overriding model.yaml nc=80 with nc=1\n",
      "\n",
      "                   from  n    params  module                                       arguments                     \n",
      "  0                  -1  1       464  ultralytics.nn.modules.conv.Conv             [3, 16, 3, 2]                 \n",
      "  1                  -1  1      4672  ultralytics.nn.modules.conv.Conv             [16, 32, 3, 2]                \n",
      "  2                  -1  1      6640  ultralytics.nn.modules.block.C3k2            [32, 64, 1, False, 0.25]      \n",
      "  3                  -1  1     36992  ultralytics.nn.modules.conv.Conv             [64, 64, 3, 2]                \n",
      "  4                  -1  1     26080  ultralytics.nn.modules.block.C3k2            [64, 128, 1, False, 0.25]     \n",
      "  5                  -1  1    147712  ultralytics.nn.modules.conv.Conv             [128, 128, 3, 2]              \n",
      "  6                  -1  1     87040  ultralytics.nn.modules.block.C3k2            [128, 128, 1, True]           \n",
      "  7                  -1  1    295424  ultralytics.nn.modules.conv.Conv             [128, 256, 3, 2]              \n",
      "  8                  -1  1    346112  ultralytics.nn.modules.block.C3k2            [256, 256, 1, True]           \n",
      "  9                  -1  1    164608  ultralytics.nn.modules.block.SPPF            [256, 256, 5]                 \n",
      " 10                  -1  1    249728  ultralytics.nn.modules.block.C2PSA           [256, 256, 1]                 \n",
      " 11                  -1  1         0  torch.nn.modules.upsampling.Upsample         [None, 2, 'nearest']          \n",
      " 12             [-1, 6]  1         0  ultralytics.nn.modules.conv.Concat           [1]                           \n",
      " 13                  -1  1    111296  ultralytics.nn.modules.block.C3k2            [384, 128, 1, False]          \n",
      " 14                  -1  1         0  torch.nn.modules.upsampling.Upsample         [None, 2, 'nearest']          \n",
      " 15             [-1, 4]  1         0  ultralytics.nn.modules.conv.Concat           [1]                           \n",
      " 16                  -1  1     32096  ultralytics.nn.modules.block.C3k2            [256, 64, 1, False]           \n",
      " 17                  -1  1     36992  ultralytics.nn.modules.conv.Conv             [64, 64, 3, 2]                \n",
      " 18            [-1, 13]  1         0  ultralytics.nn.modules.conv.Concat           [1]                           \n",
      " 19                  -1  1     86720  ultralytics.nn.modules.block.C3k2            [192, 128, 1, False]          \n",
      " 20                  -1  1    147712  ultralytics.nn.modules.conv.Conv             [128, 128, 3, 2]              \n",
      " 21            [-1, 10]  1         0  ultralytics.nn.modules.conv.Concat           [1]                           \n",
      " 22                  -1  1    378880  ultralytics.nn.modules.block.C3k2            [384, 256, 1, True]           \n",
      " 23        [16, 19, 22]  1    430867  ultralytics.nn.modules.head.Detect           [1, [64, 128, 256]]           \n",
      "YOLO11n summary: 319 layers, 2,590,035 parameters, 2,590,019 gradients, 6.4 GFLOPs\n",
      "\n",
      "Transferred 448/499 items from pretrained weights\n",
      "Freezing layer 'model.23.dfl.conv.weight'\n",
      "\u001b[34m\u001b[1mAMP: \u001b[0mrunning Automatic Mixed Precision (AMP) checks...\n",
      "\u001b[34m\u001b[1mAMP: \u001b[0mchecks passed ✅\n",
      "WARNING ⚠️ imgsz=[720] must be multiple of max stride 32, updating to [736]\n"
     ]
    },
    {
     "name": "stderr",
     "output_type": "stream",
     "text": [
      "\u001b[34m\u001b[1mtrain: \u001b[0mScanning train/labels.cache... 388 images, 0 backgrounds, 0 corrupt: 100%|██████████| 388/388 [00:00<?, ?it/s]\u001b[0m"
     ]
    },
    {
     "name": "stdout",
     "output_type": "stream",
     "text": [
      "\u001b[34m\u001b[1mtrain: \u001b[0mWARNING ⚠️ train/images/IP8M-H-SW_2024-10-24_deer_00000111.png: 1 duplicate labels removed\n",
      "\u001b[34m\u001b[1mtrain: \u001b[0mWARNING ⚠️ train/images/IP8M-H-SW_2024-10-24_deer_00000112.png: 1 duplicate labels removed\n"
     ]
    },
    {
     "name": "stderr",
     "output_type": "stream",
     "text": [
      "\n",
      "\u001b[34m\u001b[1mval: \u001b[0mScanning val/labels.cache... 98 images, 0 backgrounds, 0 corrupt: 100%|██████████| 98/98 [00:00<?, ?it/s]\u001b[0m\n"
     ]
    },
    {
     "name": "stdout",
     "output_type": "stream",
     "text": [
      "Plotting labels to /data/mtmoore/school/CSiML_AI395T/final_project/models/yolo11/iterative/11n_720imgsz_IP8M-H-SW-9epochs/labels.jpg... \n",
      "\u001b[34m\u001b[1moptimizer:\u001b[0m 'optimizer=auto' found, ignoring 'lr0=0.01' and 'momentum=0.937' and determining best 'optimizer', 'lr0' and 'momentum' automatically... \n",
      "\u001b[34m\u001b[1moptimizer:\u001b[0m AdamW(lr=0.002, momentum=0.9) with parameter groups 81 weight(decay=0.0), 88 weight(decay=0.0005), 87 bias(decay=0.0)\n",
      "Image sizes 736 train, 736 val\n",
      "Using 8 dataloader workers\n",
      "Logging results to \u001b[1m/data/mtmoore/school/CSiML_AI395T/final_project/models/yolo11/iterative/11n_720imgsz_IP8M-H-SW-9epochs\u001b[0m\n",
      "Starting training for 9 epochs...\n",
      "\n",
      "      Epoch    GPU_mem   box_loss   cls_loss   dfl_loss  Instances       Size\n"
     ]
    },
    {
     "name": "stderr",
     "output_type": "stream",
     "text": [
      "        1/9      3.07G       3.21      108.3     0.8292         13        736: 100%|██████████| 25/25 [00:06<00:00,  3.91it/s]\n",
      "                 Class     Images  Instances      Box(P          R      mAP50  mAP50-95): 100%|██████████| 4/4 [00:00<00:00,  4.94it/s]"
     ]
    },
    {
     "name": "stdout",
     "output_type": "stream",
     "text": [
      "                   all         98        205          0          0          0          0\n"
     ]
    },
    {
     "name": "stderr",
     "output_type": "stream",
     "text": [
      "\n"
     ]
    },
    {
     "name": "stdout",
     "output_type": "stream",
     "text": [
      "\n",
      "      Epoch    GPU_mem   box_loss   cls_loss   dfl_loss  Instances       Size\n"
     ]
    },
    {
     "name": "stderr",
     "output_type": "stream",
     "text": [
      "        2/9      2.96G        4.1      24.32     0.9547          7        736: 100%|██████████| 25/25 [00:09<00:00,  2.66it/s]\n",
      "                 Class     Images  Instances      Box(P          R      mAP50  mAP50-95): 100%|██████████| 4/4 [00:00<00:00,  7.96it/s]"
     ]
    },
    {
     "name": "stdout",
     "output_type": "stream",
     "text": [
      "                   all         98        205          0          0          0          0\n"
     ]
    },
    {
     "name": "stderr",
     "output_type": "stream",
     "text": [
      "\n"
     ]
    },
    {
     "name": "stdout",
     "output_type": "stream",
     "text": [
      "\n",
      "      Epoch    GPU_mem   box_loss   cls_loss   dfl_loss  Instances       Size\n"
     ]
    },
    {
     "name": "stderr",
     "output_type": "stream",
     "text": [
      "        3/9      2.97G      4.017      19.92     0.9382          9        736: 100%|██████████| 25/25 [00:08<00:00,  2.88it/s]\n",
      "                 Class     Images  Instances      Box(P          R      mAP50  mAP50-95): 100%|██████████| 4/4 [00:00<00:00,  7.98it/s]"
     ]
    },
    {
     "name": "stdout",
     "output_type": "stream",
     "text": [
      "                   all         98        205   0.000238     0.0341   0.000127   3.21e-05\n"
     ]
    },
    {
     "name": "stderr",
     "output_type": "stream",
     "text": [
      "\n"
     ]
    },
    {
     "name": "stdout",
     "output_type": "stream",
     "text": [
      "\n",
      "      Epoch    GPU_mem   box_loss   cls_loss   dfl_loss  Instances       Size\n"
     ]
    },
    {
     "name": "stderr",
     "output_type": "stream",
     "text": [
      "        4/9      2.97G      3.912      15.97     0.8919          8        736: 100%|██████████| 25/25 [00:05<00:00,  4.20it/s]\n",
      "                 Class     Images  Instances      Box(P          R      mAP50  mAP50-95): 100%|██████████| 4/4 [00:00<00:00,  5.67it/s]"
     ]
    },
    {
     "name": "stdout",
     "output_type": "stream",
     "text": [
      "                   all         98        205   0.000306     0.0439   0.000171   2.98e-05\n"
     ]
    },
    {
     "name": "stderr",
     "output_type": "stream",
     "text": [
      "\n"
     ]
    },
    {
     "name": "stdout",
     "output_type": "stream",
     "text": [
      "\n",
      "      Epoch    GPU_mem   box_loss   cls_loss   dfl_loss  Instances       Size\n"
     ]
    },
    {
     "name": "stderr",
     "output_type": "stream",
     "text": [
      "        5/9      2.97G      3.597      12.23     0.8782         11        736: 100%|██████████| 25/25 [00:07<00:00,  3.27it/s]\n",
      "                 Class     Images  Instances      Box(P          R      mAP50  mAP50-95): 100%|██████████| 4/4 [00:00<00:00,  8.19it/s]"
     ]
    },
    {
     "name": "stdout",
     "output_type": "stream",
     "text": [
      "                   all         98        205   0.000306     0.0439   0.000171   2.98e-05\n"
     ]
    },
    {
     "name": "stderr",
     "output_type": "stream",
     "text": [
      "\n"
     ]
    },
    {
     "name": "stdout",
     "output_type": "stream",
     "text": [
      "\n",
      "      Epoch    GPU_mem   box_loss   cls_loss   dfl_loss  Instances       Size\n"
     ]
    },
    {
     "name": "stderr",
     "output_type": "stream",
     "text": [
      "        6/9      2.97G      3.693      11.98      0.881         20        736: 100%|██████████| 25/25 [00:07<00:00,  3.48it/s]\n",
      "                 Class     Images  Instances      Box(P          R      mAP50  mAP50-95): 100%|██████████| 4/4 [00:00<00:00,  7.97it/s]"
     ]
    },
    {
     "name": "stdout",
     "output_type": "stream",
     "text": [
      "                   all         98        205   0.000306     0.0439   0.000171   2.98e-05\n"
     ]
    },
    {
     "name": "stderr",
     "output_type": "stream",
     "text": [
      "\n"
     ]
    },
    {
     "name": "stdout",
     "output_type": "stream",
     "text": [
      "\n",
      "      Epoch    GPU_mem   box_loss   cls_loss   dfl_loss  Instances       Size\n"
     ]
    },
    {
     "name": "stderr",
     "output_type": "stream",
     "text": [
      "        7/9      2.97G      3.589      11.08     0.8823         15        736: 100%|██████████| 25/25 [00:07<00:00,  3.49it/s]\n",
      "                 Class     Images  Instances      Box(P          R      mAP50  mAP50-95): 100%|██████████| 4/4 [00:00<00:00,  7.55it/s]"
     ]
    },
    {
     "name": "stdout",
     "output_type": "stream",
     "text": [
      "                   all         98        205      0.735      0.121      0.116      0.034\n"
     ]
    },
    {
     "name": "stderr",
     "output_type": "stream",
     "text": [
      "\n"
     ]
    },
    {
     "name": "stdout",
     "output_type": "stream",
     "text": [
      "\n",
      "      Epoch    GPU_mem   box_loss   cls_loss   dfl_loss  Instances       Size\n"
     ]
    },
    {
     "name": "stderr",
     "output_type": "stream",
     "text": [
      "        8/9      2.97G      3.293      9.901     0.8563          8        736: 100%|██████████| 25/25 [00:07<00:00,  3.45it/s]\n",
      "                 Class     Images  Instances      Box(P          R      mAP50  mAP50-95): 100%|██████████| 4/4 [00:00<00:00,  7.46it/s]"
     ]
    },
    {
     "name": "stdout",
     "output_type": "stream",
     "text": [
      "                   all         98        205      0.939      0.149      0.186     0.0523\n"
     ]
    },
    {
     "name": "stderr",
     "output_type": "stream",
     "text": [
      "\n"
     ]
    },
    {
     "name": "stdout",
     "output_type": "stream",
     "text": [
      "\n",
      "      Epoch    GPU_mem   box_loss   cls_loss   dfl_loss  Instances       Size\n"
     ]
    },
    {
     "name": "stderr",
     "output_type": "stream",
     "text": [
      "        9/9      2.96G      3.424      8.992     0.8705         16        736: 100%|██████████| 25/25 [00:06<00:00,  3.70it/s]\n",
      "                 Class     Images  Instances      Box(P          R      mAP50  mAP50-95): 100%|██████████| 4/4 [00:00<00:00,  7.69it/s]"
     ]
    },
    {
     "name": "stdout",
     "output_type": "stream",
     "text": [
      "                   all         98        205      0.853      0.141      0.154     0.0382\n"
     ]
    },
    {
     "name": "stderr",
     "output_type": "stream",
     "text": [
      "\n"
     ]
    },
    {
     "name": "stdout",
     "output_type": "stream",
     "text": [
      "\n",
      "9 epochs completed in 0.022 hours.\n",
      "Optimizer stripped from /data/mtmoore/school/CSiML_AI395T/final_project/models/yolo11/iterative/11n_720imgsz_IP8M-H-SW-9epochs/weights/last.pt, 5.5MB\n",
      "Optimizer stripped from /data/mtmoore/school/CSiML_AI395T/final_project/models/yolo11/iterative/11n_720imgsz_IP8M-H-SW-9epochs/weights/best.pt, 5.5MB\n",
      "\n",
      "Validating /data/mtmoore/school/CSiML_AI395T/final_project/models/yolo11/iterative/11n_720imgsz_IP8M-H-SW-9epochs/weights/best.pt...\n",
      "Ultralytics 8.3.29 🚀 Python-3.12.7 torch-2.2.2+cu121 CUDA:0 (NVIDIA GeForce RTX 4070 SUPER, 11904MiB)\n",
      "YOLO11n summary (fused): 238 layers, 2,582,347 parameters, 0 gradients, 6.3 GFLOPs\n"
     ]
    },
    {
     "name": "stderr",
     "output_type": "stream",
     "text": [
      "                 Class     Images  Instances      Box(P          R      mAP50  mAP50-95): 100%|██████████| 4/4 [00:00<00:00,  6.27it/s]\n"
     ]
    },
    {
     "name": "stdout",
     "output_type": "stream",
     "text": [
      "                   all         98        205      0.939      0.149      0.186     0.0522\n",
      "Speed: 0.1ms preprocess, 0.8ms inference, 0.0ms loss, 1.5ms postprocess per image\n",
      "Results saved to \u001b[1m/data/mtmoore/school/CSiML_AI395T/final_project/models/yolo11/iterative/11n_720imgsz_IP8M-H-SW-9epochs\u001b[0m\n",
      "New https://pypi.org/project/ultralytics/8.3.31 available 😃 Update with 'pip install -U ultralytics'\n",
      "Ultralytics 8.3.29 🚀 Python-3.12.7 torch-2.2.2+cu121 CUDA:0 (NVIDIA GeForce RTX 4070 SUPER, 11904MiB)\n",
      "\u001b[34m\u001b[1mengine/trainer: \u001b[0mtask=detect, mode=train, model=yolo11n.pt, data=/data/mtmoore/school/CSiML_AI395T/final_project/dataset/yolov8_dataset/data.yaml, epochs=10, time=None, patience=100, batch=16, imgsz=720, save=True, save_period=-1, cache=False, device=None, workers=8, project=/data/mtmoore/school/CSiML_AI395T/final_project/models/yolo11/iterative, name=11n_720imgsz_IP8M-H-SW-10epochs, exist_ok=False, pretrained=True, optimizer=auto, verbose=True, seed=0, deterministic=True, single_cls=False, rect=False, cos_lr=False, close_mosaic=10, resume=False, amp=True, fraction=1.0, profile=False, freeze=None, multi_scale=False, overlap_mask=True, mask_ratio=4, dropout=0.0, val=True, split=val, save_json=False, save_hybrid=False, conf=None, iou=0.7, max_det=300, half=False, dnn=False, plots=True, source=None, vid_stride=1, stream_buffer=False, visualize=False, augment=False, agnostic_nms=False, classes=None, retina_masks=False, embed=None, show=False, save_frames=False, save_txt=False, save_conf=False, save_crop=False, show_labels=True, show_conf=True, show_boxes=True, line_width=None, format=torchscript, keras=False, optimize=False, int8=False, dynamic=False, simplify=True, opset=None, workspace=4, nms=False, lr0=0.01, lrf=0.01, momentum=0.937, weight_decay=0.0005, warmup_epochs=3.0, warmup_momentum=0.8, warmup_bias_lr=0.1, box=7.5, cls=0.5, dfl=1.5, pose=12.0, kobj=1.0, label_smoothing=0.0, nbs=64, hsv_h=0.015, hsv_s=0.7, hsv_v=0.4, degrees=0.0, translate=0.1, scale=0.5, shear=0.0, perspective=0.0, flipud=0.0, fliplr=0.5, bgr=0.0, mosaic=1.0, mixup=0.0, copy_paste=0.0, copy_paste_mode=flip, auto_augment=randaugment, erasing=0.4, crop_fraction=1.0, cfg=None, tracker=botsort.yaml, save_dir=/data/mtmoore/school/CSiML_AI395T/final_project/models/yolo11/iterative/11n_720imgsz_IP8M-H-SW-10epochs\n",
      "Overriding model.yaml nc=80 with nc=1\n",
      "\n",
      "                   from  n    params  module                                       arguments                     \n",
      "  0                  -1  1       464  ultralytics.nn.modules.conv.Conv             [3, 16, 3, 2]                 \n",
      "  1                  -1  1      4672  ultralytics.nn.modules.conv.Conv             [16, 32, 3, 2]                \n",
      "  2                  -1  1      6640  ultralytics.nn.modules.block.C3k2            [32, 64, 1, False, 0.25]      \n",
      "  3                  -1  1     36992  ultralytics.nn.modules.conv.Conv             [64, 64, 3, 2]                \n",
      "  4                  -1  1     26080  ultralytics.nn.modules.block.C3k2            [64, 128, 1, False, 0.25]     \n",
      "  5                  -1  1    147712  ultralytics.nn.modules.conv.Conv             [128, 128, 3, 2]              \n",
      "  6                  -1  1     87040  ultralytics.nn.modules.block.C3k2            [128, 128, 1, True]           \n",
      "  7                  -1  1    295424  ultralytics.nn.modules.conv.Conv             [128, 256, 3, 2]              \n",
      "  8                  -1  1    346112  ultralytics.nn.modules.block.C3k2            [256, 256, 1, True]           \n",
      "  9                  -1  1    164608  ultralytics.nn.modules.block.SPPF            [256, 256, 5]                 \n",
      " 10                  -1  1    249728  ultralytics.nn.modules.block.C2PSA           [256, 256, 1]                 \n",
      " 11                  -1  1         0  torch.nn.modules.upsampling.Upsample         [None, 2, 'nearest']          \n",
      " 12             [-1, 6]  1         0  ultralytics.nn.modules.conv.Concat           [1]                           \n",
      " 13                  -1  1    111296  ultralytics.nn.modules.block.C3k2            [384, 128, 1, False]          \n",
      " 14                  -1  1         0  torch.nn.modules.upsampling.Upsample         [None, 2, 'nearest']          \n",
      " 15             [-1, 4]  1         0  ultralytics.nn.modules.conv.Concat           [1]                           \n",
      " 16                  -1  1     32096  ultralytics.nn.modules.block.C3k2            [256, 64, 1, False]           \n",
      " 17                  -1  1     36992  ultralytics.nn.modules.conv.Conv             [64, 64, 3, 2]                \n",
      " 18            [-1, 13]  1         0  ultralytics.nn.modules.conv.Concat           [1]                           \n",
      " 19                  -1  1     86720  ultralytics.nn.modules.block.C3k2            [192, 128, 1, False]          \n",
      " 20                  -1  1    147712  ultralytics.nn.modules.conv.Conv             [128, 128, 3, 2]              \n",
      " 21            [-1, 10]  1         0  ultralytics.nn.modules.conv.Concat           [1]                           \n",
      " 22                  -1  1    378880  ultralytics.nn.modules.block.C3k2            [384, 256, 1, True]           \n",
      " 23        [16, 19, 22]  1    430867  ultralytics.nn.modules.head.Detect           [1, [64, 128, 256]]           \n",
      "YOLO11n summary: 319 layers, 2,590,035 parameters, 2,590,019 gradients, 6.4 GFLOPs\n",
      "\n",
      "Transferred 448/499 items from pretrained weights\n",
      "Freezing layer 'model.23.dfl.conv.weight'\n",
      "\u001b[34m\u001b[1mAMP: \u001b[0mrunning Automatic Mixed Precision (AMP) checks...\n",
      "\u001b[34m\u001b[1mAMP: \u001b[0mchecks passed ✅\n",
      "WARNING ⚠️ imgsz=[720] must be multiple of max stride 32, updating to [736]\n"
     ]
    },
    {
     "name": "stderr",
     "output_type": "stream",
     "text": [
      "\u001b[34m\u001b[1mtrain: \u001b[0mScanning train/labels.cache... 388 images, 0 backgrounds, 0 corrupt: 100%|██████████| 388/388 [00:00<?, ?it/s]\u001b[0m"
     ]
    },
    {
     "name": "stdout",
     "output_type": "stream",
     "text": [
      "\u001b[34m\u001b[1mtrain: \u001b[0mWARNING ⚠️ train/images/IP8M-H-SW_2024-10-24_deer_00000111.png: 1 duplicate labels removed\n",
      "\u001b[34m\u001b[1mtrain: \u001b[0mWARNING ⚠️ train/images/IP8M-H-SW_2024-10-24_deer_00000112.png: 1 duplicate labels removed\n"
     ]
    },
    {
     "name": "stderr",
     "output_type": "stream",
     "text": [
      "\n",
      "\u001b[34m\u001b[1mval: \u001b[0mScanning val/labels.cache... 98 images, 0 backgrounds, 0 corrupt: 100%|██████████| 98/98 [00:00<?, ?it/s]\u001b[0m\n"
     ]
    },
    {
     "name": "stdout",
     "output_type": "stream",
     "text": [
      "Plotting labels to /data/mtmoore/school/CSiML_AI395T/final_project/models/yolo11/iterative/11n_720imgsz_IP8M-H-SW-10epochs/labels.jpg... \n",
      "\u001b[34m\u001b[1moptimizer:\u001b[0m 'optimizer=auto' found, ignoring 'lr0=0.01' and 'momentum=0.937' and determining best 'optimizer', 'lr0' and 'momentum' automatically... \n",
      "\u001b[34m\u001b[1moptimizer:\u001b[0m AdamW(lr=0.002, momentum=0.9) with parameter groups 81 weight(decay=0.0), 88 weight(decay=0.0005), 87 bias(decay=0.0)\n",
      "Image sizes 736 train, 736 val\n",
      "Using 8 dataloader workers\n",
      "Logging results to \u001b[1m/data/mtmoore/school/CSiML_AI395T/final_project/models/yolo11/iterative/11n_720imgsz_IP8M-H-SW-10epochs\u001b[0m\n",
      "Starting training for 10 epochs...\n",
      "Closing dataloader mosaic\n",
      "\n",
      "      Epoch    GPU_mem   box_loss   cls_loss   dfl_loss  Instances       Size\n"
     ]
    },
    {
     "name": "stderr",
     "output_type": "stream",
     "text": [
      "       1/10      2.97G       3.82      107.8     0.9736          7        736: 100%|██████████| 25/25 [00:13<00:00,  1.90it/s]\n",
      "                 Class     Images  Instances      Box(P          R      mAP50  mAP50-95): 100%|██████████| 4/4 [00:00<00:00,  8.07it/s]"
     ]
    },
    {
     "name": "stdout",
     "output_type": "stream",
     "text": [
      "                   all         98        205          0          0          0          0\n"
     ]
    },
    {
     "name": "stderr",
     "output_type": "stream",
     "text": [
      "\n"
     ]
    },
    {
     "name": "stdout",
     "output_type": "stream",
     "text": [
      "\n",
      "      Epoch    GPU_mem   box_loss   cls_loss   dfl_loss  Instances       Size\n"
     ]
    },
    {
     "name": "stderr",
     "output_type": "stream",
     "text": [
      "       2/10      2.96G       4.09      31.27     0.9956          6        736: 100%|██████████| 25/25 [00:08<00:00,  2.89it/s]\n",
      "                 Class     Images  Instances      Box(P          R      mAP50  mAP50-95): 100%|██████████| 4/4 [00:00<00:00,  7.56it/s]"
     ]
    },
    {
     "name": "stdout",
     "output_type": "stream",
     "text": [
      "                   all         98        205          0          0          0          0\n"
     ]
    },
    {
     "name": "stderr",
     "output_type": "stream",
     "text": [
      "\n"
     ]
    },
    {
     "name": "stdout",
     "output_type": "stream",
     "text": [
      "\n",
      "      Epoch    GPU_mem   box_loss   cls_loss   dfl_loss  Instances       Size\n"
     ]
    },
    {
     "name": "stderr",
     "output_type": "stream",
     "text": [
      "       3/10      2.97G      4.037      22.81     0.9657         12        736: 100%|██████████| 25/25 [00:07<00:00,  3.51it/s]\n",
      "                 Class     Images  Instances      Box(P          R      mAP50  mAP50-95): 100%|██████████| 4/4 [00:00<00:00,  7.43it/s]"
     ]
    },
    {
     "name": "stdout",
     "output_type": "stream",
     "text": [
      "                   all         98        205   0.000102     0.0146   5.18e-05   6.89e-06\n"
     ]
    },
    {
     "name": "stderr",
     "output_type": "stream",
     "text": [
      "\n"
     ]
    },
    {
     "name": "stdout",
     "output_type": "stream",
     "text": [
      "\n",
      "      Epoch    GPU_mem   box_loss   cls_loss   dfl_loss  Instances       Size\n"
     ]
    },
    {
     "name": "stderr",
     "output_type": "stream",
     "text": [
      "       4/10      2.97G        3.9       18.7     0.9376          8        736: 100%|██████████| 25/25 [00:07<00:00,  3.55it/s]\n",
      "                 Class     Images  Instances      Box(P          R      mAP50  mAP50-95): 100%|██████████| 4/4 [00:00<00:00,  7.57it/s]"
     ]
    },
    {
     "name": "stdout",
     "output_type": "stream",
     "text": [
      "                   all         98        205   0.000578     0.0829   0.000677   0.000144\n"
     ]
    },
    {
     "name": "stderr",
     "output_type": "stream",
     "text": [
      "\n"
     ]
    },
    {
     "name": "stdout",
     "output_type": "stream",
     "text": [
      "\n",
      "      Epoch    GPU_mem   box_loss   cls_loss   dfl_loss  Instances       Size\n"
     ]
    },
    {
     "name": "stderr",
     "output_type": "stream",
     "text": [
      "       5/10      2.96G      3.909      16.69     0.9145         11        736: 100%|██████████| 25/25 [00:06<00:00,  3.78it/s]\n",
      "                 Class     Images  Instances      Box(P          R      mAP50  mAP50-95): 100%|██████████| 4/4 [00:00<00:00,  7.48it/s]"
     ]
    },
    {
     "name": "stdout",
     "output_type": "stream",
     "text": [
      "                   all         98        205    0.00122      0.176     0.0999     0.0221\n"
     ]
    },
    {
     "name": "stderr",
     "output_type": "stream",
     "text": [
      "\n"
     ]
    },
    {
     "name": "stdout",
     "output_type": "stream",
     "text": [
      "\n",
      "      Epoch    GPU_mem   box_loss   cls_loss   dfl_loss  Instances       Size\n"
     ]
    },
    {
     "name": "stderr",
     "output_type": "stream",
     "text": [
      "       6/10      2.97G      3.702      15.38     0.9175          7        736: 100%|██████████| 25/25 [00:07<00:00,  3.51it/s]\n",
      "                 Class     Images  Instances      Box(P          R      mAP50  mAP50-95): 100%|██████████| 4/4 [00:00<00:00,  7.53it/s]"
     ]
    },
    {
     "name": "stdout",
     "output_type": "stream",
     "text": [
      "                   all         98        205      0.745      0.078      0.104     0.0319\n"
     ]
    },
    {
     "name": "stderr",
     "output_type": "stream",
     "text": [
      "\n"
     ]
    },
    {
     "name": "stdout",
     "output_type": "stream",
     "text": [
      "\n",
      "      Epoch    GPU_mem   box_loss   cls_loss   dfl_loss  Instances       Size\n"
     ]
    },
    {
     "name": "stderr",
     "output_type": "stream",
     "text": [
      "       7/10      2.97G      3.468      11.35     0.8939          5        736: 100%|██████████| 25/25 [00:07<00:00,  3.44it/s]\n",
      "                 Class     Images  Instances      Box(P          R      mAP50  mAP50-95): 100%|██████████| 4/4 [00:00<00:00,  7.24it/s]"
     ]
    },
    {
     "name": "stdout",
     "output_type": "stream",
     "text": [
      "                   all         98        205      0.662      0.151      0.129     0.0278\n"
     ]
    },
    {
     "name": "stderr",
     "output_type": "stream",
     "text": [
      "\n"
     ]
    },
    {
     "name": "stdout",
     "output_type": "stream",
     "text": [
      "\n",
      "      Epoch    GPU_mem   box_loss   cls_loss   dfl_loss  Instances       Size\n"
     ]
    },
    {
     "name": "stderr",
     "output_type": "stream",
     "text": [
      "       8/10      2.97G      3.625      11.31     0.8957          9        736: 100%|██████████| 25/25 [00:06<00:00,  3.93it/s]\n",
      "                 Class     Images  Instances      Box(P          R      mAP50  mAP50-95): 100%|██████████| 4/4 [00:00<00:00,  8.07it/s]\n"
     ]
    },
    {
     "name": "stdout",
     "output_type": "stream",
     "text": [
      "                   all         98        205      0.802      0.178      0.174     0.0519\n",
      "\n",
      "      Epoch    GPU_mem   box_loss   cls_loss   dfl_loss  Instances       Size\n"
     ]
    },
    {
     "name": "stderr",
     "output_type": "stream",
     "text": [
      "       9/10      2.96G      3.555      10.19     0.9045          7        736: 100%|██████████| 25/25 [00:07<00:00,  3.21it/s]\n",
      "                 Class     Images  Instances      Box(P          R      mAP50  mAP50-95): 100%|██████████| 4/4 [00:00<00:00,  7.56it/s]"
     ]
    },
    {
     "name": "stdout",
     "output_type": "stream",
     "text": [
      "                   all         98        205      0.817      0.175      0.173     0.0403\n"
     ]
    },
    {
     "name": "stderr",
     "output_type": "stream",
     "text": [
      "\n"
     ]
    },
    {
     "name": "stdout",
     "output_type": "stream",
     "text": [
      "\n",
      "      Epoch    GPU_mem   box_loss   cls_loss   dfl_loss  Instances       Size\n"
     ]
    },
    {
     "name": "stderr",
     "output_type": "stream",
     "text": [
      "      10/10      2.97G      3.328      9.633     0.8962          4        736: 100%|██████████| 25/25 [00:06<00:00,  4.06it/s]\n",
      "                 Class     Images  Instances      Box(P          R      mAP50  mAP50-95): 100%|██████████| 4/4 [00:00<00:00,  7.49it/s]"
     ]
    },
    {
     "name": "stdout",
     "output_type": "stream",
     "text": [
      "                   all         98        205      0.869      0.194      0.194     0.0648\n"
     ]
    },
    {
     "name": "stderr",
     "output_type": "stream",
     "text": [
      "\n"
     ]
    },
    {
     "name": "stdout",
     "output_type": "stream",
     "text": [
      "\n",
      "10 epochs completed in 0.025 hours.\n",
      "Optimizer stripped from /data/mtmoore/school/CSiML_AI395T/final_project/models/yolo11/iterative/11n_720imgsz_IP8M-H-SW-10epochs/weights/last.pt, 5.5MB\n",
      "Optimizer stripped from /data/mtmoore/school/CSiML_AI395T/final_project/models/yolo11/iterative/11n_720imgsz_IP8M-H-SW-10epochs/weights/best.pt, 5.5MB\n",
      "\n",
      "Validating /data/mtmoore/school/CSiML_AI395T/final_project/models/yolo11/iterative/11n_720imgsz_IP8M-H-SW-10epochs/weights/best.pt...\n",
      "Ultralytics 8.3.29 🚀 Python-3.12.7 torch-2.2.2+cu121 CUDA:0 (NVIDIA GeForce RTX 4070 SUPER, 11904MiB)\n",
      "YOLO11n summary (fused): 238 layers, 2,582,347 parameters, 0 gradients, 6.3 GFLOPs\n"
     ]
    },
    {
     "name": "stderr",
     "output_type": "stream",
     "text": [
      "                 Class     Images  Instances      Box(P          R      mAP50  mAP50-95): 100%|██████████| 4/4 [00:00<00:00,  6.36it/s]\n"
     ]
    },
    {
     "name": "stdout",
     "output_type": "stream",
     "text": [
      "                   all         98        205      0.869      0.194      0.193     0.0644\n",
      "Speed: 0.1ms preprocess, 0.7ms inference, 0.0ms loss, 1.5ms postprocess per image\n",
      "Results saved to \u001b[1m/data/mtmoore/school/CSiML_AI395T/final_project/models/yolo11/iterative/11n_720imgsz_IP8M-H-SW-10epochs\u001b[0m\n",
      "New https://pypi.org/project/ultralytics/8.3.31 available 😃 Update with 'pip install -U ultralytics'\n",
      "Ultralytics 8.3.29 🚀 Python-3.12.7 torch-2.2.2+cu121 CUDA:0 (NVIDIA GeForce RTX 4070 SUPER, 11904MiB)\n",
      "\u001b[34m\u001b[1mengine/trainer: \u001b[0mtask=detect, mode=train, model=yolo11n.pt, data=/data/mtmoore/school/CSiML_AI395T/final_project/dataset/yolov8_dataset/data.yaml, epochs=11, time=None, patience=100, batch=16, imgsz=720, save=True, save_period=-1, cache=False, device=None, workers=8, project=/data/mtmoore/school/CSiML_AI395T/final_project/models/yolo11/iterative, name=11n_720imgsz_IP8M-H-SW-11epochs, exist_ok=False, pretrained=True, optimizer=auto, verbose=True, seed=0, deterministic=True, single_cls=False, rect=False, cos_lr=False, close_mosaic=10, resume=False, amp=True, fraction=1.0, profile=False, freeze=None, multi_scale=False, overlap_mask=True, mask_ratio=4, dropout=0.0, val=True, split=val, save_json=False, save_hybrid=False, conf=None, iou=0.7, max_det=300, half=False, dnn=False, plots=True, source=None, vid_stride=1, stream_buffer=False, visualize=False, augment=False, agnostic_nms=False, classes=None, retina_masks=False, embed=None, show=False, save_frames=False, save_txt=False, save_conf=False, save_crop=False, show_labels=True, show_conf=True, show_boxes=True, line_width=None, format=torchscript, keras=False, optimize=False, int8=False, dynamic=False, simplify=True, opset=None, workspace=4, nms=False, lr0=0.01, lrf=0.01, momentum=0.937, weight_decay=0.0005, warmup_epochs=3.0, warmup_momentum=0.8, warmup_bias_lr=0.1, box=7.5, cls=0.5, dfl=1.5, pose=12.0, kobj=1.0, label_smoothing=0.0, nbs=64, hsv_h=0.015, hsv_s=0.7, hsv_v=0.4, degrees=0.0, translate=0.1, scale=0.5, shear=0.0, perspective=0.0, flipud=0.0, fliplr=0.5, bgr=0.0, mosaic=1.0, mixup=0.0, copy_paste=0.0, copy_paste_mode=flip, auto_augment=randaugment, erasing=0.4, crop_fraction=1.0, cfg=None, tracker=botsort.yaml, save_dir=/data/mtmoore/school/CSiML_AI395T/final_project/models/yolo11/iterative/11n_720imgsz_IP8M-H-SW-11epochs\n",
      "Overriding model.yaml nc=80 with nc=1\n",
      "\n",
      "                   from  n    params  module                                       arguments                     \n",
      "  0                  -1  1       464  ultralytics.nn.modules.conv.Conv             [3, 16, 3, 2]                 \n",
      "  1                  -1  1      4672  ultralytics.nn.modules.conv.Conv             [16, 32, 3, 2]                \n",
      "  2                  -1  1      6640  ultralytics.nn.modules.block.C3k2            [32, 64, 1, False, 0.25]      \n",
      "  3                  -1  1     36992  ultralytics.nn.modules.conv.Conv             [64, 64, 3, 2]                \n",
      "  4                  -1  1     26080  ultralytics.nn.modules.block.C3k2            [64, 128, 1, False, 0.25]     \n",
      "  5                  -1  1    147712  ultralytics.nn.modules.conv.Conv             [128, 128, 3, 2]              \n",
      "  6                  -1  1     87040  ultralytics.nn.modules.block.C3k2            [128, 128, 1, True]           \n",
      "  7                  -1  1    295424  ultralytics.nn.modules.conv.Conv             [128, 256, 3, 2]              \n",
      "  8                  -1  1    346112  ultralytics.nn.modules.block.C3k2            [256, 256, 1, True]           \n",
      "  9                  -1  1    164608  ultralytics.nn.modules.block.SPPF            [256, 256, 5]                 \n",
      " 10                  -1  1    249728  ultralytics.nn.modules.block.C2PSA           [256, 256, 1]                 \n",
      " 11                  -1  1         0  torch.nn.modules.upsampling.Upsample         [None, 2, 'nearest']          \n",
      " 12             [-1, 6]  1         0  ultralytics.nn.modules.conv.Concat           [1]                           \n",
      " 13                  -1  1    111296  ultralytics.nn.modules.block.C3k2            [384, 128, 1, False]          \n",
      " 14                  -1  1         0  torch.nn.modules.upsampling.Upsample         [None, 2, 'nearest']          \n",
      " 15             [-1, 4]  1         0  ultralytics.nn.modules.conv.Concat           [1]                           \n",
      " 16                  -1  1     32096  ultralytics.nn.modules.block.C3k2            [256, 64, 1, False]           \n",
      " 17                  -1  1     36992  ultralytics.nn.modules.conv.Conv             [64, 64, 3, 2]                \n",
      " 18            [-1, 13]  1         0  ultralytics.nn.modules.conv.Concat           [1]                           \n",
      " 19                  -1  1     86720  ultralytics.nn.modules.block.C3k2            [192, 128, 1, False]          \n",
      " 20                  -1  1    147712  ultralytics.nn.modules.conv.Conv             [128, 128, 3, 2]              \n",
      " 21            [-1, 10]  1         0  ultralytics.nn.modules.conv.Concat           [1]                           \n",
      " 22                  -1  1    378880  ultralytics.nn.modules.block.C3k2            [384, 256, 1, True]           \n",
      " 23        [16, 19, 22]  1    430867  ultralytics.nn.modules.head.Detect           [1, [64, 128, 256]]           \n",
      "YOLO11n summary: 319 layers, 2,590,035 parameters, 2,590,019 gradients, 6.4 GFLOPs\n",
      "\n",
      "Transferred 448/499 items from pretrained weights\n",
      "Freezing layer 'model.23.dfl.conv.weight'\n",
      "\u001b[34m\u001b[1mAMP: \u001b[0mrunning Automatic Mixed Precision (AMP) checks...\n",
      "\u001b[34m\u001b[1mAMP: \u001b[0mchecks passed ✅\n",
      "WARNING ⚠️ imgsz=[720] must be multiple of max stride 32, updating to [736]\n"
     ]
    },
    {
     "name": "stderr",
     "output_type": "stream",
     "text": [
      "\u001b[34m\u001b[1mtrain: \u001b[0mScanning train/labels.cache... 388 images, 0 backgrounds, 0 corrupt: 100%|██████████| 388/388 [00:00<?, ?it/s]\u001b[0m"
     ]
    },
    {
     "name": "stdout",
     "output_type": "stream",
     "text": [
      "\u001b[34m\u001b[1mtrain: \u001b[0mWARNING ⚠️ train/images/IP8M-H-SW_2024-10-24_deer_00000111.png: 1 duplicate labels removed\n",
      "\u001b[34m\u001b[1mtrain: \u001b[0mWARNING ⚠️ train/images/IP8M-H-SW_2024-10-24_deer_00000112.png: 1 duplicate labels removed\n"
     ]
    },
    {
     "name": "stderr",
     "output_type": "stream",
     "text": [
      "\n",
      "\u001b[34m\u001b[1mval: \u001b[0mScanning val/labels.cache... 98 images, 0 backgrounds, 0 corrupt: 100%|██████████| 98/98 [00:00<?, ?it/s]\u001b[0m\n"
     ]
    },
    {
     "name": "stdout",
     "output_type": "stream",
     "text": [
      "Plotting labels to /data/mtmoore/school/CSiML_AI395T/final_project/models/yolo11/iterative/11n_720imgsz_IP8M-H-SW-11epochs/labels.jpg... \n",
      "\u001b[34m\u001b[1moptimizer:\u001b[0m 'optimizer=auto' found, ignoring 'lr0=0.01' and 'momentum=0.937' and determining best 'optimizer', 'lr0' and 'momentum' automatically... \n",
      "\u001b[34m\u001b[1moptimizer:\u001b[0m AdamW(lr=0.002, momentum=0.9) with parameter groups 81 weight(decay=0.0), 88 weight(decay=0.0005), 87 bias(decay=0.0)\n",
      "Image sizes 736 train, 736 val\n",
      "Using 8 dataloader workers\n",
      "Logging results to \u001b[1m/data/mtmoore/school/CSiML_AI395T/final_project/models/yolo11/iterative/11n_720imgsz_IP8M-H-SW-11epochs\u001b[0m\n",
      "Starting training for 11 epochs...\n",
      "\n",
      "      Epoch    GPU_mem   box_loss   cls_loss   dfl_loss  Instances       Size\n"
     ]
    },
    {
     "name": "stderr",
     "output_type": "stream",
     "text": [
      "       1/11      3.07G       3.21      108.3     0.8292         13        736: 100%|██████████| 25/25 [00:06<00:00,  3.90it/s]\n",
      "                 Class     Images  Instances      Box(P          R      mAP50  mAP50-95): 100%|██████████| 4/4 [00:00<00:00,  7.73it/s]"
     ]
    },
    {
     "name": "stdout",
     "output_type": "stream",
     "text": [
      "                   all         98        205          0          0          0          0\n"
     ]
    },
    {
     "name": "stderr",
     "output_type": "stream",
     "text": [
      "\n"
     ]
    },
    {
     "name": "stdout",
     "output_type": "stream",
     "text": [
      "Closing dataloader mosaic\n",
      "\n",
      "      Epoch    GPU_mem   box_loss   cls_loss   dfl_loss  Instances       Size\n"
     ]
    },
    {
     "name": "stderr",
     "output_type": "stream",
     "text": [
      "       2/11      3.07G      4.128      32.74     0.9887          6        736: 100%|██████████| 25/25 [00:10<00:00,  2.45it/s]\n",
      "                 Class     Images  Instances      Box(P          R      mAP50  mAP50-95): 100%|██████████| 4/4 [00:00<00:00,  7.64it/s]"
     ]
    },
    {
     "name": "stdout",
     "output_type": "stream",
     "text": [
      "                   all         98        205          0          0          0          0\n"
     ]
    },
    {
     "name": "stderr",
     "output_type": "stream",
     "text": [
      "\n"
     ]
    },
    {
     "name": "stdout",
     "output_type": "stream",
     "text": [
      "\n",
      "      Epoch    GPU_mem   box_loss   cls_loss   dfl_loss  Instances       Size\n"
     ]
    },
    {
     "name": "stderr",
     "output_type": "stream",
     "text": [
      "       3/11      2.97G      3.824      27.22     0.9759         12        736: 100%|██████████| 25/25 [00:08<00:00,  2.96it/s]\n",
      "                 Class     Images  Instances      Box(P          R      mAP50  mAP50-95): 100%|██████████| 4/4 [00:00<00:00,  8.68it/s]"
     ]
    },
    {
     "name": "stdout",
     "output_type": "stream",
     "text": [
      "                   all         98        205          0          0          0          0\n"
     ]
    },
    {
     "name": "stderr",
     "output_type": "stream",
     "text": [
      "\n"
     ]
    },
    {
     "name": "stdout",
     "output_type": "stream",
     "text": [
      "\n",
      "      Epoch    GPU_mem   box_loss   cls_loss   dfl_loss  Instances       Size\n"
     ]
    },
    {
     "name": "stderr",
     "output_type": "stream",
     "text": [
      "       4/11      2.97G      3.766      19.73     0.9321          7        736: 100%|██████████| 25/25 [00:07<00:00,  3.44it/s]\n",
      "                 Class     Images  Instances      Box(P          R      mAP50  mAP50-95): 100%|██████████| 4/4 [00:00<00:00,  7.65it/s]"
     ]
    },
    {
     "name": "stdout",
     "output_type": "stream",
     "text": [
      "                   all         98        205    3.4e-05    0.00488   1.71e-05   1.71e-06\n"
     ]
    },
    {
     "name": "stderr",
     "output_type": "stream",
     "text": [
      "\n"
     ]
    },
    {
     "name": "stdout",
     "output_type": "stream",
     "text": [
      "\n",
      "      Epoch    GPU_mem   box_loss   cls_loss   dfl_loss  Instances       Size\n"
     ]
    },
    {
     "name": "stderr",
     "output_type": "stream",
     "text": [
      "       5/11      2.96G      3.622      15.83     0.9206         11        736: 100%|██████████| 25/25 [00:07<00:00,  3.30it/s]\n",
      "                 Class     Images  Instances      Box(P          R      mAP50  mAP50-95): 100%|██████████| 4/4 [00:00<00:00,  6.16it/s]"
     ]
    },
    {
     "name": "stdout",
     "output_type": "stream",
     "text": [
      "                   all         98        205    3.4e-05    0.00488   1.71e-05   1.71e-06\n"
     ]
    },
    {
     "name": "stderr",
     "output_type": "stream",
     "text": [
      "\n"
     ]
    },
    {
     "name": "stdout",
     "output_type": "stream",
     "text": [
      "\n",
      "      Epoch    GPU_mem   box_loss   cls_loss   dfl_loss  Instances       Size\n"
     ]
    },
    {
     "name": "stderr",
     "output_type": "stream",
     "text": [
      "       6/11      2.97G      3.781      15.01     0.9045          7        736: 100%|██████████| 25/25 [00:06<00:00,  3.99it/s]\n",
      "                 Class     Images  Instances      Box(P          R      mAP50  mAP50-95): 100%|██████████| 4/4 [00:00<00:00,  8.08it/s]\n"
     ]
    },
    {
     "name": "stdout",
     "output_type": "stream",
     "text": [
      "                   all         98        205    0.00062     0.0244   0.000348   0.000101\n",
      "\n",
      "      Epoch    GPU_mem   box_loss   cls_loss   dfl_loss  Instances       Size\n"
     ]
    },
    {
     "name": "stderr",
     "output_type": "stream",
     "text": [
      "       7/11      2.97G      3.687      13.04     0.9049          5        736: 100%|██████████| 25/25 [00:07<00:00,  3.51it/s]\n",
      "                 Class     Images  Instances      Box(P          R      mAP50  mAP50-95): 100%|██████████| 4/4 [00:00<00:00,  7.12it/s]"
     ]
    },
    {
     "name": "stdout",
     "output_type": "stream",
     "text": [
      "                   all         98        205      0.612      0.112      0.111     0.0332\n"
     ]
    },
    {
     "name": "stderr",
     "output_type": "stream",
     "text": [
      "\n"
     ]
    },
    {
     "name": "stdout",
     "output_type": "stream",
     "text": [
      "\n",
      "      Epoch    GPU_mem   box_loss   cls_loss   dfl_loss  Instances       Size\n"
     ]
    },
    {
     "name": "stderr",
     "output_type": "stream",
     "text": [
      "       8/11      2.97G      3.543      11.82     0.8917         10        736: 100%|██████████| 25/25 [00:07<00:00,  3.40it/s]\n",
      "                 Class     Images  Instances      Box(P          R      mAP50  mAP50-95): 100%|██████████| 4/4 [00:00<00:00,  7.69it/s]"
     ]
    },
    {
     "name": "stdout",
     "output_type": "stream",
     "text": [
      "                   all         98        205      0.129      0.151     0.0272    0.00537\n"
     ]
    },
    {
     "name": "stderr",
     "output_type": "stream",
     "text": [
      "\n"
     ]
    },
    {
     "name": "stdout",
     "output_type": "stream",
     "text": [
      "\n",
      "      Epoch    GPU_mem   box_loss   cls_loss   dfl_loss  Instances       Size\n"
     ]
    },
    {
     "name": "stderr",
     "output_type": "stream",
     "text": [
      "       9/11      2.96G      3.586       11.5     0.8928          8        736: 100%|██████████| 25/25 [00:06<00:00,  3.79it/s]\n",
      "                 Class     Images  Instances      Box(P          R      mAP50  mAP50-95): 100%|██████████| 4/4 [00:00<00:00,  7.77it/s]"
     ]
    },
    {
     "name": "stdout",
     "output_type": "stream",
     "text": [
      "                   all         98        205      0.711      0.176      0.173     0.0469\n"
     ]
    },
    {
     "name": "stderr",
     "output_type": "stream",
     "text": [
      "\n"
     ]
    },
    {
     "name": "stdout",
     "output_type": "stream",
     "text": [
      "\n",
      "      Epoch    GPU_mem   box_loss   cls_loss   dfl_loss  Instances       Size\n"
     ]
    },
    {
     "name": "stderr",
     "output_type": "stream",
     "text": [
      "      10/11      2.97G      3.371      9.831     0.8923          4        736: 100%|██████████| 25/25 [00:06<00:00,  3.91it/s]\n",
      "                 Class     Images  Instances      Box(P          R      mAP50  mAP50-95): 100%|██████████| 4/4 [00:00<00:00,  7.70it/s]"
     ]
    },
    {
     "name": "stdout",
     "output_type": "stream",
     "text": [
      "                   all         98        205      0.598      0.166       0.14     0.0411\n"
     ]
    },
    {
     "name": "stderr",
     "output_type": "stream",
     "text": [
      "\n"
     ]
    },
    {
     "name": "stdout",
     "output_type": "stream",
     "text": [
      "\n",
      "      Epoch    GPU_mem   box_loss   cls_loss   dfl_loss  Instances       Size\n"
     ]
    },
    {
     "name": "stderr",
     "output_type": "stream",
     "text": [
      "      11/11      2.97G       3.34      9.675     0.8805          6        736: 100%|██████████| 25/25 [00:07<00:00,  3.47it/s]\n",
      "                 Class     Images  Instances      Box(P          R      mAP50  mAP50-95): 100%|██████████| 4/4 [00:00<00:00,  7.64it/s]"
     ]
    },
    {
     "name": "stdout",
     "output_type": "stream",
     "text": [
      "                   all         98        205      0.748        0.2      0.197     0.0532\n"
     ]
    },
    {
     "name": "stderr",
     "output_type": "stream",
     "text": [
      "\n"
     ]
    },
    {
     "name": "stdout",
     "output_type": "stream",
     "text": [
      "\n",
      "11 epochs completed in 0.028 hours.\n",
      "Optimizer stripped from /data/mtmoore/school/CSiML_AI395T/final_project/models/yolo11/iterative/11n_720imgsz_IP8M-H-SW-11epochs/weights/last.pt, 5.5MB\n",
      "Optimizer stripped from /data/mtmoore/school/CSiML_AI395T/final_project/models/yolo11/iterative/11n_720imgsz_IP8M-H-SW-11epochs/weights/best.pt, 5.5MB\n",
      "\n",
      "Validating /data/mtmoore/school/CSiML_AI395T/final_project/models/yolo11/iterative/11n_720imgsz_IP8M-H-SW-11epochs/weights/best.pt...\n",
      "Ultralytics 8.3.29 🚀 Python-3.12.7 torch-2.2.2+cu121 CUDA:0 (NVIDIA GeForce RTX 4070 SUPER, 11904MiB)\n",
      "YOLO11n summary (fused): 238 layers, 2,582,347 parameters, 0 gradients, 6.3 GFLOPs\n"
     ]
    },
    {
     "name": "stderr",
     "output_type": "stream",
     "text": [
      "                 Class     Images  Instances      Box(P          R      mAP50  mAP50-95): 100%|██████████| 4/4 [00:00<00:00,  6.47it/s]\n"
     ]
    },
    {
     "name": "stdout",
     "output_type": "stream",
     "text": [
      "                   all         98        205      0.757      0.195       0.18     0.0513\n",
      "Speed: 0.1ms preprocess, 0.7ms inference, 0.0ms loss, 1.2ms postprocess per image\n",
      "Results saved to \u001b[1m/data/mtmoore/school/CSiML_AI395T/final_project/models/yolo11/iterative/11n_720imgsz_IP8M-H-SW-11epochs\u001b[0m\n",
      "New https://pypi.org/project/ultralytics/8.3.31 available 😃 Update with 'pip install -U ultralytics'\n",
      "Ultralytics 8.3.29 🚀 Python-3.12.7 torch-2.2.2+cu121 CUDA:0 (NVIDIA GeForce RTX 4070 SUPER, 11904MiB)\n",
      "\u001b[34m\u001b[1mengine/trainer: \u001b[0mtask=detect, mode=train, model=yolo11n.pt, data=/data/mtmoore/school/CSiML_AI395T/final_project/dataset/yolov8_dataset/data.yaml, epochs=12, time=None, patience=100, batch=16, imgsz=720, save=True, save_period=-1, cache=False, device=None, workers=8, project=/data/mtmoore/school/CSiML_AI395T/final_project/models/yolo11/iterative, name=11n_720imgsz_IP8M-H-SW-12epochs, exist_ok=False, pretrained=True, optimizer=auto, verbose=True, seed=0, deterministic=True, single_cls=False, rect=False, cos_lr=False, close_mosaic=10, resume=False, amp=True, fraction=1.0, profile=False, freeze=None, multi_scale=False, overlap_mask=True, mask_ratio=4, dropout=0.0, val=True, split=val, save_json=False, save_hybrid=False, conf=None, iou=0.7, max_det=300, half=False, dnn=False, plots=True, source=None, vid_stride=1, stream_buffer=False, visualize=False, augment=False, agnostic_nms=False, classes=None, retina_masks=False, embed=None, show=False, save_frames=False, save_txt=False, save_conf=False, save_crop=False, show_labels=True, show_conf=True, show_boxes=True, line_width=None, format=torchscript, keras=False, optimize=False, int8=False, dynamic=False, simplify=True, opset=None, workspace=4, nms=False, lr0=0.01, lrf=0.01, momentum=0.937, weight_decay=0.0005, warmup_epochs=3.0, warmup_momentum=0.8, warmup_bias_lr=0.1, box=7.5, cls=0.5, dfl=1.5, pose=12.0, kobj=1.0, label_smoothing=0.0, nbs=64, hsv_h=0.015, hsv_s=0.7, hsv_v=0.4, degrees=0.0, translate=0.1, scale=0.5, shear=0.0, perspective=0.0, flipud=0.0, fliplr=0.5, bgr=0.0, mosaic=1.0, mixup=0.0, copy_paste=0.0, copy_paste_mode=flip, auto_augment=randaugment, erasing=0.4, crop_fraction=1.0, cfg=None, tracker=botsort.yaml, save_dir=/data/mtmoore/school/CSiML_AI395T/final_project/models/yolo11/iterative/11n_720imgsz_IP8M-H-SW-12epochs\n",
      "Overriding model.yaml nc=80 with nc=1\n",
      "\n",
      "                   from  n    params  module                                       arguments                     \n",
      "  0                  -1  1       464  ultralytics.nn.modules.conv.Conv             [3, 16, 3, 2]                 \n",
      "  1                  -1  1      4672  ultralytics.nn.modules.conv.Conv             [16, 32, 3, 2]                \n",
      "  2                  -1  1      6640  ultralytics.nn.modules.block.C3k2            [32, 64, 1, False, 0.25]      \n",
      "  3                  -1  1     36992  ultralytics.nn.modules.conv.Conv             [64, 64, 3, 2]                \n",
      "  4                  -1  1     26080  ultralytics.nn.modules.block.C3k2            [64, 128, 1, False, 0.25]     \n",
      "  5                  -1  1    147712  ultralytics.nn.modules.conv.Conv             [128, 128, 3, 2]              \n",
      "  6                  -1  1     87040  ultralytics.nn.modules.block.C3k2            [128, 128, 1, True]           \n",
      "  7                  -1  1    295424  ultralytics.nn.modules.conv.Conv             [128, 256, 3, 2]              \n",
      "  8                  -1  1    346112  ultralytics.nn.modules.block.C3k2            [256, 256, 1, True]           \n",
      "  9                  -1  1    164608  ultralytics.nn.modules.block.SPPF            [256, 256, 5]                 \n",
      " 10                  -1  1    249728  ultralytics.nn.modules.block.C2PSA           [256, 256, 1]                 \n",
      " 11                  -1  1         0  torch.nn.modules.upsampling.Upsample         [None, 2, 'nearest']          \n",
      " 12             [-1, 6]  1         0  ultralytics.nn.modules.conv.Concat           [1]                           \n",
      " 13                  -1  1    111296  ultralytics.nn.modules.block.C3k2            [384, 128, 1, False]          \n",
      " 14                  -1  1         0  torch.nn.modules.upsampling.Upsample         [None, 2, 'nearest']          \n",
      " 15             [-1, 4]  1         0  ultralytics.nn.modules.conv.Concat           [1]                           \n",
      " 16                  -1  1     32096  ultralytics.nn.modules.block.C3k2            [256, 64, 1, False]           \n",
      " 17                  -1  1     36992  ultralytics.nn.modules.conv.Conv             [64, 64, 3, 2]                \n",
      " 18            [-1, 13]  1         0  ultralytics.nn.modules.conv.Concat           [1]                           \n",
      " 19                  -1  1     86720  ultralytics.nn.modules.block.C3k2            [192, 128, 1, False]          \n",
      " 20                  -1  1    147712  ultralytics.nn.modules.conv.Conv             [128, 128, 3, 2]              \n",
      " 21            [-1, 10]  1         0  ultralytics.nn.modules.conv.Concat           [1]                           \n",
      " 22                  -1  1    378880  ultralytics.nn.modules.block.C3k2            [384, 256, 1, True]           \n",
      " 23        [16, 19, 22]  1    430867  ultralytics.nn.modules.head.Detect           [1, [64, 128, 256]]           \n",
      "YOLO11n summary: 319 layers, 2,590,035 parameters, 2,590,019 gradients, 6.4 GFLOPs\n",
      "\n",
      "Transferred 448/499 items from pretrained weights\n",
      "Freezing layer 'model.23.dfl.conv.weight'\n",
      "\u001b[34m\u001b[1mAMP: \u001b[0mrunning Automatic Mixed Precision (AMP) checks...\n",
      "\u001b[34m\u001b[1mAMP: \u001b[0mchecks passed ✅\n",
      "WARNING ⚠️ imgsz=[720] must be multiple of max stride 32, updating to [736]\n"
     ]
    },
    {
     "name": "stderr",
     "output_type": "stream",
     "text": [
      "\u001b[34m\u001b[1mtrain: \u001b[0mScanning train/labels.cache... 388 images, 0 backgrounds, 0 corrupt: 100%|██████████| 388/388 [00:00<?, ?it/s]\u001b[0m"
     ]
    },
    {
     "name": "stdout",
     "output_type": "stream",
     "text": [
      "\u001b[34m\u001b[1mtrain: \u001b[0mWARNING ⚠️ train/images/IP8M-H-SW_2024-10-24_deer_00000111.png: 1 duplicate labels removed\n",
      "\u001b[34m\u001b[1mtrain: \u001b[0mWARNING ⚠️ train/images/IP8M-H-SW_2024-10-24_deer_00000112.png: 1 duplicate labels removed\n"
     ]
    },
    {
     "name": "stderr",
     "output_type": "stream",
     "text": [
      "\n",
      "\u001b[34m\u001b[1mval: \u001b[0mScanning val/labels.cache... 98 images, 0 backgrounds, 0 corrupt: 100%|██████████| 98/98 [00:00<?, ?it/s]\u001b[0m\n"
     ]
    },
    {
     "name": "stdout",
     "output_type": "stream",
     "text": [
      "Plotting labels to /data/mtmoore/school/CSiML_AI395T/final_project/models/yolo11/iterative/11n_720imgsz_IP8M-H-SW-12epochs/labels.jpg... \n",
      "\u001b[34m\u001b[1moptimizer:\u001b[0m 'optimizer=auto' found, ignoring 'lr0=0.01' and 'momentum=0.937' and determining best 'optimizer', 'lr0' and 'momentum' automatically... \n",
      "\u001b[34m\u001b[1moptimizer:\u001b[0m AdamW(lr=0.002, momentum=0.9) with parameter groups 81 weight(decay=0.0), 88 weight(decay=0.0005), 87 bias(decay=0.0)\n",
      "Image sizes 736 train, 736 val\n",
      "Using 8 dataloader workers\n",
      "Logging results to \u001b[1m/data/mtmoore/school/CSiML_AI395T/final_project/models/yolo11/iterative/11n_720imgsz_IP8M-H-SW-12epochs\u001b[0m\n",
      "Starting training for 12 epochs...\n",
      "\n",
      "      Epoch    GPU_mem   box_loss   cls_loss   dfl_loss  Instances       Size\n"
     ]
    },
    {
     "name": "stderr",
     "output_type": "stream",
     "text": [
      "       1/12      3.07G       3.21      108.3     0.8292         13        736: 100%|██████████| 25/25 [00:05<00:00,  4.23it/s]\n",
      "                 Class     Images  Instances      Box(P          R      mAP50  mAP50-95): 100%|██████████| 4/4 [00:00<00:00,  8.03it/s]"
     ]
    },
    {
     "name": "stdout",
     "output_type": "stream",
     "text": [
      "                   all         98        205          0          0          0          0\n"
     ]
    },
    {
     "name": "stderr",
     "output_type": "stream",
     "text": [
      "\n"
     ]
    },
    {
     "name": "stdout",
     "output_type": "stream",
     "text": [
      "\n",
      "      Epoch    GPU_mem   box_loss   cls_loss   dfl_loss  Instances       Size\n"
     ]
    },
    {
     "name": "stderr",
     "output_type": "stream",
     "text": [
      "       2/12      2.96G      4.132      25.14     0.9589          7        736: 100%|██████████| 25/25 [00:08<00:00,  2.80it/s]\n",
      "                 Class     Images  Instances      Box(P          R      mAP50  mAP50-95): 100%|██████████| 4/4 [00:00<00:00,  7.74it/s]"
     ]
    },
    {
     "name": "stdout",
     "output_type": "stream",
     "text": [
      "                   all         98        205          0          0          0          0\n"
     ]
    },
    {
     "name": "stderr",
     "output_type": "stream",
     "text": [
      "\n"
     ]
    },
    {
     "name": "stdout",
     "output_type": "stream",
     "text": [
      "Closing dataloader mosaic\n",
      "\n",
      "      Epoch    GPU_mem   box_loss   cls_loss   dfl_loss  Instances       Size\n"
     ]
    },
    {
     "name": "stderr",
     "output_type": "stream",
     "text": [
      "       3/12      3.01G      3.838      25.46     0.9494         13        736: 100%|██████████| 25/25 [00:09<00:00,  2.62it/s]\n",
      "                 Class     Images  Instances      Box(P          R      mAP50  mAP50-95): 100%|██████████| 4/4 [00:00<00:00,  8.05it/s]\n"
     ]
    },
    {
     "name": "stdout",
     "output_type": "stream",
     "text": [
      "                   all         98        205   0.000408     0.0585   0.000233   5.22e-05\n",
      "\n",
      "      Epoch    GPU_mem   box_loss   cls_loss   dfl_loss  Instances       Size\n"
     ]
    },
    {
     "name": "stderr",
     "output_type": "stream",
     "text": [
      "       4/12      2.97G      3.584      19.51      0.941          8        736: 100%|██████████| 25/25 [00:08<00:00,  2.92it/s]\n",
      "                 Class     Images  Instances      Box(P          R      mAP50  mAP50-95): 100%|██████████| 4/4 [00:00<00:00,  8.25it/s]\n"
     ]
    },
    {
     "name": "stdout",
     "output_type": "stream",
     "text": [
      "                   all         98        205   0.000748      0.107    0.00567    0.00125\n",
      "\n",
      "      Epoch    GPU_mem   box_loss   cls_loss   dfl_loss  Instances       Size\n"
     ]
    },
    {
     "name": "stderr",
     "output_type": "stream",
     "text": [
      "       5/12      2.96G      3.904      20.39     0.9678         10        736: 100%|██████████| 25/25 [00:07<00:00,  3.46it/s]\n",
      "                 Class     Images  Instances      Box(P          R      mAP50  mAP50-95): 100%|██████████| 4/4 [00:00<00:00,  7.58it/s]"
     ]
    },
    {
     "name": "stdout",
     "output_type": "stream",
     "text": [
      "                   all         98        205      0.088     0.0195     0.0132    0.00201\n"
     ]
    },
    {
     "name": "stderr",
     "output_type": "stream",
     "text": [
      "\n"
     ]
    },
    {
     "name": "stdout",
     "output_type": "stream",
     "text": [
      "\n",
      "      Epoch    GPU_mem   box_loss   cls_loss   dfl_loss  Instances       Size\n"
     ]
    },
    {
     "name": "stderr",
     "output_type": "stream",
     "text": [
      "       6/12      2.97G       3.35      15.04     0.9113          7        736: 100%|██████████| 25/25 [00:06<00:00,  3.72it/s]\n",
      "                 Class     Images  Instances      Box(P          R      mAP50  mAP50-95): 100%|██████████| 4/4 [00:00<00:00,  5.99it/s]"
     ]
    },
    {
     "name": "stdout",
     "output_type": "stream",
     "text": [
      "                   all         98        205      0.802      0.122      0.136     0.0263\n"
     ]
    },
    {
     "name": "stderr",
     "output_type": "stream",
     "text": [
      "\n"
     ]
    },
    {
     "name": "stdout",
     "output_type": "stream",
     "text": [
      "\n",
      "      Epoch    GPU_mem   box_loss   cls_loss   dfl_loss  Instances       Size\n"
     ]
    },
    {
     "name": "stderr",
     "output_type": "stream",
     "text": [
      "       7/12      2.97G      3.615      13.24     0.9428          5        736: 100%|██████████| 25/25 [00:06<00:00,  3.72it/s]\n",
      "                 Class     Images  Instances      Box(P          R      mAP50  mAP50-95): 100%|██████████| 4/4 [00:00<00:00,  7.56it/s]"
     ]
    },
    {
     "name": "stdout",
     "output_type": "stream",
     "text": [
      "                   all         98        205       0.55      0.112     0.0988     0.0201\n"
     ]
    },
    {
     "name": "stderr",
     "output_type": "stream",
     "text": [
      "\n"
     ]
    },
    {
     "name": "stdout",
     "output_type": "stream",
     "text": [
      "\n",
      "      Epoch    GPU_mem   box_loss   cls_loss   dfl_loss  Instances       Size\n"
     ]
    },
    {
     "name": "stderr",
     "output_type": "stream",
     "text": [
      "       8/12      2.97G      3.407      13.35      0.899         13        736: 100%|██████████| 25/25 [00:07<00:00,  3.39it/s]\n",
      "                 Class     Images  Instances      Box(P          R      mAP50  mAP50-95): 100%|██████████| 4/4 [00:00<00:00,  7.23it/s]"
     ]
    },
    {
     "name": "stdout",
     "output_type": "stream",
     "text": [
      "                   all         98        205      0.683      0.136      0.114     0.0249\n"
     ]
    },
    {
     "name": "stderr",
     "output_type": "stream",
     "text": [
      "\n"
     ]
    },
    {
     "name": "stdout",
     "output_type": "stream",
     "text": [
      "\n",
      "      Epoch    GPU_mem   box_loss   cls_loss   dfl_loss  Instances       Size\n"
     ]
    },
    {
     "name": "stderr",
     "output_type": "stream",
     "text": [
      "       9/12      2.96G      3.123      11.32      0.889          7        736: 100%|██████████| 25/25 [00:06<00:00,  3.75it/s]\n",
      "                 Class     Images  Instances      Box(P          R      mAP50  mAP50-95): 100%|██████████| 4/4 [00:00<00:00,  7.96it/s]\n"
     ]
    },
    {
     "name": "stdout",
     "output_type": "stream",
     "text": [
      "                   all         98        205      0.482      0.112     0.0966     0.0252\n",
      "\n",
      "      Epoch    GPU_mem   box_loss   cls_loss   dfl_loss  Instances       Size\n"
     ]
    },
    {
     "name": "stderr",
     "output_type": "stream",
     "text": [
      "      10/12      2.97G      3.357      10.49     0.8942          4        736: 100%|██████████| 25/25 [00:06<00:00,  3.93it/s]\n",
      "                 Class     Images  Instances      Box(P          R      mAP50  mAP50-95): 100%|██████████| 4/4 [00:00<00:00,  7.76it/s]"
     ]
    },
    {
     "name": "stdout",
     "output_type": "stream",
     "text": [
      "                   all         98        205      0.649      0.153      0.164     0.0516\n"
     ]
    },
    {
     "name": "stderr",
     "output_type": "stream",
     "text": [
      "\n"
     ]
    },
    {
     "name": "stdout",
     "output_type": "stream",
     "text": [
      "\n",
      "      Epoch    GPU_mem   box_loss   cls_loss   dfl_loss  Instances       Size\n"
     ]
    },
    {
     "name": "stderr",
     "output_type": "stream",
     "text": [
      "      11/12      2.97G      3.245      9.841     0.9087          6        736: 100%|██████████| 25/25 [00:07<00:00,  3.35it/s]\n",
      "                 Class     Images  Instances      Box(P          R      mAP50  mAP50-95): 100%|██████████| 4/4 [00:00<00:00,  7.61it/s]"
     ]
    },
    {
     "name": "stdout",
     "output_type": "stream",
     "text": [
      "                   all         98        205      0.739      0.161      0.165     0.0395\n"
     ]
    },
    {
     "name": "stderr",
     "output_type": "stream",
     "text": [
      "\n"
     ]
    },
    {
     "name": "stdout",
     "output_type": "stream",
     "text": [
      "\n",
      "      Epoch    GPU_mem   box_loss   cls_loss   dfl_loss  Instances       Size\n"
     ]
    },
    {
     "name": "stderr",
     "output_type": "stream",
     "text": [
      "      12/12      2.97G      3.156      9.246     0.8939          6        736: 100%|██████████| 25/25 [00:07<00:00,  3.50it/s]\n",
      "                 Class     Images  Instances      Box(P          R      mAP50  mAP50-95): 100%|██████████| 4/4 [00:00<00:00,  7.52it/s]"
     ]
    },
    {
     "name": "stdout",
     "output_type": "stream",
     "text": [
      "                   all         98        205      0.844      0.185      0.189     0.0502\n"
     ]
    },
    {
     "name": "stderr",
     "output_type": "stream",
     "text": [
      "\n"
     ]
    },
    {
     "name": "stdout",
     "output_type": "stream",
     "text": [
      "\n",
      "12 epochs completed in 0.030 hours.\n",
      "Optimizer stripped from /data/mtmoore/school/CSiML_AI395T/final_project/models/yolo11/iterative/11n_720imgsz_IP8M-H-SW-12epochs/weights/last.pt, 5.5MB\n",
      "Optimizer stripped from /data/mtmoore/school/CSiML_AI395T/final_project/models/yolo11/iterative/11n_720imgsz_IP8M-H-SW-12epochs/weights/best.pt, 5.5MB\n",
      "\n",
      "Validating /data/mtmoore/school/CSiML_AI395T/final_project/models/yolo11/iterative/11n_720imgsz_IP8M-H-SW-12epochs/weights/best.pt...\n",
      "Ultralytics 8.3.29 🚀 Python-3.12.7 torch-2.2.2+cu121 CUDA:0 (NVIDIA GeForce RTX 4070 SUPER, 11904MiB)\n",
      "YOLO11n summary (fused): 238 layers, 2,582,347 parameters, 0 gradients, 6.3 GFLOPs\n"
     ]
    },
    {
     "name": "stderr",
     "output_type": "stream",
     "text": [
      "                 Class     Images  Instances      Box(P          R      mAP50  mAP50-95): 100%|██████████| 4/4 [00:00<00:00,  6.07it/s]\n"
     ]
    },
    {
     "name": "stdout",
     "output_type": "stream",
     "text": [
      "                   all         98        205      0.846      0.185       0.19      0.051\n",
      "Speed: 0.1ms preprocess, 0.9ms inference, 0.0ms loss, 1.1ms postprocess per image\n",
      "Results saved to \u001b[1m/data/mtmoore/school/CSiML_AI395T/final_project/models/yolo11/iterative/11n_720imgsz_IP8M-H-SW-12epochs\u001b[0m\n",
      "New https://pypi.org/project/ultralytics/8.3.31 available 😃 Update with 'pip install -U ultralytics'\n",
      "Ultralytics 8.3.29 🚀 Python-3.12.7 torch-2.2.2+cu121 CUDA:0 (NVIDIA GeForce RTX 4070 SUPER, 11904MiB)\n",
      "\u001b[34m\u001b[1mengine/trainer: \u001b[0mtask=detect, mode=train, model=yolo11n.pt, data=/data/mtmoore/school/CSiML_AI395T/final_project/dataset/yolov8_dataset/data.yaml, epochs=13, time=None, patience=100, batch=16, imgsz=720, save=True, save_period=-1, cache=False, device=None, workers=8, project=/data/mtmoore/school/CSiML_AI395T/final_project/models/yolo11/iterative, name=11n_720imgsz_IP8M-H-SW-13epochs, exist_ok=False, pretrained=True, optimizer=auto, verbose=True, seed=0, deterministic=True, single_cls=False, rect=False, cos_lr=False, close_mosaic=10, resume=False, amp=True, fraction=1.0, profile=False, freeze=None, multi_scale=False, overlap_mask=True, mask_ratio=4, dropout=0.0, val=True, split=val, save_json=False, save_hybrid=False, conf=None, iou=0.7, max_det=300, half=False, dnn=False, plots=True, source=None, vid_stride=1, stream_buffer=False, visualize=False, augment=False, agnostic_nms=False, classes=None, retina_masks=False, embed=None, show=False, save_frames=False, save_txt=False, save_conf=False, save_crop=False, show_labels=True, show_conf=True, show_boxes=True, line_width=None, format=torchscript, keras=False, optimize=False, int8=False, dynamic=False, simplify=True, opset=None, workspace=4, nms=False, lr0=0.01, lrf=0.01, momentum=0.937, weight_decay=0.0005, warmup_epochs=3.0, warmup_momentum=0.8, warmup_bias_lr=0.1, box=7.5, cls=0.5, dfl=1.5, pose=12.0, kobj=1.0, label_smoothing=0.0, nbs=64, hsv_h=0.015, hsv_s=0.7, hsv_v=0.4, degrees=0.0, translate=0.1, scale=0.5, shear=0.0, perspective=0.0, flipud=0.0, fliplr=0.5, bgr=0.0, mosaic=1.0, mixup=0.0, copy_paste=0.0, copy_paste_mode=flip, auto_augment=randaugment, erasing=0.4, crop_fraction=1.0, cfg=None, tracker=botsort.yaml, save_dir=/data/mtmoore/school/CSiML_AI395T/final_project/models/yolo11/iterative/11n_720imgsz_IP8M-H-SW-13epochs\n",
      "Overriding model.yaml nc=80 with nc=1\n",
      "\n",
      "                   from  n    params  module                                       arguments                     \n",
      "  0                  -1  1       464  ultralytics.nn.modules.conv.Conv             [3, 16, 3, 2]                 \n",
      "  1                  -1  1      4672  ultralytics.nn.modules.conv.Conv             [16, 32, 3, 2]                \n",
      "  2                  -1  1      6640  ultralytics.nn.modules.block.C3k2            [32, 64, 1, False, 0.25]      \n",
      "  3                  -1  1     36992  ultralytics.nn.modules.conv.Conv             [64, 64, 3, 2]                \n",
      "  4                  -1  1     26080  ultralytics.nn.modules.block.C3k2            [64, 128, 1, False, 0.25]     \n",
      "  5                  -1  1    147712  ultralytics.nn.modules.conv.Conv             [128, 128, 3, 2]              \n",
      "  6                  -1  1     87040  ultralytics.nn.modules.block.C3k2            [128, 128, 1, True]           \n",
      "  7                  -1  1    295424  ultralytics.nn.modules.conv.Conv             [128, 256, 3, 2]              \n",
      "  8                  -1  1    346112  ultralytics.nn.modules.block.C3k2            [256, 256, 1, True]           \n",
      "  9                  -1  1    164608  ultralytics.nn.modules.block.SPPF            [256, 256, 5]                 \n",
      " 10                  -1  1    249728  ultralytics.nn.modules.block.C2PSA           [256, 256, 1]                 \n",
      " 11                  -1  1         0  torch.nn.modules.upsampling.Upsample         [None, 2, 'nearest']          \n",
      " 12             [-1, 6]  1         0  ultralytics.nn.modules.conv.Concat           [1]                           \n",
      " 13                  -1  1    111296  ultralytics.nn.modules.block.C3k2            [384, 128, 1, False]          \n",
      " 14                  -1  1         0  torch.nn.modules.upsampling.Upsample         [None, 2, 'nearest']          \n",
      " 15             [-1, 4]  1         0  ultralytics.nn.modules.conv.Concat           [1]                           \n",
      " 16                  -1  1     32096  ultralytics.nn.modules.block.C3k2            [256, 64, 1, False]           \n",
      " 17                  -1  1     36992  ultralytics.nn.modules.conv.Conv             [64, 64, 3, 2]                \n",
      " 18            [-1, 13]  1         0  ultralytics.nn.modules.conv.Concat           [1]                           \n",
      " 19                  -1  1     86720  ultralytics.nn.modules.block.C3k2            [192, 128, 1, False]          \n",
      " 20                  -1  1    147712  ultralytics.nn.modules.conv.Conv             [128, 128, 3, 2]              \n",
      " 21            [-1, 10]  1         0  ultralytics.nn.modules.conv.Concat           [1]                           \n",
      " 22                  -1  1    378880  ultralytics.nn.modules.block.C3k2            [384, 256, 1, True]           \n",
      " 23        [16, 19, 22]  1    430867  ultralytics.nn.modules.head.Detect           [1, [64, 128, 256]]           \n",
      "YOLO11n summary: 319 layers, 2,590,035 parameters, 2,590,019 gradients, 6.4 GFLOPs\n",
      "\n",
      "Transferred 448/499 items from pretrained weights\n",
      "Freezing layer 'model.23.dfl.conv.weight'\n",
      "\u001b[34m\u001b[1mAMP: \u001b[0mrunning Automatic Mixed Precision (AMP) checks...\n",
      "\u001b[34m\u001b[1mAMP: \u001b[0mchecks passed ✅\n",
      "WARNING ⚠️ imgsz=[720] must be multiple of max stride 32, updating to [736]\n"
     ]
    },
    {
     "name": "stderr",
     "output_type": "stream",
     "text": [
      "\u001b[34m\u001b[1mtrain: \u001b[0mScanning train/labels.cache... 388 images, 0 backgrounds, 0 corrupt: 100%|██████████| 388/388 [00:00<?, ?it/s]\u001b[0m"
     ]
    },
    {
     "name": "stdout",
     "output_type": "stream",
     "text": [
      "\u001b[34m\u001b[1mtrain: \u001b[0mWARNING ⚠️ train/images/IP8M-H-SW_2024-10-24_deer_00000111.png: 1 duplicate labels removed\n",
      "\u001b[34m\u001b[1mtrain: \u001b[0mWARNING ⚠️ train/images/IP8M-H-SW_2024-10-24_deer_00000112.png: 1 duplicate labels removed\n"
     ]
    },
    {
     "name": "stderr",
     "output_type": "stream",
     "text": [
      "\n",
      "\u001b[34m\u001b[1mval: \u001b[0mScanning val/labels.cache... 98 images, 0 backgrounds, 0 corrupt: 100%|██████████| 98/98 [00:00<?, ?it/s]\u001b[0m\n"
     ]
    },
    {
     "name": "stdout",
     "output_type": "stream",
     "text": [
      "Plotting labels to /data/mtmoore/school/CSiML_AI395T/final_project/models/yolo11/iterative/11n_720imgsz_IP8M-H-SW-13epochs/labels.jpg... \n",
      "\u001b[34m\u001b[1moptimizer:\u001b[0m 'optimizer=auto' found, ignoring 'lr0=0.01' and 'momentum=0.937' and determining best 'optimizer', 'lr0' and 'momentum' automatically... \n",
      "\u001b[34m\u001b[1moptimizer:\u001b[0m AdamW(lr=0.002, momentum=0.9) with parameter groups 81 weight(decay=0.0), 88 weight(decay=0.0005), 87 bias(decay=0.0)\n",
      "Image sizes 736 train, 736 val\n",
      "Using 8 dataloader workers\n",
      "Logging results to \u001b[1m/data/mtmoore/school/CSiML_AI395T/final_project/models/yolo11/iterative/11n_720imgsz_IP8M-H-SW-13epochs\u001b[0m\n",
      "Starting training for 13 epochs...\n",
      "\n",
      "      Epoch    GPU_mem   box_loss   cls_loss   dfl_loss  Instances       Size\n"
     ]
    },
    {
     "name": "stderr",
     "output_type": "stream",
     "text": [
      "       1/13      3.07G       3.21      108.3     0.8292         13        736: 100%|██████████| 25/25 [00:05<00:00,  4.18it/s]\n",
      "                 Class     Images  Instances      Box(P          R      mAP50  mAP50-95): 100%|██████████| 4/4 [00:00<00:00,  6.92it/s]"
     ]
    },
    {
     "name": "stdout",
     "output_type": "stream",
     "text": [
      "                   all         98        205          0          0          0          0\n"
     ]
    },
    {
     "name": "stderr",
     "output_type": "stream",
     "text": [
      "\n"
     ]
    },
    {
     "name": "stdout",
     "output_type": "stream",
     "text": [
      "\n",
      "      Epoch    GPU_mem   box_loss   cls_loss   dfl_loss  Instances       Size\n"
     ]
    },
    {
     "name": "stderr",
     "output_type": "stream",
     "text": [
      "       2/13      2.96G      4.083      24.19     0.9505          7        736: 100%|██████████| 25/25 [00:08<00:00,  2.86it/s]\n",
      "                 Class     Images  Instances      Box(P          R      mAP50  mAP50-95): 100%|██████████| 4/4 [00:00<00:00,  8.67it/s]"
     ]
    },
    {
     "name": "stdout",
     "output_type": "stream",
     "text": [
      "                   all         98        205          0          0          0          0\n"
     ]
    },
    {
     "name": "stderr",
     "output_type": "stream",
     "text": [
      "\n"
     ]
    },
    {
     "name": "stdout",
     "output_type": "stream",
     "text": [
      "\n",
      "      Epoch    GPU_mem   box_loss   cls_loss   dfl_loss  Instances       Size\n"
     ]
    },
    {
     "name": "stderr",
     "output_type": "stream",
     "text": [
      "       3/13      2.97G      4.082      21.96      0.947          9        736: 100%|██████████| 25/25 [00:08<00:00,  3.03it/s]\n",
      "                 Class     Images  Instances      Box(P          R      mAP50  mAP50-95): 100%|██████████| 4/4 [00:00<00:00,  7.65it/s]"
     ]
    },
    {
     "name": "stdout",
     "output_type": "stream",
     "text": [
      "                   all         98        205   0.000408     0.0585   0.000232   9.49e-05\n"
     ]
    },
    {
     "name": "stderr",
     "output_type": "stream",
     "text": [
      "\n"
     ]
    },
    {
     "name": "stdout",
     "output_type": "stream",
     "text": [
      "Closing dataloader mosaic\n",
      "\n",
      "      Epoch    GPU_mem   box_loss   cls_loss   dfl_loss  Instances       Size\n"
     ]
    },
    {
     "name": "stderr",
     "output_type": "stream",
     "text": [
      "       4/13      3.07G      3.641      21.19     0.9159          5        736: 100%|██████████| 25/25 [00:10<00:00,  2.28it/s]\n",
      "                 Class     Images  Instances      Box(P          R      mAP50  mAP50-95): 100%|██████████| 4/4 [00:00<00:00,  8.95it/s]"
     ]
    },
    {
     "name": "stdout",
     "output_type": "stream",
     "text": [
      "                   all         98        205   0.000408     0.0585   0.000232   9.49e-05\n"
     ]
    },
    {
     "name": "stderr",
     "output_type": "stream",
     "text": [
      "\n"
     ]
    },
    {
     "name": "stdout",
     "output_type": "stream",
     "text": [
      "\n",
      "      Epoch    GPU_mem   box_loss   cls_loss   dfl_loss  Instances       Size\n"
     ]
    },
    {
     "name": "stderr",
     "output_type": "stream",
     "text": [
      "       5/13      2.96G      3.745      16.74     0.9556         11        736: 100%|██████████| 25/25 [00:08<00:00,  2.86it/s]\n",
      "                 Class     Images  Instances      Box(P          R      mAP50  mAP50-95): 100%|██████████| 4/4 [00:00<00:00,  7.66it/s]"
     ]
    },
    {
     "name": "stdout",
     "output_type": "stream",
     "text": [
      "                   all         98        205      0.382     0.0151     0.0106    0.00208\n"
     ]
    },
    {
     "name": "stderr",
     "output_type": "stream",
     "text": [
      "\n"
     ]
    },
    {
     "name": "stdout",
     "output_type": "stream",
     "text": [
      "\n",
      "      Epoch    GPU_mem   box_loss   cls_loss   dfl_loss  Instances       Size\n"
     ]
    },
    {
     "name": "stderr",
     "output_type": "stream",
     "text": [
      "       6/13      2.97G      3.627      16.81     0.9243          7        736: 100%|██████████| 25/25 [00:07<00:00,  3.15it/s]\n",
      "                 Class     Images  Instances      Box(P          R      mAP50  mAP50-95): 100%|██████████| 4/4 [00:00<00:00,  7.74it/s]"
     ]
    },
    {
     "name": "stdout",
     "output_type": "stream",
     "text": [
      "                   all         98        205     0.0482     0.0195    0.00304   0.000876\n"
     ]
    },
    {
     "name": "stderr",
     "output_type": "stream",
     "text": [
      "\n"
     ]
    },
    {
     "name": "stdout",
     "output_type": "stream",
     "text": [
      "\n",
      "      Epoch    GPU_mem   box_loss   cls_loss   dfl_loss  Instances       Size\n"
     ]
    },
    {
     "name": "stderr",
     "output_type": "stream",
     "text": [
      "       7/13      2.97G      3.624      13.09     0.9132          4        736: 100%|██████████| 25/25 [00:08<00:00,  3.07it/s]\n",
      "                 Class     Images  Instances      Box(P          R      mAP50  mAP50-95): 100%|██████████| 4/4 [00:00<00:00,  8.04it/s]\n"
     ]
    },
    {
     "name": "stdout",
     "output_type": "stream",
     "text": [
      "                   all         98        205      0.048    0.00488   0.000436   0.000125\n",
      "\n",
      "      Epoch    GPU_mem   box_loss   cls_loss   dfl_loss  Instances       Size\n"
     ]
    },
    {
     "name": "stderr",
     "output_type": "stream",
     "text": [
      "       8/13      2.97G       3.49      14.33     0.9135         12        736: 100%|██████████| 25/25 [00:07<00:00,  3.25it/s]\n",
      "                 Class     Images  Instances      Box(P          R      mAP50  mAP50-95): 100%|██████████| 4/4 [00:00<00:00,  7.94it/s]\n"
     ]
    },
    {
     "name": "stdout",
     "output_type": "stream",
     "text": [
      "                   all         98        205      0.688      0.161      0.164     0.0386\n",
      "\n",
      "      Epoch    GPU_mem   box_loss   cls_loss   dfl_loss  Instances       Size\n"
     ]
    },
    {
     "name": "stderr",
     "output_type": "stream",
     "text": [
      "       9/13      2.96G       3.39      11.55     0.9306          7        736: 100%|██████████| 25/25 [00:07<00:00,  3.32it/s]\n",
      "                 Class     Images  Instances      Box(P          R      mAP50  mAP50-95): 100%|██████████| 4/4 [00:00<00:00,  7.34it/s]"
     ]
    },
    {
     "name": "stdout",
     "output_type": "stream",
     "text": [
      "                   all         98        205      0.347      0.127     0.0884     0.0209\n"
     ]
    },
    {
     "name": "stderr",
     "output_type": "stream",
     "text": [
      "\n"
     ]
    },
    {
     "name": "stdout",
     "output_type": "stream",
     "text": [
      "\n",
      "      Epoch    GPU_mem   box_loss   cls_loss   dfl_loss  Instances       Size\n"
     ]
    },
    {
     "name": "stderr",
     "output_type": "stream",
     "text": [
      "      10/13      2.97G      3.367      9.689     0.9102          4        736: 100%|██████████| 25/25 [00:05<00:00,  4.36it/s]\n",
      "                 Class     Images  Instances      Box(P          R      mAP50  mAP50-95): 100%|██████████| 4/4 [00:00<00:00,  7.70it/s]\n"
     ]
    },
    {
     "name": "stdout",
     "output_type": "stream",
     "text": [
      "                   all         98        205      0.307      0.117     0.0571      0.011\n",
      "\n",
      "      Epoch    GPU_mem   box_loss   cls_loss   dfl_loss  Instances       Size\n"
     ]
    },
    {
     "name": "stderr",
     "output_type": "stream",
     "text": [
      "      11/13      2.97G      3.252      9.825     0.9182          5        736: 100%|██████████| 25/25 [00:07<00:00,  3.35it/s]\n",
      "                 Class     Images  Instances      Box(P          R      mAP50  mAP50-95): 100%|██████████| 4/4 [00:00<00:00,  7.46it/s]"
     ]
    },
    {
     "name": "stdout",
     "output_type": "stream",
     "text": [
      "                   all         98        205      0.636      0.171      0.157     0.0336\n"
     ]
    },
    {
     "name": "stderr",
     "output_type": "stream",
     "text": [
      "\n"
     ]
    },
    {
     "name": "stdout",
     "output_type": "stream",
     "text": [
      "\n",
      "      Epoch    GPU_mem   box_loss   cls_loss   dfl_loss  Instances       Size\n"
     ]
    },
    {
     "name": "stderr",
     "output_type": "stream",
     "text": [
      "      12/13      2.97G       3.12      8.612     0.8757          6        736: 100%|██████████| 25/25 [00:06<00:00,  3.71it/s]\n",
      "                 Class     Images  Instances      Box(P          R      mAP50  mAP50-95): 100%|██████████| 4/4 [00:00<00:00,  8.08it/s]\n"
     ]
    },
    {
     "name": "stdout",
     "output_type": "stream",
     "text": [
      "                   all         98        205      0.745      0.157      0.184     0.0448\n",
      "\n",
      "      Epoch    GPU_mem   box_loss   cls_loss   dfl_loss  Instances       Size\n"
     ]
    },
    {
     "name": "stderr",
     "output_type": "stream",
     "text": [
      "      13/13      2.96G      3.017      7.829     0.8711          6        736: 100%|██████████| 25/25 [00:07<00:00,  3.30it/s]\n",
      "                 Class     Images  Instances      Box(P          R      mAP50  mAP50-95): 100%|██████████| 4/4 [00:00<00:00,  7.80it/s]"
     ]
    },
    {
     "name": "stdout",
     "output_type": "stream",
     "text": [
      "                   all         98        205      0.717      0.148       0.16      0.033\n"
     ]
    },
    {
     "name": "stderr",
     "output_type": "stream",
     "text": [
      "\n"
     ]
    },
    {
     "name": "stdout",
     "output_type": "stream",
     "text": [
      "\n",
      "13 epochs completed in 0.034 hours.\n",
      "Optimizer stripped from /data/mtmoore/school/CSiML_AI395T/final_project/models/yolo11/iterative/11n_720imgsz_IP8M-H-SW-13epochs/weights/last.pt, 5.5MB\n",
      "Optimizer stripped from /data/mtmoore/school/CSiML_AI395T/final_project/models/yolo11/iterative/11n_720imgsz_IP8M-H-SW-13epochs/weights/best.pt, 5.5MB\n",
      "\n",
      "Validating /data/mtmoore/school/CSiML_AI395T/final_project/models/yolo11/iterative/11n_720imgsz_IP8M-H-SW-13epochs/weights/best.pt...\n",
      "Ultralytics 8.3.29 🚀 Python-3.12.7 torch-2.2.2+cu121 CUDA:0 (NVIDIA GeForce RTX 4070 SUPER, 11904MiB)\n",
      "YOLO11n summary (fused): 238 layers, 2,582,347 parameters, 0 gradients, 6.3 GFLOPs\n"
     ]
    },
    {
     "name": "stderr",
     "output_type": "stream",
     "text": [
      "                 Class     Images  Instances      Box(P          R      mAP50  mAP50-95): 100%|██████████| 4/4 [00:00<00:00,  6.16it/s]\n"
     ]
    },
    {
     "name": "stdout",
     "output_type": "stream",
     "text": [
      "                   all         98        205      0.745      0.157      0.184     0.0444\n",
      "Speed: 0.1ms preprocess, 0.8ms inference, 0.0ms loss, 1.2ms postprocess per image\n",
      "Results saved to \u001b[1m/data/mtmoore/school/CSiML_AI395T/final_project/models/yolo11/iterative/11n_720imgsz_IP8M-H-SW-13epochs\u001b[0m\n",
      "New https://pypi.org/project/ultralytics/8.3.31 available 😃 Update with 'pip install -U ultralytics'\n",
      "Ultralytics 8.3.29 🚀 Python-3.12.7 torch-2.2.2+cu121 CUDA:0 (NVIDIA GeForce RTX 4070 SUPER, 11904MiB)\n",
      "\u001b[34m\u001b[1mengine/trainer: \u001b[0mtask=detect, mode=train, model=yolo11n.pt, data=/data/mtmoore/school/CSiML_AI395T/final_project/dataset/yolov8_dataset/data.yaml, epochs=14, time=None, patience=100, batch=16, imgsz=720, save=True, save_period=-1, cache=False, device=None, workers=8, project=/data/mtmoore/school/CSiML_AI395T/final_project/models/yolo11/iterative, name=11n_720imgsz_IP8M-H-SW-14epochs, exist_ok=False, pretrained=True, optimizer=auto, verbose=True, seed=0, deterministic=True, single_cls=False, rect=False, cos_lr=False, close_mosaic=10, resume=False, amp=True, fraction=1.0, profile=False, freeze=None, multi_scale=False, overlap_mask=True, mask_ratio=4, dropout=0.0, val=True, split=val, save_json=False, save_hybrid=False, conf=None, iou=0.7, max_det=300, half=False, dnn=False, plots=True, source=None, vid_stride=1, stream_buffer=False, visualize=False, augment=False, agnostic_nms=False, classes=None, retina_masks=False, embed=None, show=False, save_frames=False, save_txt=False, save_conf=False, save_crop=False, show_labels=True, show_conf=True, show_boxes=True, line_width=None, format=torchscript, keras=False, optimize=False, int8=False, dynamic=False, simplify=True, opset=None, workspace=4, nms=False, lr0=0.01, lrf=0.01, momentum=0.937, weight_decay=0.0005, warmup_epochs=3.0, warmup_momentum=0.8, warmup_bias_lr=0.1, box=7.5, cls=0.5, dfl=1.5, pose=12.0, kobj=1.0, label_smoothing=0.0, nbs=64, hsv_h=0.015, hsv_s=0.7, hsv_v=0.4, degrees=0.0, translate=0.1, scale=0.5, shear=0.0, perspective=0.0, flipud=0.0, fliplr=0.5, bgr=0.0, mosaic=1.0, mixup=0.0, copy_paste=0.0, copy_paste_mode=flip, auto_augment=randaugment, erasing=0.4, crop_fraction=1.0, cfg=None, tracker=botsort.yaml, save_dir=/data/mtmoore/school/CSiML_AI395T/final_project/models/yolo11/iterative/11n_720imgsz_IP8M-H-SW-14epochs\n",
      "Overriding model.yaml nc=80 with nc=1\n",
      "\n",
      "                   from  n    params  module                                       arguments                     \n",
      "  0                  -1  1       464  ultralytics.nn.modules.conv.Conv             [3, 16, 3, 2]                 \n",
      "  1                  -1  1      4672  ultralytics.nn.modules.conv.Conv             [16, 32, 3, 2]                \n",
      "  2                  -1  1      6640  ultralytics.nn.modules.block.C3k2            [32, 64, 1, False, 0.25]      \n",
      "  3                  -1  1     36992  ultralytics.nn.modules.conv.Conv             [64, 64, 3, 2]                \n",
      "  4                  -1  1     26080  ultralytics.nn.modules.block.C3k2            [64, 128, 1, False, 0.25]     \n",
      "  5                  -1  1    147712  ultralytics.nn.modules.conv.Conv             [128, 128, 3, 2]              \n",
      "  6                  -1  1     87040  ultralytics.nn.modules.block.C3k2            [128, 128, 1, True]           \n",
      "  7                  -1  1    295424  ultralytics.nn.modules.conv.Conv             [128, 256, 3, 2]              \n",
      "  8                  -1  1    346112  ultralytics.nn.modules.block.C3k2            [256, 256, 1, True]           \n",
      "  9                  -1  1    164608  ultralytics.nn.modules.block.SPPF            [256, 256, 5]                 \n",
      " 10                  -1  1    249728  ultralytics.nn.modules.block.C2PSA           [256, 256, 1]                 \n",
      " 11                  -1  1         0  torch.nn.modules.upsampling.Upsample         [None, 2, 'nearest']          \n",
      " 12             [-1, 6]  1         0  ultralytics.nn.modules.conv.Concat           [1]                           \n",
      " 13                  -1  1    111296  ultralytics.nn.modules.block.C3k2            [384, 128, 1, False]          \n",
      " 14                  -1  1         0  torch.nn.modules.upsampling.Upsample         [None, 2, 'nearest']          \n",
      " 15             [-1, 4]  1         0  ultralytics.nn.modules.conv.Concat           [1]                           \n",
      " 16                  -1  1     32096  ultralytics.nn.modules.block.C3k2            [256, 64, 1, False]           \n",
      " 17                  -1  1     36992  ultralytics.nn.modules.conv.Conv             [64, 64, 3, 2]                \n",
      " 18            [-1, 13]  1         0  ultralytics.nn.modules.conv.Concat           [1]                           \n",
      " 19                  -1  1     86720  ultralytics.nn.modules.block.C3k2            [192, 128, 1, False]          \n",
      " 20                  -1  1    147712  ultralytics.nn.modules.conv.Conv             [128, 128, 3, 2]              \n",
      " 21            [-1, 10]  1         0  ultralytics.nn.modules.conv.Concat           [1]                           \n",
      " 22                  -1  1    378880  ultralytics.nn.modules.block.C3k2            [384, 256, 1, True]           \n",
      " 23        [16, 19, 22]  1    430867  ultralytics.nn.modules.head.Detect           [1, [64, 128, 256]]           \n",
      "YOLO11n summary: 319 layers, 2,590,035 parameters, 2,590,019 gradients, 6.4 GFLOPs\n",
      "\n",
      "Transferred 448/499 items from pretrained weights\n",
      "Freezing layer 'model.23.dfl.conv.weight'\n",
      "\u001b[34m\u001b[1mAMP: \u001b[0mrunning Automatic Mixed Precision (AMP) checks...\n",
      "\u001b[34m\u001b[1mAMP: \u001b[0mchecks passed ✅\n",
      "WARNING ⚠️ imgsz=[720] must be multiple of max stride 32, updating to [736]\n"
     ]
    },
    {
     "name": "stderr",
     "output_type": "stream",
     "text": [
      "\u001b[34m\u001b[1mtrain: \u001b[0mScanning train/labels.cache... 388 images, 0 backgrounds, 0 corrupt: 100%|██████████| 388/388 [00:00<?, ?it/s]\u001b[0m"
     ]
    },
    {
     "name": "stdout",
     "output_type": "stream",
     "text": [
      "\u001b[34m\u001b[1mtrain: \u001b[0mWARNING ⚠️ train/images/IP8M-H-SW_2024-10-24_deer_00000111.png: 1 duplicate labels removed\n",
      "\u001b[34m\u001b[1mtrain: \u001b[0mWARNING ⚠️ train/images/IP8M-H-SW_2024-10-24_deer_00000112.png: 1 duplicate labels removed\n"
     ]
    },
    {
     "name": "stderr",
     "output_type": "stream",
     "text": [
      "\n",
      "\u001b[34m\u001b[1mval: \u001b[0mScanning val/labels.cache... 98 images, 0 backgrounds, 0 corrupt: 100%|██████████| 98/98 [00:00<?, ?it/s]\u001b[0m\n"
     ]
    },
    {
     "name": "stdout",
     "output_type": "stream",
     "text": [
      "Plotting labels to /data/mtmoore/school/CSiML_AI395T/final_project/models/yolo11/iterative/11n_720imgsz_IP8M-H-SW-14epochs/labels.jpg... \n",
      "\u001b[34m\u001b[1moptimizer:\u001b[0m 'optimizer=auto' found, ignoring 'lr0=0.01' and 'momentum=0.937' and determining best 'optimizer', 'lr0' and 'momentum' automatically... \n",
      "\u001b[34m\u001b[1moptimizer:\u001b[0m AdamW(lr=0.002, momentum=0.9) with parameter groups 81 weight(decay=0.0), 88 weight(decay=0.0005), 87 bias(decay=0.0)\n",
      "Image sizes 736 train, 736 val\n",
      "Using 8 dataloader workers\n",
      "Logging results to \u001b[1m/data/mtmoore/school/CSiML_AI395T/final_project/models/yolo11/iterative/11n_720imgsz_IP8M-H-SW-14epochs\u001b[0m\n",
      "Starting training for 14 epochs...\n",
      "\n",
      "      Epoch    GPU_mem   box_loss   cls_loss   dfl_loss  Instances       Size\n"
     ]
    },
    {
     "name": "stderr",
     "output_type": "stream",
     "text": [
      "       1/14      3.11G       3.21      108.3     0.8292         13        736: 100%|██████████| 25/25 [00:05<00:00,  4.34it/s]\n",
      "                 Class     Images  Instances      Box(P          R      mAP50  mAP50-95): 100%|██████████| 4/4 [00:00<00:00,  8.28it/s]"
     ]
    },
    {
     "name": "stdout",
     "output_type": "stream",
     "text": [
      "                   all         98        205          0          0          0          0\n"
     ]
    },
    {
     "name": "stderr",
     "output_type": "stream",
     "text": [
      "\n"
     ]
    },
    {
     "name": "stdout",
     "output_type": "stream",
     "text": [
      "\n",
      "      Epoch    GPU_mem   box_loss   cls_loss   dfl_loss  Instances       Size\n"
     ]
    },
    {
     "name": "stderr",
     "output_type": "stream",
     "text": [
      "       2/14      2.96G      4.119      24.54     0.9483          7        736: 100%|██████████| 25/25 [00:09<00:00,  2.59it/s]\n",
      "                 Class     Images  Instances      Box(P          R      mAP50  mAP50-95): 100%|██████████| 4/4 [00:00<00:00,  7.49it/s]"
     ]
    },
    {
     "name": "stdout",
     "output_type": "stream",
     "text": [
      "                   all         98        205          0          0          0          0\n"
     ]
    },
    {
     "name": "stderr",
     "output_type": "stream",
     "text": [
      "\n"
     ]
    },
    {
     "name": "stdout",
     "output_type": "stream",
     "text": [
      "\n",
      "      Epoch    GPU_mem   box_loss   cls_loss   dfl_loss  Instances       Size\n"
     ]
    },
    {
     "name": "stderr",
     "output_type": "stream",
     "text": [
      "       3/14      2.97G      4.117      20.67     0.9327          9        736: 100%|██████████| 25/25 [00:08<00:00,  3.01it/s]\n",
      "                 Class     Images  Instances      Box(P          R      mAP50  mAP50-95): 100%|██████████| 4/4 [00:00<00:00,  7.67it/s]"
     ]
    },
    {
     "name": "stdout",
     "output_type": "stream",
     "text": [
      "                   all         98        205   0.000442     0.0634   0.000249   0.000103\n"
     ]
    },
    {
     "name": "stderr",
     "output_type": "stream",
     "text": [
      "\n"
     ]
    },
    {
     "name": "stdout",
     "output_type": "stream",
     "text": [
      "\n",
      "      Epoch    GPU_mem   box_loss   cls_loss   dfl_loss  Instances       Size\n"
     ]
    },
    {
     "name": "stderr",
     "output_type": "stream",
     "text": [
      "       4/14      2.97G      3.933      15.84     0.9183          8        736: 100%|██████████| 25/25 [00:06<00:00,  3.79it/s]\n",
      "                 Class     Images  Instances      Box(P          R      mAP50  mAP50-95): 100%|██████████| 4/4 [00:00<00:00,  7.59it/s]"
     ]
    },
    {
     "name": "stdout",
     "output_type": "stream",
     "text": [
      "                   all         98        205   0.000374     0.0537   0.000209   7.04e-05\n"
     ]
    },
    {
     "name": "stderr",
     "output_type": "stream",
     "text": [
      "\n"
     ]
    },
    {
     "name": "stdout",
     "output_type": "stream",
     "text": [
      "Closing dataloader mosaic\n",
      "\n",
      "      Epoch    GPU_mem   box_loss   cls_loss   dfl_loss  Instances       Size\n"
     ]
    },
    {
     "name": "stderr",
     "output_type": "stream",
     "text": [
      "       5/14      3.11G      3.632      15.41     0.9103         11        736: 100%|██████████| 25/25 [00:09<00:00,  2.65it/s]\n",
      "                 Class     Images  Instances      Box(P          R      mAP50  mAP50-95): 100%|██████████| 4/4 [00:00<00:00,  6.92it/s]"
     ]
    },
    {
     "name": "stdout",
     "output_type": "stream",
     "text": [
      "                   all         98        205      0.806     0.0585      0.116     0.0273\n"
     ]
    },
    {
     "name": "stderr",
     "output_type": "stream",
     "text": [
      "\n"
     ]
    },
    {
     "name": "stdout",
     "output_type": "stream",
     "text": [
      "\n",
      "      Epoch    GPU_mem   box_loss   cls_loss   dfl_loss  Instances       Size\n"
     ]
    },
    {
     "name": "stderr",
     "output_type": "stream",
     "text": [
      "       6/14      2.97G      3.497       13.2     0.9239          5        736: 100%|██████████| 25/25 [00:08<00:00,  3.06it/s]\n",
      "                 Class     Images  Instances      Box(P          R      mAP50  mAP50-95): 100%|██████████| 4/4 [00:00<00:00,  8.14it/s]\n"
     ]
    },
    {
     "name": "stdout",
     "output_type": "stream",
     "text": [
      "                   all         98        205       0.27      0.117     0.0476    0.00776\n",
      "\n",
      "      Epoch    GPU_mem   box_loss   cls_loss   dfl_loss  Instances       Size\n"
     ]
    },
    {
     "name": "stderr",
     "output_type": "stream",
     "text": [
      "       7/14      2.97G      3.525      13.19     0.9206          4        736: 100%|██████████| 25/25 [00:07<00:00,  3.21it/s]\n",
      "                 Class     Images  Instances      Box(P          R      mAP50  mAP50-95): 100%|██████████| 4/4 [00:00<00:00,  7.45it/s]"
     ]
    },
    {
     "name": "stdout",
     "output_type": "stream",
     "text": [
      "                   all         98        205      0.461     0.0878     0.0488      0.013\n"
     ]
    },
    {
     "name": "stderr",
     "output_type": "stream",
     "text": [
      "\n"
     ]
    },
    {
     "name": "stdout",
     "output_type": "stream",
     "text": [
      "\n",
      "      Epoch    GPU_mem   box_loss   cls_loss   dfl_loss  Instances       Size\n"
     ]
    },
    {
     "name": "stderr",
     "output_type": "stream",
     "text": [
      "       8/14      2.97G      3.386      10.93     0.9216         14        736: 100%|██████████| 25/25 [00:08<00:00,  2.97it/s]\n",
      "                 Class     Images  Instances      Box(P          R      mAP50  mAP50-95): 100%|██████████| 4/4 [00:00<00:00,  7.65it/s]\n"
     ]
    },
    {
     "name": "stdout",
     "output_type": "stream",
     "text": [
      "                   all         98        205      0.672     0.0802      0.105     0.0231\n",
      "\n",
      "      Epoch    GPU_mem   box_loss   cls_loss   dfl_loss  Instances       Size\n"
     ]
    },
    {
     "name": "stderr",
     "output_type": "stream",
     "text": [
      "       9/14      2.96G      3.479      11.07     0.9051          8        736: 100%|██████████| 25/25 [00:07<00:00,  3.33it/s]\n",
      "                 Class     Images  Instances      Box(P          R      mAP50  mAP50-95): 100%|██████████| 4/4 [00:00<00:00,  7.92it/s]"
     ]
    },
    {
     "name": "stdout",
     "output_type": "stream",
     "text": [
      "                   all         98        205      0.854     0.0976      0.152     0.0305\n"
     ]
    },
    {
     "name": "stderr",
     "output_type": "stream",
     "text": [
      "\n"
     ]
    },
    {
     "name": "stdout",
     "output_type": "stream",
     "text": [
      "\n",
      "      Epoch    GPU_mem   box_loss   cls_loss   dfl_loss  Instances       Size\n"
     ]
    },
    {
     "name": "stderr",
     "output_type": "stream",
     "text": [
      "      10/14      2.97G      3.065       8.77     0.8866          4        736: 100%|██████████| 25/25 [00:05<00:00,  4.33it/s]\n",
      "                 Class     Images  Instances      Box(P          R      mAP50  mAP50-95): 100%|██████████| 4/4 [00:00<00:00,  8.35it/s]"
     ]
    },
    {
     "name": "stdout",
     "output_type": "stream",
     "text": [
      "                   all         98        205      0.759      0.108      0.144     0.0321\n"
     ]
    },
    {
     "name": "stderr",
     "output_type": "stream",
     "text": [
      "\n"
     ]
    },
    {
     "name": "stdout",
     "output_type": "stream",
     "text": [
      "\n",
      "      Epoch    GPU_mem   box_loss   cls_loss   dfl_loss  Instances       Size\n"
     ]
    },
    {
     "name": "stderr",
     "output_type": "stream",
     "text": [
      "      11/14      2.97G      3.274      9.544     0.9134          6        736: 100%|██████████| 25/25 [00:07<00:00,  3.50it/s]\n",
      "                 Class     Images  Instances      Box(P          R      mAP50  mAP50-95): 100%|██████████| 4/4 [00:00<00:00,  7.50it/s]"
     ]
    },
    {
     "name": "stdout",
     "output_type": "stream",
     "text": [
      "                   all         98        205      0.611      0.123      0.115     0.0205\n"
     ]
    },
    {
     "name": "stderr",
     "output_type": "stream",
     "text": [
      "\n"
     ]
    },
    {
     "name": "stdout",
     "output_type": "stream",
     "text": [
      "\n",
      "      Epoch    GPU_mem   box_loss   cls_loss   dfl_loss  Instances       Size\n"
     ]
    },
    {
     "name": "stderr",
     "output_type": "stream",
     "text": [
      "      12/14      2.97G      3.226       9.05     0.8982          5        736: 100%|██████████| 25/25 [00:07<00:00,  3.52it/s]\n",
      "                 Class     Images  Instances      Box(P          R      mAP50  mAP50-95): 100%|██████████| 4/4 [00:00<00:00,  5.40it/s]"
     ]
    },
    {
     "name": "stdout",
     "output_type": "stream",
     "text": [
      "                   all         98        205      0.854      0.171      0.188      0.043\n"
     ]
    },
    {
     "name": "stderr",
     "output_type": "stream",
     "text": [
      "\n"
     ]
    },
    {
     "name": "stdout",
     "output_type": "stream",
     "text": [
      "\n",
      "      Epoch    GPU_mem   box_loss   cls_loss   dfl_loss  Instances       Size\n"
     ]
    },
    {
     "name": "stderr",
     "output_type": "stream",
     "text": [
      "      13/14      2.96G      3.156      8.257     0.8881          6        736: 100%|██████████| 25/25 [00:07<00:00,  3.39it/s]\n",
      "                 Class     Images  Instances      Box(P          R      mAP50  mAP50-95): 100%|██████████| 4/4 [00:00<00:00,  7.85it/s]"
     ]
    },
    {
     "name": "stdout",
     "output_type": "stream",
     "text": [
      "                   all         98        205      0.904      0.185      0.204     0.0475\n"
     ]
    },
    {
     "name": "stderr",
     "output_type": "stream",
     "text": [
      "\n"
     ]
    },
    {
     "name": "stdout",
     "output_type": "stream",
     "text": [
      "\n",
      "      Epoch    GPU_mem   box_loss   cls_loss   dfl_loss  Instances       Size\n"
     ]
    },
    {
     "name": "stderr",
     "output_type": "stream",
     "text": [
      "      14/14      2.97G      2.983      8.321     0.8539          5        736: 100%|██████████| 25/25 [00:07<00:00,  3.57it/s]\n",
      "                 Class     Images  Instances      Box(P          R      mAP50  mAP50-95): 100%|██████████| 4/4 [00:00<00:00,  7.65it/s]\n"
     ]
    },
    {
     "name": "stdout",
     "output_type": "stream",
     "text": [
      "                   all         98        205      0.889       0.18      0.204     0.0575\n",
      "\n",
      "14 epochs completed in 0.036 hours.\n",
      "Optimizer stripped from /data/mtmoore/school/CSiML_AI395T/final_project/models/yolo11/iterative/11n_720imgsz_IP8M-H-SW-14epochs/weights/last.pt, 5.5MB\n",
      "Optimizer stripped from /data/mtmoore/school/CSiML_AI395T/final_project/models/yolo11/iterative/11n_720imgsz_IP8M-H-SW-14epochs/weights/best.pt, 5.5MB\n",
      "\n",
      "Validating /data/mtmoore/school/CSiML_AI395T/final_project/models/yolo11/iterative/11n_720imgsz_IP8M-H-SW-14epochs/weights/best.pt...\n",
      "Ultralytics 8.3.29 🚀 Python-3.12.7 torch-2.2.2+cu121 CUDA:0 (NVIDIA GeForce RTX 4070 SUPER, 11904MiB)\n",
      "YOLO11n summary (fused): 238 layers, 2,582,347 parameters, 0 gradients, 6.3 GFLOPs\n"
     ]
    },
    {
     "name": "stderr",
     "output_type": "stream",
     "text": [
      "                 Class     Images  Instances      Box(P          R      mAP50  mAP50-95): 100%|██████████| 4/4 [00:00<00:00,  8.42it/s]\n"
     ]
    },
    {
     "name": "stdout",
     "output_type": "stream",
     "text": [
      "                   all         98        205      0.914      0.185      0.209     0.0562\n",
      "Speed: 0.1ms preprocess, 0.7ms inference, 0.0ms loss, 1.3ms postprocess per image\n",
      "Results saved to \u001b[1m/data/mtmoore/school/CSiML_AI395T/final_project/models/yolo11/iterative/11n_720imgsz_IP8M-H-SW-14epochs\u001b[0m\n",
      "New https://pypi.org/project/ultralytics/8.3.31 available 😃 Update with 'pip install -U ultralytics'\n",
      "Ultralytics 8.3.29 🚀 Python-3.12.7 torch-2.2.2+cu121 CUDA:0 (NVIDIA GeForce RTX 4070 SUPER, 11904MiB)\n",
      "\u001b[34m\u001b[1mengine/trainer: \u001b[0mtask=detect, mode=train, model=yolo11n.pt, data=/data/mtmoore/school/CSiML_AI395T/final_project/dataset/yolov8_dataset/data.yaml, epochs=15, time=None, patience=100, batch=16, imgsz=720, save=True, save_period=-1, cache=False, device=None, workers=8, project=/data/mtmoore/school/CSiML_AI395T/final_project/models/yolo11/iterative, name=11n_720imgsz_IP8M-H-SW-15epochs, exist_ok=False, pretrained=True, optimizer=auto, verbose=True, seed=0, deterministic=True, single_cls=False, rect=False, cos_lr=False, close_mosaic=10, resume=False, amp=True, fraction=1.0, profile=False, freeze=None, multi_scale=False, overlap_mask=True, mask_ratio=4, dropout=0.0, val=True, split=val, save_json=False, save_hybrid=False, conf=None, iou=0.7, max_det=300, half=False, dnn=False, plots=True, source=None, vid_stride=1, stream_buffer=False, visualize=False, augment=False, agnostic_nms=False, classes=None, retina_masks=False, embed=None, show=False, save_frames=False, save_txt=False, save_conf=False, save_crop=False, show_labels=True, show_conf=True, show_boxes=True, line_width=None, format=torchscript, keras=False, optimize=False, int8=False, dynamic=False, simplify=True, opset=None, workspace=4, nms=False, lr0=0.01, lrf=0.01, momentum=0.937, weight_decay=0.0005, warmup_epochs=3.0, warmup_momentum=0.8, warmup_bias_lr=0.1, box=7.5, cls=0.5, dfl=1.5, pose=12.0, kobj=1.0, label_smoothing=0.0, nbs=64, hsv_h=0.015, hsv_s=0.7, hsv_v=0.4, degrees=0.0, translate=0.1, scale=0.5, shear=0.0, perspective=0.0, flipud=0.0, fliplr=0.5, bgr=0.0, mosaic=1.0, mixup=0.0, copy_paste=0.0, copy_paste_mode=flip, auto_augment=randaugment, erasing=0.4, crop_fraction=1.0, cfg=None, tracker=botsort.yaml, save_dir=/data/mtmoore/school/CSiML_AI395T/final_project/models/yolo11/iterative/11n_720imgsz_IP8M-H-SW-15epochs\n",
      "Overriding model.yaml nc=80 with nc=1\n",
      "\n",
      "                   from  n    params  module                                       arguments                     \n",
      "  0                  -1  1       464  ultralytics.nn.modules.conv.Conv             [3, 16, 3, 2]                 \n",
      "  1                  -1  1      4672  ultralytics.nn.modules.conv.Conv             [16, 32, 3, 2]                \n",
      "  2                  -1  1      6640  ultralytics.nn.modules.block.C3k2            [32, 64, 1, False, 0.25]      \n",
      "  3                  -1  1     36992  ultralytics.nn.modules.conv.Conv             [64, 64, 3, 2]                \n",
      "  4                  -1  1     26080  ultralytics.nn.modules.block.C3k2            [64, 128, 1, False, 0.25]     \n",
      "  5                  -1  1    147712  ultralytics.nn.modules.conv.Conv             [128, 128, 3, 2]              \n",
      "  6                  -1  1     87040  ultralytics.nn.modules.block.C3k2            [128, 128, 1, True]           \n",
      "  7                  -1  1    295424  ultralytics.nn.modules.conv.Conv             [128, 256, 3, 2]              \n",
      "  8                  -1  1    346112  ultralytics.nn.modules.block.C3k2            [256, 256, 1, True]           \n",
      "  9                  -1  1    164608  ultralytics.nn.modules.block.SPPF            [256, 256, 5]                 \n",
      " 10                  -1  1    249728  ultralytics.nn.modules.block.C2PSA           [256, 256, 1]                 \n",
      " 11                  -1  1         0  torch.nn.modules.upsampling.Upsample         [None, 2, 'nearest']          \n",
      " 12             [-1, 6]  1         0  ultralytics.nn.modules.conv.Concat           [1]                           \n",
      " 13                  -1  1    111296  ultralytics.nn.modules.block.C3k2            [384, 128, 1, False]          \n",
      " 14                  -1  1         0  torch.nn.modules.upsampling.Upsample         [None, 2, 'nearest']          \n",
      " 15             [-1, 4]  1         0  ultralytics.nn.modules.conv.Concat           [1]                           \n",
      " 16                  -1  1     32096  ultralytics.nn.modules.block.C3k2            [256, 64, 1, False]           \n",
      " 17                  -1  1     36992  ultralytics.nn.modules.conv.Conv             [64, 64, 3, 2]                \n",
      " 18            [-1, 13]  1         0  ultralytics.nn.modules.conv.Concat           [1]                           \n",
      " 19                  -1  1     86720  ultralytics.nn.modules.block.C3k2            [192, 128, 1, False]          \n",
      " 20                  -1  1    147712  ultralytics.nn.modules.conv.Conv             [128, 128, 3, 2]              \n",
      " 21            [-1, 10]  1         0  ultralytics.nn.modules.conv.Concat           [1]                           \n",
      " 22                  -1  1    378880  ultralytics.nn.modules.block.C3k2            [384, 256, 1, True]           \n",
      " 23        [16, 19, 22]  1    430867  ultralytics.nn.modules.head.Detect           [1, [64, 128, 256]]           \n",
      "YOLO11n summary: 319 layers, 2,590,035 parameters, 2,590,019 gradients, 6.4 GFLOPs\n",
      "\n",
      "Transferred 448/499 items from pretrained weights\n",
      "Freezing layer 'model.23.dfl.conv.weight'\n",
      "\u001b[34m\u001b[1mAMP: \u001b[0mrunning Automatic Mixed Precision (AMP) checks...\n",
      "\u001b[34m\u001b[1mAMP: \u001b[0mchecks passed ✅\n",
      "WARNING ⚠️ imgsz=[720] must be multiple of max stride 32, updating to [736]\n"
     ]
    },
    {
     "name": "stderr",
     "output_type": "stream",
     "text": [
      "\u001b[34m\u001b[1mtrain: \u001b[0mScanning train/labels.cache... 388 images, 0 backgrounds, 0 corrupt: 100%|██████████| 388/388 [00:00<?, ?it/s]\u001b[0m"
     ]
    },
    {
     "name": "stdout",
     "output_type": "stream",
     "text": [
      "\u001b[34m\u001b[1mtrain: \u001b[0mWARNING ⚠️ train/images/IP8M-H-SW_2024-10-24_deer_00000111.png: 1 duplicate labels removed\n",
      "\u001b[34m\u001b[1mtrain: \u001b[0mWARNING ⚠️ train/images/IP8M-H-SW_2024-10-24_deer_00000112.png: 1 duplicate labels removed\n"
     ]
    },
    {
     "name": "stderr",
     "output_type": "stream",
     "text": [
      "\n",
      "\u001b[34m\u001b[1mval: \u001b[0mScanning val/labels.cache... 98 images, 0 backgrounds, 0 corrupt: 100%|██████████| 98/98 [00:00<?, ?it/s]\u001b[0m\n"
     ]
    },
    {
     "name": "stdout",
     "output_type": "stream",
     "text": [
      "Plotting labels to /data/mtmoore/school/CSiML_AI395T/final_project/models/yolo11/iterative/11n_720imgsz_IP8M-H-SW-15epochs/labels.jpg... \n",
      "\u001b[34m\u001b[1moptimizer:\u001b[0m 'optimizer=auto' found, ignoring 'lr0=0.01' and 'momentum=0.937' and determining best 'optimizer', 'lr0' and 'momentum' automatically... \n",
      "\u001b[34m\u001b[1moptimizer:\u001b[0m AdamW(lr=0.002, momentum=0.9) with parameter groups 81 weight(decay=0.0), 88 weight(decay=0.0005), 87 bias(decay=0.0)\n",
      "Image sizes 736 train, 736 val\n",
      "Using 8 dataloader workers\n",
      "Logging results to \u001b[1m/data/mtmoore/school/CSiML_AI395T/final_project/models/yolo11/iterative/11n_720imgsz_IP8M-H-SW-15epochs\u001b[0m\n",
      "Starting training for 15 epochs...\n",
      "\n",
      "      Epoch    GPU_mem   box_loss   cls_loss   dfl_loss  Instances       Size\n"
     ]
    },
    {
     "name": "stderr",
     "output_type": "stream",
     "text": [
      "       1/15      3.18G       3.21      108.3     0.8292         13        736: 100%|██████████| 25/25 [00:06<00:00,  4.12it/s]\n",
      "                 Class     Images  Instances      Box(P          R      mAP50  mAP50-95): 100%|██████████| 4/4 [00:00<00:00,  7.63it/s]"
     ]
    },
    {
     "name": "stdout",
     "output_type": "stream",
     "text": [
      "                   all         98        205          0          0          0          0\n"
     ]
    },
    {
     "name": "stderr",
     "output_type": "stream",
     "text": [
      "\n"
     ]
    },
    {
     "name": "stdout",
     "output_type": "stream",
     "text": [
      "\n",
      "      Epoch    GPU_mem   box_loss   cls_loss   dfl_loss  Instances       Size\n"
     ]
    },
    {
     "name": "stderr",
     "output_type": "stream",
     "text": [
      "       2/15      2.96G      4.059      24.08     0.9502          7        736: 100%|██████████| 25/25 [00:09<00:00,  2.77it/s]\n",
      "                 Class     Images  Instances      Box(P          R      mAP50  mAP50-95): 100%|██████████| 4/4 [00:00<00:00,  8.00it/s]"
     ]
    },
    {
     "name": "stdout",
     "output_type": "stream",
     "text": [
      "                   all         98        205          0          0          0          0\n"
     ]
    },
    {
     "name": "stderr",
     "output_type": "stream",
     "text": [
      "\n"
     ]
    },
    {
     "name": "stdout",
     "output_type": "stream",
     "text": [
      "\n",
      "      Epoch    GPU_mem   box_loss   cls_loss   dfl_loss  Instances       Size\n"
     ]
    },
    {
     "name": "stderr",
     "output_type": "stream",
     "text": [
      "       3/15      2.97G      4.081      20.59     0.9342          9        736: 100%|██████████| 25/25 [00:08<00:00,  3.04it/s]\n",
      "                 Class     Images  Instances      Box(P          R      mAP50  mAP50-95): 100%|██████████| 4/4 [00:00<00:00,  6.58it/s]"
     ]
    },
    {
     "name": "stdout",
     "output_type": "stream",
     "text": [
      "                   all         98        205          0          0          0          0\n"
     ]
    },
    {
     "name": "stderr",
     "output_type": "stream",
     "text": [
      "\n"
     ]
    },
    {
     "name": "stdout",
     "output_type": "stream",
     "text": [
      "\n",
      "      Epoch    GPU_mem   box_loss   cls_loss   dfl_loss  Instances       Size\n"
     ]
    },
    {
     "name": "stderr",
     "output_type": "stream",
     "text": [
      "       4/15      2.97G      3.977      15.78     0.9067          8        736: 100%|██████████| 25/25 [00:06<00:00,  3.65it/s]\n",
      "                 Class     Images  Instances      Box(P          R      mAP50  mAP50-95): 100%|██████████| 4/4 [00:00<00:00,  6.41it/s]"
     ]
    },
    {
     "name": "stdout",
     "output_type": "stream",
     "text": [
      "                   all         98        205          0          0          0          0\n"
     ]
    },
    {
     "name": "stderr",
     "output_type": "stream",
     "text": [
      "\n"
     ]
    },
    {
     "name": "stdout",
     "output_type": "stream",
     "text": [
      "\n",
      "      Epoch    GPU_mem   box_loss   cls_loss   dfl_loss  Instances       Size\n"
     ]
    },
    {
     "name": "stderr",
     "output_type": "stream",
     "text": [
      "       5/15      2.96G      3.827       12.4     0.8942         11        736: 100%|██████████| 25/25 [00:06<00:00,  3.58it/s]\n",
      "                 Class     Images  Instances      Box(P          R      mAP50  mAP50-95): 100%|██████████| 4/4 [00:00<00:00,  7.66it/s]"
     ]
    },
    {
     "name": "stdout",
     "output_type": "stream",
     "text": [
      "                   all         98        205   0.000476     0.0683   0.000264   8.12e-05\n"
     ]
    },
    {
     "name": "stderr",
     "output_type": "stream",
     "text": [
      "\n"
     ]
    },
    {
     "name": "stdout",
     "output_type": "stream",
     "text": [
      "Closing dataloader mosaic\n",
      "\n",
      "      Epoch    GPU_mem   box_loss   cls_loss   dfl_loss  Instances       Size\n"
     ]
    },
    {
     "name": "stderr",
     "output_type": "stream",
     "text": [
      "       6/15      3.08G      3.583      14.04     0.9129          7        736: 100%|██████████| 25/25 [00:10<00:00,  2.29it/s]\n",
      "                 Class     Images  Instances      Box(P          R      mAP50  mAP50-95): 100%|██████████| 4/4 [00:00<00:00,  7.26it/s]"
     ]
    },
    {
     "name": "stdout",
     "output_type": "stream",
     "text": [
      "                   all         98        205   0.000102     0.0146   5.62e-05   1.12e-05\n"
     ]
    },
    {
     "name": "stderr",
     "output_type": "stream",
     "text": [
      "\n"
     ]
    },
    {
     "name": "stdout",
     "output_type": "stream",
     "text": [
      "\n",
      "      Epoch    GPU_mem   box_loss   cls_loss   dfl_loss  Instances       Size\n"
     ]
    },
    {
     "name": "stderr",
     "output_type": "stream",
     "text": [
      "       7/15      2.97G      3.662      11.86     0.9155          5        736: 100%|██████████| 25/25 [00:08<00:00,  3.05it/s]\n",
      "                 Class     Images  Instances      Box(P          R      mAP50  mAP50-95): 100%|██████████| 4/4 [00:00<00:00,  8.03it/s]"
     ]
    },
    {
     "name": "stdout",
     "output_type": "stream",
     "text": [
      "                   all         98        205    3.4e-05    0.00488   1.72e-05   3.44e-06\n"
     ]
    },
    {
     "name": "stderr",
     "output_type": "stream",
     "text": [
      "\n"
     ]
    },
    {
     "name": "stdout",
     "output_type": "stream",
     "text": [
      "\n",
      "      Epoch    GPU_mem   box_loss   cls_loss   dfl_loss  Instances       Size\n"
     ]
    },
    {
     "name": "stderr",
     "output_type": "stream",
     "text": [
      "       8/15      2.97G      3.626      11.01     0.9012         14        736: 100%|██████████| 25/25 [00:07<00:00,  3.37it/s]\n",
      "                 Class     Images  Instances      Box(P          R      mAP50  mAP50-95): 100%|██████████| 4/4 [00:00<00:00,  7.82it/s]"
     ]
    },
    {
     "name": "stdout",
     "output_type": "stream",
     "text": [
      "                   all         98        205      0.741      0.028     0.0586     0.0138\n"
     ]
    },
    {
     "name": "stderr",
     "output_type": "stream",
     "text": [
      "\n"
     ]
    },
    {
     "name": "stdout",
     "output_type": "stream",
     "text": [
      "\n",
      "      Epoch    GPU_mem   box_loss   cls_loss   dfl_loss  Instances       Size\n"
     ]
    },
    {
     "name": "stderr",
     "output_type": "stream",
     "text": [
      "       9/15      2.96G      3.628      10.79     0.9172          8        736: 100%|██████████| 25/25 [00:07<00:00,  3.42it/s]\n",
      "                 Class     Images  Instances      Box(P          R      mAP50  mAP50-95): 100%|██████████| 4/4 [00:00<00:00,  7.35it/s]"
     ]
    },
    {
     "name": "stdout",
     "output_type": "stream",
     "text": [
      "                   all         98        205    0.00813     0.0585    0.00197   0.000482\n"
     ]
    },
    {
     "name": "stderr",
     "output_type": "stream",
     "text": [
      "\n"
     ]
    },
    {
     "name": "stdout",
     "output_type": "stream",
     "text": [
      "\n",
      "      Epoch    GPU_mem   box_loss   cls_loss   dfl_loss  Instances       Size\n"
     ]
    },
    {
     "name": "stderr",
     "output_type": "stream",
     "text": [
      "      10/15      2.97G      3.493      9.102     0.8848          4        736: 100%|██████████| 25/25 [00:08<00:00,  3.11it/s]\n",
      "                 Class     Images  Instances      Box(P          R      mAP50  mAP50-95): 100%|██████████| 4/4 [00:00<00:00,  7.98it/s]"
     ]
    },
    {
     "name": "stdout",
     "output_type": "stream",
     "text": [
      "                   all         98        205   0.000217     0.0293   0.000298   7.06e-05\n"
     ]
    },
    {
     "name": "stderr",
     "output_type": "stream",
     "text": [
      "\n"
     ]
    },
    {
     "name": "stdout",
     "output_type": "stream",
     "text": [
      "\n",
      "      Epoch    GPU_mem   box_loss   cls_loss   dfl_loss  Instances       Size\n"
     ]
    },
    {
     "name": "stderr",
     "output_type": "stream",
     "text": [
      "      11/15      2.97G      3.478      8.335     0.8782          6        736: 100%|██████████| 25/25 [00:07<00:00,  3.51it/s]\n",
      "                 Class     Images  Instances      Box(P          R      mAP50  mAP50-95): 100%|██████████| 4/4 [00:00<00:00,  7.98it/s]\n"
     ]
    },
    {
     "name": "stdout",
     "output_type": "stream",
     "text": [
      "                   all         98        205   0.000209     0.0293   0.000531   7.93e-05\n",
      "\n",
      "      Epoch    GPU_mem   box_loss   cls_loss   dfl_loss  Instances       Size\n"
     ]
    },
    {
     "name": "stderr",
     "output_type": "stream",
     "text": [
      "      12/15      2.97G      3.248      7.786     0.8845          6        736: 100%|██████████| 25/25 [00:07<00:00,  3.52it/s]\n",
      "                 Class     Images  Instances      Box(P          R      mAP50  mAP50-95): 100%|██████████| 4/4 [00:00<00:00,  8.00it/s]\n"
     ]
    },
    {
     "name": "stdout",
     "output_type": "stream",
     "text": [
      "                   all         98        205     0.0745    0.00976       0.01      0.002\n",
      "\n",
      "      Epoch    GPU_mem   box_loss   cls_loss   dfl_loss  Instances       Size\n"
     ]
    },
    {
     "name": "stderr",
     "output_type": "stream",
     "text": [
      "      13/15      2.96G      3.403      7.584      0.877          6        736: 100%|██████████| 25/25 [00:08<00:00,  2.79it/s]\n",
      "                 Class     Images  Instances      Box(P          R      mAP50  mAP50-95): 100%|██████████| 4/4 [00:00<00:00,  7.97it/s]"
     ]
    },
    {
     "name": "stdout",
     "output_type": "stream",
     "text": [
      "                   all         98        205      0.701      0.171      0.166     0.0413\n"
     ]
    },
    {
     "name": "stderr",
     "output_type": "stream",
     "text": [
      "\n"
     ]
    },
    {
     "name": "stdout",
     "output_type": "stream",
     "text": [
      "\n",
      "      Epoch    GPU_mem   box_loss   cls_loss   dfl_loss  Instances       Size\n"
     ]
    },
    {
     "name": "stderr",
     "output_type": "stream",
     "text": [
      "      14/15      2.97G        3.3      7.646     0.8586          5        736: 100%|██████████| 25/25 [00:05<00:00,  4.57it/s]\n",
      "                 Class     Images  Instances      Box(P          R      mAP50  mAP50-95): 100%|██████████| 4/4 [00:00<00:00,  7.76it/s]"
     ]
    },
    {
     "name": "stdout",
     "output_type": "stream",
     "text": [
      "                   all         98        205      0.889        0.2      0.215     0.0524\n"
     ]
    },
    {
     "name": "stderr",
     "output_type": "stream",
     "text": [
      "\n"
     ]
    },
    {
     "name": "stdout",
     "output_type": "stream",
     "text": [
      "\n",
      "      Epoch    GPU_mem   box_loss   cls_loss   dfl_loss  Instances       Size\n"
     ]
    },
    {
     "name": "stderr",
     "output_type": "stream",
     "text": [
      "      15/15      2.97G      3.235      7.189     0.8616          8        736: 100%|██████████| 25/25 [00:08<00:00,  2.91it/s]\n",
      "                 Class     Images  Instances      Box(P          R      mAP50  mAP50-95): 100%|██████████| 4/4 [00:00<00:00,  7.79it/s]"
     ]
    },
    {
     "name": "stdout",
     "output_type": "stream",
     "text": [
      "                   all         98        205      0.911        0.2      0.219      0.052\n"
     ]
    },
    {
     "name": "stderr",
     "output_type": "stream",
     "text": [
      "\n"
     ]
    },
    {
     "name": "stdout",
     "output_type": "stream",
     "text": [
      "\n",
      "15 epochs completed in 0.039 hours.\n",
      "Optimizer stripped from /data/mtmoore/school/CSiML_AI395T/final_project/models/yolo11/iterative/11n_720imgsz_IP8M-H-SW-15epochs/weights/last.pt, 5.5MB\n",
      "Optimizer stripped from /data/mtmoore/school/CSiML_AI395T/final_project/models/yolo11/iterative/11n_720imgsz_IP8M-H-SW-15epochs/weights/best.pt, 5.5MB\n",
      "\n",
      "Validating /data/mtmoore/school/CSiML_AI395T/final_project/models/yolo11/iterative/11n_720imgsz_IP8M-H-SW-15epochs/weights/best.pt...\n",
      "Ultralytics 8.3.29 🚀 Python-3.12.7 torch-2.2.2+cu121 CUDA:0 (NVIDIA GeForce RTX 4070 SUPER, 11904MiB)\n",
      "YOLO11n summary (fused): 238 layers, 2,582,347 parameters, 0 gradients, 6.3 GFLOPs\n"
     ]
    },
    {
     "name": "stderr",
     "output_type": "stream",
     "text": [
      "                 Class     Images  Instances      Box(P          R      mAP50  mAP50-95): 100%|██████████| 4/4 [00:00<00:00,  5.76it/s]\n"
     ]
    },
    {
     "name": "stdout",
     "output_type": "stream",
     "text": [
      "                   all         98        205      0.911        0.2      0.219     0.0528\n",
      "Speed: 0.1ms preprocess, 1.5ms inference, 0.0ms loss, 1.3ms postprocess per image\n",
      "Results saved to \u001b[1m/data/mtmoore/school/CSiML_AI395T/final_project/models/yolo11/iterative/11n_720imgsz_IP8M-H-SW-15epochs\u001b[0m\n",
      "New https://pypi.org/project/ultralytics/8.3.31 available 😃 Update with 'pip install -U ultralytics'\n",
      "Ultralytics 8.3.29 🚀 Python-3.12.7 torch-2.2.2+cu121 CUDA:0 (NVIDIA GeForce RTX 4070 SUPER, 11904MiB)\n",
      "\u001b[34m\u001b[1mengine/trainer: \u001b[0mtask=detect, mode=train, model=yolo11n.pt, data=/data/mtmoore/school/CSiML_AI395T/final_project/dataset/yolov8_dataset/data.yaml, epochs=16, time=None, patience=100, batch=16, imgsz=720, save=True, save_period=-1, cache=False, device=None, workers=8, project=/data/mtmoore/school/CSiML_AI395T/final_project/models/yolo11/iterative, name=11n_720imgsz_IP8M-H-SW-16epochs, exist_ok=False, pretrained=True, optimizer=auto, verbose=True, seed=0, deterministic=True, single_cls=False, rect=False, cos_lr=False, close_mosaic=10, resume=False, amp=True, fraction=1.0, profile=False, freeze=None, multi_scale=False, overlap_mask=True, mask_ratio=4, dropout=0.0, val=True, split=val, save_json=False, save_hybrid=False, conf=None, iou=0.7, max_det=300, half=False, dnn=False, plots=True, source=None, vid_stride=1, stream_buffer=False, visualize=False, augment=False, agnostic_nms=False, classes=None, retina_masks=False, embed=None, show=False, save_frames=False, save_txt=False, save_conf=False, save_crop=False, show_labels=True, show_conf=True, show_boxes=True, line_width=None, format=torchscript, keras=False, optimize=False, int8=False, dynamic=False, simplify=True, opset=None, workspace=4, nms=False, lr0=0.01, lrf=0.01, momentum=0.937, weight_decay=0.0005, warmup_epochs=3.0, warmup_momentum=0.8, warmup_bias_lr=0.1, box=7.5, cls=0.5, dfl=1.5, pose=12.0, kobj=1.0, label_smoothing=0.0, nbs=64, hsv_h=0.015, hsv_s=0.7, hsv_v=0.4, degrees=0.0, translate=0.1, scale=0.5, shear=0.0, perspective=0.0, flipud=0.0, fliplr=0.5, bgr=0.0, mosaic=1.0, mixup=0.0, copy_paste=0.0, copy_paste_mode=flip, auto_augment=randaugment, erasing=0.4, crop_fraction=1.0, cfg=None, tracker=botsort.yaml, save_dir=/data/mtmoore/school/CSiML_AI395T/final_project/models/yolo11/iterative/11n_720imgsz_IP8M-H-SW-16epochs\n",
      "Overriding model.yaml nc=80 with nc=1\n",
      "\n",
      "                   from  n    params  module                                       arguments                     \n",
      "  0                  -1  1       464  ultralytics.nn.modules.conv.Conv             [3, 16, 3, 2]                 \n",
      "  1                  -1  1      4672  ultralytics.nn.modules.conv.Conv             [16, 32, 3, 2]                \n",
      "  2                  -1  1      6640  ultralytics.nn.modules.block.C3k2            [32, 64, 1, False, 0.25]      \n",
      "  3                  -1  1     36992  ultralytics.nn.modules.conv.Conv             [64, 64, 3, 2]                \n",
      "  4                  -1  1     26080  ultralytics.nn.modules.block.C3k2            [64, 128, 1, False, 0.25]     \n",
      "  5                  -1  1    147712  ultralytics.nn.modules.conv.Conv             [128, 128, 3, 2]              \n",
      "  6                  -1  1     87040  ultralytics.nn.modules.block.C3k2            [128, 128, 1, True]           \n",
      "  7                  -1  1    295424  ultralytics.nn.modules.conv.Conv             [128, 256, 3, 2]              \n",
      "  8                  -1  1    346112  ultralytics.nn.modules.block.C3k2            [256, 256, 1, True]           \n",
      "  9                  -1  1    164608  ultralytics.nn.modules.block.SPPF            [256, 256, 5]                 \n",
      " 10                  -1  1    249728  ultralytics.nn.modules.block.C2PSA           [256, 256, 1]                 \n",
      " 11                  -1  1         0  torch.nn.modules.upsampling.Upsample         [None, 2, 'nearest']          \n",
      " 12             [-1, 6]  1         0  ultralytics.nn.modules.conv.Concat           [1]                           \n",
      " 13                  -1  1    111296  ultralytics.nn.modules.block.C3k2            [384, 128, 1, False]          \n",
      " 14                  -1  1         0  torch.nn.modules.upsampling.Upsample         [None, 2, 'nearest']          \n",
      " 15             [-1, 4]  1         0  ultralytics.nn.modules.conv.Concat           [1]                           \n",
      " 16                  -1  1     32096  ultralytics.nn.modules.block.C3k2            [256, 64, 1, False]           \n",
      " 17                  -1  1     36992  ultralytics.nn.modules.conv.Conv             [64, 64, 3, 2]                \n",
      " 18            [-1, 13]  1         0  ultralytics.nn.modules.conv.Concat           [1]                           \n",
      " 19                  -1  1     86720  ultralytics.nn.modules.block.C3k2            [192, 128, 1, False]          \n",
      " 20                  -1  1    147712  ultralytics.nn.modules.conv.Conv             [128, 128, 3, 2]              \n",
      " 21            [-1, 10]  1         0  ultralytics.nn.modules.conv.Concat           [1]                           \n",
      " 22                  -1  1    378880  ultralytics.nn.modules.block.C3k2            [384, 256, 1, True]           \n",
      " 23        [16, 19, 22]  1    430867  ultralytics.nn.modules.head.Detect           [1, [64, 128, 256]]           \n",
      "YOLO11n summary: 319 layers, 2,590,035 parameters, 2,590,019 gradients, 6.4 GFLOPs\n",
      "\n",
      "Transferred 448/499 items from pretrained weights\n",
      "Freezing layer 'model.23.dfl.conv.weight'\n",
      "\u001b[34m\u001b[1mAMP: \u001b[0mrunning Automatic Mixed Precision (AMP) checks...\n",
      "\u001b[34m\u001b[1mAMP: \u001b[0mchecks passed ✅\n",
      "WARNING ⚠️ imgsz=[720] must be multiple of max stride 32, updating to [736]\n"
     ]
    },
    {
     "name": "stderr",
     "output_type": "stream",
     "text": [
      "\u001b[34m\u001b[1mtrain: \u001b[0mScanning train/labels.cache... 388 images, 0 backgrounds, 0 corrupt: 100%|██████████| 388/388 [00:00<?, ?it/s]\u001b[0m"
     ]
    },
    {
     "name": "stdout",
     "output_type": "stream",
     "text": [
      "\u001b[34m\u001b[1mtrain: \u001b[0mWARNING ⚠️ train/images/IP8M-H-SW_2024-10-24_deer_00000111.png: 1 duplicate labels removed\n",
      "\u001b[34m\u001b[1mtrain: \u001b[0mWARNING ⚠️ train/images/IP8M-H-SW_2024-10-24_deer_00000112.png: 1 duplicate labels removed\n"
     ]
    },
    {
     "name": "stderr",
     "output_type": "stream",
     "text": [
      "\n",
      "\u001b[34m\u001b[1mval: \u001b[0mScanning val/labels.cache... 98 images, 0 backgrounds, 0 corrupt: 100%|██████████| 98/98 [00:00<?, ?it/s]\u001b[0m\n"
     ]
    },
    {
     "name": "stdout",
     "output_type": "stream",
     "text": [
      "Plotting labels to /data/mtmoore/school/CSiML_AI395T/final_project/models/yolo11/iterative/11n_720imgsz_IP8M-H-SW-16epochs/labels.jpg... \n",
      "\u001b[34m\u001b[1moptimizer:\u001b[0m 'optimizer=auto' found, ignoring 'lr0=0.01' and 'momentum=0.937' and determining best 'optimizer', 'lr0' and 'momentum' automatically... \n",
      "\u001b[34m\u001b[1moptimizer:\u001b[0m AdamW(lr=0.002, momentum=0.9) with parameter groups 81 weight(decay=0.0), 88 weight(decay=0.0005), 87 bias(decay=0.0)\n",
      "Image sizes 736 train, 736 val\n",
      "Using 8 dataloader workers\n",
      "Logging results to \u001b[1m/data/mtmoore/school/CSiML_AI395T/final_project/models/yolo11/iterative/11n_720imgsz_IP8M-H-SW-16epochs\u001b[0m\n",
      "Starting training for 16 epochs...\n",
      "\n",
      "      Epoch    GPU_mem   box_loss   cls_loss   dfl_loss  Instances       Size\n"
     ]
    },
    {
     "name": "stderr",
     "output_type": "stream",
     "text": [
      "       1/16      3.09G       3.21      108.3     0.8292         13        736: 100%|██████████| 25/25 [00:05<00:00,  4.33it/s]\n",
      "                 Class     Images  Instances      Box(P          R      mAP50  mAP50-95): 100%|██████████| 4/4 [00:00<00:00,  6.59it/s]"
     ]
    },
    {
     "name": "stdout",
     "output_type": "stream",
     "text": [
      "                   all         98        205          0          0          0          0\n"
     ]
    },
    {
     "name": "stderr",
     "output_type": "stream",
     "text": [
      "\n"
     ]
    },
    {
     "name": "stdout",
     "output_type": "stream",
     "text": [
      "\n",
      "      Epoch    GPU_mem   box_loss   cls_loss   dfl_loss  Instances       Size\n"
     ]
    },
    {
     "name": "stderr",
     "output_type": "stream",
     "text": [
      "       2/16      2.96G      4.129      25.15     0.9584          7        736: 100%|██████████| 25/25 [00:09<00:00,  2.61it/s]\n",
      "                 Class     Images  Instances      Box(P          R      mAP50  mAP50-95): 100%|██████████| 4/4 [00:00<00:00,  8.28it/s]"
     ]
    },
    {
     "name": "stdout",
     "output_type": "stream",
     "text": [
      "                   all         98        205          0          0          0          0\n"
     ]
    },
    {
     "name": "stderr",
     "output_type": "stream",
     "text": [
      "\n"
     ]
    },
    {
     "name": "stdout",
     "output_type": "stream",
     "text": [
      "\n",
      "      Epoch    GPU_mem   box_loss   cls_loss   dfl_loss  Instances       Size\n"
     ]
    },
    {
     "name": "stderr",
     "output_type": "stream",
     "text": [
      "       3/16      2.97G      4.005      21.33     0.9574          9        736: 100%|██████████| 25/25 [00:09<00:00,  2.77it/s]\n",
      "                 Class     Images  Instances      Box(P          R      mAP50  mAP50-95): 100%|██████████| 4/4 [00:00<00:00,  7.99it/s]"
     ]
    },
    {
     "name": "stdout",
     "output_type": "stream",
     "text": [
      "                   all         98        205    3.4e-05    0.00488   1.71e-05   1.03e-05\n"
     ]
    },
    {
     "name": "stderr",
     "output_type": "stream",
     "text": [
      "\n"
     ]
    },
    {
     "name": "stdout",
     "output_type": "stream",
     "text": [
      "\n",
      "      Epoch    GPU_mem   box_loss   cls_loss   dfl_loss  Instances       Size\n"
     ]
    },
    {
     "name": "stderr",
     "output_type": "stream",
     "text": [
      "       4/16      2.97G      3.991      17.66     0.9372          8        736: 100%|██████████| 25/25 [00:05<00:00,  4.28it/s]\n",
      "                 Class     Images  Instances      Box(P          R      mAP50  mAP50-95): 100%|██████████| 4/4 [00:00<00:00,  8.12it/s]\n"
     ]
    },
    {
     "name": "stdout",
     "output_type": "stream",
     "text": [
      "                   all         98        205   0.000374     0.0537   0.000217   4.88e-05\n",
      "\n",
      "      Epoch    GPU_mem   box_loss   cls_loss   dfl_loss  Instances       Size\n"
     ]
    },
    {
     "name": "stderr",
     "output_type": "stream",
     "text": [
      "       5/16      2.97G      3.744      12.54      0.902         11        736: 100%|██████████| 25/25 [00:07<00:00,  3.16it/s]\n",
      "                 Class     Images  Instances      Box(P          R      mAP50  mAP50-95): 100%|██████████| 4/4 [00:00<00:00,  7.52it/s]"
     ]
    },
    {
     "name": "stdout",
     "output_type": "stream",
     "text": [
      "                   all         98        205      0.753     0.0746      0.133     0.0287\n"
     ]
    },
    {
     "name": "stderr",
     "output_type": "stream",
     "text": [
      "\n"
     ]
    },
    {
     "name": "stdout",
     "output_type": "stream",
     "text": [
      "\n",
      "      Epoch    GPU_mem   box_loss   cls_loss   dfl_loss  Instances       Size\n"
     ]
    },
    {
     "name": "stderr",
     "output_type": "stream",
     "text": [
      "       6/16      2.97G      3.508      11.36     0.9034         20        736: 100%|██████████| 25/25 [00:06<00:00,  3.68it/s]\n",
      "                 Class     Images  Instances      Box(P          R      mAP50  mAP50-95): 100%|██████████| 4/4 [00:00<00:00,  8.45it/s]\n"
     ]
    },
    {
     "name": "stdout",
     "output_type": "stream",
     "text": [
      "                   all         98        205      0.399    0.00488    0.00411   0.000672\n",
      "Closing dataloader mosaic\n",
      "\n",
      "      Epoch    GPU_mem   box_loss   cls_loss   dfl_loss  Instances       Size\n"
     ]
    },
    {
     "name": "stderr",
     "output_type": "stream",
     "text": [
      "       7/16      3.07G       3.43      12.65      0.917          4        736: 100%|██████████| 25/25 [00:10<00:00,  2.49it/s]\n",
      "                 Class     Images  Instances      Box(P          R      mAP50  mAP50-95): 100%|██████████| 4/4 [00:00<00:00,  7.99it/s]\n"
     ]
    },
    {
     "name": "stdout",
     "output_type": "stream",
     "text": [
      "                   all         98        205      0.399    0.00488    0.00411   0.000672\n",
      "\n",
      "      Epoch    GPU_mem   box_loss   cls_loss   dfl_loss  Instances       Size\n"
     ]
    },
    {
     "name": "stderr",
     "output_type": "stream",
     "text": [
      "       8/16      2.97G      3.525      11.29     0.9197         14        736: 100%|██████████| 25/25 [00:09<00:00,  2.58it/s]\n",
      "                 Class     Images  Instances      Box(P          R      mAP50  mAP50-95): 100%|██████████| 4/4 [00:00<00:00,  8.26it/s]"
     ]
    },
    {
     "name": "stdout",
     "output_type": "stream",
     "text": [
      "                   all         98        205      0.784     0.0341     0.0851     0.0202\n"
     ]
    },
    {
     "name": "stderr",
     "output_type": "stream",
     "text": [
      "\n"
     ]
    },
    {
     "name": "stdout",
     "output_type": "stream",
     "text": [
      "\n",
      "      Epoch    GPU_mem   box_loss   cls_loss   dfl_loss  Instances       Size\n"
     ]
    },
    {
     "name": "stderr",
     "output_type": "stream",
     "text": [
      "       9/16      2.95G      3.358       10.1     0.9147         20        736:  84%|████████▍ | 21/25 [00:06<00:01,  3.06it/s]"
     ]
    }
   ],
   "source": [
    "# Train the model\n",
    "os.chdir(\"/data/mtmoore/school/CSiML_AI395T/final_project/dataset/yolov8_dataset/\")\n",
    "project=\"/data/mtmoore/school/CSiML_AI395T/final_project/models/yolo11/iterative\"\n",
    "batchsizes={ 2880: 1, 1440: 4, 720: 16, 640: 32 }\n",
    "model_name=\"11n\"\n",
    "previous_epoch = 0\n",
    "\n",
    "for model_name in [ \"11n\", ]: # \"11s\", \"11s\" ]:\n",
    "    for imgsize in [720, 1440, 2880]:\n",
    "        for i in list(range(1, 25)) + list(range(25, 50, 5)) + list(range(60, 101, 10)):\n",
    "            \n",
    "            name = f\"{model_name}_{imgsize}imgsz_IP8M-H-SW-{i}epochs\"\n",
    "#            if i > 200:\n",
    "#                name = f\"{model_name}_{imgsize}imgsz_IP8M-H-SW-continuous\"\n",
    "#                i=2000\n",
    "#                print(\"Resuming the continuous model\")\n",
    "                            \n",
    "            resume_flag = False\n",
    "            if os.path.exists(os.path.join(f\"{project}/{name}/weights/last.pt\")):\n",
    "                model = YOLO(f\"{project}/{name}/weights/last.pt\") \n",
    "                resume_flag = True\n",
    "                print(f\"Resuming {project}/{name} model\")\n",
    "            else:\n",
    "                model = YOLO(f\"yolo{model_name}.pt\")  # load a pretrained model (recommended for training)\n",
    "            \n",
    "            results = model.train(resume=resume_flag, data=\"/data/mtmoore/school/CSiML_AI395T/final_project/dataset/yolov8_dataset/data.yaml\", \\\n",
    "                                  project=project, name=name, epochs=i, imgsz=imgsize, batch=batchsizes[imgsize], plots=True, val=True)\n",
    "        #name = f\"11m_{imgsize}imgsz_IP8M-H-SW-{i}epochs-val\"\n",
    "        #results_val = model.val(project=project, name=name, save_json=True, plots=True, imgsz=imgsize, batch=1)\n"
   ]
  },
  {
   "cell_type": "markdown",
   "id": "af4c76b3-5807-4027-a25f-020610fed969",
   "metadata": {},
   "source": [
    "# Resume Training"
   ]
  },
  {
   "cell_type": "code",
   "execution_count": null,
   "id": "62ad94fb-c106-47cd-afbb-8af701a19172",
   "metadata": {},
   "outputs": [],
   "source": [
    "# Train the model\n",
    "os.chdir(\"/data/mtmoore/school/CSiML_AI395T/final_project/dataset/yolov8_dataset/\")\n",
    "project=\"/data/mtmoore/school/CSiML_AI395T/final_project/models/yolo11/iterative\"\n",
    "imgsize=2880\n",
    "epoch=\"continuous\"\n",
    "model_base=\"11m\"\n",
    "camera=\"IP8M-H-SW\"\n",
    "name=f\"{model_base}_{imgsize}imgsz_{camera}-{epoch}\"\n",
    "model = YOLO(f\"{project}/{name}/weights/last.pt\") \n",
    "# Resume training\n",
    "results = model.train(resume=True, \n",
    "                      data=\"/data/mtmoore/school/CSiML_AI395T/final_project/dataset/yolov8_dataset/data.yaml\", \\\n",
    "                      project=project, \\\n",
    "                      name=name, \\\n",
    "                      epochs=2000, \\\n",
    "                      imgsz=imgsize, \n",
    "                      batch=1, \n",
    "                      plots=True, \n",
    "                      val=True)"
   ]
  },
  {
   "cell_type": "markdown",
   "id": "44577bb8-e583-47c2-b1b0-693a42380dea",
   "metadata": {},
   "source": [
    "# Separate Validation"
   ]
  },
  {
   "cell_type": "code",
   "execution_count": 4,
   "id": "343b582c-b4f8-4818-a728-8cdc3c0b5695",
   "metadata": {},
   "outputs": [
    {
     "name": "stdout",
     "output_type": "stream",
     "text": [
      "already completed /data/mtmoore/school/CSiML_AI395T/final_project/models/yolo11/iterative/11s_720imgsz_IP8M-H-SW-1epochs-val\n",
      "already completed /data/mtmoore/school/CSiML_AI395T/final_project/models/yolo11/iterative/11s_720imgsz_IP8M-H-SW-2epochs-val\n",
      "already completed /data/mtmoore/school/CSiML_AI395T/final_project/models/yolo11/iterative/11s_720imgsz_IP8M-H-SW-3epochs-val\n",
      "already completed /data/mtmoore/school/CSiML_AI395T/final_project/models/yolo11/iterative/11s_720imgsz_IP8M-H-SW-4epochs-val\n",
      "already completed /data/mtmoore/school/CSiML_AI395T/final_project/models/yolo11/iterative/11s_720imgsz_IP8M-H-SW-5epochs-val\n",
      "already completed /data/mtmoore/school/CSiML_AI395T/final_project/models/yolo11/iterative/11s_720imgsz_IP8M-H-SW-6epochs-val\n",
      "already completed /data/mtmoore/school/CSiML_AI395T/final_project/models/yolo11/iterative/11s_720imgsz_IP8M-H-SW-7epochs-val\n",
      "already completed /data/mtmoore/school/CSiML_AI395T/final_project/models/yolo11/iterative/11s_720imgsz_IP8M-H-SW-8epochs-val\n",
      "already completed /data/mtmoore/school/CSiML_AI395T/final_project/models/yolo11/iterative/11s_720imgsz_IP8M-H-SW-9epochs-val\n",
      "already completed /data/mtmoore/school/CSiML_AI395T/final_project/models/yolo11/iterative/11s_720imgsz_IP8M-H-SW-10epochs-val\n",
      "already completed /data/mtmoore/school/CSiML_AI395T/final_project/models/yolo11/iterative/11s_720imgsz_IP8M-H-SW-11epochs-val\n",
      "already completed /data/mtmoore/school/CSiML_AI395T/final_project/models/yolo11/iterative/11s_720imgsz_IP8M-H-SW-12epochs-val\n",
      "already completed /data/mtmoore/school/CSiML_AI395T/final_project/models/yolo11/iterative/11s_720imgsz_IP8M-H-SW-13epochs-val\n",
      "already completed /data/mtmoore/school/CSiML_AI395T/final_project/models/yolo11/iterative/11s_720imgsz_IP8M-H-SW-14epochs-val\n",
      "already completed /data/mtmoore/school/CSiML_AI395T/final_project/models/yolo11/iterative/11s_720imgsz_IP8M-H-SW-15epochs-val\n",
      "already completed /data/mtmoore/school/CSiML_AI395T/final_project/models/yolo11/iterative/11s_720imgsz_IP8M-H-SW-16epochs-val\n",
      "already completed /data/mtmoore/school/CSiML_AI395T/final_project/models/yolo11/iterative/11s_720imgsz_IP8M-H-SW-17epochs-val\n",
      "already completed /data/mtmoore/school/CSiML_AI395T/final_project/models/yolo11/iterative/11s_720imgsz_IP8M-H-SW-18epochs-val\n",
      "already completed /data/mtmoore/school/CSiML_AI395T/final_project/models/yolo11/iterative/11s_720imgsz_IP8M-H-SW-19epochs-val\n",
      "already completed /data/mtmoore/school/CSiML_AI395T/final_project/models/yolo11/iterative/11s_720imgsz_IP8M-H-SW-20epochs-val\n",
      "already completed /data/mtmoore/school/CSiML_AI395T/final_project/models/yolo11/iterative/11s_720imgsz_IP8M-H-SW-21epochs-val\n",
      "already completed /data/mtmoore/school/CSiML_AI395T/final_project/models/yolo11/iterative/11s_720imgsz_IP8M-H-SW-22epochs-val\n",
      "already completed /data/mtmoore/school/CSiML_AI395T/final_project/models/yolo11/iterative/11s_720imgsz_IP8M-H-SW-23epochs-val\n",
      "already completed /data/mtmoore/school/CSiML_AI395T/final_project/models/yolo11/iterative/11s_720imgsz_IP8M-H-SW-24epochs-val\n",
      "already completed /data/mtmoore/school/CSiML_AI395T/final_project/models/yolo11/iterative/11s_720imgsz_IP8M-H-SW-25epochs-val\n",
      "already completed /data/mtmoore/school/CSiML_AI395T/final_project/models/yolo11/iterative/11s_720imgsz_IP8M-H-SW-30epochs-val\n",
      "already completed /data/mtmoore/school/CSiML_AI395T/final_project/models/yolo11/iterative/11s_720imgsz_IP8M-H-SW-35epochs-val\n",
      "already completed /data/mtmoore/school/CSiML_AI395T/final_project/models/yolo11/iterative/11s_720imgsz_IP8M-H-SW-40epochs-val\n",
      "already completed /data/mtmoore/school/CSiML_AI395T/final_project/models/yolo11/iterative/11s_720imgsz_IP8M-H-SW-45epochs-val\n",
      "already completed /data/mtmoore/school/CSiML_AI395T/final_project/models/yolo11/iterative/11s_720imgsz_IP8M-H-SW-60epochs-val\n",
      "already completed /data/mtmoore/school/CSiML_AI395T/final_project/models/yolo11/iterative/11s_720imgsz_IP8M-H-SW-70epochs-val\n",
      "already completed /data/mtmoore/school/CSiML_AI395T/final_project/models/yolo11/iterative/11s_720imgsz_IP8M-H-SW-80epochs-val\n",
      "already completed /data/mtmoore/school/CSiML_AI395T/final_project/models/yolo11/iterative/11s_720imgsz_IP8M-H-SW-90epochs-val\n",
      "already completed /data/mtmoore/school/CSiML_AI395T/final_project/models/yolo11/iterative/11s_720imgsz_IP8M-H-SW-100epochs-val\n",
      "already completed /data/mtmoore/school/CSiML_AI395T/final_project/models/yolo11/iterative/11s_1440imgsz_IP8M-H-SW-1epochs-val\n",
      "already completed /data/mtmoore/school/CSiML_AI395T/final_project/models/yolo11/iterative/11s_1440imgsz_IP8M-H-SW-2epochs-val\n",
      "already completed /data/mtmoore/school/CSiML_AI395T/final_project/models/yolo11/iterative/11s_1440imgsz_IP8M-H-SW-3epochs-val\n",
      "already completed /data/mtmoore/school/CSiML_AI395T/final_project/models/yolo11/iterative/11s_1440imgsz_IP8M-H-SW-4epochs-val\n",
      "already completed /data/mtmoore/school/CSiML_AI395T/final_project/models/yolo11/iterative/11s_1440imgsz_IP8M-H-SW-5epochs-val\n",
      "already completed /data/mtmoore/school/CSiML_AI395T/final_project/models/yolo11/iterative/11s_1440imgsz_IP8M-H-SW-6epochs-val\n",
      "already completed /data/mtmoore/school/CSiML_AI395T/final_project/models/yolo11/iterative/11s_1440imgsz_IP8M-H-SW-7epochs-val\n",
      "already completed /data/mtmoore/school/CSiML_AI395T/final_project/models/yolo11/iterative/11s_1440imgsz_IP8M-H-SW-8epochs-val\n",
      "already completed /data/mtmoore/school/CSiML_AI395T/final_project/models/yolo11/iterative/11s_1440imgsz_IP8M-H-SW-9epochs-val\n",
      "already completed /data/mtmoore/school/CSiML_AI395T/final_project/models/yolo11/iterative/11s_1440imgsz_IP8M-H-SW-10epochs-val\n",
      "already completed /data/mtmoore/school/CSiML_AI395T/final_project/models/yolo11/iterative/11s_1440imgsz_IP8M-H-SW-11epochs-val\n",
      "already completed /data/mtmoore/school/CSiML_AI395T/final_project/models/yolo11/iterative/11s_1440imgsz_IP8M-H-SW-12epochs-val\n",
      "already completed /data/mtmoore/school/CSiML_AI395T/final_project/models/yolo11/iterative/11s_1440imgsz_IP8M-H-SW-13epochs-val\n",
      "already completed /data/mtmoore/school/CSiML_AI395T/final_project/models/yolo11/iterative/11s_1440imgsz_IP8M-H-SW-14epochs-val\n",
      "already completed /data/mtmoore/school/CSiML_AI395T/final_project/models/yolo11/iterative/11s_1440imgsz_IP8M-H-SW-15epochs-val\n",
      "already completed /data/mtmoore/school/CSiML_AI395T/final_project/models/yolo11/iterative/11s_1440imgsz_IP8M-H-SW-16epochs-val\n",
      "already completed /data/mtmoore/school/CSiML_AI395T/final_project/models/yolo11/iterative/11s_1440imgsz_IP8M-H-SW-17epochs-val\n",
      "already completed /data/mtmoore/school/CSiML_AI395T/final_project/models/yolo11/iterative/11s_1440imgsz_IP8M-H-SW-18epochs-val\n",
      "already completed /data/mtmoore/school/CSiML_AI395T/final_project/models/yolo11/iterative/11s_1440imgsz_IP8M-H-SW-19epochs-val\n",
      "already completed /data/mtmoore/school/CSiML_AI395T/final_project/models/yolo11/iterative/11s_1440imgsz_IP8M-H-SW-20epochs-val\n",
      "already completed /data/mtmoore/school/CSiML_AI395T/final_project/models/yolo11/iterative/11s_1440imgsz_IP8M-H-SW-21epochs-val\n",
      "already completed /data/mtmoore/school/CSiML_AI395T/final_project/models/yolo11/iterative/11s_1440imgsz_IP8M-H-SW-22epochs-val\n",
      "already completed /data/mtmoore/school/CSiML_AI395T/final_project/models/yolo11/iterative/11s_1440imgsz_IP8M-H-SW-23epochs-val\n",
      "already completed /data/mtmoore/school/CSiML_AI395T/final_project/models/yolo11/iterative/11s_1440imgsz_IP8M-H-SW-24epochs-val\n",
      "already completed /data/mtmoore/school/CSiML_AI395T/final_project/models/yolo11/iterative/11s_1440imgsz_IP8M-H-SW-25epochs-val\n",
      "already completed /data/mtmoore/school/CSiML_AI395T/final_project/models/yolo11/iterative/11s_1440imgsz_IP8M-H-SW-30epochs-val\n",
      "already completed /data/mtmoore/school/CSiML_AI395T/final_project/models/yolo11/iterative/11s_1440imgsz_IP8M-H-SW-35epochs-val\n",
      "already completed /data/mtmoore/school/CSiML_AI395T/final_project/models/yolo11/iterative/11s_1440imgsz_IP8M-H-SW-40epochs-val\n",
      "already completed /data/mtmoore/school/CSiML_AI395T/final_project/models/yolo11/iterative/11s_1440imgsz_IP8M-H-SW-45epochs-val\n",
      "already completed /data/mtmoore/school/CSiML_AI395T/final_project/models/yolo11/iterative/11s_1440imgsz_IP8M-H-SW-60epochs-val\n",
      "already completed /data/mtmoore/school/CSiML_AI395T/final_project/models/yolo11/iterative/11s_1440imgsz_IP8M-H-SW-70epochs-val\n",
      "already completed /data/mtmoore/school/CSiML_AI395T/final_project/models/yolo11/iterative/11s_1440imgsz_IP8M-H-SW-80epochs-val\n",
      "already completed /data/mtmoore/school/CSiML_AI395T/final_project/models/yolo11/iterative/11s_1440imgsz_IP8M-H-SW-90epochs-val\n",
      "already completed /data/mtmoore/school/CSiML_AI395T/final_project/models/yolo11/iterative/11s_1440imgsz_IP8M-H-SW-100epochs-val\n",
      "already completed /data/mtmoore/school/CSiML_AI395T/final_project/models/yolo11/iterative/11s_2880imgsz_IP8M-H-SW-1epochs-val\n",
      "already completed /data/mtmoore/school/CSiML_AI395T/final_project/models/yolo11/iterative/11s_2880imgsz_IP8M-H-SW-2epochs-val\n",
      "already completed /data/mtmoore/school/CSiML_AI395T/final_project/models/yolo11/iterative/11s_2880imgsz_IP8M-H-SW-3epochs-val\n",
      "already completed /data/mtmoore/school/CSiML_AI395T/final_project/models/yolo11/iterative/11s_2880imgsz_IP8M-H-SW-4epochs-val\n",
      "already completed /data/mtmoore/school/CSiML_AI395T/final_project/models/yolo11/iterative/11s_2880imgsz_IP8M-H-SW-5epochs-val\n",
      "already completed /data/mtmoore/school/CSiML_AI395T/final_project/models/yolo11/iterative/11s_2880imgsz_IP8M-H-SW-6epochs-val\n",
      "already completed /data/mtmoore/school/CSiML_AI395T/final_project/models/yolo11/iterative/11s_2880imgsz_IP8M-H-SW-7epochs-val\n",
      "already completed /data/mtmoore/school/CSiML_AI395T/final_project/models/yolo11/iterative/11s_2880imgsz_IP8M-H-SW-8epochs-val\n",
      "already completed /data/mtmoore/school/CSiML_AI395T/final_project/models/yolo11/iterative/11s_2880imgsz_IP8M-H-SW-9epochs-val\n",
      "already completed /data/mtmoore/school/CSiML_AI395T/final_project/models/yolo11/iterative/11s_2880imgsz_IP8M-H-SW-10epochs-val\n",
      "already completed /data/mtmoore/school/CSiML_AI395T/final_project/models/yolo11/iterative/11s_2880imgsz_IP8M-H-SW-11epochs-val\n",
      "already completed /data/mtmoore/school/CSiML_AI395T/final_project/models/yolo11/iterative/11s_2880imgsz_IP8M-H-SW-12epochs-val\n",
      "already completed /data/mtmoore/school/CSiML_AI395T/final_project/models/yolo11/iterative/11s_2880imgsz_IP8M-H-SW-13epochs-val\n",
      "already completed /data/mtmoore/school/CSiML_AI395T/final_project/models/yolo11/iterative/11s_2880imgsz_IP8M-H-SW-14epochs-val\n",
      "already completed /data/mtmoore/school/CSiML_AI395T/final_project/models/yolo11/iterative/11s_2880imgsz_IP8M-H-SW-15epochs-val\n",
      "already completed /data/mtmoore/school/CSiML_AI395T/final_project/models/yolo11/iterative/11s_2880imgsz_IP8M-H-SW-16epochs-val\n",
      "already completed /data/mtmoore/school/CSiML_AI395T/final_project/models/yolo11/iterative/11s_2880imgsz_IP8M-H-SW-17epochs-val\n",
      "already completed /data/mtmoore/school/CSiML_AI395T/final_project/models/yolo11/iterative/11s_2880imgsz_IP8M-H-SW-18epochs-val\n",
      "already completed /data/mtmoore/school/CSiML_AI395T/final_project/models/yolo11/iterative/11s_2880imgsz_IP8M-H-SW-19epochs-val\n",
      "already completed /data/mtmoore/school/CSiML_AI395T/final_project/models/yolo11/iterative/11s_2880imgsz_IP8M-H-SW-20epochs-val\n",
      "already completed /data/mtmoore/school/CSiML_AI395T/final_project/models/yolo11/iterative/11s_2880imgsz_IP8M-H-SW-21epochs-val\n",
      "already completed /data/mtmoore/school/CSiML_AI395T/final_project/models/yolo11/iterative/11s_2880imgsz_IP8M-H-SW-22epochs-val\n",
      "already completed /data/mtmoore/school/CSiML_AI395T/final_project/models/yolo11/iterative/11s_2880imgsz_IP8M-H-SW-23epochs-val\n",
      "already completed /data/mtmoore/school/CSiML_AI395T/final_project/models/yolo11/iterative/11s_2880imgsz_IP8M-H-SW-24epochs-val\n",
      "already completed /data/mtmoore/school/CSiML_AI395T/final_project/models/yolo11/iterative/11s_2880imgsz_IP8M-H-SW-25epochs-val\n",
      "already completed /data/mtmoore/school/CSiML_AI395T/final_project/models/yolo11/iterative/11s_2880imgsz_IP8M-H-SW-30epochs-val\n",
      "already completed /data/mtmoore/school/CSiML_AI395T/final_project/models/yolo11/iterative/11s_2880imgsz_IP8M-H-SW-35epochs-val\n",
      "already completed /data/mtmoore/school/CSiML_AI395T/final_project/models/yolo11/iterative/11s_2880imgsz_IP8M-H-SW-40epochs-val\n",
      "already completed /data/mtmoore/school/CSiML_AI395T/final_project/models/yolo11/iterative/11s_2880imgsz_IP8M-H-SW-45epochs-val\n",
      "already completed /data/mtmoore/school/CSiML_AI395T/final_project/models/yolo11/iterative/11s_2880imgsz_IP8M-H-SW-60epochs-val\n",
      "already completed /data/mtmoore/school/CSiML_AI395T/final_project/models/yolo11/iterative/11s_2880imgsz_IP8M-H-SW-70epochs-val\n",
      "already completed /data/mtmoore/school/CSiML_AI395T/final_project/models/yolo11/iterative/11s_2880imgsz_IP8M-H-SW-80epochs-val\n",
      "already completed /data/mtmoore/school/CSiML_AI395T/final_project/models/yolo11/iterative/11s_2880imgsz_IP8M-H-SW-90epochs-val\n",
      "already completed /data/mtmoore/school/CSiML_AI395T/final_project/models/yolo11/iterative/11s_2880imgsz_IP8M-H-SW-100epochs-val\n",
      "already completed /data/mtmoore/school/CSiML_AI395T/final_project/models/yolo11/iterative/11m_720imgsz_IP8M-H-SW-1epochs-val\n",
      "already completed /data/mtmoore/school/CSiML_AI395T/final_project/models/yolo11/iterative/11m_720imgsz_IP8M-H-SW-2epochs-val\n",
      "already completed /data/mtmoore/school/CSiML_AI395T/final_project/models/yolo11/iterative/11m_720imgsz_IP8M-H-SW-3epochs-val\n",
      "already completed /data/mtmoore/school/CSiML_AI395T/final_project/models/yolo11/iterative/11m_720imgsz_IP8M-H-SW-4epochs-val\n",
      "already completed /data/mtmoore/school/CSiML_AI395T/final_project/models/yolo11/iterative/11m_720imgsz_IP8M-H-SW-5epochs-val\n",
      "already completed /data/mtmoore/school/CSiML_AI395T/final_project/models/yolo11/iterative/11m_720imgsz_IP8M-H-SW-6epochs-val\n",
      "already completed /data/mtmoore/school/CSiML_AI395T/final_project/models/yolo11/iterative/11m_720imgsz_IP8M-H-SW-7epochs-val\n",
      "already completed /data/mtmoore/school/CSiML_AI395T/final_project/models/yolo11/iterative/11m_720imgsz_IP8M-H-SW-8epochs-val\n",
      "already completed /data/mtmoore/school/CSiML_AI395T/final_project/models/yolo11/iterative/11m_720imgsz_IP8M-H-SW-9epochs-val\n",
      "already completed /data/mtmoore/school/CSiML_AI395T/final_project/models/yolo11/iterative/11m_720imgsz_IP8M-H-SW-10epochs-val\n",
      "already completed /data/mtmoore/school/CSiML_AI395T/final_project/models/yolo11/iterative/11m_720imgsz_IP8M-H-SW-11epochs-val\n",
      "already completed /data/mtmoore/school/CSiML_AI395T/final_project/models/yolo11/iterative/11m_720imgsz_IP8M-H-SW-12epochs-val\n",
      "already completed /data/mtmoore/school/CSiML_AI395T/final_project/models/yolo11/iterative/11m_720imgsz_IP8M-H-SW-13epochs-val\n",
      "already completed /data/mtmoore/school/CSiML_AI395T/final_project/models/yolo11/iterative/11m_720imgsz_IP8M-H-SW-14epochs-val\n",
      "already completed /data/mtmoore/school/CSiML_AI395T/final_project/models/yolo11/iterative/11m_720imgsz_IP8M-H-SW-15epochs-val\n",
      "already completed /data/mtmoore/school/CSiML_AI395T/final_project/models/yolo11/iterative/11m_720imgsz_IP8M-H-SW-16epochs-val\n",
      "already completed /data/mtmoore/school/CSiML_AI395T/final_project/models/yolo11/iterative/11m_720imgsz_IP8M-H-SW-17epochs-val\n",
      "already completed /data/mtmoore/school/CSiML_AI395T/final_project/models/yolo11/iterative/11m_720imgsz_IP8M-H-SW-18epochs-val\n",
      "already completed /data/mtmoore/school/CSiML_AI395T/final_project/models/yolo11/iterative/11m_720imgsz_IP8M-H-SW-19epochs-val\n",
      "already completed /data/mtmoore/school/CSiML_AI395T/final_project/models/yolo11/iterative/11m_720imgsz_IP8M-H-SW-20epochs-val\n",
      "already completed /data/mtmoore/school/CSiML_AI395T/final_project/models/yolo11/iterative/11m_720imgsz_IP8M-H-SW-21epochs-val\n",
      "already completed /data/mtmoore/school/CSiML_AI395T/final_project/models/yolo11/iterative/11m_720imgsz_IP8M-H-SW-22epochs-val\n",
      "already completed /data/mtmoore/school/CSiML_AI395T/final_project/models/yolo11/iterative/11m_720imgsz_IP8M-H-SW-23epochs-val\n",
      "already completed /data/mtmoore/school/CSiML_AI395T/final_project/models/yolo11/iterative/11m_720imgsz_IP8M-H-SW-24epochs-val\n",
      "already completed /data/mtmoore/school/CSiML_AI395T/final_project/models/yolo11/iterative/11m_720imgsz_IP8M-H-SW-25epochs-val\n",
      "already completed /data/mtmoore/school/CSiML_AI395T/final_project/models/yolo11/iterative/11m_720imgsz_IP8M-H-SW-30epochs-val\n",
      "already completed /data/mtmoore/school/CSiML_AI395T/final_project/models/yolo11/iterative/11m_720imgsz_IP8M-H-SW-35epochs-val\n",
      "already completed /data/mtmoore/school/CSiML_AI395T/final_project/models/yolo11/iterative/11m_720imgsz_IP8M-H-SW-40epochs-val\n",
      "already completed /data/mtmoore/school/CSiML_AI395T/final_project/models/yolo11/iterative/11m_720imgsz_IP8M-H-SW-45epochs-val\n",
      "already completed /data/mtmoore/school/CSiML_AI395T/final_project/models/yolo11/iterative/11m_720imgsz_IP8M-H-SW-60epochs-val\n",
      "already completed /data/mtmoore/school/CSiML_AI395T/final_project/models/yolo11/iterative/11m_720imgsz_IP8M-H-SW-70epochs-val\n",
      "already completed /data/mtmoore/school/CSiML_AI395T/final_project/models/yolo11/iterative/11m_720imgsz_IP8M-H-SW-80epochs-val\n",
      "already completed /data/mtmoore/school/CSiML_AI395T/final_project/models/yolo11/iterative/11m_720imgsz_IP8M-H-SW-90epochs-val\n",
      "already completed /data/mtmoore/school/CSiML_AI395T/final_project/models/yolo11/iterative/11m_720imgsz_IP8M-H-SW-100epochs-val\n",
      "already completed /data/mtmoore/school/CSiML_AI395T/final_project/models/yolo11/iterative/11m_1440imgsz_IP8M-H-SW-1epochs-val\n",
      "already completed /data/mtmoore/school/CSiML_AI395T/final_project/models/yolo11/iterative/11m_1440imgsz_IP8M-H-SW-2epochs-val\n",
      "Ultralytics 8.3.29 🚀 Python-3.12.7 torch-2.2.2+cu121 CUDA:0 (NVIDIA GeForce RTX 4070 SUPER, 11904MiB)\n",
      "YOLO11m summary (fused): 303 layers, 20,030,803 parameters, 0 gradients, 67.6 GFLOPs\n"
     ]
    },
    {
     "name": "stderr",
     "output_type": "stream",
     "text": [
      "\u001b[34m\u001b[1mval: \u001b[0mScanning val/labels.cache... 98 images, 0 backgrounds, 0 corrupt: 100%|██████████| 98/98 [00:00<?, ?it/s]\u001b[0m\n",
      "                 Class     Images  Instances      Box(P          R      mAP50  mAP50-95): 100%|██████████| 98/98 [00:05<00:00, 19.40it/s]\n"
     ]
    },
    {
     "name": "stdout",
     "output_type": "stream",
     "text": [
      "                   all         98        205      0.642      0.439      0.451      0.186\n",
      "Speed: 6.7ms preprocess, 29.8ms inference, 0.0ms loss, 3.3ms postprocess per image\n",
      "Saving /data/mtmoore/school/CSiML_AI395T/final_project/models/yolo11/iterative/11m_1440imgsz_IP8M-H-SW-3epochs-val2/predictions.json...\n",
      "Results saved to \u001b[1m/data/mtmoore/school/CSiML_AI395T/final_project/models/yolo11/iterative/11m_1440imgsz_IP8M-H-SW-3epochs-val2\u001b[0m\n",
      "Ultralytics 8.3.29 🚀 Python-3.12.7 torch-2.2.2+cu121 CUDA:0 (NVIDIA GeForce RTX 4070 SUPER, 11904MiB)\n",
      "YOLO11m summary (fused): 303 layers, 20,030,803 parameters, 0 gradients, 67.6 GFLOPs\n"
     ]
    },
    {
     "name": "stderr",
     "output_type": "stream",
     "text": [
      "\u001b[34m\u001b[1mval: \u001b[0mScanning val/labels.cache... 98 images, 0 backgrounds, 0 corrupt: 100%|██████████| 98/98 [00:00<?, ?it/s]\u001b[0m\n",
      "                 Class     Images  Instances      Box(P          R      mAP50  mAP50-95): 100%|██████████| 98/98 [00:04<00:00, 22.13it/s]\n"
     ]
    },
    {
     "name": "stdout",
     "output_type": "stream",
     "text": [
      "                   all         98        205      0.663      0.441       0.49      0.182\n",
      "Speed: 5.0ms preprocess, 26.7ms inference, 0.0ms loss, 2.3ms postprocess per image\n",
      "Saving /data/mtmoore/school/CSiML_AI395T/final_project/models/yolo11/iterative/11m_1440imgsz_IP8M-H-SW-4epochs-val/predictions.json...\n",
      "Results saved to \u001b[1m/data/mtmoore/school/CSiML_AI395T/final_project/models/yolo11/iterative/11m_1440imgsz_IP8M-H-SW-4epochs-val\u001b[0m\n",
      "Ultralytics 8.3.29 🚀 Python-3.12.7 torch-2.2.2+cu121 CUDA:0 (NVIDIA GeForce RTX 4070 SUPER, 11904MiB)\n",
      "YOLO11m summary (fused): 303 layers, 20,030,803 parameters, 0 gradients, 67.6 GFLOPs\n"
     ]
    },
    {
     "name": "stderr",
     "output_type": "stream",
     "text": [
      "\u001b[34m\u001b[1mval: \u001b[0mScanning val/labels.cache... 98 images, 0 backgrounds, 0 corrupt: 100%|██████████| 98/98 [00:00<?, ?it/s]\u001b[0m\n",
      "                 Class     Images  Instances      Box(P          R      mAP50  mAP50-95): 100%|██████████| 98/98 [00:04<00:00, 21.80it/s]\n"
     ]
    },
    {
     "name": "stdout",
     "output_type": "stream",
     "text": [
      "                   all         98        205       0.74      0.499      0.529      0.207\n",
      "Speed: 4.8ms preprocess, 27.9ms inference, 0.0ms loss, 1.8ms postprocess per image\n",
      "Saving /data/mtmoore/school/CSiML_AI395T/final_project/models/yolo11/iterative/11m_1440imgsz_IP8M-H-SW-5epochs-val/predictions.json...\n",
      "Results saved to \u001b[1m/data/mtmoore/school/CSiML_AI395T/final_project/models/yolo11/iterative/11m_1440imgsz_IP8M-H-SW-5epochs-val\u001b[0m\n",
      "Ultralytics 8.3.29 🚀 Python-3.12.7 torch-2.2.2+cu121 CUDA:0 (NVIDIA GeForce RTX 4070 SUPER, 11904MiB)\n",
      "YOLO11m summary (fused): 303 layers, 20,030,803 parameters, 0 gradients, 67.6 GFLOPs\n"
     ]
    },
    {
     "name": "stderr",
     "output_type": "stream",
     "text": [
      "\u001b[34m\u001b[1mval: \u001b[0mScanning val/labels.cache... 98 images, 0 backgrounds, 0 corrupt: 100%|██████████| 98/98 [00:00<?, ?it/s]\u001b[0m\n",
      "                 Class     Images  Instances      Box(P          R      mAP50  mAP50-95): 100%|██████████| 98/98 [00:04<00:00, 21.04it/s]\n"
     ]
    },
    {
     "name": "stdout",
     "output_type": "stream",
     "text": [
      "                   all         98        205      0.728       0.56      0.578       0.21\n",
      "Speed: 5.6ms preprocess, 27.7ms inference, 0.0ms loss, 2.2ms postprocess per image\n",
      "Saving /data/mtmoore/school/CSiML_AI395T/final_project/models/yolo11/iterative/11m_1440imgsz_IP8M-H-SW-6epochs-val/predictions.json...\n",
      "Results saved to \u001b[1m/data/mtmoore/school/CSiML_AI395T/final_project/models/yolo11/iterative/11m_1440imgsz_IP8M-H-SW-6epochs-val\u001b[0m\n",
      "Ultralytics 8.3.29 🚀 Python-3.12.7 torch-2.2.2+cu121 CUDA:0 (NVIDIA GeForce RTX 4070 SUPER, 11904MiB)\n",
      "YOLO11m summary (fused): 303 layers, 20,030,803 parameters, 0 gradients, 67.6 GFLOPs\n"
     ]
    },
    {
     "name": "stderr",
     "output_type": "stream",
     "text": [
      "\u001b[34m\u001b[1mval: \u001b[0mScanning val/labels.cache... 98 images, 0 backgrounds, 0 corrupt: 100%|██████████| 98/98 [00:00<?, ?it/s]\u001b[0m\n",
      "                 Class     Images  Instances      Box(P          R      mAP50  mAP50-95): 100%|██████████| 98/98 [00:05<00:00, 17.71it/s]\n"
     ]
    },
    {
     "name": "stdout",
     "output_type": "stream",
     "text": [
      "                   all         98        205      0.702      0.541      0.557      0.223\n",
      "Speed: 10.1ms preprocess, 32.4ms inference, 0.0ms loss, 2.0ms postprocess per image\n",
      "Saving /data/mtmoore/school/CSiML_AI395T/final_project/models/yolo11/iterative/11m_1440imgsz_IP8M-H-SW-7epochs-val/predictions.json...\n",
      "Results saved to \u001b[1m/data/mtmoore/school/CSiML_AI395T/final_project/models/yolo11/iterative/11m_1440imgsz_IP8M-H-SW-7epochs-val\u001b[0m\n",
      "Ultralytics 8.3.29 🚀 Python-3.12.7 torch-2.2.2+cu121 CUDA:0 (NVIDIA GeForce RTX 4070 SUPER, 11904MiB)\n",
      "YOLO11m summary (fused): 303 layers, 20,030,803 parameters, 0 gradients, 67.6 GFLOPs\n"
     ]
    },
    {
     "name": "stderr",
     "output_type": "stream",
     "text": [
      "\u001b[34m\u001b[1mval: \u001b[0mScanning val/labels.cache... 98 images, 0 backgrounds, 0 corrupt: 100%|██████████| 98/98 [00:00<?, ?it/s]\u001b[0m\n",
      "                 Class     Images  Instances      Box(P          R      mAP50  mAP50-95): 100%|██████████| 98/98 [00:05<00:00, 16.64it/s]\n"
     ]
    },
    {
     "name": "stdout",
     "output_type": "stream",
     "text": [
      "                   all         98        205      0.808      0.595      0.596      0.231\n",
      "Speed: 11.6ms preprocess, 33.8ms inference, 0.0ms loss, 2.0ms postprocess per image\n",
      "Saving /data/mtmoore/school/CSiML_AI395T/final_project/models/yolo11/iterative/11m_1440imgsz_IP8M-H-SW-8epochs-val/predictions.json...\n",
      "Results saved to \u001b[1m/data/mtmoore/school/CSiML_AI395T/final_project/models/yolo11/iterative/11m_1440imgsz_IP8M-H-SW-8epochs-val\u001b[0m\n",
      "Ultralytics 8.3.29 🚀 Python-3.12.7 torch-2.2.2+cu121 CUDA:0 (NVIDIA GeForce RTX 4070 SUPER, 11904MiB)\n",
      "YOLO11m summary (fused): 303 layers, 20,030,803 parameters, 0 gradients, 67.6 GFLOPs\n"
     ]
    },
    {
     "name": "stderr",
     "output_type": "stream",
     "text": [
      "\u001b[34m\u001b[1mval: \u001b[0mScanning val/labels.cache... 98 images, 0 backgrounds, 0 corrupt: 100%|██████████| 98/98 [00:00<?, ?it/s]\u001b[0m\n",
      "                 Class     Images  Instances      Box(P          R      mAP50  mAP50-95): 100%|██████████| 98/98 [01:25<00:00,  1.15it/s]\n"
     ]
    },
    {
     "name": "stdout",
     "output_type": "stream",
     "text": [
      "                   all         98        205      0.612      0.478      0.513      0.181\n",
      "Speed: 5.6ms preprocess, 849.5ms inference, 0.0ms loss, 2.1ms postprocess per image\n",
      "Saving /data/mtmoore/school/CSiML_AI395T/final_project/models/yolo11/iterative/11m_1440imgsz_IP8M-H-SW-9epochs-val/predictions.json...\n",
      "Results saved to \u001b[1m/data/mtmoore/school/CSiML_AI395T/final_project/models/yolo11/iterative/11m_1440imgsz_IP8M-H-SW-9epochs-val\u001b[0m\n",
      "Ultralytics 8.3.29 🚀 Python-3.12.7 torch-2.2.2+cu121 CUDA:0 (NVIDIA GeForce RTX 4070 SUPER, 11904MiB)\n",
      "YOLO11m summary (fused): 303 layers, 20,030,803 parameters, 0 gradients, 67.6 GFLOPs\n"
     ]
    },
    {
     "name": "stderr",
     "output_type": "stream",
     "text": [
      "\u001b[34m\u001b[1mval: \u001b[0mScanning val/labels.cache... 98 images, 0 backgrounds, 0 corrupt: 100%|██████████| 98/98 [00:00<?, ?it/s]\u001b[0m\n",
      "                 Class     Images  Instances      Box(P          R      mAP50  mAP50-95): 100%|██████████| 98/98 [00:04<00:00, 22.26it/s]\n"
     ]
    },
    {
     "name": "stdout",
     "output_type": "stream",
     "text": [
      "                   all         98        205      0.825      0.529      0.561      0.237\n",
      "Speed: 4.5ms preprocess, 27.3ms inference, 0.0ms loss, 1.7ms postprocess per image\n",
      "Saving /data/mtmoore/school/CSiML_AI395T/final_project/models/yolo11/iterative/11m_1440imgsz_IP8M-H-SW-10epochs-val/predictions.json...\n",
      "Results saved to \u001b[1m/data/mtmoore/school/CSiML_AI395T/final_project/models/yolo11/iterative/11m_1440imgsz_IP8M-H-SW-10epochs-val\u001b[0m\n",
      "Ultralytics 8.3.29 🚀 Python-3.12.7 torch-2.2.2+cu121 CUDA:0 (NVIDIA GeForce RTX 4070 SUPER, 11904MiB)\n",
      "YOLO11m summary (fused): 303 layers, 20,030,803 parameters, 0 gradients, 67.6 GFLOPs\n"
     ]
    },
    {
     "name": "stderr",
     "output_type": "stream",
     "text": [
      "\u001b[34m\u001b[1mval: \u001b[0mScanning val/labels.cache... 98 images, 0 backgrounds, 0 corrupt: 100%|██████████| 98/98 [00:00<?, ?it/s]\u001b[0m\n",
      "                 Class     Images  Instances      Box(P          R      mAP50  mAP50-95): 100%|██████████| 98/98 [00:04<00:00, 23.52it/s]\n"
     ]
    },
    {
     "name": "stdout",
     "output_type": "stream",
     "text": [
      "                   all         98        205      0.799      0.523       0.56      0.221\n",
      "Speed: 3.8ms preprocess, 25.6ms inference, 0.0ms loss, 2.5ms postprocess per image\n",
      "Saving /data/mtmoore/school/CSiML_AI395T/final_project/models/yolo11/iterative/11m_1440imgsz_IP8M-H-SW-11epochs-val/predictions.json...\n",
      "Results saved to \u001b[1m/data/mtmoore/school/CSiML_AI395T/final_project/models/yolo11/iterative/11m_1440imgsz_IP8M-H-SW-11epochs-val\u001b[0m\n",
      "Ultralytics 8.3.29 🚀 Python-3.12.7 torch-2.2.2+cu121 CUDA:0 (NVIDIA GeForce RTX 4070 SUPER, 11904MiB)\n",
      "YOLO11m summary (fused): 303 layers, 20,030,803 parameters, 0 gradients, 67.6 GFLOPs\n"
     ]
    },
    {
     "name": "stderr",
     "output_type": "stream",
     "text": [
      "\u001b[34m\u001b[1mval: \u001b[0mScanning val/labels.cache... 98 images, 0 backgrounds, 0 corrupt: 100%|██████████| 98/98 [00:00<?, ?it/s]\u001b[0m\n",
      "                 Class     Images  Instances      Box(P          R      mAP50  mAP50-95): 100%|██████████| 98/98 [00:04<00:00, 22.67it/s]\n"
     ]
    },
    {
     "name": "stdout",
     "output_type": "stream",
     "text": [
      "                   all         98        205       0.87      0.556      0.601      0.265\n",
      "Speed: 4.3ms preprocess, 26.4ms inference, 0.0ms loss, 2.3ms postprocess per image\n",
      "Saving /data/mtmoore/school/CSiML_AI395T/final_project/models/yolo11/iterative/11m_1440imgsz_IP8M-H-SW-12epochs-val/predictions.json...\n",
      "Results saved to \u001b[1m/data/mtmoore/school/CSiML_AI395T/final_project/models/yolo11/iterative/11m_1440imgsz_IP8M-H-SW-12epochs-val\u001b[0m\n",
      "Ultralytics 8.3.29 🚀 Python-3.12.7 torch-2.2.2+cu121 CUDA:0 (NVIDIA GeForce RTX 4070 SUPER, 11904MiB)\n",
      "YOLO11m summary (fused): 303 layers, 20,030,803 parameters, 0 gradients, 67.6 GFLOPs\n"
     ]
    },
    {
     "name": "stderr",
     "output_type": "stream",
     "text": [
      "\u001b[34m\u001b[1mval: \u001b[0mScanning val/labels.cache... 98 images, 0 backgrounds, 0 corrupt: 100%|██████████| 98/98 [00:00<?, ?it/s]\u001b[0m\n",
      "                 Class     Images  Instances      Box(P          R      mAP50  mAP50-95): 100%|██████████| 98/98 [00:04<00:00, 21.24it/s]\n"
     ]
    },
    {
     "name": "stdout",
     "output_type": "stream",
     "text": [
      "                   all         98        205      0.844      0.551      0.597      0.238\n",
      "Speed: 5.7ms preprocess, 27.8ms inference, 0.0ms loss, 2.4ms postprocess per image\n",
      "Saving /data/mtmoore/school/CSiML_AI395T/final_project/models/yolo11/iterative/11m_1440imgsz_IP8M-H-SW-13epochs-val/predictions.json...\n",
      "Results saved to \u001b[1m/data/mtmoore/school/CSiML_AI395T/final_project/models/yolo11/iterative/11m_1440imgsz_IP8M-H-SW-13epochs-val\u001b[0m\n",
      "Ultralytics 8.3.29 🚀 Python-3.12.7 torch-2.2.2+cu121 CUDA:0 (NVIDIA GeForce RTX 4070 SUPER, 11904MiB)\n",
      "YOLO11m summary (fused): 303 layers, 20,030,803 parameters, 0 gradients, 67.6 GFLOPs\n"
     ]
    },
    {
     "name": "stderr",
     "output_type": "stream",
     "text": [
      "\u001b[34m\u001b[1mval: \u001b[0mScanning val/labels.cache... 98 images, 0 backgrounds, 0 corrupt: 100%|██████████| 98/98 [00:00<?, ?it/s]\u001b[0m\n",
      "                 Class     Images  Instances      Box(P          R      mAP50  mAP50-95): 100%|██████████| 98/98 [02:05<00:00,  1.28s/it]\n"
     ]
    },
    {
     "name": "stdout",
     "output_type": "stream",
     "text": [
      "                   all         98        205      0.814       0.58      0.621      0.252\n",
      "Speed: 7.0ms preprocess, 29.6ms inference, 0.0ms loss, 2.2ms postprocess per image\n",
      "Saving /data/mtmoore/school/CSiML_AI395T/final_project/models/yolo11/iterative/11m_1440imgsz_IP8M-H-SW-14epochs-val/predictions.json...\n",
      "Results saved to \u001b[1m/data/mtmoore/school/CSiML_AI395T/final_project/models/yolo11/iterative/11m_1440imgsz_IP8M-H-SW-14epochs-val\u001b[0m\n",
      "Ultralytics 8.3.29 🚀 Python-3.12.7 torch-2.2.2+cu121 CUDA:0 (NVIDIA GeForce RTX 4070 SUPER, 11904MiB)\n",
      "YOLO11m summary (fused): 303 layers, 20,030,803 parameters, 0 gradients, 67.6 GFLOPs\n"
     ]
    },
    {
     "name": "stderr",
     "output_type": "stream",
     "text": [
      "\u001b[34m\u001b[1mval: \u001b[0mScanning val/labels.cache... 98 images, 0 backgrounds, 0 corrupt: 100%|██████████| 98/98 [00:00<?, ?it/s]\u001b[0m\n",
      "                 Class     Images  Instances      Box(P          R      mAP50  mAP50-95): 100%|██████████| 98/98 [00:04<00:00, 21.72it/s]\n"
     ]
    },
    {
     "name": "stdout",
     "output_type": "stream",
     "text": [
      "                   all         98        205      0.879      0.585       0.63      0.242\n",
      "Speed: 5.2ms preprocess, 28.1ms inference, 0.0ms loss, 1.9ms postprocess per image\n",
      "Saving /data/mtmoore/school/CSiML_AI395T/final_project/models/yolo11/iterative/11m_1440imgsz_IP8M-H-SW-15epochs-val/predictions.json...\n",
      "Results saved to \u001b[1m/data/mtmoore/school/CSiML_AI395T/final_project/models/yolo11/iterative/11m_1440imgsz_IP8M-H-SW-15epochs-val\u001b[0m\n",
      "Ultralytics 8.3.29 🚀 Python-3.12.7 torch-2.2.2+cu121 CUDA:0 (NVIDIA GeForce RTX 4070 SUPER, 11904MiB)\n",
      "YOLO11m summary (fused): 303 layers, 20,030,803 parameters, 0 gradients, 67.6 GFLOPs\n"
     ]
    },
    {
     "name": "stderr",
     "output_type": "stream",
     "text": [
      "\u001b[34m\u001b[1mval: \u001b[0mScanning val/labels.cache... 98 images, 0 backgrounds, 0 corrupt: 100%|██████████| 98/98 [00:00<?, ?it/s]\u001b[0m\n",
      "                 Class     Images  Instances      Box(P          R      mAP50  mAP50-95): 100%|██████████| 98/98 [00:04<00:00, 21.89it/s]\n"
     ]
    },
    {
     "name": "stdout",
     "output_type": "stream",
     "text": [
      "                   all         98        205      0.763      0.605       0.64      0.265\n",
      "Speed: 5.7ms preprocess, 27.4ms inference, 0.0ms loss, 1.9ms postprocess per image\n",
      "Saving /data/mtmoore/school/CSiML_AI395T/final_project/models/yolo11/iterative/11m_1440imgsz_IP8M-H-SW-16epochs-val/predictions.json...\n",
      "Results saved to \u001b[1m/data/mtmoore/school/CSiML_AI395T/final_project/models/yolo11/iterative/11m_1440imgsz_IP8M-H-SW-16epochs-val\u001b[0m\n",
      "Ultralytics 8.3.29 🚀 Python-3.12.7 torch-2.2.2+cu121 CUDA:0 (NVIDIA GeForce RTX 4070 SUPER, 11904MiB)\n",
      "YOLO11m summary (fused): 303 layers, 20,030,803 parameters, 0 gradients, 67.6 GFLOPs\n"
     ]
    },
    {
     "name": "stderr",
     "output_type": "stream",
     "text": [
      "\u001b[34m\u001b[1mval: \u001b[0mScanning val/labels.cache... 98 images, 0 backgrounds, 0 corrupt: 100%|██████████| 98/98 [00:00<?, ?it/s]\u001b[0m\n",
      "                 Class     Images  Instances      Box(P          R      mAP50  mAP50-95): 100%|██████████| 98/98 [00:04<00:00, 21.71it/s]\n"
     ]
    },
    {
     "name": "stdout",
     "output_type": "stream",
     "text": [
      "                   all         98        205      0.921      0.571      0.638      0.287\n",
      "Speed: 5.0ms preprocess, 26.7ms inference, 0.0ms loss, 1.9ms postprocess per image\n",
      "Saving /data/mtmoore/school/CSiML_AI395T/final_project/models/yolo11/iterative/11m_1440imgsz_IP8M-H-SW-17epochs-val/predictions.json...\n",
      "Results saved to \u001b[1m/data/mtmoore/school/CSiML_AI395T/final_project/models/yolo11/iterative/11m_1440imgsz_IP8M-H-SW-17epochs-val\u001b[0m\n",
      "Ultralytics 8.3.29 🚀 Python-3.12.7 torch-2.2.2+cu121 CUDA:0 (NVIDIA GeForce RTX 4070 SUPER, 11904MiB)\n",
      "YOLO11m summary (fused): 303 layers, 20,030,803 parameters, 0 gradients, 67.6 GFLOPs\n"
     ]
    },
    {
     "name": "stderr",
     "output_type": "stream",
     "text": [
      "\u001b[34m\u001b[1mval: \u001b[0mScanning val/labels.cache... 98 images, 0 backgrounds, 0 corrupt: 100%|██████████| 98/98 [00:00<?, ?it/s]\u001b[0m\n",
      "                 Class     Images  Instances      Box(P          R      mAP50  mAP50-95): 100%|██████████| 98/98 [00:04<00:00, 22.55it/s]\n"
     ]
    },
    {
     "name": "stdout",
     "output_type": "stream",
     "text": [
      "                   all         98        205      0.907      0.619      0.676      0.296\n",
      "Speed: 4.9ms preprocess, 26.9ms inference, 0.0ms loss, 2.2ms postprocess per image\n",
      "Saving /data/mtmoore/school/CSiML_AI395T/final_project/models/yolo11/iterative/11m_1440imgsz_IP8M-H-SW-18epochs-val/predictions.json...\n",
      "Results saved to \u001b[1m/data/mtmoore/school/CSiML_AI395T/final_project/models/yolo11/iterative/11m_1440imgsz_IP8M-H-SW-18epochs-val\u001b[0m\n",
      "Ultralytics 8.3.29 🚀 Python-3.12.7 torch-2.2.2+cu121 CUDA:0 (NVIDIA GeForce RTX 4070 SUPER, 11904MiB)\n",
      "YOLO11m summary (fused): 303 layers, 20,030,803 parameters, 0 gradients, 67.6 GFLOPs\n"
     ]
    },
    {
     "name": "stderr",
     "output_type": "stream",
     "text": [
      "\u001b[34m\u001b[1mval: \u001b[0mScanning val/labels.cache... 98 images, 0 backgrounds, 0 corrupt: 100%|██████████| 98/98 [00:00<?, ?it/s]\u001b[0m\n",
      "                 Class     Images  Instances      Box(P          R      mAP50  mAP50-95): 100%|██████████| 98/98 [00:04<00:00, 20.60it/s]\n"
     ]
    },
    {
     "name": "stdout",
     "output_type": "stream",
     "text": [
      "                   all         98        205      0.851      0.615      0.674      0.292\n",
      "Speed: 5.5ms preprocess, 28.7ms inference, 0.0ms loss, 2.5ms postprocess per image\n",
      "Saving /data/mtmoore/school/CSiML_AI395T/final_project/models/yolo11/iterative/11m_1440imgsz_IP8M-H-SW-19epochs-val/predictions.json...\n",
      "Results saved to \u001b[1m/data/mtmoore/school/CSiML_AI395T/final_project/models/yolo11/iterative/11m_1440imgsz_IP8M-H-SW-19epochs-val\u001b[0m\n",
      "Ultralytics 8.3.29 🚀 Python-3.12.7 torch-2.2.2+cu121 CUDA:0 (NVIDIA GeForce RTX 4070 SUPER, 11904MiB)\n",
      "YOLO11m summary (fused): 303 layers, 20,030,803 parameters, 0 gradients, 67.6 GFLOPs\n"
     ]
    },
    {
     "name": "stderr",
     "output_type": "stream",
     "text": [
      "\u001b[34m\u001b[1mval: \u001b[0mScanning val/labels.cache... 98 images, 0 backgrounds, 0 corrupt: 100%|██████████| 98/98 [00:00<?, ?it/s]\u001b[0m\n",
      "                 Class     Images  Instances      Box(P          R      mAP50  mAP50-95): 100%|██████████| 98/98 [00:04<00:00, 21.21it/s]\n"
     ]
    },
    {
     "name": "stdout",
     "output_type": "stream",
     "text": [
      "                   all         98        205      0.869       0.58      0.664      0.257\n",
      "Speed: 5.2ms preprocess, 28.6ms inference, 0.0ms loss, 1.8ms postprocess per image\n",
      "Saving /data/mtmoore/school/CSiML_AI395T/final_project/models/yolo11/iterative/11m_1440imgsz_IP8M-H-SW-20epochs-val/predictions.json...\n",
      "Results saved to \u001b[1m/data/mtmoore/school/CSiML_AI395T/final_project/models/yolo11/iterative/11m_1440imgsz_IP8M-H-SW-20epochs-val\u001b[0m\n",
      "Ultralytics 8.3.29 🚀 Python-3.12.7 torch-2.2.2+cu121 CUDA:0 (NVIDIA GeForce RTX 4070 SUPER, 11904MiB)\n",
      "YOLO11m summary (fused): 303 layers, 20,030,803 parameters, 0 gradients, 67.6 GFLOPs\n"
     ]
    },
    {
     "name": "stderr",
     "output_type": "stream",
     "text": [
      "\u001b[34m\u001b[1mval: \u001b[0mScanning val/labels.cache... 98 images, 0 backgrounds, 0 corrupt: 100%|██████████| 98/98 [00:00<?, ?it/s]\u001b[0m\n",
      "                 Class     Images  Instances      Box(P          R      mAP50  mAP50-95): 100%|██████████| 98/98 [00:04<00:00, 22.91it/s]\n"
     ]
    },
    {
     "name": "stdout",
     "output_type": "stream",
     "text": [
      "                   all         98        205      0.923      0.588      0.672      0.314\n",
      "Speed: 4.4ms preprocess, 26.1ms inference, 0.0ms loss, 2.8ms postprocess per image\n",
      "Saving /data/mtmoore/school/CSiML_AI395T/final_project/models/yolo11/iterative/11m_1440imgsz_IP8M-H-SW-21epochs-val/predictions.json...\n",
      "Results saved to \u001b[1m/data/mtmoore/school/CSiML_AI395T/final_project/models/yolo11/iterative/11m_1440imgsz_IP8M-H-SW-21epochs-val\u001b[0m\n",
      "Ultralytics 8.3.29 🚀 Python-3.12.7 torch-2.2.2+cu121 CUDA:0 (NVIDIA GeForce RTX 4070 SUPER, 11904MiB)\n",
      "YOLO11m summary (fused): 303 layers, 20,030,803 parameters, 0 gradients, 67.6 GFLOPs\n"
     ]
    },
    {
     "name": "stderr",
     "output_type": "stream",
     "text": [
      "\u001b[34m\u001b[1mval: \u001b[0mScanning val/labels.cache... 98 images, 0 backgrounds, 0 corrupt: 100%|██████████| 98/98 [00:00<?, ?it/s]\u001b[0m\n",
      "                 Class     Images  Instances      Box(P          R      mAP50  mAP50-95): 100%|██████████| 98/98 [00:04<00:00, 21.70it/s]\n"
     ]
    },
    {
     "name": "stdout",
     "output_type": "stream",
     "text": [
      "                   all         98        205      0.907       0.62      0.677      0.292\n",
      "Speed: 5.0ms preprocess, 27.8ms inference, 0.0ms loss, 2.3ms postprocess per image\n",
      "Saving /data/mtmoore/school/CSiML_AI395T/final_project/models/yolo11/iterative/11m_1440imgsz_IP8M-H-SW-22epochs-val/predictions.json...\n",
      "Results saved to \u001b[1m/data/mtmoore/school/CSiML_AI395T/final_project/models/yolo11/iterative/11m_1440imgsz_IP8M-H-SW-22epochs-val\u001b[0m\n",
      "Ultralytics 8.3.29 🚀 Python-3.12.7 torch-2.2.2+cu121 CUDA:0 (NVIDIA GeForce RTX 4070 SUPER, 11904MiB)\n",
      "YOLO11m summary (fused): 303 layers, 20,030,803 parameters, 0 gradients, 67.6 GFLOPs\n"
     ]
    },
    {
     "name": "stderr",
     "output_type": "stream",
     "text": [
      "\u001b[34m\u001b[1mval: \u001b[0mScanning val/labels.cache... 98 images, 0 backgrounds, 0 corrupt: 100%|██████████| 98/98 [00:00<?, ?it/s]\u001b[0m\n",
      "                 Class     Images  Instances      Box(P          R      mAP50  mAP50-95): 100%|██████████| 98/98 [00:04<00:00, 20.50it/s]\n"
     ]
    },
    {
     "name": "stdout",
     "output_type": "stream",
     "text": [
      "                   all         98        205      0.847      0.622      0.692      0.309\n",
      "Speed: 6.7ms preprocess, 29.4ms inference, 0.0ms loss, 1.8ms postprocess per image\n",
      "Saving /data/mtmoore/school/CSiML_AI395T/final_project/models/yolo11/iterative/11m_1440imgsz_IP8M-H-SW-23epochs-val/predictions.json...\n",
      "Results saved to \u001b[1m/data/mtmoore/school/CSiML_AI395T/final_project/models/yolo11/iterative/11m_1440imgsz_IP8M-H-SW-23epochs-val\u001b[0m\n",
      "Ultralytics 8.3.29 🚀 Python-3.12.7 torch-2.2.2+cu121 CUDA:0 (NVIDIA GeForce RTX 4070 SUPER, 11904MiB)\n",
      "YOLO11m summary (fused): 303 layers, 20,030,803 parameters, 0 gradients, 67.6 GFLOPs\n"
     ]
    },
    {
     "name": "stderr",
     "output_type": "stream",
     "text": [
      "\u001b[34m\u001b[1mval: \u001b[0mScanning val/labels.cache... 98 images, 0 backgrounds, 0 corrupt: 100%|██████████| 98/98 [00:00<?, ?it/s]\u001b[0m\n",
      "                 Class     Images  Instances      Box(P          R      mAP50  mAP50-95): 100%|██████████| 98/98 [00:04<00:00, 21.25it/s]\n"
     ]
    },
    {
     "name": "stdout",
     "output_type": "stream",
     "text": [
      "                   all         98        205      0.818      0.629      0.683      0.316\n",
      "Speed: 4.4ms preprocess, 28.0ms inference, 0.0ms loss, 1.9ms postprocess per image\n",
      "Saving /data/mtmoore/school/CSiML_AI395T/final_project/models/yolo11/iterative/11m_1440imgsz_IP8M-H-SW-24epochs-val/predictions.json...\n",
      "Results saved to \u001b[1m/data/mtmoore/school/CSiML_AI395T/final_project/models/yolo11/iterative/11m_1440imgsz_IP8M-H-SW-24epochs-val\u001b[0m\n",
      "Ultralytics 8.3.29 🚀 Python-3.12.7 torch-2.2.2+cu121 CUDA:0 (NVIDIA GeForce RTX 4070 SUPER, 11904MiB)\n",
      "YOLO11m summary (fused): 303 layers, 20,030,803 parameters, 0 gradients, 67.6 GFLOPs\n"
     ]
    },
    {
     "name": "stderr",
     "output_type": "stream",
     "text": [
      "\u001b[34m\u001b[1mval: \u001b[0mScanning val/labels.cache... 98 images, 0 backgrounds, 0 corrupt: 100%|██████████| 98/98 [00:00<?, ?it/s]\u001b[0m\n",
      "                 Class     Images  Instances      Box(P          R      mAP50  mAP50-95): 100%|██████████| 98/98 [00:05<00:00, 18.64it/s]\n"
     ]
    },
    {
     "name": "stdout",
     "output_type": "stream",
     "text": [
      "                   all         98        205      0.871      0.644      0.695      0.318\n",
      "Speed: 8.0ms preprocess, 32.1ms inference, 0.0ms loss, 1.9ms postprocess per image\n",
      "Saving /data/mtmoore/school/CSiML_AI395T/final_project/models/yolo11/iterative/11m_1440imgsz_IP8M-H-SW-25epochs-val/predictions.json...\n",
      "Results saved to \u001b[1m/data/mtmoore/school/CSiML_AI395T/final_project/models/yolo11/iterative/11m_1440imgsz_IP8M-H-SW-25epochs-val\u001b[0m\n",
      "Ultralytics 8.3.29 🚀 Python-3.12.7 torch-2.2.2+cu121 CUDA:0 (NVIDIA GeForce RTX 4070 SUPER, 11904MiB)\n",
      "YOLO11m summary (fused): 303 layers, 20,030,803 parameters, 0 gradients, 67.6 GFLOPs\n"
     ]
    },
    {
     "name": "stderr",
     "output_type": "stream",
     "text": [
      "\u001b[34m\u001b[1mval: \u001b[0mScanning val/labels.cache... 98 images, 0 backgrounds, 0 corrupt: 100%|██████████| 98/98 [00:00<?, ?it/s]\u001b[0m\n",
      "                 Class     Images  Instances      Box(P          R      mAP50  mAP50-95): 100%|██████████| 98/98 [01:25<00:00,  1.15it/s]\n"
     ]
    },
    {
     "name": "stdout",
     "output_type": "stream",
     "text": [
      "                   all         98        205      0.912      0.668      0.741      0.346\n",
      "Speed: 7.5ms preprocess, 30.8ms inference, 0.0ms loss, 2.0ms postprocess per image\n",
      "Saving /data/mtmoore/school/CSiML_AI395T/final_project/models/yolo11/iterative/11m_1440imgsz_IP8M-H-SW-30epochs-val/predictions.json...\n",
      "Results saved to \u001b[1m/data/mtmoore/school/CSiML_AI395T/final_project/models/yolo11/iterative/11m_1440imgsz_IP8M-H-SW-30epochs-val\u001b[0m\n",
      "Ultralytics 8.3.29 🚀 Python-3.12.7 torch-2.2.2+cu121 CUDA:0 (NVIDIA GeForce RTX 4070 SUPER, 11904MiB)\n",
      "YOLO11m summary (fused): 303 layers, 20,030,803 parameters, 0 gradients, 67.6 GFLOPs\n"
     ]
    },
    {
     "name": "stderr",
     "output_type": "stream",
     "text": [
      "\u001b[34m\u001b[1mval: \u001b[0mScanning val/labels.cache... 98 images, 0 backgrounds, 0 corrupt: 100%|██████████| 98/98 [00:00<?, ?it/s]\u001b[0m\n",
      "                 Class     Images  Instances      Box(P          R      mAP50  mAP50-95): 100%|██████████| 98/98 [00:04<00:00, 22.63it/s]\n"
     ]
    },
    {
     "name": "stdout",
     "output_type": "stream",
     "text": [
      "                   all         98        205      0.896      0.673      0.728      0.341\n",
      "Speed: 4.8ms preprocess, 26.9ms inference, 0.0ms loss, 2.2ms postprocess per image\n",
      "Saving /data/mtmoore/school/CSiML_AI395T/final_project/models/yolo11/iterative/11m_1440imgsz_IP8M-H-SW-35epochs-val/predictions.json...\n",
      "Results saved to \u001b[1m/data/mtmoore/school/CSiML_AI395T/final_project/models/yolo11/iterative/11m_1440imgsz_IP8M-H-SW-35epochs-val\u001b[0m\n",
      "Ultralytics 8.3.29 🚀 Python-3.12.7 torch-2.2.2+cu121 CUDA:0 (NVIDIA GeForce RTX 4070 SUPER, 11904MiB)\n",
      "YOLO11m summary (fused): 303 layers, 20,030,803 parameters, 0 gradients, 67.6 GFLOPs\n"
     ]
    },
    {
     "name": "stderr",
     "output_type": "stream",
     "text": [
      "\u001b[34m\u001b[1mval: \u001b[0mScanning val/labels.cache... 98 images, 0 backgrounds, 0 corrupt: 100%|██████████| 98/98 [00:00<?, ?it/s]\u001b[0m\n",
      "                 Class     Images  Instances      Box(P          R      mAP50  mAP50-95): 100%|██████████| 98/98 [00:04<00:00, 22.36it/s]\n"
     ]
    },
    {
     "name": "stdout",
     "output_type": "stream",
     "text": [
      "                   all         98        205      0.917      0.644      0.728      0.373\n",
      "Speed: 4.8ms preprocess, 27.3ms inference, 0.0ms loss, 2.0ms postprocess per image\n",
      "Saving /data/mtmoore/school/CSiML_AI395T/final_project/models/yolo11/iterative/11m_1440imgsz_IP8M-H-SW-40epochs-val/predictions.json...\n",
      "Results saved to \u001b[1m/data/mtmoore/school/CSiML_AI395T/final_project/models/yolo11/iterative/11m_1440imgsz_IP8M-H-SW-40epochs-val\u001b[0m\n",
      "Ultralytics 8.3.29 🚀 Python-3.12.7 torch-2.2.2+cu121 CUDA:0 (NVIDIA GeForce RTX 4070 SUPER, 11904MiB)\n",
      "YOLO11m summary (fused): 303 layers, 20,030,803 parameters, 0 gradients, 67.6 GFLOPs\n"
     ]
    },
    {
     "name": "stderr",
     "output_type": "stream",
     "text": [
      "\u001b[34m\u001b[1mval: \u001b[0mScanning val/labels.cache... 98 images, 0 backgrounds, 0 corrupt: 100%|██████████| 98/98 [00:00<?, ?it/s]\u001b[0m\n",
      "                 Class     Images  Instances      Box(P          R      mAP50  mAP50-95): 100%|██████████| 98/98 [00:05<00:00, 19.49it/s]\n"
     ]
    },
    {
     "name": "stdout",
     "output_type": "stream",
     "text": [
      "                   all         98        205      0.876      0.723      0.769      0.397\n",
      "Speed: 8.9ms preprocess, 29.5ms inference, 0.0ms loss, 2.4ms postprocess per image\n",
      "Saving /data/mtmoore/school/CSiML_AI395T/final_project/models/yolo11/iterative/11m_1440imgsz_IP8M-H-SW-45epochs-val/predictions.json...\n",
      "Results saved to \u001b[1m/data/mtmoore/school/CSiML_AI395T/final_project/models/yolo11/iterative/11m_1440imgsz_IP8M-H-SW-45epochs-val\u001b[0m\n",
      "Ultralytics 8.3.29 🚀 Python-3.12.7 torch-2.2.2+cu121 CUDA:0 (NVIDIA GeForce RTX 4070 SUPER, 11904MiB)\n",
      "YOLO11m summary (fused): 303 layers, 20,030,803 parameters, 0 gradients, 67.6 GFLOPs\n"
     ]
    },
    {
     "name": "stderr",
     "output_type": "stream",
     "text": [
      "\u001b[34m\u001b[1mval: \u001b[0mScanning val/labels.cache... 98 images, 0 backgrounds, 0 corrupt: 100%|██████████| 98/98 [00:00<?, ?it/s]\u001b[0m\n",
      "                 Class     Images  Instances      Box(P          R      mAP50  mAP50-95): 100%|██████████| 98/98 [00:05<00:00, 18.77it/s]\n"
     ]
    },
    {
     "name": "stdout",
     "output_type": "stream",
     "text": [
      "                   all         98        205      0.869      0.746      0.777      0.422\n",
      "Speed: 8.2ms preprocess, 31.0ms inference, 0.0ms loss, 1.8ms postprocess per image\n",
      "Saving /data/mtmoore/school/CSiML_AI395T/final_project/models/yolo11/iterative/11m_1440imgsz_IP8M-H-SW-60epochs-val/predictions.json...\n",
      "Results saved to \u001b[1m/data/mtmoore/school/CSiML_AI395T/final_project/models/yolo11/iterative/11m_1440imgsz_IP8M-H-SW-60epochs-val\u001b[0m\n",
      "Ultralytics 8.3.29 🚀 Python-3.12.7 torch-2.2.2+cu121 CUDA:0 (NVIDIA GeForce RTX 4070 SUPER, 11904MiB)\n",
      "YOLO11m summary (fused): 303 layers, 20,030,803 parameters, 0 gradients, 67.6 GFLOPs\n"
     ]
    },
    {
     "name": "stderr",
     "output_type": "stream",
     "text": [
      "\u001b[34m\u001b[1mval: \u001b[0mScanning val/labels.cache... 98 images, 0 backgrounds, 0 corrupt: 100%|██████████| 98/98 [00:00<?, ?it/s]\u001b[0m\n",
      "                 Class     Images  Instances      Box(P          R      mAP50  mAP50-95): 100%|██████████| 98/98 [00:04<00:00, 19.94it/s]\n"
     ]
    },
    {
     "name": "stdout",
     "output_type": "stream",
     "text": [
      "                   all         98        205      0.884      0.761      0.799      0.411\n",
      "Speed: 8.0ms preprocess, 29.7ms inference, 0.0ms loss, 1.8ms postprocess per image\n",
      "Saving /data/mtmoore/school/CSiML_AI395T/final_project/models/yolo11/iterative/11m_1440imgsz_IP8M-H-SW-70epochs-val/predictions.json...\n",
      "Results saved to \u001b[1m/data/mtmoore/school/CSiML_AI395T/final_project/models/yolo11/iterative/11m_1440imgsz_IP8M-H-SW-70epochs-val\u001b[0m\n",
      "Ultralytics 8.3.29 🚀 Python-3.12.7 torch-2.2.2+cu121 CUDA:0 (NVIDIA GeForce RTX 4070 SUPER, 11904MiB)\n",
      "YOLO11m summary (fused): 303 layers, 20,030,803 parameters, 0 gradients, 67.6 GFLOPs\n"
     ]
    },
    {
     "name": "stderr",
     "output_type": "stream",
     "text": [
      "\u001b[34m\u001b[1mval: \u001b[0mScanning val/labels.cache... 98 images, 0 backgrounds, 0 corrupt: 100%|██████████| 98/98 [00:00<?, ?it/s]\u001b[0m\n",
      "                 Class     Images  Instances      Box(P          R      mAP50  mAP50-95): 100%|██████████| 98/98 [00:04<00:00, 22.13it/s]\n"
     ]
    },
    {
     "name": "stdout",
     "output_type": "stream",
     "text": [
      "                   all         98        205      0.866      0.757      0.794      0.434\n",
      "Speed: 4.7ms preprocess, 27.4ms inference, 0.0ms loss, 2.4ms postprocess per image\n",
      "Saving /data/mtmoore/school/CSiML_AI395T/final_project/models/yolo11/iterative/11m_1440imgsz_IP8M-H-SW-80epochs-val/predictions.json...\n",
      "Results saved to \u001b[1m/data/mtmoore/school/CSiML_AI395T/final_project/models/yolo11/iterative/11m_1440imgsz_IP8M-H-SW-80epochs-val\u001b[0m\n",
      "Ultralytics 8.3.29 🚀 Python-3.12.7 torch-2.2.2+cu121 CUDA:0 (NVIDIA GeForce RTX 4070 SUPER, 11904MiB)\n",
      "YOLO11m summary (fused): 303 layers, 20,030,803 parameters, 0 gradients, 67.6 GFLOPs\n"
     ]
    },
    {
     "name": "stderr",
     "output_type": "stream",
     "text": [
      "\u001b[34m\u001b[1mval: \u001b[0mScanning val/labels.cache... 98 images, 0 backgrounds, 0 corrupt: 100%|██████████| 98/98 [00:00<?, ?it/s]\u001b[0m\n",
      "                 Class     Images  Instances      Box(P          R      mAP50  mAP50-95): 100%|██████████| 98/98 [00:04<00:00, 22.14it/s]\n"
     ]
    },
    {
     "name": "stdout",
     "output_type": "stream",
     "text": [
      "                   all         98        205       0.94      0.746      0.805      0.456\n",
      "Speed: 4.8ms preprocess, 27.9ms inference, 0.0ms loss, 1.9ms postprocess per image\n",
      "Saving /data/mtmoore/school/CSiML_AI395T/final_project/models/yolo11/iterative/11m_1440imgsz_IP8M-H-SW-90epochs-val/predictions.json...\n",
      "Results saved to \u001b[1m/data/mtmoore/school/CSiML_AI395T/final_project/models/yolo11/iterative/11m_1440imgsz_IP8M-H-SW-90epochs-val\u001b[0m\n",
      "Ultralytics 8.3.29 🚀 Python-3.12.7 torch-2.2.2+cu121 CUDA:0 (NVIDIA GeForce RTX 4070 SUPER, 11904MiB)\n",
      "YOLO11m summary (fused): 303 layers, 20,030,803 parameters, 0 gradients, 67.6 GFLOPs\n"
     ]
    },
    {
     "name": "stderr",
     "output_type": "stream",
     "text": [
      "\u001b[34m\u001b[1mval: \u001b[0mScanning val/labels.cache... 98 images, 0 backgrounds, 0 corrupt: 100%|██████████| 98/98 [00:00<?, ?it/s]\u001b[0m\n",
      "                 Class     Images  Instances      Box(P          R      mAP50  mAP50-95): 100%|██████████| 98/98 [00:04<00:00, 21.30it/s]\n"
     ]
    },
    {
     "name": "stdout",
     "output_type": "stream",
     "text": [
      "                   all         98        205      0.874      0.795      0.833      0.469\n",
      "Speed: 6.2ms preprocess, 27.6ms inference, 0.0ms loss, 2.1ms postprocess per image\n",
      "Saving /data/mtmoore/school/CSiML_AI395T/final_project/models/yolo11/iterative/11m_1440imgsz_IP8M-H-SW-100epochs-val/predictions.json...\n",
      "Results saved to \u001b[1m/data/mtmoore/school/CSiML_AI395T/final_project/models/yolo11/iterative/11m_1440imgsz_IP8M-H-SW-100epochs-val\u001b[0m\n",
      "Ultralytics 8.3.29 🚀 Python-3.12.7 torch-2.2.2+cu121 CUDA:0 (NVIDIA GeForce RTX 4070 SUPER, 11904MiB)\n",
      "YOLO11m summary (fused): 303 layers, 20,030,803 parameters, 0 gradients, 67.6 GFLOPs\n"
     ]
    },
    {
     "name": "stderr",
     "output_type": "stream",
     "text": [
      "\u001b[34m\u001b[1mval: \u001b[0mScanning val/labels.cache... 98 images, 0 backgrounds, 0 corrupt: 100%|██████████| 98/98 [00:00<?, ?it/s]\u001b[0m\n",
      "                 Class     Images  Instances      Box(P          R      mAP50  mAP50-95): 100%|██████████| 98/98 [00:19<00:00,  4.95it/s]\n"
     ]
    },
    {
     "name": "stdout",
     "output_type": "stream",
     "text": [
      "                   all         98        205       0.61      0.395      0.369       0.13\n",
      "Speed: 91.9ms preprocess, 70.0ms inference, 0.0ms loss, 2.7ms postprocess per image\n",
      "Saving /data/mtmoore/school/CSiML_AI395T/final_project/models/yolo11/iterative/11m_2880imgsz_IP8M-H-SW-1epochs-val/predictions.json...\n",
      "Results saved to \u001b[1m/data/mtmoore/school/CSiML_AI395T/final_project/models/yolo11/iterative/11m_2880imgsz_IP8M-H-SW-1epochs-val\u001b[0m\n",
      "Ultralytics 8.3.29 🚀 Python-3.12.7 torch-2.2.2+cu121 CUDA:0 (NVIDIA GeForce RTX 4070 SUPER, 11904MiB)\n",
      "YOLO11m summary (fused): 303 layers, 20,030,803 parameters, 0 gradients, 67.6 GFLOPs\n"
     ]
    },
    {
     "name": "stderr",
     "output_type": "stream",
     "text": [
      "\u001b[34m\u001b[1mval: \u001b[0mScanning val/labels.cache... 98 images, 0 backgrounds, 0 corrupt: 100%|██████████| 98/98 [00:00<?, ?it/s]\u001b[0m\n",
      "                 Class     Images  Instances      Box(P          R      mAP50  mAP50-95): 100%|██████████| 98/98 [00:19<00:00,  5.00it/s]\n"
     ]
    },
    {
     "name": "stdout",
     "output_type": "stream",
     "text": [
      "                   all         98        205      0.821      0.538      0.615       0.27\n",
      "Speed: 91.5ms preprocess, 66.3ms inference, 0.0ms loss, 4.0ms postprocess per image\n",
      "Saving /data/mtmoore/school/CSiML_AI395T/final_project/models/yolo11/iterative/11m_2880imgsz_IP8M-H-SW-2epochs-val/predictions.json...\n",
      "Results saved to \u001b[1m/data/mtmoore/school/CSiML_AI395T/final_project/models/yolo11/iterative/11m_2880imgsz_IP8M-H-SW-2epochs-val\u001b[0m\n",
      "Ultralytics 8.3.29 🚀 Python-3.12.7 torch-2.2.2+cu121 CUDA:0 (NVIDIA GeForce RTX 4070 SUPER, 11904MiB)\n",
      "YOLO11m summary (fused): 303 layers, 20,030,803 parameters, 0 gradients, 67.6 GFLOPs\n"
     ]
    },
    {
     "name": "stderr",
     "output_type": "stream",
     "text": [
      "\u001b[34m\u001b[1mval: \u001b[0mScanning val/labels.cache... 98 images, 0 backgrounds, 0 corrupt: 100%|██████████| 98/98 [00:00<?, ?it/s]\u001b[0m\n",
      "                 Class     Images  Instances      Box(P          R      mAP50  mAP50-95): 100%|██████████| 98/98 [01:00<00:00,  1.63it/s]\n"
     ]
    },
    {
     "name": "stdout",
     "output_type": "stream",
     "text": [
      "                   all         98        205      0.877      0.644      0.744      0.344\n",
      "Speed: 106.2ms preprocess, 66.7ms inference, 0.0ms loss, 2.2ms postprocess per image\n",
      "Saving /data/mtmoore/school/CSiML_AI395T/final_project/models/yolo11/iterative/11m_2880imgsz_IP8M-H-SW-3epochs-val/predictions.json...\n",
      "Results saved to \u001b[1m/data/mtmoore/school/CSiML_AI395T/final_project/models/yolo11/iterative/11m_2880imgsz_IP8M-H-SW-3epochs-val\u001b[0m\n",
      "Ultralytics 8.3.29 🚀 Python-3.12.7 torch-2.2.2+cu121 CUDA:0 (NVIDIA GeForce RTX 4070 SUPER, 11904MiB)\n",
      "YOLO11m summary (fused): 303 layers, 20,030,803 parameters, 0 gradients, 67.6 GFLOPs\n"
     ]
    },
    {
     "name": "stderr",
     "output_type": "stream",
     "text": [
      "\u001b[34m\u001b[1mval: \u001b[0mScanning val/labels.cache... 98 images, 0 backgrounds, 0 corrupt: 100%|██████████| 98/98 [00:00<?, ?it/s]\u001b[0m\n",
      "                 Class     Images  Instances      Box(P          R      mAP50  mAP50-95): 100%|██████████| 98/98 [00:18<00:00,  5.16it/s]\n"
     ]
    },
    {
     "name": "stdout",
     "output_type": "stream",
     "text": [
      "                   all         98        205      0.898      0.641      0.766      0.348\n",
      "Speed: 109.0ms preprocess, 65.6ms inference, 0.0ms loss, 2.2ms postprocess per image\n",
      "Saving /data/mtmoore/school/CSiML_AI395T/final_project/models/yolo11/iterative/11m_2880imgsz_IP8M-H-SW-4epochs-val/predictions.json...\n",
      "Results saved to \u001b[1m/data/mtmoore/school/CSiML_AI395T/final_project/models/yolo11/iterative/11m_2880imgsz_IP8M-H-SW-4epochs-val\u001b[0m\n",
      "Ultralytics 8.3.29 🚀 Python-3.12.7 torch-2.2.2+cu121 CUDA:0 (NVIDIA GeForce RTX 4070 SUPER, 11904MiB)\n",
      "YOLO11m summary (fused): 303 layers, 20,030,803 parameters, 0 gradients, 67.6 GFLOPs\n"
     ]
    },
    {
     "name": "stderr",
     "output_type": "stream",
     "text": [
      "\u001b[34m\u001b[1mval: \u001b[0mScanning val/labels.cache... 98 images, 0 backgrounds, 0 corrupt: 100%|██████████| 98/98 [00:00<?, ?it/s]\u001b[0m\n",
      "                 Class     Images  Instances      Box(P          R      mAP50  mAP50-95): 100%|██████████| 98/98 [00:19<00:00,  5.15it/s]\n"
     ]
    },
    {
     "name": "stdout",
     "output_type": "stream",
     "text": [
      "                   all         98        205      0.903      0.683      0.761      0.388\n",
      "Speed: 104.1ms preprocess, 65.7ms inference, 0.0ms loss, 2.5ms postprocess per image\n",
      "Saving /data/mtmoore/school/CSiML_AI395T/final_project/models/yolo11/iterative/11m_2880imgsz_IP8M-H-SW-5epochs-val/predictions.json...\n",
      "Results saved to \u001b[1m/data/mtmoore/school/CSiML_AI395T/final_project/models/yolo11/iterative/11m_2880imgsz_IP8M-H-SW-5epochs-val\u001b[0m\n",
      "Ultralytics 8.3.29 🚀 Python-3.12.7 torch-2.2.2+cu121 CUDA:0 (NVIDIA GeForce RTX 4070 SUPER, 11904MiB)\n",
      "YOLO11m summary (fused): 303 layers, 20,030,803 parameters, 0 gradients, 67.6 GFLOPs\n"
     ]
    },
    {
     "name": "stderr",
     "output_type": "stream",
     "text": [
      "\u001b[34m\u001b[1mval: \u001b[0mScanning val/labels.cache... 98 images, 0 backgrounds, 0 corrupt: 100%|██████████| 98/98 [00:00<?, ?it/s]\u001b[0m\n",
      "                 Class     Images  Instances      Box(P          R      mAP50  mAP50-95): 100%|██████████| 98/98 [02:20<00:00,  1.43s/it] \n"
     ]
    },
    {
     "name": "stdout",
     "output_type": "stream",
     "text": [
      "                   all         98        205      0.972      0.649       0.77      0.423\n",
      "Speed: 112.1ms preprocess, 1298.3ms inference, 0.0ms loss, 2.2ms postprocess per image\n",
      "Saving /data/mtmoore/school/CSiML_AI395T/final_project/models/yolo11/iterative/11m_2880imgsz_IP8M-H-SW-6epochs-val/predictions.json...\n",
      "Results saved to \u001b[1m/data/mtmoore/school/CSiML_AI395T/final_project/models/yolo11/iterative/11m_2880imgsz_IP8M-H-SW-6epochs-val\u001b[0m\n",
      "Ultralytics 8.3.29 🚀 Python-3.12.7 torch-2.2.2+cu121 CUDA:0 (NVIDIA GeForce RTX 4070 SUPER, 11904MiB)\n",
      "YOLO11m summary (fused): 303 layers, 20,030,803 parameters, 0 gradients, 67.6 GFLOPs\n"
     ]
    },
    {
     "name": "stderr",
     "output_type": "stream",
     "text": [
      "\u001b[34m\u001b[1mval: \u001b[0mScanning val/labels.cache... 98 images, 0 backgrounds, 0 corrupt: 100%|██████████| 98/98 [00:00<?, ?it/s]\u001b[0m\n",
      "                 Class     Images  Instances      Box(P          R      mAP50  mAP50-95): 100%|██████████| 98/98 [00:19<00:00,  5.14it/s]\n"
     ]
    },
    {
     "name": "stdout",
     "output_type": "stream",
     "text": [
      "                   all         98        205      0.918      0.746      0.814      0.465\n",
      "Speed: 106.6ms preprocess, 65.5ms inference, 0.0ms loss, 2.1ms postprocess per image\n",
      "Saving /data/mtmoore/school/CSiML_AI395T/final_project/models/yolo11/iterative/11m_2880imgsz_IP8M-H-SW-7epochs-val/predictions.json...\n",
      "Results saved to \u001b[1m/data/mtmoore/school/CSiML_AI395T/final_project/models/yolo11/iterative/11m_2880imgsz_IP8M-H-SW-7epochs-val\u001b[0m\n",
      "Ultralytics 8.3.29 🚀 Python-3.12.7 torch-2.2.2+cu121 CUDA:0 (NVIDIA GeForce RTX 4070 SUPER, 11904MiB)\n",
      "YOLO11m summary (fused): 303 layers, 20,030,803 parameters, 0 gradients, 67.6 GFLOPs\n"
     ]
    },
    {
     "name": "stderr",
     "output_type": "stream",
     "text": [
      "\u001b[34m\u001b[1mval: \u001b[0mScanning val/labels.cache... 98 images, 0 backgrounds, 0 corrupt: 100%|██████████| 98/98 [00:00<?, ?it/s]\u001b[0m\n",
      "                 Class     Images  Instances      Box(P          R      mAP50  mAP50-95): 100%|██████████| 98/98 [00:19<00:00,  5.13it/s]\n"
     ]
    },
    {
     "name": "stdout",
     "output_type": "stream",
     "text": [
      "                   all         98        205      0.965      0.717      0.814      0.459\n",
      "Speed: 110.1ms preprocess, 65.4ms inference, 0.0ms loss, 1.9ms postprocess per image\n",
      "Saving /data/mtmoore/school/CSiML_AI395T/final_project/models/yolo11/iterative/11m_2880imgsz_IP8M-H-SW-8epochs-val/predictions.json...\n",
      "Results saved to \u001b[1m/data/mtmoore/school/CSiML_AI395T/final_project/models/yolo11/iterative/11m_2880imgsz_IP8M-H-SW-8epochs-val\u001b[0m\n",
      "Ultralytics 8.3.29 🚀 Python-3.12.7 torch-2.2.2+cu121 CUDA:0 (NVIDIA GeForce RTX 4070 SUPER, 11904MiB)\n",
      "YOLO11m summary (fused): 303 layers, 20,030,803 parameters, 0 gradients, 67.6 GFLOPs\n"
     ]
    },
    {
     "name": "stderr",
     "output_type": "stream",
     "text": [
      "\u001b[34m\u001b[1mval: \u001b[0mScanning val/labels.cache... 98 images, 0 backgrounds, 0 corrupt: 100%|██████████| 98/98 [00:00<?, ?it/s]\u001b[0m\n",
      "                 Class     Images  Instances      Box(P          R      mAP50  mAP50-95): 100%|██████████| 98/98 [00:18<00:00,  5.16it/s]\n"
     ]
    },
    {
     "name": "stdout",
     "output_type": "stream",
     "text": [
      "                   all         98        205      0.892      0.785      0.856      0.475\n",
      "Speed: 105.5ms preprocess, 66.2ms inference, 0.0ms loss, 2.2ms postprocess per image\n",
      "Saving /data/mtmoore/school/CSiML_AI395T/final_project/models/yolo11/iterative/11m_2880imgsz_IP8M-H-SW-9epochs-val/predictions.json...\n",
      "Results saved to \u001b[1m/data/mtmoore/school/CSiML_AI395T/final_project/models/yolo11/iterative/11m_2880imgsz_IP8M-H-SW-9epochs-val\u001b[0m\n",
      "Ultralytics 8.3.29 🚀 Python-3.12.7 torch-2.2.2+cu121 CUDA:0 (NVIDIA GeForce RTX 4070 SUPER, 11904MiB)\n",
      "YOLO11m summary (fused): 303 layers, 20,030,803 parameters, 0 gradients, 67.6 GFLOPs\n"
     ]
    },
    {
     "name": "stderr",
     "output_type": "stream",
     "text": [
      "\u001b[34m\u001b[1mval: \u001b[0mScanning val/labels.cache... 98 images, 0 backgrounds, 0 corrupt: 100%|██████████| 98/98 [00:00<?, ?it/s]\u001b[0m\n",
      "                 Class     Images  Instances      Box(P          R      mAP50  mAP50-95): 100%|██████████| 98/98 [00:18<00:00,  5.22it/s]\n"
     ]
    },
    {
     "name": "stdout",
     "output_type": "stream",
     "text": [
      "                   all         98        205      0.934      0.761      0.838      0.467\n",
      "Speed: 105.3ms preprocess, 65.2ms inference, 0.0ms loss, 2.3ms postprocess per image\n",
      "Saving /data/mtmoore/school/CSiML_AI395T/final_project/models/yolo11/iterative/11m_2880imgsz_IP8M-H-SW-10epochs-val/predictions.json...\n",
      "Results saved to \u001b[1m/data/mtmoore/school/CSiML_AI395T/final_project/models/yolo11/iterative/11m_2880imgsz_IP8M-H-SW-10epochs-val\u001b[0m\n",
      "Ultralytics 8.3.29 🚀 Python-3.12.7 torch-2.2.2+cu121 CUDA:0 (NVIDIA GeForce RTX 4070 SUPER, 11904MiB)\n",
      "YOLO11m summary (fused): 303 layers, 20,030,803 parameters, 0 gradients, 67.6 GFLOPs\n"
     ]
    },
    {
     "name": "stderr",
     "output_type": "stream",
     "text": [
      "\u001b[34m\u001b[1mval: \u001b[0mScanning val/labels.cache... 98 images, 0 backgrounds, 0 corrupt: 100%|██████████| 98/98 [00:00<?, ?it/s]\u001b[0m\n",
      "                 Class     Images  Instances      Box(P          R      mAP50  mAP50-95): 100%|██████████| 98/98 [00:18<00:00,  5.17it/s]\n"
     ]
    },
    {
     "name": "stdout",
     "output_type": "stream",
     "text": [
      "                   all         98        205      0.919      0.774      0.876      0.483\n",
      "Speed: 106.5ms preprocess, 65.6ms inference, 0.0ms loss, 2.2ms postprocess per image\n",
      "Saving /data/mtmoore/school/CSiML_AI395T/final_project/models/yolo11/iterative/11m_2880imgsz_IP8M-H-SW-11epochs-val/predictions.json...\n",
      "Results saved to \u001b[1m/data/mtmoore/school/CSiML_AI395T/final_project/models/yolo11/iterative/11m_2880imgsz_IP8M-H-SW-11epochs-val\u001b[0m\n",
      "Ultralytics 8.3.29 🚀 Python-3.12.7 torch-2.2.2+cu121 CUDA:0 (NVIDIA GeForce RTX 4070 SUPER, 11904MiB)\n",
      "YOLO11m summary (fused): 303 layers, 20,030,803 parameters, 0 gradients, 67.6 GFLOPs\n"
     ]
    },
    {
     "name": "stderr",
     "output_type": "stream",
     "text": [
      "\u001b[34m\u001b[1mval: \u001b[0mScanning val/labels.cache... 98 images, 0 backgrounds, 0 corrupt: 100%|██████████| 98/98 [00:00<?, ?it/s]\u001b[0m\n",
      "                 Class     Images  Instances      Box(P          R      mAP50  mAP50-95): 100%|██████████| 98/98 [00:18<00:00,  5.18it/s]\n"
     ]
    },
    {
     "name": "stdout",
     "output_type": "stream",
     "text": [
      "                   all         98        205      0.934      0.755      0.851      0.487\n",
      "Speed: 101.8ms preprocess, 65.2ms inference, 0.0ms loss, 2.2ms postprocess per image\n",
      "Saving /data/mtmoore/school/CSiML_AI395T/final_project/models/yolo11/iterative/11m_2880imgsz_IP8M-H-SW-12epochs-val/predictions.json...\n",
      "Results saved to \u001b[1m/data/mtmoore/school/CSiML_AI395T/final_project/models/yolo11/iterative/11m_2880imgsz_IP8M-H-SW-12epochs-val\u001b[0m\n",
      "Ultralytics 8.3.29 🚀 Python-3.12.7 torch-2.2.2+cu121 CUDA:0 (NVIDIA GeForce RTX 4070 SUPER, 11904MiB)\n",
      "YOLO11m summary (fused): 303 layers, 20,030,803 parameters, 0 gradients, 67.6 GFLOPs\n"
     ]
    },
    {
     "name": "stderr",
     "output_type": "stream",
     "text": [
      "\u001b[34m\u001b[1mval: \u001b[0mScanning val/labels.cache... 98 images, 0 backgrounds, 0 corrupt: 100%|██████████| 98/98 [00:00<?, ?it/s]\u001b[0m\n",
      "                 Class     Images  Instances      Box(P          R      mAP50  mAP50-95): 100%|██████████| 98/98 [00:18<00:00,  5.23it/s]\n"
     ]
    },
    {
     "name": "stdout",
     "output_type": "stream",
     "text": [
      "                   all         98        205      0.921       0.79      0.875      0.508\n",
      "Speed: 102.7ms preprocess, 65.2ms inference, 0.0ms loss, 2.2ms postprocess per image\n",
      "Saving /data/mtmoore/school/CSiML_AI395T/final_project/models/yolo11/iterative/11m_2880imgsz_IP8M-H-SW-13epochs-val/predictions.json...\n",
      "Results saved to \u001b[1m/data/mtmoore/school/CSiML_AI395T/final_project/models/yolo11/iterative/11m_2880imgsz_IP8M-H-SW-13epochs-val\u001b[0m\n",
      "Ultralytics 8.3.29 🚀 Python-3.12.7 torch-2.2.2+cu121 CUDA:0 (NVIDIA GeForce RTX 4070 SUPER, 11904MiB)\n",
      "YOLO11m summary (fused): 303 layers, 20,030,803 parameters, 0 gradients, 67.6 GFLOPs\n"
     ]
    },
    {
     "name": "stderr",
     "output_type": "stream",
     "text": [
      "\u001b[34m\u001b[1mval: \u001b[0mScanning val/labels.cache... 98 images, 0 backgrounds, 0 corrupt: 100%|██████████| 98/98 [00:00<?, ?it/s]\u001b[0m\n",
      "                 Class     Images  Instances      Box(P          R      mAP50  mAP50-95): 100%|██████████| 98/98 [00:19<00:00,  5.15it/s]\n"
     ]
    },
    {
     "name": "stdout",
     "output_type": "stream",
     "text": [
      "                   all         98        205      0.941      0.777      0.892       0.53\n",
      "Speed: 109.3ms preprocess, 65.2ms inference, 0.0ms loss, 2.3ms postprocess per image\n",
      "Saving /data/mtmoore/school/CSiML_AI395T/final_project/models/yolo11/iterative/11m_2880imgsz_IP8M-H-SW-14epochs-val/predictions.json...\n",
      "Results saved to \u001b[1m/data/mtmoore/school/CSiML_AI395T/final_project/models/yolo11/iterative/11m_2880imgsz_IP8M-H-SW-14epochs-val\u001b[0m\n",
      "Ultralytics 8.3.29 🚀 Python-3.12.7 torch-2.2.2+cu121 CUDA:0 (NVIDIA GeForce RTX 4070 SUPER, 11904MiB)\n",
      "YOLO11m summary (fused): 303 layers, 20,030,803 parameters, 0 gradients, 67.6 GFLOPs\n"
     ]
    },
    {
     "name": "stderr",
     "output_type": "stream",
     "text": [
      "\u001b[34m\u001b[1mval: \u001b[0mScanning val/labels.cache... 98 images, 0 backgrounds, 0 corrupt: 100%|██████████| 98/98 [00:00<?, ?it/s]\u001b[0m\n",
      "                 Class     Images  Instances      Box(P          R      mAP50  mAP50-95): 100%|██████████| 98/98 [00:19<00:00,  5.11it/s]\n"
     ]
    },
    {
     "name": "stdout",
     "output_type": "stream",
     "text": [
      "                   all         98        205      0.931      0.776      0.871      0.528\n",
      "Speed: 107.2ms preprocess, 65.4ms inference, 0.0ms loss, 2.1ms postprocess per image\n",
      "Saving /data/mtmoore/school/CSiML_AI395T/final_project/models/yolo11/iterative/11m_2880imgsz_IP8M-H-SW-15epochs-val/predictions.json...\n",
      "Results saved to \u001b[1m/data/mtmoore/school/CSiML_AI395T/final_project/models/yolo11/iterative/11m_2880imgsz_IP8M-H-SW-15epochs-val\u001b[0m\n",
      "Ultralytics 8.3.29 🚀 Python-3.12.7 torch-2.2.2+cu121 CUDA:0 (NVIDIA GeForce RTX 4070 SUPER, 11904MiB)\n",
      "YOLO11m summary (fused): 303 layers, 20,030,803 parameters, 0 gradients, 67.6 GFLOPs\n"
     ]
    },
    {
     "name": "stderr",
     "output_type": "stream",
     "text": [
      "\u001b[34m\u001b[1mval: \u001b[0mScanning val/labels.cache... 98 images, 0 backgrounds, 0 corrupt: 100%|██████████| 98/98 [00:00<?, ?it/s]\u001b[0m\n",
      "                 Class     Images  Instances      Box(P          R      mAP50  mAP50-95): 100%|██████████| 98/98 [00:18<00:00,  5.17it/s]\n"
     ]
    },
    {
     "name": "stdout",
     "output_type": "stream",
     "text": [
      "                   all         98        205      0.913      0.839      0.904      0.545\n",
      "Speed: 109.2ms preprocess, 65.4ms inference, 0.0ms loss, 2.1ms postprocess per image\n",
      "Saving /data/mtmoore/school/CSiML_AI395T/final_project/models/yolo11/iterative/11m_2880imgsz_IP8M-H-SW-16epochs-val/predictions.json...\n",
      "Results saved to \u001b[1m/data/mtmoore/school/CSiML_AI395T/final_project/models/yolo11/iterative/11m_2880imgsz_IP8M-H-SW-16epochs-val\u001b[0m\n",
      "Ultralytics 8.3.29 🚀 Python-3.12.7 torch-2.2.2+cu121 CUDA:0 (NVIDIA GeForce RTX 4070 SUPER, 11904MiB)\n",
      "YOLO11m summary (fused): 303 layers, 20,030,803 parameters, 0 gradients, 67.6 GFLOPs\n"
     ]
    },
    {
     "name": "stderr",
     "output_type": "stream",
     "text": [
      "\u001b[34m\u001b[1mval: \u001b[0mScanning val/labels.cache... 98 images, 0 backgrounds, 0 corrupt: 100%|██████████| 98/98 [00:00<?, ?it/s]\u001b[0m\n",
      "                 Class     Images  Instances      Box(P          R      mAP50  mAP50-95): 100%|██████████| 98/98 [00:19<00:00,  5.15it/s]\n"
     ]
    },
    {
     "name": "stdout",
     "output_type": "stream",
     "text": [
      "                   all         98        205      0.915      0.843      0.908      0.557\n",
      "Speed: 109.6ms preprocess, 65.3ms inference, 0.0ms loss, 2.0ms postprocess per image\n",
      "Saving /data/mtmoore/school/CSiML_AI395T/final_project/models/yolo11/iterative/11m_2880imgsz_IP8M-H-SW-17epochs-val/predictions.json...\n",
      "Results saved to \u001b[1m/data/mtmoore/school/CSiML_AI395T/final_project/models/yolo11/iterative/11m_2880imgsz_IP8M-H-SW-17epochs-val\u001b[0m\n",
      "Ultralytics 8.3.29 🚀 Python-3.12.7 torch-2.2.2+cu121 CUDA:0 (NVIDIA GeForce RTX 4070 SUPER, 11904MiB)\n",
      "YOLO11m summary (fused): 303 layers, 20,030,803 parameters, 0 gradients, 67.6 GFLOPs\n"
     ]
    },
    {
     "name": "stderr",
     "output_type": "stream",
     "text": [
      "\u001b[34m\u001b[1mval: \u001b[0mScanning val/labels.cache... 98 images, 0 backgrounds, 0 corrupt: 100%|██████████| 98/98 [00:00<?, ?it/s]\u001b[0m\n",
      "                 Class     Images  Instances      Box(P          R      mAP50  mAP50-95): 100%|██████████| 98/98 [00:19<00:00,  5.15it/s]\n"
     ]
    },
    {
     "name": "stdout",
     "output_type": "stream",
     "text": [
      "                   all         98        205      0.944      0.828      0.924      0.553\n",
      "Speed: 106.0ms preprocess, 65.3ms inference, 0.0ms loss, 2.1ms postprocess per image\n",
      "Saving /data/mtmoore/school/CSiML_AI395T/final_project/models/yolo11/iterative/11m_2880imgsz_IP8M-H-SW-18epochs-val/predictions.json...\n",
      "Results saved to \u001b[1m/data/mtmoore/school/CSiML_AI395T/final_project/models/yolo11/iterative/11m_2880imgsz_IP8M-H-SW-18epochs-val\u001b[0m\n",
      "Ultralytics 8.3.29 🚀 Python-3.12.7 torch-2.2.2+cu121 CUDA:0 (NVIDIA GeForce RTX 4070 SUPER, 11904MiB)\n",
      "YOLO11m summary (fused): 303 layers, 20,030,803 parameters, 0 gradients, 67.6 GFLOPs\n"
     ]
    },
    {
     "name": "stderr",
     "output_type": "stream",
     "text": [
      "\u001b[34m\u001b[1mval: \u001b[0mScanning val/labels.cache... 98 images, 0 backgrounds, 0 corrupt: 100%|██████████| 98/98 [00:00<?, ?it/s]\u001b[0m\n",
      "                 Class     Images  Instances      Box(P          R      mAP50  mAP50-95): 100%|██████████| 98/98 [00:19<00:00,  5.13it/s]\n"
     ]
    },
    {
     "name": "stdout",
     "output_type": "stream",
     "text": [
      "                   all         98        205      0.958      0.784      0.888      0.563\n",
      "Speed: 110.5ms preprocess, 65.4ms inference, 0.0ms loss, 2.0ms postprocess per image\n",
      "Saving /data/mtmoore/school/CSiML_AI395T/final_project/models/yolo11/iterative/11m_2880imgsz_IP8M-H-SW-19epochs-val/predictions.json...\n",
      "Results saved to \u001b[1m/data/mtmoore/school/CSiML_AI395T/final_project/models/yolo11/iterative/11m_2880imgsz_IP8M-H-SW-19epochs-val\u001b[0m\n",
      "Ultralytics 8.3.29 🚀 Python-3.12.7 torch-2.2.2+cu121 CUDA:0 (NVIDIA GeForce RTX 4070 SUPER, 11904MiB)\n",
      "YOLO11m summary (fused): 303 layers, 20,030,803 parameters, 0 gradients, 67.6 GFLOPs\n"
     ]
    },
    {
     "name": "stderr",
     "output_type": "stream",
     "text": [
      "\u001b[34m\u001b[1mval: \u001b[0mScanning val/labels.cache... 98 images, 0 backgrounds, 0 corrupt: 100%|██████████| 98/98 [00:00<?, ?it/s]\u001b[0m\n",
      "                 Class     Images  Instances      Box(P          R      mAP50  mAP50-95): 100%|██████████| 98/98 [00:19<00:00,  5.10it/s]\n"
     ]
    },
    {
     "name": "stdout",
     "output_type": "stream",
     "text": [
      "                   all         98        205      0.909      0.868      0.917      0.567\n",
      "Speed: 110.3ms preprocess, 66.1ms inference, 0.0ms loss, 2.2ms postprocess per image\n",
      "Saving /data/mtmoore/school/CSiML_AI395T/final_project/models/yolo11/iterative/11m_2880imgsz_IP8M-H-SW-20epochs-val/predictions.json...\n",
      "Results saved to \u001b[1m/data/mtmoore/school/CSiML_AI395T/final_project/models/yolo11/iterative/11m_2880imgsz_IP8M-H-SW-20epochs-val\u001b[0m\n",
      "Ultralytics 8.3.29 🚀 Python-3.12.7 torch-2.2.2+cu121 CUDA:0 (NVIDIA GeForce RTX 4070 SUPER, 11904MiB)\n",
      "YOLO11m summary (fused): 303 layers, 20,030,803 parameters, 0 gradients, 67.6 GFLOPs\n"
     ]
    },
    {
     "name": "stderr",
     "output_type": "stream",
     "text": [
      "\u001b[34m\u001b[1mval: \u001b[0mScanning val/labels.cache... 98 images, 0 backgrounds, 0 corrupt: 100%|██████████| 98/98 [00:00<?, ?it/s]\u001b[0m\n",
      "                 Class     Images  Instances      Box(P          R      mAP50  mAP50-95): 100%|██████████| 98/98 [00:18<00:00,  5.17it/s]\n"
     ]
    },
    {
     "name": "stdout",
     "output_type": "stream",
     "text": [
      "                   all         98        205      0.962        0.8      0.889      0.562\n",
      "Speed: 105.5ms preprocess, 65.3ms inference, 0.0ms loss, 2.2ms postprocess per image\n",
      "Saving /data/mtmoore/school/CSiML_AI395T/final_project/models/yolo11/iterative/11m_2880imgsz_IP8M-H-SW-21epochs-val/predictions.json...\n",
      "Results saved to \u001b[1m/data/mtmoore/school/CSiML_AI395T/final_project/models/yolo11/iterative/11m_2880imgsz_IP8M-H-SW-21epochs-val\u001b[0m\n",
      "Ultralytics 8.3.29 🚀 Python-3.12.7 torch-2.2.2+cu121 CUDA:0 (NVIDIA GeForce RTX 4070 SUPER, 11904MiB)\n",
      "YOLO11m summary (fused): 303 layers, 20,030,803 parameters, 0 gradients, 67.6 GFLOPs\n"
     ]
    },
    {
     "name": "stderr",
     "output_type": "stream",
     "text": [
      "\u001b[34m\u001b[1mval: \u001b[0mScanning val/labels.cache... 98 images, 0 backgrounds, 0 corrupt: 100%|██████████| 98/98 [00:00<?, ?it/s]\u001b[0m\n",
      "                 Class     Images  Instances      Box(P          R      mAP50  mAP50-95): 100%|██████████| 98/98 [00:18<00:00,  5.18it/s]\n"
     ]
    },
    {
     "name": "stdout",
     "output_type": "stream",
     "text": [
      "                   all         98        205      0.935      0.837      0.925      0.575\n",
      "Speed: 108.5ms preprocess, 65.3ms inference, 0.0ms loss, 2.2ms postprocess per image\n",
      "Saving /data/mtmoore/school/CSiML_AI395T/final_project/models/yolo11/iterative/11m_2880imgsz_IP8M-H-SW-22epochs-val/predictions.json...\n",
      "Results saved to \u001b[1m/data/mtmoore/school/CSiML_AI395T/final_project/models/yolo11/iterative/11m_2880imgsz_IP8M-H-SW-22epochs-val\u001b[0m\n",
      "Ultralytics 8.3.29 🚀 Python-3.12.7 torch-2.2.2+cu121 CUDA:0 (NVIDIA GeForce RTX 4070 SUPER, 11904MiB)\n",
      "YOLO11m summary (fused): 303 layers, 20,030,803 parameters, 0 gradients, 67.6 GFLOPs\n"
     ]
    },
    {
     "name": "stderr",
     "output_type": "stream",
     "text": [
      "\u001b[34m\u001b[1mval: \u001b[0mScanning val/labels.cache... 98 images, 0 backgrounds, 0 corrupt: 100%|██████████| 98/98 [00:00<?, ?it/s]\u001b[0m\n",
      "                 Class     Images  Instances      Box(P          R      mAP50  mAP50-95): 100%|██████████| 98/98 [00:19<00:00,  5.07it/s]\n"
     ]
    },
    {
     "name": "stdout",
     "output_type": "stream",
     "text": [
      "                   all         98        205      0.935      0.843      0.915      0.573\n",
      "Speed: 109.3ms preprocess, 66.7ms inference, 0.0ms loss, 2.2ms postprocess per image\n",
      "Saving /data/mtmoore/school/CSiML_AI395T/final_project/models/yolo11/iterative/11m_2880imgsz_IP8M-H-SW-23epochs-val/predictions.json...\n",
      "Results saved to \u001b[1m/data/mtmoore/school/CSiML_AI395T/final_project/models/yolo11/iterative/11m_2880imgsz_IP8M-H-SW-23epochs-val\u001b[0m\n",
      "Ultralytics 8.3.29 🚀 Python-3.12.7 torch-2.2.2+cu121 CUDA:0 (NVIDIA GeForce RTX 4070 SUPER, 11904MiB)\n",
      "YOLO11m summary (fused): 303 layers, 20,030,803 parameters, 0 gradients, 67.6 GFLOPs\n"
     ]
    },
    {
     "name": "stderr",
     "output_type": "stream",
     "text": [
      "\u001b[34m\u001b[1mval: \u001b[0mScanning val/labels.cache... 98 images, 0 backgrounds, 0 corrupt: 100%|██████████| 98/98 [00:00<?, ?it/s]\u001b[0m\n",
      "                 Class     Images  Instances      Box(P          R      mAP50  mAP50-95): 100%|██████████| 98/98 [00:18<00:00,  5.19it/s]\n"
     ]
    },
    {
     "name": "stdout",
     "output_type": "stream",
     "text": [
      "                   all         98        205      0.949      0.839      0.928      0.599\n",
      "Speed: 105.0ms preprocess, 65.4ms inference, 0.0ms loss, 2.1ms postprocess per image\n",
      "Saving /data/mtmoore/school/CSiML_AI395T/final_project/models/yolo11/iterative/11m_2880imgsz_IP8M-H-SW-24epochs-val/predictions.json...\n",
      "Results saved to \u001b[1m/data/mtmoore/school/CSiML_AI395T/final_project/models/yolo11/iterative/11m_2880imgsz_IP8M-H-SW-24epochs-val\u001b[0m\n",
      "Ultralytics 8.3.29 🚀 Python-3.12.7 torch-2.2.2+cu121 CUDA:0 (NVIDIA GeForce RTX 4070 SUPER, 11904MiB)\n",
      "YOLO11m summary (fused): 303 layers, 20,030,803 parameters, 0 gradients, 67.6 GFLOPs\n"
     ]
    },
    {
     "name": "stderr",
     "output_type": "stream",
     "text": [
      "\u001b[34m\u001b[1mval: \u001b[0mScanning val/labels.cache... 98 images, 0 backgrounds, 0 corrupt: 100%|██████████| 98/98 [00:00<?, ?it/s]\u001b[0m\n",
      "                 Class     Images  Instances      Box(P          R      mAP50  mAP50-95): 100%|██████████| 98/98 [00:18<00:00,  5.16it/s]\n"
     ]
    },
    {
     "name": "stdout",
     "output_type": "stream",
     "text": [
      "                   all         98        205      0.929      0.844      0.918       0.59\n",
      "Speed: 108.3ms preprocess, 65.5ms inference, 0.0ms loss, 2.0ms postprocess per image\n",
      "Saving /data/mtmoore/school/CSiML_AI395T/final_project/models/yolo11/iterative/11m_2880imgsz_IP8M-H-SW-25epochs-val/predictions.json...\n",
      "Results saved to \u001b[1m/data/mtmoore/school/CSiML_AI395T/final_project/models/yolo11/iterative/11m_2880imgsz_IP8M-H-SW-25epochs-val\u001b[0m\n",
      "Ultralytics 8.3.29 🚀 Python-3.12.7 torch-2.2.2+cu121 CUDA:0 (NVIDIA GeForce RTX 4070 SUPER, 11904MiB)\n",
      "YOLO11m summary (fused): 303 layers, 20,030,803 parameters, 0 gradients, 67.6 GFLOPs\n"
     ]
    },
    {
     "name": "stderr",
     "output_type": "stream",
     "text": [
      "\u001b[34m\u001b[1mval: \u001b[0mScanning val/labels.cache... 98 images, 0 backgrounds, 0 corrupt: 100%|██████████| 98/98 [00:00<?, ?it/s]\u001b[0m\n",
      "                 Class     Images  Instances      Box(P          R      mAP50  mAP50-95): 100%|██████████| 98/98 [00:19<00:00,  5.11it/s]\n"
     ]
    },
    {
     "name": "stdout",
     "output_type": "stream",
     "text": [
      "                   all         98        205      0.878      0.774      0.858      0.492\n",
      "Speed: 112.7ms preprocess, 65.9ms inference, 0.0ms loss, 2.0ms postprocess per image\n",
      "Saving /data/mtmoore/school/CSiML_AI395T/final_project/models/yolo11/iterative/11m_2880imgsz_IP8M-H-SW-30epochs-val/predictions.json...\n",
      "Results saved to \u001b[1m/data/mtmoore/school/CSiML_AI395T/final_project/models/yolo11/iterative/11m_2880imgsz_IP8M-H-SW-30epochs-val\u001b[0m\n",
      "Ultralytics 8.3.29 🚀 Python-3.12.7 torch-2.2.2+cu121 CUDA:0 (NVIDIA GeForce RTX 4070 SUPER, 11904MiB)\n",
      "YOLO11m summary (fused): 303 layers, 20,030,803 parameters, 0 gradients, 67.6 GFLOPs\n"
     ]
    },
    {
     "name": "stderr",
     "output_type": "stream",
     "text": [
      "\u001b[34m\u001b[1mval: \u001b[0mScanning val/labels.cache... 98 images, 0 backgrounds, 0 corrupt: 100%|██████████| 98/98 [00:00<?, ?it/s]\u001b[0m\n",
      "                 Class     Images  Instances      Box(P          R      mAP50  mAP50-95): 100%|██████████| 98/98 [00:19<00:00,  5.12it/s]\n"
     ]
    },
    {
     "name": "stdout",
     "output_type": "stream",
     "text": [
      "                   all         98        205      0.915      0.805      0.891      0.541\n",
      "Speed: 106.5ms preprocess, 65.7ms inference, 0.0ms loss, 2.2ms postprocess per image\n",
      "Saving /data/mtmoore/school/CSiML_AI395T/final_project/models/yolo11/iterative/11m_2880imgsz_IP8M-H-SW-35epochs-val/predictions.json...\n",
      "Results saved to \u001b[1m/data/mtmoore/school/CSiML_AI395T/final_project/models/yolo11/iterative/11m_2880imgsz_IP8M-H-SW-35epochs-val\u001b[0m\n",
      "Ultralytics 8.3.29 🚀 Python-3.12.7 torch-2.2.2+cu121 CUDA:0 (NVIDIA GeForce RTX 4070 SUPER, 11904MiB)\n",
      "YOLO11m summary (fused): 303 layers, 20,030,803 parameters, 0 gradients, 67.6 GFLOPs\n"
     ]
    },
    {
     "name": "stderr",
     "output_type": "stream",
     "text": [
      "\u001b[34m\u001b[1mval: \u001b[0mScanning val/labels.cache... 98 images, 0 backgrounds, 0 corrupt: 100%|██████████| 98/98 [00:00<?, ?it/s]\u001b[0m\n",
      "                 Class     Images  Instances      Box(P          R      mAP50  mAP50-95): 100%|██████████| 98/98 [00:19<00:00,  5.08it/s]\n"
     ]
    },
    {
     "name": "stdout",
     "output_type": "stream",
     "text": [
      "                   all         98        205      0.939      0.849      0.908      0.556\n",
      "Speed: 111.3ms preprocess, 65.9ms inference, 0.0ms loss, 2.1ms postprocess per image\n",
      "Saving /data/mtmoore/school/CSiML_AI395T/final_project/models/yolo11/iterative/11m_2880imgsz_IP8M-H-SW-40epochs-val/predictions.json...\n",
      "Results saved to \u001b[1m/data/mtmoore/school/CSiML_AI395T/final_project/models/yolo11/iterative/11m_2880imgsz_IP8M-H-SW-40epochs-val\u001b[0m\n",
      "Ultralytics 8.3.29 🚀 Python-3.12.7 torch-2.2.2+cu121 CUDA:0 (NVIDIA GeForce RTX 4070 SUPER, 11904MiB)\n",
      "YOLO11m summary (fused): 303 layers, 20,030,803 parameters, 0 gradients, 67.6 GFLOPs\n"
     ]
    },
    {
     "name": "stderr",
     "output_type": "stream",
     "text": [
      "\u001b[34m\u001b[1mval: \u001b[0mScanning val/labels.cache... 98 images, 0 backgrounds, 0 corrupt: 100%|██████████| 98/98 [00:00<?, ?it/s]\u001b[0m\n",
      "                 Class     Images  Instances      Box(P          R      mAP50  mAP50-95): 100%|██████████| 98/98 [00:19<00:00,  5.12it/s]\n"
     ]
    },
    {
     "name": "stdout",
     "output_type": "stream",
     "text": [
      "                   all         98        205       0.96      0.834      0.915      0.577\n",
      "Speed: 109.7ms preprocess, 65.7ms inference, 0.0ms loss, 2.1ms postprocess per image\n",
      "Saving /data/mtmoore/school/CSiML_AI395T/final_project/models/yolo11/iterative/11m_2880imgsz_IP8M-H-SW-45epochs-val/predictions.json...\n",
      "Results saved to \u001b[1m/data/mtmoore/school/CSiML_AI395T/final_project/models/yolo11/iterative/11m_2880imgsz_IP8M-H-SW-45epochs-val\u001b[0m\n",
      "Ultralytics 8.3.29 🚀 Python-3.12.7 torch-2.2.2+cu121 CUDA:0 (NVIDIA GeForce RTX 4070 SUPER, 11904MiB)\n",
      "YOLO11m summary (fused): 303 layers, 20,030,803 parameters, 0 gradients, 67.6 GFLOPs\n"
     ]
    },
    {
     "name": "stderr",
     "output_type": "stream",
     "text": [
      "\u001b[34m\u001b[1mval: \u001b[0mScanning val/labels.cache... 98 images, 0 backgrounds, 0 corrupt: 100%|██████████| 98/98 [00:00<?, ?it/s]\u001b[0m\n",
      "                 Class     Images  Instances      Box(P          R      mAP50  mAP50-95): 100%|██████████| 98/98 [00:18<00:00,  5.17it/s]\n"
     ]
    },
    {
     "name": "stdout",
     "output_type": "stream",
     "text": [
      "                   all         98        205      0.903      0.844      0.893      0.548\n",
      "Speed: 106.3ms preprocess, 65.2ms inference, 0.0ms loss, 2.2ms postprocess per image\n",
      "Saving /data/mtmoore/school/CSiML_AI395T/final_project/models/yolo11/iterative/11m_2880imgsz_IP8M-H-SW-60epochs-val/predictions.json...\n",
      "Results saved to \u001b[1m/data/mtmoore/school/CSiML_AI395T/final_project/models/yolo11/iterative/11m_2880imgsz_IP8M-H-SW-60epochs-val\u001b[0m\n",
      "Ultralytics 8.3.29 🚀 Python-3.12.7 torch-2.2.2+cu121 CUDA:0 (NVIDIA GeForce RTX 4070 SUPER, 11904MiB)\n",
      "YOLO11m summary (fused): 303 layers, 20,030,803 parameters, 0 gradients, 67.6 GFLOPs\n"
     ]
    },
    {
     "name": "stderr",
     "output_type": "stream",
     "text": [
      "\u001b[34m\u001b[1mval: \u001b[0mScanning val/labels.cache... 98 images, 0 backgrounds, 0 corrupt: 100%|██████████| 98/98 [00:00<?, ?it/s]\u001b[0m\n",
      "                 Class     Images  Instances      Box(P          R      mAP50  mAP50-95): 100%|██████████| 98/98 [00:19<00:00,  5.11it/s]\n"
     ]
    },
    {
     "name": "stdout",
     "output_type": "stream",
     "text": [
      "                   all         98        205      0.911      0.854      0.912      0.604\n",
      "Speed: 110.1ms preprocess, 65.7ms inference, 0.0ms loss, 2.3ms postprocess per image\n",
      "Saving /data/mtmoore/school/CSiML_AI395T/final_project/models/yolo11/iterative/11m_2880imgsz_IP8M-H-SW-70epochs-val/predictions.json...\n",
      "Results saved to \u001b[1m/data/mtmoore/school/CSiML_AI395T/final_project/models/yolo11/iterative/11m_2880imgsz_IP8M-H-SW-70epochs-val\u001b[0m\n",
      "Ultralytics 8.3.29 🚀 Python-3.12.7 torch-2.2.2+cu121 CUDA:0 (NVIDIA GeForce RTX 4070 SUPER, 11904MiB)\n",
      "YOLO11m summary (fused): 303 layers, 20,030,803 parameters, 0 gradients, 67.6 GFLOPs\n"
     ]
    },
    {
     "name": "stderr",
     "output_type": "stream",
     "text": [
      "\u001b[34m\u001b[1mval: \u001b[0mScanning val/labels.cache... 98 images, 0 backgrounds, 0 corrupt: 100%|██████████| 98/98 [00:00<?, ?it/s]\u001b[0m\n",
      "                 Class     Images  Instances      Box(P          R      mAP50  mAP50-95): 100%|██████████| 98/98 [00:18<00:00,  5.17it/s]\n"
     ]
    },
    {
     "name": "stdout",
     "output_type": "stream",
     "text": [
      "                   all         98        205      0.924      0.883      0.925      0.615\n",
      "Speed: 109.5ms preprocess, 65.2ms inference, 0.0ms loss, 2.0ms postprocess per image\n",
      "Saving /data/mtmoore/school/CSiML_AI395T/final_project/models/yolo11/iterative/11m_2880imgsz_IP8M-H-SW-80epochs-val/predictions.json...\n",
      "Results saved to \u001b[1m/data/mtmoore/school/CSiML_AI395T/final_project/models/yolo11/iterative/11m_2880imgsz_IP8M-H-SW-80epochs-val\u001b[0m\n",
      "Ultralytics 8.3.29 🚀 Python-3.12.7 torch-2.2.2+cu121 CUDA:0 (NVIDIA GeForce RTX 4070 SUPER, 11904MiB)\n",
      "YOLO11m summary (fused): 303 layers, 20,030,803 parameters, 0 gradients, 67.6 GFLOPs\n"
     ]
    },
    {
     "name": "stderr",
     "output_type": "stream",
     "text": [
      "\u001b[34m\u001b[1mval: \u001b[0mScanning val/labels.cache... 98 images, 0 backgrounds, 0 corrupt: 100%|██████████| 98/98 [00:00<?, ?it/s]\u001b[0m\n",
      "                 Class     Images  Instances      Box(P          R      mAP50  mAP50-95): 100%|██████████| 98/98 [00:19<00:00,  5.13it/s]\n"
     ]
    },
    {
     "name": "stdout",
     "output_type": "stream",
     "text": [
      "                   all         98        205      0.923      0.863      0.909      0.588\n",
      "Speed: 108.8ms preprocess, 65.5ms inference, 0.0ms loss, 2.0ms postprocess per image\n",
      "Saving /data/mtmoore/school/CSiML_AI395T/final_project/models/yolo11/iterative/11m_2880imgsz_IP8M-H-SW-90epochs-val/predictions.json...\n",
      "Results saved to \u001b[1m/data/mtmoore/school/CSiML_AI395T/final_project/models/yolo11/iterative/11m_2880imgsz_IP8M-H-SW-90epochs-val\u001b[0m\n",
      "Ultralytics 8.3.29 🚀 Python-3.12.7 torch-2.2.2+cu121 CUDA:0 (NVIDIA GeForce RTX 4070 SUPER, 11904MiB)\n",
      "YOLO11m summary (fused): 303 layers, 20,030,803 parameters, 0 gradients, 67.6 GFLOPs\n"
     ]
    },
    {
     "name": "stderr",
     "output_type": "stream",
     "text": [
      "\u001b[34m\u001b[1mval: \u001b[0mScanning val/labels.cache... 98 images, 0 backgrounds, 0 corrupt: 100%|██████████| 98/98 [00:00<?, ?it/s]\u001b[0m\n",
      "                 Class     Images  Instances      Box(P          R      mAP50  mAP50-95): 100%|██████████| 98/98 [00:19<00:00,  5.16it/s]\n"
     ]
    },
    {
     "name": "stdout",
     "output_type": "stream",
     "text": [
      "                   all         98        205      0.923      0.823      0.897      0.595\n",
      "Speed: 109.4ms preprocess, 65.3ms inference, 0.0ms loss, 2.0ms postprocess per image\n",
      "Saving /data/mtmoore/school/CSiML_AI395T/final_project/models/yolo11/iterative/11m_2880imgsz_IP8M-H-SW-100epochs-val/predictions.json...\n",
      "Results saved to \u001b[1m/data/mtmoore/school/CSiML_AI395T/final_project/models/yolo11/iterative/11m_2880imgsz_IP8M-H-SW-100epochs-val\u001b[0m\n"
     ]
    }
   ],
   "source": [
    "os.chdir(\"/data/mtmoore/school/CSiML_AI395T/final_project/dataset/yolov8_dataset/\")\n",
    "project=\"/data/mtmoore/school/CSiML_AI395T/final_project/models/yolo11/iterative\"\n",
    "\n",
    "for model_name in [\"11s\", \"11m\"]:\n",
    "    for imgsize in [720, 1440, 2880]:\n",
    "        for i in list(range(1, 25)) + list(range(25, 50, 5)) + list(range(60, 101, 10)):\n",
    "            name = f\"{model_name}_{imgsize}imgsz_IP8M-H-SW-{i}epochs\"\n",
    "            if not os.path.exists( os.path.join(project, name) ):\n",
    "                print(f\"no model dir {name}\")\n",
    "                continue\n",
    "\n",
    "            model = YOLO(f\"{project}/{name}/weights/best.pt\") \n",
    "\n",
    "            name = f\"{model_name}_{imgsize}imgsz_IP8M-H-SW-{i}epochs-val\"\n",
    "            if os.path.exists( os.path.join(project, name, \"metrics.json\") ):\n",
    "                print(f\"already completed {os.path.join(project, name)}\")\n",
    "                continue\n",
    "\n",
    "            metrics = model.val(data=\"/data/mtmoore/school/CSiML_AI395T/final_project/dataset/yolov8_dataset/data.yaml\", \\\n",
    "                                project=project, name=name, save_json=True, plots=True, imgsz=imgsize, batch=1)\n",
    "            store_metrics = metrics.results_dict.copy()\n",
    "            store_metrics['category_mAP50-95'] = metrics.box.maps.tolist()\n",
    "            with open(os.path.join(project, name, \"metrics.json\"), \"w\") as o:\n",
    "                o.write(json.dumps(store_metrics))"
   ]
  },
  {
   "cell_type": "code",
   "execution_count": null,
   "id": "1e8ea979-69e5-4020-8ccf-ca7c06c95cb5",
   "metadata": {},
   "outputs": [],
   "source": []
  }
 ],
 "metadata": {
  "kernelspec": {
   "display_name": "csiml-final-ultralytics",
   "language": "python",
   "name": "csiml-final-ultralytics"
  },
  "language_info": {
   "codemirror_mode": {
    "name": "ipython",
    "version": 3
   },
   "file_extension": ".py",
   "mimetype": "text/x-python",
   "name": "python",
   "nbconvert_exporter": "python",
   "pygments_lexer": "ipython3",
   "version": "3.12.7"
  }
 },
 "nbformat": 4,
 "nbformat_minor": 5
}
