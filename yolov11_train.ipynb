{
 "cells": [
  {
   "cell_type": "code",
   "execution_count": null,
   "id": "0db5f15f-75f7-4c00-9f58-f2b4fbab1bd6",
   "metadata": {},
   "outputs": [],
   "source": [
    "import os\n",
    "import json\n",
    "import glob\n",
    "from ultralytics import YOLO\n",
    "os.environ[\"PYTORCH_CUDA_ALLOC_CONF\"]=\"expandable_segments:True\""
   ]
  },
  {
   "cell_type": "markdown",
   "id": "015cdb35-60a5-4816-ad49-bc6873640bf4",
   "metadata": {},
   "source": [
    "# Initial Training"
   ]
  },
  {
   "cell_type": "code",
   "execution_count": null,
   "id": "f1375977-4c07-4daa-8f35-d05fa0dea3e9",
   "metadata": {},
   "outputs": [],
   "source": [
    "# Train the model\n",
    "os.chdir(\"/data/mtmoore/school/CSiML_AI395T/final_project/dataset/yolov8_ip8m-h-nw_dataset/\")\n",
    "\n",
    "project=\"/data/mtmoore/school/CSiML_AI395T/final_project/models/yolo11/iterative\"\n",
    "batchsizes={ \"11n\": {3840: 2, 2880: 2, 1440: 16, 736: 56}, \n",
    "             \"11s\": {3840: 1, 2880: 2, 1440: 8,  736: 32},\n",
    "             \"11m\": {3840: 1, 2880: 1, 1440: 4,  736: 16}, \n",
    "             \"11l\": {3840: 1, 2880: 1, 1440: 3,  736: 12}, \n",
    "           }\n",
    "\n",
    "for model_name in [\"11n\", \"11s\"]: # \"11n\", \"11s\", \"11m\" ]:\n",
    "    for imgsize in [2880]:# [736, 1440, 2880]:\n",
    "        for i in [150]: #list(range(1, 25)) + list(range(25, 50, 5)) + list(range(60, 101, 10)):\n",
    "            name = f\"{model_name}_{imgsize}imgsz_IP8M-H-NW_{i}epochs\"      \n",
    "            weight_path = os.path.join(project, name, \"weights\", \"epoch\")\n",
    "            completed_epochs = glob.glob(f\"{weight_path}*.pt\")\n",
    "            resume_flag = False\n",
    "\n",
    "            # if we started, see if we finished, if not resume\n",
    "            if os.path.exists(os.path.join(f\"{project}/{name}/weights/last.pt\")):\n",
    "                if len(completed_epochs) >= i:\n",
    "                    print(\"We have {completed_epochs} pt files in {project}/{name}/weights, continuing\")\n",
    "                    continue\n",
    "                    \n",
    "                print(f\"Resuming training from last.pt, {len(completed_epochs)} epochs completed previously\")\n",
    "                model = YOLO(f\"{project}/{name}/weights/last.pt\") \n",
    "                resume_flag = True\n",
    "                print(f\"Resuming {project}/{name} model\")\n",
    "\n",
    "            # starting fresh\n",
    "            else:\n",
    "                print(f\"Loading pre-trained base model to start {project}/{name}\")\n",
    "                model = YOLO(f\"yolo{model_name}.pt\")  # load a pretrained model (recommended for training)\n",
    "            \n",
    "            results = model.train(resume=resume_flag, data=\"/data/mtmoore/school/CSiML_AI395T/final_project/dataset/yolov8_ip8m-h-nw_dataset/data.yaml\", \\\n",
    "                                  project=project, name=name, epochs=i, imgsz=imgsize, batch=batchsizes[model_name][imgsize], plots=True, val=False, save_period=1, save_txt=True)\n"
   ]
  },
  {
   "cell_type": "code",
   "execution_count": null,
   "id": "22a7d965-8e8a-4e22-9498-846b4cf92a3a",
   "metadata": {},
   "outputs": [],
   "source": []
  }
 ],
 "metadata": {
  "kernelspec": {
   "display_name": "csiml-final-ultralytics",
   "language": "python",
   "name": "csiml-final-ultralytics"
  },
  "language_info": {
   "codemirror_mode": {
    "name": "ipython",
    "version": 3
   },
   "file_extension": ".py",
   "mimetype": "text/x-python",
   "name": "python",
   "nbconvert_exporter": "python",
   "pygments_lexer": "ipython3",
   "version": "3.12.7"
  }
 },
 "nbformat": 4,
 "nbformat_minor": 5
}
