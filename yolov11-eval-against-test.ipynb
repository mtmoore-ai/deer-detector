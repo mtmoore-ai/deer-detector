{
 "cells": [
  {
   "cell_type": "markdown",
   "id": "ae5da735-75b6-4fa2-a231-67dc8c9f5dd1",
   "metadata": {},
   "source": [
    "# Eval YOLO Test Datasets"
   ]
  },
  {
   "cell_type": "code",
   "execution_count": 1,
   "id": "2abc4966-4551-4ee9-9a00-f46758b05464",
   "metadata": {},
   "outputs": [],
   "source": [
    "import os\n",
    "import glob\n",
    "import json\n",
    "import pprint\n",
    "import re\n",
    "from ultralytics import YOLO\n",
    "os.environ[\"PYTORCH_CUDA_ALLOC_CONF\"]=\"expandable_segments:True\""
   ]
  },
  {
   "cell_type": "code",
   "execution_count": null,
   "id": "748d22ef-ac21-4e12-a0e6-f38e7c33592a",
   "metadata": {},
   "outputs": [
    {
     "name": "stdout",
     "output_type": "stream",
     "text": [
      "11s_736imgsz_IP8M-H-NW_150epochs\n"
     ]
    }
   ],
   "source": [
    "modelre = re.compile(r\"^(?P<model>11\\w)_(?P<imgsize>\\d+)imgsz_(?P<traindataset>[^_]+)_(?P<maxepochs>\\d+)epochs\")\n",
    "\n",
    "dataset_dir=\"/data/mtmoore/school/CSiML_AI395T/final_project/dataset/\"\n",
    "model_dir=\"/data/mtmoore/school/CSiML_AI395T/final_project/models/yolo11/iterative\"\n",
    "result_dir=\"/data/mtmoore/school/CSiML_AI395T/final_project/models/yolo11/iterative/test\"\n",
    "\n",
    "datasets = [ \"test-set-4cameras_yolov8\",\n",
    "             \"test-set-4cameras-dayonly_yolov8\",\n",
    "             \"test-set-4cameras-nightonly_yolov8\",\n",
    "             \"test-set-1camera-ip8m-h-nw_yolov8\", \n",
    "             \"test-set-1camera-ip8m-h-sw_yolov8\", \n",
    "             \"test-set-1camera-ip8m-g-nw_yolov8\", \n",
    "             \"test-set-1camera-ip8m-g-sw_yolov8\",\n",
    "           ]\n",
    "\n",
    "weights=\"best\"\n",
    "\n",
    "models = [ \n",
    "           '11s_736imgsz_IP8M-H-NW_150epochs', \n",
    "           '11s_736imgsz_IP8M-H-SW_150epochs',\n",
    "           '11n_736imgsz_IP8M-H-NW_150epochs', \n",
    "           '11n_736imgsz_IP8M-H-SW_150epochs', \n",
    "           '11m_736imgsz_IP8M-H-NW_150epochs', \n",
    "           '11m_736imgsz_IP8M-H-SW_150epochs', \n",
    "           '11l_736imgsz_IP8M-H-SW_150epochs', \n",
    "           '11n_1440imgsz_IP8M-H-NW_150epochs', \n",
    "           '11n_1440imgsz_IP8M-H-SW_150epochs', \n",
    "           '11n_1440imgsz_combined_150epochs',         \n",
    "           '11s_1440imgsz_IP8M-H-NW_150epochs', \n",
    "           '11s_1440imgsz_IP8M-H-SW_150epochs', \n",
    "           '11s_1440imgsz_combined_150epochs', \n",
    "           '11m_1440imgsz_IP8M-H-NW_150epochs', \n",
    "           '11m_1440imgsz_IP8M-H-SW_150epochs', \n",
    "           '11n_2880imgsz_IP8M-H-NW_150epochs', \n",
    "           '11n_2880imgsz_IP8M-H-SW_150epochs', \n",
    "           '11n_2880imgsz_combined_150epochs', \n",
    "           '11s_2880imgsz_IP8M-H-NW_150epochs', \n",
    "           '11s_2880imgsz_IP8M-H-SW_150epochs', \n",
    "           '11s_2880imgsz_combined_150epochs', \n",
    "           '11m_2880imgsz_IP8M-H-NW_150epochs', \n",
    "           '11m_2880imgsz_IP8M-H-SW_150epochs',\n",
    "           '11s_3840imgsz_IP8M-H-NW_150epochs', \n",
    "           '11s_3840imgsz_IP8M-H-SW_150epochs', \n",
    "           '11s_3840imgsz_combined_150epochs',\n",
    "           '11n_3840imgsz_IP8M-H-NW_150epochs', \n",
    "           '11n_3840imgsz_IP8M-H-SW_150epochs', \n",
    "           '11n_3840imgsz_combined_150epochs', \n",
    "           '11m_3840imgsz_IP8M-H-NW_150epochs', \n",
    "           '11m_3840imgsz_IP8M-H-SW_150epochs'\n",
    "\n",
    "          ]\n",
    "\n",
    "for modelname in models: #models[0:6]\n",
    "    print(modelname)\n",
    "    m = modelre.match(modelname)\n",
    "    if m is None:\n",
    "        print(f\"Couldn't figure out model\")\n",
    "        continue\n",
    "\n",
    "    model_details = m.groupdict()\n",
    "    model_details['name'] = modelname\n",
    "    #{'imgsize': '1440',\n",
    "    # 'maxepochs': '150',\n",
    "    # 'model': '11s',\n",
    "    # 'traindataset': 'IP8M-H-SW'}\n",
    "\n",
    "    # load the model\n",
    "    if not os.path.exists(os.path.join(model_dir, modelname, \"weights\", f\"{weights}.pt\")):\n",
    "        print(f\"!!!! WARN: I expected {os.path.join(model_dir, modelname, \"weights\", f\"{weights}.pt\")} to exist but it didn't !!!!\")\n",
    "        continue\n",
    "              \n",
    "    model = YOLO(os.path.join(model_dir, modelname, \"weights\", f\"{weights}.pt\"), task=\"detect\") \n",
    "    \n",
    "    for d in datasets:\n",
    "        print(f\"{d}\")\n",
    "        os.chdir(os.path.join(dataset_dir, d))\n",
    "\n",
    "        name=f\"{modelname}_{weights}_{d}_test\"\n",
    "        if os.path.exists( os.path.join(result_dir, name, \"metrics.json\")):\n",
    "            print(f\"metrics.json exist for {modelname} / {d}, continuing\")\n",
    "            continue\n",
    "            \n",
    "        metrics = model.val(data=os.path.join(dataset_dir, d, \"data.yaml\"), \n",
    "                            project=result_dir, name=name, save_json=True, plots=True, \n",
    "                            imgsz=model_details[\"imgsize\"], batch=1)\n",
    "        store_metrics = metrics.results_dict.copy()\n",
    "        store_metrics['category_mAP50-95'] = metrics.box.maps.tolist()\n",
    "        with open(os.path.join(result_dir, name, \"metrics.json\"), \"w\") as o:\n",
    "            o.write(json.dumps(store_metrics))"
   ]
  },
  {
   "cell_type": "code",
   "execution_count": null,
   "id": "3836f7a9-5cf3-4810-af00-7fd347d92e82",
   "metadata": {},
   "outputs": [],
   "source": []
  }
 ],
 "metadata": {
  "kernelspec": {
   "display_name": "csiml-final-ultralytics",
   "language": "python",
   "name": "csiml-final-ultralytics"
  },
  "language_info": {
   "codemirror_mode": {
    "name": "ipython",
    "version": 3
   },
   "file_extension": ".py",
   "mimetype": "text/x-python",
   "name": "python",
   "nbconvert_exporter": "python",
   "pygments_lexer": "ipython3",
   "version": "3.12.7"
  }
 },
 "nbformat": 4,
 "nbformat_minor": 5
}
