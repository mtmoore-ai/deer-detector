{
 "cells": [
  {
   "cell_type": "code",
   "execution_count": 8,
   "id": "25fe2f72-e18f-41dc-a182-caeaba1613d1",
   "metadata": {},
   "outputs": [
    {
     "name": "stdout",
     "output_type": "stream",
     "text": [
      "['11l_736imgsz_IP8M-H-SW_150epochs', '11m_1440imgsz_IP8M-H-NW_150epochs', '11m_1440imgsz_IP8M-H-SW_150epochs', '11m_2880imgsz_IP8M-H-NW_150epochs', '11m_2880imgsz_IP8M-H-SW_150epochs', '11m_3840imgsz_IP8M-H-NW_150epochs', '11m_3840imgsz_IP8M-H-SW_150epochs', '11m_736imgsz_IP8M-H-NW_150epochs', '11m_736imgsz_IP8M-H-SW_150epochs', '11n_1440imgsz_IP8M-H-NW_150epochs', '11n_1440imgsz_IP8M-H-SW_150epochs', '11n_1440imgsz_combined_150epochs', '11n_2880imgsz_IP8M-H-NW_150epochs', '11n_2880imgsz_IP8M-H-SW_150epochs', '11n_2880imgsz_combined_150epochs', '11n_3840imgsz_IP8M-H-NW_150epochs', '11n_3840imgsz_IP8M-H-SW_150epochs', '11n_3840imgsz_combined_150epochs', '11n_736imgsz_IP8M-H-NW_150epochs', '11n_736imgsz_IP8M-H-SW_150epochs', '11s_1440imgsz_IP8M-H-NW_150epochs', '11s_1440imgsz_IP8M-H-SW_150epochs', '11s_1440imgsz_combined_150epochs', '11s_2880imgsz_IP8M-H-NW_150epochs', '11s_2880imgsz_IP8M-H-SW_150epochs', '11s_2880imgsz_combined_150epochs', '11s_3840imgsz_IP8M-H-NW_150epochs', '11s_3840imgsz_IP8M-H-SW_150epochs', '11s_3840imgsz_combined_150epochs', '11s_736imgsz_IP8M-H-NW_150epochs', '11s_736imgsz_IP8M-H-SW_150epochs']\n"
     ]
    }
   ],
   "source": [
    "import glob\n",
    "import os\n",
    "\n",
    "dataset_dir=\"/data/mtmoore/school/CSiML_AI395T/final_project/dataset/\"\n",
    "model_dir=\"/data/mtmoore/school/CSiML_AI395T/final_project/models/yolo11/iterative\"\n",
    "result_dir=\"/data/mtmoore/school/CSiML_AI395T/final_project/models/yolo11/iterative/test\"\n",
    "\n",
    "weights=\"best\"\n",
    "t = sorted([ os.path.basename(d) for d in glob.glob(f\"{model_dir}/11*epochs\") ])\n",
    "print(sorted(t))"
   ]
  },
  {
   "cell_type": "code",
   "execution_count": null,
   "id": "2707a49f-8372-4833-84a5-ad309a0b338e",
   "metadata": {},
   "outputs": [],
   "source": [
    "\n",
    "[\n",
    " \n",
    "[ '11l_736imgsz_IP8M-H-SW_150epochs', \n",
    "  '11s_736imgsz_IP8M-H-NW_150epochs', \n",
    "  '11s_736imgsz_IP8M-H-SW_150epochs'\n",
    "  '11n_736imgsz_IP8M-H-NW_150epochs', \n",
    "  '11n_736imgsz_IP8M-H-SW_150epochs', \n",
    "  '11m_736imgsz_IP8M-H-NW_150epochs', \n",
    "  '11m_736imgsz_IP8M-H-SW_150epochs', \n",
    "  '11n_1440imgsz_IP8M-H-NW_150epochs', \n",
    "  '11n_1440imgsz_IP8M-H-SW_150epochs', \n",
    "  '11n_1440imgsz_combined_150epochs', ]\n",
    "\n",
    "['11s_1440imgsz_IP8M-H-NW_150epochs', \n",
    " '11s_1440imgsz_IP8M-H-SW_150epochs', \n",
    " '11s_1440imgsz_combined_150epochs', \n",
    " '11m_1440imgsz_IP8M-H-NW_150epochs', \n",
    " '11m_1440imgsz_IP8M-H-SW_150epochs', \n",
    " '11n_2880imgsz_IP8M-H-NW_150epochs', \n",
    " '11n_2880imgsz_IP8M-H-SW_150epochs', \n",
    " '11n_2880imgsz_combined_150epochs', ]\n",
    "    \n",
    "[ '11s_2880imgsz_IP8M-H-NW_150epochs', \n",
    " '11s_2880imgsz_IP8M-H-SW_150epochs', \n",
    " '11s_2880imgsz_combined_150epochs', \n",
    " '11m_2880imgsz_IP8M-H-NW_150epochs', \n",
    " '11m_2880imgsz_IP8M-H-SW_150epochs',  \n",
    " '11s_3840imgsz_IP8M-H-NW_150epochs', \n",
    " '11s_3840imgsz_IP8M-H-SW_150epochs', \n",
    " '11s_3840imgsz_combined_150epochs',]\n",
    "    \n",
    "['11n_3840imgsz_IP8M-H-NW_150epochs', \n",
    " '11n_3840imgsz_IP8M-H-SW_150epochs', \n",
    " '11n_3840imgsz_combined_150epochs', \n",
    " '11m_3840imgsz_IP8M-H-NW_150epochs', \n",
    " '11m_3840imgsz_IP8M-H-SW_150epochs']\n",
    " \n"
   ]
  }
 ],
 "metadata": {
  "kernelspec": {
   "display_name": "csiml-final-ultralytics",
   "language": "python",
   "name": "csiml-final-ultralytics"
  },
  "language_info": {
   "codemirror_mode": {
    "name": "ipython",
    "version": 3
   },
   "file_extension": ".py",
   "mimetype": "text/x-python",
   "name": "python",
   "nbconvert_exporter": "python",
   "pygments_lexer": "ipython3",
   "version": "3.12.7"
  }
 },
 "nbformat": 4,
 "nbformat_minor": 5
}
