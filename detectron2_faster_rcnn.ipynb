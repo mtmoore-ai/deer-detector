{
 "cells": [
  {
   "cell_type": "code",
   "execution_count": null,
   "id": "8ec5efc7-eff4-4407-acc0-e778a85fbe17",
   "metadata": {},
   "outputs": [],
   "source": [
    "# based on example at https://colab.research.google.com/drive/16jcaJoc6bCFAQ96jDe2HwtXj7BMD_-m5import torch, detectron2\n",
    "!nvcc --version\n",
    "TORCH_VERSION = \".\".join(torch.__version__.split(\".\")[:2])\n",
    "CUDA_VERSION = torch.__version__.split(\"+\")[-1]\n",
    "print(\"torch: \", TORCH_VERSION, \"; cuda: \", CUDA_VERSION)\n",
    "print(\"detectron2:\", detectron2.__version__)\n",
    "\n",
    "import matplotlib as mpl"
   ]
  },
  {
   "cell_type": "code",
   "execution_count": null,
   "id": "1c1bf9a6-d6a2-4d54-9bda-34375fd742e3",
   "metadata": {},
   "outputs": [],
   "source": [
    "# if your dataset is in COCO format, this cell can be replaced by the following three lines:\n",
    "from detectron2.data.datasets import register_coco_instances\n",
    "import detectron2\n",
    "from detectron2.utils.logger import setup_logger\n",
    "setup_logger()\n",
    "\n",
    "# import some common libraries\n",
    "import numpy as np\n",
    "import os, json, cv2, random\n",
    "import matplotlib as mpl\n",
    "# import some common detectron2 utilities\n",
    "from detectron2 import model_zoo\n",
    "from detectron2.engine import DefaultPredictor\n",
    "from detectron2.config import get_cfg\n",
    "from detectron2.utils.visualizer import Visualizer\n",
    "from detectron2.data import MetadataCatalog, DatasetCatalog\n",
    "from detectron2.evaluation import COCOEvaluator, inference_on_dataset\n",
    "from detectron2.data import build_detection_test_loader\n",
    "from detectron2.engine import DefaultTrainer\n",
    "from detectron2.utils.events import get_event_storage\n",
    "\n",
    "\n",
    "register_coco_instances(\"IP8M-H-NW_train\", {}, \"/data/mtmoore/school/CSiML_AI395T/final_project/dataset/IP8M-H-NW_coco/annotations/instances_train.json\", \"/data/mtmoore/school/CSiML_AI395T/final_project/dataset/IP8M-H-NW_coco/\")\n",
    "register_coco_instances(\"IP8M-H-NW_val\", {}, \"/data/mtmoore/school/CSiML_AI395T/final_project/dataset/IP8M-H-NW_coco/annotations/instances_val.json\", \"/data/mtmoore/school/CSiML_AI395T/final_project/dataset/IP8M-H-NW_coco/\")"
   ]
  },
  {
   "cell_type": "code",
   "execution_count": null,
   "id": "f16b183c-edd0-4e34-93b6-00be88d72f9f",
   "metadata": {},
   "outputs": [],
   "source": [
    "cfg = get_cfg()\n",
    "cfg.merge_from_file(model_zoo.get_config_file(\"COCO-Detection/faster_rcnn_R_101_FPN_3x.yaml\"))\n",
    "cfg.DATASETS.TRAIN = (\"IP8M-H-NW_train\",)\n",
    "cfg.DATASETS.TEST = ()\n",
    "cfg.DATALOADER.NUM_WORKERS = 8\n",
    "cfg.MODEL.WEIGHTS = model_zoo.get_checkpoint_url(\"COCO-Detection/faster_rcnn_R_101_FPN_3x.yaml\")  # Let training initialize from model zoo\n",
    "cfg.SOLVER.IMS_PER_BATCH = 2  # This is the real \"batch size\" commonly known to deep learning people\n",
    "cfg.SOLVER.BASE_LR = 0.00025  # pick a good LR\n",
    "cfg.SOLVER.MAX_ITER = 5000    # 300 iterations seems good enough for this toy dataset; you will need to train longer for a practical dataset\n",
    "cfg.SOLVER.STEPS = []        # do not decay learning rate\n",
    "cfg.MODEL.ROI_HEADS.BATCH_SIZE_PER_IMAGE = 512   # The \"RoIHead batch size\". 128 is faster, and good enough for this toy dataset (default: 512)\n",
    "cfg.MODEL.ROI_HEADS.NUM_CLASSES = 1  # only has one class (ballon). (see https://detectron2.readthedocs.io/tutorials/datasets.html#update-the-config-for-new-datasets)\n",
    "# NOTE: this config means the number of classes, but a few popular unofficial tutorials incorrect uses num_classes+1 here.\n",
    "cfg.SOLVER.CHECKPOINT_PERIOD = 100\n",
    "cfg.OUTPUT_DIR = f\"/data/mtmoore/school/CSiML_AI395T/final_project/models/detectron2/faster_rcnn_101_FPN_{cfg.SOLVER.IMS_PER_BATCH}batch_512RoI_0\"\n"
   ]
  },
  {
   "cell_type": "markdown",
   "id": "2c989419-ba17-445e-a70a-426f31dcb25c",
   "metadata": {},
   "source": [
    "# Training"
   ]
  },
  {
   "cell_type": "code",
   "execution_count": null,
   "id": "a01cd482-f74f-4b80-b453-3a3397a4202e",
   "metadata": {},
   "outputs": [],
   "source": [
    "if not os.path.exists(cfg.OUTPUT_DIR):\n",
    "    os.makedirs(cfg.OUTPUT_DIR, exist_ok=True)\n",
    "    trainer = DefaultTrainer(cfg) \n",
    "    trainer.resume_or_load(resume=False)\n",
    "    trainer.train()\n",
    "else:\n",
    "    print(f\"output dir {cfg.OUTPUT_DIR} already exists\")"
   ]
  },
  {
   "cell_type": "markdown",
   "id": "eed3ac69-e462-4a75-9078-20876d527739",
   "metadata": {},
   "source": [
    "# Inference"
   ]
  },
  {
   "cell_type": "code",
   "execution_count": null,
   "id": "215d508a-3e54-458e-aca0-2c0abc123883",
   "metadata": {},
   "outputs": [],
   "source": [
    "# Inference should use the config with parameters that are used in training\n",
    "# cfg now already contains everything we've set previously. We changed it a little bit for inference:\n",
    "for epoch in range(99, 5000, 100):\n",
    "    odir = f\"/data/mtmoore/school/CSiML_AI395T/final_project/models/detectron2/faster_rcnn_101_FPN_{cfg.SOLVER.IMS_PER_BATCH}batch_512RoI_0-{epoch+1}epochs-val\"\n",
    "\n",
    "    if os.path.exists(odir):\n",
    "        print(f\"Validation output exists: {odir}\")\n",
    "        continue\n",
    "        \n",
    "    cfg.MODEL.WEIGHTS = os.path.join(cfg.OUTPUT_DIR, f\"model_{epoch:07d}.pth\")  # path to the model we just trained\n",
    "    trainer = DefaultTrainer(cfg) \n",
    "    trainer.resume_or_load(resume=False)\n",
    "    evaluator = COCOEvaluator(\"IP8M-H-NW_val\", (\"bbox\",), False, output_dir=odir)\n",
    "    val_loader = build_detection_test_loader(cfg, \"IP8M-H-NW_val\")\n",
    "    eval_result = inference_on_dataset(trainer.model, val_loader, evaluator)\n",
    "    #cfg.MODEL.ROI_HEADS.SCORE_THRESH_TEST = 0.7   # set a custom testing threshold\n",
    "    #predictor = DefaultPredictor(cfg)\n",
    "    break\n"
   ]
  },
  {
   "cell_type": "code",
   "execution_count": null,
   "id": "5c05a1f6-feee-435e-86ec-e8e2ed83aa20",
   "metadata": {},
   "outputs": [],
   "source": [
    "print(eval_result)"
   ]
  },
  {
   "cell_type": "code",
   "execution_count": null,
   "id": "b1efaec7-fa4d-4177-831d-311beeaf1b4f",
   "metadata": {},
   "outputs": [],
   "source": [
    "for d in random.sample(IP8M-H-NW_train, 3):\n",
    "    img = cv2.imread(d[\"file_name\"])\n",
    "    visualizer = Visualizer(img[:, :, ::-1], metadata=balloon_metadata, scale=0.5)\n",
    "    out = visualizer.draw_dataset_dict(d)\n",
    "    cv2_imshow(out.get_image()[:, :, ::-1])"
   ]
  },
  {
   "cell_type": "code",
   "execution_count": null,
   "id": "7cff74e1-d906-425c-98b9-abc8fce93547",
   "metadata": {},
   "outputs": [],
   "source": [
    "from detectron2.utils.visualizer import ColorMode\n",
    "dataset_dicts = get_balloon_dicts(\"balloon/val\")\n",
    "for d in random.sample(dataset_dicts, 3):    \n",
    "    im = cv2.imread(d[\"file_name\"])\n",
    "    outputs = predictor(im)  # format is documented at https://detectron2.readthedocs.io/tutorials/models.html#model-output-format\n",
    "    v = Visualizer(im[:, :, ::-1],\n",
    "                   metadata=balloon_metadata, \n",
    "                   scale=0.5, \n",
    "                   instance_mode=ColorMode.IMAGE_BW   # remove the colors of unsegmented pixels. This option is only available for segmentation models\n",
    "    )\n",
    "    out = v.draw_instance_predictions(outputs[\"instances\"].to(\"cpu\"))\n",
    "    cv2_imshow(out.get_image()[:, :, ::-1])"
   ]
  },
  {
   "cell_type": "code",
   "execution_count": null,
   "id": "4fd77881-f5ee-4a15-945a-50e15b40575c",
   "metadata": {},
   "outputs": [],
   "source": [
    "\n",
    "evaluator = COCOEvaluator(\"IP8M-H-NW_val\", (\"bbox\",), False, \n",
    "                          output_dir=f\"/data/mtmoore/school/CSiML_AI395T/final_project/models/detectron2/faster_rcnn_101_FPN_{cfg.SOLVER.IMS_PER_BATCH}batch_512RoI_0-val\")\n",
    "val_loader = build_detection_test_loader(cfg, \"IP8M-H-NW_val\")\n",
    "eval_result = inference_on_dataset(trainer.model, val_loader, evaluator)"
   ]
  }
 ],
 "metadata": {
  "kernelspec": {
   "display_name": "csiml-final-detectron2",
   "language": "python",
   "name": "csiml-final-detectron2"
  },
  "language_info": {
   "codemirror_mode": {
    "name": "ipython",
    "version": 3
   },
   "file_extension": ".py",
   "mimetype": "text/x-python",
   "name": "python",
   "nbconvert_exporter": "python",
   "pygments_lexer": "ipython3",
   "version": "3.12.7"
  }
 },
 "nbformat": 4,
 "nbformat_minor": 5
}
