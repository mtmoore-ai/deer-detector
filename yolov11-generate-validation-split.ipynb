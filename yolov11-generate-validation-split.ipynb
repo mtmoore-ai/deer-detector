{
 "cells": [
  {
   "cell_type": "markdown",
   "id": "ae5da735-75b6-4fa2-a231-67dc8c9f5dd1",
   "metadata": {},
   "source": [
    "# Generate Validation Metrics"
   ]
  },
  {
   "cell_type": "code",
   "execution_count": 1,
   "id": "2abc4966-4551-4ee9-9a00-f46758b05464",
   "metadata": {},
   "outputs": [],
   "source": [
    "import os\n",
    "import json\n",
    "from ultralytics import YOLO\n",
    "os.environ[\"PYTORCH_CUDA_ALLOC_CONF\"]=\"expandable_segments:True\""
   ]
  },
  {
   "cell_type": "code",
   "execution_count": 2,
   "id": "748d22ef-ac21-4e12-a0e6-f38e7c33592a",
   "metadata": {},
   "outputs": [
    {
     "name": "stdout",
     "output_type": "stream",
     "text": [
      "Generating validation for model: yolo11s, image size: 3840px, epoch: 0\n",
      "Ultralytics 8.3.29 🚀 Python-3.12.7 torch-2.4.0 CUDA:0 (NVIDIA GeForce RTX 4070 SUPER, 11904MiB)\n",
      "YOLO11s summary (fused): 238 layers, 9,413,187 parameters, 0 gradients, 21.3 GFLOPs\n"
     ]
    },
    {
     "name": "stderr",
     "output_type": "stream",
     "text": [
      "\u001b[34m\u001b[1mval: \u001b[0mScanning val/labels.cache... 283 images, 0 backgrounds, 0 corrupt: 100%|██████████| 283/283 [00:00<?, ?it/s]\u001b[0m\n",
      "                 Class     Images  Instances      Box(P          R      mAP50  mAP50-95):  29%|██▉       | 83/283 [00:23<00:56,  3.55it/s]Exception in thread Thread-6 (_pin_memory_loop):\n",
      "Traceback (most recent call last):\n",
      "  File \"/scratch/mtmoore/local/miniconda/envs/csiml-final-ultralytics/lib/python3.12/threading.py\", line 1075, in _bootstrap_inner\n",
      "    self.run()\n",
      "  File \"/scratch/mtmoore/local/miniconda/envs/csiml-final-ultralytics/lib/python3.12/site-packages/ipykernel/ipkernel.py\", line 766, in run_closure\n",
      "    _threading_Thread_run(self)\n",
      "  File \"/scratch/mtmoore/local/miniconda/envs/csiml-final-ultralytics/lib/python3.12/threading.py\", line 1012, in run\n",
      "    self._target(*self._args, **self._kwargs)\n",
      "  File \"/scratch/mtmoore/local/miniconda/envs/csiml-final-ultralytics/lib/python3.12/site-packages/torch/utils/data/_utils/pin_memory.py\", line 55, in _pin_memory_loop\n",
      "    do_one_step()\n",
      "  File \"/scratch/mtmoore/local/miniconda/envs/csiml-final-ultralytics/lib/python3.12/site-packages/torch/utils/data/_utils/pin_memory.py\", line 32, in do_one_step\n",
      "    r = in_queue.get(timeout=MP_STATUS_CHECK_INTERVAL)\n",
      "        ^^^^^^^^^^^^^^^^^^^^^^^^^^^^^^^^^^^^^^^^^^^^^^\n",
      "  File \"/scratch/mtmoore/local/miniconda/envs/csiml-final-ultralytics/lib/python3.12/multiprocessing/queues.py\", line 122, in get\n",
      "    return _ForkingPickler.loads(res)\n",
      "           ^^^^^^^^^^^^^^^^^^^^^^^^^^\n",
      "  File \"/scratch/mtmoore/local/miniconda/envs/csiml-final-ultralytics/lib/python3.12/site-packages/torch/multiprocessing/reductions.py\", line 496, in rebuild_storage_fd\n",
      "    fd = df.detach()\n",
      "         ^^^^^^^^^^^\n",
      "  File \"/scratch/mtmoore/local/miniconda/envs/csiml-final-ultralytics/lib/python3.12/multiprocessing/resource_sharer.py\", line 57, in detach\n",
      "    with _resource_sharer.get_connection(self._id) as conn:\n",
      "         ^^^^^^^^^^^^^^^^^^^^^^^^^^^^^^^^^^^^^^^^^\n",
      "  File \"/scratch/mtmoore/local/miniconda/envs/csiml-final-ultralytics/lib/python3.12/multiprocessing/resource_sharer.py\", line 86, in get_connection\n",
      "    c = Client(address, authkey=process.current_process().authkey)\n",
      "        ^^^^^^^^^^^^^^^^^^^^^^^^^^^^^^^^^^^^^^^^^^^^^^^^^^^^^^^^^^\n",
      "  File \"/scratch/mtmoore/local/miniconda/envs/csiml-final-ultralytics/lib/python3.12/multiprocessing/connection.py\", line 519, in Client\n",
      "    c = SocketClient(address)\n",
      "        ^^^^^^^^^^^^^^^^^^^^^\n",
      "  File \"/scratch/mtmoore/local/miniconda/envs/csiml-final-ultralytics/lib/python3.12/multiprocessing/connection.py\", line 647, in SocketClient\n",
      "    s.connect(address)\n",
      "FileNotFoundError: [Errno 2] No such file or directory\n",
      "                 Class     Images  Instances      Box(P          R      mAP50  mAP50-95):  29%|██▉       | 83/283 [00:23<00:57,  3.49it/s]\n"
     ]
    },
    {
     "ename": "KeyboardInterrupt",
     "evalue": "",
     "output_type": "error",
     "traceback": [
      "\u001b[0;31m---------------------------------------------------------------------------\u001b[0m",
      "\u001b[0;31mKeyboardInterrupt\u001b[0m                         Traceback (most recent call last)",
      "Cell \u001b[0;32mIn[2], line 43\u001b[0m\n\u001b[1;32m     40\u001b[0m     \u001b[38;5;28;01mcontinue\u001b[39;00m\n\u001b[1;32m     42\u001b[0m model \u001b[38;5;241m=\u001b[39m YOLO(\u001b[38;5;124mf\u001b[39m\u001b[38;5;124m\"\u001b[39m\u001b[38;5;132;01m{\u001b[39;00mproject\u001b[38;5;132;01m}\u001b[39;00m\u001b[38;5;124m/\u001b[39m\u001b[38;5;132;01m{\u001b[39;00mname\u001b[38;5;132;01m}\u001b[39;00m\u001b[38;5;124m/weights/\u001b[39m\u001b[38;5;132;01m{\u001b[39;00mmodel_epoch\u001b[38;5;132;01m}\u001b[39;00m\u001b[38;5;124m.pt\u001b[39m\u001b[38;5;124m\"\u001b[39m) \n\u001b[0;32m---> 43\u001b[0m metrics \u001b[38;5;241m=\u001b[39m model\u001b[38;5;241m.\u001b[39mval(data\u001b[38;5;241m=\u001b[39m\u001b[38;5;124mf\u001b[39m\u001b[38;5;124m\"\u001b[39m\u001b[38;5;132;01m{\u001b[39;00mdataset\u001b[38;5;132;01m}\u001b[39;00m\u001b[38;5;124m/data.yaml\u001b[39m\u001b[38;5;124m\"\u001b[39m, \\\n\u001b[1;32m     44\u001b[0m                     project\u001b[38;5;241m=\u001b[39mproject_val, name\u001b[38;5;241m=\u001b[39mproject_name, save_json\u001b[38;5;241m=\u001b[39m\u001b[38;5;28;01mTrue\u001b[39;00m, plots\u001b[38;5;241m=\u001b[39m\u001b[38;5;28;01mTrue\u001b[39;00m, imgsz\u001b[38;5;241m=\u001b[39mimgsize, \n\u001b[1;32m     45\u001b[0m                     batch\u001b[38;5;241m=\u001b[39mbatchsizes[model_name][imgsize])\n\u001b[1;32m     46\u001b[0m store_metrics \u001b[38;5;241m=\u001b[39m metrics\u001b[38;5;241m.\u001b[39mresults_dict\u001b[38;5;241m.\u001b[39mcopy()\n\u001b[1;32m     47\u001b[0m store_metrics[\u001b[38;5;124m'\u001b[39m\u001b[38;5;124mcategory_mAP50-95\u001b[39m\u001b[38;5;124m'\u001b[39m] \u001b[38;5;241m=\u001b[39m metrics\u001b[38;5;241m.\u001b[39mbox\u001b[38;5;241m.\u001b[39mmaps\u001b[38;5;241m.\u001b[39mtolist()\n",
      "File \u001b[0;32m/scratch/mtmoore/local/miniconda/envs/csiml-final-ultralytics/lib/python3.12/site-packages/ultralytics/engine/model.py:635\u001b[0m, in \u001b[0;36mModel.val\u001b[0;34m(self, validator, **kwargs)\u001b[0m\n\u001b[1;32m    632\u001b[0m args \u001b[38;5;241m=\u001b[39m {\u001b[38;5;241m*\u001b[39m\u001b[38;5;241m*\u001b[39m\u001b[38;5;28mself\u001b[39m\u001b[38;5;241m.\u001b[39moverrides, \u001b[38;5;241m*\u001b[39m\u001b[38;5;241m*\u001b[39mcustom, \u001b[38;5;241m*\u001b[39m\u001b[38;5;241m*\u001b[39mkwargs, \u001b[38;5;124m\"\u001b[39m\u001b[38;5;124mmode\u001b[39m\u001b[38;5;124m\"\u001b[39m: \u001b[38;5;124m\"\u001b[39m\u001b[38;5;124mval\u001b[39m\u001b[38;5;124m\"\u001b[39m}  \u001b[38;5;66;03m# highest priority args on the right\u001b[39;00m\n\u001b[1;32m    634\u001b[0m validator \u001b[38;5;241m=\u001b[39m (validator \u001b[38;5;129;01mor\u001b[39;00m \u001b[38;5;28mself\u001b[39m\u001b[38;5;241m.\u001b[39m_smart_load(\u001b[38;5;124m\"\u001b[39m\u001b[38;5;124mvalidator\u001b[39m\u001b[38;5;124m\"\u001b[39m))(args\u001b[38;5;241m=\u001b[39margs, _callbacks\u001b[38;5;241m=\u001b[39m\u001b[38;5;28mself\u001b[39m\u001b[38;5;241m.\u001b[39mcallbacks)\n\u001b[0;32m--> 635\u001b[0m validator(model\u001b[38;5;241m=\u001b[39m\u001b[38;5;28mself\u001b[39m\u001b[38;5;241m.\u001b[39mmodel)\n\u001b[1;32m    636\u001b[0m \u001b[38;5;28mself\u001b[39m\u001b[38;5;241m.\u001b[39mmetrics \u001b[38;5;241m=\u001b[39m validator\u001b[38;5;241m.\u001b[39mmetrics\n\u001b[1;32m    637\u001b[0m \u001b[38;5;28;01mreturn\u001b[39;00m validator\u001b[38;5;241m.\u001b[39mmetrics\n",
      "File \u001b[0;32m/scratch/mtmoore/local/miniconda/envs/csiml-final-ultralytics/lib/python3.12/site-packages/torch/utils/_contextlib.py:116\u001b[0m, in \u001b[0;36mcontext_decorator.<locals>.decorate_context\u001b[0;34m(*args, **kwargs)\u001b[0m\n\u001b[1;32m    113\u001b[0m \u001b[38;5;129m@functools\u001b[39m\u001b[38;5;241m.\u001b[39mwraps(func)\n\u001b[1;32m    114\u001b[0m \u001b[38;5;28;01mdef\u001b[39;00m \u001b[38;5;21mdecorate_context\u001b[39m(\u001b[38;5;241m*\u001b[39margs, \u001b[38;5;241m*\u001b[39m\u001b[38;5;241m*\u001b[39mkwargs):\n\u001b[1;32m    115\u001b[0m     \u001b[38;5;28;01mwith\u001b[39;00m ctx_factory():\n\u001b[0;32m--> 116\u001b[0m         \u001b[38;5;28;01mreturn\u001b[39;00m func(\u001b[38;5;241m*\u001b[39margs, \u001b[38;5;241m*\u001b[39m\u001b[38;5;241m*\u001b[39mkwargs)\n",
      "File \u001b[0;32m/scratch/mtmoore/local/miniconda/envs/csiml-final-ultralytics/lib/python3.12/site-packages/ultralytics/engine/validator.py:176\u001b[0m, in \u001b[0;36mBaseValidator.__call__\u001b[0;34m(self, trainer, model)\u001b[0m\n\u001b[1;32m    174\u001b[0m \u001b[38;5;66;03m# Preprocess\u001b[39;00m\n\u001b[1;32m    175\u001b[0m \u001b[38;5;28;01mwith\u001b[39;00m dt[\u001b[38;5;241m0\u001b[39m]:\n\u001b[0;32m--> 176\u001b[0m     batch \u001b[38;5;241m=\u001b[39m \u001b[38;5;28mself\u001b[39m\u001b[38;5;241m.\u001b[39mpreprocess(batch)\n\u001b[1;32m    178\u001b[0m \u001b[38;5;66;03m# Inference\u001b[39;00m\n\u001b[1;32m    179\u001b[0m \u001b[38;5;28;01mwith\u001b[39;00m dt[\u001b[38;5;241m1\u001b[39m]:\n",
      "File \u001b[0;32m/scratch/mtmoore/local/miniconda/envs/csiml-final-ultralytics/lib/python3.12/site-packages/ultralytics/models/yolo/detect/val.py:52\u001b[0m, in \u001b[0;36mDetectionValidator.preprocess\u001b[0;34m(self, batch)\u001b[0m\n\u001b[1;32m     50\u001b[0m \u001b[38;5;28;01mdef\u001b[39;00m \u001b[38;5;21mpreprocess\u001b[39m(\u001b[38;5;28mself\u001b[39m, batch):\n\u001b[1;32m     51\u001b[0m \u001b[38;5;250m    \u001b[39m\u001b[38;5;124;03m\"\"\"Preprocesses batch of images for YOLO training.\"\"\"\u001b[39;00m\n\u001b[0;32m---> 52\u001b[0m     batch[\u001b[38;5;124m\"\u001b[39m\u001b[38;5;124mimg\u001b[39m\u001b[38;5;124m\"\u001b[39m] \u001b[38;5;241m=\u001b[39m batch[\u001b[38;5;124m\"\u001b[39m\u001b[38;5;124mimg\u001b[39m\u001b[38;5;124m\"\u001b[39m]\u001b[38;5;241m.\u001b[39mto(\u001b[38;5;28mself\u001b[39m\u001b[38;5;241m.\u001b[39mdevice, non_blocking\u001b[38;5;241m=\u001b[39m\u001b[38;5;28;01mTrue\u001b[39;00m)\n\u001b[1;32m     53\u001b[0m     batch[\u001b[38;5;124m\"\u001b[39m\u001b[38;5;124mimg\u001b[39m\u001b[38;5;124m\"\u001b[39m] \u001b[38;5;241m=\u001b[39m (batch[\u001b[38;5;124m\"\u001b[39m\u001b[38;5;124mimg\u001b[39m\u001b[38;5;124m\"\u001b[39m]\u001b[38;5;241m.\u001b[39mhalf() \u001b[38;5;28;01mif\u001b[39;00m \u001b[38;5;28mself\u001b[39m\u001b[38;5;241m.\u001b[39margs\u001b[38;5;241m.\u001b[39mhalf \u001b[38;5;28;01melse\u001b[39;00m batch[\u001b[38;5;124m\"\u001b[39m\u001b[38;5;124mimg\u001b[39m\u001b[38;5;124m\"\u001b[39m]\u001b[38;5;241m.\u001b[39mfloat()) \u001b[38;5;241m/\u001b[39m \u001b[38;5;241m255\u001b[39m\n\u001b[1;32m     54\u001b[0m     \u001b[38;5;28;01mfor\u001b[39;00m k \u001b[38;5;129;01min\u001b[39;00m [\u001b[38;5;124m\"\u001b[39m\u001b[38;5;124mbatch_idx\u001b[39m\u001b[38;5;124m\"\u001b[39m, \u001b[38;5;124m\"\u001b[39m\u001b[38;5;124mcls\u001b[39m\u001b[38;5;124m\"\u001b[39m, \u001b[38;5;124m\"\u001b[39m\u001b[38;5;124mbboxes\u001b[39m\u001b[38;5;124m\"\u001b[39m]:\n",
      "\u001b[0;31mKeyboardInterrupt\u001b[0m: "
     ]
    }
   ],
   "source": [
    "project=\"/data/mtmoore/school/CSiML_AI395T/final_project/models/yolo11/iterative\"\n",
    "dataset=\"/data/mtmoore/school/CSiML_AI395T/final_project/dataset/yolov8_combined_train_dataset/\"\n",
    "os.chdir(dataset)\n",
    "camera=\"combined\"\n",
    "batchsizes = { \n",
    "               \"11n\": {  736: 36, 1440: 4, 2880: 4, 3840: 1 },\n",
    "               \"11s\": {  736: 30, 1440: 4, 2880: 1, 3840: 1 },\n",
    "               \"11m\": {  736: 24, 1440: 4, 2880: 1, 3840: 1 },\n",
    "             }\n",
    "max_epochs = 150\n",
    "case=1\n",
    "cases=2\n",
    "for model_name in [\"11s\"]: #, \"11s\"]: #[\"11n\", \"11s\", \"11m\"]\n",
    "    for imgsize in [3840]: #[720, 1440, 2880, 3840]:\n",
    "    \n",
    "            name = f\"{model_name}_{imgsize}imgsz_{camera}_{max_epochs}epochs\"\n",
    "            if not os.path.exists( os.path.join(project, name) ):\n",
    "                print(f\"no model dir {os.path.join(project,name)}\")\n",
    "                continue\n",
    "\n",
    "            split=max_epochs//cases\n",
    "            start=split*(case-1)\n",
    "            end=(split*case)\n",
    "            for i in list(range(start, end)):\n",
    "                print(f\"Generating validation for model: yolo{model_name}, image size: {imgsize}px, epoch: {i}\")\n",
    "                model = None\n",
    "                epoch_name = \"\"\n",
    "                model_epoch = \"\"\n",
    "                if isinstance(i, str):\n",
    "                    epoch_name = \"best\"\n",
    "                    model_epoch = \"best\"\n",
    "                else:\n",
    "                    epoch_name = f\"{i}epochs\"\n",
    "                    model_epoch = f\"epoch{i}\"\n",
    "\n",
    "                project_val = os.path.join(project, \"validation\")\n",
    "                project_name = f\"{model_name}_{imgsize}imgsz_{camera}_{epoch_name}-val\"\n",
    "                if os.path.exists( os.path.join(project_val, project_name, \"metrics.json\") ):\n",
    "                    print(f\"already completed validation on epoch {i} in {os.path.join(project, name)}\")\n",
    "                    continue\n",
    "\n",
    "                model = YOLO(f\"{project}/{name}/weights/{model_epoch}.pt\") \n",
    "                metrics = model.val(data=f\"{dataset}/data.yaml\", \\\n",
    "                                    project=project_val, name=project_name, save_json=True, plots=True, imgsz=imgsize, \n",
    "                                    batch=batchsizes[model_name][imgsize])\n",
    "                store_metrics = metrics.results_dict.copy()\n",
    "                store_metrics['category_mAP50-95'] = metrics.box.maps.tolist()\n",
    "                with open(os.path.join(project_val, project_name, \"metrics.json\"), \"w\") as o:\n",
    "                    o.write(json.dumps(store_metrics))"
   ]
  },
  {
   "cell_type": "code",
   "execution_count": null,
   "id": "3836f7a9-5cf3-4810-af00-7fd347d92e82",
   "metadata": {},
   "outputs": [],
   "source": []
  },
  {
   "cell_type": "code",
   "execution_count": null,
   "id": "69001e79-4b64-4239-9088-dd572a9734da",
   "metadata": {},
   "outputs": [],
   "source": []
  }
 ],
 "metadata": {
  "kernelspec": {
   "display_name": "csiml-final-ultralytics",
   "language": "python",
   "name": "csiml-final-ultralytics"
  },
  "language_info": {
   "codemirror_mode": {
    "name": "ipython",
    "version": 3
   },
   "file_extension": ".py",
   "mimetype": "text/x-python",
   "name": "python",
   "nbconvert_exporter": "python",
   "pygments_lexer": "ipython3",
   "version": "3.12.7"
  }
 },
 "nbformat": 4,
 "nbformat_minor": 5
}
