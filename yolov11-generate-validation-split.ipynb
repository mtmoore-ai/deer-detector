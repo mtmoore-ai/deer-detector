{
 "cells": [
  {
   "cell_type": "markdown",
   "id": "ae5da735-75b6-4fa2-a231-67dc8c9f5dd1",
   "metadata": {},
   "source": [
    "# Generate Validation Metrics"
   ]
  },
  {
   "cell_type": "code",
   "execution_count": null,
   "id": "2abc4966-4551-4ee9-9a00-f46758b05464",
   "metadata": {},
   "outputs": [],
   "source": [
    "import os\n",
    "import json\n",
    "from ultralytics import YOLO\n",
    "os.environ[\"PYTORCH_CUDA_ALLOC_CONF\"]=\"expandable_segments:True\""
   ]
  },
  {
   "cell_type": "code",
   "execution_count": null,
   "id": "748d22ef-ac21-4e12-a0e6-f38e7c33592a",
   "metadata": {},
   "outputs": [],
   "source": [
    "project=\"/data/mtmoore/school/CSiML_AI395T/final_project/models/yolo11/iterative\"\n",
    "dataset=\"/data/mtmoore/school/CSiML_AI395T/final_project/dataset/yolov8_combined_train_dataset/\"\n",
    "os.chdir(dataset)\n",
    "camera=\"combined\"\n",
    "batchsizes = { \n",
    "               \"11n\": {  736: 36, 1440: 4, 2880: 4, 3840: 1 },\n",
    "               \"11s\": {  736: 30, 1440: 4, 2880: 1, 3840: 1 },\n",
    "               \"11m\": {  736: 24, 1440: 4, 2880: 1, 3840: 1 },\n",
    "             }\n",
    "max_epochs = 150\n",
    "case=1\n",
    "cases=2\n",
    "for model_name in [\"11s\"]: #, \"11s\"]: #[\"11n\", \"11s\", \"11m\"]\n",
    "    for imgsize in [3840]: #[720, 1440, 2880, 3840]:\n",
    "    \n",
    "            name = f\"{model_name}_{imgsize}imgsz_{camera}_{max_epochs}epochs\"\n",
    "            if not os.path.exists( os.path.join(project, name) ):\n",
    "                print(f\"no model dir {os.path.join(project,name)}\")\n",
    "                continue\n",
    "\n",
    "            split=max_epochs//cases\n",
    "            start=split*(case-1)\n",
    "            end=(split*case)\n",
    "            for i in list(range(start, end)):\n",
    "                print(f\"Generating validation for model: yolo{model_name}, image size: {imgsize}px, epoch: {i}\")\n",
    "                model = None\n",
    "                epoch_name = \"\"\n",
    "                model_epoch = \"\"\n",
    "                if isinstance(i, str):\n",
    "                    epoch_name = \"best\"\n",
    "                    model_epoch = \"best\"\n",
    "                else:\n",
    "                    epoch_name = f\"{i}epochs\"\n",
    "                    model_epoch = f\"epoch{i}\"\n",
    "\n",
    "                project_val = os.path.join(project, \"validation\")\n",
    "                project_name = f\"{model_name}_{imgsize}imgsz_{camera}_{epoch_name}-val\"\n",
    "                if os.path.exists( os.path.join(project_val, project_name, \"metrics.json\") ):\n",
    "                    print(f\"already completed validation on epoch {i} in {os.path.join(project, name)}\")\n",
    "                    continue\n",
    "\n",
    "                model = YOLO(f\"{project}/{name}/weights/{model_epoch}.pt\") \n",
    "                metrics = model.val(data=f\"{dataset}/data.yaml\", \\\n",
    "                                    project=project_val, name=project_name, save_json=True, plots=True, imgsz=imgsize, \n",
    "                                    batch=batchsizes[model_name][imgsize])\n",
    "                store_metrics = metrics.results_dict.copy()\n",
    "                store_metrics['category_mAP50-95'] = metrics.box.maps.tolist()\n",
    "                with open(os.path.join(project_val, project_name, \"metrics.json\"), \"w\") as o:\n",
    "                    o.write(json.dumps(store_metrics))"
   ]
  },
  {
   "cell_type": "code",
   "execution_count": null,
   "id": "3836f7a9-5cf3-4810-af00-7fd347d92e82",
   "metadata": {},
   "outputs": [],
   "source": []
  },
  {
   "cell_type": "code",
   "execution_count": null,
   "id": "69001e79-4b64-4239-9088-dd572a9734da",
   "metadata": {},
   "outputs": [],
   "source": []
  }
 ],
 "metadata": {
  "kernelspec": {
   "display_name": "csiml-final-ultralytics",
   "language": "python",
   "name": "csiml-final-ultralytics"
  },
  "language_info": {
   "codemirror_mode": {
    "name": "ipython",
    "version": 3
   },
   "file_extension": ".py",
   "mimetype": "text/x-python",
   "name": "python",
   "nbconvert_exporter": "python",
   "pygments_lexer": "ipython3",
   "version": "3.12.7"
  }
 },
 "nbformat": 4,
 "nbformat_minor": 5
}
