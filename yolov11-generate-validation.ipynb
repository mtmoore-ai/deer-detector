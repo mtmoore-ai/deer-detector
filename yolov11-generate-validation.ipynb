{
 "cells": [
  {
   "cell_type": "markdown",
   "id": "ae5da735-75b6-4fa2-a231-67dc8c9f5dd1",
   "metadata": {},
   "source": [
    "# Generate Validation Metrics"
   ]
  },
  {
   "cell_type": "code",
   "execution_count": null,
   "id": "2abc4966-4551-4ee9-9a00-f46758b05464",
   "metadata": {},
   "outputs": [],
   "source": [
    "import os\n",
    "import json\n",
    "from ultralytics import YOLO\n",
    "os.environ[\"PYTORCH_CUDA_ALLOC_CONF\"]=\"expandable_segments:True\""
   ]
  },
  {
   "cell_type": "code",
   "execution_count": 3,
   "id": "748d22ef-ac21-4e12-a0e6-f38e7c33592a",
   "metadata": {},
   "outputs": [
    {
     "name": "stderr",
     "output_type": "stream",
     "text": [
      "                 Class     Images  Instances      Box(P          R      mAP50  mAP50-95): 100%|██████████| 283/283 [01:18<00:00,  3.61it/s]\n"
     ]
    },
    {
     "name": "stdout",
     "output_type": "stream",
     "text": [
      "                   all        283        514      0.856      0.763      0.831      0.473\n",
      "Speed: 197.6ms preprocess, 62.7ms inference, 0.0ms loss, 2.0ms postprocess per image\n",
      "Saving /data/mtmoore/school/CSiML_AI395T/final_project/models/yolo11/iterative/validation/11s_3840imgsz_combined_8epochs-val/predictions.json...\n",
      "Results saved to \u001b[1m/data/mtmoore/school/CSiML_AI395T/final_project/models/yolo11/iterative/validation/11s_3840imgsz_combined_8epochs-val\u001b[0m\n",
      "Generating validation for model: yolo11s, image size: 3840px, epoch: 9\n",
      "Ultralytics 8.3.29 🚀 Python-3.12.7 torch-2.4.0 CUDA:0 (NVIDIA GeForce RTX 4070 SUPER, 11904MiB)\n",
      "YOLO11s summary (fused): 238 layers, 9,413,187 parameters, 0 gradients, 21.3 GFLOPs\n"
     ]
    },
    {
     "name": "stderr",
     "output_type": "stream",
     "text": [
      "\u001b[34m\u001b[1mval: \u001b[0mScanning val/labels.cache... 283 images, 0 backgrounds, 0 corrupt: 100%|██████████| 283/283 [00:00<?, ?it/s]\u001b[0m\n",
      "                 Class     Images  Instances      Box(P          R      mAP50  mAP50-95): 100%|██████████| 283/283 [01:59<00:00,  2.37it/s]\n"
     ]
    },
    {
     "name": "stdout",
     "output_type": "stream",
     "text": [
      "                   all        283        514       0.89      0.776      0.848      0.497\n",
      "Speed: 199.9ms preprocess, 62.8ms inference, 0.0ms loss, 2.2ms postprocess per image\n",
      "Saving /data/mtmoore/school/CSiML_AI395T/final_project/models/yolo11/iterative/validation/11s_3840imgsz_combined_9epochs-val/predictions.json...\n",
      "Results saved to \u001b[1m/data/mtmoore/school/CSiML_AI395T/final_project/models/yolo11/iterative/validation/11s_3840imgsz_combined_9epochs-val\u001b[0m\n",
      "Generating validation for model: yolo11s, image size: 3840px, epoch: 10\n",
      "Ultralytics 8.3.29 🚀 Python-3.12.7 torch-2.4.0 CUDA:0 (NVIDIA GeForce RTX 4070 SUPER, 11904MiB)\n",
      "YOLO11s summary (fused): 238 layers, 9,413,187 parameters, 0 gradients, 21.3 GFLOPs\n"
     ]
    },
    {
     "name": "stderr",
     "output_type": "stream",
     "text": [
      "\u001b[34m\u001b[1mval: \u001b[0mScanning val/labels.cache... 283 images, 0 backgrounds, 0 corrupt: 100%|██████████| 283/283 [00:00<?, ?it/s]\u001b[0m\n",
      "                 Class     Images  Instances      Box(P          R      mAP50  mAP50-95): 100%|██████████| 283/283 [01:17<00:00,  3.63it/s]\n"
     ]
    },
    {
     "name": "stdout",
     "output_type": "stream",
     "text": [
      "                   all        283        514      0.862      0.757      0.834      0.487\n",
      "Speed: 199.9ms preprocess, 62.7ms inference, 0.0ms loss, 2.0ms postprocess per image\n",
      "Saving /data/mtmoore/school/CSiML_AI395T/final_project/models/yolo11/iterative/validation/11s_3840imgsz_combined_10epochs-val/predictions.json...\n",
      "Results saved to \u001b[1m/data/mtmoore/school/CSiML_AI395T/final_project/models/yolo11/iterative/validation/11s_3840imgsz_combined_10epochs-val\u001b[0m\n",
      "Generating validation for model: yolo11s, image size: 3840px, epoch: 11\n",
      "Ultralytics 8.3.29 🚀 Python-3.12.7 torch-2.4.0 CUDA:0 (NVIDIA GeForce RTX 4070 SUPER, 11904MiB)\n",
      "YOLO11s summary (fused): 238 layers, 9,413,187 parameters, 0 gradients, 21.3 GFLOPs\n"
     ]
    },
    {
     "name": "stderr",
     "output_type": "stream",
     "text": [
      "\u001b[34m\u001b[1mval: \u001b[0mScanning val/labels.cache... 283 images, 0 backgrounds, 0 corrupt: 100%|██████████| 283/283 [00:00<?, ?it/s]\u001b[0m\n",
      "                 Class     Images  Instances      Box(P          R      mAP50  mAP50-95): 100%|██████████| 283/283 [02:38<00:00,  1.78it/s] \n"
     ]
    },
    {
     "name": "stdout",
     "output_type": "stream",
     "text": [
      "                   all        283        514      0.871      0.788      0.862      0.524\n",
      "Speed: 198.4ms preprocess, 62.7ms inference, 0.0ms loss, 2.2ms postprocess per image\n",
      "Saving /data/mtmoore/school/CSiML_AI395T/final_project/models/yolo11/iterative/validation/11s_3840imgsz_combined_11epochs-val/predictions.json...\n",
      "Results saved to \u001b[1m/data/mtmoore/school/CSiML_AI395T/final_project/models/yolo11/iterative/validation/11s_3840imgsz_combined_11epochs-val\u001b[0m\n",
      "Generating validation for model: yolo11s, image size: 3840px, epoch: 12\n",
      "Ultralytics 8.3.29 🚀 Python-3.12.7 torch-2.4.0 CUDA:0 (NVIDIA GeForce RTX 4070 SUPER, 11904MiB)\n",
      "YOLO11s summary (fused): 238 layers, 9,413,187 parameters, 0 gradients, 21.3 GFLOPs\n"
     ]
    },
    {
     "name": "stderr",
     "output_type": "stream",
     "text": [
      "\u001b[34m\u001b[1mval: \u001b[0mScanning val/labels.cache... 283 images, 0 backgrounds, 0 corrupt: 100%|██████████| 283/283 [00:00<?, ?it/s]\u001b[0m\n",
      "                 Class     Images  Instances      Box(P          R      mAP50  mAP50-95): 100%|██████████| 283/283 [01:17<00:00,  3.66it/s]\n"
     ]
    },
    {
     "name": "stdout",
     "output_type": "stream",
     "text": [
      "                   all        283        514      0.912      0.748      0.837      0.527\n",
      "Speed: 196.2ms preprocess, 62.8ms inference, 0.0ms loss, 2.0ms postprocess per image\n",
      "Saving /data/mtmoore/school/CSiML_AI395T/final_project/models/yolo11/iterative/validation/11s_3840imgsz_combined_12epochs-val/predictions.json...\n",
      "Results saved to \u001b[1m/data/mtmoore/school/CSiML_AI395T/final_project/models/yolo11/iterative/validation/11s_3840imgsz_combined_12epochs-val\u001b[0m\n",
      "Generating validation for model: yolo11s, image size: 3840px, epoch: 13\n",
      "Ultralytics 8.3.29 🚀 Python-3.12.7 torch-2.4.0 CUDA:0 (NVIDIA GeForce RTX 4070 SUPER, 11904MiB)\n",
      "YOLO11s summary (fused): 238 layers, 9,413,187 parameters, 0 gradients, 21.3 GFLOPs\n"
     ]
    },
    {
     "name": "stderr",
     "output_type": "stream",
     "text": [
      "\u001b[34m\u001b[1mval: \u001b[0mScanning val/labels.cache... 283 images, 0 backgrounds, 0 corrupt: 100%|██████████| 283/283 [00:00<?, ?it/s]\u001b[0m\n",
      "                 Class     Images  Instances      Box(P          R      mAP50  mAP50-95): 100%|██████████| 283/283 [02:38<00:00,  1.78it/s]  \n"
     ]
    },
    {
     "name": "stdout",
     "output_type": "stream",
     "text": [
      "                   all        283        514      0.902      0.808      0.876      0.538\n",
      "Speed: 201.5ms preprocess, 62.9ms inference, 0.0ms loss, 2.0ms postprocess per image\n",
      "Saving /data/mtmoore/school/CSiML_AI395T/final_project/models/yolo11/iterative/validation/11s_3840imgsz_combined_13epochs-val/predictions.json...\n",
      "Results saved to \u001b[1m/data/mtmoore/school/CSiML_AI395T/final_project/models/yolo11/iterative/validation/11s_3840imgsz_combined_13epochs-val\u001b[0m\n",
      "Generating validation for model: yolo11s, image size: 3840px, epoch: 14\n",
      "Ultralytics 8.3.29 🚀 Python-3.12.7 torch-2.4.0 CUDA:0 (NVIDIA GeForce RTX 4070 SUPER, 11904MiB)\n",
      "YOLO11s summary (fused): 238 layers, 9,413,187 parameters, 0 gradients, 21.3 GFLOPs\n"
     ]
    },
    {
     "name": "stderr",
     "output_type": "stream",
     "text": [
      "\u001b[34m\u001b[1mval: \u001b[0mScanning val/labels.cache... 283 images, 0 backgrounds, 0 corrupt: 100%|██████████| 283/283 [00:00<?, ?it/s]\u001b[0m\n",
      "                 Class     Images  Instances      Box(P          R      mAP50  mAP50-95): 100%|██████████| 283/283 [01:18<00:00,  3.62it/s]\n"
     ]
    },
    {
     "name": "stdout",
     "output_type": "stream",
     "text": [
      "                   all        283        514       0.89      0.785      0.866      0.541\n",
      "Speed: 200.8ms preprocess, 62.9ms inference, 0.0ms loss, 2.1ms postprocess per image\n",
      "Saving /data/mtmoore/school/CSiML_AI395T/final_project/models/yolo11/iterative/validation/11s_3840imgsz_combined_14epochs-val/predictions.json...\n",
      "Results saved to \u001b[1m/data/mtmoore/school/CSiML_AI395T/final_project/models/yolo11/iterative/validation/11s_3840imgsz_combined_14epochs-val\u001b[0m\n",
      "Generating validation for model: yolo11s, image size: 3840px, epoch: 15\n",
      "Ultralytics 8.3.29 🚀 Python-3.12.7 torch-2.4.0 CUDA:0 (NVIDIA GeForce RTX 4070 SUPER, 11904MiB)\n",
      "YOLO11s summary (fused): 238 layers, 9,413,187 parameters, 0 gradients, 21.3 GFLOPs\n"
     ]
    },
    {
     "name": "stderr",
     "output_type": "stream",
     "text": [
      "\u001b[34m\u001b[1mval: \u001b[0mScanning val/labels.cache... 283 images, 0 backgrounds, 0 corrupt: 100%|██████████| 283/283 [00:00<?, ?it/s]\u001b[0m\n",
      "                 Class     Images  Instances      Box(P          R      mAP50  mAP50-95): 100%|██████████| 283/283 [01:18<00:00,  3.59it/s]\n"
     ]
    },
    {
     "name": "stdout",
     "output_type": "stream",
     "text": [
      "                   all        283        514      0.898      0.815      0.885      0.559\n",
      "Speed: 201.2ms preprocess, 62.8ms inference, 0.0ms loss, 2.2ms postprocess per image\n",
      "Saving /data/mtmoore/school/CSiML_AI395T/final_project/models/yolo11/iterative/validation/11s_3840imgsz_combined_15epochs-val/predictions.json...\n",
      "Results saved to \u001b[1m/data/mtmoore/school/CSiML_AI395T/final_project/models/yolo11/iterative/validation/11s_3840imgsz_combined_15epochs-val\u001b[0m\n",
      "Generating validation for model: yolo11s, image size: 3840px, epoch: 16\n",
      "Ultralytics 8.3.29 🚀 Python-3.12.7 torch-2.4.0 CUDA:0 (NVIDIA GeForce RTX 4070 SUPER, 11904MiB)\n",
      "YOLO11s summary (fused): 238 layers, 9,413,187 parameters, 0 gradients, 21.3 GFLOPs\n"
     ]
    },
    {
     "name": "stderr",
     "output_type": "stream",
     "text": [
      "\u001b[34m\u001b[1mval: \u001b[0mScanning val/labels.cache... 283 images, 0 backgrounds, 0 corrupt: 100%|██████████| 283/283 [00:00<?, ?it/s]\u001b[0m\n",
      "                 Class     Images  Instances      Box(P          R      mAP50  mAP50-95): 100%|██████████| 283/283 [01:17<00:00,  3.63it/s]\n"
     ]
    },
    {
     "name": "stdout",
     "output_type": "stream",
     "text": [
      "                   all        283        514      0.918       0.81      0.885      0.566\n",
      "Speed: 198.3ms preprocess, 62.8ms inference, 0.0ms loss, 2.2ms postprocess per image\n",
      "Saving /data/mtmoore/school/CSiML_AI395T/final_project/models/yolo11/iterative/validation/11s_3840imgsz_combined_16epochs-val/predictions.json...\n",
      "Results saved to \u001b[1m/data/mtmoore/school/CSiML_AI395T/final_project/models/yolo11/iterative/validation/11s_3840imgsz_combined_16epochs-val\u001b[0m\n",
      "Generating validation for model: yolo11s, image size: 3840px, epoch: 17\n",
      "Ultralytics 8.3.29 🚀 Python-3.12.7 torch-2.4.0 CUDA:0 (NVIDIA GeForce RTX 4070 SUPER, 11904MiB)\n",
      "YOLO11s summary (fused): 238 layers, 9,413,187 parameters, 0 gradients, 21.3 GFLOPs\n"
     ]
    },
    {
     "name": "stderr",
     "output_type": "stream",
     "text": [
      "\u001b[34m\u001b[1mval: \u001b[0mScanning val/labels.cache... 283 images, 0 backgrounds, 0 corrupt: 100%|██████████| 283/283 [00:00<?, ?it/s]\u001b[0m\n",
      "                 Class     Images  Instances      Box(P          R      mAP50  mAP50-95): 100%|██████████| 283/283 [01:17<00:00,  3.63it/s]\n"
     ]
    },
    {
     "name": "stdout",
     "output_type": "stream",
     "text": [
      "                   all        283        514      0.874        0.8      0.867      0.535\n",
      "Speed: 200.0ms preprocess, 62.8ms inference, 0.0ms loss, 2.1ms postprocess per image\n",
      "Saving /data/mtmoore/school/CSiML_AI395T/final_project/models/yolo11/iterative/validation/11s_3840imgsz_combined_17epochs-val/predictions.json...\n",
      "Results saved to \u001b[1m/data/mtmoore/school/CSiML_AI395T/final_project/models/yolo11/iterative/validation/11s_3840imgsz_combined_17epochs-val\u001b[0m\n",
      "Generating validation for model: yolo11s, image size: 3840px, epoch: 18\n",
      "Ultralytics 8.3.29 🚀 Python-3.12.7 torch-2.4.0 CUDA:0 (NVIDIA GeForce RTX 4070 SUPER, 11904MiB)\n",
      "YOLO11s summary (fused): 238 layers, 9,413,187 parameters, 0 gradients, 21.3 GFLOPs\n"
     ]
    },
    {
     "name": "stderr",
     "output_type": "stream",
     "text": [
      "\u001b[34m\u001b[1mval: \u001b[0mScanning val/labels.cache... 283 images, 0 backgrounds, 0 corrupt: 100%|██████████| 283/283 [00:00<?, ?it/s]\u001b[0m\n",
      "                 Class     Images  Instances      Box(P          R      mAP50  mAP50-95): 100%|██████████| 283/283 [01:17<00:00,  3.66it/s]\n"
     ]
    },
    {
     "name": "stdout",
     "output_type": "stream",
     "text": [
      "                   all        283        514      0.917      0.757      0.872      0.558\n",
      "Speed: 197.9ms preprocess, 62.8ms inference, 0.0ms loss, 2.0ms postprocess per image\n",
      "Saving /data/mtmoore/school/CSiML_AI395T/final_project/models/yolo11/iterative/validation/11s_3840imgsz_combined_18epochs-val/predictions.json...\n",
      "Results saved to \u001b[1m/data/mtmoore/school/CSiML_AI395T/final_project/models/yolo11/iterative/validation/11s_3840imgsz_combined_18epochs-val\u001b[0m\n",
      "Generating validation for model: yolo11s, image size: 3840px, epoch: 19\n",
      "Ultralytics 8.3.29 🚀 Python-3.12.7 torch-2.4.0 CUDA:0 (NVIDIA GeForce RTX 4070 SUPER, 11904MiB)\n",
      "YOLO11s summary (fused): 238 layers, 9,413,187 parameters, 0 gradients, 21.3 GFLOPs\n"
     ]
    },
    {
     "name": "stderr",
     "output_type": "stream",
     "text": [
      "\u001b[34m\u001b[1mval: \u001b[0mScanning val/labels.cache... 283 images, 0 backgrounds, 0 corrupt: 100%|██████████| 283/283 [00:00<?, ?it/s]\u001b[0m\n",
      "                 Class     Images  Instances      Box(P          R      mAP50  mAP50-95): 100%|██████████| 283/283 [01:17<00:00,  3.64it/s]\n"
     ]
    },
    {
     "name": "stdout",
     "output_type": "stream",
     "text": [
      "                   all        283        514      0.861      0.833      0.874      0.562\n",
      "Speed: 199.6ms preprocess, 62.8ms inference, 0.0ms loss, 2.1ms postprocess per image\n",
      "Saving /data/mtmoore/school/CSiML_AI395T/final_project/models/yolo11/iterative/validation/11s_3840imgsz_combined_19epochs-val/predictions.json...\n",
      "Results saved to \u001b[1m/data/mtmoore/school/CSiML_AI395T/final_project/models/yolo11/iterative/validation/11s_3840imgsz_combined_19epochs-val\u001b[0m\n",
      "Generating validation for model: yolo11s, image size: 3840px, epoch: 20\n",
      "Ultralytics 8.3.29 🚀 Python-3.12.7 torch-2.4.0 CUDA:0 (NVIDIA GeForce RTX 4070 SUPER, 11904MiB)\n",
      "YOLO11s summary (fused): 238 layers, 9,413,187 parameters, 0 gradients, 21.3 GFLOPs\n"
     ]
    },
    {
     "name": "stderr",
     "output_type": "stream",
     "text": [
      "\u001b[34m\u001b[1mval: \u001b[0mScanning val/labels.cache... 283 images, 0 backgrounds, 0 corrupt: 100%|██████████| 283/283 [00:00<?, ?it/s]\u001b[0m\n",
      "                 Class     Images  Instances      Box(P          R      mAP50  mAP50-95): 100%|██████████| 283/283 [01:17<00:00,  3.64it/s]\n"
     ]
    },
    {
     "name": "stdout",
     "output_type": "stream",
     "text": [
      "                   all        283        514      0.877      0.813      0.884      0.543\n",
      "Speed: 196.1ms preprocess, 62.7ms inference, 0.0ms loss, 2.0ms postprocess per image\n",
      "Saving /data/mtmoore/school/CSiML_AI395T/final_project/models/yolo11/iterative/validation/11s_3840imgsz_combined_20epochs-val/predictions.json...\n",
      "Results saved to \u001b[1m/data/mtmoore/school/CSiML_AI395T/final_project/models/yolo11/iterative/validation/11s_3840imgsz_combined_20epochs-val\u001b[0m\n",
      "Generating validation for model: yolo11s, image size: 3840px, epoch: 21\n",
      "Ultralytics 8.3.29 🚀 Python-3.12.7 torch-2.4.0 CUDA:0 (NVIDIA GeForce RTX 4070 SUPER, 11904MiB)\n",
      "YOLO11s summary (fused): 238 layers, 9,413,187 parameters, 0 gradients, 21.3 GFLOPs\n"
     ]
    },
    {
     "name": "stderr",
     "output_type": "stream",
     "text": [
      "\u001b[34m\u001b[1mval: \u001b[0mScanning val/labels.cache... 283 images, 0 backgrounds, 0 corrupt: 100%|██████████| 283/283 [00:00<?, ?it/s]\u001b[0m\n",
      "                 Class     Images  Instances      Box(P          R      mAP50  mAP50-95): 100%|██████████| 283/283 [01:17<00:00,  3.66it/s]\n"
     ]
    },
    {
     "name": "stdout",
     "output_type": "stream",
     "text": [
      "                   all        283        514      0.905      0.819        0.9      0.591\n",
      "Speed: 196.6ms preprocess, 62.8ms inference, 0.0ms loss, 2.0ms postprocess per image\n",
      "Saving /data/mtmoore/school/CSiML_AI395T/final_project/models/yolo11/iterative/validation/11s_3840imgsz_combined_21epochs-val/predictions.json...\n",
      "Results saved to \u001b[1m/data/mtmoore/school/CSiML_AI395T/final_project/models/yolo11/iterative/validation/11s_3840imgsz_combined_21epochs-val\u001b[0m\n",
      "Generating validation for model: yolo11s, image size: 3840px, epoch: 22\n",
      "Ultralytics 8.3.29 🚀 Python-3.12.7 torch-2.4.0 CUDA:0 (NVIDIA GeForce RTX 4070 SUPER, 11904MiB)\n",
      "YOLO11s summary (fused): 238 layers, 9,413,187 parameters, 0 gradients, 21.3 GFLOPs\n"
     ]
    },
    {
     "name": "stderr",
     "output_type": "stream",
     "text": [
      "\u001b[34m\u001b[1mval: \u001b[0mScanning val/labels.cache... 283 images, 0 backgrounds, 0 corrupt: 100%|██████████| 283/283 [00:00<?, ?it/s]\u001b[0m\n",
      "                 Class     Images  Instances      Box(P          R      mAP50  mAP50-95):  20%|█▉        | 56/283 [00:15<01:01,  3.68it/s]IOStream.flush timed out\n",
      "                 Class     Images  Instances      Box(P          R      mAP50  mAP50-95):  20%|██        | 57/283 [00:25<12:06,  3.21s/it]IOStream.flush timed out\n",
      "                 Class     Images  Instances      Box(P          R      mAP50  mAP50-95):  20%|██        | 58/283 [00:35<19:46,  5.27s/it]IOStream.flush timed out\n",
      "                 Class     Images  Instances      Box(P          R      mAP50  mAP50-95):  21%|██        | 59/283 [00:45<25:03,  6.71s/it]IOStream.flush timed out\n",
      "                 Class     Images  Instances      Box(P          R      mAP50  mAP50-95):  21%|██        | 60/283 [00:55<28:42,  7.72s/it]IOStream.flush timed out\n",
      "                 Class     Images  Instances      Box(P          R      mAP50  mAP50-95):  22%|██▏       | 61/283 [01:05<31:11,  8.43s/it]IOStream.flush timed out\n",
      "                 Class     Images  Instances      Box(P          R      mAP50  mAP50-95):  22%|██▏       | 62/283 [01:15<32:52,  8.92s/it]IOStream.flush timed out\n",
      "                 Class     Images  Instances      Box(P          R      mAP50  mAP50-95):  22%|██▏       | 63/283 [01:26<33:59,  9.27s/it]IOStream.flush timed out\n",
      "                 Class     Images  Instances      Box(P          R      mAP50  mAP50-95): 100%|██████████| 283/283 [02:36<00:00,  1.81it/s]\n"
     ]
    },
    {
     "name": "stdout",
     "output_type": "stream",
     "text": [
      "                   all        283        514       0.91      0.825      0.907       0.57\n",
      "Speed: 194.7ms preprocess, 62.8ms inference, 0.0ms loss, 2.1ms postprocess per image\n",
      "Saving /data/mtmoore/school/CSiML_AI395T/final_project/models/yolo11/iterative/validation/11s_3840imgsz_combined_22epochs-val/predictions.json...\n",
      "Results saved to \u001b[1m/data/mtmoore/school/CSiML_AI395T/final_project/models/yolo11/iterative/validation/11s_3840imgsz_combined_22epochs-val\u001b[0m\n",
      "Generating validation for model: yolo11s, image size: 3840px, epoch: 23\n",
      "Ultralytics 8.3.29 🚀 Python-3.12.7 torch-2.4.0 CUDA:0 (NVIDIA GeForce RTX 4070 SUPER, 11904MiB)\n",
      "YOLO11s summary (fused): 238 layers, 9,413,187 parameters, 0 gradients, 21.3 GFLOPs\n"
     ]
    },
    {
     "name": "stderr",
     "output_type": "stream",
     "text": [
      "\u001b[34m\u001b[1mval: \u001b[0mScanning val/labels.cache... 283 images, 0 backgrounds, 0 corrupt: 100%|██████████| 283/283 [00:00<?, ?it/s]\u001b[0m\n",
      "                 Class     Images  Instances      Box(P          R      mAP50  mAP50-95): 100%|██████████| 283/283 [01:17<00:00,  3.63it/s]\n"
     ]
    },
    {
     "name": "stdout",
     "output_type": "stream",
     "text": [
      "                   all        283        514      0.895      0.837      0.907      0.591\n",
      "Speed: 198.5ms preprocess, 62.8ms inference, 0.0ms loss, 2.1ms postprocess per image\n",
      "Saving /data/mtmoore/school/CSiML_AI395T/final_project/models/yolo11/iterative/validation/11s_3840imgsz_combined_23epochs-val/predictions.json...\n",
      "Results saved to \u001b[1m/data/mtmoore/school/CSiML_AI395T/final_project/models/yolo11/iterative/validation/11s_3840imgsz_combined_23epochs-val\u001b[0m\n",
      "Generating validation for model: yolo11s, image size: 3840px, epoch: 24\n",
      "Ultralytics 8.3.29 🚀 Python-3.12.7 torch-2.4.0 CUDA:0 (NVIDIA GeForce RTX 4070 SUPER, 11904MiB)\n",
      "YOLO11s summary (fused): 238 layers, 9,413,187 parameters, 0 gradients, 21.3 GFLOPs\n"
     ]
    },
    {
     "name": "stderr",
     "output_type": "stream",
     "text": [
      "\u001b[34m\u001b[1mval: \u001b[0mScanning val/labels.cache... 283 images, 0 backgrounds, 0 corrupt: 100%|██████████| 283/283 [00:00<?, ?it/s]\u001b[0m\n",
      "                 Class     Images  Instances      Box(P          R      mAP50  mAP50-95): 100%|██████████| 283/283 [02:38<00:00,  1.79it/s] \n"
     ]
    },
    {
     "name": "stdout",
     "output_type": "stream",
     "text": [
      "                   all        283        514      0.895      0.862      0.902      0.563\n",
      "Speed: 198.2ms preprocess, 62.8ms inference, 0.0ms loss, 2.1ms postprocess per image\n",
      "Saving /data/mtmoore/school/CSiML_AI395T/final_project/models/yolo11/iterative/validation/11s_3840imgsz_combined_24epochs-val/predictions.json...\n",
      "Results saved to \u001b[1m/data/mtmoore/school/CSiML_AI395T/final_project/models/yolo11/iterative/validation/11s_3840imgsz_combined_24epochs-val\u001b[0m\n",
      "Generating validation for model: yolo11s, image size: 3840px, epoch: 25\n",
      "Ultralytics 8.3.29 🚀 Python-3.12.7 torch-2.4.0 CUDA:0 (NVIDIA GeForce RTX 4070 SUPER, 11904MiB)\n",
      "YOLO11s summary (fused): 238 layers, 9,413,187 parameters, 0 gradients, 21.3 GFLOPs\n"
     ]
    },
    {
     "name": "stderr",
     "output_type": "stream",
     "text": [
      "\u001b[34m\u001b[1mval: \u001b[0mScanning val/labels.cache... 283 images, 0 backgrounds, 0 corrupt: 100%|██████████| 283/283 [00:00<?, ?it/s]\u001b[0m\n",
      "                 Class     Images  Instances      Box(P          R      mAP50  mAP50-95): 100%|██████████| 283/283 [01:17<00:00,  3.65it/s]\n"
     ]
    },
    {
     "name": "stdout",
     "output_type": "stream",
     "text": [
      "                   all        283        514      0.892      0.809      0.888      0.583\n",
      "Speed: 196.3ms preprocess, 62.8ms inference, 0.0ms loss, 2.1ms postprocess per image\n",
      "Saving /data/mtmoore/school/CSiML_AI395T/final_project/models/yolo11/iterative/validation/11s_3840imgsz_combined_25epochs-val/predictions.json...\n",
      "Results saved to \u001b[1m/data/mtmoore/school/CSiML_AI395T/final_project/models/yolo11/iterative/validation/11s_3840imgsz_combined_25epochs-val\u001b[0m\n",
      "Generating validation for model: yolo11s, image size: 3840px, epoch: 26\n",
      "Ultralytics 8.3.29 🚀 Python-3.12.7 torch-2.4.0 CUDA:0 (NVIDIA GeForce RTX 4070 SUPER, 11904MiB)\n",
      "YOLO11s summary (fused): 238 layers, 9,413,187 parameters, 0 gradients, 21.3 GFLOPs\n"
     ]
    },
    {
     "name": "stderr",
     "output_type": "stream",
     "text": [
      "\u001b[34m\u001b[1mval: \u001b[0mScanning val/labels.cache... 283 images, 0 backgrounds, 0 corrupt: 100%|██████████| 283/283 [00:00<?, ?it/s]\u001b[0m\n",
      "                 Class     Images  Instances      Box(P          R      mAP50  mAP50-95): 100%|██████████| 283/283 [02:38<00:00,  1.78it/s]  \n"
     ]
    },
    {
     "name": "stdout",
     "output_type": "stream",
     "text": [
      "                   all        283        514      0.871       0.84      0.899      0.567\n",
      "Speed: 200.4ms preprocess, 62.8ms inference, 0.0ms loss, 2.1ms postprocess per image\n",
      "Saving /data/mtmoore/school/CSiML_AI395T/final_project/models/yolo11/iterative/validation/11s_3840imgsz_combined_26epochs-val/predictions.json...\n",
      "Results saved to \u001b[1m/data/mtmoore/school/CSiML_AI395T/final_project/models/yolo11/iterative/validation/11s_3840imgsz_combined_26epochs-val\u001b[0m\n",
      "Generating validation for model: yolo11s, image size: 3840px, epoch: 27\n",
      "Ultralytics 8.3.29 🚀 Python-3.12.7 torch-2.4.0 CUDA:0 (NVIDIA GeForce RTX 4070 SUPER, 11904MiB)\n",
      "YOLO11s summary (fused): 238 layers, 9,413,187 parameters, 0 gradients, 21.3 GFLOPs\n"
     ]
    },
    {
     "name": "stderr",
     "output_type": "stream",
     "text": [
      "\u001b[34m\u001b[1mval: \u001b[0mScanning val/labels.cache... 283 images, 0 backgrounds, 0 corrupt: 100%|██████████| 283/283 [00:00<?, ?it/s]\u001b[0m\n",
      "                 Class     Images  Instances      Box(P          R      mAP50  mAP50-95): 100%|██████████| 283/283 [01:17<00:00,  3.65it/s]\n"
     ]
    },
    {
     "name": "stdout",
     "output_type": "stream",
     "text": [
      "                   all        283        514      0.893      0.831      0.908      0.559\n",
      "Speed: 195.9ms preprocess, 63.0ms inference, 0.0ms loss, 2.0ms postprocess per image\n",
      "Saving /data/mtmoore/school/CSiML_AI395T/final_project/models/yolo11/iterative/validation/11s_3840imgsz_combined_27epochs-val/predictions.json...\n",
      "Results saved to \u001b[1m/data/mtmoore/school/CSiML_AI395T/final_project/models/yolo11/iterative/validation/11s_3840imgsz_combined_27epochs-val\u001b[0m\n",
      "Generating validation for model: yolo11s, image size: 3840px, epoch: 28\n",
      "Ultralytics 8.3.29 🚀 Python-3.12.7 torch-2.4.0 CUDA:0 (NVIDIA GeForce RTX 4070 SUPER, 11904MiB)\n",
      "YOLO11s summary (fused): 238 layers, 9,413,187 parameters, 0 gradients, 21.3 GFLOPs\n"
     ]
    },
    {
     "name": "stderr",
     "output_type": "stream",
     "text": [
      "\u001b[34m\u001b[1mval: \u001b[0mScanning val/labels.cache... 283 images, 0 backgrounds, 0 corrupt: 100%|██████████| 283/283 [00:00<?, ?it/s]\u001b[0m\n",
      "                 Class     Images  Instances      Box(P          R      mAP50  mAP50-95): 100%|██████████| 283/283 [02:37<00:00,  1.80it/s]\n"
     ]
    },
    {
     "name": "stdout",
     "output_type": "stream",
     "text": [
      "                   all        283        514       0.89       0.84      0.896      0.594\n",
      "Speed: 195.2ms preprocess, 62.9ms inference, 0.0ms loss, 2.0ms postprocess per image\n",
      "Saving /data/mtmoore/school/CSiML_AI395T/final_project/models/yolo11/iterative/validation/11s_3840imgsz_combined_28epochs-val/predictions.json...\n",
      "Results saved to \u001b[1m/data/mtmoore/school/CSiML_AI395T/final_project/models/yolo11/iterative/validation/11s_3840imgsz_combined_28epochs-val\u001b[0m\n",
      "Generating validation for model: yolo11s, image size: 3840px, epoch: 29\n",
      "Ultralytics 8.3.29 🚀 Python-3.12.7 torch-2.4.0 CUDA:0 (NVIDIA GeForce RTX 4070 SUPER, 11904MiB)\n",
      "YOLO11s summary (fused): 238 layers, 9,413,187 parameters, 0 gradients, 21.3 GFLOPs\n"
     ]
    },
    {
     "name": "stderr",
     "output_type": "stream",
     "text": [
      "\u001b[34m\u001b[1mval: \u001b[0mScanning val/labels.cache... 283 images, 0 backgrounds, 0 corrupt: 100%|██████████| 283/283 [00:00<?, ?it/s]\u001b[0m\n",
      "                 Class     Images  Instances      Box(P          R      mAP50  mAP50-95): 100%|██████████| 283/283 [01:18<00:00,  3.62it/s]\n"
     ]
    },
    {
     "name": "stdout",
     "output_type": "stream",
     "text": [
      "                   all        283        514      0.921      0.863      0.913      0.588\n",
      "Speed: 199.9ms preprocess, 62.8ms inference, 0.0ms loss, 2.1ms postprocess per image\n",
      "Saving /data/mtmoore/school/CSiML_AI395T/final_project/models/yolo11/iterative/validation/11s_3840imgsz_combined_29epochs-val/predictions.json...\n",
      "Results saved to \u001b[1m/data/mtmoore/school/CSiML_AI395T/final_project/models/yolo11/iterative/validation/11s_3840imgsz_combined_29epochs-val\u001b[0m\n",
      "Generating validation for model: yolo11s, image size: 3840px, epoch: 30\n",
      "Ultralytics 8.3.29 🚀 Python-3.12.7 torch-2.4.0 CUDA:0 (NVIDIA GeForce RTX 4070 SUPER, 11904MiB)\n",
      "YOLO11s summary (fused): 238 layers, 9,413,187 parameters, 0 gradients, 21.3 GFLOPs\n"
     ]
    },
    {
     "name": "stderr",
     "output_type": "stream",
     "text": [
      "\u001b[34m\u001b[1mval: \u001b[0mScanning val/labels.cache... 283 images, 0 backgrounds, 0 corrupt: 100%|██████████| 283/283 [00:00<?, ?it/s]\u001b[0m\n",
      "                 Class     Images  Instances      Box(P          R      mAP50  mAP50-95): 100%|██████████| 283/283 [02:37<00:00,  1.79it/s] \n"
     ]
    },
    {
     "name": "stdout",
     "output_type": "stream",
     "text": [
      "                   all        283        514      0.916      0.832       0.91      0.595\n",
      "Speed: 195.9ms preprocess, 62.8ms inference, 0.0ms loss, 2.1ms postprocess per image\n",
      "Saving /data/mtmoore/school/CSiML_AI395T/final_project/models/yolo11/iterative/validation/11s_3840imgsz_combined_30epochs-val/predictions.json...\n",
      "Results saved to \u001b[1m/data/mtmoore/school/CSiML_AI395T/final_project/models/yolo11/iterative/validation/11s_3840imgsz_combined_30epochs-val\u001b[0m\n",
      "Generating validation for model: yolo11s, image size: 3840px, epoch: 31\n",
      "Ultralytics 8.3.29 🚀 Python-3.12.7 torch-2.4.0 CUDA:0 (NVIDIA GeForce RTX 4070 SUPER, 11904MiB)\n",
      "YOLO11s summary (fused): 238 layers, 9,413,187 parameters, 0 gradients, 21.3 GFLOPs\n"
     ]
    },
    {
     "name": "stderr",
     "output_type": "stream",
     "text": [
      "\u001b[34m\u001b[1mval: \u001b[0mScanning val/labels.cache... 283 images, 0 backgrounds, 0 corrupt: 100%|██████████| 283/283 [00:00<?, ?it/s]\u001b[0m\n",
      "                 Class     Images  Instances      Box(P          R      mAP50  mAP50-95): 100%|██████████| 283/283 [01:18<00:00,  3.62it/s]\n"
     ]
    },
    {
     "name": "stdout",
     "output_type": "stream",
     "text": [
      "                   all        283        514      0.903      0.854      0.923      0.601\n",
      "Speed: 199.3ms preprocess, 62.8ms inference, 0.0ms loss, 2.1ms postprocess per image\n",
      "Saving /data/mtmoore/school/CSiML_AI395T/final_project/models/yolo11/iterative/validation/11s_3840imgsz_combined_31epochs-val/predictions.json...\n",
      "Results saved to \u001b[1m/data/mtmoore/school/CSiML_AI395T/final_project/models/yolo11/iterative/validation/11s_3840imgsz_combined_31epochs-val\u001b[0m\n",
      "Generating validation for model: yolo11s, image size: 3840px, epoch: 32\n",
      "Ultralytics 8.3.29 🚀 Python-3.12.7 torch-2.4.0 CUDA:0 (NVIDIA GeForce RTX 4070 SUPER, 11904MiB)\n",
      "YOLO11s summary (fused): 238 layers, 9,413,187 parameters, 0 gradients, 21.3 GFLOPs\n"
     ]
    },
    {
     "name": "stderr",
     "output_type": "stream",
     "text": [
      "\u001b[34m\u001b[1mval: \u001b[0mScanning val/labels.cache... 283 images, 0 backgrounds, 0 corrupt: 100%|██████████| 283/283 [00:00<?, ?it/s]\u001b[0m\n",
      "                 Class     Images  Instances      Box(P          R      mAP50  mAP50-95): 100%|██████████| 283/283 [01:18<00:00,  3.62it/s]\n"
     ]
    },
    {
     "name": "stdout",
     "output_type": "stream",
     "text": [
      "                   all        283        514      0.932      0.827      0.908      0.596\n",
      "Speed: 197.9ms preprocess, 62.8ms inference, 0.0ms loss, 2.1ms postprocess per image\n",
      "Saving /data/mtmoore/school/CSiML_AI395T/final_project/models/yolo11/iterative/validation/11s_3840imgsz_combined_32epochs-val/predictions.json...\n",
      "Results saved to \u001b[1m/data/mtmoore/school/CSiML_AI395T/final_project/models/yolo11/iterative/validation/11s_3840imgsz_combined_32epochs-val\u001b[0m\n",
      "Generating validation for model: yolo11s, image size: 3840px, epoch: 33\n",
      "Ultralytics 8.3.29 🚀 Python-3.12.7 torch-2.4.0 CUDA:0 (NVIDIA GeForce RTX 4070 SUPER, 11904MiB)\n",
      "YOLO11s summary (fused): 238 layers, 9,413,187 parameters, 0 gradients, 21.3 GFLOPs\n"
     ]
    },
    {
     "name": "stderr",
     "output_type": "stream",
     "text": [
      "\u001b[34m\u001b[1mval: \u001b[0mScanning val/labels.cache... 283 images, 0 backgrounds, 0 corrupt: 100%|██████████| 283/283 [00:00<?, ?it/s]\u001b[0m\n",
      "                 Class     Images  Instances      Box(P          R      mAP50  mAP50-95): 100%|██████████| 283/283 [01:17<00:00,  3.65it/s]\n"
     ]
    },
    {
     "name": "stdout",
     "output_type": "stream",
     "text": [
      "                   all        283        514      0.925      0.842      0.918      0.604\n",
      "Speed: 196.9ms preprocess, 62.8ms inference, 0.0ms loss, 2.2ms postprocess per image\n",
      "Saving /data/mtmoore/school/CSiML_AI395T/final_project/models/yolo11/iterative/validation/11s_3840imgsz_combined_33epochs-val/predictions.json...\n",
      "Results saved to \u001b[1m/data/mtmoore/school/CSiML_AI395T/final_project/models/yolo11/iterative/validation/11s_3840imgsz_combined_33epochs-val\u001b[0m\n",
      "Generating validation for model: yolo11s, image size: 3840px, epoch: 34\n",
      "Ultralytics 8.3.29 🚀 Python-3.12.7 torch-2.4.0 CUDA:0 (NVIDIA GeForce RTX 4070 SUPER, 11904MiB)\n",
      "YOLO11s summary (fused): 238 layers, 9,413,187 parameters, 0 gradients, 21.3 GFLOPs\n"
     ]
    },
    {
     "name": "stderr",
     "output_type": "stream",
     "text": [
      "\u001b[34m\u001b[1mval: \u001b[0mScanning val/labels.cache... 283 images, 0 backgrounds, 0 corrupt: 100%|██████████| 283/283 [00:00<?, ?it/s]\u001b[0m\n",
      "                 Class     Images  Instances      Box(P          R      mAP50  mAP50-95): 100%|██████████| 283/283 [02:38<00:00,  1.78it/s]  \n"
     ]
    },
    {
     "name": "stdout",
     "output_type": "stream",
     "text": [
      "                   all        283        514      0.927      0.831      0.914      0.591\n",
      "Speed: 199.9ms preprocess, 62.9ms inference, 0.0ms loss, 2.1ms postprocess per image\n",
      "Saving /data/mtmoore/school/CSiML_AI395T/final_project/models/yolo11/iterative/validation/11s_3840imgsz_combined_34epochs-val/predictions.json...\n",
      "Results saved to \u001b[1m/data/mtmoore/school/CSiML_AI395T/final_project/models/yolo11/iterative/validation/11s_3840imgsz_combined_34epochs-val\u001b[0m\n",
      "Generating validation for model: yolo11s, image size: 3840px, epoch: 35\n",
      "Ultralytics 8.3.29 🚀 Python-3.12.7 torch-2.4.0 CUDA:0 (NVIDIA GeForce RTX 4070 SUPER, 11904MiB)\n",
      "YOLO11s summary (fused): 238 layers, 9,413,187 parameters, 0 gradients, 21.3 GFLOPs\n"
     ]
    },
    {
     "name": "stderr",
     "output_type": "stream",
     "text": [
      "\u001b[34m\u001b[1mval: \u001b[0mScanning val/labels.cache... 283 images, 0 backgrounds, 0 corrupt: 100%|██████████| 283/283 [00:00<?, ?it/s]\u001b[0m\n",
      "                 Class     Images  Instances      Box(P          R      mAP50  mAP50-95): 100%|██████████| 283/283 [01:18<00:00,  3.63it/s]\n"
     ]
    },
    {
     "name": "stdout",
     "output_type": "stream",
     "text": [
      "                   all        283        514      0.913      0.844      0.913      0.598\n",
      "Speed: 199.9ms preprocess, 62.8ms inference, 0.0ms loss, 2.1ms postprocess per image\n",
      "Saving /data/mtmoore/school/CSiML_AI395T/final_project/models/yolo11/iterative/validation/11s_3840imgsz_combined_35epochs-val/predictions.json...\n",
      "Results saved to \u001b[1m/data/mtmoore/school/CSiML_AI395T/final_project/models/yolo11/iterative/validation/11s_3840imgsz_combined_35epochs-val\u001b[0m\n",
      "Generating validation for model: yolo11s, image size: 3840px, epoch: 36\n",
      "Ultralytics 8.3.29 🚀 Python-3.12.7 torch-2.4.0 CUDA:0 (NVIDIA GeForce RTX 4070 SUPER, 11904MiB)\n",
      "YOLO11s summary (fused): 238 layers, 9,413,187 parameters, 0 gradients, 21.3 GFLOPs\n"
     ]
    },
    {
     "name": "stderr",
     "output_type": "stream",
     "text": [
      "\u001b[34m\u001b[1mval: \u001b[0mScanning val/labels.cache... 283 images, 0 backgrounds, 0 corrupt: 100%|██████████| 283/283 [00:00<?, ?it/s]\u001b[0m\n",
      "                 Class     Images  Instances      Box(P          R      mAP50  mAP50-95): 100%|██████████| 283/283 [01:17<00:00,  3.64it/s]\n"
     ]
    },
    {
     "name": "stdout",
     "output_type": "stream",
     "text": [
      "                   all        283        514      0.924      0.847      0.923      0.603\n",
      "Speed: 197.9ms preprocess, 62.8ms inference, 0.0ms loss, 2.1ms postprocess per image\n",
      "Saving /data/mtmoore/school/CSiML_AI395T/final_project/models/yolo11/iterative/validation/11s_3840imgsz_combined_36epochs-val/predictions.json...\n",
      "Results saved to \u001b[1m/data/mtmoore/school/CSiML_AI395T/final_project/models/yolo11/iterative/validation/11s_3840imgsz_combined_36epochs-val\u001b[0m\n",
      "Generating validation for model: yolo11s, image size: 3840px, epoch: 37\n",
      "Ultralytics 8.3.29 🚀 Python-3.12.7 torch-2.4.0 CUDA:0 (NVIDIA GeForce RTX 4070 SUPER, 11904MiB)\n",
      "YOLO11s summary (fused): 238 layers, 9,413,187 parameters, 0 gradients, 21.3 GFLOPs\n"
     ]
    },
    {
     "name": "stderr",
     "output_type": "stream",
     "text": [
      "\u001b[34m\u001b[1mval: \u001b[0mScanning val/labels.cache... 283 images, 0 backgrounds, 0 corrupt: 100%|██████████| 283/283 [00:00<?, ?it/s]\u001b[0m\n",
      "                 Class     Images  Instances      Box(P          R      mAP50  mAP50-95): 100%|██████████| 283/283 [01:16<00:00,  3.70it/s]\n"
     ]
    },
    {
     "name": "stdout",
     "output_type": "stream",
     "text": [
      "                   all        283        514      0.905      0.879      0.925      0.607\n",
      "Speed: 192.3ms preprocess, 62.8ms inference, 0.0ms loss, 2.1ms postprocess per image\n",
      "Saving /data/mtmoore/school/CSiML_AI395T/final_project/models/yolo11/iterative/validation/11s_3840imgsz_combined_37epochs-val/predictions.json...\n",
      "Results saved to \u001b[1m/data/mtmoore/school/CSiML_AI395T/final_project/models/yolo11/iterative/validation/11s_3840imgsz_combined_37epochs-val\u001b[0m\n",
      "Generating validation for model: yolo11s, image size: 3840px, epoch: 38\n",
      "Ultralytics 8.3.29 🚀 Python-3.12.7 torch-2.4.0 CUDA:0 (NVIDIA GeForce RTX 4070 SUPER, 11904MiB)\n",
      "YOLO11s summary (fused): 238 layers, 9,413,187 parameters, 0 gradients, 21.3 GFLOPs\n"
     ]
    },
    {
     "name": "stderr",
     "output_type": "stream",
     "text": [
      "\u001b[34m\u001b[1mval: \u001b[0mScanning val/labels.cache... 283 images, 0 backgrounds, 0 corrupt: 100%|██████████| 283/283 [00:00<?, ?it/s]\u001b[0m\n",
      "                 Class     Images  Instances      Box(P          R      mAP50  mAP50-95): 100%|██████████| 283/283 [01:18<00:00,  3.62it/s]\n"
     ]
    },
    {
     "name": "stdout",
     "output_type": "stream",
     "text": [
      "                   all        283        514      0.926      0.881      0.928      0.623\n",
      "Speed: 201.5ms preprocess, 62.8ms inference, 0.0ms loss, 2.0ms postprocess per image\n",
      "Saving /data/mtmoore/school/CSiML_AI395T/final_project/models/yolo11/iterative/validation/11s_3840imgsz_combined_38epochs-val/predictions.json...\n",
      "Results saved to \u001b[1m/data/mtmoore/school/CSiML_AI395T/final_project/models/yolo11/iterative/validation/11s_3840imgsz_combined_38epochs-val\u001b[0m\n",
      "Generating validation for model: yolo11s, image size: 3840px, epoch: 39\n",
      "Ultralytics 8.3.29 🚀 Python-3.12.7 torch-2.4.0 CUDA:0 (NVIDIA GeForce RTX 4070 SUPER, 11904MiB)\n",
      "YOLO11s summary (fused): 238 layers, 9,413,187 parameters, 0 gradients, 21.3 GFLOPs\n"
     ]
    },
    {
     "name": "stderr",
     "output_type": "stream",
     "text": [
      "\u001b[34m\u001b[1mval: \u001b[0mScanning val/labels.cache... 283 images, 0 backgrounds, 0 corrupt: 100%|██████████| 283/283 [00:00<?, ?it/s]\u001b[0m\n",
      "                 Class     Images  Instances      Box(P          R      mAP50  mAP50-95): 100%|██████████| 283/283 [01:17<00:00,  3.64it/s]\n"
     ]
    },
    {
     "name": "stdout",
     "output_type": "stream",
     "text": [
      "                   all        283        514      0.888       0.86       0.92        0.6\n",
      "Speed: 197.5ms preprocess, 63.0ms inference, 0.0ms loss, 2.1ms postprocess per image\n",
      "Saving /data/mtmoore/school/CSiML_AI395T/final_project/models/yolo11/iterative/validation/11s_3840imgsz_combined_39epochs-val/predictions.json...\n",
      "Results saved to \u001b[1m/data/mtmoore/school/CSiML_AI395T/final_project/models/yolo11/iterative/validation/11s_3840imgsz_combined_39epochs-val\u001b[0m\n",
      "Generating validation for model: yolo11s, image size: 3840px, epoch: 40\n",
      "Ultralytics 8.3.29 🚀 Python-3.12.7 torch-2.4.0 CUDA:0 (NVIDIA GeForce RTX 4070 SUPER, 11904MiB)\n",
      "YOLO11s summary (fused): 238 layers, 9,413,187 parameters, 0 gradients, 21.3 GFLOPs\n"
     ]
    },
    {
     "name": "stderr",
     "output_type": "stream",
     "text": [
      "\u001b[34m\u001b[1mval: \u001b[0mScanning val/labels.cache... 283 images, 0 backgrounds, 0 corrupt: 100%|██████████| 283/283 [00:00<?, ?it/s]\u001b[0m\n",
      "                 Class     Images  Instances      Box(P          R      mAP50  mAP50-95): 100%|██████████| 283/283 [01:17<00:00,  3.67it/s]\n"
     ]
    },
    {
     "name": "stdout",
     "output_type": "stream",
     "text": [
      "                   all        283        514      0.934      0.859      0.929      0.625\n",
      "Speed: 196.7ms preprocess, 62.9ms inference, 0.0ms loss, 2.1ms postprocess per image\n",
      "Saving /data/mtmoore/school/CSiML_AI395T/final_project/models/yolo11/iterative/validation/11s_3840imgsz_combined_40epochs-val/predictions.json...\n",
      "Results saved to \u001b[1m/data/mtmoore/school/CSiML_AI395T/final_project/models/yolo11/iterative/validation/11s_3840imgsz_combined_40epochs-val\u001b[0m\n",
      "Generating validation for model: yolo11s, image size: 3840px, epoch: 41\n",
      "Ultralytics 8.3.29 🚀 Python-3.12.7 torch-2.4.0 CUDA:0 (NVIDIA GeForce RTX 4070 SUPER, 11904MiB)\n",
      "YOLO11s summary (fused): 238 layers, 9,413,187 parameters, 0 gradients, 21.3 GFLOPs\n"
     ]
    },
    {
     "name": "stderr",
     "output_type": "stream",
     "text": [
      "\u001b[34m\u001b[1mval: \u001b[0mScanning val/labels.cache... 283 images, 0 backgrounds, 0 corrupt: 100%|██████████| 283/283 [00:00<?, ?it/s]\u001b[0m\n",
      "                 Class     Images  Instances      Box(P          R      mAP50  mAP50-95): 100%|██████████| 283/283 [01:17<00:00,  3.65it/s]\n"
     ]
    },
    {
     "name": "stdout",
     "output_type": "stream",
     "text": [
      "                   all        283        514      0.903      0.895      0.934      0.601\n",
      "Speed: 196.5ms preprocess, 62.8ms inference, 0.0ms loss, 2.1ms postprocess per image\n",
      "Saving /data/mtmoore/school/CSiML_AI395T/final_project/models/yolo11/iterative/validation/11s_3840imgsz_combined_41epochs-val/predictions.json...\n",
      "Results saved to \u001b[1m/data/mtmoore/school/CSiML_AI395T/final_project/models/yolo11/iterative/validation/11s_3840imgsz_combined_41epochs-val\u001b[0m\n",
      "Generating validation for model: yolo11s, image size: 3840px, epoch: 42\n",
      "Ultralytics 8.3.29 🚀 Python-3.12.7 torch-2.4.0 CUDA:0 (NVIDIA GeForce RTX 4070 SUPER, 11904MiB)\n",
      "YOLO11s summary (fused): 238 layers, 9,413,187 parameters, 0 gradients, 21.3 GFLOPs\n"
     ]
    },
    {
     "name": "stderr",
     "output_type": "stream",
     "text": [
      "\u001b[34m\u001b[1mval: \u001b[0mScanning val/labels.cache... 283 images, 0 backgrounds, 0 corrupt: 100%|██████████| 283/283 [00:00<?, ?it/s]\u001b[0m\n",
      "                 Class     Images  Instances      Box(P          R      mAP50  mAP50-95): 100%|██████████| 283/283 [01:17<00:00,  3.67it/s]\n"
     ]
    },
    {
     "name": "stdout",
     "output_type": "stream",
     "text": [
      "                   all        283        514      0.915      0.883      0.939      0.626\n",
      "Speed: 196.6ms preprocess, 62.7ms inference, 0.0ms loss, 2.0ms postprocess per image\n",
      "Saving /data/mtmoore/school/CSiML_AI395T/final_project/models/yolo11/iterative/validation/11s_3840imgsz_combined_42epochs-val/predictions.json...\n",
      "Results saved to \u001b[1m/data/mtmoore/school/CSiML_AI395T/final_project/models/yolo11/iterative/validation/11s_3840imgsz_combined_42epochs-val\u001b[0m\n",
      "Generating validation for model: yolo11s, image size: 3840px, epoch: 43\n",
      "Ultralytics 8.3.29 🚀 Python-3.12.7 torch-2.4.0 CUDA:0 (NVIDIA GeForce RTX 4070 SUPER, 11904MiB)\n",
      "YOLO11s summary (fused): 238 layers, 9,413,187 parameters, 0 gradients, 21.3 GFLOPs\n"
     ]
    },
    {
     "name": "stderr",
     "output_type": "stream",
     "text": [
      "\u001b[34m\u001b[1mval: \u001b[0mScanning val/labels.cache... 283 images, 0 backgrounds, 0 corrupt: 100%|██████████| 283/283 [00:00<?, ?it/s]\u001b[0m\n",
      "                 Class     Images  Instances      Box(P          R      mAP50  mAP50-95): 100%|██████████| 283/283 [02:38<00:00,  1.78it/s] \n"
     ]
    },
    {
     "name": "stdout",
     "output_type": "stream",
     "text": [
      "                   all        283        514      0.931      0.873      0.937      0.628\n",
      "Speed: 200.2ms preprocess, 62.8ms inference, 0.0ms loss, 2.1ms postprocess per image\n",
      "Saving /data/mtmoore/school/CSiML_AI395T/final_project/models/yolo11/iterative/validation/11s_3840imgsz_combined_43epochs-val/predictions.json...\n",
      "Results saved to \u001b[1m/data/mtmoore/school/CSiML_AI395T/final_project/models/yolo11/iterative/validation/11s_3840imgsz_combined_43epochs-val\u001b[0m\n",
      "Generating validation for model: yolo11s, image size: 3840px, epoch: 44\n",
      "Ultralytics 8.3.29 🚀 Python-3.12.7 torch-2.4.0 CUDA:0 (NVIDIA GeForce RTX 4070 SUPER, 11904MiB)\n",
      "YOLO11s summary (fused): 238 layers, 9,413,187 parameters, 0 gradients, 21.3 GFLOPs\n"
     ]
    },
    {
     "name": "stderr",
     "output_type": "stream",
     "text": [
      "\u001b[34m\u001b[1mval: \u001b[0mScanning val/labels.cache... 283 images, 0 backgrounds, 0 corrupt: 100%|██████████| 283/283 [00:00<?, ?it/s]\u001b[0m\n",
      "                 Class     Images  Instances      Box(P          R      mAP50  mAP50-95): 100%|██████████| 283/283 [01:18<00:00,  3.63it/s]\n"
     ]
    },
    {
     "name": "stdout",
     "output_type": "stream",
     "text": [
      "                   all        283        514      0.933      0.866      0.939      0.627\n",
      "Speed: 198.3ms preprocess, 62.8ms inference, 0.0ms loss, 2.1ms postprocess per image\n",
      "Saving /data/mtmoore/school/CSiML_AI395T/final_project/models/yolo11/iterative/validation/11s_3840imgsz_combined_44epochs-val/predictions.json...\n",
      "Results saved to \u001b[1m/data/mtmoore/school/CSiML_AI395T/final_project/models/yolo11/iterative/validation/11s_3840imgsz_combined_44epochs-val\u001b[0m\n",
      "Generating validation for model: yolo11s, image size: 3840px, epoch: 45\n",
      "Ultralytics 8.3.29 🚀 Python-3.12.7 torch-2.4.0 CUDA:0 (NVIDIA GeForce RTX 4070 SUPER, 11904MiB)\n",
      "YOLO11s summary (fused): 238 layers, 9,413,187 parameters, 0 gradients, 21.3 GFLOPs\n"
     ]
    },
    {
     "name": "stderr",
     "output_type": "stream",
     "text": [
      "\u001b[34m\u001b[1mval: \u001b[0mScanning val/labels.cache... 283 images, 0 backgrounds, 0 corrupt: 100%|██████████| 283/283 [00:00<?, ?it/s]\u001b[0m\n",
      "                 Class     Images  Instances      Box(P          R      mAP50  mAP50-95):  49%|████▉     | 139/283 [00:38<00:38,  3.71it/s]IOStream.flush timed out\n",
      "                 Class     Images  Instances      Box(P          R      mAP50  mAP50-95):  49%|████▉     | 140/283 [00:48<07:39,  3.21s/it]IOStream.flush timed out\n",
      "                 Class     Images  Instances      Box(P          R      mAP50  mAP50-95):  50%|████▉     | 141/283 [00:58<12:28,  5.27s/it]IOStream.flush timed out\n",
      "                 Class     Images  Instances      Box(P          R      mAP50  mAP50-95):  50%|█████     | 142/283 [01:08<15:46,  6.71s/it]IOStream.flush timed out\n",
      "                 Class     Images  Instances      Box(P          R      mAP50  mAP50-95):  51%|█████     | 143/283 [01:18<18:01,  7.72s/it]IOStream.flush timed out\n",
      "                 Class     Images  Instances      Box(P          R      mAP50  mAP50-95):  51%|█████     | 144/283 [01:29<19:31,  8.43s/it]IOStream.flush timed out\n",
      "                 Class     Images  Instances      Box(P          R      mAP50  mAP50-95):  51%|█████     | 145/283 [01:39<20:31,  8.92s/it]IOStream.flush timed out\n",
      "                 Class     Images  Instances      Box(P          R      mAP50  mAP50-95):  52%|█████▏    | 146/283 [01:49<21:09,  9.27s/it]IOStream.flush timed out\n",
      "                 Class     Images  Instances      Box(P          R      mAP50  mAP50-95): 100%|██████████| 283/283 [02:36<00:00,  1.81it/s]\n"
     ]
    },
    {
     "name": "stdout",
     "output_type": "stream",
     "text": [
      "                   all        283        514      0.921      0.885      0.932      0.634\n",
      "Speed: 193.9ms preprocess, 62.8ms inference, 0.0ms loss, 2.3ms postprocess per image\n",
      "Saving /data/mtmoore/school/CSiML_AI395T/final_project/models/yolo11/iterative/validation/11s_3840imgsz_combined_45epochs-val/predictions.json...\n",
      "Results saved to \u001b[1m/data/mtmoore/school/CSiML_AI395T/final_project/models/yolo11/iterative/validation/11s_3840imgsz_combined_45epochs-val\u001b[0m\n",
      "Generating validation for model: yolo11s, image size: 3840px, epoch: 46\n",
      "Ultralytics 8.3.29 🚀 Python-3.12.7 torch-2.4.0 CUDA:0 (NVIDIA GeForce RTX 4070 SUPER, 11904MiB)\n",
      "YOLO11s summary (fused): 238 layers, 9,413,187 parameters, 0 gradients, 21.3 GFLOPs\n"
     ]
    },
    {
     "name": "stderr",
     "output_type": "stream",
     "text": [
      "\u001b[34m\u001b[1mval: \u001b[0mScanning val/labels.cache... 283 images, 0 backgrounds, 0 corrupt: 100%|██████████| 283/283 [00:00<?, ?it/s]\u001b[0m\n",
      "                 Class     Images  Instances      Box(P          R      mAP50  mAP50-95): 100%|██████████| 283/283 [01:17<00:00,  3.63it/s]\n"
     ]
    },
    {
     "name": "stdout",
     "output_type": "stream",
     "text": [
      "                   all        283        514      0.939      0.875      0.937      0.646\n",
      "Speed: 199.7ms preprocess, 62.8ms inference, 0.0ms loss, 2.0ms postprocess per image\n",
      "Saving /data/mtmoore/school/CSiML_AI395T/final_project/models/yolo11/iterative/validation/11s_3840imgsz_combined_46epochs-val/predictions.json...\n",
      "Results saved to \u001b[1m/data/mtmoore/school/CSiML_AI395T/final_project/models/yolo11/iterative/validation/11s_3840imgsz_combined_46epochs-val\u001b[0m\n",
      "Generating validation for model: yolo11s, image size: 3840px, epoch: 47\n",
      "Ultralytics 8.3.29 🚀 Python-3.12.7 torch-2.4.0 CUDA:0 (NVIDIA GeForce RTX 4070 SUPER, 11904MiB)\n",
      "YOLO11s summary (fused): 238 layers, 9,413,187 parameters, 0 gradients, 21.3 GFLOPs\n"
     ]
    },
    {
     "name": "stderr",
     "output_type": "stream",
     "text": [
      "\u001b[34m\u001b[1mval: \u001b[0mScanning val/labels.cache... 283 images, 0 backgrounds, 0 corrupt: 100%|██████████| 283/283 [00:00<?, ?it/s]\u001b[0m\n",
      "                 Class     Images  Instances      Box(P          R      mAP50  mAP50-95): 100%|██████████| 283/283 [01:18<00:00,  3.62it/s]\n"
     ]
    },
    {
     "name": "stdout",
     "output_type": "stream",
     "text": [
      "                   all        283        514       0.92      0.899      0.945      0.645\n",
      "Speed: 199.7ms preprocess, 62.8ms inference, 0.0ms loss, 2.1ms postprocess per image\n",
      "Saving /data/mtmoore/school/CSiML_AI395T/final_project/models/yolo11/iterative/validation/11s_3840imgsz_combined_47epochs-val/predictions.json...\n",
      "Results saved to \u001b[1m/data/mtmoore/school/CSiML_AI395T/final_project/models/yolo11/iterative/validation/11s_3840imgsz_combined_47epochs-val\u001b[0m\n",
      "Generating validation for model: yolo11s, image size: 3840px, epoch: 48\n",
      "Ultralytics 8.3.29 🚀 Python-3.12.7 torch-2.4.0 CUDA:0 (NVIDIA GeForce RTX 4070 SUPER, 11904MiB)\n",
      "YOLO11s summary (fused): 238 layers, 9,413,187 parameters, 0 gradients, 21.3 GFLOPs\n"
     ]
    },
    {
     "name": "stderr",
     "output_type": "stream",
     "text": [
      "\u001b[34m\u001b[1mval: \u001b[0mScanning val/labels.cache... 283 images, 0 backgrounds, 0 corrupt: 100%|██████████| 283/283 [00:00<?, ?it/s]\u001b[0m\n",
      "                 Class     Images  Instances      Box(P          R      mAP50  mAP50-95): 100%|██████████| 283/283 [01:17<00:00,  3.65it/s]\n"
     ]
    },
    {
     "name": "stdout",
     "output_type": "stream",
     "text": [
      "                   all        283        514      0.927      0.879      0.932      0.626\n",
      "Speed: 195.8ms preprocess, 62.8ms inference, 0.0ms loss, 2.1ms postprocess per image\n",
      "Saving /data/mtmoore/school/CSiML_AI395T/final_project/models/yolo11/iterative/validation/11s_3840imgsz_combined_48epochs-val/predictions.json...\n",
      "Results saved to \u001b[1m/data/mtmoore/school/CSiML_AI395T/final_project/models/yolo11/iterative/validation/11s_3840imgsz_combined_48epochs-val\u001b[0m\n",
      "Generating validation for model: yolo11s, image size: 3840px, epoch: 49\n",
      "Ultralytics 8.3.29 🚀 Python-3.12.7 torch-2.4.0 CUDA:0 (NVIDIA GeForce RTX 4070 SUPER, 11904MiB)\n",
      "YOLO11s summary (fused): 238 layers, 9,413,187 parameters, 0 gradients, 21.3 GFLOPs\n"
     ]
    },
    {
     "name": "stderr",
     "output_type": "stream",
     "text": [
      "\u001b[34m\u001b[1mval: \u001b[0mScanning val/labels.cache... 283 images, 0 backgrounds, 0 corrupt: 100%|██████████| 283/283 [00:00<?, ?it/s]\u001b[0m\n",
      "                 Class     Images  Instances      Box(P          R      mAP50  mAP50-95): 100%|██████████| 283/283 [01:17<00:00,  3.63it/s]\n"
     ]
    },
    {
     "name": "stdout",
     "output_type": "stream",
     "text": [
      "                   all        283        514      0.906      0.901      0.936      0.651\n",
      "Speed: 198.2ms preprocess, 62.8ms inference, 0.0ms loss, 2.0ms postprocess per image\n",
      "Saving /data/mtmoore/school/CSiML_AI395T/final_project/models/yolo11/iterative/validation/11s_3840imgsz_combined_49epochs-val/predictions.json...\n",
      "Results saved to \u001b[1m/data/mtmoore/school/CSiML_AI395T/final_project/models/yolo11/iterative/validation/11s_3840imgsz_combined_49epochs-val\u001b[0m\n",
      "Generating validation for model: yolo11s, image size: 3840px, epoch: 50\n",
      "Ultralytics 8.3.29 🚀 Python-3.12.7 torch-2.4.0 CUDA:0 (NVIDIA GeForce RTX 4070 SUPER, 11904MiB)\n",
      "YOLO11s summary (fused): 238 layers, 9,413,187 parameters, 0 gradients, 21.3 GFLOPs\n"
     ]
    },
    {
     "name": "stderr",
     "output_type": "stream",
     "text": [
      "\u001b[34m\u001b[1mval: \u001b[0mScanning val/labels.cache... 283 images, 0 backgrounds, 0 corrupt: 100%|██████████| 283/283 [00:00<?, ?it/s]\u001b[0m\n",
      "                 Class     Images  Instances      Box(P          R      mAP50  mAP50-95): 100%|██████████| 283/283 [01:17<00:00,  3.64it/s]\n"
     ]
    },
    {
     "name": "stdout",
     "output_type": "stream",
     "text": [
      "                   all        283        514      0.921      0.905      0.942      0.648\n",
      "Speed: 196.7ms preprocess, 62.9ms inference, 0.0ms loss, 2.1ms postprocess per image\n",
      "Saving /data/mtmoore/school/CSiML_AI395T/final_project/models/yolo11/iterative/validation/11s_3840imgsz_combined_50epochs-val/predictions.json...\n",
      "Results saved to \u001b[1m/data/mtmoore/school/CSiML_AI395T/final_project/models/yolo11/iterative/validation/11s_3840imgsz_combined_50epochs-val\u001b[0m\n",
      "Generating validation for model: yolo11s, image size: 3840px, epoch: 51\n",
      "Ultralytics 8.3.29 🚀 Python-3.12.7 torch-2.4.0 CUDA:0 (NVIDIA GeForce RTX 4070 SUPER, 11904MiB)\n",
      "YOLO11s summary (fused): 238 layers, 9,413,187 parameters, 0 gradients, 21.3 GFLOPs\n"
     ]
    },
    {
     "name": "stderr",
     "output_type": "stream",
     "text": [
      "\u001b[34m\u001b[1mval: \u001b[0mScanning val/labels.cache... 283 images, 0 backgrounds, 0 corrupt: 100%|██████████| 283/283 [00:00<?, ?it/s]\u001b[0m\n",
      "                 Class     Images  Instances      Box(P          R      mAP50  mAP50-95): 100%|██████████| 283/283 [01:17<00:00,  3.63it/s]\n"
     ]
    },
    {
     "name": "stdout",
     "output_type": "stream",
     "text": [
      "                   all        283        514      0.921      0.883       0.93      0.647\n",
      "Speed: 199.9ms preprocess, 62.8ms inference, 0.0ms loss, 2.0ms postprocess per image\n",
      "Saving /data/mtmoore/school/CSiML_AI395T/final_project/models/yolo11/iterative/validation/11s_3840imgsz_combined_51epochs-val/predictions.json...\n",
      "Results saved to \u001b[1m/data/mtmoore/school/CSiML_AI395T/final_project/models/yolo11/iterative/validation/11s_3840imgsz_combined_51epochs-val\u001b[0m\n",
      "Generating validation for model: yolo11s, image size: 3840px, epoch: 52\n",
      "Ultralytics 8.3.29 🚀 Python-3.12.7 torch-2.4.0 CUDA:0 (NVIDIA GeForce RTX 4070 SUPER, 11904MiB)\n",
      "YOLO11s summary (fused): 238 layers, 9,413,187 parameters, 0 gradients, 21.3 GFLOPs\n"
     ]
    },
    {
     "name": "stderr",
     "output_type": "stream",
     "text": [
      "\u001b[34m\u001b[1mval: \u001b[0mScanning val/labels.cache... 283 images, 0 backgrounds, 0 corrupt: 100%|██████████| 283/283 [00:00<?, ?it/s]\u001b[0m\n",
      "                 Class     Images  Instances      Box(P          R      mAP50  mAP50-95): 100%|██████████| 283/283 [01:17<00:00,  3.64it/s]\n"
     ]
    },
    {
     "name": "stdout",
     "output_type": "stream",
     "text": [
      "                   all        283        514      0.924      0.887      0.943      0.645\n",
      "Speed: 198.2ms preprocess, 62.8ms inference, 0.0ms loss, 2.1ms postprocess per image\n",
      "Saving /data/mtmoore/school/CSiML_AI395T/final_project/models/yolo11/iterative/validation/11s_3840imgsz_combined_52epochs-val/predictions.json...\n",
      "Results saved to \u001b[1m/data/mtmoore/school/CSiML_AI395T/final_project/models/yolo11/iterative/validation/11s_3840imgsz_combined_52epochs-val\u001b[0m\n",
      "Generating validation for model: yolo11s, image size: 3840px, epoch: 53\n",
      "Ultralytics 8.3.29 🚀 Python-3.12.7 torch-2.4.0 CUDA:0 (NVIDIA GeForce RTX 4070 SUPER, 11904MiB)\n",
      "YOLO11s summary (fused): 238 layers, 9,413,187 parameters, 0 gradients, 21.3 GFLOPs\n"
     ]
    },
    {
     "name": "stderr",
     "output_type": "stream",
     "text": [
      "\u001b[34m\u001b[1mval: \u001b[0mScanning val/labels.cache... 283 images, 0 backgrounds, 0 corrupt: 100%|██████████| 283/283 [00:00<?, ?it/s]\u001b[0m\n",
      "                 Class     Images  Instances      Box(P          R      mAP50  mAP50-95): 100%|██████████| 283/283 [01:16<00:00,  3.69it/s]\n"
     ]
    },
    {
     "name": "stdout",
     "output_type": "stream",
     "text": [
      "                   all        283        514      0.916      0.872       0.93      0.651\n",
      "Speed: 194.8ms preprocess, 62.9ms inference, 0.0ms loss, 2.1ms postprocess per image\n",
      "Saving /data/mtmoore/school/CSiML_AI395T/final_project/models/yolo11/iterative/validation/11s_3840imgsz_combined_53epochs-val/predictions.json...\n",
      "Results saved to \u001b[1m/data/mtmoore/school/CSiML_AI395T/final_project/models/yolo11/iterative/validation/11s_3840imgsz_combined_53epochs-val\u001b[0m\n",
      "Generating validation for model: yolo11s, image size: 3840px, epoch: 54\n",
      "Ultralytics 8.3.29 🚀 Python-3.12.7 torch-2.4.0 CUDA:0 (NVIDIA GeForce RTX 4070 SUPER, 11904MiB)\n",
      "YOLO11s summary (fused): 238 layers, 9,413,187 parameters, 0 gradients, 21.3 GFLOPs\n"
     ]
    },
    {
     "name": "stderr",
     "output_type": "stream",
     "text": [
      "\u001b[34m\u001b[1mval: \u001b[0mScanning val/labels.cache... 283 images, 0 backgrounds, 0 corrupt: 100%|██████████| 283/283 [00:00<?, ?it/s]\u001b[0m\n",
      "                 Class     Images  Instances      Box(P          R      mAP50  mAP50-95): 100%|██████████| 283/283 [01:17<00:00,  3.65it/s]\n"
     ]
    },
    {
     "name": "stdout",
     "output_type": "stream",
     "text": [
      "                   all        283        514       0.93      0.909      0.944      0.663\n",
      "Speed: 199.5ms preprocess, 62.8ms inference, 0.0ms loss, 2.0ms postprocess per image\n",
      "Saving /data/mtmoore/school/CSiML_AI395T/final_project/models/yolo11/iterative/validation/11s_3840imgsz_combined_54epochs-val/predictions.json...\n",
      "Results saved to \u001b[1m/data/mtmoore/school/CSiML_AI395T/final_project/models/yolo11/iterative/validation/11s_3840imgsz_combined_54epochs-val\u001b[0m\n",
      "Generating validation for model: yolo11s, image size: 3840px, epoch: 55\n",
      "Ultralytics 8.3.29 🚀 Python-3.12.7 torch-2.4.0 CUDA:0 (NVIDIA GeForce RTX 4070 SUPER, 11904MiB)\n",
      "YOLO11s summary (fused): 238 layers, 9,413,187 parameters, 0 gradients, 21.3 GFLOPs\n"
     ]
    },
    {
     "name": "stderr",
     "output_type": "stream",
     "text": [
      "\u001b[34m\u001b[1mval: \u001b[0mScanning val/labels.cache... 283 images, 0 backgrounds, 0 corrupt: 100%|██████████| 283/283 [00:00<?, ?it/s]\u001b[0m\n",
      "                 Class     Images  Instances      Box(P          R      mAP50  mAP50-95): 100%|██████████| 283/283 [01:17<00:00,  3.63it/s]\n"
     ]
    },
    {
     "name": "stdout",
     "output_type": "stream",
     "text": [
      "                   all        283        514      0.943      0.896      0.942      0.657\n",
      "Speed: 199.0ms preprocess, 62.8ms inference, 0.0ms loss, 2.1ms postprocess per image\n",
      "Saving /data/mtmoore/school/CSiML_AI395T/final_project/models/yolo11/iterative/validation/11s_3840imgsz_combined_55epochs-val/predictions.json...\n",
      "Results saved to \u001b[1m/data/mtmoore/school/CSiML_AI395T/final_project/models/yolo11/iterative/validation/11s_3840imgsz_combined_55epochs-val\u001b[0m\n",
      "Generating validation for model: yolo11s, image size: 3840px, epoch: 56\n",
      "Ultralytics 8.3.29 🚀 Python-3.12.7 torch-2.4.0 CUDA:0 (NVIDIA GeForce RTX 4070 SUPER, 11904MiB)\n",
      "YOLO11s summary (fused): 238 layers, 9,413,187 parameters, 0 gradients, 21.3 GFLOPs\n"
     ]
    },
    {
     "name": "stderr",
     "output_type": "stream",
     "text": [
      "\u001b[34m\u001b[1mval: \u001b[0mScanning val/labels.cache... 283 images, 0 backgrounds, 0 corrupt: 100%|██████████| 283/283 [00:00<?, ?it/s]\u001b[0m\n",
      "                 Class     Images  Instances      Box(P          R      mAP50  mAP50-95): 100%|██████████| 283/283 [01:17<00:00,  3.65it/s]\n"
     ]
    },
    {
     "name": "stdout",
     "output_type": "stream",
     "text": [
      "                   all        283        514      0.929      0.896      0.947      0.668\n",
      "Speed: 198.6ms preprocess, 62.8ms inference, 0.0ms loss, 2.1ms postprocess per image\n",
      "Saving /data/mtmoore/school/CSiML_AI395T/final_project/models/yolo11/iterative/validation/11s_3840imgsz_combined_56epochs-val/predictions.json...\n",
      "Results saved to \u001b[1m/data/mtmoore/school/CSiML_AI395T/final_project/models/yolo11/iterative/validation/11s_3840imgsz_combined_56epochs-val\u001b[0m\n",
      "Generating validation for model: yolo11s, image size: 3840px, epoch: 57\n",
      "Ultralytics 8.3.29 🚀 Python-3.12.7 torch-2.4.0 CUDA:0 (NVIDIA GeForce RTX 4070 SUPER, 11904MiB)\n",
      "YOLO11s summary (fused): 238 layers, 9,413,187 parameters, 0 gradients, 21.3 GFLOPs\n"
     ]
    },
    {
     "name": "stderr",
     "output_type": "stream",
     "text": [
      "\u001b[34m\u001b[1mval: \u001b[0mScanning val/labels.cache... 283 images, 0 backgrounds, 0 corrupt: 100%|██████████| 283/283 [00:00<?, ?it/s]\u001b[0m\n",
      "                 Class     Images  Instances      Box(P          R      mAP50  mAP50-95):  29%|██▉       | 82/283 [00:23<00:54,  3.67it/s]IOStream.flush timed out\n",
      "                 Class     Images  Instances      Box(P          R      mAP50  mAP50-95):  29%|██▉       | 83/283 [00:33<10:42,  3.21s/it]IOStream.flush timed out\n",
      "                 Class     Images  Instances      Box(P          R      mAP50  mAP50-95):  30%|██▉       | 84/283 [00:43<17:29,  5.27s/it]IOStream.flush timed out\n",
      "                 Class     Images  Instances      Box(P          R      mAP50  mAP50-95):  30%|███       | 85/283 [00:53<22:09,  6.71s/it]IOStream.flush timed out\n",
      "                 Class     Images  Instances      Box(P          R      mAP50  mAP50-95):  30%|███       | 86/283 [01:03<25:21,  7.72s/it]IOStream.flush timed out\n",
      "                 Class     Images  Instances      Box(P          R      mAP50  mAP50-95):  31%|███       | 87/283 [01:13<27:32,  8.43s/it]IOStream.flush timed out\n",
      "                 Class     Images  Instances      Box(P          R      mAP50  mAP50-95):  31%|███       | 88/283 [01:23<29:00,  8.92s/it]IOStream.flush timed out\n",
      "                 Class     Images  Instances      Box(P          R      mAP50  mAP50-95):  31%|███▏      | 89/283 [01:33<29:58,  9.27s/it]IOStream.flush timed out\n",
      "                 Class     Images  Instances      Box(P          R      mAP50  mAP50-95):  32%|███▏      | 90/283 [01:43<30:35,  9.51s/it]IOStream.flush timed out\n",
      "                 Class     Images  Instances      Box(P          R      mAP50  mAP50-95):  32%|███▏      | 91/283 [01:53<30:58,  9.68s/it]IOStream.flush timed out\n",
      "                 Class     Images  Instances      Box(P          R      mAP50  mAP50-95):  33%|███▎      | 92/283 [02:03<31:11,  9.80s/it]IOStream.flush timed out\n",
      "                 Class     Images  Instances      Box(P          R      mAP50  mAP50-95): 100%|██████████| 283/283 [03:16<00:00,  1.44it/s]\n"
     ]
    },
    {
     "name": "stdout",
     "output_type": "stream",
     "text": [
      "                   all        283        514      0.916      0.897      0.938      0.653\n",
      "Speed: 194.1ms preprocess, 62.9ms inference, 0.0ms loss, 2.2ms postprocess per image\n",
      "Saving /data/mtmoore/school/CSiML_AI395T/final_project/models/yolo11/iterative/validation/11s_3840imgsz_combined_57epochs-val/predictions.json...\n",
      "Results saved to \u001b[1m/data/mtmoore/school/CSiML_AI395T/final_project/models/yolo11/iterative/validation/11s_3840imgsz_combined_57epochs-val\u001b[0m\n",
      "Generating validation for model: yolo11s, image size: 3840px, epoch: 58\n",
      "Ultralytics 8.3.29 🚀 Python-3.12.7 torch-2.4.0 CUDA:0 (NVIDIA GeForce RTX 4070 SUPER, 11904MiB)\n",
      "YOLO11s summary (fused): 238 layers, 9,413,187 parameters, 0 gradients, 21.3 GFLOPs\n"
     ]
    },
    {
     "name": "stderr",
     "output_type": "stream",
     "text": [
      "\u001b[34m\u001b[1mval: \u001b[0mScanning val/labels.cache... 283 images, 0 backgrounds, 0 corrupt: 100%|██████████| 283/283 [00:00<?, ?it/s]\u001b[0m\n",
      "                 Class     Images  Instances      Box(P          R      mAP50  mAP50-95): 100%|██████████| 283/283 [01:18<00:00,  3.63it/s]\n"
     ]
    },
    {
     "name": "stdout",
     "output_type": "stream",
     "text": [
      "                   all        283        514      0.933      0.887      0.939      0.656\n",
      "Speed: 200.6ms preprocess, 62.8ms inference, 0.0ms loss, 2.0ms postprocess per image\n",
      "Saving /data/mtmoore/school/CSiML_AI395T/final_project/models/yolo11/iterative/validation/11s_3840imgsz_combined_58epochs-val/predictions.json...\n",
      "Results saved to \u001b[1m/data/mtmoore/school/CSiML_AI395T/final_project/models/yolo11/iterative/validation/11s_3840imgsz_combined_58epochs-val\u001b[0m\n",
      "Generating validation for model: yolo11s, image size: 3840px, epoch: 59\n",
      "Ultralytics 8.3.29 🚀 Python-3.12.7 torch-2.4.0 CUDA:0 (NVIDIA GeForce RTX 4070 SUPER, 11904MiB)\n",
      "YOLO11s summary (fused): 238 layers, 9,413,187 parameters, 0 gradients, 21.3 GFLOPs\n"
     ]
    },
    {
     "name": "stderr",
     "output_type": "stream",
     "text": [
      "\u001b[34m\u001b[1mval: \u001b[0mScanning val/labels.cache... 283 images, 0 backgrounds, 0 corrupt: 100%|██████████| 283/283 [00:00<?, ?it/s]\u001b[0m\n",
      "                 Class     Images  Instances      Box(P          R      mAP50  mAP50-95): 100%|██████████| 283/283 [01:17<00:00,  3.66it/s]\n"
     ]
    },
    {
     "name": "stdout",
     "output_type": "stream",
     "text": [
      "                   all        283        514      0.911      0.898      0.944      0.657\n",
      "Speed: 197.7ms preprocess, 62.8ms inference, 0.0ms loss, 2.1ms postprocess per image\n",
      "Saving /data/mtmoore/school/CSiML_AI395T/final_project/models/yolo11/iterative/validation/11s_3840imgsz_combined_59epochs-val/predictions.json...\n",
      "Results saved to \u001b[1m/data/mtmoore/school/CSiML_AI395T/final_project/models/yolo11/iterative/validation/11s_3840imgsz_combined_59epochs-val\u001b[0m\n",
      "Generating validation for model: yolo11s, image size: 3840px, epoch: 60\n",
      "Ultralytics 8.3.29 🚀 Python-3.12.7 torch-2.4.0 CUDA:0 (NVIDIA GeForce RTX 4070 SUPER, 11904MiB)\n",
      "YOLO11s summary (fused): 238 layers, 9,413,187 parameters, 0 gradients, 21.3 GFLOPs\n"
     ]
    },
    {
     "name": "stderr",
     "output_type": "stream",
     "text": [
      "\u001b[34m\u001b[1mval: \u001b[0mScanning val/labels.cache... 283 images, 0 backgrounds, 0 corrupt: 100%|██████████| 283/283 [00:00<?, ?it/s]\u001b[0m\n",
      "                 Class     Images  Instances      Box(P          R      mAP50  mAP50-95): 100%|██████████| 283/283 [01:17<00:00,  3.66it/s]\n"
     ]
    },
    {
     "name": "stdout",
     "output_type": "stream",
     "text": [
      "                   all        283        514      0.906      0.902      0.941      0.656\n",
      "Speed: 196.1ms preprocess, 62.8ms inference, 0.0ms loss, 2.1ms postprocess per image\n",
      "Saving /data/mtmoore/school/CSiML_AI395T/final_project/models/yolo11/iterative/validation/11s_3840imgsz_combined_60epochs-val/predictions.json...\n",
      "Results saved to \u001b[1m/data/mtmoore/school/CSiML_AI395T/final_project/models/yolo11/iterative/validation/11s_3840imgsz_combined_60epochs-val\u001b[0m\n",
      "Generating validation for model: yolo11s, image size: 3840px, epoch: 61\n",
      "Ultralytics 8.3.29 🚀 Python-3.12.7 torch-2.4.0 CUDA:0 (NVIDIA GeForce RTX 4070 SUPER, 11904MiB)\n",
      "YOLO11s summary (fused): 238 layers, 9,413,187 parameters, 0 gradients, 21.3 GFLOPs\n"
     ]
    },
    {
     "name": "stderr",
     "output_type": "stream",
     "text": [
      "\u001b[34m\u001b[1mval: \u001b[0mScanning val/labels.cache... 283 images, 0 backgrounds, 0 corrupt: 100%|██████████| 283/283 [00:00<?, ?it/s]\u001b[0m\n",
      "                 Class     Images  Instances      Box(P          R      mAP50  mAP50-95): 100%|██████████| 283/283 [01:17<00:00,  3.64it/s]\n"
     ]
    },
    {
     "name": "stdout",
     "output_type": "stream",
     "text": [
      "                   all        283        514       0.94       0.91      0.952      0.654\n",
      "Speed: 199.2ms preprocess, 62.8ms inference, 0.0ms loss, 2.1ms postprocess per image\n",
      "Saving /data/mtmoore/school/CSiML_AI395T/final_project/models/yolo11/iterative/validation/11s_3840imgsz_combined_61epochs-val/predictions.json...\n",
      "Results saved to \u001b[1m/data/mtmoore/school/CSiML_AI395T/final_project/models/yolo11/iterative/validation/11s_3840imgsz_combined_61epochs-val\u001b[0m\n",
      "Generating validation for model: yolo11s, image size: 3840px, epoch: 62\n",
      "Ultralytics 8.3.29 🚀 Python-3.12.7 torch-2.4.0 CUDA:0 (NVIDIA GeForce RTX 4070 SUPER, 11904MiB)\n",
      "YOLO11s summary (fused): 238 layers, 9,413,187 parameters, 0 gradients, 21.3 GFLOPs\n"
     ]
    },
    {
     "name": "stderr",
     "output_type": "stream",
     "text": [
      "\u001b[34m\u001b[1mval: \u001b[0mScanning val/labels.cache... 283 images, 0 backgrounds, 0 corrupt: 100%|██████████| 283/283 [00:00<?, ?it/s]\u001b[0m\n",
      "                 Class     Images  Instances      Box(P          R      mAP50  mAP50-95):   1%|          | 2/283 [00:00<00:50,  5.55it/s]Exception ignored in: <function _MultiProcessingDataLoaderIter.__del__ at 0x7f0c28239d00>\n",
      "Traceback (most recent call last):\n",
      "  File \"/scratch/mtmoore/local/miniconda/envs/csiml-final-ultralytics/lib/python3.12/site-packages/torch/utils/data/dataloader.py\", line 1477, in __del__\n",
      "    self._shutdown_workers()\n",
      "  File \"/scratch/mtmoore/local/miniconda/envs/csiml-final-ultralytics/lib/python3.12/site-packages/torch/utils/data/dataloader.py\", line 1460, in _shutdown_workers\n",
      "    if w.is_alive():\n",
      "       ^^^^^^^^^^^^\n",
      "  File \"/scratch/mtmoore/local/miniconda/envs/csiml-final-ultralytics/lib/python3.12/multiprocessing/process.py\", line 160, in is_alive\n",
      "    assert self._parent_pid == os.getpid(), 'can only test a child process'\n",
      "           ^^^^^^^^^^^^^^^^^^^^^^^^^^^^^^^\n",
      "AssertionError: can only test a child process\n",
      "Exception ignored in: <function _MultiProcessingDataLoaderIter.__del__ at 0x7f0c28239d00>\n",
      "Traceback (most recent call last):\n",
      "  File \"/scratch/mtmoore/local/miniconda/envs/csiml-final-ultralytics/lib/python3.12/site-packages/torch/utils/data/dataloader.py\", line 1477, in __del__\n",
      "    self._shutdown_workers()\n",
      "  File \"/scratch/mtmoore/local/miniconda/envs/csiml-final-ultralytics/lib/python3.12/site-packages/torch/utils/data/dataloader.py\", line 1460, in _shutdown_workers\n",
      "    if w.is_alive():\n",
      "       ^^^^^^^^^^^^\n",
      "  File \"/scratch/mtmoore/local/miniconda/envs/csiml-final-ultralytics/lib/python3.12/multiprocessing/process.py\", line 160, in is_alive\n",
      "    assert self._parent_pid == os.getpid(), 'can only test a child process'\n",
      "           ^^^^^^^^^^^^^^^^^^^^^^^^^^^^^^^\n",
      "AssertionError: can only test a child process\n",
      "Exception ignored in: Exception ignored in: <function _MultiProcessingDataLoaderIter.__del__ at 0x7f0c28239d00><function _MultiProcessingDataLoaderIter.__del__ at 0x7f0c28239d00>\n",
      "\n",
      "Traceback (most recent call last):\n",
      "Traceback (most recent call last):\n",
      "  File \"/scratch/mtmoore/local/miniconda/envs/csiml-final-ultralytics/lib/python3.12/site-packages/torch/utils/data/dataloader.py\", line 1477, in __del__\n",
      "  File \"/scratch/mtmoore/local/miniconda/envs/csiml-final-ultralytics/lib/python3.12/site-packages/torch/utils/data/dataloader.py\", line 1477, in __del__\n",
      "        self._shutdown_workers()self._shutdown_workers()\n",
      "\n",
      "  File \"/scratch/mtmoore/local/miniconda/envs/csiml-final-ultralytics/lib/python3.12/site-packages/torch/utils/data/dataloader.py\", line 1460, in _shutdown_workers\n",
      "  File \"/scratch/mtmoore/local/miniconda/envs/csiml-final-ultralytics/lib/python3.12/site-packages/torch/utils/data/dataloader.py\", line 1460, in _shutdown_workers\n",
      "        if w.is_alive():\n",
      "if w.is_alive(): \n",
      "           ^  ^^^^^^^^^^^^^^^^^^^^^\n",
      "^  File \"/scratch/mtmoore/local/miniconda/envs/csiml-final-ultralytics/lib/python3.12/multiprocessing/process.py\", line 160, in is_alive\n",
      "^    \n",
      "assert self._parent_pid == os.getpid(), 'can only test a child process'  File \"/scratch/mtmoore/local/miniconda/envs/csiml-final-ultralytics/lib/python3.12/multiprocessing/process.py\", line 160, in is_alive\n",
      "\n",
      "     assert self._parent_pid == os.getpid(), 'can only test a child process' \n",
      "                 Class     Images  Instances      Box(P          R      mAP50  mAP50-95):   1%|          | 3/283 [00:00<01:07,  4.15it/s]^^^^^^^^^^^^^^^^^^^^^^^^^^^^^^^^^^^^^^^^^^\n",
      "\n",
      "AssertionErrorAssertionError: : can only test a child processcan only test a child process\n",
      "\n",
      "Exception ignored in: Exception ignored in: <function _MultiProcessingDataLoaderIter.__del__ at 0x7f0c28239d00><function _MultiProcessingDataLoaderIter.__del__ at 0x7f0c28239d00>\n",
      "\n",
      "Traceback (most recent call last):\n",
      "Traceback (most recent call last):\n",
      "  File \"/scratch/mtmoore/local/miniconda/envs/csiml-final-ultralytics/lib/python3.12/site-packages/torch/utils/data/dataloader.py\", line 1477, in __del__\n",
      "  File \"/scratch/mtmoore/local/miniconda/envs/csiml-final-ultralytics/lib/python3.12/site-packages/torch/utils/data/dataloader.py\", line 1477, in __del__\n",
      "        self._shutdown_workers()self._shutdown_workers()\n",
      "\n",
      "  File \"/scratch/mtmoore/local/miniconda/envs/csiml-final-ultralytics/lib/python3.12/site-packages/torch/utils/data/dataloader.py\", line 1460, in _shutdown_workers\n",
      "  File \"/scratch/mtmoore/local/miniconda/envs/csiml-final-ultralytics/lib/python3.12/site-packages/torch/utils/data/dataloader.py\", line 1460, in _shutdown_workers\n",
      "        if w.is_alive():if w.is_alive():\n",
      "\n",
      "              ^^^^^^^^^^^^^^^^^^^^^^^^\n",
      "\n",
      "  File \"/scratch/mtmoore/local/miniconda/envs/csiml-final-ultralytics/lib/python3.12/multiprocessing/process.py\", line 160, in is_alive\n",
      "  File \"/scratch/mtmoore/local/miniconda/envs/csiml-final-ultralytics/lib/python3.12/multiprocessing/process.py\", line 160, in is_alive\n",
      "        assert self._parent_pid == os.getpid(), 'can only test a child process'assert self._parent_pid == os.getpid(), 'can only test a child process'\n",
      "\n",
      "                    ^ ^^ ^^^^^^^^^^^^^^^^^^^^^^^^^^^^^^^^^^^^^^^^^^^^^^^^^^^^^^^^\n",
      "^AssertionError^: ^can only test a child process\n",
      "\n",
      "AssertionError: can only test a child process\n",
      "                 Class     Images  Instances      Box(P          R      mAP50  mAP50-95):   2%|▏         | 5/283 [00:01<01:15,  3.69it/s]Exception ignored in: <function _MultiProcessingDataLoaderIter.__del__ at 0x7f0c28239d00>\n",
      "Traceback (most recent call last):\n",
      "  File \"/scratch/mtmoore/local/miniconda/envs/csiml-final-ultralytics/lib/python3.12/site-packages/torch/utils/data/dataloader.py\", line 1477, in __del__\n",
      "    self._shutdown_workers()\n",
      "  File \"/scratch/mtmoore/local/miniconda/envs/csiml-final-ultralytics/lib/python3.12/site-packages/torch/utils/data/dataloader.py\", line 1460, in _shutdown_workers\n",
      "    if w.is_alive():\n",
      "       ^^^^^^^^^^^^\n",
      "  File \"/scratch/mtmoore/local/miniconda/envs/csiml-final-ultralytics/lib/python3.12/multiprocessing/process.py\", line 160, in is_alive\n",
      "    assert self._parent_pid == os.getpid(), 'can only test a child process'\n",
      "           ^^^^^^^^^^^^^^^^^^^^^^^^^^^^^^^\n",
      "AssertionError: can only test a child process\n",
      "Exception ignored in: <function _MultiProcessingDataLoaderIter.__del__ at 0x7f0c28239d00>\n",
      "Traceback (most recent call last):\n",
      "  File \"/scratch/mtmoore/local/miniconda/envs/csiml-final-ultralytics/lib/python3.12/site-packages/torch/utils/data/dataloader.py\", line 1477, in __del__\n",
      "    self._shutdown_workers()\n",
      "  File \"/scratch/mtmoore/local/miniconda/envs/csiml-final-ultralytics/lib/python3.12/site-packages/torch/utils/data/dataloader.py\", line 1460, in _shutdown_workers\n",
      "    if w.is_alive():\n",
      "       ^^^^^^^^^^^^\n",
      "  File \"/scratch/mtmoore/local/miniconda/envs/csiml-final-ultralytics/lib/python3.12/multiprocessing/process.py\", line 160, in is_alive\n",
      "    assert self._parent_pid == os.getpid(), 'can only test a child process'\n",
      "           ^^^^^^^^^^^^^^^^^^^^^^^^^^^^^^^\n",
      "AssertionError: can only test a child process\n",
      "                 Class     Images  Instances      Box(P          R      mAP50  mAP50-95):  41%|████      | 116/283 [00:31<00:46,  3.58it/s]Exception ignored in: <function _MultiProcessingDataLoaderIter.__del__ at 0x7f0c28239d00>\n",
      "Traceback (most recent call last):\n",
      "  File \"/scratch/mtmoore/local/miniconda/envs/csiml-final-ultralytics/lib/python3.12/site-packages/torch/utils/data/dataloader.py\", line 1477, in __del__\n",
      "    self._shutdown_workers()\n",
      "  File \"/scratch/mtmoore/local/miniconda/envs/csiml-final-ultralytics/lib/python3.12/site-packages/torch/utils/data/dataloader.py\", line 1460, in _shutdown_workers\n",
      "    if w.is_alive():\n",
      "       ^^^^^^^^^^^^\n",
      "  File \"/scratch/mtmoore/local/miniconda/envs/csiml-final-ultralytics/lib/python3.12/multiprocessing/process.py\", line 160, in is_alive\n",
      "    assert self._parent_pid == os.getpid(), 'can only test a child process'\n",
      "           ^^^^^^^^^^^^^^^^^^^^^^^^^^^^^^^\n",
      "AssertionError: can only test a child process\n",
      "Exception ignored in: <function _MultiProcessingDataLoaderIter.__del__ at 0x7f0c28239d00>\n",
      "Traceback (most recent call last):\n",
      "  File \"/scratch/mtmoore/local/miniconda/envs/csiml-final-ultralytics/lib/python3.12/site-packages/torch/utils/data/dataloader.py\", line 1477, in __del__\n",
      "    self._shutdown_workers()\n",
      "  File \"/scratch/mtmoore/local/miniconda/envs/csiml-final-ultralytics/lib/python3.12/site-packages/torch/utils/data/dataloader.py\", line 1460, in _shutdown_workers\n",
      "    if w.is_alive():\n",
      "       ^^^^^^^^^^^^\n",
      "  File \"/scratch/mtmoore/local/miniconda/envs/csiml-final-ultralytics/lib/python3.12/multiprocessing/process.py\", line 160, in is_alive\n",
      "    assert self._parent_pid == os.getpid(), 'can only test a child process'\n",
      "           ^^^^^^^^^^^^^^^^^^^^^^^^^^^^^^^\n",
      "AssertionError: can only test a child process\n",
      "                 Class     Images  Instances      Box(P          R      mAP50  mAP50-95):  44%|████▍     | 124/283 [00:34<00:43,  3.64it/s]Exception ignored in: <function _MultiProcessingDataLoaderIter.__del__ at 0x7f0c28239d00>\n",
      "Traceback (most recent call last):\n",
      "  File \"/scratch/mtmoore/local/miniconda/envs/csiml-final-ultralytics/lib/python3.12/site-packages/torch/utils/data/dataloader.py\", line 1477, in __del__\n",
      "    self._shutdown_workers()\n",
      "  File \"/scratch/mtmoore/local/miniconda/envs/csiml-final-ultralytics/lib/python3.12/site-packages/torch/utils/data/dataloader.py\", line 1460, in _shutdown_workers\n",
      "    if w.is_alive():\n",
      "       ^^^^^^^^^^^^\n",
      "  File \"/scratch/mtmoore/local/miniconda/envs/csiml-final-ultralytics/lib/python3.12/multiprocessing/process.py\", line 160, in is_alive\n",
      "    assert self._parent_pid == os.getpid(), 'can only test a child process'\n",
      "           ^^^^^^^^^^^^^^^^^^^^^^^^^^^^^^^\n",
      "AssertionError: can only test a child process\n",
      "Exception ignored in: <function _MultiProcessingDataLoaderIter.__del__ at 0x7f0c28239d00>\n",
      "Traceback (most recent call last):\n",
      "  File \"/scratch/mtmoore/local/miniconda/envs/csiml-final-ultralytics/lib/python3.12/site-packages/torch/utils/data/dataloader.py\", line 1477, in __del__\n",
      "    self._shutdown_workers()\n",
      "  File \"/scratch/mtmoore/local/miniconda/envs/csiml-final-ultralytics/lib/python3.12/site-packages/torch/utils/data/dataloader.py\", line 1460, in _shutdown_workers\n",
      "    if w.is_alive():\n",
      "       ^^^^^^^^^^^^\n",
      "  File \"/scratch/mtmoore/local/miniconda/envs/csiml-final-ultralytics/lib/python3.12/multiprocessing/process.py\", line 160, in is_alive\n",
      "    assert self._parent_pid == os.getpid(), 'can only test a child process'\n",
      "           ^^^^^^^^^^^^^^^^^^^^^^^^^^^^^^^\n",
      "AssertionError: can only test a child process\n",
      "                 Class     Images  Instances      Box(P          R      mAP50  mAP50-95):  49%|████▉     | 139/283 [00:38<00:37,  3.79it/s]Exception ignored in: <function _MultiProcessingDataLoaderIter.__del__ at 0x7f0c28239d00>\n",
      "Traceback (most recent call last):\n",
      "  File \"/scratch/mtmoore/local/miniconda/envs/csiml-final-ultralytics/lib/python3.12/site-packages/torch/utils/data/dataloader.py\", line 1477, in __del__\n",
      "    self._shutdown_workers()\n",
      "  File \"/scratch/mtmoore/local/miniconda/envs/csiml-final-ultralytics/lib/python3.12/site-packages/torch/utils/data/dataloader.py\", line 1460, in _shutdown_workers\n",
      "    if w.is_alive():\n",
      "       ^^^^^^^^^^^^\n",
      "  File \"/scratch/mtmoore/local/miniconda/envs/csiml-final-ultralytics/lib/python3.12/multiprocessing/process.py\", line 160, in is_alive\n",
      "    assert self._parent_pid == os.getpid(), 'can only test a child process'\n",
      "           ^^^^^^^^^^^^^^^^^^^^^^^^^^^^^^^\n",
      "AssertionError: can only test a child process\n",
      "Exception ignored in: <function _MultiProcessingDataLoaderIter.__del__ at 0x7f0c28239d00>\n",
      "Traceback (most recent call last):\n",
      "  File \"/scratch/mtmoore/local/miniconda/envs/csiml-final-ultralytics/lib/python3.12/site-packages/torch/utils/data/dataloader.py\", line 1477, in __del__\n",
      "    self._shutdown_workers()\n",
      "  File \"/scratch/mtmoore/local/miniconda/envs/csiml-final-ultralytics/lib/python3.12/site-packages/torch/utils/data/dataloader.py\", line 1460, in _shutdown_workers\n",
      "    if w.is_alive():\n",
      "       ^^^^^^^^^^^^\n",
      "  File \"/scratch/mtmoore/local/miniconda/envs/csiml-final-ultralytics/lib/python3.12/multiprocessing/process.py\", line 160, in is_alive\n",
      "    assert self._parent_pid == os.getpid(), 'can only test a child process'\n",
      "                 Class     Images  Instances      Box(P          R      mAP50  mAP50-95):  49%|████▉     | 140/283 [00:38<00:42,  3.39it/s]^^^^^^^^^^^^\n",
      "AssertionError: can only test a child process\n",
      "                 Class     Images  Instances      Box(P          R      mAP50  mAP50-95):  52%|█████▏    | 146/283 [00:40<00:36,  3.75it/s]Exception ignored in: <function _MultiProcessingDataLoaderIter.__del__ at 0x7f0c28239d00>\n",
      "Traceback (most recent call last):\n",
      "  File \"/scratch/mtmoore/local/miniconda/envs/csiml-final-ultralytics/lib/python3.12/site-packages/torch/utils/data/dataloader.py\", line 1477, in __del__\n",
      "    self._shutdown_workers()\n",
      "  File \"/scratch/mtmoore/local/miniconda/envs/csiml-final-ultralytics/lib/python3.12/site-packages/torch/utils/data/dataloader.py\", line 1460, in _shutdown_workers\n",
      "    if w.is_alive():\n",
      "       ^^^^^^^^^^^^\n",
      "  File \"/scratch/mtmoore/local/miniconda/envs/csiml-final-ultralytics/lib/python3.12/multiprocessing/process.py\", line 160, in is_alive\n",
      "    assert self._parent_pid == os.getpid(), 'can only test a child process'\n",
      "           ^^^^^^^^^^^^^^^^^^^^^^^^^^^^^^^\n",
      "AssertionError: can only test a child process\n",
      "Exception ignored in: <function _MultiProcessingDataLoaderIter.__del__ at 0x7f0c28239d00>\n",
      "Traceback (most recent call last):\n",
      "  File \"/scratch/mtmoore/local/miniconda/envs/csiml-final-ultralytics/lib/python3.12/site-packages/torch/utils/data/dataloader.py\", line 1477, in __del__\n",
      "    self._shutdown_workers()\n",
      "  File \"/scratch/mtmoore/local/miniconda/envs/csiml-final-ultralytics/lib/python3.12/site-packages/torch/utils/data/dataloader.py\", line 1460, in _shutdown_workers\n",
      "    if w.is_alive():\n",
      "                 Class     Images  Instances      Box(P          R      mAP50  mAP50-95):  52%|█████▏    | 147/283 [00:40<00:36,  3.74it/s]^^^^^\n",
      "  File \"/scratch/mtmoore/local/miniconda/envs/csiml-final-ultralytics/lib/python3.12/multiprocessing/process.py\", line 160, in is_alive\n",
      "    assert self._parent_pid == os.getpid(), 'can only test a child process'\n",
      "           ^^^^^^^^^^^^^^^^^^^^^^^^^^^^^^^\n",
      "AssertionError: can only test a child process\n",
      "                 Class     Images  Instances      Box(P          R      mAP50  mAP50-95): 100%|██████████| 283/283 [01:17<00:00,  3.66it/s]\n"
     ]
    },
    {
     "name": "stdout",
     "output_type": "stream",
     "text": [
      "                   all        283        514       0.92      0.895      0.942      0.657\n",
      "Speed: 196.9ms preprocess, 62.9ms inference, 0.0ms loss, 2.1ms postprocess per image\n",
      "Saving /data/mtmoore/school/CSiML_AI395T/final_project/models/yolo11/iterative/validation/11s_3840imgsz_combined_62epochs-val/predictions.json...\n",
      "Results saved to \u001b[1m/data/mtmoore/school/CSiML_AI395T/final_project/models/yolo11/iterative/validation/11s_3840imgsz_combined_62epochs-val\u001b[0m\n",
      "Generating validation for model: yolo11s, image size: 3840px, epoch: 63\n",
      "Ultralytics 8.3.29 🚀 Python-3.12.7 torch-2.4.0 CUDA:0 (NVIDIA GeForce RTX 4070 SUPER, 11904MiB)\n",
      "YOLO11s summary (fused): 238 layers, 9,413,187 parameters, 0 gradients, 21.3 GFLOPs\n"
     ]
    },
    {
     "name": "stderr",
     "output_type": "stream",
     "text": [
      "\u001b[34m\u001b[1mval: \u001b[0mScanning val/labels.cache... 283 images, 0 backgrounds, 0 corrupt: 100%|██████████| 283/283 [00:00<?, ?it/s]\u001b[0m\n",
      "                 Class     Images  Instances      Box(P          R      mAP50  mAP50-95): 100%|██████████| 283/283 [01:17<00:00,  3.64it/s]\n"
     ]
    },
    {
     "name": "stdout",
     "output_type": "stream",
     "text": [
      "                   all        283        514      0.917      0.877      0.937      0.658\n",
      "Speed: 196.8ms preprocess, 62.9ms inference, 0.0ms loss, 2.0ms postprocess per image\n",
      "Saving /data/mtmoore/school/CSiML_AI395T/final_project/models/yolo11/iterative/validation/11s_3840imgsz_combined_63epochs-val/predictions.json...\n",
      "Results saved to \u001b[1m/data/mtmoore/school/CSiML_AI395T/final_project/models/yolo11/iterative/validation/11s_3840imgsz_combined_63epochs-val\u001b[0m\n",
      "Generating validation for model: yolo11s, image size: 3840px, epoch: 64\n",
      "Ultralytics 8.3.29 🚀 Python-3.12.7 torch-2.4.0 CUDA:0 (NVIDIA GeForce RTX 4070 SUPER, 11904MiB)\n",
      "YOLO11s summary (fused): 238 layers, 9,413,187 parameters, 0 gradients, 21.3 GFLOPs\n"
     ]
    },
    {
     "name": "stderr",
     "output_type": "stream",
     "text": [
      "\u001b[34m\u001b[1mval: \u001b[0mScanning val/labels.cache... 283 images, 0 backgrounds, 0 corrupt: 100%|██████████| 283/283 [00:00<?, ?it/s]\u001b[0m\n",
      "                 Class     Images  Instances      Box(P          R      mAP50  mAP50-95): 100%|██████████| 283/283 [01:17<00:00,  3.65it/s]\n"
     ]
    },
    {
     "name": "stdout",
     "output_type": "stream",
     "text": [
      "                   all        283        514      0.915      0.922      0.954      0.674\n",
      "Speed: 196.9ms preprocess, 62.8ms inference, 0.0ms loss, 2.2ms postprocess per image\n",
      "Saving /data/mtmoore/school/CSiML_AI395T/final_project/models/yolo11/iterative/validation/11s_3840imgsz_combined_64epochs-val/predictions.json...\n",
      "Results saved to \u001b[1m/data/mtmoore/school/CSiML_AI395T/final_project/models/yolo11/iterative/validation/11s_3840imgsz_combined_64epochs-val\u001b[0m\n",
      "Generating validation for model: yolo11s, image size: 3840px, epoch: 65\n",
      "Ultralytics 8.3.29 🚀 Python-3.12.7 torch-2.4.0 CUDA:0 (NVIDIA GeForce RTX 4070 SUPER, 11904MiB)\n",
      "YOLO11s summary (fused): 238 layers, 9,413,187 parameters, 0 gradients, 21.3 GFLOPs\n"
     ]
    },
    {
     "name": "stderr",
     "output_type": "stream",
     "text": [
      "\u001b[34m\u001b[1mval: \u001b[0mScanning val/labels.cache... 283 images, 0 backgrounds, 0 corrupt: 100%|██████████| 283/283 [00:00<?, ?it/s]\u001b[0m\n",
      "                 Class     Images  Instances      Box(P          R      mAP50  mAP50-95): 100%|██████████| 283/283 [01:17<00:00,  3.65it/s]\n"
     ]
    },
    {
     "name": "stdout",
     "output_type": "stream",
     "text": [
      "                   all        283        514      0.924      0.916      0.952       0.67\n",
      "Speed: 198.2ms preprocess, 62.8ms inference, 0.0ms loss, 2.0ms postprocess per image\n",
      "Saving /data/mtmoore/school/CSiML_AI395T/final_project/models/yolo11/iterative/validation/11s_3840imgsz_combined_65epochs-val/predictions.json...\n",
      "Results saved to \u001b[1m/data/mtmoore/school/CSiML_AI395T/final_project/models/yolo11/iterative/validation/11s_3840imgsz_combined_65epochs-val\u001b[0m\n",
      "Generating validation for model: yolo11s, image size: 3840px, epoch: 66\n",
      "Ultralytics 8.3.29 🚀 Python-3.12.7 torch-2.4.0 CUDA:0 (NVIDIA GeForce RTX 4070 SUPER, 11904MiB)\n",
      "YOLO11s summary (fused): 238 layers, 9,413,187 parameters, 0 gradients, 21.3 GFLOPs\n"
     ]
    },
    {
     "name": "stderr",
     "output_type": "stream",
     "text": [
      "\u001b[34m\u001b[1mval: \u001b[0mScanning val/labels.cache... 283 images, 0 backgrounds, 0 corrupt: 100%|██████████| 283/283 [00:00<?, ?it/s]\u001b[0m\n",
      "                 Class     Images  Instances      Box(P          R      mAP50  mAP50-95): 100%|██████████| 283/283 [01:17<00:00,  3.63it/s]\n"
     ]
    },
    {
     "name": "stdout",
     "output_type": "stream",
     "text": [
      "                   all        283        514      0.942      0.905      0.956      0.682\n",
      "Speed: 198.8ms preprocess, 62.7ms inference, 0.0ms loss, 2.1ms postprocess per image\n",
      "Saving /data/mtmoore/school/CSiML_AI395T/final_project/models/yolo11/iterative/validation/11s_3840imgsz_combined_66epochs-val/predictions.json...\n",
      "Results saved to \u001b[1m/data/mtmoore/school/CSiML_AI395T/final_project/models/yolo11/iterative/validation/11s_3840imgsz_combined_66epochs-val\u001b[0m\n",
      "Generating validation for model: yolo11s, image size: 3840px, epoch: 67\n",
      "Ultralytics 8.3.29 🚀 Python-3.12.7 torch-2.4.0 CUDA:0 (NVIDIA GeForce RTX 4070 SUPER, 11904MiB)\n",
      "YOLO11s summary (fused): 238 layers, 9,413,187 parameters, 0 gradients, 21.3 GFLOPs\n"
     ]
    },
    {
     "name": "stderr",
     "output_type": "stream",
     "text": [
      "\u001b[34m\u001b[1mval: \u001b[0mScanning val/labels.cache... 283 images, 0 backgrounds, 0 corrupt: 100%|██████████| 283/283 [00:00<?, ?it/s]\u001b[0m\n",
      "                 Class     Images  Instances      Box(P          R      mAP50  mAP50-95): 100%|██████████| 283/283 [03:18<00:00,  1.42it/s] \n"
     ]
    },
    {
     "name": "stdout",
     "output_type": "stream",
     "text": [
      "                   all        283        514      0.938      0.907      0.954      0.669\n",
      "Speed: 200.6ms preprocess, 62.8ms inference, 0.0ms loss, 2.0ms postprocess per image\n",
      "Saving /data/mtmoore/school/CSiML_AI395T/final_project/models/yolo11/iterative/validation/11s_3840imgsz_combined_67epochs-val/predictions.json...\n",
      "Results saved to \u001b[1m/data/mtmoore/school/CSiML_AI395T/final_project/models/yolo11/iterative/validation/11s_3840imgsz_combined_67epochs-val\u001b[0m\n",
      "Generating validation for model: yolo11s, image size: 3840px, epoch: 68\n",
      "Ultralytics 8.3.29 🚀 Python-3.12.7 torch-2.4.0 CUDA:0 (NVIDIA GeForce RTX 4070 SUPER, 11904MiB)\n",
      "YOLO11s summary (fused): 238 layers, 9,413,187 parameters, 0 gradients, 21.3 GFLOPs\n"
     ]
    },
    {
     "name": "stderr",
     "output_type": "stream",
     "text": [
      "\u001b[34m\u001b[1mval: \u001b[0mScanning val/labels.cache... 283 images, 0 backgrounds, 0 corrupt: 100%|██████████| 283/283 [00:00<?, ?it/s]\u001b[0m\n",
      "                 Class     Images  Instances      Box(P          R      mAP50  mAP50-95): 100%|██████████| 283/283 [01:18<00:00,  3.62it/s]\n"
     ]
    },
    {
     "name": "stdout",
     "output_type": "stream",
     "text": [
      "                   all        283        514      0.938      0.914       0.96      0.681\n",
      "Speed: 199.4ms preprocess, 62.8ms inference, 0.0ms loss, 2.1ms postprocess per image\n",
      "Saving /data/mtmoore/school/CSiML_AI395T/final_project/models/yolo11/iterative/validation/11s_3840imgsz_combined_68epochs-val/predictions.json...\n",
      "Results saved to \u001b[1m/data/mtmoore/school/CSiML_AI395T/final_project/models/yolo11/iterative/validation/11s_3840imgsz_combined_68epochs-val\u001b[0m\n",
      "Generating validation for model: yolo11s, image size: 3840px, epoch: 69\n",
      "Ultralytics 8.3.29 🚀 Python-3.12.7 torch-2.4.0 CUDA:0 (NVIDIA GeForce RTX 4070 SUPER, 11904MiB)\n",
      "YOLO11s summary (fused): 238 layers, 9,413,187 parameters, 0 gradients, 21.3 GFLOPs\n"
     ]
    },
    {
     "name": "stderr",
     "output_type": "stream",
     "text": [
      "\u001b[34m\u001b[1mval: \u001b[0mScanning val/labels.cache... 283 images, 0 backgrounds, 0 corrupt: 100%|██████████| 283/283 [00:00<?, ?it/s]\u001b[0m\n",
      "                 Class     Images  Instances      Box(P          R      mAP50  mAP50-95): 100%|██████████| 283/283 [01:17<00:00,  3.66it/s]\n"
     ]
    },
    {
     "name": "stdout",
     "output_type": "stream",
     "text": [
      "                   all        283        514      0.945      0.893      0.955      0.681\n",
      "Speed: 196.7ms preprocess, 62.8ms inference, 0.0ms loss, 2.1ms postprocess per image\n",
      "Saving /data/mtmoore/school/CSiML_AI395T/final_project/models/yolo11/iterative/validation/11s_3840imgsz_combined_69epochs-val/predictions.json...\n",
      "Results saved to \u001b[1m/data/mtmoore/school/CSiML_AI395T/final_project/models/yolo11/iterative/validation/11s_3840imgsz_combined_69epochs-val\u001b[0m\n",
      "Generating validation for model: yolo11s, image size: 3840px, epoch: 70\n",
      "Ultralytics 8.3.29 🚀 Python-3.12.7 torch-2.4.0 CUDA:0 (NVIDIA GeForce RTX 4070 SUPER, 11904MiB)\n",
      "YOLO11s summary (fused): 238 layers, 9,413,187 parameters, 0 gradients, 21.3 GFLOPs\n"
     ]
    },
    {
     "name": "stderr",
     "output_type": "stream",
     "text": [
      "\u001b[34m\u001b[1mval: \u001b[0mScanning val/labels.cache... 283 images, 0 backgrounds, 0 corrupt: 100%|██████████| 283/283 [00:00<?, ?it/s]\u001b[0m\n",
      "                 Class     Images  Instances      Box(P          R      mAP50  mAP50-95): 100%|██████████| 283/283 [01:18<00:00,  3.61it/s]\n"
     ]
    },
    {
     "name": "stdout",
     "output_type": "stream",
     "text": [
      "                   all        283        514      0.926      0.903       0.95       0.68\n",
      "Speed: 200.2ms preprocess, 62.8ms inference, 0.0ms loss, 2.1ms postprocess per image\n",
      "Saving /data/mtmoore/school/CSiML_AI395T/final_project/models/yolo11/iterative/validation/11s_3840imgsz_combined_70epochs-val/predictions.json...\n",
      "Results saved to \u001b[1m/data/mtmoore/school/CSiML_AI395T/final_project/models/yolo11/iterative/validation/11s_3840imgsz_combined_70epochs-val\u001b[0m\n",
      "Generating validation for model: yolo11s, image size: 3840px, epoch: 71\n",
      "Ultralytics 8.3.29 🚀 Python-3.12.7 torch-2.4.0 CUDA:0 (NVIDIA GeForce RTX 4070 SUPER, 11904MiB)\n",
      "YOLO11s summary (fused): 238 layers, 9,413,187 parameters, 0 gradients, 21.3 GFLOPs\n"
     ]
    },
    {
     "name": "stderr",
     "output_type": "stream",
     "text": [
      "\u001b[34m\u001b[1mval: \u001b[0mScanning val/labels.cache... 283 images, 0 backgrounds, 0 corrupt: 100%|██████████| 283/283 [00:00<?, ?it/s]\u001b[0m\n",
      "                 Class     Images  Instances      Box(P          R      mAP50  mAP50-95): 100%|██████████| 283/283 [01:17<00:00,  3.63it/s]\n"
     ]
    },
    {
     "name": "stdout",
     "output_type": "stream",
     "text": [
      "                   all        283        514      0.912      0.926      0.955      0.682\n",
      "Speed: 199.8ms preprocess, 62.7ms inference, 0.0ms loss, 2.1ms postprocess per image\n",
      "Saving /data/mtmoore/school/CSiML_AI395T/final_project/models/yolo11/iterative/validation/11s_3840imgsz_combined_71epochs-val/predictions.json...\n",
      "Results saved to \u001b[1m/data/mtmoore/school/CSiML_AI395T/final_project/models/yolo11/iterative/validation/11s_3840imgsz_combined_71epochs-val\u001b[0m\n",
      "Generating validation for model: yolo11s, image size: 3840px, epoch: 72\n",
      "Ultralytics 8.3.29 🚀 Python-3.12.7 torch-2.4.0 CUDA:0 (NVIDIA GeForce RTX 4070 SUPER, 11904MiB)\n",
      "YOLO11s summary (fused): 238 layers, 9,413,187 parameters, 0 gradients, 21.3 GFLOPs\n"
     ]
    },
    {
     "name": "stderr",
     "output_type": "stream",
     "text": [
      "\u001b[34m\u001b[1mval: \u001b[0mScanning val/labels.cache... 283 images, 0 backgrounds, 0 corrupt: 100%|██████████| 283/283 [00:00<?, ?it/s]\u001b[0m\n",
      "                 Class     Images  Instances      Box(P          R      mAP50  mAP50-95): 100%|██████████| 283/283 [01:17<00:00,  3.65it/s]\n"
     ]
    },
    {
     "name": "stdout",
     "output_type": "stream",
     "text": [
      "                   all        283        514      0.937      0.903      0.954      0.685\n",
      "Speed: 198.6ms preprocess, 62.8ms inference, 0.0ms loss, 2.1ms postprocess per image\n",
      "Saving /data/mtmoore/school/CSiML_AI395T/final_project/models/yolo11/iterative/validation/11s_3840imgsz_combined_72epochs-val/predictions.json...\n",
      "Results saved to \u001b[1m/data/mtmoore/school/CSiML_AI395T/final_project/models/yolo11/iterative/validation/11s_3840imgsz_combined_72epochs-val\u001b[0m\n",
      "Generating validation for model: yolo11s, image size: 3840px, epoch: 73\n",
      "Ultralytics 8.3.29 🚀 Python-3.12.7 torch-2.4.0 CUDA:0 (NVIDIA GeForce RTX 4070 SUPER, 11904MiB)\n",
      "YOLO11s summary (fused): 238 layers, 9,413,187 parameters, 0 gradients, 21.3 GFLOPs\n"
     ]
    },
    {
     "name": "stderr",
     "output_type": "stream",
     "text": [
      "\u001b[34m\u001b[1mval: \u001b[0mScanning val/labels.cache... 283 images, 0 backgrounds, 0 corrupt: 100%|██████████| 283/283 [00:00<?, ?it/s]\u001b[0m\n",
      "                 Class     Images  Instances      Box(P          R      mAP50  mAP50-95): 100%|██████████| 283/283 [01:17<00:00,  3.65it/s]\n"
     ]
    },
    {
     "name": "stdout",
     "output_type": "stream",
     "text": [
      "                   all        283        514      0.936      0.918      0.959      0.686\n",
      "Speed: 198.6ms preprocess, 62.8ms inference, 0.0ms loss, 2.0ms postprocess per image\n",
      "Saving /data/mtmoore/school/CSiML_AI395T/final_project/models/yolo11/iterative/validation/11s_3840imgsz_combined_73epochs-val/predictions.json...\n",
      "Results saved to \u001b[1m/data/mtmoore/school/CSiML_AI395T/final_project/models/yolo11/iterative/validation/11s_3840imgsz_combined_73epochs-val\u001b[0m\n",
      "Generating validation for model: yolo11s, image size: 3840px, epoch: 74\n",
      "Ultralytics 8.3.29 🚀 Python-3.12.7 torch-2.4.0 CUDA:0 (NVIDIA GeForce RTX 4070 SUPER, 11904MiB)\n",
      "YOLO11s summary (fused): 238 layers, 9,413,187 parameters, 0 gradients, 21.3 GFLOPs\n"
     ]
    },
    {
     "name": "stderr",
     "output_type": "stream",
     "text": [
      "\u001b[34m\u001b[1mval: \u001b[0mScanning val/labels.cache... 283 images, 0 backgrounds, 0 corrupt: 100%|██████████| 283/283 [00:00<?, ?it/s]\u001b[0m\n",
      "                 Class     Images  Instances      Box(P          R      mAP50  mAP50-95): 100%|██████████| 283/283 [01:17<00:00,  3.65it/s]\n"
     ]
    },
    {
     "name": "stdout",
     "output_type": "stream",
     "text": [
      "                   all        283        514       0.93      0.928      0.954      0.676\n",
      "Speed: 197.4ms preprocess, 62.8ms inference, 0.0ms loss, 2.0ms postprocess per image\n",
      "Saving /data/mtmoore/school/CSiML_AI395T/final_project/models/yolo11/iterative/validation/11s_3840imgsz_combined_74epochs-val/predictions.json...\n",
      "Results saved to \u001b[1m/data/mtmoore/school/CSiML_AI395T/final_project/models/yolo11/iterative/validation/11s_3840imgsz_combined_74epochs-val\u001b[0m\n",
      "Generating validation for model: yolo11s, image size: 3840px, epoch: 75\n",
      "Ultralytics 8.3.29 🚀 Python-3.12.7 torch-2.4.0 CUDA:0 (NVIDIA GeForce RTX 4070 SUPER, 11904MiB)\n",
      "YOLO11s summary (fused): 238 layers, 9,413,187 parameters, 0 gradients, 21.3 GFLOPs\n"
     ]
    },
    {
     "name": "stderr",
     "output_type": "stream",
     "text": [
      "\u001b[34m\u001b[1mval: \u001b[0mScanning val/labels.cache... 283 images, 0 backgrounds, 0 corrupt: 100%|██████████| 283/283 [00:00<?, ?it/s]\u001b[0m\n",
      "                 Class     Images  Instances      Box(P          R      mAP50  mAP50-95): 100%|██████████| 283/283 [02:34<00:00,  1.83it/s]\n"
     ]
    },
    {
     "name": "stdout",
     "output_type": "stream",
     "text": [
      "                   all        283        514      0.914       0.91      0.953      0.684\n",
      "Speed: 199.8ms preprocess, 62.8ms inference, 0.0ms loss, 2.1ms postprocess per image\n",
      "Saving /data/mtmoore/school/CSiML_AI395T/final_project/models/yolo11/iterative/validation/11s_3840imgsz_combined_75epochs-val/predictions.json...\n",
      "Results saved to \u001b[1m/data/mtmoore/school/CSiML_AI395T/final_project/models/yolo11/iterative/validation/11s_3840imgsz_combined_75epochs-val\u001b[0m\n",
      "Generating validation for model: yolo11s, image size: 3840px, epoch: 76\n",
      "Ultralytics 8.3.29 🚀 Python-3.12.7 torch-2.4.0 CUDA:0 (NVIDIA GeForce RTX 4070 SUPER, 11904MiB)\n",
      "YOLO11s summary (fused): 238 layers, 9,413,187 parameters, 0 gradients, 21.3 GFLOPs\n"
     ]
    },
    {
     "name": "stderr",
     "output_type": "stream",
     "text": [
      "\u001b[34m\u001b[1mval: \u001b[0mScanning val/labels.cache... 283 images, 0 backgrounds, 0 corrupt: 100%|██████████| 283/283 [00:00<?, ?it/s]\u001b[0m\n",
      "                 Class     Images  Instances      Box(P          R      mAP50  mAP50-95): 100%|██████████| 283/283 [01:17<00:00,  3.64it/s]\n"
     ]
    },
    {
     "name": "stdout",
     "output_type": "stream",
     "text": [
      "                   all        283        514      0.943      0.909       0.96      0.685\n",
      "Speed: 199.5ms preprocess, 62.9ms inference, 0.0ms loss, 2.0ms postprocess per image\n",
      "Saving /data/mtmoore/school/CSiML_AI395T/final_project/models/yolo11/iterative/validation/11s_3840imgsz_combined_76epochs-val/predictions.json...\n",
      "Results saved to \u001b[1m/data/mtmoore/school/CSiML_AI395T/final_project/models/yolo11/iterative/validation/11s_3840imgsz_combined_76epochs-val\u001b[0m\n",
      "Generating validation for model: yolo11s, image size: 3840px, epoch: 77\n",
      "Ultralytics 8.3.29 🚀 Python-3.12.7 torch-2.4.0 CUDA:0 (NVIDIA GeForce RTX 4070 SUPER, 11904MiB)\n",
      "YOLO11s summary (fused): 238 layers, 9,413,187 parameters, 0 gradients, 21.3 GFLOPs\n"
     ]
    },
    {
     "name": "stderr",
     "output_type": "stream",
     "text": [
      "\u001b[34m\u001b[1mval: \u001b[0mScanning val/labels.cache... 283 images, 0 backgrounds, 0 corrupt: 100%|██████████| 283/283 [00:00<?, ?it/s]\u001b[0m\n",
      "                 Class     Images  Instances      Box(P          R      mAP50  mAP50-95): 100%|██████████| 283/283 [01:17<00:00,  3.66it/s]\n"
     ]
    },
    {
     "name": "stdout",
     "output_type": "stream",
     "text": [
      "                   all        283        514      0.951      0.912      0.953      0.692\n",
      "Speed: 198.7ms preprocess, 62.7ms inference, 0.0ms loss, 2.0ms postprocess per image\n",
      "Saving /data/mtmoore/school/CSiML_AI395T/final_project/models/yolo11/iterative/validation/11s_3840imgsz_combined_77epochs-val/predictions.json...\n",
      "Results saved to \u001b[1m/data/mtmoore/school/CSiML_AI395T/final_project/models/yolo11/iterative/validation/11s_3840imgsz_combined_77epochs-val\u001b[0m\n",
      "Generating validation for model: yolo11s, image size: 3840px, epoch: 78\n",
      "Ultralytics 8.3.29 🚀 Python-3.12.7 torch-2.4.0 CUDA:0 (NVIDIA GeForce RTX 4070 SUPER, 11904MiB)\n",
      "YOLO11s summary (fused): 238 layers, 9,413,187 parameters, 0 gradients, 21.3 GFLOPs\n"
     ]
    },
    {
     "name": "stderr",
     "output_type": "stream",
     "text": [
      "\u001b[34m\u001b[1mval: \u001b[0mScanning val/labels.cache... 283 images, 0 backgrounds, 0 corrupt: 100%|██████████| 283/283 [00:00<?, ?it/s]\u001b[0m\n",
      "                 Class     Images  Instances      Box(P          R      mAP50  mAP50-95): 100%|██████████| 283/283 [01:17<00:00,  3.64it/s]\n"
     ]
    },
    {
     "name": "stdout",
     "output_type": "stream",
     "text": [
      "                   all        283        514      0.936      0.926      0.956      0.688\n",
      "Speed: 196.9ms preprocess, 62.7ms inference, 0.0ms loss, 2.0ms postprocess per image\n",
      "Saving /data/mtmoore/school/CSiML_AI395T/final_project/models/yolo11/iterative/validation/11s_3840imgsz_combined_78epochs-val/predictions.json...\n",
      "Results saved to \u001b[1m/data/mtmoore/school/CSiML_AI395T/final_project/models/yolo11/iterative/validation/11s_3840imgsz_combined_78epochs-val\u001b[0m\n",
      "Generating validation for model: yolo11s, image size: 3840px, epoch: 79\n",
      "Ultralytics 8.3.29 🚀 Python-3.12.7 torch-2.4.0 CUDA:0 (NVIDIA GeForce RTX 4070 SUPER, 11904MiB)\n",
      "YOLO11s summary (fused): 238 layers, 9,413,187 parameters, 0 gradients, 21.3 GFLOPs\n"
     ]
    },
    {
     "name": "stderr",
     "output_type": "stream",
     "text": [
      "\u001b[34m\u001b[1mval: \u001b[0mScanning val/labels.cache... 283 images, 0 backgrounds, 0 corrupt: 100%|██████████| 283/283 [00:00<?, ?it/s]\u001b[0m\n",
      "                 Class     Images  Instances      Box(P          R      mAP50  mAP50-95): 100%|██████████| 283/283 [01:18<00:00,  3.62it/s]\n"
     ]
    },
    {
     "name": "stdout",
     "output_type": "stream",
     "text": [
      "                   all        283        514      0.934      0.903       0.95       0.68\n",
      "Speed: 200.3ms preprocess, 62.8ms inference, 0.0ms loss, 2.0ms postprocess per image\n",
      "Saving /data/mtmoore/school/CSiML_AI395T/final_project/models/yolo11/iterative/validation/11s_3840imgsz_combined_79epochs-val/predictions.json...\n",
      "Results saved to \u001b[1m/data/mtmoore/school/CSiML_AI395T/final_project/models/yolo11/iterative/validation/11s_3840imgsz_combined_79epochs-val\u001b[0m\n",
      "Generating validation for model: yolo11s, image size: 3840px, epoch: 80\n",
      "Ultralytics 8.3.29 🚀 Python-3.12.7 torch-2.4.0 CUDA:0 (NVIDIA GeForce RTX 4070 SUPER, 11904MiB)\n",
      "YOLO11s summary (fused): 238 layers, 9,413,187 parameters, 0 gradients, 21.3 GFLOPs\n"
     ]
    },
    {
     "name": "stderr",
     "output_type": "stream",
     "text": [
      "\u001b[34m\u001b[1mval: \u001b[0mScanning val/labels.cache... 283 images, 0 backgrounds, 0 corrupt: 100%|██████████| 283/283 [00:00<?, ?it/s]\u001b[0m\n",
      "                 Class     Images  Instances      Box(P          R      mAP50  mAP50-95): 100%|██████████| 283/283 [01:16<00:00,  3.69it/s]\n"
     ]
    },
    {
     "name": "stdout",
     "output_type": "stream",
     "text": [
      "                   all        283        514      0.938      0.919      0.957      0.694\n",
      "Speed: 195.9ms preprocess, 62.8ms inference, 0.0ms loss, 2.0ms postprocess per image\n",
      "Saving /data/mtmoore/school/CSiML_AI395T/final_project/models/yolo11/iterative/validation/11s_3840imgsz_combined_80epochs-val/predictions.json...\n",
      "Results saved to \u001b[1m/data/mtmoore/school/CSiML_AI395T/final_project/models/yolo11/iterative/validation/11s_3840imgsz_combined_80epochs-val\u001b[0m\n",
      "Generating validation for model: yolo11s, image size: 3840px, epoch: 81\n",
      "Ultralytics 8.3.29 🚀 Python-3.12.7 torch-2.4.0 CUDA:0 (NVIDIA GeForce RTX 4070 SUPER, 11904MiB)\n",
      "YOLO11s summary (fused): 238 layers, 9,413,187 parameters, 0 gradients, 21.3 GFLOPs\n"
     ]
    },
    {
     "name": "stderr",
     "output_type": "stream",
     "text": [
      "\u001b[34m\u001b[1mval: \u001b[0mScanning val/labels.cache... 283 images, 0 backgrounds, 0 corrupt: 100%|██████████| 283/283 [00:00<?, ?it/s]\u001b[0m\n",
      "                 Class     Images  Instances      Box(P          R      mAP50  mAP50-95): 100%|██████████| 283/283 [01:18<00:00,  3.62it/s]\n"
     ]
    },
    {
     "name": "stdout",
     "output_type": "stream",
     "text": [
      "                   all        283        514      0.922      0.921      0.958      0.685\n",
      "Speed: 198.2ms preprocess, 62.8ms inference, 0.0ms loss, 2.1ms postprocess per image\n",
      "Saving /data/mtmoore/school/CSiML_AI395T/final_project/models/yolo11/iterative/validation/11s_3840imgsz_combined_81epochs-val/predictions.json...\n",
      "Results saved to \u001b[1m/data/mtmoore/school/CSiML_AI395T/final_project/models/yolo11/iterative/validation/11s_3840imgsz_combined_81epochs-val\u001b[0m\n",
      "Generating validation for model: yolo11s, image size: 3840px, epoch: 82\n",
      "Ultralytics 8.3.29 🚀 Python-3.12.7 torch-2.4.0 CUDA:0 (NVIDIA GeForce RTX 4070 SUPER, 11904MiB)\n",
      "YOLO11s summary (fused): 238 layers, 9,413,187 parameters, 0 gradients, 21.3 GFLOPs\n"
     ]
    },
    {
     "name": "stderr",
     "output_type": "stream",
     "text": [
      "\u001b[34m\u001b[1mval: \u001b[0mScanning val/labels.cache... 283 images, 0 backgrounds, 0 corrupt: 100%|██████████| 283/283 [00:00<?, ?it/s]\u001b[0m\n",
      "                 Class     Images  Instances      Box(P          R      mAP50  mAP50-95): 100%|██████████| 283/283 [01:17<00:00,  3.65it/s]\n"
     ]
    },
    {
     "name": "stdout",
     "output_type": "stream",
     "text": [
      "                   all        283        514      0.943      0.891       0.95      0.684\n",
      "Speed: 198.7ms preprocess, 62.8ms inference, 0.0ms loss, 2.0ms postprocess per image\n",
      "Saving /data/mtmoore/school/CSiML_AI395T/final_project/models/yolo11/iterative/validation/11s_3840imgsz_combined_82epochs-val/predictions.json...\n",
      "Results saved to \u001b[1m/data/mtmoore/school/CSiML_AI395T/final_project/models/yolo11/iterative/validation/11s_3840imgsz_combined_82epochs-val\u001b[0m\n",
      "Generating validation for model: yolo11s, image size: 3840px, epoch: 83\n",
      "Ultralytics 8.3.29 🚀 Python-3.12.7 torch-2.4.0 CUDA:0 (NVIDIA GeForce RTX 4070 SUPER, 11904MiB)\n",
      "YOLO11s summary (fused): 238 layers, 9,413,187 parameters, 0 gradients, 21.3 GFLOPs\n"
     ]
    },
    {
     "name": "stderr",
     "output_type": "stream",
     "text": [
      "\u001b[34m\u001b[1mval: \u001b[0mScanning val/labels.cache... 283 images, 0 backgrounds, 0 corrupt: 100%|██████████| 283/283 [00:00<?, ?it/s]\u001b[0m\n",
      "                 Class     Images  Instances      Box(P          R      mAP50  mAP50-95): 100%|██████████| 283/283 [03:18<00:00,  1.43it/s] \n"
     ]
    },
    {
     "name": "stdout",
     "output_type": "stream",
     "text": [
      "                   all        283        514      0.943      0.905      0.955       0.69\n",
      "Speed: 200.2ms preprocess, 62.8ms inference, 0.0ms loss, 2.1ms postprocess per image\n",
      "Saving /data/mtmoore/school/CSiML_AI395T/final_project/models/yolo11/iterative/validation/11s_3840imgsz_combined_83epochs-val/predictions.json...\n",
      "Results saved to \u001b[1m/data/mtmoore/school/CSiML_AI395T/final_project/models/yolo11/iterative/validation/11s_3840imgsz_combined_83epochs-val\u001b[0m\n",
      "Generating validation for model: yolo11s, image size: 3840px, epoch: 84\n",
      "Ultralytics 8.3.29 🚀 Python-3.12.7 torch-2.4.0 CUDA:0 (NVIDIA GeForce RTX 4070 SUPER, 11904MiB)\n",
      "YOLO11s summary (fused): 238 layers, 9,413,187 parameters, 0 gradients, 21.3 GFLOPs\n"
     ]
    },
    {
     "name": "stderr",
     "output_type": "stream",
     "text": [
      "\u001b[34m\u001b[1mval: \u001b[0mScanning val/labels.cache... 283 images, 0 backgrounds, 0 corrupt: 100%|██████████| 283/283 [00:00<?, ?it/s]\u001b[0m\n",
      "                 Class     Images  Instances      Box(P          R      mAP50  mAP50-95): 100%|██████████| 283/283 [01:18<00:00,  3.63it/s]\n"
     ]
    },
    {
     "name": "stdout",
     "output_type": "stream",
     "text": [
      "                   all        283        514      0.954      0.911      0.964      0.695\n",
      "Speed: 197.3ms preprocess, 62.8ms inference, 0.0ms loss, 2.1ms postprocess per image\n",
      "Saving /data/mtmoore/school/CSiML_AI395T/final_project/models/yolo11/iterative/validation/11s_3840imgsz_combined_84epochs-val/predictions.json...\n",
      "Results saved to \u001b[1m/data/mtmoore/school/CSiML_AI395T/final_project/models/yolo11/iterative/validation/11s_3840imgsz_combined_84epochs-val\u001b[0m\n",
      "Generating validation for model: yolo11s, image size: 3840px, epoch: 85\n",
      "Ultralytics 8.3.29 🚀 Python-3.12.7 torch-2.4.0 CUDA:0 (NVIDIA GeForce RTX 4070 SUPER, 11904MiB)\n",
      "YOLO11s summary (fused): 238 layers, 9,413,187 parameters, 0 gradients, 21.3 GFLOPs\n"
     ]
    },
    {
     "name": "stderr",
     "output_type": "stream",
     "text": [
      "\u001b[34m\u001b[1mval: \u001b[0mScanning val/labels.cache... 283 images, 0 backgrounds, 0 corrupt: 100%|██████████| 283/283 [00:00<?, ?it/s]\u001b[0m\n",
      "                 Class     Images  Instances      Box(P          R      mAP50  mAP50-95): 100%|██████████| 283/283 [01:17<00:00,  3.67it/s]\n"
     ]
    },
    {
     "name": "stdout",
     "output_type": "stream",
     "text": [
      "                   all        283        514      0.941      0.928       0.96      0.695\n",
      "Speed: 196.6ms preprocess, 62.9ms inference, 0.0ms loss, 2.1ms postprocess per image\n",
      "Saving /data/mtmoore/school/CSiML_AI395T/final_project/models/yolo11/iterative/validation/11s_3840imgsz_combined_85epochs-val/predictions.json...\n",
      "Results saved to \u001b[1m/data/mtmoore/school/CSiML_AI395T/final_project/models/yolo11/iterative/validation/11s_3840imgsz_combined_85epochs-val\u001b[0m\n",
      "Generating validation for model: yolo11s, image size: 3840px, epoch: 86\n",
      "Ultralytics 8.3.29 🚀 Python-3.12.7 torch-2.4.0 CUDA:0 (NVIDIA GeForce RTX 4070 SUPER, 11904MiB)\n",
      "YOLO11s summary (fused): 238 layers, 9,413,187 parameters, 0 gradients, 21.3 GFLOPs\n"
     ]
    },
    {
     "name": "stderr",
     "output_type": "stream",
     "text": [
      "\u001b[34m\u001b[1mval: \u001b[0mScanning val/labels.cache... 283 images, 0 backgrounds, 0 corrupt: 100%|██████████| 283/283 [00:00<?, ?it/s]\u001b[0m\n",
      "                 Class     Images  Instances      Box(P          R      mAP50  mAP50-95):   1%|          | 2/283 [00:00<00:53,  5.24it/s]Exception ignored in: <function _MultiProcessingDataLoaderIter.__del__ at 0x7f0c28239d00>\n",
      "Traceback (most recent call last):\n",
      "  File \"/scratch/mtmoore/local/miniconda/envs/csiml-final-ultralytics/lib/python3.12/site-packages/torch/utils/data/dataloader.py\", line 1477, in __del__\n",
      "    self._shutdown_workers()\n",
      "  File \"/scratch/mtmoore/local/miniconda/envs/csiml-final-ultralytics/lib/python3.12/site-packages/torch/utils/data/dataloader.py\", line 1460, in _shutdown_workers\n",
      "    if w.is_alive():\n",
      "       ^^^^^^^^^^^^\n",
      "  File \"/scratch/mtmoore/local/miniconda/envs/csiml-final-ultralytics/lib/python3.12/multiprocessing/process.py\", line 160, in is_alive\n",
      "    assert self._parent_pid == os.getpid(), 'can only test a child process'\n",
      "           ^^^^^^^^^^^^^^^^^^^^^^^^^^^^^^^\n",
      "AssertionError: can only test a child process\n",
      "Exception ignored in: <function _MultiProcessingDataLoaderIter.__del__ at 0x7f0c28239d00>\n",
      "Traceback (most recent call last):\n",
      "  File \"/scratch/mtmoore/local/miniconda/envs/csiml-final-ultralytics/lib/python3.12/site-packages/torch/utils/data/dataloader.py\", line 1477, in __del__\n",
      "    self._shutdown_workers()\n",
      "  File \"/scratch/mtmoore/local/miniconda/envs/csiml-final-ultralytics/lib/python3.12/site-packages/torch/utils/data/dataloader.py\", line 1460, in _shutdown_workers\n",
      "    if w.is_alive():\n",
      "       ^^^^^^^^^^^^\n",
      "  File \"/scratch/mtmoore/local/miniconda/envs/csiml-final-ultralytics/lib/python3.12/multiprocessing/process.py\", line 160, in is_alive\n",
      "    assert self._parent_pid == os.getpid(), 'can only test a child process'\n",
      "           ^^^^^^^^^^^^^^^^^^^^^^^^^^^^^^^\n",
      "AssertionError: can only test a child process\n",
      "Exception ignored in: <function _MultiProcessingDataLoaderIter.__del__ at 0x7f0c28239d00>\n",
      "Traceback (most recent call last):\n",
      "  File \"/scratch/mtmoore/local/miniconda/envs/csiml-final-ultralytics/lib/python3.12/site-packages/torch/utils/data/dataloader.py\", line 1477, in __del__\n",
      "    self._shutdown_workers()\n",
      "  File \"/scratch/mtmoore/local/miniconda/envs/csiml-final-ultralytics/lib/python3.12/site-packages/torch/utils/data/dataloader.py\", line 1460, in _shutdown_workers\n",
      "    if w.is_alive():\n",
      "       ^^^^^^^^^^^^\n",
      "  File \"/scratch/mtmoore/local/miniconda/envs/csiml-final-ultralytics/lib/python3.12/multiprocessing/process.py\", line 160, in is_alive\n",
      "    assert self._parent_pid == os.getpid(), 'can only test a child process'\n",
      "           ^^^^^^^^^^^^^^^^^^^^^^^^^^^^^^^\n",
      "AssertionError: can only test a child process\n",
      "Exception ignored in: <function _MultiProcessingDataLoaderIter.__del__ at 0x7f0c28239d00>\n",
      "Traceback (most recent call last):\n",
      "  File \"/scratch/mtmoore/local/miniconda/envs/csiml-final-ultralytics/lib/python3.12/site-packages/torch/utils/data/dataloader.py\", line 1477, in __del__\n",
      "    self._shutdown_workers()\n",
      "  File \"/scratch/mtmoore/local/miniconda/envs/csiml-final-ultralytics/lib/python3.12/site-packages/torch/utils/data/dataloader.py\", line 1460, in _shutdown_workers\n",
      "    if w.is_alive():\n",
      "                 Class     Images  Instances      Box(P          R      mAP50  mAP50-95):   1%|          | 3/283 [00:00<01:07,  4.17it/s]^\n",
      "  File \"/scratch/mtmoore/local/miniconda/envs/csiml-final-ultralytics/lib/python3.12/multiprocessing/process.py\", line 160, in is_alive\n",
      "    assert self._parent_pid == os.getpid(), 'can only test a child process'\n",
      "           ^^^^^^^^^^^^^^^^^^^^^^^^^^^^^^^\n",
      "AssertionError: can only test a child process\n",
      "Exception ignored in: <function _MultiProcessingDataLoaderIter.__del__ at 0x7f0c28239d00>\n",
      "Traceback (most recent call last):\n",
      "  File \"/scratch/mtmoore/local/miniconda/envs/csiml-final-ultralytics/lib/python3.12/site-packages/torch/utils/data/dataloader.py\", line 1477, in __del__\n",
      "    self._shutdown_workers()\n",
      "  File \"/scratch/mtmoore/local/miniconda/envs/csiml-final-ultralytics/lib/python3.12/site-packages/torch/utils/data/dataloader.py\", line 1460, in _shutdown_workers\n",
      "    if w.is_alive():\n",
      "       ^^^^^^^^^^^^\n",
      "  File \"/scratch/mtmoore/local/miniconda/envs/csiml-final-ultralytics/lib/python3.12/multiprocessing/process.py\", line 160, in is_alive\n",
      "    assert self._parent_pid == os.getpid(), 'can only test a child process'\n",
      "           ^^^^^^^^^^^^^^^^^^^^^^^^^^^^^^^\n",
      "AssertionError: can only test a child process\n",
      "Exception ignored in: <function _MultiProcessingDataLoaderIter.__del__ at 0x7f0c28239d00>\n",
      "Traceback (most recent call last):\n",
      "  File \"/scratch/mtmoore/local/miniconda/envs/csiml-final-ultralytics/lib/python3.12/site-packages/torch/utils/data/dataloader.py\", line 1477, in __del__\n",
      "    self._shutdown_workers()\n",
      "  File \"/scratch/mtmoore/local/miniconda/envs/csiml-final-ultralytics/lib/python3.12/site-packages/torch/utils/data/dataloader.py\", line 1460, in _shutdown_workers\n",
      "    if w.is_alive():\n",
      "       ^^^^^^^^^^^^\n",
      "  File \"/scratch/mtmoore/local/miniconda/envs/csiml-final-ultralytics/lib/python3.12/multiprocessing/process.py\", line 160, in is_alive\n",
      "    assert self._parent_pid == os.getpid(), 'can only test a child process'\n",
      "           ^^^^^^^^^^^^^^^^^^^^^^^^^^^^^^^\n",
      "AssertionError: can only test a child process\n",
      "                 Class     Images  Instances      Box(P          R      mAP50  mAP50-95):   2%|▏         | 6/283 [00:01<01:12,  3.81it/s]Exception ignored in: <function _MultiProcessingDataLoaderIter.__del__ at 0x7f0c28239d00>\n",
      "Traceback (most recent call last):\n",
      "  File \"/scratch/mtmoore/local/miniconda/envs/csiml-final-ultralytics/lib/python3.12/site-packages/torch/utils/data/dataloader.py\", line 1477, in __del__\n",
      "    self._shutdown_workers()\n",
      "  File \"/scratch/mtmoore/local/miniconda/envs/csiml-final-ultralytics/lib/python3.12/site-packages/torch/utils/data/dataloader.py\", line 1460, in _shutdown_workers\n",
      "    if w.is_alive():\n",
      "       ^^^^^^^^^^^^\n",
      "  File \"/scratch/mtmoore/local/miniconda/envs/csiml-final-ultralytics/lib/python3.12/multiprocessing/process.py\", line 160, in is_alive\n",
      "    assert self._parent_pid == os.getpid(), 'can only test a child process'\n",
      "                 Class     Images  Instances      Box(P          R      mAP50  mAP50-95):   2%|▏         | 7/283 [00:01<01:13,  3.76it/s]         ^^^^^^^^^^^^^^^^^^^^^^^^^^^^^^^\n",
      "AssertionError: can only test a child process\n",
      "Exception ignored in: <function _MultiProcessingDataLoaderIter.__del__ at 0x7f0c28239d00>\n",
      "Traceback (most recent call last):\n",
      "  File \"/scratch/mtmoore/local/miniconda/envs/csiml-final-ultralytics/lib/python3.12/site-packages/torch/utils/data/dataloader.py\", line 1477, in __del__\n",
      "    self._shutdown_workers()\n",
      "  File \"/scratch/mtmoore/local/miniconda/envs/csiml-final-ultralytics/lib/python3.12/site-packages/torch/utils/data/dataloader.py\", line 1460, in _shutdown_workers\n",
      "    if w.is_alive():\n",
      "       ^^^^^^^^^^^^\n",
      "  File \"/scratch/mtmoore/local/miniconda/envs/csiml-final-ultralytics/lib/python3.12/multiprocessing/process.py\", line 160, in is_alive\n",
      "    assert self._parent_pid == os.getpid(), 'can only test a child process'\n",
      "           ^^^^^^^^^^^^^^^^^^^^^^^^^^^^^^^\n",
      "AssertionError: can only test a child process\n",
      "Exception ignored in: <function _MultiProcessingDataLoaderIter.__del__ at 0x7f0c28239d00>\n",
      "Traceback (most recent call last):\n",
      "  File \"/scratch/mtmoore/local/miniconda/envs/csiml-final-ultralytics/lib/python3.12/site-packages/torch/utils/data/dataloader.py\", line 1477, in __del__\n",
      "    self._shutdown_workers()\n",
      "  File \"/scratch/mtmoore/local/miniconda/envs/csiml-final-ultralytics/lib/python3.12/site-packages/torch/utils/data/dataloader.py\", line 1460, in _shutdown_workers\n",
      "    if w.is_alive():\n",
      "       ^^^^^^^^^^^^\n",
      "  File \"/scratch/mtmoore/local/miniconda/envs/csiml-final-ultralytics/lib/python3.12/multiprocessing/process.py\", line 160, in is_alive\n",
      "    assert self._parent_pid == os.getpid(), 'can only test a child process'\n",
      "           ^^^^^^^^^^^^^^^^^^^^^^^^^^^^^^^\n",
      "AssertionError: can only test a child process\n",
      "                 Class     Images  Instances      Box(P          R      mAP50  mAP50-95):   8%|▊         | 22/283 [00:05<01:10,  3.72it/s]Exception ignored in: <function _MultiProcessingDataLoaderIter.__del__ at 0x7f0c28239d00>\n",
      "Traceback (most recent call last):\n",
      "  File \"/scratch/mtmoore/local/miniconda/envs/csiml-final-ultralytics/lib/python3.12/site-packages/torch/utils/data/dataloader.py\", line 1477, in __del__\n",
      "    self._shutdown_workers()\n",
      "  File \"/scratch/mtmoore/local/miniconda/envs/csiml-final-ultralytics/lib/python3.12/site-packages/torch/utils/data/dataloader.py\", line 1460, in _shutdown_workers\n",
      "    if w.is_alive():\n",
      "       ^^^^^^^^^^^^\n",
      "  File \"/scratch/mtmoore/local/miniconda/envs/csiml-final-ultralytics/lib/python3.12/multiprocessing/process.py\", line 160, in is_alive\n",
      "    assert self._parent_pid == os.getpid(), 'can only test a child process'\n",
      "           ^^^^^^^^^^^^^^^^^^^^^^^^^^^^^^^\n",
      "AssertionError: can only test a child process\n",
      "Exception ignored in: <function _MultiProcessingDataLoaderIter.__del__ at 0x7f0c28239d00>\n",
      "Traceback (most recent call last):\n",
      "  File \"/scratch/mtmoore/local/miniconda/envs/csiml-final-ultralytics/lib/python3.12/site-packages/torch/utils/data/dataloader.py\", line 1477, in __del__\n",
      "    self._shutdown_workers()\n",
      "  File \"/scratch/mtmoore/local/miniconda/envs/csiml-final-ultralytics/lib/python3.12/site-packages/torch/utils/data/dataloader.py\", line 1460, in _shutdown_workers\n",
      "    if w.is_alive():\n",
      "       ^^^^^^^^^^^^\n",
      "  File \"/scratch/mtmoore/local/miniconda/envs/csiml-final-ultralytics/lib/python3.12/multiprocessing/process.py\", line 160, in is_alive\n",
      "    assert self._parent_pid == os.getpid(), 'can only test a child process'\n",
      "                 Class     Images  Instances      Box(P          R      mAP50  mAP50-95):   8%|▊         | 23/283 [00:06<01:11,  3.62it/s]^^^^\n",
      "AssertionError: can only test a child process\n",
      "Exception ignored in: <function _MultiProcessingDataLoaderIter.__del__ at 0x7f0c28239d00>\n",
      "Traceback (most recent call last):\n",
      "  File \"/scratch/mtmoore/local/miniconda/envs/csiml-final-ultralytics/lib/python3.12/site-packages/torch/utils/data/dataloader.py\", line 1477, in __del__\n",
      "    self._shutdown_workers()\n",
      "  File \"/scratch/mtmoore/local/miniconda/envs/csiml-final-ultralytics/lib/python3.12/site-packages/torch/utils/data/dataloader.py\", line 1460, in _shutdown_workers\n",
      "    if w.is_alive(): \n",
      "      ^^^^^^^^^^^^\n",
      "  File \"/scratch/mtmoore/local/miniconda/envs/csiml-final-ultralytics/lib/python3.12/multiprocessing/process.py\", line 160, in is_alive\n",
      "    assert self._parent_pid == os.getpid(), 'can only test a child process'\n",
      "           ^^^^^^^^^^^^^^^^^^^^^^^^^^^^^^^\n",
      "AssertionError: can only test a child process\n",
      "                 Class     Images  Instances      Box(P          R      mAP50  mAP50-95):  13%|█▎        | 36/283 [00:09<01:05,  3.79it/s]Exception ignored in: <function _MultiProcessingDataLoaderIter.__del__ at 0x7f0c28239d00>\n",
      "Traceback (most recent call last):\n",
      "  File \"/scratch/mtmoore/local/miniconda/envs/csiml-final-ultralytics/lib/python3.12/site-packages/torch/utils/data/dataloader.py\", line 1477, in __del__\n",
      "    self._shutdown_workers()\n",
      "  File \"/scratch/mtmoore/local/miniconda/envs/csiml-final-ultralytics/lib/python3.12/site-packages/torch/utils/data/dataloader.py\", line 1460, in _shutdown_workers\n",
      "    if w.is_alive():\n",
      "       ^^^^^^^^^^^^\n",
      "  File \"/scratch/mtmoore/local/miniconda/envs/csiml-final-ultralytics/lib/python3.12/multiprocessing/process.py\", line 160, in is_alive\n",
      "    assert self._parent_pid == os.getpid(), 'can only test a child process'\n",
      "           ^^^^^^^^^^^^^^^^^^^^^^^^^^^^^^^\n",
      "AssertionError: can only test a child process\n",
      "                 Class     Images  Instances      Box(P          R      mAP50  mAP50-95):  13%|█▎        | 37/283 [00:09<01:05,  3.74it/s]\n",
      "Traceback (most recent call last):\n",
      "  File \"/scratch/mtmoore/local/miniconda/envs/csiml-final-ultralytics/lib/python3.12/site-packages/torch/utils/data/dataloader.py\", line 1477, in __del__\n",
      "    self._shutdown_workers()\n",
      "  File \"/scratch/mtmoore/local/miniconda/envs/csiml-final-ultralytics/lib/python3.12/site-packages/torch/utils/data/dataloader.py\", line 1460, in _shutdown_workers\n",
      "    if w.is_alive():\n",
      "       ^^^^^^^^^^^^\n",
      "  File \"/scratch/mtmoore/local/miniconda/envs/csiml-final-ultralytics/lib/python3.12/multiprocessing/process.py\", line 160, in is_alive\n",
      "    assert self._parent_pid == os.getpid(), 'can only test a child process'\n",
      "           ^^^^^^^^^^^^^^^^^^^^^^^^^^^^^^^\n",
      "AssertionError: can only test a child process\n",
      "Exception ignored in: <function _MultiProcessingDataLoaderIter.__del__ at 0x7f0c28239d00>\n",
      "Traceback (most recent call last):\n",
      "  File \"/scratch/mtmoore/local/miniconda/envs/csiml-final-ultralytics/lib/python3.12/site-packages/torch/utils/data/dataloader.py\", line 1477, in __del__\n",
      "    self._shutdown_workers()\n",
      "  File \"/scratch/mtmoore/local/miniconda/envs/csiml-final-ultralytics/lib/python3.12/site-packages/torch/utils/data/dataloader.py\", line 1460, in _shutdown_workers\n",
      "    if w.is_alive():\n",
      "       ^^^^^^^^^^^^\n",
      "  File \"/scratch/mtmoore/local/miniconda/envs/csiml-final-ultralytics/lib/python3.12/multiprocessing/process.py\", line 160, in is_alive\n",
      "    assert self._parent_pid == os.getpid(), 'can only test a child process'\n",
      "           ^^^^^^^^^^^^^^^^^^^^^^^^^^^^^^^\n",
      "AssertionError: can only test a child process\n",
      "                 Class     Images  Instances      Box(P          R      mAP50  mAP50-95):  21%|██        | 59/283 [00:15<01:01,  3.65it/s]Exception ignored in: <function _MultiProcessingDataLoaderIter.__del__ at 0x7f0c28239d00>\n",
      "Traceback (most recent call last):\n",
      "  File \"/scratch/mtmoore/local/miniconda/envs/csiml-final-ultralytics/lib/python3.12/site-packages/torch/utils/data/dataloader.py\", line 1477, in __del__\n",
      "    self._shutdown_workers()\n",
      "  File \"/scratch/mtmoore/local/miniconda/envs/csiml-final-ultralytics/lib/python3.12/site-packages/torch/utils/data/dataloader.py\", line 1460, in _shutdown_workers\n",
      "    if w.is_alive():\n",
      "       ^^^^^^^^^^^^\n",
      "  File \"/scratch/mtmoore/local/miniconda/envs/csiml-final-ultralytics/lib/python3.12/multiprocessing/process.py\", line 160, in is_alive\n",
      "    assert self._parent_pid == os.getpid(), 'can only test a child process'\n",
      "                 Class     Images  Instances      Box(P          R      mAP50  mAP50-95):  21%|██        | 60/283 [00:16<01:01,  3.64it/s]^^^^^^^^^^^^^^^^^^^^^^^^^\n",
      "AssertionError: can only test a child process\n",
      "Exception ignored in: <function _MultiProcessingDataLoaderIter.__del__ at 0x7f0c28239d00>\n",
      "Traceback (most recent call last):\n",
      "  File \"/scratch/mtmoore/local/miniconda/envs/csiml-final-ultralytics/lib/python3.12/site-packages/torch/utils/data/dataloader.py\", line 1477, in __del__\n",
      "    self._shutdown_workers()\n",
      "  File \"/scratch/mtmoore/local/miniconda/envs/csiml-final-ultralytics/lib/python3.12/site-packages/torch/utils/data/dataloader.py\", line 1460, in _shutdown_workers\n",
      "    if w.is_alive(): \n",
      "      ^^^^^^^^^^^^\n",
      "  File \"/scratch/mtmoore/local/miniconda/envs/csiml-final-ultralytics/lib/python3.12/multiprocessing/process.py\", line 160, in is_alive\n",
      "    assert self._parent_pid == os.getpid(), 'can only test a child process'\n",
      "           ^^^^^^^^^^^^^^^^^^^^^^^^^^^^^^^\n",
      "AssertionError: can only test a child process\n",
      "Exception ignored in: <function _MultiProcessingDataLoaderIter.__del__ at 0x7f0c28239d00>\n",
      "Traceback (most recent call last):\n",
      "  File \"/scratch/mtmoore/local/miniconda/envs/csiml-final-ultralytics/lib/python3.12/site-packages/torch/utils/data/dataloader.py\", line 1477, in __del__\n",
      "    self._shutdown_workers()\n",
      "  File \"/scratch/mtmoore/local/miniconda/envs/csiml-final-ultralytics/lib/python3.12/site-packages/torch/utils/data/dataloader.py\", line 1460, in _shutdown_workers\n",
      "    if w.is_alive():\n",
      "       ^^^^^^^^^^^^\n",
      "  File \"/scratch/mtmoore/local/miniconda/envs/csiml-final-ultralytics/lib/python3.12/multiprocessing/process.py\", line 160, in is_alive\n",
      "    assert self._parent_pid == os.getpid(), 'can only test a child process'\n",
      "           ^^^^^^^^^^^^^^^^^^^^^^^^^^^^^^^\n",
      "AssertionError: can only test a child process\n",
      "                 Class     Images  Instances      Box(P          R      mAP50  mAP50-95):  23%|██▎       | 65/283 [00:17<01:01,  3.57it/s]Exception ignored in: <function _MultiProcessingDataLoaderIter.__del__ at 0x7f0c28239d00>\n",
      "Traceback (most recent call last):\n",
      "  File \"/scratch/mtmoore/local/miniconda/envs/csiml-final-ultralytics/lib/python3.12/site-packages/torch/utils/data/dataloader.py\", line 1477, in __del__\n",
      "    self._shutdown_workers()\n",
      "  File \"/scratch/mtmoore/local/miniconda/envs/csiml-final-ultralytics/lib/python3.12/site-packages/torch/utils/data/dataloader.py\", line 1460, in _shutdown_workers\n",
      "    if w.is_alive():\n",
      "       ^^^^^^^^^^^^\n",
      "  File \"/scratch/mtmoore/local/miniconda/envs/csiml-final-ultralytics/lib/python3.12/multiprocessing/process.py\", line 160, in is_alive\n",
      "    assert self._parent_pid == os.getpid(), 'can only test a child process'\n",
      "                 Class     Images  Instances      Box(P          R      mAP50  mAP50-95):  23%|██▎       | 66/283 [00:17<00:59,  3.65it/s]^^^^^^^^^^^^^^^^^^^^^^^^^^^^^\n",
      "AssertionError: can only test a child process\n",
      "Exception ignored in: <function _MultiProcessingDataLoaderIter.__del__ at 0x7f0c28239d00>\n",
      "Traceback (most recent call last):\n",
      "  File \"/scratch/mtmoore/local/miniconda/envs/csiml-final-ultralytics/lib/python3.12/site-packages/torch/utils/data/dataloader.py\", line 1477, in __del__\n",
      "    self._shutdown_workers()\n",
      "  File \"/scratch/mtmoore/local/miniconda/envs/csiml-final-ultralytics/lib/python3.12/site-packages/torch/utils/data/dataloader.py\", line 1460, in _shutdown_workers\n",
      "    if w.is_alive():\n",
      "       ^^^^^^^^^^^^\n",
      "  File \"/scratch/mtmoore/local/miniconda/envs/csiml-final-ultralytics/lib/python3.12/multiprocessing/process.py\", line 160, in is_alive\n",
      "    assert self._parent_pid == os.getpid(), 'can only test a child process'\n",
      "           ^^^^^^^^^^^^^^^^^^^^^^^^^^^^^^^\n",
      "AssertionError: can only test a child process\n",
      "Exception ignored in: <function _MultiProcessingDataLoaderIter.__del__ at 0x7f0c28239d00>\n",
      "Traceback (most recent call last):\n",
      "  File \"/scratch/mtmoore/local/miniconda/envs/csiml-final-ultralytics/lib/python3.12/site-packages/torch/utils/data/dataloader.py\", line 1477, in __del__\n",
      "    self._shutdown_workers()\n",
      "  File \"/scratch/mtmoore/local/miniconda/envs/csiml-final-ultralytics/lib/python3.12/site-packages/torch/utils/data/dataloader.py\", line 1460, in _shutdown_workers\n",
      "    if w.is_alive():\n",
      "       ^^^^^^^Exception ignored in: ^<function _MultiProcessingDataLoaderIter.__del__ at 0x7f0c28239d00>^\n",
      "^Traceback (most recent call last):\n",
      "^^  File \"/scratch/mtmoore/local/miniconda/envs/csiml-final-ultralytics/lib/python3.12/site-packages/torch/utils/data/dataloader.py\", line 1477, in __del__\n",
      "\n",
      "      File \"/scratch/mtmoore/local/miniconda/envs/csiml-final-ultralytics/lib/python3.12/multiprocessing/process.py\", line 160, in is_alive\n",
      "self._shutdown_workers()    \n",
      "assert self._parent_pid == os.getpid(), 'can only test a child process'  File \"/scratch/mtmoore/local/miniconda/envs/csiml-final-ultralytics/lib/python3.12/site-packages/torch/utils/data/dataloader.py\", line 1460, in _shutdown_workers\n",
      "\n",
      "      if w.is_alive(): \n",
      "               ^^^^^^^^^^^^^^^^^^^^^^^\n",
      "^  File \"/scratch/mtmoore/local/miniconda/envs/csiml-final-ultralytics/lib/python3.12/multiprocessing/process.py\", line 160, in is_alive\n",
      "^^    ^assert self._parent_pid == os.getpid(), 'can only test a child process'^\n",
      " ^ ^ ^^ ^ ^ ^^ ^ ^ ^ ^ ^^^^^^^\n",
      "AssertionError^: ^can only test a child process^\n",
      "^^^^^^^^^^^^^^^^^^^^^^^^\n",
      "AssertionError: can only test a child process\n",
      "Exception ignored in: <function _MultiProcessingDataLoaderIter.__del__ at 0x7f0c28239d00>\n",
      "Traceback (most recent call last):\n",
      "  File \"/scratch/mtmoore/local/miniconda/envs/csiml-final-ultralytics/lib/python3.12/site-packages/torch/utils/data/dataloader.py\", line 1477, in __del__\n",
      "    self._shutdown_workers()\n",
      "  File \"/scratch/mtmoore/local/miniconda/envs/csiml-final-ultralytics/lib/python3.12/site-packages/torch/utils/data/dataloader.py\", line 1460, in _shutdown_workers\n",
      "    if w.is_alive():\n",
      "       ^^^^^^^^^^^^\n",
      "  File \"/scratch/mtmoore/local/miniconda/envs/csiml-final-ultralytics/lib/python3.12/multiprocessing/process.py\", line 160, in is_alive\n",
      "    assert self._parent_pid == os.getpid(), 'can only test a child process'\n",
      "                 Class     Images  Instances      Box(P          R      mAP50  mAP50-95):  24%|██▎       | 67/283 [00:18<00:59,  3.66it/s]^^^^^^^^^^^^^^^^\n",
      "AssertionError: can only test a child process\n",
      "Exception ignored in: <function _MultiProcessingDataLoaderIter.__del__ at 0x7f0c28239d00>\n",
      "Traceback (most recent call last):\n",
      "  File \"/scratch/mtmoore/local/miniconda/envs/csiml-final-ultralytics/lib/python3.12/site-packages/torch/utils/data/dataloader.py\", line 1477, in __del__\n",
      "    self._shutdown_workers()\n",
      "  File \"/scratch/mtmoore/local/miniconda/envs/csiml-final-ultralytics/lib/python3.12/site-packages/torch/utils/data/dataloader.py\", line 1460, in _shutdown_workers\n",
      "    if w.is_alive():\n",
      "       ^^^^^^^^^^^^\n",
      "  File \"/scratch/mtmoore/local/miniconda/envs/csiml-final-ultralytics/lib/python3.12/multiprocessing/process.py\", line 160, in is_alive\n",
      "    assert self._parent_pid == os.getpid(), 'can only test a child process'\n",
      "           ^^^^^^^^^^^^^^^^^^^^^^^^^^^^^^^\n",
      "AssertionError: can only test a child process\n",
      "                 Class     Images  Instances      Box(P          R      mAP50  mAP50-95): 100%|██████████| 283/283 [01:16<00:00,  3.68it/s]\n"
     ]
    },
    {
     "name": "stdout",
     "output_type": "stream",
     "text": [
      "                   all        283        514       0.93      0.927      0.962      0.704\n",
      "Speed: 197.5ms preprocess, 62.8ms inference, 0.0ms loss, 2.0ms postprocess per image\n",
      "Saving /data/mtmoore/school/CSiML_AI395T/final_project/models/yolo11/iterative/validation/11s_3840imgsz_combined_86epochs-val/predictions.json...\n",
      "Results saved to \u001b[1m/data/mtmoore/school/CSiML_AI395T/final_project/models/yolo11/iterative/validation/11s_3840imgsz_combined_86epochs-val\u001b[0m\n",
      "Generating validation for model: yolo11s, image size: 3840px, epoch: 87\n",
      "Ultralytics 8.3.29 🚀 Python-3.12.7 torch-2.4.0 CUDA:0 (NVIDIA GeForce RTX 4070 SUPER, 11904MiB)\n",
      "YOLO11s summary (fused): 238 layers, 9,413,187 parameters, 0 gradients, 21.3 GFLOPs\n"
     ]
    },
    {
     "name": "stderr",
     "output_type": "stream",
     "text": [
      "\u001b[34m\u001b[1mval: \u001b[0mScanning val/labels.cache... 283 images, 0 backgrounds, 0 corrupt: 100%|██████████| 283/283 [00:00<?, ?it/s]\u001b[0m\n",
      "                 Class     Images  Instances      Box(P          R      mAP50  mAP50-95): 100%|██████████| 283/283 [01:17<00:00,  3.64it/s]\n"
     ]
    },
    {
     "name": "stdout",
     "output_type": "stream",
     "text": [
      "                   all        283        514      0.914      0.934      0.963      0.698\n",
      "Speed: 198.4ms preprocess, 62.9ms inference, 0.0ms loss, 2.1ms postprocess per image\n",
      "Saving /data/mtmoore/school/CSiML_AI395T/final_project/models/yolo11/iterative/validation/11s_3840imgsz_combined_87epochs-val/predictions.json...\n",
      "Results saved to \u001b[1m/data/mtmoore/school/CSiML_AI395T/final_project/models/yolo11/iterative/validation/11s_3840imgsz_combined_87epochs-val\u001b[0m\n",
      "Generating validation for model: yolo11s, image size: 3840px, epoch: 88\n",
      "Ultralytics 8.3.29 🚀 Python-3.12.7 torch-2.4.0 CUDA:0 (NVIDIA GeForce RTX 4070 SUPER, 11904MiB)\n",
      "YOLO11s summary (fused): 238 layers, 9,413,187 parameters, 0 gradients, 21.3 GFLOPs\n"
     ]
    },
    {
     "name": "stderr",
     "output_type": "stream",
     "text": [
      "\u001b[34m\u001b[1mval: \u001b[0mScanning val/labels.cache... 283 images, 0 backgrounds, 0 corrupt: 100%|██████████| 283/283 [00:00<?, ?it/s]\u001b[0m\n",
      "                 Class     Images  Instances      Box(P          R      mAP50  mAP50-95): 100%|██████████| 283/283 [01:16<00:00,  3.68it/s]\n"
     ]
    },
    {
     "name": "stdout",
     "output_type": "stream",
     "text": [
      "                   all        283        514      0.936      0.915      0.954      0.689\n",
      "Speed: 196.0ms preprocess, 62.8ms inference, 0.0ms loss, 2.1ms postprocess per image\n",
      "Saving /data/mtmoore/school/CSiML_AI395T/final_project/models/yolo11/iterative/validation/11s_3840imgsz_combined_88epochs-val/predictions.json...\n",
      "Results saved to \u001b[1m/data/mtmoore/school/CSiML_AI395T/final_project/models/yolo11/iterative/validation/11s_3840imgsz_combined_88epochs-val\u001b[0m\n",
      "Generating validation for model: yolo11s, image size: 3840px, epoch: 89\n",
      "Ultralytics 8.3.29 🚀 Python-3.12.7 torch-2.4.0 CUDA:0 (NVIDIA GeForce RTX 4070 SUPER, 11904MiB)\n",
      "YOLO11s summary (fused): 238 layers, 9,413,187 parameters, 0 gradients, 21.3 GFLOPs\n"
     ]
    },
    {
     "name": "stderr",
     "output_type": "stream",
     "text": [
      "\u001b[34m\u001b[1mval: \u001b[0mScanning val/labels.cache... 283 images, 0 backgrounds, 0 corrupt: 100%|██████████| 283/283 [00:00<?, ?it/s]\u001b[0m\n",
      "                 Class     Images  Instances      Box(P          R      mAP50  mAP50-95): 100%|██████████| 283/283 [01:17<00:00,  3.64it/s]\n"
     ]
    },
    {
     "name": "stdout",
     "output_type": "stream",
     "text": [
      "                   all        283        514      0.924      0.936      0.962      0.703\n",
      "Speed: 198.9ms preprocess, 62.8ms inference, 0.0ms loss, 2.1ms postprocess per image\n",
      "Saving /data/mtmoore/school/CSiML_AI395T/final_project/models/yolo11/iterative/validation/11s_3840imgsz_combined_89epochs-val/predictions.json...\n",
      "Results saved to \u001b[1m/data/mtmoore/school/CSiML_AI395T/final_project/models/yolo11/iterative/validation/11s_3840imgsz_combined_89epochs-val\u001b[0m\n",
      "Generating validation for model: yolo11s, image size: 3840px, epoch: 90\n",
      "Ultralytics 8.3.29 🚀 Python-3.12.7 torch-2.4.0 CUDA:0 (NVIDIA GeForce RTX 4070 SUPER, 11904MiB)\n",
      "YOLO11s summary (fused): 238 layers, 9,413,187 parameters, 0 gradients, 21.3 GFLOPs\n"
     ]
    },
    {
     "name": "stderr",
     "output_type": "stream",
     "text": [
      "\u001b[34m\u001b[1mval: \u001b[0mScanning val/labels.cache... 283 images, 0 backgrounds, 0 corrupt: 100%|██████████| 283/283 [00:00<?, ?it/s]\u001b[0m\n",
      "                 Class     Images  Instances      Box(P          R      mAP50  mAP50-95): 100%|██████████| 283/283 [01:17<00:00,  3.65it/s]\n"
     ]
    },
    {
     "name": "stdout",
     "output_type": "stream",
     "text": [
      "                   all        283        514      0.935      0.897      0.954      0.697\n",
      "Speed: 198.5ms preprocess, 62.8ms inference, 0.0ms loss, 2.1ms postprocess per image\n",
      "Saving /data/mtmoore/school/CSiML_AI395T/final_project/models/yolo11/iterative/validation/11s_3840imgsz_combined_90epochs-val/predictions.json...\n",
      "Results saved to \u001b[1m/data/mtmoore/school/CSiML_AI395T/final_project/models/yolo11/iterative/validation/11s_3840imgsz_combined_90epochs-val\u001b[0m\n",
      "Generating validation for model: yolo11s, image size: 3840px, epoch: 91\n",
      "Ultralytics 8.3.29 🚀 Python-3.12.7 torch-2.4.0 CUDA:0 (NVIDIA GeForce RTX 4070 SUPER, 11904MiB)\n",
      "YOLO11s summary (fused): 238 layers, 9,413,187 parameters, 0 gradients, 21.3 GFLOPs\n"
     ]
    },
    {
     "name": "stderr",
     "output_type": "stream",
     "text": [
      "\u001b[34m\u001b[1mval: \u001b[0mScanning val/labels.cache... 283 images, 0 backgrounds, 0 corrupt: 100%|██████████| 283/283 [00:00<?, ?it/s]\u001b[0m\n",
      "                 Class     Images  Instances      Box(P          R      mAP50  mAP50-95): 100%|██████████| 283/283 [01:17<00:00,  3.64it/s]\n"
     ]
    },
    {
     "name": "stdout",
     "output_type": "stream",
     "text": [
      "                   all        283        514      0.946      0.895      0.957      0.702\n",
      "Speed: 198.2ms preprocess, 62.8ms inference, 0.0ms loss, 2.0ms postprocess per image\n",
      "Saving /data/mtmoore/school/CSiML_AI395T/final_project/models/yolo11/iterative/validation/11s_3840imgsz_combined_91epochs-val/predictions.json...\n",
      "Results saved to \u001b[1m/data/mtmoore/school/CSiML_AI395T/final_project/models/yolo11/iterative/validation/11s_3840imgsz_combined_91epochs-val\u001b[0m\n",
      "Generating validation for model: yolo11s, image size: 3840px, epoch: 92\n",
      "Ultralytics 8.3.29 🚀 Python-3.12.7 torch-2.4.0 CUDA:0 (NVIDIA GeForce RTX 4070 SUPER, 11904MiB)\n",
      "YOLO11s summary (fused): 238 layers, 9,413,187 parameters, 0 gradients, 21.3 GFLOPs\n"
     ]
    },
    {
     "name": "stderr",
     "output_type": "stream",
     "text": [
      "\u001b[34m\u001b[1mval: \u001b[0mScanning val/labels.cache... 283 images, 0 backgrounds, 0 corrupt: 100%|██████████| 283/283 [00:00<?, ?it/s]\u001b[0m\n",
      "                 Class     Images  Instances      Box(P          R      mAP50  mAP50-95): 100%|██████████| 283/283 [01:18<00:00,  3.63it/s]\n"
     ]
    },
    {
     "name": "stdout",
     "output_type": "stream",
     "text": [
      "                   all        283        514      0.932      0.914      0.957      0.704\n",
      "Speed: 200.5ms preprocess, 62.8ms inference, 0.0ms loss, 2.1ms postprocess per image\n",
      "Saving /data/mtmoore/school/CSiML_AI395T/final_project/models/yolo11/iterative/validation/11s_3840imgsz_combined_92epochs-val/predictions.json...\n",
      "Results saved to \u001b[1m/data/mtmoore/school/CSiML_AI395T/final_project/models/yolo11/iterative/validation/11s_3840imgsz_combined_92epochs-val\u001b[0m\n",
      "Generating validation for model: yolo11s, image size: 3840px, epoch: 93\n",
      "Ultralytics 8.3.29 🚀 Python-3.12.7 torch-2.4.0 CUDA:0 (NVIDIA GeForce RTX 4070 SUPER, 11904MiB)\n",
      "YOLO11s summary (fused): 238 layers, 9,413,187 parameters, 0 gradients, 21.3 GFLOPs\n"
     ]
    },
    {
     "name": "stderr",
     "output_type": "stream",
     "text": [
      "\u001b[34m\u001b[1mval: \u001b[0mScanning val/labels.cache... 283 images, 0 backgrounds, 0 corrupt: 100%|██████████| 283/283 [00:00<?, ?it/s]\u001b[0m\n",
      "                 Class     Images  Instances      Box(P          R      mAP50  mAP50-95): 100%|██████████| 283/283 [01:17<00:00,  3.63it/s]\n"
     ]
    },
    {
     "name": "stdout",
     "output_type": "stream",
     "text": [
      "                   all        283        514      0.942      0.918       0.96      0.704\n",
      "Speed: 199.7ms preprocess, 62.8ms inference, 0.0ms loss, 2.1ms postprocess per image\n",
      "Saving /data/mtmoore/school/CSiML_AI395T/final_project/models/yolo11/iterative/validation/11s_3840imgsz_combined_93epochs-val/predictions.json...\n",
      "Results saved to \u001b[1m/data/mtmoore/school/CSiML_AI395T/final_project/models/yolo11/iterative/validation/11s_3840imgsz_combined_93epochs-val\u001b[0m\n",
      "Generating validation for model: yolo11s, image size: 3840px, epoch: 94\n",
      "Ultralytics 8.3.29 🚀 Python-3.12.7 torch-2.4.0 CUDA:0 (NVIDIA GeForce RTX 4070 SUPER, 11904MiB)\n",
      "YOLO11s summary (fused): 238 layers, 9,413,187 parameters, 0 gradients, 21.3 GFLOPs\n"
     ]
    },
    {
     "name": "stderr",
     "output_type": "stream",
     "text": [
      "\u001b[34m\u001b[1mval: \u001b[0mScanning val/labels.cache... 283 images, 0 backgrounds, 0 corrupt: 100%|██████████| 283/283 [00:00<?, ?it/s]\u001b[0m\n",
      "                 Class     Images  Instances      Box(P          R      mAP50  mAP50-95): 100%|██████████| 283/283 [03:18<00:00,  1.42it/s]  \n"
     ]
    },
    {
     "name": "stdout",
     "output_type": "stream",
     "text": [
      "                   all        283        514      0.928      0.905       0.95      0.697\n",
      "Speed: 200.0ms preprocess, 62.8ms inference, 0.0ms loss, 2.2ms postprocess per image\n",
      "Saving /data/mtmoore/school/CSiML_AI395T/final_project/models/yolo11/iterative/validation/11s_3840imgsz_combined_94epochs-val/predictions.json...\n",
      "Results saved to \u001b[1m/data/mtmoore/school/CSiML_AI395T/final_project/models/yolo11/iterative/validation/11s_3840imgsz_combined_94epochs-val\u001b[0m\n",
      "Generating validation for model: yolo11s, image size: 3840px, epoch: 95\n",
      "Ultralytics 8.3.29 🚀 Python-3.12.7 torch-2.4.0 CUDA:0 (NVIDIA GeForce RTX 4070 SUPER, 11904MiB)\n",
      "YOLO11s summary (fused): 238 layers, 9,413,187 parameters, 0 gradients, 21.3 GFLOPs\n"
     ]
    },
    {
     "name": "stderr",
     "output_type": "stream",
     "text": [
      "\u001b[34m\u001b[1mval: \u001b[0mScanning val/labels.cache... 283 images, 0 backgrounds, 0 corrupt: 100%|██████████| 283/283 [00:00<?, ?it/s]\u001b[0m\n",
      "                 Class     Images  Instances      Box(P          R      mAP50  mAP50-95): 100%|██████████| 283/283 [01:17<00:00,  3.65it/s]\n"
     ]
    },
    {
     "name": "stdout",
     "output_type": "stream",
     "text": [
      "                   all        283        514      0.941      0.911       0.96      0.696\n",
      "Speed: 197.6ms preprocess, 62.8ms inference, 0.0ms loss, 2.1ms postprocess per image\n",
      "Saving /data/mtmoore/school/CSiML_AI395T/final_project/models/yolo11/iterative/validation/11s_3840imgsz_combined_95epochs-val/predictions.json...\n",
      "Results saved to \u001b[1m/data/mtmoore/school/CSiML_AI395T/final_project/models/yolo11/iterative/validation/11s_3840imgsz_combined_95epochs-val\u001b[0m\n",
      "Generating validation for model: yolo11s, image size: 3840px, epoch: 96\n",
      "Ultralytics 8.3.29 🚀 Python-3.12.7 torch-2.4.0 CUDA:0 (NVIDIA GeForce RTX 4070 SUPER, 11904MiB)\n",
      "YOLO11s summary (fused): 238 layers, 9,413,187 parameters, 0 gradients, 21.3 GFLOPs\n"
     ]
    },
    {
     "name": "stderr",
     "output_type": "stream",
     "text": [
      "\u001b[34m\u001b[1mval: \u001b[0mScanning val/labels.cache... 283 images, 0 backgrounds, 0 corrupt: 100%|██████████| 283/283 [00:00<?, ?it/s]\u001b[0m\n",
      "                 Class     Images  Instances      Box(P          R      mAP50  mAP50-95): 100%|██████████| 283/283 [01:17<00:00,  3.66it/s]\n"
     ]
    },
    {
     "name": "stdout",
     "output_type": "stream",
     "text": [
      "                   all        283        514      0.928      0.907      0.956      0.691\n",
      "Speed: 196.4ms preprocess, 62.7ms inference, 0.0ms loss, 2.0ms postprocess per image\n",
      "Saving /data/mtmoore/school/CSiML_AI395T/final_project/models/yolo11/iterative/validation/11s_3840imgsz_combined_96epochs-val/predictions.json...\n",
      "Results saved to \u001b[1m/data/mtmoore/school/CSiML_AI395T/final_project/models/yolo11/iterative/validation/11s_3840imgsz_combined_96epochs-val\u001b[0m\n",
      "Generating validation for model: yolo11s, image size: 3840px, epoch: 97\n",
      "Ultralytics 8.3.29 🚀 Python-3.12.7 torch-2.4.0 CUDA:0 (NVIDIA GeForce RTX 4070 SUPER, 11904MiB)\n",
      "YOLO11s summary (fused): 238 layers, 9,413,187 parameters, 0 gradients, 21.3 GFLOPs\n"
     ]
    },
    {
     "name": "stderr",
     "output_type": "stream",
     "text": [
      "\u001b[34m\u001b[1mval: \u001b[0mScanning val/labels.cache... 283 images, 0 backgrounds, 0 corrupt: 100%|██████████| 283/283 [00:00<?, ?it/s]\u001b[0m\n",
      "                 Class     Images  Instances      Box(P          R      mAP50  mAP50-95): 100%|██████████| 283/283 [01:17<00:00,  3.66it/s]\n"
     ]
    },
    {
     "name": "stdout",
     "output_type": "stream",
     "text": [
      "                   all        283        514      0.923      0.924      0.955      0.696\n",
      "Speed: 196.6ms preprocess, 62.8ms inference, 0.0ms loss, 2.1ms postprocess per image\n",
      "Saving /data/mtmoore/school/CSiML_AI395T/final_project/models/yolo11/iterative/validation/11s_3840imgsz_combined_97epochs-val/predictions.json...\n",
      "Results saved to \u001b[1m/data/mtmoore/school/CSiML_AI395T/final_project/models/yolo11/iterative/validation/11s_3840imgsz_combined_97epochs-val\u001b[0m\n",
      "Generating validation for model: yolo11s, image size: 3840px, epoch: 98\n",
      "Ultralytics 8.3.29 🚀 Python-3.12.7 torch-2.4.0 CUDA:0 (NVIDIA GeForce RTX 4070 SUPER, 11904MiB)\n",
      "YOLO11s summary (fused): 238 layers, 9,413,187 parameters, 0 gradients, 21.3 GFLOPs\n"
     ]
    },
    {
     "name": "stderr",
     "output_type": "stream",
     "text": [
      "\u001b[34m\u001b[1mval: \u001b[0mScanning val/labels.cache... 283 images, 0 backgrounds, 0 corrupt: 100%|██████████| 283/283 [00:00<?, ?it/s]\u001b[0m\n",
      "                 Class     Images  Instances      Box(P          R      mAP50  mAP50-95): 100%|██████████| 283/283 [01:16<00:00,  3.68it/s]\n"
     ]
    },
    {
     "name": "stdout",
     "output_type": "stream",
     "text": [
      "                   all        283        514      0.924      0.934      0.956      0.688\n",
      "Speed: 195.2ms preprocess, 62.8ms inference, 0.0ms loss, 2.0ms postprocess per image\n",
      "Saving /data/mtmoore/school/CSiML_AI395T/final_project/models/yolo11/iterative/validation/11s_3840imgsz_combined_98epochs-val/predictions.json...\n",
      "Results saved to \u001b[1m/data/mtmoore/school/CSiML_AI395T/final_project/models/yolo11/iterative/validation/11s_3840imgsz_combined_98epochs-val\u001b[0m\n",
      "Generating validation for model: yolo11s, image size: 3840px, epoch: 99\n",
      "Ultralytics 8.3.29 🚀 Python-3.12.7 torch-2.4.0 CUDA:0 (NVIDIA GeForce RTX 4070 SUPER, 11904MiB)\n",
      "YOLO11s summary (fused): 238 layers, 9,413,187 parameters, 0 gradients, 21.3 GFLOPs\n"
     ]
    },
    {
     "name": "stderr",
     "output_type": "stream",
     "text": [
      "\u001b[34m\u001b[1mval: \u001b[0mScanning val/labels.cache... 283 images, 0 backgrounds, 0 corrupt: 100%|██████████| 283/283 [00:00<?, ?it/s]\u001b[0m\n",
      "                 Class     Images  Instances      Box(P          R      mAP50  mAP50-95):  91%|█████████ | 257/283 [01:09<00:07,  3.69it/s]IOStream.flush timed out\n",
      "                 Class     Images  Instances      Box(P          R      mAP50  mAP50-95):  91%|█████████ | 258/283 [01:19<01:20,  3.21s/it]IOStream.flush timed out\n",
      "                 Class     Images  Instances      Box(P          R      mAP50  mAP50-95):  92%|█████████▏| 259/283 [01:30<02:06,  5.27s/it]IOStream.flush timed out\n",
      "                 Class     Images  Instances      Box(P          R      mAP50  mAP50-95):  92%|█████████▏| 260/283 [01:40<02:34,  6.71s/it]IOStream.flush timed out\n",
      "                 Class     Images  Instances      Box(P          R      mAP50  mAP50-95):  92%|█████████▏| 261/283 [01:50<02:49,  7.72s/it]IOStream.flush timed out\n",
      "                 Class     Images  Instances      Box(P          R      mAP50  mAP50-95):  93%|█████████▎| 262/283 [02:00<02:57,  8.43s/it]IOStream.flush timed out\n",
      "                 Class     Images  Instances      Box(P          R      mAP50  mAP50-95):  93%|█████████▎| 263/283 [02:10<02:58,  8.92s/it]IOStream.flush timed out\n",
      "                 Class     Images  Instances      Box(P          R      mAP50  mAP50-95):  93%|█████████▎| 264/283 [02:20<02:56,  9.27s/it]IOStream.flush timed out\n",
      "                 Class     Images  Instances      Box(P          R      mAP50  mAP50-95): 100%|██████████| 283/283 [02:35<00:00,  1.82it/s]\n"
     ]
    },
    {
     "name": "stdout",
     "output_type": "stream",
     "text": [
      "                   all        283        514      0.925      0.932      0.963      0.704\n",
      "Speed: 191.5ms preprocess, 62.8ms inference, 0.0ms loss, 2.1ms postprocess per image\n",
      "Saving /data/mtmoore/school/CSiML_AI395T/final_project/models/yolo11/iterative/validation/11s_3840imgsz_combined_99epochs-val/predictions.json...\n",
      "Results saved to \u001b[1m/data/mtmoore/school/CSiML_AI395T/final_project/models/yolo11/iterative/validation/11s_3840imgsz_combined_99epochs-val\u001b[0m\n",
      "Generating validation for model: yolo11s, image size: 3840px, epoch: 100\n",
      "Ultralytics 8.3.29 🚀 Python-3.12.7 torch-2.4.0 CUDA:0 (NVIDIA GeForce RTX 4070 SUPER, 11904MiB)\n",
      "YOLO11s summary (fused): 238 layers, 9,413,187 parameters, 0 gradients, 21.3 GFLOPs\n"
     ]
    },
    {
     "name": "stderr",
     "output_type": "stream",
     "text": [
      "\u001b[34m\u001b[1mval: \u001b[0mScanning val/labels.cache... 283 images, 0 backgrounds, 0 corrupt: 100%|██████████| 283/283 [00:00<?, ?it/s]\u001b[0m\n",
      "                 Class     Images  Instances      Box(P          R      mAP50  mAP50-95): 100%|██████████| 283/283 [01:17<00:00,  3.65it/s]\n"
     ]
    },
    {
     "name": "stdout",
     "output_type": "stream",
     "text": [
      "                   all        283        514      0.927      0.933       0.96       0.71\n",
      "Speed: 197.0ms preprocess, 62.8ms inference, 0.0ms loss, 2.1ms postprocess per image\n",
      "Saving /data/mtmoore/school/CSiML_AI395T/final_project/models/yolo11/iterative/validation/11s_3840imgsz_combined_100epochs-val/predictions.json...\n",
      "Results saved to \u001b[1m/data/mtmoore/school/CSiML_AI395T/final_project/models/yolo11/iterative/validation/11s_3840imgsz_combined_100epochs-val\u001b[0m\n",
      "Generating validation for model: yolo11s, image size: 3840px, epoch: 101\n",
      "Ultralytics 8.3.29 🚀 Python-3.12.7 torch-2.4.0 CUDA:0 (NVIDIA GeForce RTX 4070 SUPER, 11904MiB)\n",
      "YOLO11s summary (fused): 238 layers, 9,413,187 parameters, 0 gradients, 21.3 GFLOPs\n"
     ]
    },
    {
     "name": "stderr",
     "output_type": "stream",
     "text": [
      "\u001b[34m\u001b[1mval: \u001b[0mScanning val/labels.cache... 283 images, 0 backgrounds, 0 corrupt: 100%|██████████| 283/283 [00:00<?, ?it/s]\u001b[0m\n",
      "                 Class     Images  Instances      Box(P          R      mAP50  mAP50-95): 100%|██████████| 283/283 [01:16<00:00,  3.68it/s]\n"
     ]
    },
    {
     "name": "stdout",
     "output_type": "stream",
     "text": [
      "                   all        283        514      0.937      0.909      0.955      0.701\n",
      "Speed: 197.1ms preprocess, 62.8ms inference, 0.0ms loss, 2.0ms postprocess per image\n",
      "Saving /data/mtmoore/school/CSiML_AI395T/final_project/models/yolo11/iterative/validation/11s_3840imgsz_combined_101epochs-val/predictions.json...\n",
      "Results saved to \u001b[1m/data/mtmoore/school/CSiML_AI395T/final_project/models/yolo11/iterative/validation/11s_3840imgsz_combined_101epochs-val\u001b[0m\n",
      "Generating validation for model: yolo11s, image size: 3840px, epoch: 102\n",
      "Ultralytics 8.3.29 🚀 Python-3.12.7 torch-2.4.0 CUDA:0 (NVIDIA GeForce RTX 4070 SUPER, 11904MiB)\n",
      "YOLO11s summary (fused): 238 layers, 9,413,187 parameters, 0 gradients, 21.3 GFLOPs\n"
     ]
    },
    {
     "name": "stderr",
     "output_type": "stream",
     "text": [
      "\u001b[34m\u001b[1mval: \u001b[0mScanning val/labels.cache... 283 images, 0 backgrounds, 0 corrupt: 100%|██████████| 283/283 [00:00<?, ?it/s]\u001b[0m\n",
      "                 Class     Images  Instances      Box(P          R      mAP50  mAP50-95): 100%|██████████| 283/283 [01:17<00:00,  3.64it/s]\n"
     ]
    },
    {
     "name": "stdout",
     "output_type": "stream",
     "text": [
      "                   all        283        514      0.931      0.925      0.949      0.701\n",
      "Speed: 198.2ms preprocess, 62.8ms inference, 0.0ms loss, 2.2ms postprocess per image\n",
      "Saving /data/mtmoore/school/CSiML_AI395T/final_project/models/yolo11/iterative/validation/11s_3840imgsz_combined_102epochs-val/predictions.json...\n",
      "Results saved to \u001b[1m/data/mtmoore/school/CSiML_AI395T/final_project/models/yolo11/iterative/validation/11s_3840imgsz_combined_102epochs-val\u001b[0m\n",
      "Generating validation for model: yolo11s, image size: 3840px, epoch: 103\n",
      "Ultralytics 8.3.29 🚀 Python-3.12.7 torch-2.4.0 CUDA:0 (NVIDIA GeForce RTX 4070 SUPER, 11904MiB)\n",
      "YOLO11s summary (fused): 238 layers, 9,413,187 parameters, 0 gradients, 21.3 GFLOPs\n"
     ]
    },
    {
     "name": "stderr",
     "output_type": "stream",
     "text": [
      "\u001b[34m\u001b[1mval: \u001b[0mScanning val/labels.cache... 283 images, 0 backgrounds, 0 corrupt: 100%|██████████| 283/283 [00:00<?, ?it/s]\u001b[0m\n",
      "                 Class     Images  Instances      Box(P          R      mAP50  mAP50-95): 100%|██████████| 283/283 [01:18<00:00,  3.59it/s]\n"
     ]
    },
    {
     "name": "stdout",
     "output_type": "stream",
     "text": [
      "                   all        283        514      0.929      0.937       0.96      0.697\n",
      "Speed: 198.9ms preprocess, 62.9ms inference, 0.0ms loss, 2.2ms postprocess per image\n",
      "Saving /data/mtmoore/school/CSiML_AI395T/final_project/models/yolo11/iterative/validation/11s_3840imgsz_combined_103epochs-val/predictions.json...\n",
      "Results saved to \u001b[1m/data/mtmoore/school/CSiML_AI395T/final_project/models/yolo11/iterative/validation/11s_3840imgsz_combined_103epochs-val\u001b[0m\n",
      "Generating validation for model: yolo11s, image size: 3840px, epoch: 104\n",
      "Ultralytics 8.3.29 🚀 Python-3.12.7 torch-2.4.0 CUDA:0 (NVIDIA GeForce RTX 4070 SUPER, 11904MiB)\n",
      "YOLO11s summary (fused): 238 layers, 9,413,187 parameters, 0 gradients, 21.3 GFLOPs\n"
     ]
    },
    {
     "name": "stderr",
     "output_type": "stream",
     "text": [
      "\u001b[34m\u001b[1mval: \u001b[0mScanning val/labels.cache... 283 images, 0 backgrounds, 0 corrupt: 100%|██████████| 283/283 [00:00<?, ?it/s]\u001b[0m\n",
      "                 Class     Images  Instances      Box(P          R      mAP50  mAP50-95): 100%|██████████| 283/283 [01:17<00:00,  3.66it/s]\n"
     ]
    },
    {
     "name": "stdout",
     "output_type": "stream",
     "text": [
      "                   all        283        514      0.921       0.93       0.96      0.707\n",
      "Speed: 197.6ms preprocess, 62.8ms inference, 0.0ms loss, 2.0ms postprocess per image\n",
      "Saving /data/mtmoore/school/CSiML_AI395T/final_project/models/yolo11/iterative/validation/11s_3840imgsz_combined_104epochs-val/predictions.json...\n",
      "Results saved to \u001b[1m/data/mtmoore/school/CSiML_AI395T/final_project/models/yolo11/iterative/validation/11s_3840imgsz_combined_104epochs-val\u001b[0m\n",
      "Generating validation for model: yolo11s, image size: 3840px, epoch: 105\n",
      "Ultralytics 8.3.29 🚀 Python-3.12.7 torch-2.4.0 CUDA:0 (NVIDIA GeForce RTX 4070 SUPER, 11904MiB)\n",
      "YOLO11s summary (fused): 238 layers, 9,413,187 parameters, 0 gradients, 21.3 GFLOPs\n"
     ]
    },
    {
     "name": "stderr",
     "output_type": "stream",
     "text": [
      "\u001b[34m\u001b[1mval: \u001b[0mScanning val/labels.cache... 283 images, 0 backgrounds, 0 corrupt: 100%|██████████| 283/283 [00:00<?, ?it/s]\u001b[0m\n",
      "                 Class     Images  Instances      Box(P          R      mAP50  mAP50-95): 100%|██████████| 283/283 [01:16<00:00,  3.70it/s]\n"
     ]
    },
    {
     "name": "stdout",
     "output_type": "stream",
     "text": [
      "                   all        283        514      0.938      0.912      0.954      0.695\n",
      "Speed: 192.4ms preprocess, 62.8ms inference, 0.0ms loss, 2.2ms postprocess per image\n",
      "Saving /data/mtmoore/school/CSiML_AI395T/final_project/models/yolo11/iterative/validation/11s_3840imgsz_combined_105epochs-val/predictions.json...\n",
      "Results saved to \u001b[1m/data/mtmoore/school/CSiML_AI395T/final_project/models/yolo11/iterative/validation/11s_3840imgsz_combined_105epochs-val\u001b[0m\n",
      "Generating validation for model: yolo11s, image size: 3840px, epoch: 106\n",
      "Ultralytics 8.3.29 🚀 Python-3.12.7 torch-2.4.0 CUDA:0 (NVIDIA GeForce RTX 4070 SUPER, 11904MiB)\n",
      "YOLO11s summary (fused): 238 layers, 9,413,187 parameters, 0 gradients, 21.3 GFLOPs\n"
     ]
    },
    {
     "name": "stderr",
     "output_type": "stream",
     "text": [
      "\u001b[34m\u001b[1mval: \u001b[0mScanning val/labels.cache... 283 images, 0 backgrounds, 0 corrupt: 100%|██████████| 283/283 [00:00<?, ?it/s]\u001b[0m\n",
      "                 Class     Images  Instances      Box(P          R      mAP50  mAP50-95): 100%|██████████| 283/283 [01:17<00:00,  3.63it/s]\n"
     ]
    },
    {
     "name": "stdout",
     "output_type": "stream",
     "text": [
      "                   all        283        514      0.941      0.923      0.959      0.707\n",
      "Speed: 198.4ms preprocess, 63.0ms inference, 0.0ms loss, 2.2ms postprocess per image\n",
      "Saving /data/mtmoore/school/CSiML_AI395T/final_project/models/yolo11/iterative/validation/11s_3840imgsz_combined_106epochs-val/predictions.json...\n",
      "Results saved to \u001b[1m/data/mtmoore/school/CSiML_AI395T/final_project/models/yolo11/iterative/validation/11s_3840imgsz_combined_106epochs-val\u001b[0m\n",
      "Generating validation for model: yolo11s, image size: 3840px, epoch: 107\n",
      "Ultralytics 8.3.29 🚀 Python-3.12.7 torch-2.4.0 CUDA:0 (NVIDIA GeForce RTX 4070 SUPER, 11904MiB)\n",
      "YOLO11s summary (fused): 238 layers, 9,413,187 parameters, 0 gradients, 21.3 GFLOPs\n"
     ]
    },
    {
     "name": "stderr",
     "output_type": "stream",
     "text": [
      "\u001b[34m\u001b[1mval: \u001b[0mScanning val/labels.cache... 283 images, 0 backgrounds, 0 corrupt: 100%|██████████| 283/283 [00:00<?, ?it/s]\u001b[0m\n",
      "                 Class     Images  Instances      Box(P          R      mAP50  mAP50-95): 100%|██████████| 283/283 [01:17<00:00,  3.63it/s]\n"
     ]
    },
    {
     "name": "stdout",
     "output_type": "stream",
     "text": [
      "                   all        283        514      0.944      0.912      0.956      0.703\n",
      "Speed: 199.7ms preprocess, 62.9ms inference, 0.0ms loss, 2.1ms postprocess per image\n",
      "Saving /data/mtmoore/school/CSiML_AI395T/final_project/models/yolo11/iterative/validation/11s_3840imgsz_combined_107epochs-val/predictions.json...\n",
      "Results saved to \u001b[1m/data/mtmoore/school/CSiML_AI395T/final_project/models/yolo11/iterative/validation/11s_3840imgsz_combined_107epochs-val\u001b[0m\n",
      "Generating validation for model: yolo11s, image size: 3840px, epoch: 108\n",
      "Ultralytics 8.3.29 🚀 Python-3.12.7 torch-2.4.0 CUDA:0 (NVIDIA GeForce RTX 4070 SUPER, 11904MiB)\n",
      "YOLO11s summary (fused): 238 layers, 9,413,187 parameters, 0 gradients, 21.3 GFLOPs\n"
     ]
    },
    {
     "name": "stderr",
     "output_type": "stream",
     "text": [
      "\u001b[34m\u001b[1mval: \u001b[0mScanning val/labels.cache... 283 images, 0 backgrounds, 0 corrupt: 100%|██████████| 283/283 [00:00<?, ?it/s]\u001b[0m\n",
      "                 Class     Images  Instances      Box(P          R      mAP50  mAP50-95): 100%|██████████| 283/283 [03:13<00:00,  1.46it/s]\n"
     ]
    },
    {
     "name": "stdout",
     "output_type": "stream",
     "text": [
      "                   all        283        514      0.943      0.918      0.954        0.7\n",
      "Speed: 198.3ms preprocess, 62.8ms inference, 0.0ms loss, 2.1ms postprocess per image\n",
      "Saving /data/mtmoore/school/CSiML_AI395T/final_project/models/yolo11/iterative/validation/11s_3840imgsz_combined_108epochs-val/predictions.json...\n",
      "Results saved to \u001b[1m/data/mtmoore/school/CSiML_AI395T/final_project/models/yolo11/iterative/validation/11s_3840imgsz_combined_108epochs-val\u001b[0m\n",
      "Generating validation for model: yolo11s, image size: 3840px, epoch: 109\n",
      "Ultralytics 8.3.29 🚀 Python-3.12.7 torch-2.4.0 CUDA:0 (NVIDIA GeForce RTX 4070 SUPER, 11904MiB)\n",
      "YOLO11s summary (fused): 238 layers, 9,413,187 parameters, 0 gradients, 21.3 GFLOPs\n"
     ]
    },
    {
     "name": "stderr",
     "output_type": "stream",
     "text": [
      "\u001b[34m\u001b[1mval: \u001b[0mScanning val/labels.cache... 283 images, 0 backgrounds, 0 corrupt: 100%|██████████| 283/283 [00:00<?, ?it/s]\u001b[0m\n",
      "                 Class     Images  Instances      Box(P          R      mAP50  mAP50-95): 100%|██████████| 283/283 [01:17<00:00,  3.65it/s]\n"
     ]
    },
    {
     "name": "stdout",
     "output_type": "stream",
     "text": [
      "                   all        283        514       0.95      0.915      0.954      0.701\n",
      "Speed: 198.1ms preprocess, 62.7ms inference, 0.0ms loss, 2.1ms postprocess per image\n",
      "Saving /data/mtmoore/school/CSiML_AI395T/final_project/models/yolo11/iterative/validation/11s_3840imgsz_combined_109epochs-val/predictions.json...\n",
      "Results saved to \u001b[1m/data/mtmoore/school/CSiML_AI395T/final_project/models/yolo11/iterative/validation/11s_3840imgsz_combined_109epochs-val\u001b[0m\n",
      "Generating validation for model: yolo11s, image size: 3840px, epoch: 110\n",
      "Ultralytics 8.3.29 🚀 Python-3.12.7 torch-2.4.0 CUDA:0 (NVIDIA GeForce RTX 4070 SUPER, 11904MiB)\n",
      "YOLO11s summary (fused): 238 layers, 9,413,187 parameters, 0 gradients, 21.3 GFLOPs\n"
     ]
    },
    {
     "name": "stderr",
     "output_type": "stream",
     "text": [
      "\u001b[34m\u001b[1mval: \u001b[0mScanning val/labels.cache... 283 images, 0 backgrounds, 0 corrupt: 100%|██████████| 283/283 [00:00<?, ?it/s]\u001b[0m\n",
      "                 Class     Images  Instances      Box(P          R      mAP50  mAP50-95): 100%|██████████| 283/283 [01:17<00:00,  3.68it/s]\n"
     ]
    },
    {
     "name": "stdout",
     "output_type": "stream",
     "text": [
      "                   all        283        514      0.946      0.921      0.952      0.701\n",
      "Speed: 196.1ms preprocess, 62.7ms inference, 0.0ms loss, 2.1ms postprocess per image\n",
      "Saving /data/mtmoore/school/CSiML_AI395T/final_project/models/yolo11/iterative/validation/11s_3840imgsz_combined_110epochs-val/predictions.json...\n",
      "Results saved to \u001b[1m/data/mtmoore/school/CSiML_AI395T/final_project/models/yolo11/iterative/validation/11s_3840imgsz_combined_110epochs-val\u001b[0m\n",
      "Generating validation for model: yolo11s, image size: 3840px, epoch: 111\n",
      "Ultralytics 8.3.29 🚀 Python-3.12.7 torch-2.4.0 CUDA:0 (NVIDIA GeForce RTX 4070 SUPER, 11904MiB)\n",
      "YOLO11s summary (fused): 238 layers, 9,413,187 parameters, 0 gradients, 21.3 GFLOPs\n"
     ]
    },
    {
     "name": "stderr",
     "output_type": "stream",
     "text": [
      "\u001b[34m\u001b[1mval: \u001b[0mScanning val/labels.cache... 283 images, 0 backgrounds, 0 corrupt: 100%|██████████| 283/283 [00:00<?, ?it/s]\u001b[0m\n",
      "                 Class     Images  Instances      Box(P          R      mAP50  mAP50-95): 100%|██████████| 283/283 [01:17<00:00,  3.63it/s]\n"
     ]
    },
    {
     "name": "stdout",
     "output_type": "stream",
     "text": [
      "                   all        283        514      0.946      0.928       0.96       0.72\n",
      "Speed: 197.5ms preprocess, 62.8ms inference, 0.0ms loss, 2.1ms postprocess per image\n",
      "Saving /data/mtmoore/school/CSiML_AI395T/final_project/models/yolo11/iterative/validation/11s_3840imgsz_combined_111epochs-val/predictions.json...\n",
      "Results saved to \u001b[1m/data/mtmoore/school/CSiML_AI395T/final_project/models/yolo11/iterative/validation/11s_3840imgsz_combined_111epochs-val\u001b[0m\n",
      "Generating validation for model: yolo11s, image size: 3840px, epoch: 112\n",
      "Ultralytics 8.3.29 🚀 Python-3.12.7 torch-2.4.0 CUDA:0 (NVIDIA GeForce RTX 4070 SUPER, 11904MiB)\n",
      "YOLO11s summary (fused): 238 layers, 9,413,187 parameters, 0 gradients, 21.3 GFLOPs\n"
     ]
    },
    {
     "name": "stderr",
     "output_type": "stream",
     "text": [
      "\u001b[34m\u001b[1mval: \u001b[0mScanning val/labels.cache... 283 images, 0 backgrounds, 0 corrupt: 100%|██████████| 283/283 [00:00<?, ?it/s]\u001b[0m\n",
      "                 Class     Images  Instances      Box(P          R      mAP50  mAP50-95): 100%|██████████| 283/283 [01:17<00:00,  3.66it/s]\n"
     ]
    },
    {
     "name": "stdout",
     "output_type": "stream",
     "text": [
      "                   all        283        514      0.939       0.93      0.958      0.704\n",
      "Speed: 196.8ms preprocess, 62.8ms inference, 0.0ms loss, 2.1ms postprocess per image\n",
      "Saving /data/mtmoore/school/CSiML_AI395T/final_project/models/yolo11/iterative/validation/11s_3840imgsz_combined_112epochs-val/predictions.json...\n",
      "Results saved to \u001b[1m/data/mtmoore/school/CSiML_AI395T/final_project/models/yolo11/iterative/validation/11s_3840imgsz_combined_112epochs-val\u001b[0m\n",
      "Generating validation for model: yolo11s, image size: 3840px, epoch: 113\n",
      "Ultralytics 8.3.29 🚀 Python-3.12.7 torch-2.4.0 CUDA:0 (NVIDIA GeForce RTX 4070 SUPER, 11904MiB)\n",
      "YOLO11s summary (fused): 238 layers, 9,413,187 parameters, 0 gradients, 21.3 GFLOPs\n"
     ]
    },
    {
     "name": "stderr",
     "output_type": "stream",
     "text": [
      "\u001b[34m\u001b[1mval: \u001b[0mScanning val/labels.cache... 283 images, 0 backgrounds, 0 corrupt: 100%|██████████| 283/283 [00:00<?, ?it/s]\u001b[0m\n",
      "                 Class     Images  Instances      Box(P          R      mAP50  mAP50-95): 100%|██████████| 283/283 [01:17<00:00,  3.66it/s]\n"
     ]
    },
    {
     "name": "stdout",
     "output_type": "stream",
     "text": [
      "                   all        283        514      0.941      0.912      0.955      0.713\n",
      "Speed: 199.3ms preprocess, 62.8ms inference, 0.0ms loss, 2.0ms postprocess per image\n",
      "Saving /data/mtmoore/school/CSiML_AI395T/final_project/models/yolo11/iterative/validation/11s_3840imgsz_combined_113epochs-val/predictions.json...\n",
      "Results saved to \u001b[1m/data/mtmoore/school/CSiML_AI395T/final_project/models/yolo11/iterative/validation/11s_3840imgsz_combined_113epochs-val\u001b[0m\n",
      "Generating validation for model: yolo11s, image size: 3840px, epoch: 114\n",
      "Ultralytics 8.3.29 🚀 Python-3.12.7 torch-2.4.0 CUDA:0 (NVIDIA GeForce RTX 4070 SUPER, 11904MiB)\n",
      "YOLO11s summary (fused): 238 layers, 9,413,187 parameters, 0 gradients, 21.3 GFLOPs\n"
     ]
    },
    {
     "name": "stderr",
     "output_type": "stream",
     "text": [
      "\u001b[34m\u001b[1mval: \u001b[0mScanning val/labels.cache... 283 images, 0 backgrounds, 0 corrupt: 100%|██████████| 283/283 [00:00<?, ?it/s]\u001b[0m\n",
      "                 Class     Images  Instances      Box(P          R      mAP50  mAP50-95): 100%|██████████| 283/283 [01:18<00:00,  3.62it/s]\n"
     ]
    },
    {
     "name": "stdout",
     "output_type": "stream",
     "text": [
      "                   all        283        514       0.95      0.924      0.963      0.711\n",
      "Speed: 201.0ms preprocess, 62.8ms inference, 0.0ms loss, 2.1ms postprocess per image\n",
      "Saving /data/mtmoore/school/CSiML_AI395T/final_project/models/yolo11/iterative/validation/11s_3840imgsz_combined_114epochs-val/predictions.json...\n",
      "Results saved to \u001b[1m/data/mtmoore/school/CSiML_AI395T/final_project/models/yolo11/iterative/validation/11s_3840imgsz_combined_114epochs-val\u001b[0m\n",
      "Generating validation for model: yolo11s, image size: 3840px, epoch: 115\n",
      "Ultralytics 8.3.29 🚀 Python-3.12.7 torch-2.4.0 CUDA:0 (NVIDIA GeForce RTX 4070 SUPER, 11904MiB)\n",
      "YOLO11s summary (fused): 238 layers, 9,413,187 parameters, 0 gradients, 21.3 GFLOPs\n"
     ]
    },
    {
     "name": "stderr",
     "output_type": "stream",
     "text": [
      "\u001b[34m\u001b[1mval: \u001b[0mScanning val/labels.cache... 283 images, 0 backgrounds, 0 corrupt: 100%|██████████| 283/283 [00:00<?, ?it/s]\u001b[0m\n",
      "                 Class     Images  Instances      Box(P          R      mAP50  mAP50-95): 100%|██████████| 283/283 [01:17<00:00,  3.66it/s]\n"
     ]
    },
    {
     "name": "stdout",
     "output_type": "stream",
     "text": [
      "                   all        283        514      0.954      0.918      0.958      0.708\n",
      "Speed: 197.1ms preprocess, 62.8ms inference, 0.0ms loss, 2.1ms postprocess per image\n",
      "Saving /data/mtmoore/school/CSiML_AI395T/final_project/models/yolo11/iterative/validation/11s_3840imgsz_combined_115epochs-val/predictions.json...\n",
      "Results saved to \u001b[1m/data/mtmoore/school/CSiML_AI395T/final_project/models/yolo11/iterative/validation/11s_3840imgsz_combined_115epochs-val\u001b[0m\n",
      "Generating validation for model: yolo11s, image size: 3840px, epoch: 116\n",
      "Ultralytics 8.3.29 🚀 Python-3.12.7 torch-2.4.0 CUDA:0 (NVIDIA GeForce RTX 4070 SUPER, 11904MiB)\n",
      "YOLO11s summary (fused): 238 layers, 9,413,187 parameters, 0 gradients, 21.3 GFLOPs\n"
     ]
    },
    {
     "name": "stderr",
     "output_type": "stream",
     "text": [
      "\u001b[34m\u001b[1mval: \u001b[0mScanning val/labels.cache... 283 images, 0 backgrounds, 0 corrupt: 100%|██████████| 283/283 [00:00<?, ?it/s]\u001b[0m\n",
      "                 Class     Images  Instances      Box(P          R      mAP50  mAP50-95): 100%|██████████| 283/283 [01:17<00:00,  3.67it/s]\n"
     ]
    },
    {
     "name": "stdout",
     "output_type": "stream",
     "text": [
      "                   all        283        514       0.95       0.92      0.958      0.704\n",
      "Speed: 196.6ms preprocess, 62.9ms inference, 0.0ms loss, 2.1ms postprocess per image\n",
      "Saving /data/mtmoore/school/CSiML_AI395T/final_project/models/yolo11/iterative/validation/11s_3840imgsz_combined_116epochs-val/predictions.json...\n",
      "Results saved to \u001b[1m/data/mtmoore/school/CSiML_AI395T/final_project/models/yolo11/iterative/validation/11s_3840imgsz_combined_116epochs-val\u001b[0m\n",
      "Generating validation for model: yolo11s, image size: 3840px, epoch: 117\n",
      "Ultralytics 8.3.29 🚀 Python-3.12.7 torch-2.4.0 CUDA:0 (NVIDIA GeForce RTX 4070 SUPER, 11904MiB)\n",
      "YOLO11s summary (fused): 238 layers, 9,413,187 parameters, 0 gradients, 21.3 GFLOPs\n"
     ]
    },
    {
     "name": "stderr",
     "output_type": "stream",
     "text": [
      "\u001b[34m\u001b[1mval: \u001b[0mScanning val/labels.cache... 283 images, 0 backgrounds, 0 corrupt: 100%|██████████| 283/283 [00:00<?, ?it/s]\u001b[0m\n",
      "                 Class     Images  Instances      Box(P          R      mAP50  mAP50-95): 100%|██████████| 283/283 [01:17<00:00,  3.66it/s]\n"
     ]
    },
    {
     "name": "stdout",
     "output_type": "stream",
     "text": [
      "                   all        283        514      0.937      0.924      0.959        0.7\n",
      "Speed: 197.3ms preprocess, 62.9ms inference, 0.0ms loss, 2.0ms postprocess per image\n",
      "Saving /data/mtmoore/school/CSiML_AI395T/final_project/models/yolo11/iterative/validation/11s_3840imgsz_combined_117epochs-val/predictions.json...\n",
      "Results saved to \u001b[1m/data/mtmoore/school/CSiML_AI395T/final_project/models/yolo11/iterative/validation/11s_3840imgsz_combined_117epochs-val\u001b[0m\n",
      "Generating validation for model: yolo11s, image size: 3840px, epoch: 118\n",
      "Ultralytics 8.3.29 🚀 Python-3.12.7 torch-2.4.0 CUDA:0 (NVIDIA GeForce RTX 4070 SUPER, 11904MiB)\n",
      "YOLO11s summary (fused): 238 layers, 9,413,187 parameters, 0 gradients, 21.3 GFLOPs\n"
     ]
    },
    {
     "name": "stderr",
     "output_type": "stream",
     "text": [
      "\u001b[34m\u001b[1mval: \u001b[0mScanning val/labels.cache... 283 images, 0 backgrounds, 0 corrupt: 100%|██████████| 283/283 [00:00<?, ?it/s]\u001b[0m\n",
      "                 Class     Images  Instances      Box(P          R      mAP50  mAP50-95): 100%|██████████| 283/283 [01:17<00:00,  3.64it/s]\n"
     ]
    },
    {
     "name": "stdout",
     "output_type": "stream",
     "text": [
      "                   all        283        514      0.939      0.933      0.962      0.709\n",
      "Speed: 198.5ms preprocess, 62.8ms inference, 0.0ms loss, 2.1ms postprocess per image\n",
      "Saving /data/mtmoore/school/CSiML_AI395T/final_project/models/yolo11/iterative/validation/11s_3840imgsz_combined_118epochs-val/predictions.json...\n",
      "Results saved to \u001b[1m/data/mtmoore/school/CSiML_AI395T/final_project/models/yolo11/iterative/validation/11s_3840imgsz_combined_118epochs-val\u001b[0m\n",
      "Generating validation for model: yolo11s, image size: 3840px, epoch: 119\n",
      "Ultralytics 8.3.29 🚀 Python-3.12.7 torch-2.4.0 CUDA:0 (NVIDIA GeForce RTX 4070 SUPER, 11904MiB)\n",
      "YOLO11s summary (fused): 238 layers, 9,413,187 parameters, 0 gradients, 21.3 GFLOPs\n"
     ]
    },
    {
     "name": "stderr",
     "output_type": "stream",
     "text": [
      "\u001b[34m\u001b[1mval: \u001b[0mScanning val/labels.cache... 283 images, 0 backgrounds, 0 corrupt: 100%|██████████| 283/283 [00:00<?, ?it/s]\u001b[0m\n",
      "                 Class     Images  Instances      Box(P          R      mAP50  mAP50-95): 100%|██████████| 283/283 [03:18<00:00,  1.42it/s] \n"
     ]
    },
    {
     "name": "stdout",
     "output_type": "stream",
     "text": [
      "                   all        283        514      0.926       0.92      0.955      0.715\n",
      "Speed: 200.5ms preprocess, 62.8ms inference, 0.0ms loss, 2.1ms postprocess per image\n",
      "Saving /data/mtmoore/school/CSiML_AI395T/final_project/models/yolo11/iterative/validation/11s_3840imgsz_combined_119epochs-val/predictions.json...\n",
      "Results saved to \u001b[1m/data/mtmoore/school/CSiML_AI395T/final_project/models/yolo11/iterative/validation/11s_3840imgsz_combined_119epochs-val\u001b[0m\n",
      "Generating validation for model: yolo11s, image size: 3840px, epoch: 120\n",
      "Ultralytics 8.3.29 🚀 Python-3.12.7 torch-2.4.0 CUDA:0 (NVIDIA GeForce RTX 4070 SUPER, 11904MiB)\n",
      "YOLO11s summary (fused): 238 layers, 9,413,187 parameters, 0 gradients, 21.3 GFLOPs\n"
     ]
    },
    {
     "name": "stderr",
     "output_type": "stream",
     "text": [
      "\u001b[34m\u001b[1mval: \u001b[0mScanning val/labels.cache... 283 images, 0 backgrounds, 0 corrupt: 100%|██████████| 283/283 [00:00<?, ?it/s]\u001b[0m\n",
      "                 Class     Images  Instances      Box(P          R      mAP50  mAP50-95): 100%|██████████| 283/283 [01:18<00:00,  3.62it/s]\n"
     ]
    },
    {
     "name": "stdout",
     "output_type": "stream",
     "text": [
      "                   all        283        514      0.933      0.916      0.956      0.711\n",
      "Speed: 200.5ms preprocess, 62.8ms inference, 0.0ms loss, 2.1ms postprocess per image\n",
      "Saving /data/mtmoore/school/CSiML_AI395T/final_project/models/yolo11/iterative/validation/11s_3840imgsz_combined_120epochs-val/predictions.json...\n",
      "Results saved to \u001b[1m/data/mtmoore/school/CSiML_AI395T/final_project/models/yolo11/iterative/validation/11s_3840imgsz_combined_120epochs-val\u001b[0m\n",
      "Generating validation for model: yolo11s, image size: 3840px, epoch: 121\n",
      "Ultralytics 8.3.29 🚀 Python-3.12.7 torch-2.4.0 CUDA:0 (NVIDIA GeForce RTX 4070 SUPER, 11904MiB)\n",
      "YOLO11s summary (fused): 238 layers, 9,413,187 parameters, 0 gradients, 21.3 GFLOPs\n"
     ]
    },
    {
     "name": "stderr",
     "output_type": "stream",
     "text": [
      "\u001b[34m\u001b[1mval: \u001b[0mScanning val/labels.cache... 283 images, 0 backgrounds, 0 corrupt: 100%|██████████| 283/283 [00:00<?, ?it/s]\u001b[0m\n",
      "                 Class     Images  Instances      Box(P          R      mAP50  mAP50-95): 100%|██████████| 283/283 [01:17<00:00,  3.65it/s]\n"
     ]
    },
    {
     "name": "stdout",
     "output_type": "stream",
     "text": [
      "                   all        283        514      0.938      0.924      0.962      0.708\n",
      "Speed: 198.2ms preprocess, 62.8ms inference, 0.0ms loss, 2.0ms postprocess per image\n",
      "Saving /data/mtmoore/school/CSiML_AI395T/final_project/models/yolo11/iterative/validation/11s_3840imgsz_combined_121epochs-val/predictions.json...\n",
      "Results saved to \u001b[1m/data/mtmoore/school/CSiML_AI395T/final_project/models/yolo11/iterative/validation/11s_3840imgsz_combined_121epochs-val\u001b[0m\n",
      "Generating validation for model: yolo11s, image size: 3840px, epoch: 122\n",
      "Ultralytics 8.3.29 🚀 Python-3.12.7 torch-2.4.0 CUDA:0 (NVIDIA GeForce RTX 4070 SUPER, 11904MiB)\n",
      "YOLO11s summary (fused): 238 layers, 9,413,187 parameters, 0 gradients, 21.3 GFLOPs\n"
     ]
    },
    {
     "name": "stderr",
     "output_type": "stream",
     "text": [
      "\u001b[34m\u001b[1mval: \u001b[0mScanning val/labels.cache... 283 images, 0 backgrounds, 0 corrupt: 100%|██████████| 283/283 [00:00<?, ?it/s]\u001b[0m\n",
      "                 Class     Images  Instances      Box(P          R      mAP50  mAP50-95): 100%|██████████| 283/283 [01:18<00:00,  3.60it/s]\n"
     ]
    },
    {
     "name": "stdout",
     "output_type": "stream",
     "text": [
      "                   all        283        514      0.951      0.928      0.967      0.716\n",
      "Speed: 201.8ms preprocess, 62.9ms inference, 0.0ms loss, 2.1ms postprocess per image\n",
      "Saving /data/mtmoore/school/CSiML_AI395T/final_project/models/yolo11/iterative/validation/11s_3840imgsz_combined_122epochs-val/predictions.json...\n",
      "Results saved to \u001b[1m/data/mtmoore/school/CSiML_AI395T/final_project/models/yolo11/iterative/validation/11s_3840imgsz_combined_122epochs-val\u001b[0m\n",
      "Generating validation for model: yolo11s, image size: 3840px, epoch: 123\n",
      "Ultralytics 8.3.29 🚀 Python-3.12.7 torch-2.4.0 CUDA:0 (NVIDIA GeForce RTX 4070 SUPER, 11904MiB)\n",
      "YOLO11s summary (fused): 238 layers, 9,413,187 parameters, 0 gradients, 21.3 GFLOPs\n"
     ]
    },
    {
     "name": "stderr",
     "output_type": "stream",
     "text": [
      "\u001b[34m\u001b[1mval: \u001b[0mScanning val/labels.cache... 283 images, 0 backgrounds, 0 corrupt: 100%|██████████| 283/283 [00:00<?, ?it/s]\u001b[0m\n",
      "                 Class     Images  Instances      Box(P          R      mAP50  mAP50-95): 100%|██████████| 283/283 [01:18<00:00,  3.62it/s]\n"
     ]
    },
    {
     "name": "stdout",
     "output_type": "stream",
     "text": [
      "                   all        283        514       0.96      0.934      0.968      0.711\n",
      "Speed: 201.0ms preprocess, 62.8ms inference, 0.0ms loss, 2.0ms postprocess per image\n",
      "Saving /data/mtmoore/school/CSiML_AI395T/final_project/models/yolo11/iterative/validation/11s_3840imgsz_combined_123epochs-val/predictions.json...\n",
      "Results saved to \u001b[1m/data/mtmoore/school/CSiML_AI395T/final_project/models/yolo11/iterative/validation/11s_3840imgsz_combined_123epochs-val\u001b[0m\n",
      "Generating validation for model: yolo11s, image size: 3840px, epoch: 124\n",
      "Ultralytics 8.3.29 🚀 Python-3.12.7 torch-2.4.0 CUDA:0 (NVIDIA GeForce RTX 4070 SUPER, 11904MiB)\n",
      "YOLO11s summary (fused): 238 layers, 9,413,187 parameters, 0 gradients, 21.3 GFLOPs\n"
     ]
    },
    {
     "name": "stderr",
     "output_type": "stream",
     "text": [
      "\u001b[34m\u001b[1mval: \u001b[0mScanning val/labels.cache... 283 images, 0 backgrounds, 0 corrupt: 100%|██████████| 283/283 [00:00<?, ?it/s]\u001b[0m\n",
      "                 Class     Images  Instances      Box(P          R      mAP50  mAP50-95): 100%|██████████| 283/283 [01:17<00:00,  3.64it/s]\n"
     ]
    },
    {
     "name": "stdout",
     "output_type": "stream",
     "text": [
      "                   all        283        514      0.954      0.929      0.969      0.718\n",
      "Speed: 199.0ms preprocess, 62.9ms inference, 0.0ms loss, 2.1ms postprocess per image\n",
      "Saving /data/mtmoore/school/CSiML_AI395T/final_project/models/yolo11/iterative/validation/11s_3840imgsz_combined_124epochs-val/predictions.json...\n",
      "Results saved to \u001b[1m/data/mtmoore/school/CSiML_AI395T/final_project/models/yolo11/iterative/validation/11s_3840imgsz_combined_124epochs-val\u001b[0m\n",
      "Generating validation for model: yolo11s, image size: 3840px, epoch: 125\n",
      "Ultralytics 8.3.29 🚀 Python-3.12.7 torch-2.4.0 CUDA:0 (NVIDIA GeForce RTX 4070 SUPER, 11904MiB)\n",
      "YOLO11s summary (fused): 238 layers, 9,413,187 parameters, 0 gradients, 21.3 GFLOPs\n"
     ]
    },
    {
     "name": "stderr",
     "output_type": "stream",
     "text": [
      "\u001b[34m\u001b[1mval: \u001b[0mScanning val/labels.cache... 283 images, 0 backgrounds, 0 corrupt: 100%|██████████| 283/283 [00:00<?, ?it/s]\u001b[0m\n",
      "                 Class     Images  Instances      Box(P          R      mAP50  mAP50-95): 100%|██████████| 283/283 [01:17<00:00,  3.65it/s]\n"
     ]
    },
    {
     "name": "stdout",
     "output_type": "stream",
     "text": [
      "                   all        283        514      0.953      0.928      0.966      0.713\n",
      "Speed: 197.9ms preprocess, 62.8ms inference, 0.0ms loss, 2.1ms postprocess per image\n",
      "Saving /data/mtmoore/school/CSiML_AI395T/final_project/models/yolo11/iterative/validation/11s_3840imgsz_combined_125epochs-val/predictions.json...\n",
      "Results saved to \u001b[1m/data/mtmoore/school/CSiML_AI395T/final_project/models/yolo11/iterative/validation/11s_3840imgsz_combined_125epochs-val\u001b[0m\n",
      "Generating validation for model: yolo11s, image size: 3840px, epoch: 126\n",
      "Ultralytics 8.3.29 🚀 Python-3.12.7 torch-2.4.0 CUDA:0 (NVIDIA GeForce RTX 4070 SUPER, 11904MiB)\n",
      "YOLO11s summary (fused): 238 layers, 9,413,187 parameters, 0 gradients, 21.3 GFLOPs\n"
     ]
    },
    {
     "name": "stderr",
     "output_type": "stream",
     "text": [
      "\u001b[34m\u001b[1mval: \u001b[0mScanning val/labels.cache... 283 images, 0 backgrounds, 0 corrupt: 100%|██████████| 283/283 [00:00<?, ?it/s]\u001b[0m\n",
      "                 Class     Images  Instances      Box(P          R      mAP50  mAP50-95): 100%|██████████| 283/283 [01:17<00:00,  3.65it/s]\n"
     ]
    },
    {
     "name": "stdout",
     "output_type": "stream",
     "text": [
      "                   all        283        514      0.952      0.932      0.964      0.715\n",
      "Speed: 197.6ms preprocess, 62.8ms inference, 0.0ms loss, 2.3ms postprocess per image\n",
      "Saving /data/mtmoore/school/CSiML_AI395T/final_project/models/yolo11/iterative/validation/11s_3840imgsz_combined_126epochs-val/predictions.json...\n",
      "Results saved to \u001b[1m/data/mtmoore/school/CSiML_AI395T/final_project/models/yolo11/iterative/validation/11s_3840imgsz_combined_126epochs-val\u001b[0m\n",
      "Generating validation for model: yolo11s, image size: 3840px, epoch: 127\n",
      "Ultralytics 8.3.29 🚀 Python-3.12.7 torch-2.4.0 CUDA:0 (NVIDIA GeForce RTX 4070 SUPER, 11904MiB)\n",
      "YOLO11s summary (fused): 238 layers, 9,413,187 parameters, 0 gradients, 21.3 GFLOPs\n"
     ]
    },
    {
     "name": "stderr",
     "output_type": "stream",
     "text": [
      "\u001b[34m\u001b[1mval: \u001b[0mScanning val/labels.cache... 283 images, 0 backgrounds, 0 corrupt: 100%|██████████| 283/283 [00:00<?, ?it/s]\u001b[0m\n",
      "                 Class     Images  Instances      Box(P          R      mAP50  mAP50-95): 100%|██████████| 283/283 [03:18<00:00,  1.43it/s] \n"
     ]
    },
    {
     "name": "stdout",
     "output_type": "stream",
     "text": [
      "                   all        283        514      0.963      0.923      0.963      0.716\n",
      "Speed: 200.5ms preprocess, 62.8ms inference, 0.0ms loss, 2.0ms postprocess per image\n",
      "Saving /data/mtmoore/school/CSiML_AI395T/final_project/models/yolo11/iterative/validation/11s_3840imgsz_combined_127epochs-val/predictions.json...\n",
      "Results saved to \u001b[1m/data/mtmoore/school/CSiML_AI395T/final_project/models/yolo11/iterative/validation/11s_3840imgsz_combined_127epochs-val\u001b[0m\n",
      "Generating validation for model: yolo11s, image size: 3840px, epoch: 128\n",
      "Ultralytics 8.3.29 🚀 Python-3.12.7 torch-2.4.0 CUDA:0 (NVIDIA GeForce RTX 4070 SUPER, 11904MiB)\n",
      "YOLO11s summary (fused): 238 layers, 9,413,187 parameters, 0 gradients, 21.3 GFLOPs\n"
     ]
    },
    {
     "name": "stderr",
     "output_type": "stream",
     "text": [
      "\u001b[34m\u001b[1mval: \u001b[0mScanning val/labels.cache... 283 images, 0 backgrounds, 0 corrupt: 100%|██████████| 283/283 [00:00<?, ?it/s]\u001b[0m\n",
      "                 Class     Images  Instances      Box(P          R      mAP50  mAP50-95): 100%|██████████| 283/283 [01:17<00:00,  3.65it/s]\n"
     ]
    },
    {
     "name": "stdout",
     "output_type": "stream",
     "text": [
      "                   all        283        514      0.961      0.922      0.962      0.711\n",
      "Speed: 197.2ms preprocess, 62.8ms inference, 0.0ms loss, 2.0ms postprocess per image\n",
      "Saving /data/mtmoore/school/CSiML_AI395T/final_project/models/yolo11/iterative/validation/11s_3840imgsz_combined_128epochs-val/predictions.json...\n",
      "Results saved to \u001b[1m/data/mtmoore/school/CSiML_AI395T/final_project/models/yolo11/iterative/validation/11s_3840imgsz_combined_128epochs-val\u001b[0m\n",
      "Generating validation for model: yolo11s, image size: 3840px, epoch: 129\n",
      "Ultralytics 8.3.29 🚀 Python-3.12.7 torch-2.4.0 CUDA:0 (NVIDIA GeForce RTX 4070 SUPER, 11904MiB)\n",
      "YOLO11s summary (fused): 238 layers, 9,413,187 parameters, 0 gradients, 21.3 GFLOPs\n"
     ]
    },
    {
     "name": "stderr",
     "output_type": "stream",
     "text": [
      "\u001b[34m\u001b[1mval: \u001b[0mScanning val/labels.cache... 283 images, 0 backgrounds, 0 corrupt: 100%|██████████| 283/283 [00:00<?, ?it/s]\u001b[0m\n",
      "                 Class     Images  Instances      Box(P          R      mAP50  mAP50-95): 100%|██████████| 283/283 [01:17<00:00,  3.66it/s]\n"
     ]
    },
    {
     "name": "stdout",
     "output_type": "stream",
     "text": [
      "                   all        283        514      0.954      0.918       0.96      0.707\n",
      "Speed: 197.3ms preprocess, 62.8ms inference, 0.0ms loss, 2.0ms postprocess per image\n",
      "Saving /data/mtmoore/school/CSiML_AI395T/final_project/models/yolo11/iterative/validation/11s_3840imgsz_combined_129epochs-val/predictions.json...\n",
      "Results saved to \u001b[1m/data/mtmoore/school/CSiML_AI395T/final_project/models/yolo11/iterative/validation/11s_3840imgsz_combined_129epochs-val\u001b[0m\n",
      "Generating validation for model: yolo11s, image size: 3840px, epoch: 130\n",
      "Ultralytics 8.3.29 🚀 Python-3.12.7 torch-2.4.0 CUDA:0 (NVIDIA GeForce RTX 4070 SUPER, 11904MiB)\n",
      "YOLO11s summary (fused): 238 layers, 9,413,187 parameters, 0 gradients, 21.3 GFLOPs\n"
     ]
    },
    {
     "name": "stderr",
     "output_type": "stream",
     "text": [
      "\u001b[34m\u001b[1mval: \u001b[0mScanning val/labels.cache... 283 images, 0 backgrounds, 0 corrupt: 100%|██████████| 283/283 [00:00<?, ?it/s]\u001b[0m\n",
      "                 Class     Images  Instances      Box(P          R      mAP50  mAP50-95): 100%|██████████| 283/283 [01:16<00:00,  3.68it/s]\n"
     ]
    },
    {
     "name": "stdout",
     "output_type": "stream",
     "text": [
      "                   all        283        514      0.952      0.928      0.962      0.721\n",
      "Speed: 193.7ms preprocess, 62.8ms inference, 0.0ms loss, 2.1ms postprocess per image\n",
      "Saving /data/mtmoore/school/CSiML_AI395T/final_project/models/yolo11/iterative/validation/11s_3840imgsz_combined_130epochs-val/predictions.json...\n",
      "Results saved to \u001b[1m/data/mtmoore/school/CSiML_AI395T/final_project/models/yolo11/iterative/validation/11s_3840imgsz_combined_130epochs-val\u001b[0m\n",
      "Generating validation for model: yolo11s, image size: 3840px, epoch: 131\n",
      "Ultralytics 8.3.29 🚀 Python-3.12.7 torch-2.4.0 CUDA:0 (NVIDIA GeForce RTX 4070 SUPER, 11904MiB)\n",
      "YOLO11s summary (fused): 238 layers, 9,413,187 parameters, 0 gradients, 21.3 GFLOPs\n"
     ]
    },
    {
     "name": "stderr",
     "output_type": "stream",
     "text": [
      "\u001b[34m\u001b[1mval: \u001b[0mScanning val/labels.cache... 283 images, 0 backgrounds, 0 corrupt: 100%|██████████| 283/283 [00:00<?, ?it/s]\u001b[0m\n",
      "                 Class     Images  Instances      Box(P          R      mAP50  mAP50-95): 100%|██████████| 283/283 [01:17<00:00,  3.66it/s]\n"
     ]
    },
    {
     "name": "stdout",
     "output_type": "stream",
     "text": [
      "                   all        283        514      0.952      0.922       0.96       0.72\n",
      "Speed: 197.5ms preprocess, 62.8ms inference, 0.0ms loss, 2.1ms postprocess per image\n",
      "Saving /data/mtmoore/school/CSiML_AI395T/final_project/models/yolo11/iterative/validation/11s_3840imgsz_combined_131epochs-val/predictions.json...\n",
      "Results saved to \u001b[1m/data/mtmoore/school/CSiML_AI395T/final_project/models/yolo11/iterative/validation/11s_3840imgsz_combined_131epochs-val\u001b[0m\n",
      "Generating validation for model: yolo11s, image size: 3840px, epoch: 132\n",
      "Ultralytics 8.3.29 🚀 Python-3.12.7 torch-2.4.0 CUDA:0 (NVIDIA GeForce RTX 4070 SUPER, 11904MiB)\n",
      "YOLO11s summary (fused): 238 layers, 9,413,187 parameters, 0 gradients, 21.3 GFLOPs\n"
     ]
    },
    {
     "name": "stderr",
     "output_type": "stream",
     "text": [
      "\u001b[34m\u001b[1mval: \u001b[0mScanning val/labels.cache... 283 images, 0 backgrounds, 0 corrupt: 100%|██████████| 283/283 [00:00<?, ?it/s]\u001b[0m\n",
      "                 Class     Images  Instances      Box(P          R      mAP50  mAP50-95): 100%|██████████| 283/283 [01:17<00:00,  3.65it/s]\n"
     ]
    },
    {
     "name": "stdout",
     "output_type": "stream",
     "text": [
      "                   all        283        514      0.956      0.931       0.96      0.716\n",
      "Speed: 197.8ms preprocess, 62.9ms inference, 0.0ms loss, 2.0ms postprocess per image\n",
      "Saving /data/mtmoore/school/CSiML_AI395T/final_project/models/yolo11/iterative/validation/11s_3840imgsz_combined_132epochs-val/predictions.json...\n",
      "Results saved to \u001b[1m/data/mtmoore/school/CSiML_AI395T/final_project/models/yolo11/iterative/validation/11s_3840imgsz_combined_132epochs-val\u001b[0m\n",
      "Generating validation for model: yolo11s, image size: 3840px, epoch: 133\n",
      "Ultralytics 8.3.29 🚀 Python-3.12.7 torch-2.4.0 CUDA:0 (NVIDIA GeForce RTX 4070 SUPER, 11904MiB)\n",
      "YOLO11s summary (fused): 238 layers, 9,413,187 parameters, 0 gradients, 21.3 GFLOPs\n"
     ]
    },
    {
     "name": "stderr",
     "output_type": "stream",
     "text": [
      "\u001b[34m\u001b[1mval: \u001b[0mScanning val/labels.cache... 283 images, 0 backgrounds, 0 corrupt: 100%|██████████| 283/283 [00:00<?, ?it/s]\u001b[0m\n",
      "                 Class     Images  Instances      Box(P          R      mAP50  mAP50-95): 100%|██████████| 283/283 [01:17<00:00,  3.64it/s]\n"
     ]
    },
    {
     "name": "stdout",
     "output_type": "stream",
     "text": [
      "                   all        283        514      0.956      0.922      0.963      0.716\n",
      "Speed: 197.3ms preprocess, 62.8ms inference, 0.0ms loss, 2.2ms postprocess per image\n",
      "Saving /data/mtmoore/school/CSiML_AI395T/final_project/models/yolo11/iterative/validation/11s_3840imgsz_combined_133epochs-val/predictions.json...\n",
      "Results saved to \u001b[1m/data/mtmoore/school/CSiML_AI395T/final_project/models/yolo11/iterative/validation/11s_3840imgsz_combined_133epochs-val\u001b[0m\n",
      "Generating validation for model: yolo11s, image size: 3840px, epoch: 134\n",
      "Ultralytics 8.3.29 🚀 Python-3.12.7 torch-2.4.0 CUDA:0 (NVIDIA GeForce RTX 4070 SUPER, 11904MiB)\n",
      "YOLO11s summary (fused): 238 layers, 9,413,187 parameters, 0 gradients, 21.3 GFLOPs\n"
     ]
    },
    {
     "name": "stderr",
     "output_type": "stream",
     "text": [
      "\u001b[34m\u001b[1mval: \u001b[0mScanning val/labels.cache... 283 images, 0 backgrounds, 0 corrupt: 100%|██████████| 283/283 [00:00<?, ?it/s]\u001b[0m\n",
      "                 Class     Images  Instances      Box(P          R      mAP50  mAP50-95): 100%|██████████| 283/283 [01:17<00:00,  3.65it/s]\n"
     ]
    },
    {
     "name": "stdout",
     "output_type": "stream",
     "text": [
      "                   all        283        514      0.958      0.926      0.956      0.704\n",
      "Speed: 196.4ms preprocess, 62.8ms inference, 0.0ms loss, 2.1ms postprocess per image\n",
      "Saving /data/mtmoore/school/CSiML_AI395T/final_project/models/yolo11/iterative/validation/11s_3840imgsz_combined_134epochs-val/predictions.json...\n",
      "Results saved to \u001b[1m/data/mtmoore/school/CSiML_AI395T/final_project/models/yolo11/iterative/validation/11s_3840imgsz_combined_134epochs-val\u001b[0m\n",
      "Generating validation for model: yolo11s, image size: 3840px, epoch: 135\n",
      "Ultralytics 8.3.29 🚀 Python-3.12.7 torch-2.4.0 CUDA:0 (NVIDIA GeForce RTX 4070 SUPER, 11904MiB)\n",
      "YOLO11s summary (fused): 238 layers, 9,413,187 parameters, 0 gradients, 21.3 GFLOPs\n"
     ]
    },
    {
     "name": "stderr",
     "output_type": "stream",
     "text": [
      "\u001b[34m\u001b[1mval: \u001b[0mScanning val/labels.cache... 283 images, 0 backgrounds, 0 corrupt: 100%|██████████| 283/283 [00:00<?, ?it/s]\u001b[0m\n",
      "                 Class     Images  Instances      Box(P          R      mAP50  mAP50-95): 100%|██████████| 283/283 [01:17<00:00,  3.65it/s]\n"
     ]
    },
    {
     "name": "stdout",
     "output_type": "stream",
     "text": [
      "                   all        283        514      0.952      0.923      0.955      0.713\n",
      "Speed: 196.7ms preprocess, 62.8ms inference, 0.0ms loss, 2.1ms postprocess per image\n",
      "Saving /data/mtmoore/school/CSiML_AI395T/final_project/models/yolo11/iterative/validation/11s_3840imgsz_combined_135epochs-val/predictions.json...\n",
      "Results saved to \u001b[1m/data/mtmoore/school/CSiML_AI395T/final_project/models/yolo11/iterative/validation/11s_3840imgsz_combined_135epochs-val\u001b[0m\n",
      "Generating validation for model: yolo11s, image size: 3840px, epoch: 136\n",
      "Ultralytics 8.3.29 🚀 Python-3.12.7 torch-2.4.0 CUDA:0 (NVIDIA GeForce RTX 4070 SUPER, 11904MiB)\n",
      "YOLO11s summary (fused): 238 layers, 9,413,187 parameters, 0 gradients, 21.3 GFLOPs\n"
     ]
    },
    {
     "name": "stderr",
     "output_type": "stream",
     "text": [
      "\u001b[34m\u001b[1mval: \u001b[0mScanning val/labels.cache... 283 images, 0 backgrounds, 0 corrupt: 100%|██████████| 283/283 [00:00<?, ?it/s]\u001b[0m\n",
      "                 Class     Images  Instances      Box(P          R      mAP50  mAP50-95): 100%|██████████| 283/283 [01:17<00:00,  3.63it/s]\n"
     ]
    },
    {
     "name": "stdout",
     "output_type": "stream",
     "text": [
      "                   all        283        514      0.949      0.928      0.956      0.708\n",
      "Speed: 199.4ms preprocess, 62.8ms inference, 0.0ms loss, 2.1ms postprocess per image\n",
      "Saving /data/mtmoore/school/CSiML_AI395T/final_project/models/yolo11/iterative/validation/11s_3840imgsz_combined_136epochs-val/predictions.json...\n",
      "Results saved to \u001b[1m/data/mtmoore/school/CSiML_AI395T/final_project/models/yolo11/iterative/validation/11s_3840imgsz_combined_136epochs-val\u001b[0m\n",
      "Generating validation for model: yolo11s, image size: 3840px, epoch: 137\n",
      "Ultralytics 8.3.29 🚀 Python-3.12.7 torch-2.4.0 CUDA:0 (NVIDIA GeForce RTX 4070 SUPER, 11904MiB)\n",
      "YOLO11s summary (fused): 238 layers, 9,413,187 parameters, 0 gradients, 21.3 GFLOPs\n"
     ]
    },
    {
     "name": "stderr",
     "output_type": "stream",
     "text": [
      "\u001b[34m\u001b[1mval: \u001b[0mScanning val/labels.cache... 283 images, 0 backgrounds, 0 corrupt: 100%|██████████| 283/283 [00:00<?, ?it/s]\u001b[0m\n",
      "                 Class     Images  Instances      Box(P          R      mAP50  mAP50-95): 100%|██████████| 283/283 [01:17<00:00,  3.64it/s]\n"
     ]
    },
    {
     "name": "stdout",
     "output_type": "stream",
     "text": [
      "                   all        283        514      0.959      0.934      0.964      0.711\n",
      "Speed: 198.5ms preprocess, 62.8ms inference, 0.0ms loss, 2.1ms postprocess per image\n",
      "Saving /data/mtmoore/school/CSiML_AI395T/final_project/models/yolo11/iterative/validation/11s_3840imgsz_combined_137epochs-val/predictions.json...\n",
      "Results saved to \u001b[1m/data/mtmoore/school/CSiML_AI395T/final_project/models/yolo11/iterative/validation/11s_3840imgsz_combined_137epochs-val\u001b[0m\n",
      "Generating validation for model: yolo11s, image size: 3840px, epoch: 138\n",
      "Ultralytics 8.3.29 🚀 Python-3.12.7 torch-2.4.0 CUDA:0 (NVIDIA GeForce RTX 4070 SUPER, 11904MiB)\n",
      "YOLO11s summary (fused): 238 layers, 9,413,187 parameters, 0 gradients, 21.3 GFLOPs\n"
     ]
    },
    {
     "name": "stderr",
     "output_type": "stream",
     "text": [
      "\u001b[34m\u001b[1mval: \u001b[0mScanning val/labels.cache... 283 images, 0 backgrounds, 0 corrupt: 100%|██████████| 283/283 [00:00<?, ?it/s]\u001b[0m\n",
      "                 Class     Images  Instances      Box(P          R      mAP50  mAP50-95): 100%|██████████| 283/283 [01:17<00:00,  3.65it/s]\n"
     ]
    },
    {
     "name": "stdout",
     "output_type": "stream",
     "text": [
      "                   all        283        514      0.957      0.932      0.962      0.712\n",
      "Speed: 197.7ms preprocess, 62.9ms inference, 0.0ms loss, 2.1ms postprocess per image\n",
      "Saving /data/mtmoore/school/CSiML_AI395T/final_project/models/yolo11/iterative/validation/11s_3840imgsz_combined_138epochs-val/predictions.json...\n",
      "Results saved to \u001b[1m/data/mtmoore/school/CSiML_AI395T/final_project/models/yolo11/iterative/validation/11s_3840imgsz_combined_138epochs-val\u001b[0m\n",
      "Generating validation for model: yolo11s, image size: 3840px, epoch: 139\n",
      "Ultralytics 8.3.29 🚀 Python-3.12.7 torch-2.4.0 CUDA:0 (NVIDIA GeForce RTX 4070 SUPER, 11904MiB)\n",
      "YOLO11s summary (fused): 238 layers, 9,413,187 parameters, 0 gradients, 21.3 GFLOPs\n"
     ]
    },
    {
     "name": "stderr",
     "output_type": "stream",
     "text": [
      "\u001b[34m\u001b[1mval: \u001b[0mScanning val/labels.cache... 283 images, 0 backgrounds, 0 corrupt: 100%|██████████| 283/283 [00:00<?, ?it/s]\u001b[0m\n",
      "                 Class     Images  Instances      Box(P          R      mAP50  mAP50-95): 100%|██████████| 283/283 [01:17<00:00,  3.65it/s]\n"
     ]
    },
    {
     "name": "stdout",
     "output_type": "stream",
     "text": [
      "                   all        283        514      0.952      0.932      0.963      0.714\n",
      "Speed: 197.7ms preprocess, 62.8ms inference, 0.0ms loss, 2.1ms postprocess per image\n",
      "Saving /data/mtmoore/school/CSiML_AI395T/final_project/models/yolo11/iterative/validation/11s_3840imgsz_combined_139epochs-val/predictions.json...\n",
      "Results saved to \u001b[1m/data/mtmoore/school/CSiML_AI395T/final_project/models/yolo11/iterative/validation/11s_3840imgsz_combined_139epochs-val\u001b[0m\n",
      "Generating validation for model: yolo11s, image size: 3840px, epoch: 140\n",
      "Ultralytics 8.3.29 🚀 Python-3.12.7 torch-2.4.0 CUDA:0 (NVIDIA GeForce RTX 4070 SUPER, 11904MiB)\n",
      "YOLO11s summary (fused): 238 layers, 9,413,187 parameters, 0 gradients, 21.3 GFLOPs\n"
     ]
    },
    {
     "name": "stderr",
     "output_type": "stream",
     "text": [
      "\u001b[34m\u001b[1mval: \u001b[0mScanning val/labels.cache... 283 images, 0 backgrounds, 0 corrupt: 100%|██████████| 283/283 [00:00<?, ?it/s]\u001b[0m\n",
      "                 Class     Images  Instances      Box(P          R      mAP50  mAP50-95): 100%|██████████| 283/283 [01:17<00:00,  3.66it/s]\n"
     ]
    },
    {
     "name": "stdout",
     "output_type": "stream",
     "text": [
      "                   all        283        514      0.953      0.909      0.958      0.719\n",
      "Speed: 197.8ms preprocess, 62.8ms inference, 0.0ms loss, 2.1ms postprocess per image\n",
      "Saving /data/mtmoore/school/CSiML_AI395T/final_project/models/yolo11/iterative/validation/11s_3840imgsz_combined_140epochs-val/predictions.json...\n",
      "Results saved to \u001b[1m/data/mtmoore/school/CSiML_AI395T/final_project/models/yolo11/iterative/validation/11s_3840imgsz_combined_140epochs-val\u001b[0m\n",
      "Generating validation for model: yolo11s, image size: 3840px, epoch: 141\n",
      "Ultralytics 8.3.29 🚀 Python-3.12.7 torch-2.4.0 CUDA:0 (NVIDIA GeForce RTX 4070 SUPER, 11904MiB)\n",
      "YOLO11s summary (fused): 238 layers, 9,413,187 parameters, 0 gradients, 21.3 GFLOPs\n"
     ]
    },
    {
     "name": "stderr",
     "output_type": "stream",
     "text": [
      "\u001b[34m\u001b[1mval: \u001b[0mScanning val/labels.cache... 283 images, 0 backgrounds, 0 corrupt: 100%|██████████| 283/283 [00:00<?, ?it/s]\u001b[0m\n",
      "                 Class     Images  Instances      Box(P          R      mAP50  mAP50-95): 100%|██████████| 283/283 [01:17<00:00,  3.66it/s]\n"
     ]
    },
    {
     "name": "stdout",
     "output_type": "stream",
     "text": [
      "                   all        283        514      0.942      0.918      0.955      0.709\n",
      "Speed: 195.8ms preprocess, 62.8ms inference, 0.0ms loss, 2.1ms postprocess per image\n",
      "Saving /data/mtmoore/school/CSiML_AI395T/final_project/models/yolo11/iterative/validation/11s_3840imgsz_combined_141epochs-val/predictions.json...\n",
      "Results saved to \u001b[1m/data/mtmoore/school/CSiML_AI395T/final_project/models/yolo11/iterative/validation/11s_3840imgsz_combined_141epochs-val\u001b[0m\n",
      "Generating validation for model: yolo11s, image size: 3840px, epoch: 142\n",
      "Ultralytics 8.3.29 🚀 Python-3.12.7 torch-2.4.0 CUDA:0 (NVIDIA GeForce RTX 4070 SUPER, 11904MiB)\n",
      "YOLO11s summary (fused): 238 layers, 9,413,187 parameters, 0 gradients, 21.3 GFLOPs\n"
     ]
    },
    {
     "name": "stderr",
     "output_type": "stream",
     "text": [
      "\u001b[34m\u001b[1mval: \u001b[0mScanning val/labels.cache... 283 images, 0 backgrounds, 0 corrupt: 100%|██████████| 283/283 [00:00<?, ?it/s]\u001b[0m\n",
      "                 Class     Images  Instances      Box(P          R      mAP50  mAP50-95): 100%|██████████| 283/283 [01:17<00:00,  3.63it/s]\n"
     ]
    },
    {
     "name": "stdout",
     "output_type": "stream",
     "text": [
      "                   all        283        514      0.955      0.918       0.96      0.718\n",
      "Speed: 198.6ms preprocess, 62.7ms inference, 0.0ms loss, 2.1ms postprocess per image\n",
      "Saving /data/mtmoore/school/CSiML_AI395T/final_project/models/yolo11/iterative/validation/11s_3840imgsz_combined_142epochs-val/predictions.json...\n",
      "Results saved to \u001b[1m/data/mtmoore/school/CSiML_AI395T/final_project/models/yolo11/iterative/validation/11s_3840imgsz_combined_142epochs-val\u001b[0m\n",
      "Generating validation for model: yolo11s, image size: 3840px, epoch: 143\n",
      "Ultralytics 8.3.29 🚀 Python-3.12.7 torch-2.4.0 CUDA:0 (NVIDIA GeForce RTX 4070 SUPER, 11904MiB)\n",
      "YOLO11s summary (fused): 238 layers, 9,413,187 parameters, 0 gradients, 21.3 GFLOPs\n"
     ]
    },
    {
     "name": "stderr",
     "output_type": "stream",
     "text": [
      "\u001b[34m\u001b[1mval: \u001b[0mScanning val/labels.cache... 283 images, 0 backgrounds, 0 corrupt: 100%|██████████| 283/283 [00:00<?, ?it/s]\u001b[0m\n",
      "                 Class     Images  Instances      Box(P          R      mAP50  mAP50-95): 100%|██████████| 283/283 [01:17<00:00,  3.66it/s]\n"
     ]
    },
    {
     "name": "stdout",
     "output_type": "stream",
     "text": [
      "                   all        283        514      0.953      0.924      0.961      0.719\n",
      "Speed: 197.8ms preprocess, 62.8ms inference, 0.0ms loss, 2.0ms postprocess per image\n",
      "Saving /data/mtmoore/school/CSiML_AI395T/final_project/models/yolo11/iterative/validation/11s_3840imgsz_combined_143epochs-val/predictions.json...\n",
      "Results saved to \u001b[1m/data/mtmoore/school/CSiML_AI395T/final_project/models/yolo11/iterative/validation/11s_3840imgsz_combined_143epochs-val\u001b[0m\n",
      "Generating validation for model: yolo11s, image size: 3840px, epoch: 144\n",
      "Ultralytics 8.3.29 🚀 Python-3.12.7 torch-2.4.0 CUDA:0 (NVIDIA GeForce RTX 4070 SUPER, 11904MiB)\n",
      "YOLO11s summary (fused): 238 layers, 9,413,187 parameters, 0 gradients, 21.3 GFLOPs\n"
     ]
    },
    {
     "name": "stderr",
     "output_type": "stream",
     "text": [
      "\u001b[34m\u001b[1mval: \u001b[0mScanning val/labels.cache... 283 images, 0 backgrounds, 0 corrupt: 100%|██████████| 283/283 [00:00<?, ?it/s]\u001b[0m\n",
      "                 Class     Images  Instances      Box(P          R      mAP50  mAP50-95): 100%|██████████| 283/283 [01:17<00:00,  3.65it/s]\n"
     ]
    },
    {
     "name": "stdout",
     "output_type": "stream",
     "text": [
      "                   all        283        514      0.945      0.926      0.961      0.716\n",
      "Speed: 198.9ms preprocess, 62.9ms inference, 0.0ms loss, 2.1ms postprocess per image\n",
      "Saving /data/mtmoore/school/CSiML_AI395T/final_project/models/yolo11/iterative/validation/11s_3840imgsz_combined_144epochs-val/predictions.json...\n",
      "Results saved to \u001b[1m/data/mtmoore/school/CSiML_AI395T/final_project/models/yolo11/iterative/validation/11s_3840imgsz_combined_144epochs-val\u001b[0m\n",
      "Generating validation for model: yolo11s, image size: 3840px, epoch: 145\n",
      "Ultralytics 8.3.29 🚀 Python-3.12.7 torch-2.4.0 CUDA:0 (NVIDIA GeForce RTX 4070 SUPER, 11904MiB)\n",
      "YOLO11s summary (fused): 238 layers, 9,413,187 parameters, 0 gradients, 21.3 GFLOPs\n"
     ]
    },
    {
     "name": "stderr",
     "output_type": "stream",
     "text": [
      "\u001b[34m\u001b[1mval: \u001b[0mScanning val/labels.cache... 283 images, 0 backgrounds, 0 corrupt: 100%|██████████| 283/283 [00:00<?, ?it/s]\u001b[0m\n",
      "                 Class     Images  Instances      Box(P          R      mAP50  mAP50-95): 100%|██████████| 283/283 [01:17<00:00,  3.65it/s]\n"
     ]
    },
    {
     "name": "stdout",
     "output_type": "stream",
     "text": [
      "                   all        283        514      0.964      0.911      0.961      0.718\n",
      "Speed: 198.8ms preprocess, 62.8ms inference, 0.0ms loss, 2.1ms postprocess per image\n",
      "Saving /data/mtmoore/school/CSiML_AI395T/final_project/models/yolo11/iterative/validation/11s_3840imgsz_combined_145epochs-val/predictions.json...\n",
      "Results saved to \u001b[1m/data/mtmoore/school/CSiML_AI395T/final_project/models/yolo11/iterative/validation/11s_3840imgsz_combined_145epochs-val\u001b[0m\n",
      "Generating validation for model: yolo11s, image size: 3840px, epoch: 146\n",
      "Ultralytics 8.3.29 🚀 Python-3.12.7 torch-2.4.0 CUDA:0 (NVIDIA GeForce RTX 4070 SUPER, 11904MiB)\n",
      "YOLO11s summary (fused): 238 layers, 9,413,187 parameters, 0 gradients, 21.3 GFLOPs\n"
     ]
    },
    {
     "name": "stderr",
     "output_type": "stream",
     "text": [
      "\u001b[34m\u001b[1mval: \u001b[0mScanning val/labels.cache... 283 images, 0 backgrounds, 0 corrupt: 100%|██████████| 283/283 [00:00<?, ?it/s]\u001b[0m\n",
      "                 Class     Images  Instances      Box(P          R      mAP50  mAP50-95):  35%|███▌      | 100/283 [00:27<00:49,  3.72it/s]IOStream.flush timed out\n",
      "                 Class     Images  Instances      Box(P          R      mAP50  mAP50-95):  36%|███▌      | 101/283 [00:37<09:44,  3.21s/it]IOStream.flush timed out\n",
      "                 Class     Images  Instances      Box(P          R      mAP50  mAP50-95):  36%|███▌      | 102/283 [00:47<15:54,  5.27s/it]IOStream.flush timed out\n",
      "                 Class     Images  Instances      Box(P          R      mAP50  mAP50-95):  36%|███▋      | 103/283 [00:57<20:08,  6.71s/it]IOStream.flush timed out\n",
      "                 Class     Images  Instances      Box(P          R      mAP50  mAP50-95):  37%|███▋      | 104/283 [01:07<23:02,  7.72s/it]IOStream.flush timed out\n",
      "                 Class     Images  Instances      Box(P          R      mAP50  mAP50-95):  37%|███▋      | 105/283 [01:17<25:00,  8.43s/it]IOStream.flush timed out\n",
      "                 Class     Images  Instances      Box(P          R      mAP50  mAP50-95):  37%|███▋      | 106/283 [01:27<26:19,  8.92s/it]IOStream.flush timed out\n",
      "                 Class     Images  Instances      Box(P          R      mAP50  mAP50-95):  38%|███▊      | 107/283 [01:37<27:11,  9.27s/it]IOStream.flush timed out\n",
      "                 Class     Images  Instances      Box(P          R      mAP50  mAP50-95):  38%|███▊      | 108/283 [01:48<27:44,  9.51s/it]IOStream.flush timed out\n",
      "                 Class     Images  Instances      Box(P          R      mAP50  mAP50-95):  39%|███▊      | 109/283 [01:58<28:04,  9.68s/it]IOStream.flush timed out\n",
      "                 Class     Images  Instances      Box(P          R      mAP50  mAP50-95):  39%|███▉      | 110/283 [02:08<28:15,  9.80s/it]IOStream.flush timed out\n",
      "                 Class     Images  Instances      Box(P          R      mAP50  mAP50-95): 100%|██████████| 283/283 [03:15<00:00,  1.45it/s]\n"
     ]
    },
    {
     "name": "stdout",
     "output_type": "stream",
     "text": [
      "                   all        283        514      0.957      0.917       0.96      0.716\n",
      "Speed: 190.0ms preprocess, 62.8ms inference, 0.0ms loss, 2.1ms postprocess per image\n",
      "Saving /data/mtmoore/school/CSiML_AI395T/final_project/models/yolo11/iterative/validation/11s_3840imgsz_combined_146epochs-val/predictions.json...\n",
      "Results saved to \u001b[1m/data/mtmoore/school/CSiML_AI395T/final_project/models/yolo11/iterative/validation/11s_3840imgsz_combined_146epochs-val\u001b[0m\n",
      "Generating validation for model: yolo11s, image size: 3840px, epoch: 147\n",
      "Ultralytics 8.3.29 🚀 Python-3.12.7 torch-2.4.0 CUDA:0 (NVIDIA GeForce RTX 4070 SUPER, 11904MiB)\n",
      "YOLO11s summary (fused): 238 layers, 9,413,187 parameters, 0 gradients, 21.3 GFLOPs\n"
     ]
    },
    {
     "name": "stderr",
     "output_type": "stream",
     "text": [
      "\u001b[34m\u001b[1mval: \u001b[0mScanning val/labels.cache... 283 images, 0 backgrounds, 0 corrupt: 100%|██████████| 283/283 [00:00<?, ?it/s]\u001b[0m\n",
      "                 Class     Images  Instances      Box(P          R      mAP50  mAP50-95): 100%|██████████| 283/283 [01:17<00:00,  3.64it/s]\n"
     ]
    },
    {
     "name": "stdout",
     "output_type": "stream",
     "text": [
      "                   all        283        514       0.96      0.918      0.963      0.717\n",
      "Speed: 198.5ms preprocess, 62.7ms inference, 0.0ms loss, 2.0ms postprocess per image\n",
      "Saving /data/mtmoore/school/CSiML_AI395T/final_project/models/yolo11/iterative/validation/11s_3840imgsz_combined_147epochs-val/predictions.json...\n",
      "Results saved to \u001b[1m/data/mtmoore/school/CSiML_AI395T/final_project/models/yolo11/iterative/validation/11s_3840imgsz_combined_147epochs-val\u001b[0m\n",
      "Generating validation for model: yolo11s, image size: 3840px, epoch: 148\n",
      "Ultralytics 8.3.29 🚀 Python-3.12.7 torch-2.4.0 CUDA:0 (NVIDIA GeForce RTX 4070 SUPER, 11904MiB)\n",
      "YOLO11s summary (fused): 238 layers, 9,413,187 parameters, 0 gradients, 21.3 GFLOPs\n"
     ]
    },
    {
     "name": "stderr",
     "output_type": "stream",
     "text": [
      "\u001b[34m\u001b[1mval: \u001b[0mScanning val/labels.cache... 283 images, 0 backgrounds, 0 corrupt: 100%|██████████| 283/283 [00:00<?, ?it/s]\u001b[0m\n",
      "                 Class     Images  Instances      Box(P          R      mAP50  mAP50-95): 100%|██████████| 283/283 [01:17<00:00,  3.66it/s]\n"
     ]
    },
    {
     "name": "stdout",
     "output_type": "stream",
     "text": [
      "                   all        283        514      0.945      0.935      0.963      0.716\n",
      "Speed: 197.7ms preprocess, 62.8ms inference, 0.0ms loss, 2.0ms postprocess per image\n",
      "Saving /data/mtmoore/school/CSiML_AI395T/final_project/models/yolo11/iterative/validation/11s_3840imgsz_combined_148epochs-val/predictions.json...\n",
      "Results saved to \u001b[1m/data/mtmoore/school/CSiML_AI395T/final_project/models/yolo11/iterative/validation/11s_3840imgsz_combined_148epochs-val\u001b[0m\n",
      "Generating validation for model: yolo11s, image size: 3840px, epoch: 149\n",
      "Ultralytics 8.3.29 🚀 Python-3.12.7 torch-2.4.0 CUDA:0 (NVIDIA GeForce RTX 4070 SUPER, 11904MiB)\n",
      "YOLO11s summary (fused): 238 layers, 9,413,187 parameters, 0 gradients, 21.3 GFLOPs\n"
     ]
    },
    {
     "name": "stderr",
     "output_type": "stream",
     "text": [
      "\u001b[34m\u001b[1mval: \u001b[0mScanning val/labels.cache... 283 images, 0 backgrounds, 0 corrupt: 100%|██████████| 283/283 [00:00<?, ?it/s]\u001b[0m\n",
      "                 Class     Images  Instances      Box(P          R      mAP50  mAP50-95): 100%|██████████| 283/283 [01:18<00:00,  3.62it/s]\n"
     ]
    },
    {
     "name": "stdout",
     "output_type": "stream",
     "text": [
      "                   all        283        514       0.95      0.928      0.965      0.719\n",
      "Speed: 200.4ms preprocess, 62.7ms inference, 0.0ms loss, 2.2ms postprocess per image\n",
      "Saving /data/mtmoore/school/CSiML_AI395T/final_project/models/yolo11/iterative/validation/11s_3840imgsz_combined_149epochs-val/predictions.json...\n",
      "Results saved to \u001b[1m/data/mtmoore/school/CSiML_AI395T/final_project/models/yolo11/iterative/validation/11s_3840imgsz_combined_149epochs-val\u001b[0m\n",
      "Generating validation for model: yolo11s, image size: 3840px, epoch: best\n",
      "Ultralytics 8.3.29 🚀 Python-3.12.7 torch-2.4.0 CUDA:0 (NVIDIA GeForce RTX 4070 SUPER, 11904MiB)\n",
      "YOLO11s summary (fused): 238 layers, 9,413,187 parameters, 0 gradients, 21.3 GFLOPs\n"
     ]
    },
    {
     "name": "stderr",
     "output_type": "stream",
     "text": [
      "\u001b[34m\u001b[1mval: \u001b[0mScanning val/labels.cache... 283 images, 0 backgrounds, 0 corrupt: 100%|██████████| 283/283 [00:00<?, ?it/s]\u001b[0m\n",
      "                 Class     Images  Instances      Box(P          R      mAP50  mAP50-95): 100%|██████████| 283/283 [01:17<00:00,  3.66it/s]\n"
     ]
    },
    {
     "name": "stdout",
     "output_type": "stream",
     "text": [
      "                   all        283        514       0.95      0.928      0.965      0.719\n",
      "Speed: 197.8ms preprocess, 62.8ms inference, 0.0ms loss, 2.1ms postprocess per image\n",
      "Saving /data/mtmoore/school/CSiML_AI395T/final_project/models/yolo11/iterative/validation/11s_3840imgsz_combined_best-val/predictions.json...\n",
      "Results saved to \u001b[1m/data/mtmoore/school/CSiML_AI395T/final_project/models/yolo11/iterative/validation/11s_3840imgsz_combined_best-val\u001b[0m\n"
     ]
    }
   ],
   "source": [
    "project=\"/data/mtmoore/school/CSiML_AI395T/final_project/models/yolo11/iterative\"\n",
    "dataset=\"/data/mtmoore/school/CSiML_AI395T/final_project/dataset/yolov8_combined_train_dataset/\"\n",
    "\n",
    "os.chdir(dataset)\n",
    "camera=\"combined\"\n",
    "batchsizes = { \n",
    "               \"11n\": {  736: 16, 1440: 4, 2880: 2, 3840: 1 },\n",
    "               \"11s\": {  736: 16, 1440: 8, 2880: 2, 3840: 1 },\n",
    "               \"11m\": {  736: 16, 1440: 8, 2880: 2, 3840: 1 },\n",
    "               \"11l\": {  736: 16, 1440: 8, 2880: 2, 3840: 1 }\n",
    "             }\n",
    "max_epochs = 150\n",
    "for model_name in [\"11s\"]:\n",
    "    for imgsize in [3840]:\n",
    "    \n",
    "            name = f\"{model_name}_{imgsize}imgsz_{camera}_{max_epochs}epochs\"\n",
    "            if not os.path.exists( os.path.join(project, name) ):\n",
    "                print(f\"no model dir {os.path.join(project,name)}\")\n",
    "                continue\n",
    "\n",
    "            for i in list(range(0, max_epochs)) + [ 'best' ]:\n",
    "                print(f\"Generating validation for model: yolo{model_name}, image size: {imgsize}px, epoch: {i}\")\n",
    "                model = None\n",
    "                epoch_name = \"\"\n",
    "                model_epoch = \"\"\n",
    "                if isinstance(i, str):\n",
    "                    epoch_name = \"best\"\n",
    "                    model_epoch = \"best\"\n",
    "                else:\n",
    "                    epoch_name = f\"{i}epochs\"\n",
    "                    model_epoch = f\"epoch{i}\"\n",
    "\n",
    "                project_val = os.path.join(project, \"validation\")\n",
    "                project_name = f\"{model_name}_{imgsize}imgsz_{camera}_{epoch_name}-val\"\n",
    "                if os.path.exists( os.path.join(project_val, project_name, \"metrics.json\") ):\n",
    "                    print(f\"already completed validation on epoch {i} in {os.path.join(project, name)}\")\n",
    "                    continue\n",
    "\n",
    "                model = YOLO(f\"{project}/{name}/weights/{model_epoch}.pt\") \n",
    "                metrics = model.val(data=f\"{dataset}/data.yaml\", \\\n",
    "                                    project=project_val, name=project_name, save_json=True, plots=True, imgsz=imgsize, \n",
    "                                    batch=batchsizes[model_name][imgsize])\n",
    "                store_metrics = metrics.results_dict.copy()\n",
    "                store_metrics['category_mAP50-95'] = metrics.box.maps.tolist()\n",
    "                with open(os.path.join(project_val, project_name, \"metrics.json\"), \"w\") as o:\n",
    "                    o.write(json.dumps(store_metrics))"
   ]
  },
  {
   "cell_type": "code",
   "execution_count": null,
   "id": "3836f7a9-5cf3-4810-af00-7fd347d92e82",
   "metadata": {},
   "outputs": [],
   "source": []
  }
 ],
 "metadata": {
  "kernelspec": {
   "display_name": "csiml-final-ultralytics",
   "language": "python",
   "name": "csiml-final-ultralytics"
  },
  "language_info": {
   "codemirror_mode": {
    "name": "ipython",
    "version": 3
   },
   "file_extension": ".py",
   "mimetype": "text/x-python",
   "name": "python",
   "nbconvert_exporter": "python",
   "pygments_lexer": "ipython3",
   "version": "3.12.7"
  }
 },
 "nbformat": 4,
 "nbformat_minor": 5
}
